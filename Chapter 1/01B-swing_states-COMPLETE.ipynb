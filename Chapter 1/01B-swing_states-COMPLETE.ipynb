{
  "cells": [
    {
      "cell_type": "markdown",
      "metadata": {
        "cell_id": "075a9f1c-54ae-48b4-9710-0cbe3d2e0b01",
        "deepnote_cell_height": 260.703125,
        "deepnote_cell_type": "markdown",
        "tags": []
      },
      "source": "<div class=\"alert alert-block alert-danger\">\n\n# 1B: The Swing States (COMPLETE)\n\n*This notebook is intended for students who have completed up to:*\n \n**Chapter 1.5**\n\n</div>"
    },
    {
      "cell_type": "markdown",
      "metadata": {
        "cell_id": "00001-3cf35b57-482c-4b59-9bfa-cf8e023adefe",
        "deepnote_cell_height": 381.46875,
        "deepnote_cell_type": "markdown",
        "tags": []
      },
      "source": "<div class=\"alert alert-block alert-warning\">\n\n#### Summary of Notebook:\n\nIn the previous lesson, students explored the electoral college system used to determine presidential elections in the United States. In this notebook, we build on that knowledge to ask: *What is a swing state (also called battleground state) and why do candidates tend to campaign there? How does winning the swing states impact a candidate's likelihood of winning the electoral college?*\n\n#### Includes:\n\n- Distinguishing between variables and values in dataframes\n- Making new variables in a data frame\n- Classifying observations based on conditions (e.g., battleground states have close voter shares)\n\n\n</div>"
    },
    {
      "cell_type": "markdown",
      "metadata": {
        "cell_id": "00002-86398cd4-42eb-4e9a-9c3f-d11b9ec6dfba",
        "deepnote_cell_height": 163.9375,
        "deepnote_cell_type": "markdown",
        "tags": []
      },
      "source": "<div class=\"alert alert-block alert-success\">\n\n## Approximate time to complete Notebook: 60-75 Mins\n\n</div>"
    },
    {
      "cell_type": "code",
      "execution_count": null,
      "metadata": {
        "cell_id": "00003-32f23376-f147-45e0-8c0f-4ab6c1f37d71",
        "deepnote_cell_height": 400.953125,
        "deepnote_cell_type": "code",
        "deepnote_to_be_reexecuted": false,
        "execution_millis": 4989,
        "execution_start": 1660179652401,
        "output_cleared": false,
        "source_hash": "927819e1",
        "tags": [],
        "trusted": true
      },
      "outputs": [],
      "source": "# This code will load the R packages we will use\nsuppressPackageStartupMessages({\n    library(coursekata)\n})\n\n# Load the dataset\n# Create electoral_votes_per_million\nelections <- read.csv(\"https://docs.google.com/spreadsheets/d/e/2PACX-1vTMgaVH2HliUYh7W0xnahnavVq4oLU0rLkKwBvyBnJue2FPkl_O8kX6MZUQY1OwWl-QzQEciu7mc8jv/pub?output=csv\")\nelections <- elections %>%\n    mutate(electoral_votes_per_million = (electoral_votes/pop_size_2010) * 1000000)\n"
    },
    {
      "cell_type": "markdown",
      "metadata": {
        "cell_id": "00004-d7037908-6603-4ed0-b181-0b307db7caae",
        "deepnote_cell_height": 449.515625,
        "deepnote_cell_type": "markdown",
        "tags": []
      },
      "source": "<img src=\"https://i.postimg.cc/J7CjkGQR/image.png\" title = \"2015 Electoral College Map Swing States identified from the University of Virginia Center for Politics\" width = 80% />"
    },
    {
      "cell_type": "markdown",
      "metadata": {
        "cell_id": "00005-fd2e28c0-7f17-4a4c-b7e5-b7c11eebcb1e",
        "deepnote_cell_height": 234.3125,
        "deepnote_cell_type": "markdown",
        "tags": []
      },
      "source": "## The Electoral College and Swing States\n\nThe two major political parties know that if you win a state (even by only a little bit), you get **ALL** of its electoral votes. So which states are the ones where, with only a few more votes, they can get a whole LOT of electoral college votes? These are often called the *swing states* (also called *battleground states*).\n\nTake a look at the map above. The \"Toss-up\" states are certainly swing states but so are the \"Leans D\" and \"Leans R\" states. What are some famously \"swingy\" states?"
    },
    {
      "cell_type": "markdown",
      "metadata": {
        "cell_id": "e940cc4acf474926b3bfa23a730b1a41",
        "deepnote_cell_height": 153.53125,
        "deepnote_cell_type": "markdown",
        "tags": []
      },
      "source": "\n\nToday we will explore:\n- What makes a state a swing state? \n- Why do campaigns focus on them? \n- How does a state's \"swingness\" inform its voter power? \n"
    },
    {
      "cell_type": "markdown",
      "metadata": {
        "cell_id": "00006-b41054fe-6de4-4627-9fe8-c06d893f9064",
        "deepnote_cell_height": 93.953125,
        "deepnote_cell_type": "markdown",
        "owner_user_id": "52a894a5-3789-4f8c-bc49-427cc1339b77",
        "tags": []
      },
      "source": "### Motivating Question: Is it \"fair\" to have a system that focuses on swing states? "
    },
    {
      "cell_type": "markdown",
      "metadata": {
        "cell_id": "00007-9761f4fc-39ce-4bfa-8e80-7eac81212b7c",
        "deepnote_cell_height": 692.390625,
        "deepnote_cell_type": "markdown",
        "tags": []
      },
      "source": "### The Dataset\n\n##### Description\n\nThe `elections` data set shows electoral votes, population size, prior election results, and campaign information in all 50 states and DC. The dataset has tidy organization, with one row per state.\n\n##### Variables\n\n- `state`: Name of state\n- `state_code`: Two-letter abbreviation of state name\n- `R/D_votes_YYYY`: Number of votes for Republican and Democrat candidate in year YYYY\n- `pop_size_2010`: Population size of state as of 2010 Census (when number of electoral votes was determined)\n- `house_seats`: Number of house representatives based on 2010 Census (applies to elections between 2011-2020)\n- `senate_seats`: Number of senators (2 Senate seats per state)\n- `electoral_votes`: Number of electoral votes (towards the Electoral College) based on 2010 Census (applies to 2012, 2016, and 2020 presidential elections)\n- `campaign_events_2020`: Number of campaign events hosted by Presidential candidates in the state between Aug 28 - Nov 3, 2020\n\n\n##### Data Sources \n\n - **Election Results Data:** MIT Election Data and Science Lab, 2017, [\"U.S. President 1976–2020\"](https://doi.org/10.7910/DVN/42MVDX), Harvard Dataverse, V6. \n \n - **Campaign Event Data:** [FairVote](https://docs.google.com/spreadsheets/d/1oR_x3wGpFi1wO2V0BNMV529s_V-AgGH7tKd66DD7rrM/edit#gid=2025398596)\n\n - **Electoral College Info:** [archives.gov](https://www.archives.gov/electoral-college/allocation)"
    },
    {
      "cell_type": "markdown",
      "metadata": {
        "cell_id": "d35ad9565fb2426193f188cc5d41a682",
        "deepnote_cell_height": 115.9375,
        "deepnote_cell_type": "markdown",
        "tags": []
      },
      "source": "<div class=\"alert alert-block alert-success\">\n\n### 1.0 - Approximate Time:  20-25 mins\n\n</div>"
    },
    {
      "cell_type": "markdown",
      "metadata": {
        "cell_id": "00055-362a158c-9c2d-4420-a338-8e36999d1474",
        "deepnote_cell_height": 272.3125,
        "deepnote_cell_type": "markdown",
        "tags": []
      },
      "source": "### 1.0 - Invent a number that can help us identify swing states\n\nTo keep things a little simple, let's focus on the 2016 numbers rather than 2020.\n\nWe're trying to find the states that aren't *extremely* Republican nor *extremely* Democratic. Take a look at the variables in the data frame -- could we use any of these to figure out which states **are not** too extreme?\n\n**1.1 -** Try to come up with a new variable that could help us identify which states might be swing states."
    },
    {
      "cell_type": "code",
      "execution_count": null,
      "metadata": {
        "cell_id": "dd5f69366fb0409bbc364dab0575950c",
        "deepnote_cell_height": 368.953125,
        "deepnote_cell_type": "code",
        "deepnote_output_heights": [
          276.90625
        ],
        "deepnote_to_be_reexecuted": false,
        "execution_millis": 395,
        "execution_start": 1660179657493,
        "output_cleared": false,
        "source_hash": "507a6323",
        "tags": [],
        "trusted": true
      },
      "outputs": [],
      "source": "head(elections)"
    },
    {
      "cell_type": "code",
      "execution_count": null,
      "metadata": {
        "cell_id": "9d127076c7f147e0b7d86ea49ee8ab1f",
        "deepnote_cell_height": 806.40625,
        "deepnote_cell_type": "code",
        "deepnote_output_heights": [
          606.453125
        ],
        "deepnote_to_be_reexecuted": false,
        "execution_millis": 273,
        "execution_start": 1660179657567,
        "output_cleared": false,
        "source_hash": "cca1752e",
        "tags": [],
        "trusted": true
      },
      "outputs": [],
      "source": "# One possible idea:\n# get the difference between R and D votes;\n# those closer to 0 should be more \"swingy\"\n\nelections$swing <- elections$R_votes_2016 - elections$D_votes_2016\n\narrange(elections, swing)"
    },
    {
      "cell_type": "markdown",
      "metadata": {
        "cell_id": "9dfdbd81fa864a45900d00eacf34cab2",
        "deepnote_cell_height": 169.921875,
        "deepnote_cell_type": "markdown",
        "tags": []
      },
      "source": "**1.2 -** Arrange the states by the new variable you created. \n\nStates that are famously \"swingy\" tend to be states such as New Hampshire, Nevada, Michigan, Florida, Pennsylvania, Ohio (for more swing states, see the yellow, light blue, and pink states in the map at the top).\n\nDoes your new variable also identify those states as swing states? Why or why not?"
    },
    {
      "cell_type": "markdown",
      "metadata": {
        "cell_id": "8dac6df71bc042058b24f919e98ab16c",
        "deepnote_cell_height": 115.9375,
        "deepnote_cell_type": "markdown",
        "tags": []
      },
      "source": "<div class=\"alert alert-block alert-success\">\n\n### 2.0 - Approximate Time:  20-25 mins\n\n</div>"
    },
    {
      "cell_type": "markdown",
      "metadata": {
        "cell_id": "6fed7d4153e64019a4c06a5d1e12015e",
        "deepnote_cell_height": 246.3125,
        "deepnote_cell_type": "markdown",
        "tags": []
      },
      "source": "### 2.0 - Investigating measures of \"swingyness\"\n\nNow we will create and investigate a few variables that other people have invented (both in your class and in the world)!\n- `vote_diff`: the difference between votes for R and D\n- `R_percent`: the percentage of votes for R (could have also been D)\n- `R_diff_50`: how different the R percent is from .50\n\nKeep an eye out for the pros and cons of each way of measuring \"swingyness\"."
    },
    {
      "cell_type": "markdown",
      "metadata": {
        "cell_id": "5faaf18feb6940d08d964cbad516a53b",
        "deepnote_cell_height": 147.53125,
        "deepnote_cell_type": "markdown",
        "tags": []
      },
      "source": "**2.1 -** Below we have created `vote_diff` which simply takes the R votes in 2016 and subtracts the D votes for 2016. \n\nWe also arranged the data frame by this variable. Where are the famously swingy states?\n\n(Can we modify this variable to make it better?)"
    },
    {
      "cell_type": "code",
      "execution_count": null,
      "metadata": {
        "cell_id": "53ac01f2902f491d94ff166efec24838",
        "deepnote_cell_height": 752.40625,
        "deepnote_cell_type": "code",
        "deepnote_output_heights": [
          606.453125
        ],
        "deepnote_to_be_reexecuted": false,
        "execution_millis": 138,
        "execution_start": 1660179657910,
        "output_cleared": false,
        "source_hash": "809ff1cf",
        "tags": [],
        "trusted": true
      },
      "outputs": [],
      "source": "elections <- elections %>% \n    mutate(vote_diff = R_votes_2016 - D_votes_2016)\n\narrange(elections, vote_diff)"
    },
    {
      "cell_type": "code",
      "execution_count": null,
      "metadata": {
        "cell_id": "c5b7fd3d935b42b29a4718b03e781def",
        "deepnote_cell_height": 788.40625,
        "deepnote_cell_type": "code",
        "deepnote_output_heights": [
          606.453125
        ],
        "deepnote_to_be_reexecuted": false,
        "execution_millis": 389,
        "execution_start": 1660179658101,
        "output_cleared": false,
        "source_hash": "6693ba3",
        "tags": [],
        "trusted": true
      },
      "outputs": [],
      "source": "# sample modification\n# students might want to know how to take the absolute value -- abs() function\nelections <- elections %>% \n    mutate(vote_diff = abs(R_votes_2016 - D_votes_2016))\n\narrange(elections, vote_diff)"
    },
    {
      "cell_type": "markdown",
      "metadata": {
        "cell_id": "00056-f0932d77-c831-43f1-9d39-e673231d2570",
        "deepnote_cell_height": 133.53125,
        "deepnote_cell_type": "markdown",
        "tags": []
      },
      "source": "**2.2 -** Another approach is to see whether one party's votes comes close to 50%. Try creating a variable called `R_percent` that tells us the percentage of the votes cast for the Republican candidate in 2016.\n\nArrange the data frame by this variable. Where are the famously swingy states?\n"
    },
    {
      "cell_type": "code",
      "execution_count": null,
      "metadata": {
        "allow_embed": false,
        "cell_id": "166852311cb14deea24a20d88e97b289",
        "deepnote_cell_height": 919.40625,
        "deepnote_cell_type": "code",
        "deepnote_output_heights": [
          606.453125
        ],
        "deepnote_to_be_reexecuted": false,
        "execution_millis": 252,
        "execution_start": 1660179658545,
        "output_cleared": false,
        "source_hash": "eea1240e",
        "tags": [],
        "trusted": true
      },
      "outputs": [],
      "source": "# Sample Response\nelections$R_D_total_votes <- elections$D_votes_2016 + elections$R_votes_2016\nelections$R_percent <- elections$R_votes_2016 / elections$R_D_total_votes\n\n# Sample Response\nelections$R_percent <- elections$R_votes_2016 / (elections$D_votes_2016 + elections$R_votes_2016)\n\n# Sample Response\nelections <- elections %>% \n    mutate(R_percent = R_votes_2016 / (D_votes_2016 + R_votes_2016))\n\narrange(elections, R_percent)\n"
    },
    {
      "cell_type": "markdown",
      "metadata": {
        "cell_id": "00058-4118d524-77f0-4602-b36b-e819dcbcf87f",
        "deepnote_cell_height": 185.515625,
        "deepnote_cell_type": "markdown",
        "tags": []
      },
      "source": "<div class=\"alert alert-block alert-warning\">\n\n<b>Instructor Note:</b> \n\nThis is the percent among major-party voters. So, we are ignoring 3rd party candidate votes. Generally, whoever gets more votes among the two major parties wins all the electoral votes in a state, regardless of whether they get a true majority of votes among all voters.\n\n</div>"
    },
    {
      "cell_type": "markdown",
      "metadata": {
        "cell_id": "0c21e589d20b44979ddb03c844f74b4a",
        "deepnote_cell_height": 111.140625,
        "deepnote_cell_type": "markdown",
        "tags": []
      },
      "source": "**2.3 -** Yet another idea might be to take the percent of votes that went to one party (for example, `R_percent`) and see how different it is from .50. Create a variable called `R_diff_50`.\n\nArrange the data frame by this variable. Where are the famously swingy states?"
    },
    {
      "cell_type": "code",
      "execution_count": null,
      "metadata": {
        "cell_id": "f242721ee7da497db7a949100e3f949c",
        "deepnote_cell_height": 824.40625,
        "deepnote_cell_type": "code",
        "deepnote_output_heights": [
          606.453125
        ],
        "deepnote_to_be_reexecuted": false,
        "execution_millis": 179,
        "execution_start": 1660179658795,
        "output_cleared": false,
        "source_hash": "10d45172",
        "tags": [],
        "trusted": true
      },
      "outputs": [],
      "source": "# Sample Response\nelections$R_diff_50 <- abs(.50 - elections$R_percent)\n\n# Sample Response\nelections <- elections %>%\n    mutate(R_diff_50 = abs(.50 - R_percent))\n\narrange(elections, R_diff_50)"
    },
    {
      "cell_type": "markdown",
      "metadata": {
        "cell_id": "67350dfdf12949fd8715b1531a3d3f42",
        "deepnote_cell_height": 97.140625,
        "deepnote_cell_type": "markdown",
        "tags": []
      },
      "source": "**2.4 -** Which of these three variables (`vote_diff`, `R_percent`, `R_diff_50`) seem like the best measure of swingyness? Which one identifies a lot of the states that are considered \"toss ups\" in the map at the beginning of this notebook?"
    },
    {
      "cell_type": "markdown",
      "metadata": {
        "cell_id": "e34a47b17014477aa98d17c3daca680e",
        "deepnote_cell_height": 207.90625,
        "deepnote_cell_type": "markdown",
        "tags": []
      },
      "source": "<div class=\"alert alert-block alert-warning\">\n\n<b>Sample Response:</b> \n\nOne reason to prefer the percentage-based measures of swingyness is that states that are small will have a small difference between R and D votes (a small `vote_diff`) but they also have small numbers of electoral college votes. We might perfer to go after a state that is quite large but has a relatively small number of voters tipping it over into one party or another.\n\n</div>"
    },
    {
      "cell_type": "markdown",
      "metadata": {
        "cell_id": "96fcb814c0ea4bd5b073ee4a958dac08",
        "deepnote_cell_height": 115.9375,
        "deepnote_cell_type": "markdown",
        "tags": []
      },
      "source": "<div class=\"alert alert-block alert-success\">\n\n### 3.0 - Approximate Time:  20-25 mins\n\n</div>"
    },
    {
      "cell_type": "markdown",
      "metadata": {
        "cell_id": "cd00accfef9c4e45a00055a347470613",
        "deepnote_cell_height": 122.734375,
        "deepnote_cell_type": "markdown",
        "tags": []
      },
      "source": "### 3.0 - Which are the swing states?\n\nSo far we have created several quantitative measures of swingyness. In this section we will use one of those measures (`R_diff_50`) to categorize a state as a swing state or not."
    },
    {
      "cell_type": "markdown",
      "metadata": {
        "cell_id": "00059-80772ecc-e314-483e-ae29-04eab45e767e",
        "deepnote_cell_height": 214.71875,
        "deepnote_cell_type": "markdown",
        "tags": []
      },
      "source": "Let's define a swing state as any state in which the Republican percentage of votes is only .02 away from .50. That means that if just .02 (or 2%) of the votes in that state change, the whole state would be won by a different party! \n\nBelow we have put in some code for a new function called `ifelse()` that says if the `R_diff_50` is less than .08, then it is considered a \"swing\" state, else it is considered a \"non-swing\" state.\n\n**3.1 -** Change the code to reflect our definition of a swing state. Also save the results back into the `elections` data frame."
    },
    {
      "cell_type": "markdown",
      "metadata": {
        "cell_id": "0d6136fd6a414160bbc9ee4107adcad2",
        "deepnote_cell_height": 163.125,
        "deepnote_cell_type": "markdown",
        "tags": []
      },
      "source": "<div class=\"alert alert-block alert-warning\">\n\n<b>Note to Instructors:</b> \n\nWe called the variable `swing_state` in our example code but your students might pick something else.\n\n</div>"
    },
    {
      "cell_type": "code",
      "execution_count": null,
      "metadata": {
        "cell_id": "00060-92f995e7-6098-4bda-8395-9ef7e568552a",
        "deepnote_cell_height": 246.375,
        "deepnote_cell_type": "code",
        "deepnote_output_heights": [
          136.421875
        ],
        "deepnote_to_be_reexecuted": false,
        "execution_millis": 2,
        "execution_start": 1660179659021,
        "output_cleared": false,
        "source_hash": "14aa58af",
        "tags": [],
        "trusted": true
      },
      "outputs": [],
      "source": "# Run this code\nifelse(elections$R_diff_50 < .08, \"swing\", \"not_swing\")"
    },
    {
      "cell_type": "code",
      "execution_count": null,
      "metadata": {
        "cell_id": "6f76a4b4017b48f6b31ceaca1c52eca1",
        "deepnote_cell_height": 494.953125,
        "deepnote_cell_type": "code",
        "deepnote_output_heights": [
          276.90625
        ],
        "deepnote_to_be_reexecuted": false,
        "execution_millis": 95,
        "execution_start": 1660179659022,
        "output_cleared": false,
        "source_hash": "e030fe34",
        "tags": [],
        "trusted": true
      },
      "outputs": [],
      "source": "# Sample Solution\nelections$swing_state <- ifelse(elections$R_diff_50 < .02, \"swing\", \"not_swing\")\n\n# Sample Solution\nelections <- elections %>%\n    mutate(swing_state = ifelse(R_diff_50 < .02, \"swing\", \"not_swing\"))\n\nhead(elections)"
    },
    {
      "cell_type": "markdown",
      "metadata": {
        "cell_id": "00061-fed0aa92-47b0-42db-8b17-1809206d2f6d",
        "deepnote_cell_height": 163.125,
        "deepnote_cell_type": "markdown",
        "tags": []
      },
      "source": "<div class=\"alert alert-block alert-warning\">\n\n<b>Instructor Note:</b> \n\nWe don't teach the `mutate` command in the textbook, but it's a useful one to learn. So, you may want to directly guide students on this question.\n\n</div>"
    },
    {
      "cell_type": "markdown",
      "metadata": {
        "cell_id": "00062-f7cb1c63-2bdd-41b5-b548-17ec651ec852",
        "deepnote_cell_height": 74.75,
        "deepnote_cell_type": "markdown",
        "tags": []
      },
      "source": "**3.2 -** Which states are considered swing states (as defined by **our class**)? Does this list correspond to the states we identified using the map above?"
    },
    {
      "cell_type": "code",
      "execution_count": null,
      "metadata": {
        "cell_id": "00063-6c1dc552-3b40-4c1b-8373-806ebd0294fb",
        "deepnote_cell_height": 502.953125,
        "deepnote_cell_type": "code",
        "deepnote_output_heights": [
          392.875
        ],
        "deepnote_to_be_reexecuted": false,
        "execution_millis": 76,
        "execution_start": 1660179659114,
        "output_cleared": false,
        "source_hash": "c43b09d7",
        "tags": [],
        "trusted": true
      },
      "outputs": [],
      "source": "# Sample Response\nfilter(elections, swing_state == \"swing\")"
    },
    {
      "cell_type": "markdown",
      "metadata": {
        "cell_id": "87664c5cd118447bafd66ea8d5c80884",
        "deepnote_cell_height": 74.75,
        "deepnote_cell_type": "markdown",
        "tags": []
      },
      "source": "**3.3 -** Play around with our definition of a swing state (can be flipped by just .02 of the votes). Can you find a better definition?"
    },
    {
      "cell_type": "markdown",
      "metadata": {
        "cell_id": "25f78c33bbeb4a3ab4b2d75317cfdf59",
        "deepnote_cell_height": 115.9375,
        "deepnote_cell_type": "markdown",
        "tags": []
      },
      "source": "<div class=\"alert alert-block alert-success\">\n\n### 4.0 - Approximate Time:  20-25 mins\n\n</div>"
    },
    {
      "cell_type": "markdown",
      "metadata": {
        "cell_id": "920566420c34494cae2028ff024da1b1",
        "deepnote_cell_height": 61.953125,
        "deepnote_cell_type": "markdown",
        "tags": []
      },
      "source": "### 4.0 - Do the political parties cater to the swing states?"
    },
    {
      "cell_type": "markdown",
      "metadata": {
        "cell_id": "6d607345aedd42e0b4664164a0e7de37",
        "deepnote_cell_height": 207.90625,
        "deepnote_cell_type": "markdown",
        "tags": []
      },
      "source": "<div class=\"alert alert-block alert-warning\">\n\n<b>Instructor Note:</b> \n\nThis section includes visualizations in R, which is not reviewed until chapter 2, so based on your own judgment you may choose to generate the plots for the students or challenge them to generate the plots on their own. You can also use this as an opportunity to teach students faceted histograms or coloring by a categorical variable.\n\n</div>"
    },
    {
      "cell_type": "markdown",
      "metadata": {
        "cell_id": "00064-e61681dc-ff4c-41e3-8317-60566ef88840",
        "deepnote_cell_height": 133.53125,
        "deepnote_cell_type": "markdown",
        "tags": []
      },
      "source": "**4.1 -** The variable `campaign_events_2020` shows the number of Presidential campaign events/rallies candidates held in each state in the months leading up to the 2020 election (August - November, 2020). Explore variation in campaign events with a visualization.\n\nHow are campaign events distributed?"
    },
    {
      "cell_type": "code",
      "execution_count": null,
      "metadata": {
        "cell_id": "97cfc7a603cf4aafbbcbfce8597d0e63",
        "deepnote_cell_height": 554.96875,
        "deepnote_cell_type": "code",
        "deepnote_output_heights": [
          445.015625
        ],
        "deepnote_to_be_reexecuted": false,
        "execution_millis": 791,
        "execution_start": 1660179659243,
        "output_cleared": false,
        "source_hash": "bd3a7923",
        "tags": [],
        "trusted": true
      },
      "outputs": [],
      "source": "#sample answer\ngf_histogram(~ campaign_events_2020, data = elections)"
    },
    {
      "cell_type": "markdown",
      "metadata": {
        "cell_id": "474146d3f42b4ccbaf867f404695175a",
        "deepnote_cell_height": 163.125,
        "deepnote_cell_type": "markdown",
        "tags": []
      },
      "source": "<div class=\"alert alert-block alert-warning\">\n\n<b>Sample Response:</b> \n\nThere are many states that get basically NO campaign events and a few states with a lot of them (like 30 or 40).\n\n</div>"
    },
    {
      "cell_type": "markdown",
      "metadata": {
        "cell_id": "c1635b93d1ff4897bbb5eda30261be82",
        "deepnote_cell_height": 74.75,
        "deepnote_cell_type": "markdown",
        "tags": []
      },
      "source": "**4.2 -** Create a visualization to explore the relationship between whether states are swing states and the number of campaign events they hosted. Describe what you see."
    },
    {
      "cell_type": "code",
      "execution_count": null,
      "metadata": {
        "allow_embed": false,
        "cell_id": "938e4f36fb8b48bfb454b3edf277dfa8",
        "deepnote_cell_height": 1632.984375,
        "deepnote_cell_type": "code",
        "deepnote_output_heights": [
          445.015625,
          445.015625,
          445.015625
        ],
        "deepnote_to_be_reexecuted": false,
        "execution_millis": 1434,
        "execution_start": 1660179660054,
        "output_cleared": false,
        "source_hash": "9b351407",
        "tags": [],
        "trusted": true
      },
      "outputs": [],
      "source": "#sample answer\ngf_histogram(~ campaign_events_2020, fill = ~swing_state, data = elections)\n\ngf_histogram(~ campaign_events_2020, fill = ~swing_state, data = elections) %>%\ngf_facet_grid(swing_state ~ .)\n\n\n# Sample Response\ngf_jitter(campaign_events_2020 ~ swing, data = elections, width = 0.2)"
    },
    {
      "cell_type": "markdown",
      "metadata": {
        "cell_id": "00066-5546c927-5d9b-4c81-a251-e11b1ee2d59a",
        "deepnote_cell_height": 140.71875,
        "deepnote_cell_type": "markdown",
        "tags": []
      },
      "source": "<div class=\"alert alert-block alert-warning\">\n\n<b> Sample Response: </b> \n\nClearly, campaigns decide to hold more events in swing states, compared to non-swing states. \n</div>"
    },
    {
      "cell_type": "markdown",
      "metadata": {
        "cell_id": "4533213060e04a53bd2aa1c37fb7c390",
        "deepnote_cell_height": 115.9375,
        "deepnote_cell_type": "markdown",
        "tags": []
      },
      "source": "<div class=\"alert alert-block alert-success\">\n\n### 5.0 - Approximate Time:  20-25 mins\n\n</div>"
    },
    {
      "cell_type": "markdown",
      "metadata": {
        "cell_id": "ed2e16ba880d41d3bca5a614389d2196",
        "deepnote_cell_height": 61.953125,
        "deepnote_cell_type": "markdown",
        "tags": []
      },
      "source": "### 5.0 - *Why* do campaigns focus on swing states?"
    },
    {
      "cell_type": "markdown",
      "metadata": {
        "cell_id": "00067-441b3e57-0a7c-4c1a-adc2-1af2f0301c16",
        "deepnote_cell_height": 111.140625,
        "deepnote_cell_type": "markdown",
        "tags": []
      },
      "source": "To see why campaigns focus on swing states, let's think about what can happen if campaigns convinced voters to \"switch sides\" in different states.\n\n**5.1 -** First, find the number of electoral votes won by the Republican candidate in 2016."
    },
    {
      "cell_type": "code",
      "execution_count": null,
      "metadata": {
        "cell_id": "00068-acbc64fe-755a-4e63-80a0-1eaba20dbf13",
        "deepnote_cell_height": 255.3125,
        "deepnote_cell_type": "code",
        "deepnote_output_heights": [
          21.1875,
          21.1875
        ],
        "deepnote_to_be_reexecuted": false,
        "execution_millis": 56,
        "execution_start": 1660179661489,
        "output_cleared": false,
        "source_hash": "77fb0709",
        "tags": [],
        "trusted": true
      },
      "outputs": [],
      "source": "# Sample Response\nR_win <- filter(elections, R_percent > 0.5)\nsum(R_win$electoral_votes)\n\n# Sample Response\nsum(filter(elections, R_percent > 0.5)$electoral_votes)"
    },
    {
      "cell_type": "markdown",
      "metadata": {
        "cell_id": "00069-2233b3d4-48f2-4090-ade0-d70b5092eb97",
        "deepnote_cell_height": 185.515625,
        "deepnote_cell_type": "markdown",
        "tags": []
      },
      "source": "<div class=\"alert alert-block alert-warning\">\n\n<b>Instructor Note:</b> \n\nHere, it's important to emphasize that state electoral votes are \"winner-take-all.\" This means, the party that wins a majority of votes (among the two major parties) gets all the electoral votes from a state.\n\n</div>"
    },
    {
      "cell_type": "markdown",
      "metadata": {
        "cell_id": "00070-0411afa4-de3d-495c-a3cd-c961b771ff9f",
        "deepnote_cell_height": 97.140625,
        "deepnote_cell_type": "markdown",
        "tags": []
      },
      "source": "**5.2 -** But what if, in 2016, we imagined that Republicans got 2% fewer votes in every state. Find the new number of electoral votes won by Republican candidate in 2016. Do the Republicans still win? Note: You need 270 electoral votes to win the Presidency."
    },
    {
      "cell_type": "markdown",
      "metadata": {
        "cell_id": "584adb04174e41488c09cfd2d64a2be4",
        "deepnote_cell_height": 163.125,
        "deepnote_cell_type": "markdown",
        "tags": []
      },
      "source": "<div class=\"alert alert-block alert-warning\">\n\n<b>Instructor Note:</b> \n\nYou may or may not want to give this hint to students: They can also think of this as they had to win by getting 52% of votes rather than only 50%. \n\n</div>"
    },
    {
      "cell_type": "code",
      "execution_count": null,
      "metadata": {
        "cell_id": "00071-34ebe18f-4a88-443b-b07b-9ebe74a6be96",
        "deepnote_cell_height": 397.953125,
        "deepnote_cell_type": "code",
        "deepnote_output_heights": [
          21.1875,
          21.1875,
          21.1875
        ],
        "deepnote_to_be_reexecuted": false,
        "execution_millis": 184,
        "execution_start": 1660179661597,
        "output_cleared": false,
        "source_hash": "bc02f626",
        "tags": [],
        "trusted": true
      },
      "outputs": [],
      "source": "# Sample Response\nelections$imagine_2_less <- elections$R_percent - .02\nR_win <- filter(elections, imagine_2_less > 0.50)\nsum(R_win$electoral_votes)\n\n# Sample Response\nR_win <- filter(elections, R_percent > 0.52)\nsum(R_win$electoral_votes)\n\n# Sample Response\nsum(filter(elections, R_percent > 0.52)$electoral_votes)"
    },
    {
      "cell_type": "markdown",
      "metadata": {
        "cell_id": "00072-23fcdf6a-4ef4-46ed-91be-33fc9f8938f9",
        "deepnote_cell_height": 140.71875,
        "deepnote_cell_type": "markdown",
        "tags": []
      },
      "source": "<div class=\"alert alert-block alert-warning\">\n\n<b> Sample Response: </b> \n\nThe Republicans would now lose the presidency (fewer than 270 electoral votes).\n\n</div>"
    },
    {
      "cell_type": "markdown",
      "metadata": {
        "cell_id": "00073-1ba7c311-9215-4d8c-b6d5-881a3446b08f",
        "deepnote_cell_height": 169.515625,
        "deepnote_cell_type": "markdown",
        "tags": []
      },
      "source": "<div class=\"alert alert-block alert-info\">\n\n<b> <font size=\"+1\">Key Question</font></b>\n\n**5.3 -** Which states do you think \"made the difference\" between the Republicans winning or losing the electoral college after the 2% voter share decline? Explain.\n\n</div>"
    },
    {
      "cell_type": "markdown",
      "metadata": {
        "cell_id": "00074-0b624568-68f3-4b44-8566-a8b5de6494b9",
        "deepnote_cell_height": 361.875,
        "deepnote_cell_type": "markdown",
        "tags": []
      },
      "source": "<div class=\"alert alert-block alert-warning\">\n\n<b> Sample Response: </b> \n\nThe swing states. A 2% change could switch all of a swing states' electoral votes from one candidate to the other.\n\nIn states that lean heavily one way or another, the 2% change won't make a difference in who wins the state and, therefore, who gets all the electoral votes. <br><br>\n\n<b>Instructor Note:</b> \n\nSome students might try to go back to the dataset to investigate. Instead, encourage them to think through how they defined swing vs. non-swing states. From this definition alone, they should be able to infer which states made the difference.\n\n</div>"
    },
    {
      "cell_type": "code",
      "execution_count": null,
      "metadata": {
        "cell_id": "0f403230bf2c469183de16d150980de5",
        "deepnote_cell_height": 129.953125,
        "deepnote_cell_type": "code",
        "deepnote_to_be_reexecuted": false,
        "execution_millis": 174,
        "execution_start": 1660179661779,
        "output_cleared": false,
        "source_hash": "a89aaf53",
        "tags": [],
        "trusted": true
      },
      "outputs": [],
      "source": "# If you want to show students how the swing states changed\nelections$imagine_2_less <- elections$R_percent - .02\nR_win <- filter(elections, R_percent > 0.50)\narrange(select(R_win, state, swing, R_percent, imagine_2_less), imagine_2_less)"
    },
    {
      "cell_type": "markdown",
      "metadata": {
        "cell_id": "00075-669abb29-0c52-4c29-bcd6-83f4b1f7c509",
        "deepnote_cell_height": 119.53125,
        "deepnote_cell_type": "markdown",
        "tags": []
      },
      "source": "**5.4 -** To further explore the deciding power of swing states, use the dataframe you created to find the number of swing states won by the Republican (Donald Trump) in 2016 and 2020. Based on these quantities, do you think swing states factored into Donald Trump's win in 2016 and loss in 2020?"
    },
    {
      "cell_type": "code",
      "execution_count": null,
      "metadata": {
        "cell_id": "00076-17c0b3a4-811c-4a69-a566-2a0f373c1221",
        "deepnote_cell_height": 422.96875,
        "deepnote_cell_type": "code",
        "deepnote_to_be_reexecuted": false,
        "execution_millis": 150,
        "execution_start": 1660179661946,
        "output_cleared": false,
        "owner_user_id": "23d85493-7ed1-49a4-baa7-630eaab08193",
        "source_hash": "a2eabdc6",
        "tags": [],
        "trusted": true
      },
      "outputs": [],
      "source": "#just swing states\nelections_swing <- filter(elections, swing_state == \"swing\")\n\n\n# Sample Response\nelections_swing$Trump2016 <- elections_swing$R_votes_2016 > elections_swing$D_votes_2016\nprint(\"Swing states won by Trump in 2016\")\ntally(~ Trump2016, data = elections_swing)\n\nelections_swing$Trump2020 <- elections_swing$R_votes_2020 > elections_swing$D_votes_2020\nprint(\"Swing states won by Trump in 2020\")\ntally(~ Trump2020, data = elections_swing)\n\n\n# Sample Response\nprint(\"Swing states won by Trump in 2016\")\nsum(elections_swing$R_votes_2016 > elections_swing$D_votes_2016)\n\nprint(\"Swing states won by Trump in 2020\")\nsum(elections_swing$R_votes_2020 > elections_swing$D_votes_2020)"
    },
    {
      "cell_type": "markdown",
      "metadata": {
        "cell_id": "00077-a4972f89-e9a6-4a96-8eb4-8efae3509ffe",
        "deepnote_cell_height": 163.125,
        "deepnote_cell_type": "markdown",
        "tags": []
      },
      "source": "<div class=\"alert alert-block alert-warning\">\n\n<b> Sample Response: </b> \n\nWinning swing states seems to be helpful. In 2016, Donald Trump won more swing states than in 2020.\n\n</div>"
    },
    {
      "cell_type": "markdown",
      "metadata": {
        "cell_id": "00078-ecbf2fbc-272f-40a6-97aa-585731ee6379",
        "deepnote_cell_height": 179.125,
        "deepnote_cell_type": "markdown",
        "tags": []
      },
      "source": "<div class=\"alert alert-block alert-info\">\n\n<b> <font size=\"+2\">Key Question</font></b>\n\n**5.5 -** Is it \"fair\" that swing state voters get more deciding power than non-swing state voters? Why or why not?\n\n</div>"
    },
    {
      "cell_type": "markdown",
      "metadata": {
        "cell_id": "00079-96945702-3cab-4c50-a750-3d355c575243",
        "deepnote_cell_height": 407.046875,
        "deepnote_cell_type": "markdown",
        "tags": []
      },
      "source": "<div class=\"alert alert-block alert-warning\">\n\n<b> Sample Responses: </b>\n\n<li> Yes - In a popular vote system, politicians might ignore the issues of small states, since there are more votes to gain from large states. Because the electoral college turns some small states into more empowered \"swing states,\" the issues of at least some small states will be heard by those in power. Plus, it's not like voters have no options. If they'd like their vote to have the same power as a vote in a swing state, they should move to one!\n<li>No - There is no reason that a vote from one state should be more likely to decide electoral outcomes than a vote from another state. It means that voter power isn't evenly distributed between voters, which is inherently unfair. <br><br>\n\n<b>Instructor Note:</b> \n\nThis question can be set up as a debate between students. If students heavily lean towards one side, consider making the argument for the other side to challenge the group.\n\n</div>"
    }
  ],
  "metadata": {
    "deepnote": {
      "is_reactive": false
    },
    "deepnote_execution_queue": [],
    "deepnote_notebook_id": "5694862c-1d19-48ce-9ef8-0858655dc5e9",
    "kernelspec": {
      "display_name": "R",
      "language": "R",
      "name": "ir"
    },
    "language_info": {
      "codemirror_mode": "r",
      "file_extension": ".r",
      "mimetype": "text/x-r-source",
      "name": "R",
      "pygments_lexer": "r",
      "version": "4.0.3"
    },
    "nbsimplegrader": {
      "publish_config": {
        "classes": [],
        "options": [],
        "tools": []
      }
    }
  },
  "nbformat": 4,
  "nbformat_minor": 2
}