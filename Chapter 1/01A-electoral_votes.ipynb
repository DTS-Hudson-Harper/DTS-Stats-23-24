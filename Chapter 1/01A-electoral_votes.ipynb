{
  "cells": [
    {
      "cell_type": "markdown",
      "metadata": {
        "cell_id": "862230a4778f42b39d2e60cc123850c3",
        "deepnote_cell_height": 128.953125,
        "deepnote_cell_type": "markdown",
        "tags": []
      },
      "source": "# 1A: The Electoral College"
    },
    {
      "cell_type": "code",
      "execution_count": null,
      "metadata": {
        "cell_id": "00001-56147e86-bb54-40bf-afd4-8d116c1cd76f",
        "deepnote_cell_height": 129.953125,
        "deepnote_cell_type": "code",
        "deepnote_to_be_reexecuted": false,
        "execution_millis": 1711,
        "execution_start": 1660178914571,
        "output_cleared": true,
        "source_hash": "116f7300",
        "tags": [],
        "trusted": true
      },
      "outputs": [],
      "source": "# This code will load the R packages we will use\nsuppressPackageStartupMessages({\n    library(coursekata)\n})"
    },
    {
      "cell_type": "markdown",
      "metadata": {
        "cell_id": "00002-9ae47bb6-c120-4b75-8b0e-4dc3dc0c362f",
        "deepnote_cell_height": 472.671875,
        "deepnote_cell_type": "markdown",
        "tags": []
      },
      "source": "<img src=\"https://i.postimg.cc/QhnLmJvj/2012-Electoral-College-Map.png\" title = \"2012 Electoral College Map with Population Vote Margin for Each State\" width = 80% />"
    },
    {
      "cell_type": "markdown",
      "metadata": {
        "cell_id": "00003-0d47d8a9-7a49-45a7-a9f7-671d2679095f",
        "deepnote_cell_height": 296.71875,
        "deepnote_cell_type": "markdown",
        "tags": []
      },
      "source": "## The Electoral College and \"Fair\" Representation\n\nOur method for voting for a U.S. president is a bit ... weird. Instead of a simple popular vote (whoever gets the most votes wins), we count \"electoral votes\" among each state. If you win a state (even by only a little bit), you get **ALL** its electoral votes. If you can obtain the majority (270) of the total 538 electoral votes, you win the presidency.\n\nThe system can lead to some *interesting* results. For example, five U.S. Presidents did not win as many votes as their opponents; yet, they still won the Presidency due to the Electoral College system."
    },
    {
      "cell_type": "markdown",
      "metadata": {
        "cell_id": "00004-a759a035-c1d0-4de4-b8b6-74c0464d1089",
        "deepnote_cell_height": 61.953125,
        "deepnote_cell_type": "markdown",
        "owner_user_id": "52a894a5-3789-4f8c-bc49-427cc1339b77",
        "tags": []
      },
      "source": "### Motivating Question:  Is The Electoral College Fair? "
    },
    {
      "cell_type": "markdown",
      "metadata": {
        "cell_id": "00005-c12d5aa1-3145-4e23-af2e-7fd883328243",
        "deepnote_cell_height": 692.390625,
        "deepnote_cell_type": "markdown",
        "tags": []
      },
      "source": "### The Dataset\n\n##### Description\n\nThe `elections` data set shows electoral votes, population size, prior election results, and campaign information in all 50 states and DC. The dataset has tidy organization, with one row per state.\n\n##### Variables\n\n- `state`: Name of state\n- `state_code`: Two-letter abbreviation of state name\n- `R/D_votes_YYYY`: Number of votes for Republican and Democrat candidate in year YYYY\n- `pop_size_2010`: Population size of state as of 2010 Census (when number of electoral votes was determined)\n- `house_seats`: Number of house representatives based on 2010 Census (applies to elections between 2011-2020)\n- `senate_seats`: Number of senators (2 Senate seats per state)\n- `electoral_votes`: Number of electoral votes (towards the Electoral College) based on 2010 Census (applies to 2012, 2016, and 2020 presidential elections)\n- `campaign_events_2020`: Number of campaign events hosted by Presidential candidates in the state between Aug 28 - Nov 3, 2020\n\n\n##### Data Sources \n\n - **Election Results Data:** MIT Election Data and Science Lab, 2017, [\"U.S. President 1976–2020\"](https://doi.org/10.7910/DVN/42MVDX), Harvard Dataverse, V6. \n \n - **Campaign Event Data:** [FairVote](https://docs.google.com/spreadsheets/d/1oR_x3wGpFi1wO2V0BNMV529s_V-AgGH7tKd66DD7rrM/edit#gid=2025398596)\n\n - **Electoral College Info:** [archives.gov](https://www.archives.gov/electoral-college/allocation)\n"
    },
    {
      "cell_type": "markdown",
      "metadata": {
        "cell_id": "00006-8f6d4983-4f08-4871-9ead-6dd442f6af79",
        "deepnote_cell_height": 61.953125,
        "deepnote_cell_type": "markdown",
        "tags": []
      },
      "source": "### 1.0 - Exploring Electoral Votes"
    },
    {
      "cell_type": "markdown",
      "metadata": {
        "cell_id": "00008-a95f5e21-6e23-4ee0-81ca-df0aea4f6d8a",
        "deepnote_cell_height": 52.359375,
        "deepnote_cell_type": "markdown",
        "tags": []
      },
      "source": "**1.1 -** Run the following codeblock to download the dataset and display the first few rows."
    },
    {
      "cell_type": "code",
      "execution_count": null,
      "metadata": {
        "cell_id": "00009-fca6042d-b624-4902-918b-b9db8d494eb5",
        "deepnote_cell_height": 409.859375,
        "deepnote_cell_type": "code",
        "deepnote_output_heights": [
          276.90625
        ],
        "deepnote_to_be_reexecuted": false,
        "execution_millis": 1472,
        "execution_start": 1660178916321,
        "output_cleared": false,
        "source_hash": "2b3bfca8",
        "tags": [],
        "trusted": true
      },
      "outputs": [],
      "source": "#Load the dataset\nelections <- read.csv(\"https://docs.google.com/spreadsheets/d/e/2PACX-1vTMgaVH2HliUYh7W0xnahnavVq4oLU0rLkKwBvyBnJue2FPkl_O8kX6MZUQY1OwWl-QzQEciu7mc8jv/pub?output=csv\")\nhead(elections)"
    },
    {
      "cell_type": "markdown",
      "metadata": {
        "cell_id": "00012-82a9cf04-0dcd-41c8-8ea4-ab95664388a9",
        "deepnote_cell_height": 214.296875,
        "deepnote_cell_type": "markdown",
        "tags": []
      },
      "source": "<div class=\"alert alert-block alert-info\">\n\n<b> <font size=\"+1\">Key Question</font></b>\n\n<br>\n\n**1.2 -** Look closely at the last few columns of the dataset. How do you think electoral college votes are calculated for each state? Is there a minimum number of electoral votes a state can have? Justify your answer.\n\n</div>"
    },
    {
      "cell_type": "markdown",
      "metadata": {
        "cell_id": "00014-dfecafb6-5f01-47b2-8412-79157bd920c3",
        "deepnote_cell_height": 74.75,
        "deepnote_cell_type": "markdown",
        "tags": []
      },
      "source": "**1.3 -** Which state has the most electoral votes? Why do you think this state has the highest number of votes? "
    },
    {
      "cell_type": "markdown",
      "metadata": {
        "cell_id": "00017-c33b1966-2826-4a62-b740-9e11f6b6310f",
        "deepnote_cell_height": 74.75,
        "deepnote_cell_type": "markdown",
        "tags": []
      },
      "source": "**1.4 -** Using an appropriate visualization, display and describe the distribution of the number of electoral votes per state."
    },
    {
      "cell_type": "markdown",
      "metadata": {
        "cell_id": "00020-29c8c9c6-c298-4f9d-a89d-19025e8dd649",
        "deepnote_cell_height": 97.140625,
        "deepnote_cell_type": "markdown",
        "tags": []
      },
      "source": "**1.5 -** Take a look at the states with the lowest number of electoral votes with the code block below. How many states are tied for the lowest number of electoral votes? Why do you think they have the *same* number of electoral votes?"
    },
    {
      "cell_type": "code",
      "execution_count": null,
      "metadata": {
        "cell_id": "81124e70cb8146eeaec8d4c8787699ea",
        "deepnote_cell_height": 502.8125,
        "deepnote_cell_type": "code",
        "deepnote_output_heights": [
          392.875
        ],
        "deepnote_to_be_reexecuted": false,
        "execution_millis": 874,
        "execution_start": 1660178919780,
        "output_cleared": false,
        "source_hash": "39f4a318",
        "tags": [],
        "trusted": true
      },
      "outputs": [],
      "source": "elections_ordered <- arrange(elections, electoral_votes)\nhead(elections_ordered, 10)"
    },
    {
      "cell_type": "markdown",
      "metadata": {
        "cell_id": "a12890da09ac4300a5159a162384adab",
        "deepnote_cell_height": 61.953125,
        "deepnote_cell_type": "markdown",
        "tags": []
      },
      "source": "### 2.0 - Results from Votes vs. Electoral College"
    },
    {
      "cell_type": "markdown",
      "metadata": {
        "cell_id": "00022-2b4d1ad3-6c64-4979-9a4e-c74bb579d073",
        "deepnote_cell_height": 178.328125,
        "deepnote_cell_type": "markdown",
        "tags": []
      },
      "source": "States with different population sizes sometimes have the same number of electoral votes (see last question). In addition, the Electoral College is winner-take-all. This means that if 51% of voters in a state cast a ballot for a certain candidate, that candidate wins ALL of the state's Electoral Votes. The difference between popular votes and electoral college votes can be surprising.\n\nLet's look at 2020 and 2016 -- which party (R or D) won the popular vote? Who won the electoral college vote (and became president)?"
    },
    {
      "cell_type": "markdown",
      "metadata": {
        "cell_id": "fc49d9822b4b4729b3334805e2da9cf7",
        "deepnote_cell_height": 169.53125,
        "deepnote_cell_type": "markdown",
        "tags": []
      },
      "source": "#### 2020\n\n**2.1 -** Which candidate (R or D) won the popular vote? (Use the `elections` data frame to figure this out.)\n\n**2.2 -** You can view the outcome of the 2020 election [here](https://www.270towin.com/2020_Election/interactive_map). Do the vote totals you calculated above align with the actual election outcome (as determined by the electoral college)?"
    },
    {
      "cell_type": "markdown",
      "metadata": {
        "cell_id": "b11bfd2a1aea4ed6aac9581d71bca7c1",
        "deepnote_cell_height": 147.140625,
        "deepnote_cell_type": "markdown",
        "tags": []
      },
      "source": "#### 2016\n\n**2.3 -** Which candidate (R or D) won the popular vote?\n\n**2.4 -** You can view the outcome of the 2016 election [here](https://www.270towin.com/2016_Election/interactive_map). Do the vote totals you calculated above align with the actual election outcome (as determined by the electoral college)?"
    },
    {
      "cell_type": "markdown",
      "metadata": {
        "cell_id": "00030-a141c721-6b16-4d82-b90b-3f2df4594bbe",
        "deepnote_cell_height": 159.140625,
        "deepnote_cell_type": "markdown",
        "tags": []
      },
      "source": "<br>\n\n### 3.0 - Voter Power and Population Size\n\nHow can candidates with fewer votes still win the Electoral College? \n\nPart of the answer lies in how voter power differs by state size in the Electoral College."
    },
    {
      "cell_type": "markdown",
      "metadata": {
        "cell_id": "00031-5fb51a49-b2e5-4078-a390-7c0977a7d5ba",
        "deepnote_cell_height": 97.140625,
        "deepnote_cell_type": "markdown",
        "tags": []
      },
      "source": "**3.1 -** California has 55 electoral votes and 37,253,956 people. Wyoming has 3 electoral votes and 563,626 people. In which state do voters have more power in choosing the next President of the United States?"
    },
    {
      "cell_type": "markdown",
      "metadata": {
        "cell_id": "00033-ae83499f-56cb-4818-a1d8-6ee7e93511af",
        "deepnote_cell_height": 74.75,
        "deepnote_cell_type": "markdown",
        "tags": []
      },
      "source": "**3.2 -** Find the number of electoral votes **per person** in each of the states. Save this ratio as a new variable called `electoral_votes_per_person` in the `elections` data frame."
    },
    {
      "cell_type": "markdown",
      "metadata": {
        "cell_id": "00035-451ebf77-3f48-4677-b5d2-e9f8653a83ee",
        "deepnote_cell_height": 74.75,
        "deepnote_cell_type": "markdown",
        "tags": []
      },
      "source": "**3.3 -** Run the cell below to print out the `electoral_votes_per_person` for each state. Are these numbers easy to interpret? What could make them more interepretable?"
    },
    {
      "cell_type": "code",
      "execution_count": null,
      "metadata": {
        "cell_id": "00036-a188c200-a9fb-45b1-9511-46fd6018d64c",
        "deepnote_cell_height": 391.859375,
        "deepnote_cell_type": "code",
        "deepnote_output_heights": [
          276.90625
        ],
        "deepnote_to_be_reexecuted": false,
        "execution_millis": 785,
        "execution_start": 1660178919870,
        "output_cleared": false,
        "source_hash": "a4b1ca41",
        "tags": [],
        "trusted": true
      },
      "outputs": [],
      "source": "# Run this code\nhead(select(elections, state,pop_size_2010, electoral_votes, electoral_votes_per_person))"
    },
    {
      "cell_type": "markdown",
      "metadata": {
        "cell_id": "00037-c7d72c1b-6f6a-4e9f-9303-781ea35cf479",
        "deepnote_cell_height": 97.140625,
        "deepnote_cell_type": "markdown",
        "tags": []
      },
      "source": "**3.4 -** To make this quantity more interpretable, we can multiply the electoral votes per person by 1 million. This represents the number of electoral votes per 1 million citizens. Perform this calculation and save it in the dataframe as `electoral_votes_per_million`."
    },
    {
      "cell_type": "markdown",
      "metadata": {
        "cell_id": "00039-a04a3036-fd58-492f-8b99-99722626a3a4",
        "deepnote_cell_height": 74.75,
        "deepnote_cell_type": "markdown",
        "tags": []
      },
      "source": "**3.5 -** What is similar about the states with the highest electoral votes per million people? What is similar about states with lowest electoral votes per million?"
    },
    {
      "cell_type": "markdown",
      "metadata": {
        "cell_id": "00042-2f1c1188-b54f-47a1-a376-52ab2a851ffb",
        "deepnote_cell_height": 97.140625,
        "deepnote_cell_type": "markdown",
        "tags": []
      },
      "source": "**3.6 -** Wyoming is one of several states that have 3 electoral votes each. The code below will use `filter()` to print out all the states that have 3 electoral votes. Among these states, why does Wyoming have the highest number of votes per million citizens?\n"
    },
    {
      "cell_type": "code",
      "execution_count": null,
      "metadata": {
        "cell_id": "cac76836651346adbbd8b9eef8511efb",
        "deepnote_cell_height": 426.84375,
        "deepnote_cell_type": "code",
        "deepnote_output_heights": [
          334.890625
        ],
        "deepnote_to_be_reexecuted": false,
        "execution_millis": 606,
        "execution_start": 1660178920049,
        "output_cleared": false,
        "source_hash": "6c56cc45",
        "tags": [],
        "trusted": true
      },
      "outputs": [],
      "source": "filter(elections, electoral_votes == 3)"
    },
    {
      "cell_type": "markdown",
      "metadata": {
        "cell_id": "00044-3a8876f4-0463-40b6-95fc-f60e6eb4ccff",
        "deepnote_cell_height": 147.125,
        "deepnote_cell_type": "markdown",
        "tags": []
      },
      "source": "<div class=\"alert alert-block alert-info\">\n\n<b> <font size=\"+1\">Key Question</font></b>\n\n**3.7 -** Why is it that some states have more electoral votes per citizen than others?\n\n</div>"
    },
    {
      "cell_type": "markdown",
      "metadata": {
        "cell_id": "00046-2ac8855d-8f81-44cb-8b08-182209a84c9e",
        "deepnote_cell_height": 74.75,
        "deepnote_cell_type": "markdown",
        "tags": []
      },
      "source": "**3.8 -** Now that you know all this, how can a candidate lose the popular vote *and* win the Electoral College? What kind of states would they need to win/lose?"
    },
    {
      "cell_type": "markdown",
      "metadata": {
        "cell_id": "00048-4b722101-3c2b-411a-8ba8-c350fd5f85fa",
        "deepnote_cell_height": 169.515625,
        "deepnote_cell_type": "markdown",
        "tags": []
      },
      "source": "<div class=\"alert alert-block alert-info\">\n\n<b> <font size=\"+1\">Key Question</font></b>\n\n**3.9 -** Is it \"fair\" for small states to get more representation per citizen than large states? Why or why not?\n\n</div>"
    }
  ],
  "metadata": {
    "deepnote": {
      "is_reactive": false
    },
    "deepnote_execution_queue": [],
    "deepnote_notebook_id": "335ca5a9-535b-4329-89fa-13d0f085757e",
    "kernelspec": {
      "display_name": "R",
      "language": "R",
      "name": "ir"
    },
    "language_info": {
      "codemirror_mode": "r",
      "file_extension": ".r",
      "mimetype": "text/x-r-source",
      "name": "R",
      "pygments_lexer": "r",
      "version": "4.0.3"
    },
    "nbsimplegrader": {
      "publish_config": {
        "classes": [],
        "options": [],
        "tools": []
      }
    }
  },
  "nbformat": 4,
  "nbformat_minor": 2
}