{
  "cells": [
    {
      "cell_type": "markdown",
      "metadata": {
        "cell_id": "9561be0b7a0c4a53b9f74284e27ce0ce",
        "deepnote_cell_height": 208.71875,
        "deepnote_cell_type": "markdown",
        "tags": []
      },
      "source": "<div class=\"alert alert-block alert-danger\">\n\n# 1C: TV Teens (COMPLETE)\n\n*This notebook is intended for students who have completed:*\n \n**All of Chapter 1**\n\n</div>"
    },
    {
      "cell_type": "markdown",
      "metadata": {
        "cell_id": "638cbf22-c739-49f6-a320-ad1696b4c3d0",
        "deepnote_cell_height": 336.671875,
        "deepnote_cell_type": "markdown",
        "tags": []
      },
      "source": "<div class=\"alert alert-block alert-warning\">\n\n#### Summary of Notebook:\n\nIn this lesson, students will explore a dataset that contains information on TV teen dramas. They will try to answer questions such as: Are the actors that play these characters actually of high school age? When is the actor's age really different from the character's age?\n\n#### Includes:\n\n- Effectively visualizing both quantitative and categorical data\n- Investigating missing values and handling them thoughtfully (i.e., think through alternatives to simply dropping missing cases)\n- Using visualizations and summary statistics to make meaningful inferences about datasets\n\n</div>"
    },
    {
      "cell_type": "code",
      "execution_count": null,
      "metadata": {
        "cell_id": "00001-2e40347a-e7de-4288-bc26-758360bb2a4b",
        "deepnote_cell_height": 260.953125,
        "deepnote_cell_type": "code",
        "deepnote_to_be_reexecuted": false,
        "execution_millis": 2796,
        "execution_start": 1659749022009,
        "output_cleared": true,
        "source_hash": "bab8e738",
        "tags": [],
        "trusted": true
      },
      "outputs": [],
      "source": "# This code will load the R packages we will use\nsuppressPackageStartupMessages({\n    library(coursekata)\n})\n\n# loads data\ntv_teens <- read.csv(\"https://docs.google.com/spreadsheets/d/e/2PACX-1vQIO_RIn3K6izwdQhvWzo84ALKQ1MP_ZTZ9EzGqqecvejQSpouysYAxDecGBIPdwKs31OoZZmQTR3au/pub?gid=395733557&single=true&output=csv\")\n\ntv_teens <- tv_teens %>% \n  mutate(any_love = factor(ifelse(is.na(num_love_interest),\"none\",\"1+\")),\n         character_gender = factor(character_gender))"
    },
    {
      "cell_type": "markdown",
      "metadata": {
        "cell_id": "74439113ce6c47588e8492072251b895",
        "deepnote_cell_height": 163.9375,
        "deepnote_cell_type": "markdown",
        "tags": []
      },
      "source": "<div class=\"alert alert-block alert-success\">\n\n## Approximate time to complete Notebook: 55-65 Mins\n\n</div>"
    },
    {
      "cell_type": "markdown",
      "metadata": {
        "cell_id": "00002-b3a48379-b605-4f9b-a376-9bf08a4ec2dc",
        "deepnote_cell_height": 438.8125,
        "deepnote_cell_type": "markdown",
        "tags": []
      },
      "source": "<img src=\"https://i.postimg.cc/HTGdRdfd/teen-actors.jpg\" alt=\"so called teenagers from popular shows\" width = 50%>\n\n## Are those really high schoolers? \n\nWe have seen a renaissance of teen dramas: Euphoria, Sex Education, Riverdale, Elite, Yellowjackets, etc. These popular shows depict high schoolers doing very \"adult\" things (as the saying goes: \"sex, drugs, and rock & roll\"... minus the \"rock & roll\"). \n\nToday we'll ask: Are the actors that play these characters actually of high school age? When is the actor's age really different from the character's age?"
    },
    {
      "cell_type": "markdown",
      "metadata": {
        "cell_id": "00004-8fc41adc-f69d-467d-886f-093953bf8bf2",
        "deepnote_cell_height": 93.953125,
        "deepnote_cell_type": "markdown",
        "tags": []
      },
      "source": "### Motivating Question: How old are the actors who play famous teenage TV characters?"
    },
    {
      "cell_type": "markdown",
      "metadata": {
        "cell_id": "00005-a804d541-ae19-470d-9e93-a5f1fbe797c6",
        "deepnote_cell_height": 647.59375,
        "deepnote_cell_type": "markdown",
        "tags": []
      },
      "source": "### The Dataset\n\n#### Description\n\nThe data frame `tv_teens` shows the ages of TV characters and the ages of the actors who play them, **during the first season** that the show was on the air. Dataset has tidy organization, with one row per TV character.\n\n#### Variables\n\n- `name`: Name of actor\n- `title`: Title of show\n- `character_name`: Name of character\n- `character_age`: Character's age \n- `character_year`: Character's school grade level (if provided)\n- `character_gender`: Gender of character (M - Male, F - Female, NB - Non-binary, TM - Trans Man, TW - Trans Woman)\n- `love_interest`: Love interests of character on the show\n- `num_love_interest`: Number of love interests \n- `any_love`: \"+1\" if character has any love interests, \"none\" if `love_interest` is left blank \n- `release_year`: Year when show was released\n- `release_date`: Date when show was released\n- `actor_age`: Actor age at time of release\n\n##### Data Source \n\n - [Amber Thomas (Data World), CC-BY-SA](https://data.world/amberthomas/age-of-characters-and-actors-in-teen-tv-shows/activity)\n"
    },
    {
      "cell_type": "markdown",
      "metadata": {
        "cell_id": "9b0f4102e27e425087fd30f99718c678",
        "deepnote_cell_height": 115.9375,
        "deepnote_cell_type": "markdown",
        "tags": []
      },
      "source": "<div class=\"alert alert-block alert-success\">\n\n### 1.0 - Approximate Time:  15-20 mins\n\n</div>"
    },
    {
      "cell_type": "markdown",
      "metadata": {
        "cell_id": "00006-29982905-377d-491b-ac8a-ccfa55642a44",
        "deepnote_cell_height": 61.953125,
        "deepnote_cell_type": "markdown",
        "tags": []
      },
      "source": "### 1.0 - Exploring the TV Teens Dataset"
    },
    {
      "cell_type": "markdown",
      "metadata": {
        "cell_id": "00007-99fae5fc-f8be-4709-91a6-29f57f910913",
        "deepnote_cell_height": 52.359375,
        "deepnote_cell_type": "markdown",
        "tags": []
      },
      "source": "**1.1 -** As usual, let's start by just exploring the data. Run some code to take a look at the dataset."
    },
    {
      "cell_type": "code",
      "execution_count": null,
      "metadata": {
        "cell_id": "00008-8142ae8c-b5f4-4006-92c3-67bed5430767",
        "deepnote_cell_height": 93.953125,
        "deepnote_cell_type": "code",
        "deepnote_to_be_reexecuted": false,
        "execution_millis": 24,
        "execution_start": 1659656353874,
        "output_cleared": true,
        "source_hash": "71595fd2",
        "tags": [],
        "trusted": true
      },
      "outputs": [],
      "source": "# Sample Response\nhead(tv_teens)"
    },
    {
      "cell_type": "markdown",
      "metadata": {
        "cell_id": "00012-54515617-8fe8-4d14-9a7c-700e3421d0e6",
        "deepnote_cell_height": 74.75,
        "deepnote_cell_type": "markdown",
        "tags": []
      },
      "source": "**1.2 -** In this dataset, each row represents a character. How many total characters are included in the dataset?"
    },
    {
      "cell_type": "code",
      "execution_count": null,
      "metadata": {
        "cell_id": "00013-cdaeb781-2581-4258-9d5f-bafacae87379",
        "deepnote_cell_height": 165.953125,
        "deepnote_cell_type": "code",
        "deepnote_to_be_reexecuted": false,
        "execution_millis": 37,
        "execution_start": 1659656353907,
        "output_cleared": true,
        "source_hash": "869a6ad4",
        "tags": [],
        "trusted": true
      },
      "outputs": [],
      "source": "# Sample Response 1\nstr(tv_teens)\n\n# Sample Response 2\n# note-this function is not in the book but can also work here\ndim(tv_teens)[1]"
    },
    {
      "cell_type": "markdown",
      "metadata": {
        "cell_id": "00014-10ebf522-c474-441b-a816-289f9c0f7624",
        "deepnote_cell_height": 140.71875,
        "deepnote_cell_type": "markdown",
        "tags": []
      },
      "source": "<div class=\"alert alert-block alert-warning\">\n\n<b>Sample Response:</b> \n\nThere are 222 characters in the dataset.\n\n</div>"
    },
    {
      "cell_type": "markdown",
      "metadata": {
        "cell_id": "00015-f9cb32b1-c399-457b-91ec-e6817b4cc5e0",
        "deepnote_cell_height": 74.75,
        "deepnote_cell_type": "markdown",
        "tags": []
      },
      "source": "**1.3 -** The `title` column lists the shows that are included in the dataset. What shows and how many characters from each show are included in `tv_teens`?"
    },
    {
      "cell_type": "code",
      "execution_count": null,
      "metadata": {
        "allow_embed": false,
        "cell_id": "596fe692a89f4cf3955b5f75ff744d05",
        "deepnote_cell_height": 186.953125,
        "deepnote_cell_type": "code",
        "deepnote_to_be_reexecuted": false,
        "output_cleared": true,
        "source_hash": "d1702a07",
        "tags": [],
        "trusted": true
      },
      "outputs": [],
      "source": "# Sample Response\ntally(~ title, data = tv_teens)\n\n# Sample Response\ntally(tv_teens$title)\n\n# Sample Response\ngf_bar(title ~ 1, data = tv_teens)"
    },
    {
      "cell_type": "markdown",
      "metadata": {
        "cell_id": "00017-6132c969-c193-4f48-839b-80dc571ff65a",
        "deepnote_cell_height": 74.75,
        "deepnote_cell_type": "markdown",
        "tags": []
      },
      "source": "**1.4 -** Visualize the distribution of the genders of characters in this dataset. Describe the distribution."
    },
    {
      "cell_type": "code",
      "execution_count": null,
      "metadata": {
        "allow_embed": false,
        "cell_id": "5fa7830ee1974f7b9422bb4e1af560cf",
        "deepnote_cell_height": 78.953125,
        "deepnote_cell_type": "code",
        "deepnote_to_be_reexecuted": false,
        "output_cleared": true,
        "source_hash": "59723ca4",
        "tags": [],
        "trusted": true
      },
      "outputs": [],
      "source": "# Sample Response\ngf_bar(~character_gender, data = tv_teens)"
    },
    {
      "cell_type": "markdown",
      "metadata": {
        "cell_id": "00019-99d7fe59-8d30-4f47-b83d-51b46844e308",
        "deepnote_cell_height": 415.046875,
        "deepnote_cell_type": "markdown",
        "tags": []
      },
      "source": "<div class=\"alert alert-block alert-warning\">\n\n<b>Sample Response:</b> \n\nThe majority of characters are identified as female and male (with slightly more female than male). A few characters are identified as non-binary and a few are identified as transgender men. There are much fewer character of these identities than female & male characters.<br><br>\n\n\n<b>Instructor Note:</b> \n\nIt's worth noting that there are various ways that gender is encoded into datasets, and they have tradeoffs. For example, here, the dataset author decided to separate cis-gender men from trans men. The benefit is that the data can now be analyzed with respect to the individual portrayals of these two groups in TV shows. The detriment is that, by encoding cis-gender male categorized as simply \"Male,\" it's implying that cis-gender men are the \"default\" male group. A more just way to encode these groups might be \"CM\" (for cis-gender male) and \"TM\" (for transgender male).\n\n</div>"
    },
    {
      "cell_type": "markdown",
      "metadata": {
        "cell_id": "00020-e9621726-2d62-4d3e-a2be-a819964ca39f",
        "deepnote_cell_height": 52.359375,
        "deepnote_cell_type": "markdown",
        "tags": []
      },
      "source": "**1.5 -** Visualize the distribution of character ages in this dataset. Describe the distribution."
    },
    {
      "cell_type": "code",
      "execution_count": null,
      "metadata": {
        "allow_embed": false,
        "cell_id": "13f915c9bdee4273a123788587be4f1a",
        "deepnote_cell_height": 219.953125,
        "deepnote_cell_type": "code",
        "deepnote_to_be_reexecuted": false,
        "execution_millis": 914,
        "execution_start": 1659657025453,
        "output_cleared": true,
        "source_hash": "b1d6a960",
        "tags": [],
        "trusted": true
      },
      "outputs": [],
      "source": "# Sample Response\ngf_histogram(~character_age, data = tv_teens)\n\n# Sample Response\ngf_dhistogram(~character_age, data = tv_teens)\n\n# Sample Response\ngf_histogram(~character_age, data = tv_teens)%>%\n    gf_boxplot(fill = \"white\", width=3)"
    },
    {
      "cell_type": "markdown",
      "metadata": {
        "cell_id": "00022-8f5eaedb-7a90-484d-9d69-22133a1b5076",
        "deepnote_cell_height": 163.125,
        "deepnote_cell_type": "markdown",
        "tags": []
      },
      "source": "<div class=\"alert alert-block alert-warning\">\n\n<b>Sample Response:</b> \n\nThe ages vary between 10 and 25, which a majority between the ages of 16-17. The shape of the distribution is fairly symmetric.\n\n</div>"
    },
    {
      "cell_type": "markdown",
      "metadata": {
        "cell_id": "00023-58d3fb6b-fbe7-4429-9cdb-778354383112",
        "deepnote_cell_height": 74.75,
        "deepnote_cell_type": "markdown",
        "tags": []
      },
      "source": "**1.6 -** In the prior question, you may have seen a warning message about missing values when you produced your graph. Are there missing values in the `character_age` column? If so, how many?"
    },
    {
      "cell_type": "code",
      "execution_count": null,
      "metadata": {
        "cell_id": "00024-8569edb8-03e9-41ca-8016-5a6c30092d9b",
        "deepnote_cell_height": 513.046875,
        "deepnote_cell_type": "code",
        "deepnote_output_heights": [
          59.59375,
          59.59375,
          131.9375
        ],
        "deepnote_to_be_reexecuted": false,
        "execution_millis": 46,
        "execution_start": 1659749032061,
        "output_cleared": false,
        "source_hash": "5d9b224",
        "tags": [],
        "trusted": true
      },
      "outputs": [],
      "source": "#Use tally to see number of missing values\n\n# Sample Response\ntally(~ character_age, data = tv_teens)\ntally(tv_teens$character_age)\n\nfavstats(~ character_age, data = tv_teens)"
    },
    {
      "cell_type": "markdown",
      "metadata": {
        "cell_id": "00025-680a901e-6a66-4f64-a6cf-36e2542127a2",
        "deepnote_cell_height": 140.71875,
        "deepnote_cell_type": "markdown",
        "tags": []
      },
      "source": "<div class=\"alert alert-block alert-warning\">\n\n<b>Sample Response:</b> \n\nWe have 100 missing values for the `character_age` column.\n\n</div>"
    },
    {
      "cell_type": "markdown",
      "metadata": {
        "cell_id": "57cd932e921747acba868c7cc7946c37",
        "deepnote_cell_height": 115.9375,
        "deepnote_cell_type": "markdown",
        "tags": []
      },
      "source": "<div class=\"alert alert-block alert-success\">\n\n### 2.0 - Approximate Time:  20-25 mins\n\n</div>"
    },
    {
      "cell_type": "markdown",
      "metadata": {
        "cell_id": "00026-0d33d74e-5d21-4836-9256-a7b41b371739",
        "deepnote_cell_height": 122.734375,
        "deepnote_cell_type": "markdown",
        "tags": []
      },
      "source": "### 2.0 - Handling Missing Values\n\nOur key variable of interest (`character_age`) has a lot of missing values. How should we handle this? Let's explore!"
    },
    {
      "cell_type": "markdown",
      "metadata": {
        "cell_id": "00027-4a64839b-7d65-4904-aa00-02ca02d17e2f",
        "deepnote_cell_height": 191.90625,
        "deepnote_cell_type": "markdown",
        "tags": []
      },
      "source": "<div class=\"alert alert-block alert-info\">\n\n<b> <font size=\"+1\">Key Question</font></b>\n\n\n<br>\n\n**2.1 -** One solution would be to discard all rows that have a missing `character_age`. Is this an ideal solution? Why or why not?\n\n</div>"
    },
    {
      "cell_type": "markdown",
      "metadata": {
        "cell_id": "00028-b56cbde2-643c-4814-8b93-578b04170a34",
        "deepnote_cell_height": 415.046875,
        "deepnote_cell_type": "markdown",
        "deepnote_to_be_reexecuted": false,
        "execution_millis": 29,
        "execution_start": 1649709236795,
        "source_hash": "bb003e25",
        "tags": []
      },
      "source": "<div class=\"alert alert-block alert-warning\">\n\n<b>Sample Response:</b> \n\nNo - With 100 missing values out of a 222 row dataset, we'd be losing almost half our data! This could lead to unrepresentative analyses later down the line.<br><br>\n\n<b>Instructor Note:</b> \n\nThe most common way that students handle missing data, unless told otherwise, is to delete any dataset rows with missing values and move on. This can lead to biased analyses. Instead, it's best to first encourage students to explore patterns. Ask, \"Are there any other values in the dataset that seem to explain why the data might be missing for a particular variable?\" This often leads to more productive methods for handling missing data. There are various technical methods for imputing missing data, but we'll focus on cases where thoughtful reasoning leads to good solutions for missing data. Such an example is shown in the following exercises of this notebook.\n\n</div>"
    },
    {
      "cell_type": "markdown",
      "metadata": {
        "cell_id": "00029-14844bf1-756f-4a85-b669-01974bf21675",
        "deepnote_cell_height": 74.75,
        "deepnote_cell_type": "markdown",
        "tags": []
      },
      "source": "**2.2 -** Display the head of the dataset again, but this time include 20 rows. Is there anything else in the dataset that could give us information about character ages?"
    },
    {
      "cell_type": "code",
      "execution_count": null,
      "metadata": {
        "cell_id": "00030-daf21067-c402-421c-975d-71ed8a3b1bdb",
        "deepnote_cell_height": 93.953125,
        "deepnote_cell_type": "code",
        "deepnote_to_be_reexecuted": false,
        "execution_millis": 32,
        "execution_start": 1659656355074,
        "output_cleared": true,
        "source_hash": "fb95e94a",
        "tags": [],
        "trusted": true
      },
      "outputs": [],
      "source": "# Sample Response\nhead(tv_teens, 20)"
    },
    {
      "cell_type": "markdown",
      "metadata": {
        "cell_id": "00031-7e68dfed-68d0-4c9b-93d8-ab65fe1fab3b",
        "deepnote_cell_height": 163.125,
        "deepnote_cell_type": "markdown",
        "tags": []
      },
      "source": "<div class=\"alert alert-block alert-warning\">\n\n<b>Sample Response:</b> \n\n`character_year` is present in cases where `character_age` is missing. We can use years in school to provide an estimate for the missing character ages. \n \n</div>"
    },
    {
      "cell_type": "markdown",
      "metadata": {
        "cell_id": "00032-31f4cc55-42b1-4329-83a4-d9f493fd9bec",
        "deepnote_cell_height": 74.75,
        "deepnote_cell_type": "markdown",
        "tags": []
      },
      "source": "**2.3 -** Use the information you identified above to fill in reasonable estimates for the missing values in `character_age`. Include this in a new column called `character_age_filled`. "
    },
    {
      "cell_type": "code",
      "execution_count": null,
      "metadata": {
        "cell_id": "2ef68da25cb04fabad2362fb7305ca2d",
        "deepnote_cell_height": 314.953125,
        "deepnote_cell_type": "code",
        "deepnote_to_be_reexecuted": false,
        "execution_millis": 52,
        "execution_start": 1659656355111,
        "output_cleared": true,
        "source_hash": "92af8a18",
        "tags": [],
        "trusted": true
      },
      "outputs": [],
      "source": "# if you wish to provide some scaffolding for your students \n# you may consider starting with this\n\n# Show counts for character_year by character_age\ntally(character_year ~ character_age, data = tv_teens)\n\n# Let's start with a new column (copy of current characte_age column)\n# This way we start with the ages of the characters that already have ages\ntv_teens$character_age_filled <- tv_teens$character_age\n\n# Here is some code to put 18 for characters that are considered \"college freshman\"\n## 'college freshman' = 18 years old\ntv_teens$character_age_filled[tv_teens$character_year == \"college freshman\"] <- 18 \n"
    },
    {
      "cell_type": "code",
      "execution_count": null,
      "metadata": {
        "cell_id": "980be11572874646a1b825b084cf05f1",
        "deepnote_cell_height": 602.96875,
        "deepnote_cell_type": "code",
        "deepnote_to_be_reexecuted": false,
        "execution_millis": 34,
        "execution_start": 1659656355169,
        "output_cleared": true,
        "source_hash": "e1ebead3",
        "tags": [],
        "trusted": true
      },
      "outputs": [],
      "source": "# Full Sample Response\n\n# Create a new column (copy of current character_age column)\ntv_teens$character_age_filled <- tv_teens$character_age\n\n# Designations:\n## 'college freshman' = 18 years old\ntv_teens$character_age_filled[tv_teens$character_year == \"college freshman\"] <- 18 \n\n## 'hs senior' = 17 years old\ntv_teens$character_age_filled[tv_teens$character_year == \"hs senior\"] <- 17 \n\n## 'hs junior' = 16 years old\ntv_teens$character_age_filled[tv_teens$character_year == \"hs junior\"] <- 16 \n\n## 'hs sophomore` = 15 years old\ntv_teens$character_age_filled[tv_teens$character_year == \"hs sophomore\"] <- 15 \n\n## 'hs freshman' = 14 years old\ntv_teens$character_age_filled[tv_teens$character_year == \"hs freshman\"] <- 14\n\n## '7th grade' = 12 years old\ntv_teens$character_age_filled[tv_teens$character_year == \"7th grade\"] <- 12\n\n## '6th grade' = 11 years old\ntv_teens$character_age_filled[tv_teens$character_year == \"6th grade\"] <- 11\n\n#check if any remaining missing values\nsum(is.na(tv_teens$character_age_filled))\ntally(character_year ~ character_age_filled, data = tv_teens)"
    },
    {
      "cell_type": "markdown",
      "metadata": {
        "cell_id": "00035-f4ad75a7-b661-40d7-9078-e7981b45ee57",
        "deepnote_cell_height": 191.90625,
        "deepnote_cell_type": "markdown",
        "deepnote_to_be_reexecuted": false,
        "execution_millis": 610,
        "execution_start": 1649704559792,
        "source_hash": "38b1f052",
        "tags": []
      },
      "source": "<div class=\"alert alert-block alert-info\">\n\n<b> <font size=\"+1\">Key Question</font></b>\n\n<br>\n\n**2.4 -** Could your method for filling in missing values of `character_age` introduce any bias into your analyses? If so, in what way(s)?\n\n</div>"
    },
    {
      "cell_type": "markdown",
      "metadata": {
        "cell_id": "00036-a1b32ca4-e4e8-48a4-81b7-07047de9ae31",
        "deepnote_cell_height": 230.296875,
        "deepnote_cell_type": "markdown",
        "tags": []
      },
      "source": "<div class=\"alert alert-block alert-warning\">\n\n<b>Sample Response:</b> \n\nIn our sample response, we assumed typical ages for each level of school, opting for the lower age of each grade. For example, high school seniors are typically 17-18 years old, and we filled in 17. Writers of the shows may have intended some of these high school seniors to be 18, or even a higher age. So, our method for filling in missing values could lead to underestimates of character ages.  \n\n</div>"
    },
    {
      "cell_type": "markdown",
      "metadata": {
        "cell_id": "0ae6b84feb644a0988b563fdc36880b5",
        "deepnote_cell_height": 115.9375,
        "deepnote_cell_type": "markdown",
        "tags": []
      },
      "source": "<div class=\"alert alert-block alert-success\">\n\n### 3.0 - Approximate Time:  20-25 mins\n\n</div>"
    },
    {
      "cell_type": "markdown",
      "metadata": {
        "cell_id": "00037-ca739be8-0889-4e01-909d-849ea0a85df7",
        "deepnote_cell_height": 100.34375,
        "deepnote_cell_type": "markdown",
        "tags": []
      },
      "source": "### 3.0 - Analyzing Age\n\n**3.1 -** Visualize the character ages and visualize the actor ages. What pattern do you notice?"
    },
    {
      "cell_type": "code",
      "execution_count": null,
      "metadata": {
        "cell_id": "00038-2519f5cd-4801-4631-980f-637a6f33608e",
        "deepnote_cell_height": 111.953125,
        "deepnote_cell_type": "code",
        "deepnote_to_be_reexecuted": false,
        "execution_millis": 801,
        "execution_start": 1659656355245,
        "output_cleared": true,
        "source_hash": "492e47ba",
        "tags": [],
        "trusted": true
      },
      "outputs": [],
      "source": "# Sample Response\ngf_histogram(~character_age_filled, data = tv_teens) %>%\n    gf_histogram(~actor_age, data = tv_teens, fill = \"orchid4\")"
    },
    {
      "cell_type": "markdown",
      "metadata": {
        "cell_id": "00039-e201701f-33bd-42f6-8188-3433f59ba5ea",
        "deepnote_cell_height": 163.125,
        "deepnote_cell_type": "markdown",
        "tags": []
      },
      "source": "<div class=\"alert alert-block alert-warning\">\n\n<b>Sample Response:</b> \n\nOverall, the actor age distribution tends to have large values than the character age distribution.\n\n</div>"
    },
    {
      "cell_type": "markdown",
      "metadata": {
        "cell_id": "00040-9d39335d-6820-494a-80b2-d39355b322c6",
        "deepnote_cell_height": 97.140625,
        "deepnote_cell_type": "markdown",
        "tags": []
      },
      "source": "**3.2 -** Create a new variable in the dataset, which shows the difference between actors' ages and the characters they plan (actor - character). Call this variable `age_diff\n`."
    },
    {
      "cell_type": "code",
      "execution_count": null,
      "metadata": {
        "cell_id": "00041-c4e2f406-1da2-4443-8e06-9e466907d13c",
        "deepnote_cell_height": 165.953125,
        "deepnote_cell_type": "code",
        "deepnote_to_be_reexecuted": false,
        "execution_millis": 0,
        "execution_start": 1659656355450,
        "output_cleared": true,
        "owner_user_id": "23d85493-7ed1-49a4-baa7-630eaab08193",
        "source_hash": "b0bbf429",
        "tags": [],
        "trusted": true
      },
      "outputs": [],
      "source": "# Sample Response\ntv_teens$age_diff <- tv_teens$actor_age - tv_teens$character_age_filled\n\n# Sample Response\ntv_teens <- tv_teens %>%\n    mutate(age_diff = actor_age - character_age_filled)"
    },
    {
      "cell_type": "markdown",
      "metadata": {
        "cell_id": "00042-cc67c3bb-9b86-45de-87f1-059d666baf4e",
        "deepnote_cell_height": 191.90625,
        "deepnote_cell_type": "markdown",
        "tags": []
      },
      "source": "<div class=\"alert alert-block alert-info\">\n\n<b> <font size=\"+1\">Key Question</font></b>\n\n<br>\n\n**3.3 -** Visualize the distribution of `age_diff`. Describe the distribution. Does it provide evidence that actors tend to be older than the characters they play? Why or why not?\n\n</div>"
    },
    {
      "cell_type": "code",
      "execution_count": null,
      "metadata": {
        "cell_id": "00043-a49cadcf-ff34-4872-a933-d47bdf334f9c",
        "deepnote_cell_height": 93.953125,
        "deepnote_cell_type": "code",
        "deepnote_to_be_reexecuted": false,
        "execution_millis": 646,
        "execution_start": 1659656355451,
        "output_cleared": true,
        "source_hash": "194bc4e8",
        "tags": [],
        "trusted": true
      },
      "outputs": [],
      "source": "# Sample Response\ngf_histogram(~age_diff, data = tv_teens)"
    },
    {
      "cell_type": "markdown",
      "metadata": {
        "cell_id": "00044-daa17bdd-1d7a-49f5-9121-f78fae117734",
        "deepnote_cell_height": 280.6875,
        "deepnote_cell_type": "markdown",
        "tags": []
      },
      "source": "<div class=\"alert alert-block alert-warning\">\n\n<b>Sample Response:</b> \n\nThe majority of actors seem to be older than their characters - the vast majority of age differences are above 0.\n\n<b>Instructor Note:</b> \n\nMake a big deal about interpreting what \"above 0\" means in this context. As an extension question, it may be helpful to ask students what extra information this visualization provides, compared to the visualization they made for question 3.1.\n\n</div>"
    },
    {
      "cell_type": "markdown",
      "metadata": {
        "cell_id": "00045-8c5795b1-c6f9-4254-910b-e950f1ba3fce",
        "deepnote_cell_height": 141.9375,
        "deepnote_cell_type": "markdown",
        "tags": []
      },
      "source": "**3.4 -** Calculate the following statistics. What do each of these statistics suggest about the relationship between actors' ages and the age of their characters? \na. The average age of the actor versus the average age of the character\nb. The proportion of characters whose ages are higher than their characters\nc. The `favstats` of age difference"
    },
    {
      "cell_type": "code",
      "execution_count": null,
      "metadata": {
        "cell_id": "00046-86cdc43d-d084-4cc8-ad8f-0ea83ad143dc",
        "deepnote_cell_height": 422.96875,
        "deepnote_cell_type": "code",
        "deepnote_to_be_reexecuted": false,
        "execution_millis": 477,
        "execution_start": 1659656355626,
        "output_cleared": true,
        "source_hash": "f2782adb",
        "tags": [],
        "trusted": true
      },
      "outputs": [],
      "source": "# Average age difference\n## Sample Response\nprint(\"average actor_age\")\nmean(~ actor_age, data = tv_teens)\nprint(\"average character_age_filled\")\nmean(~ character_age_filled, data = tv_teens)\n\n## Sample Response\nfavstats(~ actor_age, data = tv_teens)\nfavstats(~ character_age_filled, data = tv_teens)\n\n# Proportion with higher ages\n## Sample Response\ntally(~ actor_age > character_age_filled, data = tv_teens, format = \"proportion\")\ntally(~ age_diff > 0, data = tv_teens, format = \"proportion\")\n## Sample Response\ngf_props(~ age_diff > 0, data = tv_teens)\n\n# favstats of age_diff\nfavstats(tv_teens$age_diff)"
    },
    {
      "cell_type": "markdown",
      "metadata": {
        "cell_id": "00047-8b6e986d-5ac6-46ec-b3a3-15dbb5fa317b",
        "deepnote_cell_height": 230.296875,
        "deepnote_cell_type": "markdown",
        "tags": []
      },
      "source": "<div class=\"alert alert-block alert-warning\">\n\n<b>Sample Response:</b> \n\nThe vast majority (95%) of actors have higher ages than their characters. In fact, the average difference is age is 5.8, meaning that actors are on average 5.8 years older than their characters. When talking about teenagers, 5.8 is no small amount! The maximum age difference is 16 years - Wow! The minimum is -2, which means at least one actor was younger than the character they played.\n\n</div>"
    },
    {
      "cell_type": "markdown",
      "metadata": {
        "cell_id": "00048-794d9bd1-2288-492e-8ebb-68f6c231bc73",
        "deepnote_cell_height": 52.359375,
        "deepnote_cell_type": "markdown",
        "tags": []
      },
      "source": "**3.5 -** Are there any characters played by younger actors? If so, who are these characters/actors?"
    },
    {
      "cell_type": "code",
      "execution_count": null,
      "metadata": {
        "cell_id": "00049-012879f7-7933-4441-9f57-cdc3609bbdd3",
        "deepnote_cell_height": 147.96875,
        "deepnote_cell_type": "code",
        "deepnote_to_be_reexecuted": false,
        "execution_millis": 233,
        "execution_start": 1659656355873,
        "output_cleared": true,
        "source_hash": "187fbfd1",
        "tags": [],
        "trusted": true
      },
      "outputs": [],
      "source": "# Sample Response\narrange(tv_teens, age_diff)\n\n# Sample Response\nfilter(tv_teens, age_diff < 0)"
    },
    {
      "cell_type": "markdown",
      "metadata": {
        "cell_id": "00050-0cac818d-683f-4b3b-88c9-9c7c3c1cfba0",
        "deepnote_cell_height": 185.515625,
        "deepnote_cell_type": "markdown",
        "tags": []
      },
      "source": "<div class=\"alert alert-block alert-warning\">\n\n<b>Sample Response:</b> \n\nThere are several actors who play characters older then them: Sasha Pieterse, Peyton Kennedy, Noah Schnapp, and Allegra Acosta. (The characters are, respectively, Alison DiLaurentis, Kate Messner, Will Byers, and Molly Hayes Hernandez.)\n\n</div>"
    }
  ],
  "metadata": {
    "deepnote": {
      "is_reactive": false
    },
    "deepnote_execution_queue": [],
    "deepnote_notebook_id": "6fbd1405-ee24-4b70-bb7c-60e53af20de1",
    "kernelspec": {
      "display_name": "R",
      "language": "R",
      "name": "ir"
    },
    "language_info": {
      "codemirror_mode": "r",
      "file_extension": ".r",
      "mimetype": "text/x-r-source",
      "name": "R",
      "pygments_lexer": "r",
      "version": "4.0.3"
    },
    "nbsimplegrader": {
      "publish_config": {
        "classes": [],
        "options": [],
        "tools": []
      }
    }
  },
  "nbformat": 4,
  "nbformat_minor": 2
}