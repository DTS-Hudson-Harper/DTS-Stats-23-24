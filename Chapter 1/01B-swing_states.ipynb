{
  "cells": [
    {
      "cell_type": "markdown",
      "metadata": {
        "cell_id": "3c6536a1-03b4-495d-a5fa-628a8dcce4fd",
        "deepnote_cell_height": 81.953125,
        "deepnote_cell_type": "markdown",
        "tags": []
      },
      "source": "# 1B: The Swing States "
    },
    {
      "cell_type": "code",
      "execution_count": null,
      "metadata": {
        "cell_id": "00003-5c5c5d76-0a86-4132-9f57-1ff1d552e51d",
        "deepnote_cell_height": 260.953125,
        "deepnote_cell_type": "code",
        "deepnote_to_be_reexecuted": false,
        "execution_millis": 2793,
        "execution_start": 1659651967583,
        "output_cleared": true,
        "source_hash": "84daed89",
        "tags": [],
        "trusted": true
      },
      "outputs": [],
      "source": "# This code will load the R packages we will use\nsuppressPackageStartupMessages({\n    library(coursekata)\n})\n\n# Load the dataset\n# Create electoral_votes_per_million\nelections <- read.csv(\"https://docs.google.com/spreadsheets/d/e/2PACX-1vTMgaVH2HliUYh7W0xnahnavVq4oLU0rLkKwBvyBnJue2FPkl_O8kX6MZUQY1OwWl-QzQEciu7mc8jv/pub?output=csv\")\nelections <- elections %>%\n    mutate(electoral_votes_per_million = (electoral_votes/pop_size_2010) * 1000000)\n"
    },
    {
      "cell_type": "markdown",
      "metadata": {
        "cell_id": "00004-8231ce03-67fd-4f43-b155-a15dc0d43177",
        "deepnote_cell_height": 449.515625,
        "deepnote_cell_type": "markdown",
        "tags": []
      },
      "source": "<img src=\"https://i.postimg.cc/J7CjkGQR/image.png\" title = \"2015 Electoral College Map Swing States identified from the University of Virginia Center for Politics\" width = 80% />"
    },
    {
      "cell_type": "markdown",
      "metadata": {
        "cell_id": "00005-aeebdc8b-1cad-4a43-8f97-93d359575cb0",
        "deepnote_cell_height": 234.3125,
        "deepnote_cell_type": "markdown",
        "tags": []
      },
      "source": "## The Electoral College and Swing States\n\nThe two major political parties know that if you win a state (even by only a little bit), you get **ALL** of its electoral votes. So which states are the ones where, with only a few more votes, they can get a whole LOT of electoral college votes? These are often called the *swing states* (also called *battleground states*).\n\nTake a look at the map above. The \"Toss-up\" states are certainly swing states but so are the \"Leans D\" and \"Leans R\" states. What are some famously \"swingy\" states?"
    },
    {
      "cell_type": "markdown",
      "metadata": {
        "cell_id": "00006-099c7d16-d73b-4a4b-b4c6-e7a2b5905684",
        "deepnote_cell_height": 153.53125,
        "deepnote_cell_type": "markdown",
        "tags": []
      },
      "source": "\n\nToday we will explore:\n- What makes a state a swing state? \n- Why do campaigns focus on them? \n- How does a state's \"swingness\" inform its voter power? \n"
    },
    {
      "cell_type": "markdown",
      "metadata": {
        "cell_id": "00007-cadc5915-5efd-41c7-b158-12b5706ee939",
        "deepnote_cell_height": 93.953125,
        "deepnote_cell_type": "markdown",
        "owner_user_id": "52a894a5-3789-4f8c-bc49-427cc1339b77",
        "tags": []
      },
      "source": "### Motivating Question: Is it \"fair\" to have a system that focuses on swing states? "
    },
    {
      "cell_type": "markdown",
      "metadata": {
        "cell_id": "00008-864bf86c-8662-4e3f-9214-1026fa0015f9",
        "deepnote_cell_height": 692.390625,
        "deepnote_cell_type": "markdown",
        "tags": []
      },
      "source": "### The Dataset\n\n##### Description\n\nThe `elections` data set shows electoral votes, population size, prior election results, and campaign information in all 50 states and DC. The dataset has tidy organization, with one row per state.\n\n##### Variables\n\n- `state`: Name of state\n- `state_code`: Two-letter abbreviation of state name\n- `R/D_votes_YYYY`: Number of votes for Republican and Democrat candidate in year YYYY\n- `pop_size_2010`: Population size of state as of 2010 Census (when number of electoral votes was determined)\n- `house_seats`: Number of house representatives based on 2010 Census (applies to elections between 2011-2020)\n- `senate_seats`: Number of senators (2 Senate seats per state)\n- `electoral_votes`: Number of electoral votes (towards the Electoral College) based on 2010 Census (applies to 2012, 2016, and 2020 presidential elections)\n- `campaign_events_2020`: Number of campaign events hosted by Presidential candidates in the state between Aug 28 - Nov 3, 2020\n\n\n##### Data Sources \n\n - **Election Results Data:** MIT Election Data and Science Lab, 2017, [\"U.S. President 1976–2020\"](https://doi.org/10.7910/DVN/42MVDX), Harvard Dataverse, V6. \n \n - **Campaign Event Data:** [FairVote](https://docs.google.com/spreadsheets/d/1oR_x3wGpFi1wO2V0BNMV529s_V-AgGH7tKd66DD7rrM/edit#gid=2025398596)\n\n - **Electoral College Info:** [archives.gov](https://www.archives.gov/electoral-college/allocation)"
    },
    {
      "cell_type": "markdown",
      "metadata": {
        "cell_id": "00010-97ea1d41-92c1-407d-9108-a45ebeab172a",
        "deepnote_cell_height": 272.3125,
        "deepnote_cell_type": "markdown",
        "tags": []
      },
      "source": "### 1.0 - Invent a number that can help us identify swing states\n\nTo keep things a little simple, let's focus on the 2016 numbers rather than 2020.\n\nWe're trying to find the states that aren't *extremely* Republican nor *extremely* Democratic. Take a look at the variables in the data frame -- could we use any of these to figure out which states **are not** too extreme?\n\n**1.1 -** Try to come up with a new variable that could help us identify which states might be swing states."
    },
    {
      "cell_type": "code",
      "execution_count": null,
      "metadata": {
        "cell_id": "00011-aaccbbe1-1cdd-4e0b-bd8e-46b33e6fd7be",
        "deepnote_cell_height": 75.953125,
        "deepnote_cell_type": "code",
        "deepnote_to_be_reexecuted": false,
        "execution_millis": 459,
        "execution_start": 1659651970405,
        "output_cleared": true,
        "source_hash": "507a6323",
        "tags": [],
        "trusted": true
      },
      "outputs": [],
      "source": "head(elections)"
    },
    {
      "cell_type": "markdown",
      "metadata": {
        "cell_id": "00013-b87b6917-9c33-4b64-9c04-59ff78597acc",
        "deepnote_cell_height": 169.921875,
        "deepnote_cell_type": "markdown",
        "tags": []
      },
      "source": "**1.2 -** Arrange the states by the new variable you created. \n\nStates that are famously \"swingy\" tend to be states such as New Hampshire, Nevada, Michigan, Florida, Pennsylvania, Ohio (for more swing states, see the yellow, light blue, and pink states in the map at the top).\n\nDoes your new variable also identify those states as swing states? Why or why not?"
    },
    {
      "cell_type": "markdown",
      "metadata": {
        "cell_id": "00015-459393f7-5572-402b-8e65-bcceb46024e7",
        "deepnote_cell_height": 246.3125,
        "deepnote_cell_type": "markdown",
        "tags": []
      },
      "source": "### 2.0 - Investigating measures of \"swingyness\"\n\nNow we will create and investigate a few variables that other people have invented (both in your class and in the world)!\n- `vote_diff`: the difference between votes for R and D\n- `R_percent`: the percentage of votes for R (could have also been D)\n- `R_diff_50`: how different the R percent is from .50\n\nKeep an eye out for the pros and cons of each way of measuring \"swingyness\"."
    },
    {
      "cell_type": "markdown",
      "metadata": {
        "cell_id": "00016-37e7bf3f-d561-4ae3-88f0-5c27caffd313",
        "deepnote_cell_height": 147.53125,
        "deepnote_cell_type": "markdown",
        "tags": []
      },
      "source": "**2.1 -** Below we have created `vote_diff` which simply takes the R votes in 2016 and subtracts the D votes for 2016. \n\nWe also arranged the data frame by this variable. Where are the famously swingy states?\n\n(Can we modify this variable to make it better?)"
    },
    {
      "cell_type": "code",
      "execution_count": null,
      "metadata": {
        "cell_id": "00017-ab665f80-f148-4140-81b8-ec6106d54774",
        "deepnote_cell_height": 129.953125,
        "deepnote_cell_type": "code",
        "deepnote_to_be_reexecuted": false,
        "execution_millis": 309,
        "execution_start": 1659651970592,
        "output_cleared": true,
        "source_hash": "809ff1cf",
        "tags": [],
        "trusted": true
      },
      "outputs": [],
      "source": "elections <- elections %>% \n    mutate(vote_diff = R_votes_2016 - D_votes_2016)\n\narrange(elections, vote_diff)"
    },
    {
      "cell_type": "markdown",
      "metadata": {
        "cell_id": "00019-8d11d8c4-0485-4175-a2f6-f12f7a5caec9",
        "deepnote_cell_height": 133.53125,
        "deepnote_cell_type": "markdown",
        "tags": []
      },
      "source": "**2.2 -** Another approach is to see whether one party's votes comes close to 50%. Try creating a variable called `R_percent` that tells us the percentage of the votes cast for the Republican candidate in 2016.\n\nArrange the data frame by this variable. Where are the famously swingy states?\n"
    },
    {
      "cell_type": "markdown",
      "metadata": {
        "cell_id": "00022-9a1bbcc6-a930-4c7b-8c26-3d5be15d0354",
        "deepnote_cell_height": 111.140625,
        "deepnote_cell_type": "markdown",
        "tags": []
      },
      "source": "**2.3 -** Yet another idea might be to take the percent of votes that went to one party (for example, `R_percent`) and see how different it is from .50. Create a variable called `R_diff_50`.\n\nArrange the data frame by this variable. Where are the famously swingy states?"
    },
    {
      "cell_type": "markdown",
      "metadata": {
        "cell_id": "00024-b8f7d0d3-2465-4af2-b11b-e1e99dcfc091",
        "deepnote_cell_height": 97.140625,
        "deepnote_cell_type": "markdown",
        "tags": []
      },
      "source": "**2.4 -** Which of these three variables (`vote_diff`, `R_percent`, `R_diff_50`) seem like the best measure of swingyness? Which one identifies a lot of the states that are considered \"toss ups\" in the map at the beginning of this notebook?"
    },
    {
      "cell_type": "markdown",
      "metadata": {
        "cell_id": "00027-c7d6dffd-4608-4386-b93a-62ba879a830f",
        "deepnote_cell_height": 122.734375,
        "deepnote_cell_type": "markdown",
        "tags": []
      },
      "source": "### 3.0 - Which are the swing states?\n\nSo far we have created several quantitative measures of swingyness. In this section we will use one of those measures (`R_diff_50`) to categorize a state as a swing state or not."
    },
    {
      "cell_type": "markdown",
      "metadata": {
        "cell_id": "00028-7a7638bf-422f-4ffd-8ac6-dd6580521b4e",
        "deepnote_cell_height": 214.71875,
        "deepnote_cell_type": "markdown",
        "tags": []
      },
      "source": "Let's define a swing state as any state in which the Republican percentage of votes is only .02 away from .50. That means that if just .02 (or 2%) of the votes in that state change, the whole state would be won by a different party! \n\nBelow we have put in some code for a new function called `ifelse()` that says if the `R_diff_50` is less than .08, then it is considered a \"swing\" state, else it is considered a \"non-swing\" state.\n\n**3.1 -** Change the code to reflect our definition of a swing state. Also save the results back into the `elections` data frame."
    },
    {
      "cell_type": "code",
      "execution_count": null,
      "metadata": {
        "cell_id": "00030-83777046-20c5-4438-8719-e85b06a77bef",
        "deepnote_cell_height": 93.953125,
        "deepnote_cell_type": "code",
        "deepnote_to_be_reexecuted": false,
        "execution_millis": 6,
        "execution_start": 1659652449349,
        "output_cleared": true,
        "source_hash": "14aa58af",
        "tags": [],
        "trusted": true
      },
      "outputs": [],
      "source": "# Run this code\nifelse(elections$R_diff_50 < .08, \"swing\", \"not_swing\")"
    },
    {
      "cell_type": "markdown",
      "metadata": {
        "cell_id": "00033-224892d2-c16f-44cf-ba80-01cad3091696",
        "deepnote_cell_height": 74.75,
        "deepnote_cell_type": "markdown",
        "tags": []
      },
      "source": "**3.2 -** Which states are considered swing states (as defined by **our class**)? Does this list correspond to the states we identified using the map above?"
    },
    {
      "cell_type": "markdown",
      "metadata": {
        "cell_id": "00035-9434abb3-3d76-4e9e-a4e6-c3f464dbd901",
        "deepnote_cell_height": 74.75,
        "deepnote_cell_type": "markdown",
        "tags": []
      },
      "source": "**3.3 -** Play around with our definition of a swing state (can be flipped by just .02 of the votes). Can you find a better definition?"
    },
    {
      "cell_type": "markdown",
      "metadata": {
        "cell_id": "00037-90dcd983-5ce1-44dd-a47c-08fdae546482",
        "deepnote_cell_height": 61.953125,
        "deepnote_cell_type": "markdown",
        "tags": []
      },
      "source": "### 4.0 - Do the political parties cater to the swing states?"
    },
    {
      "cell_type": "markdown",
      "metadata": {
        "cell_id": "00039-efc7f9d0-ad60-4cca-a3ce-3c2a8d6042aa",
        "deepnote_cell_height": 133.53125,
        "deepnote_cell_type": "markdown",
        "tags": []
      },
      "source": "**4.1 -** The variable `campaign_events_2020` shows the number of Presidential campaign events/rallies candidates held in each state in the months leading up to the 2020 election (August - November, 2020). Explore variation in campaign events with a visualization.\n\nHow are campaign events distributed?"
    },
    {
      "cell_type": "markdown",
      "metadata": {
        "cell_id": "00042-37a02135-546b-43cc-89e9-dc519960e633",
        "deepnote_cell_height": 74.75,
        "deepnote_cell_type": "markdown",
        "tags": []
      },
      "source": "**4.2 -** Create a visualization to explore the relationship between whether states are swing states and the number of campaign events they hosted. Describe what you see."
    },
    {
      "cell_type": "markdown",
      "metadata": {
        "cell_id": "00046-9a0f3fbe-505c-4699-ae28-59399cd65582",
        "deepnote_cell_height": 61.953125,
        "deepnote_cell_type": "markdown",
        "tags": []
      },
      "source": "### 5.0 - *Why* do campaigns focus on swing states?"
    },
    {
      "cell_type": "markdown",
      "metadata": {
        "cell_id": "00047-49b436dd-9408-47e4-995f-14583837d9be",
        "deepnote_cell_height": 248.125,
        "deepnote_cell_type": "markdown",
        "tags": []
      },
      "source": "To see why campaigns focus on swing states, let's think about what can happen if campaigns convinced voters to \"switch sides\" in different states.\n\n**5.1 -** First, find the number of electoral votes won by the Republican candidate in 2016."
    },
    {
      "cell_type": "markdown",
      "metadata": {
        "cell_id": "00050-335b1031-2e87-4d73-8cf4-d78a669f659a",
        "deepnote_cell_height": 97.140625,
        "deepnote_cell_type": "markdown",
        "tags": []
      },
      "source": "**5.2 -** But what if, in 2016, we imagined that Republicans got 2% fewer votes in every state. Find the new number of electoral votes won by Republican candidate in 2016. Do the Republicans still win? Note: You need 270 electoral votes to win the Presidency."
    },
    {
      "cell_type": "markdown",
      "metadata": {
        "cell_id": "00054-22efa7a2-deda-4eb8-b167-5e502839e1d6",
        "deepnote_cell_height": 169.515625,
        "deepnote_cell_type": "markdown",
        "tags": []
      },
      "source": "<div class=\"alert alert-block alert-info\">\n\n<b> <font size=\"+1\">Key Question</font></b>\n\n**5.3 -** Which states do you think \"made the difference\" between the Republicans winning or losing the electoral college after the 2% voter share decline? Explain.\n\n</div>"
    },
    {
      "cell_type": "markdown",
      "metadata": {
        "cell_id": "00057-f678c5cc-7e89-429d-822e-4ded19beebd4",
        "deepnote_cell_height": 119.53125,
        "deepnote_cell_type": "markdown",
        "tags": []
      },
      "source": "**5.4 -** To further explore the deciding power of swing states, use the dataframe you created to find the number of swing states won by the Republican (Donald Trump) in 2016 and 2020. Based on these quantities, do you think swing states factored into Donald Trump's win in 2016 and loss in 2020?"
    },
    {
      "cell_type": "markdown",
      "metadata": {
        "cell_id": "00060-ce5e077a-ced5-419d-89a2-7c1921073dd1",
        "deepnote_cell_height": 179.125,
        "deepnote_cell_type": "markdown",
        "tags": []
      },
      "source": "<div class=\"alert alert-block alert-info\">\n\n<b> <font size=\"+2\">Key Question</font></b>\n\n**5.5 -** Is it \"fair\" that swing state voters get more deciding power than non-swing state voters? Why or why not?\n\n</div>"
    }
  ],
  "metadata": {
    "deepnote": {
      "is_reactive": false
    },
    "deepnote_execution_queue": [],
    "deepnote_notebook_id": "536fbafc-03cb-483c-8179-769412efd039",
    "kernelspec": {
      "display_name": "R",
      "language": "R",
      "name": "ir"
    },
    "language_info": {
      "codemirror_mode": "r",
      "file_extension": ".r",
      "mimetype": "text/x-r-source",
      "name": "R",
      "pygments_lexer": "r",
      "version": "4.0.3"
    },
    "nbsimplegrader": {
      "publish_config": {
        "classes": [],
        "options": [],
        "tools": []
      }
    }
  },
  "nbformat": 4,
  "nbformat_minor": 2
}