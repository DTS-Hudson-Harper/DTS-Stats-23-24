{
  "cells": [
    {
      "cell_type": "markdown",
      "metadata": {
        "cell_id": "f9a97e3c-d5be-48e9-a3d3-a8cf7bbd372a",
        "deepnote_cell_height": 81.953125,
        "deepnote_cell_type": "markdown",
        "tags": []
      },
      "source": "# 1C: TV Teens "
    },
    {
      "cell_type": "code",
      "execution_count": null,
      "metadata": {
        "cell_id": "00002-8dbf376b-9e1a-46ed-a42e-b4774331ff84",
        "deepnote_cell_height": 260.953125,
        "deepnote_cell_type": "code",
        "deepnote_to_be_reexecuted": false,
        "execution_millis": 2598,
        "execution_start": 1659656351241,
        "output_cleared": true,
        "source_hash": "bab8e738",
        "tags": [],
        "trusted": true
      },
      "outputs": [],
      "source": "# This code will load the R packages we will use\nsuppressPackageStartupMessages({\n    library(coursekata)\n})\n\n# loads data\ntv_teens <- read.csv(\"https://docs.google.com/spreadsheets/d/e/2PACX-1vQIO_RIn3K6izwdQhvWzo84ALKQ1MP_ZTZ9EzGqqecvejQSpouysYAxDecGBIPdwKs31OoZZmQTR3au/pub?gid=395733557&single=true&output=csv\")\n\ntv_teens <- tv_teens %>% \n  mutate(any_love = factor(ifelse(is.na(num_love_interest),\"none\",\"1+\")),\n         character_gender = factor(character_gender))"
    },
    {
      "cell_type": "markdown",
      "metadata": {
        "cell_id": "00004-f68b93cb-519b-4009-ad0f-5db9b710804d",
        "deepnote_cell_height": 438.8125,
        "deepnote_cell_type": "markdown",
        "tags": []
      },
      "source": "<img src=\"https://i.postimg.cc/HTGdRdfd/teen-actors.jpg\" alt=\"so called teenagers from popular shows\" width = 50%>\n\n## Are those really high schoolers? \n\nWe have seen a renaissance of teen dramas: Euphoria, Sex Education, Riverdale, Elite, Yellowjackets, etc. These popular shows depict high schoolers doing very \"adult\" things (as the saying goes: \"sex, drugs, and rock & roll\"... minus the \"rock & roll\"). \n\nToday we'll ask: Are the actors that play these characters actually of high school age? When is the actor's age really different from the character's age?"
    },
    {
      "cell_type": "markdown",
      "metadata": {
        "cell_id": "00005-c2ac0650-f843-4569-99b4-78a3f0bde826",
        "deepnote_cell_height": 93.953125,
        "deepnote_cell_type": "markdown",
        "tags": []
      },
      "source": "### Motivating Question: How old are the actors who play famous teenage TV characters?"
    },
    {
      "cell_type": "markdown",
      "metadata": {
        "cell_id": "00006-12adc3b6-a976-4c64-9d76-f147ddd7134f",
        "deepnote_cell_height": 647.59375,
        "deepnote_cell_type": "markdown",
        "tags": []
      },
      "source": "### The Dataset\n\n#### Description\n\nThe data frame `tv_teens` shows the ages of TV characters and the ages of the actors who play them, **during the first season** that the show was on the air. Dataset has tidy organization, with one row per TV character.\n\n#### Variables\n\n- `name`: Name of actor\n- `title`: Title of show\n- `character_name`: Name of character\n- `character_age`: Character's age \n- `character_year`: Character's school grade level (if provided)\n- `character_gender`: Gender of character (M - Male, F - Female, NB - Non-binary, TM - Trans Man, TW - Trans Woman)\n- `love_interest`: Love interests of character on the show\n- `num_love_interest`: Number of love interests \n- `any_love`: \"+1\" if character has any love interests, \"none\" if `love_interest` is left blank \n- `release_year`: Year when show was released\n- `release_date`: Date when show was released\n- `actor_age`: Actor age at time of release\n\n##### Data Source \n\n - [Amber Thomas (Data World), CC-BY-SA](https://data.world/amberthomas/age-of-characters-and-actors-in-teen-tv-shows/activity)\n"
    },
    {
      "cell_type": "markdown",
      "metadata": {
        "cell_id": "00008-4bf4687d-d252-4c29-816c-dc343df5b514",
        "deepnote_cell_height": 61.953125,
        "deepnote_cell_type": "markdown",
        "tags": []
      },
      "source": "### 1.0 - Exploring the TV Teens Dataset"
    },
    {
      "cell_type": "markdown",
      "metadata": {
        "cell_id": "00009-59564a20-4c70-41ac-ba1c-073548cffe2e",
        "deepnote_cell_height": 52.359375,
        "deepnote_cell_type": "markdown",
        "tags": []
      },
      "source": "**1.1 -** As usual, let's start by just exploring the data. Run some code to take a look at the dataset."
    },
    {
      "cell_type": "markdown",
      "metadata": {
        "cell_id": "00011-2641a0f7-deaa-4512-b7b2-433af778fb9d",
        "deepnote_cell_height": 74.75,
        "deepnote_cell_type": "markdown",
        "tags": []
      },
      "source": "**1.2 -** In this dataset, each row represents a character. How many total characters are included in the dataset?"
    },
    {
      "cell_type": "markdown",
      "metadata": {
        "cell_id": "00014-761a28b1-7feb-4406-b3d1-34a72e9b1193",
        "deepnote_cell_height": 74.75,
        "deepnote_cell_type": "markdown",
        "tags": []
      },
      "source": "**1.3 -** The `title` column lists the shows that are included in the dataset. What shows and how many characters from each show are included in `tv_teens`?"
    },
    {
      "cell_type": "markdown",
      "metadata": {
        "cell_id": "00016-3391e5fa-d1be-41e9-aa50-7d7589a5d1a8",
        "deepnote_cell_height": 74.75,
        "deepnote_cell_type": "markdown",
        "tags": []
      },
      "source": "**1.4 -** Visualize the distribution of the genders of characters in this dataset. Describe the distribution."
    },
    {
      "cell_type": "markdown",
      "metadata": {
        "cell_id": "00019-c4354a45-ddaa-45b0-9d03-0bf89684e53a",
        "deepnote_cell_height": 52.359375,
        "deepnote_cell_type": "markdown",
        "tags": []
      },
      "source": "**1.5 -** Visualize the distribution of character ages in this dataset. Describe the distribution."
    },
    {
      "cell_type": "markdown",
      "metadata": {
        "cell_id": "00022-c0806522-0b8a-4bae-b307-e00eb91f23be",
        "deepnote_cell_height": 74.75,
        "deepnote_cell_type": "markdown",
        "tags": []
      },
      "source": "**1.6 -** In the prior question, you may have seen a warning message about missing values when you produced your graph. Are there missing values in the `character_age` column? If so, how many?"
    },
    {
      "cell_type": "code",
      "execution_count": null,
      "metadata": {
        "cell_id": "00023-eeeee8b8-59af-4881-bdaf-25937c36ca0d",
        "deepnote_cell_height": 75.953125,
        "deepnote_cell_type": "code",
        "deepnote_to_be_reexecuted": false,
        "execution_millis": 18,
        "execution_start": 1659749296789,
        "output_cleared": true,
        "source_hash": "b05c068a",
        "tags": [],
        "trusted": true
      },
      "outputs": [],
      "source": "# Use tally or favstats to see number of missing values"
    },
    {
      "cell_type": "markdown",
      "metadata": {
        "cell_id": "00026-df9a3136-d223-452b-a6a4-b64e8dd4d7fe",
        "deepnote_cell_height": 122.734375,
        "deepnote_cell_type": "markdown",
        "tags": []
      },
      "source": "### 2.0 - Handling Missing Values\n\nOur key variable of interest (`character_age`) has a lot of missing values. How should we handle this? Let's explore!"
    },
    {
      "cell_type": "markdown",
      "metadata": {
        "cell_id": "00027-f49fbd11-95d8-473c-8e0d-644b08a89675",
        "deepnote_cell_height": 191.90625,
        "deepnote_cell_type": "markdown",
        "tags": []
      },
      "source": "<div class=\"alert alert-block alert-info\">\n\n<b> <font size=\"+1\">Key Question</font></b>\n\n\n<br>\n\n**2.1 -** One solution would be to discard all rows that have a missing `character_age`. Is this an ideal solution? Why or why not?\n\n</div>"
    },
    {
      "cell_type": "markdown",
      "metadata": {
        "cell_id": "00029-09291dbd-6b4a-4b56-a30d-0c418ecb9e40",
        "deepnote_cell_height": 74.75,
        "deepnote_cell_type": "markdown",
        "tags": []
      },
      "source": "**2.2 -** Display the head of the dataset again, but this time include 20 rows. Is there anything else in the dataset that could give us information about character ages?"
    },
    {
      "cell_type": "markdown",
      "metadata": {
        "cell_id": "00032-8542d8da-ee54-4514-8c1f-613ecb2c50fb",
        "deepnote_cell_height": 74.75,
        "deepnote_cell_type": "markdown",
        "tags": []
      },
      "source": "**2.3 -** Use the information you identified above to fill in reasonable estimates for the missing values in `character_age`. Include this in a new column called `character_age_filled`. "
    },
    {
      "cell_type": "markdown",
      "metadata": {
        "cell_id": "00035-8f5e999e-cd22-4ef5-9d94-9b554bab9a25",
        "deepnote_cell_height": 191.90625,
        "deepnote_cell_type": "markdown",
        "deepnote_to_be_reexecuted": false,
        "execution_millis": 610,
        "execution_start": 1649704559792,
        "source_hash": "38b1f052",
        "tags": []
      },
      "source": "<div class=\"alert alert-block alert-info\">\n\n<b> <font size=\"+1\">Key Question</font></b>\n\n<br>\n\n**2.4 -** Could your method for filling in missing values of `character_age` introduce any bias into your analyses? If so, in what way(s)?\n\n</div>"
    },
    {
      "cell_type": "markdown",
      "metadata": {
        "cell_id": "00038-79a25a4b-4a5c-485b-858a-55c154381b65",
        "deepnote_cell_height": 100.34375,
        "deepnote_cell_type": "markdown",
        "tags": []
      },
      "source": "### 3.0 - Analyzing Age\n\n**3.1 -** Visualize the character ages and visualize the actor ages. What pattern do you notice?"
    },
    {
      "cell_type": "markdown",
      "metadata": {
        "cell_id": "00041-344989b0-2346-401d-817e-e271747dbe0a",
        "deepnote_cell_height": 97.140625,
        "deepnote_cell_type": "markdown",
        "tags": []
      },
      "source": "**3.2 -** Create a new variable in the dataset, which shows the difference between actors' ages and the characters they plan (actor - character). Call this variable `age_diff\n`."
    },
    {
      "cell_type": "markdown",
      "metadata": {
        "cell_id": "00043-a7f010f9-8b33-4063-b864-d2e3ae715ecc",
        "deepnote_cell_height": 191.90625,
        "deepnote_cell_type": "markdown",
        "tags": []
      },
      "source": "<div class=\"alert alert-block alert-info\">\n\n<b> <font size=\"+1\">Key Question</font></b>\n\n<br>\n\n**3.3 -** Visualize the distribution of `age_diff`. Describe the distribution. Does it provide evidence that actors tend to be older than the characters they play? Why or why not?\n\n</div>"
    },
    {
      "cell_type": "markdown",
      "metadata": {
        "cell_id": "00046-15a586d8-28bf-4433-9906-59084a0e5599",
        "deepnote_cell_height": 141.9375,
        "deepnote_cell_type": "markdown",
        "tags": []
      },
      "source": "**3.4 -** Calculate the following statistics. What do each of these statistics suggest about the relationship between actors' ages and the age of their characters? \na. The average age of the actor versus the average age of the character\nb. The proportion of characters whose ages are higher than their characters\nc. The `favstats` of age difference"
    },
    {
      "cell_type": "markdown",
      "metadata": {
        "cell_id": "00049-46dbc060-a2ae-4756-bc1c-1c66cd7eedaa",
        "deepnote_cell_height": 52.359375,
        "deepnote_cell_type": "markdown",
        "tags": []
      },
      "source": "**3.5 -** Are there any characters played by younger actors? If so, who are these characters/actors?"
    }
  ],
  "metadata": {
    "deepnote": {
      "is_reactive": false
    },
    "deepnote_execution_queue": [],
    "deepnote_notebook_id": "c8c44d1a-2e3f-4d5f-bfbc-4ff65c57ff59",
    "kernelspec": {
      "display_name": "R",
      "language": "R",
      "name": "ir"
    },
    "language_info": {
      "codemirror_mode": "r",
      "file_extension": ".r",
      "mimetype": "text/x-r-source",
      "name": "R",
      "pygments_lexer": "r",
      "version": "4.0.3"
    },
    "nbsimplegrader": {
      "publish_config": {
        "classes": [],
        "options": [],
        "tools": []
      }
    }
  },
  "nbformat": 4,
  "nbformat_minor": 2
}