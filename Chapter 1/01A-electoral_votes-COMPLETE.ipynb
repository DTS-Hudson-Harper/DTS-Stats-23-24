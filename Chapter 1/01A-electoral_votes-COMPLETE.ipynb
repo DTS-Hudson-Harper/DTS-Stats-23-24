{
  "cells": [
    {
      "cell_type": "markdown",
      "metadata": {
        "deepnote_cell_height": 260.703125,
        "deepnote_cell_type": "markdown",
        "tags": []
      },
      "source": "<div class=\"alert alert-block alert-danger\">\n\n# 1A: The Electoral College (COMPLETE)\n\n*This notebook is intended for students who have completed up to:*\n \n**Chapter 1.5**\n\n</div>"
    },
    {
      "cell_type": "markdown",
      "metadata": {
        "deepnote_cell_height": 507.640625,
        "deepnote_cell_type": "markdown",
        "tags": []
      },
      "source": "<div class=\"alert alert-block alert-warning\">\n\n#### Summary of Notebook:\n\nIn this lesson, students will explore some election data to consider whether the electoral college is a fair system of Presidential election in the United States. They will explore the data to answer questions such as: *What seems to determine how many electoral votes a state gets? Which states grant voters more electoral power per person?*\n\n#### Includes:\n\n- Distinguishing between variables and values in dataframes\n- Making new variables in a data frame\n- Using proportionality to compare voter power across states\n- Classifying observations based on conditions (e.g., swing states have close voter shares)\n\n#### Background Knowledge:\n\nFor this activity, if you have students who are unfamiliar with American politics, it would be useful to explain that there are two major parties: Republican (often symbolized with the color red) and Democrat (often symbolized with the color blue). Students do not need to know the policy positions of the parties to successfully complete the activity.\n\n</div>"
    },
    {
      "cell_type": "markdown",
      "metadata": {
        "deepnote_cell_height": 163.9375,
        "deepnote_cell_type": "markdown",
        "tags": []
      },
      "source": "<div class=\"alert alert-block alert-success\">\n\n## Approximate time to complete Notebook: 60-75 Mins\n\n</div>"
    },
    {
      "cell_type": "code",
      "execution_count": null,
      "metadata": {
        "deepnote_cell_height": 129.953125,
        "deepnote_cell_type": "code",
        "deepnote_to_be_reexecuted": false,
        "execution_millis": 1711,
        "execution_start": 1660178914571,
        "output_cleared": true,
        "source_hash": "116f7300",
        "tags": [],
        "trusted": true
      },
      "outputs": [],
      "source": "# This code will load the R packages we will use\nsuppressPackageStartupMessages({\n    library(coursekata)\n})"
    },
    {
      "cell_type": "markdown",
      "metadata": {
        "deepnote_cell_height": 472.671875,
        "deepnote_cell_type": "markdown",
        "tags": []
      },
      "source": "<img src=\"https://i.postimg.cc/QhnLmJvj/2012-Electoral-College-Map.png\" title = \"2012 Electoral College Map with Population Vote Margin for Each State\" width = 80% />"
    },
    {
      "cell_type": "markdown",
      "metadata": {
        "deepnote_cell_height": 296.71875,
        "deepnote_cell_type": "markdown",
        "tags": []
      },
      "source": "## The Electoral College and \"Fair\" Representation\n\nOur method for voting for a U.S. president is a bit ... weird. Instead of a simple popular vote (whoever gets the most votes wins), we count \"electoral votes\" among each state. If you win a state (even by only a little bit), you get **ALL** its electoral votes. If you can obtain the majority (270) of the total 538 electoral votes, you win the presidency.\n\nThe system can lead to some *interesting* results. For example, five U.S. Presidents did not win as many votes as their opponents; yet, they still won the Presidency due to the Electoral College system."
    },
    {
      "cell_type": "markdown",
      "metadata": {
        "deepnote_cell_height": 61.953125,
        "deepnote_cell_type": "markdown",
        "owner_user_id": "52a894a5-3789-4f8c-bc49-427cc1339b77",
        "tags": []
      },
      "source": "### Motivating Question:  Is The Electoral College Fair? "
    },
    {
      "cell_type": "markdown",
      "metadata": {
        "deepnote_cell_height": 692.390625,
        "deepnote_cell_type": "markdown",
        "tags": []
      },
      "source": "### The Dataset\n\n##### Description\n\nThe `elections` data set shows electoral votes, population size, prior election results, and campaign information in all 50 states and DC. The dataset has tidy organization, with one row per state.\n\n##### Variables\n\n- `state`: Name of state\n- `state_code`: Two-letter abbreviation of state name\n- `R/D_votes_YYYY`: Number of votes for Republican and Democrat candidate in year YYYY\n- `pop_size_2010`: Population size of state as of 2010 Census (when number of electoral votes was determined)\n- `house_seats`: Number of house representatives based on 2010 Census (applies to elections between 2011-2020)\n- `senate_seats`: Number of senators (2 Senate seats per state)\n- `electoral_votes`: Number of electoral votes (towards the Electoral College) based on 2010 Census (applies to 2012, 2016, and 2020 presidential elections)\n- `campaign_events_2020`: Number of campaign events hosted by Presidential candidates in the state between Aug 28 - Nov 3, 2020\n\n\n##### Data Sources \n\n - **Election Results Data:** MIT Election Data and Science Lab, 2017, [\"U.S. President 1976–2020\"](https://doi.org/10.7910/DVN/42MVDX), Harvard Dataverse, V6. \n \n - **Campaign Event Data:** [FairVote](https://docs.google.com/spreadsheets/d/1oR_x3wGpFi1wO2V0BNMV529s_V-AgGH7tKd66DD7rrM/edit#gid=2025398596)\n\n - **Electoral College Info:** [archives.gov](https://www.archives.gov/electoral-college/allocation)\n"
    },
    {
      "cell_type": "markdown",
      "metadata": {
        "deepnote_cell_height": 115.9375,
        "deepnote_cell_type": "markdown",
        "tags": []
      },
      "source": "<div class=\"alert alert-block alert-success\">\n\n### 1.0 - Approximate Time:  20-25 mins\n\n</div>"
    },
    {
      "cell_type": "markdown",
      "metadata": {
        "deepnote_cell_height": 61.953125,
        "deepnote_cell_type": "markdown",
        "tags": []
      },
      "source": "### 1.0 - Exploring Electoral Votes"
    },
    {
      "cell_type": "markdown",
      "metadata": {
        "deepnote_cell_height": 207.90625,
        "deepnote_cell_type": "markdown",
        "tags": []
      },
      "source": "<div class=\"alert alert-block alert-warning\">\n\n<b>Instructor Note:</b> \n\nEmphasize for students that the first step in any analysis is to explore the dataframe, visualize key variables, and look for inconsistencies. For example, here, we'd like to make sure there are 50 states and DC (i.e., no states are missing), the election results correspond with the actual results from each cycle, and we'd like to explore the number of electoral votes per state. \n</div>"
    },
    {
      "cell_type": "markdown",
      "metadata": {
        "deepnote_cell_height": 52.359375,
        "deepnote_cell_type": "markdown",
        "tags": []
      },
      "source": "**1.1 -** Run the following codeblock to download the dataset and display the first few rows."
    },
    {
      "cell_type": "code",
      "execution_count": null,
      "metadata": {
        "deepnote_cell_height": 409.859375,
        "deepnote_cell_type": "code",
        "deepnote_output_heights": [
          276.90625
        ],
        "deepnote_to_be_reexecuted": false,
        "execution_millis": 1472,
        "execution_start": 1660178916321,
        "output_cleared": false,
        "source_hash": "2b3bfca8",
        "tags": [],
        "trusted": true
      },
      "outputs": [],
      "source": "#Load the dataset\nelections <- read.csv(\"https://docs.google.com/spreadsheets/d/e/2PACX-1vTMgaVH2HliUYh7W0xnahnavVq4oLU0rLkKwBvyBnJue2FPkl_O8kX6MZUQY1OwWl-QzQEciu7mc8jv/pub?output=csv\")\nhead(elections)"
    },
    {
      "cell_type": "markdown",
      "metadata": {
        "deepnote_cell_height": 214.296875,
        "deepnote_cell_type": "markdown",
        "tags": []
      },
      "source": "<div class=\"alert alert-block alert-info\">\n\n<b> <font size=\"+1\">Key Question</font></b>\n\n<br>\n\n**1.2 -** Look closely at the last few columns of the dataset. How do you think electoral college votes are calculated for each state? Is there a minimum number of electoral votes a state can have? Justify your answer.\n\n</div>"
    },
    {
      "cell_type": "markdown",
      "metadata": {
        "deepnote_cell_height": 347.875,
        "deepnote_cell_type": "markdown",
        "tags": []
      },
      "source": "<div class=\"alert alert-block alert-warning\">\n\n<b>Sample Response:</b> \n\nThe electoral votes are the sum of the house seats and senate seats for each state. We can see that if you add the values in the `house_seats` and `senate_seats` columns, you arrive at the `electoral_votes` value. The minimum number of electoral votes is 3 (two senators and one house representative).<br><br>\n\n<b>Instructor Note:</b> \n\nWhile it is tempting to already think about how including the senators may distort representation, try to hold off on those conversations for now. We'll get to it later, alongside our robust quantitative analysis further down in the notebook.\n</div>"
    },
    {
      "cell_type": "markdown",
      "metadata": {
        "deepnote_cell_height": 74.75,
        "deepnote_cell_type": "markdown",
        "tags": []
      },
      "source": "**1.3 -** Which state has the most electoral votes? Why do you think this state has the highest number of votes? "
    },
    {
      "cell_type": "code",
      "execution_count": null,
      "metadata": {
        "deepnote_cell_height": 1494.203125,
        "deepnote_cell_type": "code",
        "deepnote_output_heights": [
          606.453125,
          276.90625,
          276.90625
        ],
        "deepnote_to_be_reexecuted": false,
        "execution_millis": 179,
        "execution_start": 1660178917799,
        "output_cleared": false,
        "source_hash": "209dfe58",
        "tags": [],
        "trusted": true
      },
      "outputs": [],
      "source": "# Sample Response(s)\n# example 1\narrange(elections, desc(electoral_votes))\n\n# example 2\nelections_ordered <- arrange(elections, desc(electoral_votes))\nhead(elections_ordered)\n\n# example 3\nelections_ordered <- arrange(elections, electoral_votes)\ntail(elections_ordered)"
    },
    {
      "cell_type": "markdown",
      "metadata": {
        "deepnote_cell_height": 149.125,
        "deepnote_cell_type": "markdown",
        "tags": []
      },
      "source": "<div class=\"alert alert-block alert-warning\">\n\n<b>Sample Response:</b> California has the highest number of electoral votes, with 55. It has the highest number of electoral votes because it seems to have the highest population size (over 37 million, according to the 2010 Census).\n</div>"
    },
    {
      "cell_type": "markdown",
      "metadata": {
        "deepnote_cell_height": 74.75,
        "deepnote_cell_type": "markdown",
        "tags": []
      },
      "source": "**1.4 -** Using an appropriate visualization, display and describe the distribution of the number of electoral votes per state."
    },
    {
      "cell_type": "code",
      "execution_count": null,
      "metadata": {
        "allow_embed": false,
        "deepnote_cell_height": 1596.96875,
        "deepnote_cell_type": "code",
        "deepnote_output_heights": [
          445,
          445.015625,
          445.015625
        ],
        "deepnote_to_be_reexecuted": false,
        "execution_millis": 1772,
        "execution_start": 1660178917980,
        "output_cleared": false,
        "source_hash": "490e7297",
        "tags": [],
        "trusted": true
      },
      "outputs": [],
      "source": "# Sample Response(s)\ngf_histogram(~ electoral_votes, binwidth = 1, data = elections)\n\ngf_boxplot(electoral_votes ~ 1, binwidth = 1, data = elections)\n\ngf_histogram(~ electoral_votes, binwidth = 1, data = elections) %>%\ngf_boxplot()"
    },
    {
      "cell_type": "markdown",
      "metadata": {
        "deepnote_cell_height": 384.265625,
        "deepnote_cell_type": "markdown",
        "tags": []
      },
      "source": "<div class=\"alert alert-block alert-warning\">\n\n<b>Sample Response:</b> \n\nIt appears that the distribution of electoral votes is right skewed, with most states having fewer than 20 electoral votes, but some states having much larger totals. The mode appears to be about 3 electoral votes.<br><br>\n\n<b>Instructor Note:</b> \n\nA jitterplot or boxplot would also make for effective visualizations.\n\nNote, that a review of visualizations has not been covered at this point in the book, but students should still recall the basics of data visualization from books A and B. If you prefer, you can include the visualizations (or the skeleton of the code) for them at this time, instead of having them generate one from scratch.\n\n</div>"
    },
    {
      "cell_type": "markdown",
      "metadata": {
        "deepnote_cell_height": 97.140625,
        "deepnote_cell_type": "markdown",
        "tags": []
      },
      "source": "**1.5 -** Take a look at the states with the lowest number of electoral votes with the code block below. How many states are tied for the lowest number of electoral votes? Why do you think they have the *same* number of electoral votes?"
    },
    {
      "cell_type": "code",
      "execution_count": null,
      "metadata": {
        "deepnote_cell_height": 502.8125,
        "deepnote_cell_type": "code",
        "deepnote_output_heights": [
          392.875
        ],
        "deepnote_to_be_reexecuted": false,
        "execution_millis": 874,
        "execution_start": 1660178919780,
        "output_cleared": false,
        "source_hash": "39f4a318",
        "tags": [],
        "trusted": true
      },
      "outputs": [],
      "source": "elections_ordered <- arrange(elections, electoral_votes)\nhead(elections_ordered, 10)"
    },
    {
      "cell_type": "markdown",
      "metadata": {
        "deepnote_cell_height": 319.875,
        "deepnote_cell_type": "markdown",
        "tags": []
      },
      "source": "<div class=\"alert alert-block alert-warning\">\n\n<b>Sample Response:</b> \nAlaska, Delaware, Montana, North Dakota, South Dakota, Vermont, and Wyoming are all tied for the least number of electoral votes: 3. These states have the lowest number of votes because they seem to have the lowest population sizes (as shown in the `pop_size_2010` column). Because of their small populations, they only get 1 house representative. They also get the 2 senators that all states are guaranteed. This means that each gets a total of 3 electoral college representatives.<br>\n\nNote that DC (which isn't a state) also gets 3 electoral college vote. Is that fair? Not fair? A useful state to compare DC to is Wyoming which has a smaller population (560,000 vs DC's 600,000).\n</div>"
    },
    {
      "cell_type": "markdown",
      "metadata": {
        "deepnote_cell_height": 115.9375,
        "deepnote_cell_type": "markdown",
        "tags": []
      },
      "source": "<div class=\"alert alert-block alert-success\">\n\n### 2.0 - Approximate Time:  20-25 mins\n\n</div>"
    },
    {
      "cell_type": "markdown",
      "metadata": {
        "deepnote_cell_height": 61.953125,
        "deepnote_cell_type": "markdown",
        "tags": []
      },
      "source": "### 2.0 - Results from Votes vs. Electoral College"
    },
    {
      "cell_type": "markdown",
      "metadata": {
        "deepnote_cell_height": 178.328125,
        "deepnote_cell_type": "markdown",
        "tags": []
      },
      "source": "States with different population sizes sometimes have the same number of electoral votes (see last question). In addition, the Electoral College is winner-take-all. This means that if 51% of voters in a state cast a ballot for a certain candidate, that candidate wins ALL of the state's Electoral Votes. The difference between popular votes and electoral college votes can be surprising.\n\nLet's look at 2020 and 2016 -- which party (R or D) won the popular vote? Who won the electoral college vote (and became president)?"
    },
    {
      "cell_type": "markdown",
      "metadata": {
        "deepnote_cell_height": 169.53125,
        "deepnote_cell_type": "markdown",
        "tags": []
      },
      "source": "#### 2020\n\n**2.1 -** Which candidate (R or D) won the popular vote? (Use the `elections` data frame to figure this out.)\n\n**2.2 -** You can view the outcome of the 2020 election [here](https://www.270towin.com/2020_Election/interactive_map). Do the vote totals you calculated above align with the actual election outcome (as determined by the electoral college)?"
    },
    {
      "cell_type": "code",
      "execution_count": null,
      "metadata": {
        "deepnote_cell_height": 273.3125,
        "deepnote_cell_type": "code",
        "deepnote_output_heights": [
          21.1875,
          21.1875
        ],
        "deepnote_to_be_reexecuted": false,
        "execution_millis": 830,
        "execution_start": 1660178919825,
        "output_cleared": false,
        "source_hash": "d31ea567",
        "tags": [],
        "trusted": true
      },
      "outputs": [],
      "source": "# Sample Response\n\n#Sum of Republican votes in 2020\nsum(elections$R_votes_2020)\n\n#Sum of Democratic votes in 2020\nsum(elections$D_votes_2020)"
    },
    {
      "cell_type": "markdown",
      "metadata": {
        "deepnote_cell_height": 163.125,
        "deepnote_cell_type": "markdown",
        "tags": []
      },
      "source": "<div class=\"alert alert-block alert-warning\">\n\n<b>Sample Response:</b> \n\nYes. The Democratic candidate (Joe Biden) got more votes in the popular vote, and he won the Electoral College.\n</div>"
    },
    {
      "cell_type": "markdown",
      "metadata": {
        "deepnote_cell_height": 147.140625,
        "deepnote_cell_type": "markdown",
        "tags": []
      },
      "source": "#### 2016\n\n**2.3 -** Which candidate (R or D) won the popular vote?\n\n**2.4 -** You can view the outcome of the 2016 election [here](https://www.270towin.com/2016_Election/interactive_map). Do the vote totals you calculated above align with the actual election outcome (as determined by the electoral college)?"
    },
    {
      "cell_type": "code",
      "execution_count": null,
      "metadata": {
        "deepnote_cell_height": 273.3125,
        "deepnote_cell_type": "code",
        "deepnote_output_heights": [
          21.1875,
          21.1875
        ],
        "deepnote_to_be_reexecuted": false,
        "execution_millis": 828,
        "execution_start": 1660178919827,
        "output_cleared": false,
        "source_hash": "4749999a",
        "tags": [],
        "trusted": true
      },
      "outputs": [],
      "source": "# Sample Response\n\n#Sum of Republican votes in 2016\nsum(elections$R_votes_2016)\n\n#Sum of Democratic votes in 2016\nsum(elections$D_votes_2016)"
    },
    {
      "cell_type": "markdown",
      "metadata": {
        "deepnote_cell_height": 163.125,
        "deepnote_cell_type": "markdown",
        "tags": []
      },
      "source": "<div class=\"alert alert-block alert-warning\">\n\n<b>Sample Response:</b> \n\nNo. The Republican candidate (Donald Trump) got fewer votes in the popular vote, but he still won the Electoral College.\n\n</div>"
    },
    {
      "cell_type": "markdown",
      "metadata": {
        "deepnote_cell_height": 115.9375,
        "deepnote_cell_type": "markdown",
        "tags": []
      },
      "source": "<div class=\"alert alert-block alert-success\">\n\n### 3.0 - Approximate Time:  20-25 mins\n\n</div>"
    },
    {
      "cell_type": "markdown",
      "metadata": {
        "deepnote_cell_height": 159.140625,
        "deepnote_cell_type": "markdown",
        "tags": []
      },
      "source": "<br>\n\n### 3.0 - Voter Power and Population Size\n\nHow can candidates with fewer votes still win the Electoral College? \n\nPart of the answer lies in how voter power differs by state size in the Electoral College."
    },
    {
      "cell_type": "markdown",
      "metadata": {
        "deepnote_cell_height": 97.140625,
        "deepnote_cell_type": "markdown",
        "tags": []
      },
      "source": "**3.1 -** California has 55 electoral votes and 37,253,956 people. Wyoming has 3 electoral votes and 563,626 people. In which state do voters have more power in choosing the next President of the United States?"
    },
    {
      "cell_type": "markdown",
      "metadata": {
        "deepnote_cell_height": 295.078125,
        "deepnote_cell_type": "markdown",
        "tags": []
      },
      "source": "<div class=\"alert alert-block alert-warning\">\n\n<b>Possible Responses:</b>\n\n<li>California, since it has a higher raw number of electoral votes. (most common answer)\n<li>Wyoming has more electoral votes <i>per person</i> than California, giving Wyoming residents more <i>individual</i> voter power.<br><br>\n\n<b>Instructor Note:</b> \n\nIf no students bring up the idea of electoral votes per person, then consider steering students in that direction through conversations before proceeding to the next question.\n\n</div>"
    },
    {
      "cell_type": "markdown",
      "metadata": {
        "deepnote_cell_height": 74.75,
        "deepnote_cell_type": "markdown",
        "tags": []
      },
      "source": "**3.2 -** Find the number of electoral votes **per person** in each of the states. Save this ratio as a new variable called `electoral_votes_per_person` in the `elections` data frame."
    },
    {
      "cell_type": "code",
      "execution_count": null,
      "metadata": {
        "deepnote_cell_height": 170.953125,
        "deepnote_cell_type": "code",
        "deepnote_to_be_reexecuted": false,
        "execution_millis": 0,
        "execution_start": 1660178919870,
        "output_cleared": true,
        "source_hash": "663319d7",
        "tags": [],
        "trusted": true
      },
      "outputs": [],
      "source": "# Sample Response\nelections$electoral_votes_per_person <- elections$electoral_votes / elections$pop_size_2010\n\n# you can also teach your students mutate()\nelections <- elections %>%\n    mutate(electoral_votes_per_person = electoral_votes/pop_size_2010)"
    },
    {
      "cell_type": "markdown",
      "metadata": {
        "deepnote_cell_height": 74.75,
        "deepnote_cell_type": "markdown",
        "tags": []
      },
      "source": "**3.3 -** Run the cell below to print out the `electoral_votes_per_person` for each state. Are these numbers easy to interpret? What could make them more interepretable?"
    },
    {
      "cell_type": "code",
      "execution_count": null,
      "metadata": {
        "deepnote_cell_height": 391.859375,
        "deepnote_cell_type": "code",
        "deepnote_output_heights": [
          276.90625
        ],
        "deepnote_to_be_reexecuted": false,
        "execution_millis": 785,
        "execution_start": 1660178919870,
        "output_cleared": false,
        "source_hash": "a4b1ca41",
        "tags": [],
        "trusted": true
      },
      "outputs": [],
      "source": "# Run this code\nhead(select(elections, state,pop_size_2010, electoral_votes, electoral_votes_per_person))"
    },
    {
      "cell_type": "markdown",
      "metadata": {
        "deepnote_cell_height": 97.140625,
        "deepnote_cell_type": "markdown",
        "tags": []
      },
      "source": "**3.4 -** To make this quantity more interpretable, we can multiply the electoral votes per person by 1 million. This represents the number of electoral votes per 1 million citizens. Perform this calculation and save it in the dataframe as `electoral_votes_per_million`."
    },
    {
      "cell_type": "code",
      "execution_count": null,
      "metadata": {
        "deepnote_cell_height": 499.859375,
        "deepnote_cell_type": "code",
        "deepnote_output_heights": [
          276.90625
        ],
        "deepnote_to_be_reexecuted": false,
        "execution_millis": 730,
        "execution_start": 1660178919925,
        "output_cleared": false,
        "source_hash": "3ca575e5",
        "tags": [],
        "trusted": true
      },
      "outputs": [],
      "source": "# Sample Response\nelections$electoral_votes_per_million <- elections$electoral_votes_per_person * 1000000\n\n# you can also teach your students mutate()\nelections <- elections %>%\n    mutate(electoral_votes_per_million = electoral_votes_per_person * 1000000)\n\nhead(select(elections, state,pop_size_2010, electoral_votes, electoral_votes_per_person,  electoral_votes_per_million))"
    },
    {
      "cell_type": "markdown",
      "metadata": {
        "deepnote_cell_height": 74.75,
        "deepnote_cell_type": "markdown",
        "tags": []
      },
      "source": "**3.5 -** What is similar about the states with the highest electoral votes per million people? What is similar about states with lowest electoral votes per million?"
    },
    {
      "cell_type": "code",
      "execution_count": null,
      "metadata": {
        "deepnote_cell_height": 716.40625,
        "deepnote_cell_type": "code",
        "deepnote_output_heights": [
          606.453125
        ],
        "deepnote_to_be_reexecuted": false,
        "execution_millis": 728,
        "execution_start": 1660178919927,
        "output_cleared": false,
        "source_hash": "ca00bdbf",
        "tags": [],
        "trusted": true
      },
      "outputs": [],
      "source": "# Sample Response\narrange(elections, electoral_votes_per_million)"
    },
    {
      "cell_type": "markdown",
      "metadata": {
        "deepnote_cell_height": 185.515625,
        "deepnote_cell_type": "markdown",
        "tags": []
      },
      "source": "<div class=\"alert alert-block alert-warning\">\n\n<b>Sample Response:</b> \n\nStates with smaller populations like Wyoming appears have the highest number of electoral votes per million people (5.32), and populous states like California appears to have the lowest (1.48).\n</div>"
    },
    {
      "cell_type": "markdown",
      "metadata": {
        "deepnote_cell_height": 97.140625,
        "deepnote_cell_type": "markdown",
        "tags": []
      },
      "source": "**3.6 -** Wyoming is one of several states that have 3 electoral votes each. The code below will use `filter()` to print out all the states that have 3 electoral votes. Among these states, why does Wyoming have the highest number of votes per million citizens?\n"
    },
    {
      "cell_type": "code",
      "execution_count": null,
      "metadata": {
        "deepnote_cell_height": 426.84375,
        "deepnote_cell_type": "code",
        "deepnote_output_heights": [
          334.890625
        ],
        "deepnote_to_be_reexecuted": false,
        "execution_millis": 606,
        "execution_start": 1660178920049,
        "output_cleared": false,
        "source_hash": "6c56cc45",
        "tags": [],
        "trusted": true
      },
      "outputs": [],
      "source": "filter(elections, electoral_votes == 3)"
    },
    {
      "cell_type": "markdown",
      "metadata": {
        "deepnote_cell_height": 244.296875,
        "deepnote_cell_type": "markdown",
        "tags": []
      },
      "source": "<div class=\"alert alert-block alert-warning\">\n\n<b>Sample Response:</b> \n\nWyoming has the lowest population size. With the same number of electoral votes and fewer people, the states gets more votes <i>per person</i>.\n\nThis is really about the concept of division. If you divide the same number of electoral votes by a small number (small population), the result will be larger than if we divide by a larger number (larger population).\n</div>"
    },
    {
      "cell_type": "markdown",
      "metadata": {
        "deepnote_cell_height": 147.125,
        "deepnote_cell_type": "markdown",
        "tags": []
      },
      "source": "<div class=\"alert alert-block alert-info\">\n\n<b> <font size=\"+1\">Key Question</font></b>\n\n**3.7 -** Why is it that some states have more electoral votes per citizen than others?\n\n</div>"
    },
    {
      "cell_type": "markdown",
      "metadata": {
        "deepnote_cell_height": 437.4375,
        "deepnote_cell_type": "markdown",
        "tags": []
      },
      "source": "<div class=\"alert alert-block alert-warning\">\n\n<b>Sample Response:</b>\n\nWyoming has almost 4x the voting power per resident than California. This occurs because of the Senate. Regardless of size, <i>every</i> state gets two Senators. For Wyoming, that's a huge boost - it goes from one electoral college vote (due to its one House representative) to three. The Senators help Wyoming triple its representative in the Electoral College. By contrast, the addition of 2 Senate-based votes for California is small compared to the 53 votes it already gets from the House. As a result, Wyoming gets more representation in the Electoral College, relative to its population size.\n<br><br>\n\n<b>Instructor Note:</b> \n\nIf some students show confusion, it could be beneficial to make a simple example with more extreme numbers: \"Imagine there are two states. One has 5 people. One has 10,000 people. Both get two senators. Which state gets more representatives per person?\"\n\n</div>"
    },
    {
      "cell_type": "markdown",
      "metadata": {
        "deepnote_cell_height": 74.75,
        "deepnote_cell_type": "markdown",
        "tags": []
      },
      "source": "**3.8 -** Now that you know all this, how can a candidate lose the popular vote *and* win the Electoral College? What kind of states would they need to win/lose?"
    },
    {
      "cell_type": "markdown",
      "metadata": {
        "deepnote_cell_height": 185.515625,
        "deepnote_cell_type": "markdown",
        "tags": []
      },
      "source": "<div class=\"alert alert-block alert-warning\">\n\n<b>Sample Response:</b> \n\nBecause less populous states are proportionally \"overrepresented,\" candidates who win a lot of small states may get enough disproportionate electoral votes to best a candidate who has won the popular votes largely through big states.\n\n\n</div>"
    },
    {
      "cell_type": "markdown",
      "metadata": {
        "deepnote_cell_height": 169.515625,
        "deepnote_cell_type": "markdown",
        "tags": []
      },
      "source": "<div class=\"alert alert-block alert-info\">\n\n<b> <font size=\"+1\">Key Question</font></b>\n\n**3.9 -** Is it \"fair\" for small states to get more representation per citizen than large states? Why or why not?\n\n</div>"
    },
    {
      "cell_type": "markdown",
      "metadata": {
        "deepnote_cell_height": 384.65625,
        "deepnote_cell_type": "markdown",
        "tags": []
      },
      "source": "<div class=\"alert alert-block alert-warning\">\n\n<b>Sample Responses:</b>\n\n<li> Yes - The states are unique governing bodies, with differences in law, history, and customs. To allow big states (like California) to dominate federal elections would disempower small states. Giving small states a small \"boost\" in their proportional representation (by guarenteeing at least 3 electoral votes) will balance powers and provide more equiteable representation for small states.\n<li> No - One vote is one vote. There is no reason that a voter in one state should have less voting power than voters in another state, just because they decided to live in a bigger state.<br><br>\n\n<b>Instructor Note:</b> \n\nThis question can be set up as a debate between students. If students heavily lean towards one side, consider making the argument for the other side to challenge the group. \n\n</div>"
    }
  ],
  "metadata": {
    "deepnote": {
      "is_reactive": false
    },
    "deepnote_execution_queue": [],
    "deepnote_notebook_id": "04f071cf-c7ab-4f97-a73d-2c6e1049e1d2",
    "kernelspec": {
      "display_name": "R",
      "language": "R",
      "name": "ir"
    },
    "language_info": {
      "codemirror_mode": "r",
      "file_extension": ".r",
      "mimetype": "text/x-r-source",
      "name": "R",
      "pygments_lexer": "r",
      "version": "4.0.3"
    },
    "nbsimplegrader": {
      "publish_config": {
        "classes": [],
        "options": [],
        "tools": []
      }
    }
  },
  "nbformat": 4,
  "nbformat_minor": 2
}