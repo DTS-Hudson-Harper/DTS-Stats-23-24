{
  "cells": [
    {
      "cell_type": "markdown",
      "metadata": {
        "cell_id": "28f30015-ec0e-4363-9e19-f840453db13b",
        "deepnote_cell_height": 81.953125,
        "deepnote_cell_type": "markdown",
        "nbsimplegrader": {
          "config_key": "markdown.view-only",
          "editable": false,
          "label": "Markdown: View-Only",
          "respondable": false,
          "response": null,
          "runnable": false,
          "type": "markdown"
        }
      },
      "source": "# 3A: Anxiety in the ER"
    },
    {
      "cell_type": "code",
      "execution_count": null,
      "metadata": {
        "cell_id": "00003-9817e23d-cd3d-4cf1-b01f-548b0e9e8e53",
        "deepnote_cell_height": 201.953125,
        "deepnote_cell_type": "code",
        "deepnote_to_be_reexecuted": false,
        "execution_millis": 1712,
        "execution_start": 1661561351899,
        "nbsimplegrader": {
          "config_key": "code.run-only",
          "editable": false,
          "label": "Code: Run-Only",
          "respondable": false,
          "response": null,
          "runnable": true,
          "type": "code"
        },
        "output_cleared": true,
        "source_hash": "ff5aed4e",
        "trusted": true
      },
      "outputs": [],
      "source": "# This code will load the R packages we will use\nsuppressPackageStartupMessages({\n    library(coursekata)\n})\n\n# This code will make sure the middle rows/columns don't get cut out (ellipsized) when you \n# print out a really large data frame (you can adjust the values for max rows/cols)\noptions(repr.matrix.max.rows=800, repr.matrix.max.cols=200)"
    },
    {
      "cell_type": "markdown",
      "metadata": {
        "cell_id": "00005-74d64d7d-0c87-42fe-a3e1-5f8f9447c657",
        "deepnote_cell_height": 108.359375,
        "deepnote_cell_type": "markdown",
        "nbsimplegrader": {
          "config_key": "markdown.view-only",
          "editable": false,
          "label": "Markdown: View-Only",
          "respondable": false,
          "response": null,
          "runnable": false,
          "type": "markdown"
        },
        "tags": []
      },
      "source": "## 1.0: The Data\n\nLet's look at the data (in a data frame called `er`). Then I'll tell you a bit more about how it was collected."
    },
    {
      "cell_type": "code",
      "execution_count": null,
      "metadata": {
        "cell_id": "00006-f7a7d7d3-e26f-4973-b1be-209e59639180",
        "deepnote_cell_height": 367.859375,
        "deepnote_cell_type": "code",
        "deepnote_output_heights": [
          275.90625
        ],
        "deepnote_to_be_reexecuted": false,
        "execution_millis": 60,
        "execution_start": 1661561353640,
        "output_cleared": true,
        "source_hash": "98e4730f",
        "tags": [],
        "trusted": true
      },
      "outputs": [],
      "source": "head(er)"
    },
    {
      "cell_type": "markdown",
      "metadata": {
        "cell_id": "00007-c4b21d23-5581-483f-9dfe-42c40187dd60",
        "deepnote_cell_height": 52.359375,
        "deepnote_cell_type": "markdown",
        "tags": []
      },
      "source": "**1.1:** What do you think these cases (rows) are?"
    },
    {
      "cell_type": "markdown",
      "metadata": {
        "cell_id": "00009-3a7e2095-a22b-4124-b84f-7351b9336e61",
        "deepnote_cell_height": 836.484375,
        "deepnote_cell_type": "markdown",
        "tags": []
      },
      "source": "#### About the Study\n\n<img src=\"https://i.postimg.cc/qpYsC1xY/image.png\" alt=\"a variety of therapy dogs\" width = 60%>\n\nResearchers were interested in the potential benefits of therapy dogs in easing things such as anxiety, pain, and depression during emergency room visits. Several medically stable, adult patients visiting an emergency room were approached and randomly assigned to one of two conditions: 15 minutes exposure to a certified therapy dog and handler (**Dog condition**), or usual care (**Control condition**). Patient-reported anxiety, pain, and depression were assessed using a 0–10 scale (10 = worst), at three time points: \n\n- baseline (before the therapy dog)\n- later (30 minutes after the therapy dog or control treatment)\n- last (90 minutes after)\n\n#### Study Procedure\n\n<img src=\"https://i.postimg.cc/syjV5VSK/image.png\" alt=\"Diagram of Dog Therapy Study procedure\" width=800>"
    },
    {
      "cell_type": "markdown",
      "metadata": {
        "cell_id": "00010-99f311d1-47b5-48b1-8192-cb708b156e90",
        "deepnote_cell_height": 109.96875,
        "deepnote_cell_type": "markdown",
        "tags": []
      },
      "source": "## Motivating Question: Are therapy dogs helpful in the emergency room (ER)?"
    },
    {
      "cell_type": "markdown",
      "metadata": {
        "cell_id": "00011-c0f8c8d7-34b0-4adf-8a1d-02e7137f1799",
        "deepnote_cell_height": 74.75,
        "deepnote_cell_type": "markdown",
        "tags": []
      },
      "source": "**1.2:** The data frame `er` has a lot of variables. There is 1 row per patient with their health information and demographics. Why is there a variable like `dog_name` in this data set? Why don't all rows have a value in `dog_name`?"
    },
    {
      "cell_type": "code",
      "execution_count": null,
      "metadata": {
        "cell_id": "00012-bab91a52-49b8-4dea-9663-d2fcde326513",
        "deepnote_cell_height": 483.828125,
        "deepnote_cell_type": "code",
        "deepnote_output_heights": [
          391.875
        ],
        "deepnote_to_be_reexecuted": false,
        "execution_millis": 63,
        "execution_start": 1661561353707,
        "output_cleared": true,
        "source_hash": "8b62bc10",
        "tags": [],
        "trusted": true
      },
      "outputs": [],
      "source": "sample(er, 10)"
    },
    {
      "cell_type": "markdown",
      "metadata": {
        "cell_id": "00014-54241158-3f71-49fe-8f71-29bd700392dc",
        "deepnote_cell_height": 394.265625,
        "deepnote_cell_type": "markdown",
        "tags": []
      },
      "source": "#### Key Variables\n\nFor today, we're just going to focus on a few key variables having to do with patients' demographic characteristics and anxiety levels:\n\n- `condition`: The research condition the patient was randomly assigned to (Dog or Control)\n- `age`: The age of the patient\t\n- `gender`: the gender of the patient\t\n- `race`: The race of the patient \n- `base_anxiety`: The baseline self-reported anxiety rating on a scale of 0-10 (10 = worst), before any exposure to a therapy dog\t \n- `later_anxiety`: Anxiety rating, 30 minutes after exposure to either the dog or the control treatment \n- `last_anxiety`: Anxiety rating, 90 minutes after exposure to treatment\n\n##### Data Source: \n\nResearch Paper: [Kline JA, Fisher MA, Pettit KL, Linville CT, Beck AM.](https://journals.plos.org/plosone/article?id=10.1371/journal.pone.0209232) Controlled clinical trial of canine therapy versus usual care to reduce patient anxiety in the emergency department. PLoS One. 2019 Jan 9;14(1):e0209232. doi: 10.1371/journal.pone.0209232. PMID: 30625184; PMCID: PMC6326463.\n\n"
    },
    {
      "cell_type": "markdown",
      "metadata": {
        "cell_id": "00015-cbd55118-ddd0-47ec-b38b-c11235d02f66",
        "deepnote_cell_height": 52.359375,
        "deepnote_cell_type": "markdown",
        "tags": []
      },
      "source": "**1.3:** Make a data frame called `er_anxiety` that only has these variables."
    },
    {
      "cell_type": "markdown",
      "metadata": {
        "cell_id": "00018-e78ef015-190a-4602-8fc9-905a947e757b",
        "deepnote_cell_height": 69.96875,
        "deepnote_cell_type": "markdown",
        "tags": []
      },
      "source": "## 2.0: Explore Variation"
    },
    {
      "cell_type": "markdown",
      "metadata": {
        "cell_id": "00019-25b02820-9814-4f3d-ab26-d20fdc85fe51",
        "deepnote_cell_height": 74.75,
        "deepnote_cell_type": "markdown",
        "nbsimplegrader": {
          "config_key": "markdown.view-only",
          "editable": false,
          "label": "Markdown: View-Only",
          "respondable": false,
          "response": null,
          "runnable": false,
          "type": "markdown"
        },
        "tags": []
      },
      "source": "**2.1:** Anxiety was measured at three different time points (`base_anxiety`, `later_anxiety`, and `last_anxiety`). Make some visualizations exploring these three variables. What do you find out about anxiety in the ER?"
    },
    {
      "cell_type": "markdown",
      "metadata": {
        "cell_id": "00022-38e3bb77-4ca0-446b-b107-04fab4dd13f6",
        "deepnote_cell_height": 74.75,
        "deepnote_cell_type": "markdown",
        "nbsimplegrader": {
          "config_key": "markdown.view-only",
          "editable": false,
          "label": "Markdown: View-Only",
          "respondable": false,
          "response": null,
          "runnable": false,
          "type": "markdown"
        },
        "tags": []
      },
      "source": "**2.2:** The researchers were particularly interested in whether `condition` explains any of the variation in anxiety. Make some visualizations to explore their hypothesis. Does `condition` make a difference on anxiety at any of these time points?"
    },
    {
      "cell_type": "markdown",
      "metadata": {
        "cell_id": "00025-ba159389-9707-42b7-8420-6d22c16770f7",
        "deepnote_cell_height": 52.359375,
        "deepnote_cell_type": "markdown",
        "nbsimplegrader": {
          "config_key": "markdown.view-only",
          "editable": false,
          "label": "Markdown: View-Only",
          "respondable": false,
          "response": null,
          "runnable": false,
          "type": "markdown"
        },
        "tags": []
      },
      "source": "**2.3:** Let’s review our working definition of “explaining variation”. Does \"explain variation\" mean \"cause variation\"?"
    },
    {
      "cell_type": "markdown",
      "metadata": {
        "cell_id": "00027-ba6e147a-0756-4ae4-8c79-a831501a2d73",
        "deepnote_cell_height": 169.515625,
        "deepnote_cell_type": "markdown",
        "nbsimplegrader": {
          "config_key": "markdown.view-only",
          "editable": false,
          "label": "Markdown: View-Only",
          "respondable": false,
          "response": null,
          "runnable": false,
          "type": "markdown"
        },
        "tags": []
      },
      "source": "<div class=\"alert alert-block alert-info\">\n\n<b> <font size=\"+1\">Key Question</font></b>\n\n**2.4:** Anxiety at baseline (`base_anxiety`) doesn't look *exactly* the same across the two conditions. Why are they a little bit different? Could dog therapy have caused that difference?\n\n</div>"
    },
    {
      "cell_type": "code",
      "execution_count": null,
      "metadata": {
        "cell_id": "00028-b5c6b225-b787-4bca-8f17-da2ebd2face9",
        "deepnote_cell_height": 590.9375,
        "deepnote_cell_type": "code",
        "deepnote_output_heights": [
          480.984375
        ],
        "deepnote_to_be_reexecuted": false,
        "execution_millis": 245,
        "execution_start": 1661561356159,
        "output_cleared": true,
        "source_hash": "74c9c3a9",
        "tags": [],
        "trusted": true
      },
      "outputs": [],
      "source": "gf_histogram(~ base_anxiety, data = er_anxiety, binwidth = 1, fill = \"gold\") %>%\n  gf_facet_grid(condition ~ .) "
    },
    {
      "cell_type": "markdown",
      "metadata": {
        "cell_id": "00030-256dc562-5d03-43af-ae12-139cda04abb3",
        "deepnote_cell_height": 147.125,
        "deepnote_cell_type": "markdown",
        "nbsimplegrader": {
          "config_key": "markdown.view-only",
          "editable": false,
          "label": "Markdown: View-Only",
          "respondable": false,
          "response": null,
          "runnable": false,
          "type": "markdown"
        },
        "tags": []
      },
      "source": "<div class=\"alert alert-block alert-info\">\n\n<b> <font size=\"+1\">Key Question</font></b>\n\n**2.5:** Could `condition` have caused the variation we see in `later_anxiety` or `last_anxiety`? \n\n</div>"
    },
    {
      "cell_type": "markdown",
      "metadata": {
        "cell_id": "00032-42568ceb-5123-457c-81a4-b2b82891f311",
        "deepnote_cell_height": 214.71875,
        "deepnote_cell_type": "markdown",
        "nbsimplegrader": {
          "config_key": "markdown.view-only",
          "editable": false,
          "label": "Markdown: View-Only",
          "respondable": false,
          "response": null,
          "runnable": false,
          "type": "markdown"
        },
        "tags": []
      },
      "source": "**Summary:** Just using our common sense, we can figure out some things about the DGP that generated this data. \n\nBecause of common sense, we know that `condition` couldn't have caused any of the differences we see in these two groups in `base_anxiety` because that is before any dog therapy happened. Any difference we see in these two groups is likely due to random chance. \n\nHowever, because this data was collected in an experiment (with random assignment to these two conditions), condition *could have* caused the differences we see in the two groups. **But** it is important to keep in mind that randomness *could have* caused differences as well. Later we will learn how to rule out randomness as a DGP."
    },
    {
      "cell_type": "markdown",
      "metadata": {
        "cell_id": "00033-78ded4a2-82a7-4343-ba21-8d7a9d54737d",
        "deepnote_cell_height": 153.53125,
        "deepnote_cell_type": "markdown",
        "tags": []
      },
      "source": "**2.6:** Let's write some word equations. How would we write the hypothesis that: \n\n- `condition` could explain variation in `later_anxiety`?\n- `condition` could explain variation in `last_anxiety`? \n- `condition` could not explain variation in `base_anxiety`?"
    },
    {
      "cell_type": "markdown",
      "metadata": {
        "cell_id": "00036-b237a745-1932-4893-801f-49d8ea97f46c",
        "deepnote_cell_height": 70.421875,
        "deepnote_cell_type": "markdown",
        "tags": []
      },
      "source": "## 3.0: Modeling Variation in `later_anxiety`"
    },
    {
      "cell_type": "markdown",
      "metadata": {
        "cell_id": "00037-0463ecf6-334e-4a63-96a9-d7cb5cb6506a",
        "deepnote_cell_height": 74.75,
        "deepnote_cell_type": "markdown",
        "nbsimplegrader": {
          "config_key": "markdown.view-only",
          "editable": false,
          "label": "Markdown: View-Only",
          "respondable": false,
          "response": null,
          "runnable": false,
          "type": "markdown"
        },
        "tags": []
      },
      "source": "**3.1:** Let's focus on the hypothesis that `condition` could explain variation in `later_anxiety`. Find the best fitting model and add it to this faceted histogram below. Also add it to the jitter plot below.\n"
    },
    {
      "cell_type": "code",
      "execution_count": null,
      "metadata": {
        "cell_id": "00038-faf94152-6ef7-46fa-8d20-d5bfbfd2c044",
        "deepnote_cell_height": 590.9375,
        "deepnote_cell_type": "code",
        "deepnote_output_heights": [
          480.984375
        ],
        "deepnote_to_be_reexecuted": false,
        "execution_millis": 211,
        "execution_start": 1661561356423,
        "output_cleared": true,
        "source_hash": "6d83204",
        "tags": [],
        "trusted": true
      },
      "outputs": [],
      "source": "gf_histogram(~ later_anxiety, data = er_anxiety, binwidth = 1, fill = \"orange\") %>%\n  gf_facet_grid(condition ~ .) "
    },
    {
      "cell_type": "code",
      "execution_count": null,
      "metadata": {
        "cell_id": "00039-5d580cd1-a637-48ad-8824-6ce9aaf7414f",
        "deepnote_cell_height": 572.9375,
        "deepnote_cell_type": "code",
        "deepnote_output_heights": [
          480.984375
        ],
        "deepnote_to_be_reexecuted": false,
        "execution_millis": 137,
        "execution_start": 1661561356675,
        "output_cleared": true,
        "source_hash": "9b28b45",
        "tags": [],
        "trusted": true
      },
      "outputs": [],
      "source": "gf_jitter(later_anxiety ~ condition, data = er_anxiety, width = .1, color = \"darkorange3\")"
    },
    {
      "cell_type": "markdown",
      "metadata": {
        "cell_id": "00041-31865df9-0d6b-4f0f-8e05-e7b1ee262718",
        "deepnote_cell_height": 223.9375,
        "deepnote_cell_type": "markdown",
        "tags": []
      },
      "source": "**3.2:** Write the best fitting model of **later_anxiety = condition + other stuff** in GLM notation. You can double click on this cell to copy the equation we have started for you below:\n\n$Y_i = b_0 + b_1X_i + e_i$\n\n*Notes on writing fancy mathematical notation:*\n- You can write GLM using Ys and Xs: $Y_i = b_0 + b_1X_i + e_i$\n- Or using the variable names: $lateranxiety_i = b_0 + b_1conditionDog_i + e_i$"
    },
    {
      "cell_type": "markdown",
      "metadata": {
        "cell_id": "00044-c2ed124d-ecd5-4e7e-b0ed-1c4838e156ac",
        "deepnote_cell_height": 147.125,
        "deepnote_cell_type": "markdown",
        "tags": []
      },
      "source": "<div class=\"alert alert-block alert-info\">\n\n<b> <font size=\"+1\">Key Question</font></b>\n\n**3.3:** Interpret the parameter estimates. How do these numbers relate to the model shown in the graph?\n\n</div>"
    },
    {
      "cell_type": "markdown",
      "metadata": {
        "cell_id": "00046-036f1a14-d8a9-4a2d-85bf-3ea4a580d091",
        "deepnote_cell_height": 74.75,
        "deepnote_cell_type": "markdown",
        "tags": []
      },
      "source": "**3.4** What would the condition model predict as the `later_anxiety` for someone who got dog therapy? How about someone who didn't?"
    },
    {
      "cell_type": "markdown",
      "metadata": {
        "cell_id": "00048-b2388f83-76c5-4534-87e2-0c27bb7655ba",
        "deepnote_cell_height": 52.359375,
        "deepnote_cell_type": "markdown",
        "tags": []
      },
      "source": "**3.5:** Why does the model predict lower anxiety for those in the dog condition?"
    },
    {
      "cell_type": "markdown",
      "metadata": {
        "cell_id": "00051-c2fd2944-aa62-4788-984f-e670637f7a27",
        "deepnote_cell_height": 70.421875,
        "deepnote_cell_type": "markdown",
        "tags": []
      },
      "source": "## 4.0: Modeling Variation in `base_anxiety`"
    },
    {
      "cell_type": "markdown",
      "metadata": {
        "cell_id": "00052-1301937e-2e9e-4abb-bd38-77bc0753b0fb",
        "deepnote_cell_height": 88.75,
        "deepnote_cell_type": "markdown",
        "tags": []
      },
      "source": "In this section, let's focus on the hypothesis that `condition` **could not** explain variation in `base_anxiety`. \n\n**4.1:** Which of the following R codes would find the best fitting model to represent this hypothesis? (delete the other one)"
    },
    {
      "cell_type": "code",
      "execution_count": null,
      "metadata": {
        "cell_id": "00053-59a458d2-868d-41b3-9fe0-14fcc9cc302c",
        "deepnote_cell_height": 465.78125,
        "deepnote_cell_type": "code",
        "deepnote_output_heights": [
          135.421875,
          135.421875
        ],
        "deepnote_to_be_reexecuted": false,
        "execution_millis": 7,
        "execution_start": 1661561357300,
        "output_cleared": true,
        "source_hash": "3a4b0392",
        "tags": [],
        "trusted": true
      },
      "outputs": [],
      "source": "# delete one\nlm(base_anxiety ~ condition, data = er_anxiety)\n\nlm(base_anxiety ~ NULL, data = er_anxiety)\n"
    },
    {
      "cell_type": "markdown",
      "metadata": {
        "cell_id": "00054-be4812d4-54ec-4b84-997e-01731dd30c06",
        "deepnote_cell_height": 52.359375,
        "deepnote_cell_type": "markdown",
        "tags": []
      },
      "source": "**4.2:** Add the best fitting empty model to this faceted histogram below. Also add it to the jitter plot below.\n"
    },
    {
      "cell_type": "code",
      "execution_count": null,
      "metadata": {
        "cell_id": "00055-96884f74-c587-4f22-b4d7-6df5dd0b1ed6",
        "deepnote_cell_height": 1138.90625,
        "deepnote_cell_type": "code",
        "deepnote_output_heights": [
          480.984375,
          480.984375
        ],
        "deepnote_to_be_reexecuted": false,
        "execution_millis": 414,
        "execution_start": 1661561357301,
        "output_cleared": true,
        "source_hash": "fc8d580f",
        "tags": [],
        "trusted": true
      },
      "outputs": [],
      "source": "gf_histogram(~ base_anxiety, data = er_anxiety, binwidth = 1, fill = \"gold\") %>%\n  gf_facet_grid(condition ~ .)\n\ngf_jitter(base_anxiety ~ condition, data = er_anxiety, width = .1, color = \"gold\")"
    },
    {
      "cell_type": "markdown",
      "metadata": {
        "cell_id": "00057-97e6e330-f0ec-4029-a480-a4903dcda406",
        "deepnote_cell_height": 169.515625,
        "deepnote_cell_type": "markdown",
        "tags": []
      },
      "source": "<div class=\"alert alert-block alert-info\">\n\n<b> <font size=\"+1\">Key Question</font></b>\n\n**4.3:** Write the best fitting equation of the empty model in GLM notation. Interpret the parameter estimate. How does this number relate to the model shown in the graph?\n\n</div>"
    },
    {
      "cell_type": "markdown",
      "metadata": {
        "cell_id": "00059-f2bafeb9-e939-4325-93bd-7b988e8e7116",
        "deepnote_cell_height": 74.75,
        "deepnote_cell_type": "markdown",
        "tags": []
      },
      "source": "**4.4:** Why does the empty model predict the same base anxiety level for people in the control condition as well as those who got dog therapy?"
    },
    {
      "cell_type": "markdown",
      "metadata": {
        "cell_id": "00061-9bea4ab1-af9d-4286-8ee7-3e4a4c23f301",
        "deepnote_cell_height": 74.75,
        "deepnote_cell_type": "markdown",
        "tags": []
      },
      "source": "Someone who didn't know very much about how this data were collected decided to create a model using `condition` to predict variation in baseline anxiety. They added it to this jitter plot. "
    },
    {
      "cell_type": "code",
      "execution_count": null,
      "metadata": {
        "cell_id": "00062-a318287d-5d77-4c4a-bea9-81f0bedd32e1",
        "deepnote_cell_height": 829.34375,
        "deepnote_cell_type": "code",
        "deepnote_output_heights": [
          135.421875,
          480.984375
        ],
        "deepnote_to_be_reexecuted": false,
        "execution_millis": 195,
        "execution_start": 1661561358195,
        "output_cleared": true,
        "source_hash": "144eedb2",
        "tags": [],
        "trusted": true
      },
      "outputs": [],
      "source": "base_condition_model <- lm(base_anxiety ~ condition, data = er_anxiety)\n\ngf_jitter(base_anxiety ~ condition, data = er_anxiety, width = .1, color = \"gold\") %>%\n  gf_model(base_condition_model)\n\nbase_condition_model"
    },
    {
      "cell_type": "markdown",
      "metadata": {
        "cell_id": "00063-7a9ba5e9-7469-4bca-9684-59f4aead8ea8",
        "deepnote_cell_height": 74.953125,
        "deepnote_cell_type": "markdown",
        "tags": []
      },
      "source": "**4.5:** They wrongly concluded that dog therapy could actually increase baseline anxiety because the $b_1$ was .42 and they saw that the average anxiety in the dog condition is actually higher than in the control condition. How would you disabuse them of this idea?"
    },
    {
      "cell_type": "markdown",
      "metadata": {
        "cell_id": "00066-46d05640-fc89-4150-8582-14a33438a963",
        "deepnote_cell_height": 70.421875,
        "deepnote_cell_type": "markdown",
        "tags": []
      },
      "source": "## 5.0: Comparing `condition` Models"
    },
    {
      "cell_type": "markdown",
      "metadata": {
        "cell_id": "00067-1a86ea70-7d87-439b-9069-b4f5f5e74082",
        "deepnote_cell_height": 74.75,
        "deepnote_cell_type": "markdown",
        "tags": []
      },
      "source": "**5.1:** Here are three models using `condition` to explain variation in `base_anxiety`, `later_anxiety`, and `last_anxiety`. Which of these models visually looks like they explain the most variation in anxiety?"
    },
    {
      "cell_type": "code",
      "execution_count": null,
      "metadata": {
        "cell_id": "00068-21ba4e1c-5f4d-4703-adf4-24f1025a04fb",
        "deepnote_cell_height": 1842.1875,
        "deepnote_cell_type": "code",
        "deepnote_output_heights": [
          480.984375,
          null,
          480.984375,
          480.984375
        ],
        "deepnote_to_be_reexecuted": false,
        "execution_millis": 793,
        "execution_start": 1661561358431,
        "output_cleared": true,
        "source_hash": "4e520f0d",
        "tags": [],
        "trusted": true
      },
      "outputs": [],
      "source": "base_condition_model <- lm(base_anxiety ~ condition, data = er_anxiety)\ngf_jitter(base_anxiety ~ condition, data = er_anxiety, width = .1, color = \"gold\") %>%\n  gf_model(base_condition_model)\n\nlater_condition_model <- lm(later_anxiety ~ condition, data = er_anxiety)\ngf_jitter(later_anxiety ~ condition, data = er_anxiety, width = .1, color = \"orange\") %>%\n  gf_model(later_condition_model)\n\nlast_condition_model <- lm(last_anxiety ~ condition, data = er_anxiety)\ngf_jitter(last_anxiety ~ condition, data = er_anxiety, width = .1, color = \"red\") %>%\n  gf_model(last_condition_model)"
    },
    {
      "cell_type": "markdown",
      "metadata": {
        "cell_id": "00070-51be6a25-daf4-4af3-adba-b05aac8a02b5",
        "deepnote_cell_height": 169.515625,
        "deepnote_cell_type": "markdown",
        "tags": []
      },
      "source": "<div class=\"alert alert-block alert-info\">\n\n<b> <font size=\"+1\">Key Question</font></b>\n\n**5.2:** Use a statistical measure to figure out which of these models explains the most variation in anxiety. Does your conclusion fit your visual intuition (from 5.1)?\n\n</div>"
    },
    {
      "cell_type": "markdown",
      "metadata": {
        "cell_id": "00073-a4c40c2f-58da-490b-b11e-2264dfc5337c",
        "deepnote_cell_height": 52.359375,
        "deepnote_cell_type": "markdown",
        "tags": []
      },
      "source": "**5.3:** Why are there fewer degrees of freedom available in the ANOVA table for `last_anxiety` than in the others?"
    },
    {
      "cell_type": "markdown",
      "metadata": {
        "cell_id": "00075-5cd75e78-899c-4b45-867b-40098c642d11",
        "deepnote_cell_height": 74.75,
        "deepnote_cell_type": "markdown",
        "tags": []
      },
      "source": "**5.4 -- BONUS:** Can you create a new variable to look at the change in anxiety from baseline to 30 minutes later? How much variation in this change is explained by `condition`?"
    }
  ],
  "metadata": {
    "deepnote": {},
    "deepnote_execution_queue": [],
    "deepnote_notebook_id": "711bc78c-b003-443b-9419-c152e3f0c58c",
    "kernelspec": {
      "display_name": "R",
      "language": "R",
      "name": "ir"
    },
    "language_info": {
      "codemirror_mode": "r",
      "file_extension": ".r",
      "mimetype": "text/x-r-source",
      "name": "R",
      "pygments_lexer": "r",
      "version": "4.0.3"
    },
    "nbsimplegrader": {
      "publish_config": {
        "classes": [],
        "options": {},
        "tools": []
      }
    }
  },
  "nbformat": 4,
  "nbformat_minor": 2
}