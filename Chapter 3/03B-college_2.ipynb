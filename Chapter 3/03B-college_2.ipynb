{
  "cells": [
    {
      "cell_type": "markdown",
      "metadata": {
        "cell_id": "473d4b37-fa1b-4c51-992c-114006e1dc74",
        "deepnote_cell_height": 81.953125,
        "deepnote_cell_type": "markdown",
        "tags": []
      },
      "source": "# 3B: College Mobility - Part II"
    },
    {
      "cell_type": "code",
      "execution_count": null,
      "metadata": {
        "cell_id": "00003-7851f536-97aa-4e29-991d-13671effd131",
        "deepnote_cell_height": 260.953125,
        "deepnote_cell_type": "code",
        "deepnote_to_be_reexecuted": false,
        "execution_millis": 4027,
        "execution_start": 1662164909387,
        "output_cleared": true,
        "source_hash": "e91c2a1a",
        "tags": [],
        "trusted": true
      },
      "outputs": [],
      "source": "# This code will load the R packages we will use\nsuppressPackageStartupMessages({\n    library(coursekata)\n})\n\n# This code will make sure the middle rows/columns don't get cut out (ellipsized) when you \n# print out a really large data frame (you can adjust the values for max rows/cols)\noptions(repr.matrix.max.rows=1400, repr.matrix.max.cols=200)\n\n# Load the data frame\ncolleges <- read.csv(\"https://docs.google.com/spreadsheets/d/e/2PACX-1vRg0xH6f5WG5-Tyxm-hoPEuyy6bao9FtB1kCumuFrS_PhjZVy1sXCmJ1mR0aYMrOXCf-zuG5_vFz5By/pub?gid=0&single=true&output=csv\")"
    },
    {
      "cell_type": "markdown",
      "metadata": {
        "cell_id": "00004-20af2172-a0ed-41bf-9f85-422a042809aa",
        "deepnote_cell_height": 542.484375,
        "deepnote_cell_type": "markdown",
        "tags": []
      },
      "source": "<img src=\"https://i.postimg.cc/hgQxmL5Q/johnston-gate-harvard.jpg\" alt=\"Johnston Gates at Harvard University\" width = 50%>"
    },
    {
      "cell_type": "markdown",
      "metadata": {
        "cell_id": "00005-e7981a74-e3e7-4cb9-aaa2-399f7303def4",
        "deepnote_cell_height": 211.921875,
        "deepnote_cell_type": "markdown",
        "tags": []
      },
      "source": "## College and the American Dream\n\nPreviously, we explored whether colleges are places of social mobility. We looked at the mobility index of each college to see which ones help to bring the most people from the bottom 20% of household income to the top 20%. We saw that mid-tier schools tended to have the highest mobility rates, while low- and high-tier schools tended to have lower rates, and low-tier schools (e.g., Ivy League) tended to not admit very many students from the bottom 20% of incomes to begin with.\n\nLet's continue to explore the various factors that may contribute to a college's mobility index."
    },
    {
      "cell_type": "markdown",
      "metadata": {
        "cell_id": "00006-31d3099c-3854-4526-8aca-c5fd500549a0",
        "deepnote_cell_height": 93.953125,
        "deepnote_cell_type": "markdown",
        "tags": []
      },
      "source": "### Motivating Questions: Does the type of college have an affect on mobility? How about class size?"
    },
    {
      "cell_type": "markdown",
      "metadata": {
        "cell_id": "00007-2a813035-1262-468a-9794-4fa121602216",
        "deepnote_cell_height": 633.984375,
        "deepnote_cell_type": "markdown",
        "tags": []
      },
      "source": "### The Dataset\n**Description:** Describes family income (income while growing up) and adult income (income after graduating college) for students who attended college in the early 2000s. Data are in tidy format, with one row per college. See more in the official dataset [documentation](https://opportunityinsights.org/wp-content/uploads/2018/03/Codebook-MRC-Table-1.pdf).\n\n##### Variables\n- `name`: Name of college\n- `location`: City in which college is located\n- `state`: State in which college is located\n- `class_size`: Average size of graduating classes during years measured\n- `tier`: School tier (1-12), lower number indicates more prestigious tier of school\n- `tier_name`: Description of tier (e.g. selective public, selective private, IVY Plus, etc.)\n- `type`: School type (private non-profit, private for-profit, public)\n- `median_family_income`: Median family income of students at the school\n- `percent_from_bottom_20`: Percent of students at the school who come from bottom 20% income households\n- `percent_from_bottom_20_and_reached_top_20`: Percent of all students at the school who came from bottom 20% income households and who reached the top 20% of incomes as adults\n- `mobility_index`: The same variable as `percent_from_bottom_20_and_reached_top_20` but renamed to be shorter\n\n\n##### Data Sources: \n - Chetty et al. (Opportunity Insights), Mobility Report Cards database: https://opportunityinsights.org/paper/mobilityreportcards/\n    - Specifically: MRC Codebook Table 1, Preferred Estimates of Access and Mobility Rates by College:  https://opportunityinsights.org/data/?#resource-listing"
    },
    {
      "cell_type": "markdown",
      "metadata": {
        "cell_id": "00009-d8285dc2-4098-4bff-bfb4-79869616d1a9",
        "deepnote_cell_height": 62.421875,
        "deepnote_cell_type": "markdown",
        "tags": []
      },
      "source": "### 1.0 - Explore `mobility_index`"
    },
    {
      "cell_type": "markdown",
      "metadata": {
        "cell_id": "00010-a11e7cf9-b475-4969-a177-3eaa15bfa78b",
        "deepnote_cell_height": 52.359375,
        "deepnote_cell_type": "markdown",
        "tags": []
      },
      "source": "**1.1** - Take a look at some of the data frame. What does each row represent? "
    },
    {
      "cell_type": "code",
      "execution_count": null,
      "metadata": {
        "allow_embed": false,
        "cell_id": "00011-cdcfd894-74f6-4e3b-bc9a-6a51110f4a5f",
        "deepnote_cell_height": 75.953125,
        "deepnote_cell_type": "code",
        "deepnote_to_be_reexecuted": false,
        "execution_millis": 78,
        "execution_start": 1662164913476,
        "output_cleared": true,
        "source_hash": "2b3b53d2",
        "tags": [],
        "trusted": true
      },
      "outputs": [],
      "source": "head(colleges)"
    },
    {
      "cell_type": "markdown",
      "metadata": {
        "cell_id": "00013-8a31d1fc-51e3-4cd1-8608-c309e39b89e5",
        "deepnote_cell_height": 74.75,
        "deepnote_cell_type": "markdown",
        "tags": []
      },
      "source": "**1.2** - Create a visualization to look at the distribution of `mobility_index`. What do you think is the maximum value that `mobility_index` could be? Are many of the colleges near that maximum value?"
    },
    {
      "cell_type": "markdown",
      "metadata": {
        "cell_id": "00016-4171469a-a561-4e3e-8eac-17ac772ff74d",
        "deepnote_cell_height": 74.75,
        "deepnote_cell_type": "markdown",
        "tags": []
      },
      "source": "**1.3** - Fit the empty model for `mobility_index` and interpret the value. (Bonus: add the empty model to the data visualization you made above.)"
    },
    {
      "cell_type": "code",
      "execution_count": null,
      "metadata": {
        "cell_id": "00017-b353a6fc-56ec-4428-8b1e-28929583daa9",
        "deepnote_cell_height": 93.953125,
        "deepnote_cell_type": "code",
        "deepnote_to_be_reexecuted": false,
        "execution_millis": 50,
        "execution_start": 1662164914865,
        "output_cleared": true,
        "source_hash": "aad34da0",
        "tags": [],
        "trusted": true
      },
      "outputs": [],
      "source": "# Fit the empty model\n"
    },
    {
      "cell_type": "markdown",
      "metadata": {
        "cell_id": "00021-ffa1f1bf-00da-4d06-b73d-b31f00e0506f",
        "deepnote_cell_height": 70.421875,
        "deepnote_cell_type": "markdown",
        "tags": []
      },
      "source": "## 2.0 - Does `type` explain variation in mobility?"
    },
    {
      "cell_type": "markdown",
      "metadata": {
        "cell_id": "00022-d3220e84-dc1a-4147-afef-0b285e789b82",
        "deepnote_cell_height": 169.53125,
        "deepnote_cell_type": "markdown",
        "tags": []
      },
      "source": "#### Explore the Distribution\n\n**2.1** - Do you think the `type` of college (private non-profit, private for-profit, or public) will explain any of the variation in `mobility_index`?\n\nMake some predictions about what you might expect to find, then create a visualization to explore the hypothesis. Describe what you see."
    },
    {
      "cell_type": "markdown",
      "metadata": {
        "cell_id": "00025-0d2ebc5a-42f1-4ea2-8ec0-8fcb99cb77e7",
        "deepnote_cell_height": 161.34375,
        "deepnote_cell_type": "markdown",
        "tags": []
      },
      "source": "#### Fit and Interpret the Model\n\n**2.2** - Find the best fitting parameter estimates and put the model into GLM notation. \n\nHere is some markdown to get you started:\n\n$Y_i = b_0 + b_1(X_{1i}) + b_2(X_{2i}) + e_i$"
    },
    {
      "cell_type": "markdown",
      "metadata": {
        "cell_id": "00028-5dee0b5b-e37c-4059-975a-60585535ca2f",
        "deepnote_cell_height": 140.328125,
        "deepnote_cell_type": "markdown",
        "tags": []
      },
      "source": "<div class=\"alert alert-block alert-info\">\n\n#### Key Question:\n\n**2.3** - Interpret the parameter estimates and add them to your visualization.\n\n</div>"
    },
    {
      "cell_type": "markdown",
      "metadata": {
        "cell_id": "00031-24ef6216-2101-4f84-81ac-f26ad4f06ccf",
        "deepnote_cell_height": 225.921875,
        "deepnote_cell_type": "markdown",
        "tags": []
      },
      "source": "#### Make Predictions with the Model\n\n**2.4** - Use the model to make a prediction for each group:\n\nWhat would the model predict for a:\n\n- for-profit college?\n- private non-profit college?\n- public college?"
    },
    {
      "cell_type": "markdown",
      "metadata": {
        "cell_id": "00034-f870689c-df31-4fe5-8aeb-1d42bcee62e3",
        "deepnote_cell_height": 52.359375,
        "deepnote_cell_type": "markdown",
        "tags": []
      },
      "source": "**2.5** - According to our model, which type of schools generally perform the lowest in the mobility index? The highest?"
    },
    {
      "cell_type": "markdown",
      "metadata": {
        "cell_id": "00036-a5858ce6-8d5c-4d48-b492-c7291f4ec5ba",
        "deepnote_cell_height": 169.984375,
        "deepnote_cell_type": "markdown",
        "tags": []
      },
      "source": "#### Quantify Residual Error from the `type` Model and Empty Model\n\nBelow we have generated a couple of visualizations with the `type` model in red and the empty model in blue. In both visualizations, find the case that represents \"California State University, Los Angeles\" (selected and printed out below). \n\n**2.6** - Which model's prediction results in a smaller residual error for Cal State LA: the empty model or the type model? Is there much difference between the two model predictions? "
    },
    {
      "cell_type": "code",
      "execution_count": null,
      "metadata": {
        "cell_id": "00037-17792635-5ced-4ee5-bd07-597fd584d0cf",
        "deepnote_cell_height": 291.953125,
        "deepnote_cell_type": "code",
        "deepnote_to_be_reexecuted": false,
        "execution_millis": 1276,
        "execution_start": 1662164918161,
        "output_cleared": true,
        "source_hash": "1f393918",
        "tags": [],
        "trusted": true
      },
      "outputs": [],
      "source": "# Look at the row for California State University, Los Angeles\ncolleges[colleges$name == \"California State University, Los Angeles\", ]\n\ntype_model <- lm(mobility_index~type, data = colleges)\n\n# Jitter Plot\ngf_jitter(mobility_index ~ type, data = colleges, color = \"grey\") %>%\n    gf_model(type_model, color = \"red\") %>%\n    gf_hline(yintercept = 1.92, color = \"blue\")\n\n# Faceted Histogram\ngf_histogram(~mobility_index, data = colleges, fill = \"grey\") %>%\n    gf_facet_grid(type ~ .)%>%\n    gf_model(type_model, color = \"red\") %>%\n    gf_vline(xintercept = 1.92, color = \"blue\")"
    },
    {
      "cell_type": "markdown",
      "metadata": {
        "cell_id": "00039-ad1c5aa0-725f-40a2-b915-e67fae1eb0f0",
        "deepnote_cell_height": 74.75,
        "deepnote_cell_type": "markdown",
        "tags": []
      },
      "source": "**2.7** - Pick a different college. Identify it in your visualization and compare the prediction from the empty model to the `type` model. Which model's prediction results in a smaller residual error for this college? "
    },
    {
      "cell_type": "code",
      "execution_count": null,
      "metadata": {
        "cell_id": "00040-1981afe5-ed19-4498-a8f9-107a319c2449",
        "deepnote_cell_height": 93.953125,
        "deepnote_cell_type": "code",
        "deepnote_to_be_reexecuted": false,
        "execution_millis": 10,
        "execution_start": 1662164919431,
        "output_cleared": true,
        "source_hash": "e5998109",
        "tags": [],
        "trusted": true
      },
      "outputs": [],
      "source": "# if you want to print out all the available names of colleges:\n#select(colleges, name)"
    },
    {
      "cell_type": "code",
      "execution_count": null,
      "metadata": {
        "cell_id": "00041-f1c8325b-defe-44ae-b0d1-902116467cda",
        "deepnote_cell_height": 93.953125,
        "deepnote_cell_type": "code",
        "deepnote_to_be_reexecuted": false,
        "execution_millis": 33,
        "execution_start": 1662164919464,
        "output_cleared": true,
        "source_hash": "4259cb56",
        "tags": [],
        "trusted": true
      },
      "outputs": [],
      "source": "# Look at the row for a different college \n"
    },
    {
      "cell_type": "markdown",
      "metadata": {
        "cell_id": "00043-6d115d27-ba75-4c47-8838-9914f703feb4",
        "deepnote_cell_height": 214.296875,
        "deepnote_cell_type": "markdown",
        "tags": []
      },
      "source": "<div class=\"alert alert-block alert-info\">\n\n<b> <font size=\"+1\">Key Question</font></b>\n\n<br>\n\n**2.8** - Generate the ANOVA table to get the sum of squared error from the empty model and the type model. You'll see that the type model has less error relative to the empty model. How much less error? \n\nWhat is the proportion of error reduced by the type model?"
    },
    {
      "cell_type": "markdown",
      "metadata": {
        "cell_id": "00047-6d54eaee-3c73-4103-b494-e8268e20063d",
        "deepnote_cell_height": 61.953125,
        "deepnote_cell_type": "markdown",
        "tags": []
      },
      "source": "### 3.0 - What other variables might explain the variation in mobility index?\n"
    },
    {
      "cell_type": "markdown",
      "metadata": {
        "cell_id": "00048-3c977a7a-f2c2-4859-8571-50366a450b91",
        "deepnote_cell_height": 183.53125,
        "deepnote_cell_type": "markdown",
        "tags": []
      },
      "source": "#### Explore the Distribution\n\nWe have explored whether the type of school might explain variation in mobility index. \n\n**3.1** - But now it's your turn: what variable would be better than type at predicting mobility index?\n\nWrite a hypothesis about what you might expect to find (both as a sentence and as a word equation), then create a visualization to explore the hypothesis. Describe what you see."
    },
    {
      "cell_type": "markdown",
      "metadata": {
        "cell_id": "00051-b0616d78-69b6-481a-bee7-636533019b9b",
        "deepnote_cell_height": 161.34375,
        "deepnote_cell_type": "markdown",
        "tags": []
      },
      "source": "#### Fit and Interpret the Model\n\n**3.2** - Find the best fitting parameter estimates and put the model into GLM notation. \n\nHere is some markdown to get you started:\n\n$Y_i = b_0 + b_1(X_i) + e_i$"
    },
    {
      "cell_type": "markdown",
      "metadata": {
        "cell_id": "00054-2ae03791-67a5-48ef-b59d-e079e18baa70",
        "deepnote_cell_height": 140.328125,
        "deepnote_cell_type": "markdown",
        "tags": []
      },
      "source": "<div class=\"alert alert-block alert-info\">\n\n#### Key Question:\n\n**3.3** - Interpret the parameter estimates and add the model predictions to your visualization.\n\n</div>"
    },
    {
      "cell_type": "markdown",
      "metadata": {
        "cell_id": "00057-2718195f-2a86-4296-b116-3091d8445b66",
        "deepnote_cell_height": 110.75,
        "deepnote_cell_type": "markdown",
        "tags": []
      },
      "source": "#### Evaluate the Error off the Model\n\n**3.4** - In the visualization you made above, find the case in the visualization that represents \"California State University, Los Angeles\". Which model's prediction results in less residual error for that college: the empty model or your model? "
    },
    {
      "cell_type": "code",
      "execution_count": null,
      "metadata": {
        "allow_embed": false,
        "cell_id": "00058-4eaed877-5364-420a-8746-4aa3397af16c",
        "deepnote_cell_height": 75.953125,
        "deepnote_cell_type": "code",
        "deepnote_to_be_reexecuted": false,
        "execution_millis": 18,
        "execution_start": 1662164920254,
        "output_cleared": true,
        "source_hash": "1dcbc85e",
        "tags": [],
        "trusted": true
      },
      "outputs": [],
      "source": "colleges[colleges$name == \"California State University, Los Angeles\", ]"
    },
    {
      "cell_type": "markdown",
      "metadata": {
        "cell_id": "00061-6f5b6a6c-5a9c-4e24-8adf-da699183a37d",
        "deepnote_cell_height": 74.75,
        "deepnote_cell_type": "markdown",
        "tags": []
      },
      "source": "**3.5** - Compare the Sum of Squares (SS) for each model (the empty model or your model). Which one has less SS error overall? Is there a very big difference between the two SS values? What does this mean?"
    },
    {
      "cell_type": "markdown",
      "metadata": {
        "cell_id": "00064-47fba1ef-67c1-4ce0-a5f0-8b530cac49c6",
        "deepnote_cell_height": 52.359375,
        "deepnote_cell_type": "markdown",
        "tags": []
      },
      "source": "**3.6** - Why is the SS for the empty model the same for both the `type` model and your model?"
    },
    {
      "cell_type": "markdown",
      "metadata": {
        "cell_id": "00066-f418d9bf-c903-4e65-9861-8e8345c1ecdc",
        "deepnote_cell_height": 155.515625,
        "deepnote_cell_type": "markdown",
        "tags": []
      },
      "source": "<div class=\"alert alert-block alert-info\">\n\n<b> <font size=\"+1\">Key Question</font></b>\n\n<br>\n\n**3.7** - Which model, the `type` model or your model appears to explain the most variation in college mobility?"
    },
    {
      "cell_type": "markdown",
      "metadata": {
        "cell_id": "00070-8cf22a9d-019a-4ce4-a173-f304f00ff21f",
        "deepnote_cell_height": 61.953125,
        "deepnote_cell_type": "markdown",
        "tags": []
      },
      "source": "### 4.0 - Is there a general economic benefit from college?"
    },
    {
      "cell_type": "markdown",
      "metadata": {
        "cell_id": "00071-41b6e8c8-c3ee-4bba-8964-7bf696f69044",
        "deepnote_cell_height": 273.5,
        "deepnote_cell_type": "markdown",
        "tags": []
      },
      "source": "What is the overall picture we are seeing with regard to college and economic mobility (considering our findings from the past college notebook as well)?\n\nBefore we draw any final conclusions, let's consider our measure of social mobility.\n\nThe `mobility_index` represents the percent of all students at the school who came from the bottom 20% income households and who reached the top 20% of incomes as adults. For [reference](https://engaging-data.com/household-spending-income/), the bottom 20\\% by income earns about \\$25,500 annually while the top 20\\% earns about \\$188,000 annually. But, what if they reach the top 50% of incomes instead; should that count as social mobility?\n\nThat is one measure of the economic impact of going to college. Another way to measure the economic value of a college degree is to simply look at the mean earnings of people with different levels of education."
    },
    {
      "cell_type": "markdown",
      "metadata": {
        "cell_id": "00072-8252db69-1d80-4615-9d2b-a9a8fa86b6b7",
        "deepnote_cell_height": 88.75,
        "deepnote_cell_type": "markdown",
        "tags": []
      },
      "source": "**4.1** - Take a look at the graph below (generated from a different data frame called `earnings`; [data source](https://www.statista.com/statistics/184242/mean-earnings-by-educational-attainment/)).\n\nWhat do you think these lines represent?"
    },
    {
      "cell_type": "code",
      "execution_count": null,
      "metadata": {
        "cell_id": "00073-415bf287-10e2-460b-9f75-f35421cacd8c",
        "deepnote_cell_height": 134.953125,
        "deepnote_cell_type": "code",
        "deepnote_to_be_reexecuted": false,
        "execution_millis": 2027,
        "execution_start": 1662164920456,
        "output_cleared": true,
        "source_hash": "9eee1bd6",
        "tags": [],
        "trusted": true
      },
      "outputs": [],
      "source": "earnings <- read.csv(\"https://docs.google.com/spreadsheets/d/e/2PACX-1vT8f6Hnonep3D7SBL73foZxYNkqCzssVaLeMvy7y0un3gIdmEDn2f2vp7WbFRrHyW63wYqydWY0AuxH/pub?gid=1804563070&single=true&output=csv\")\nearnings$edu_level_ordered <- factor(earnings$edu_level, levels = c(\"less_than_9th_grade\", \"HS_9th_12th_nongrad\", \"HS_grad_GED\", \"some_college_no_degree\", \"assoc_degree\", \"bach_degree\", \"masters_degree\", \"prof_degree\", \"doctorate_degree\"))\n\ngf_line(mean_earnings ~ year, color = ~edu_level_ordered, data = earnings)"
    },
    {
      "cell_type": "markdown",
      "metadata": {
        "cell_id": "00075-556e7091-183d-4298-ab34-be42671c210d",
        "deepnote_cell_height": 74.75,
        "deepnote_cell_type": "markdown",
        "tags": []
      },
      "source": "**4.2** - According to the data, which level of education gets closest to the top 20% of income earnings (which would be over $180,000 per year)?"
    },
    {
      "cell_type": "markdown",
      "metadata": {
        "cell_id": "00077-e698c4aa-e54d-4e48-ae8c-b0516611d808",
        "deepnote_cell_height": 74.75,
        "deepnote_cell_type": "markdown",
        "tags": []
      },
      "source": "**4.3** - According to the data, which levels of education have seen the steepest rise in their earnings over the years? Which levels of education appear to have experienced the smallest rise in their earnings over the years?"
    },
    {
      "cell_type": "markdown",
      "metadata": {
        "cell_id": "00079-d9d70944-9c4d-4a44-bb30-1454feaa772e",
        "deepnote_cell_height": 74.75,
        "deepnote_cell_type": "markdown",
        "tags": []
      },
      "source": "**4.4** - From any of the analyses in this Jupyter notebook, can we conclude that going to college helps people make more money? If you were advising someone about their future, would you encourage them to go to college?"
    }
  ],
  "metadata": {
    "deepnote": {},
    "deepnote_execution_queue": [],
    "deepnote_notebook_id": "8db6ed2c-8839-421c-bdb9-654e00e7e1fa",
    "kernelspec": {
      "display_name": "R",
      "language": "R",
      "name": "ir"
    },
    "language_info": {
      "codemirror_mode": "r",
      "file_extension": ".r",
      "mimetype": "text/x-r-source",
      "name": "R",
      "pygments_lexer": "r",
      "version": "4.0.3"
    },
    "nbsimplegrader": {
      "publish_config": {
        "classes": [],
        "options": [],
        "tools": []
      }
    }
  },
  "nbformat": 4,
  "nbformat_minor": 2
}