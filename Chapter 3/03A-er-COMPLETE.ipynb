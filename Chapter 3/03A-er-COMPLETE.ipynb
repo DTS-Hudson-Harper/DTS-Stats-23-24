{
  "cells": [
    {
      "cell_type": "markdown",
      "metadata": {
        "cell_id": "8ecd931e-344a-47ed-997b-55fade2995d6",
        "deepnote_cell_height": 208.71875,
        "deepnote_cell_type": "markdown",
        "nbsimplegrader": {
          "config_key": "markdown.view-only",
          "editable": false,
          "label": "Markdown: View-Only",
          "respondable": false,
          "response": null,
          "runnable": false,
          "type": "markdown"
        }
      },
      "source": "<div class=\"alert alert-block alert-danger\">\n\n# 3A: Anxiety in the ER (COMPLETE)\n\n*This notebook is intended for students who have completed up to:*\n \n**Page 3.5**\n\n</div>"
    },
    {
      "cell_type": "markdown",
      "metadata": {
        "cell_id": "5eadf38483024746a0bc0612ad2cdcaa",
        "deepnote_cell_height": 482.25,
        "deepnote_cell_type": "markdown",
        "tags": []
      },
      "source": "<div class=\"alert alert-block alert-warning\">\n\n#### Summary of Notebook:\n\nIn this lesson, students will explore some data that came from a research study. The researchers were interested in whether dog therapy could help alleviate feelings of anxiety, pain, and depression during emergency room (ER) visits. Students will compare a set of patients randomly assigned to either 15 minutes of exposure to dog therapy, or 15 minutes of usual care in the ER, to see how it affects reported ratings of anxiety at various time points: Baseline anxiety, then 30 minutes after the intervention, and 90 minutes after the intervention.\n\n#### Includes:\n\n- Fitting a group model and interpreting the parameter estimates\n- Evaluating explained variation in models\n- Thinking about research design and causal relationships in the DGP\n\n#### Resources:\n\n- Optional [Printable Graph Handout](https://docs.google.com/document/d/1KOMikJpuWSzEbiOQ0HrOWcHfGX7FFxKACtb49UBG39k/edit?usp=sharing). This handout contains images of the relevant visualizations that are made throughout the lesson. They can be used for students to manually draw on, mark up, and make notes. This can give students the chance to process the graphs more deeply, and connect them to the models they are fitting.\n\n</div>"
    },
    {
      "cell_type": "markdown",
      "metadata": {
        "cell_id": "afc06ddfe71f46a790c75d24fbaeff4b",
        "deepnote_cell_height": 123.9375,
        "deepnote_cell_type": "markdown",
        "tags": []
      },
      "source": "<div class=\"alert alert-block alert-success\">\n\n## Approximate time to complete Notebook: 75-105 Mins\n\n</div>"
    },
    {
      "cell_type": "code",
      "execution_count": null,
      "metadata": {
        "cell_id": "00001-4f242e62-43d7-41b7-b1a2-ec41e4cd01cb",
        "deepnote_cell_height": 201.953125,
        "deepnote_cell_type": "code",
        "deepnote_to_be_reexecuted": false,
        "execution_millis": 1712,
        "execution_start": 1661561351899,
        "nbsimplegrader": {
          "config_key": "code.run-only",
          "editable": false,
          "label": "Code: Run-Only",
          "respondable": false,
          "response": null,
          "runnable": true,
          "type": "code"
        },
        "output_cleared": true,
        "source_hash": "ff5aed4e",
        "trusted": true
      },
      "outputs": [],
      "source": "# This code will load the R packages we will use\nsuppressPackageStartupMessages({\n    library(coursekata)\n})\n\n# This code will make sure the middle rows/columns don't get cut out (ellipsized) when you \n# print out a really large data frame (you can adjust the values for max rows/cols)\noptions(repr.matrix.max.rows=800, repr.matrix.max.cols=200)"
    },
    {
      "cell_type": "markdown",
      "metadata": {
        "cell_id": "944cf40fc7914280ac6207b6dff41a3b",
        "deepnote_cell_height": 115.9375,
        "deepnote_cell_type": "markdown",
        "tags": []
      },
      "source": "<div class=\"alert alert-block alert-success\">\n\n### 1.0 - Approximate Time:  10-15 mins\n\n</div>"
    },
    {
      "cell_type": "markdown",
      "metadata": {
        "cell_id": "00002-e60b37d7-28dc-43d7-b00e-245c1a1c2c30",
        "deepnote_cell_height": 108.359375,
        "deepnote_cell_type": "markdown",
        "nbsimplegrader": {
          "config_key": "markdown.view-only",
          "editable": false,
          "label": "Markdown: View-Only",
          "respondable": false,
          "response": null,
          "runnable": false,
          "type": "markdown"
        },
        "tags": []
      },
      "source": "## 1.0: The Data\n\nLet's look at the data (in a data frame called `er`). Then I'll tell you a bit more about how it was collected."
    },
    {
      "cell_type": "code",
      "execution_count": null,
      "metadata": {
        "cell_id": "00003-9b9bd6b1-9d62-483e-ab88-0a9eff719afe",
        "deepnote_cell_height": 367.859375,
        "deepnote_cell_type": "code",
        "deepnote_output_heights": [
          275.90625
        ],
        "deepnote_to_be_reexecuted": false,
        "execution_millis": 60,
        "execution_start": 1661561353640,
        "output_cleared": false,
        "source_hash": "98e4730f",
        "tags": [],
        "trusted": true
      },
      "outputs": [],
      "source": "head(er)"
    },
    {
      "cell_type": "markdown",
      "metadata": {
        "cell_id": "d23e137000454f56b10db40892da4283",
        "deepnote_cell_height": 52.359375,
        "deepnote_cell_type": "markdown",
        "tags": []
      },
      "source": "**1.1:** What do you think these cases (rows) are?"
    },
    {
      "cell_type": "markdown",
      "metadata": {
        "cell_id": "1c1aec4d7b81482b8ab022804cb51683",
        "deepnote_cell_height": 177.109375,
        "deepnote_cell_type": "markdown",
        "tags": []
      },
      "source": "<div class=\"alert alert-block alert-warning\">\n\n**Sample Response:**\n\n*Students' answers will vary.*\n\nFor instructors: The cases are patients in the ER.\n\n</div>"
    },
    {
      "cell_type": "markdown",
      "metadata": {
        "cell_id": "7ae126c07b444bf089c8e3a4e4da2584",
        "deepnote_cell_height": 836.484375,
        "deepnote_cell_type": "markdown",
        "tags": []
      },
      "source": "#### About the Study\n\n<img src=\"https://i.postimg.cc/qpYsC1xY/image.png\" alt=\"a variety of therapy dogs\" width = 60%>\n\nResearchers were interested in the potential benefits of therapy dogs in easing things such as anxiety, pain, and depression during emergency room visits. Several medically stable, adult patients visiting an emergency room were approached and randomly assigned to one of two conditions: 15 minutes exposure to a certified therapy dog and handler (**Dog condition**), or usual care (**Control condition**). Patient-reported anxiety, pain, and depression were assessed using a 0–10 scale (10 = worst), at three time points: \n\n- baseline (before the therapy dog)\n- later (30 minutes after the therapy dog or control treatment)\n- last (90 minutes after)\n\n#### Study Procedure\n\n<img src=\"https://i.postimg.cc/syjV5VSK/image.png\" alt=\"Diagram of Dog Therapy Study procedure\" width=800>"
    },
    {
      "cell_type": "markdown",
      "metadata": {
        "cell_id": "ab20b6478a96495582e15a83b4d2bbaf",
        "deepnote_cell_height": 109.96875,
        "deepnote_cell_type": "markdown",
        "tags": []
      },
      "source": "## Motivating Question: Are therapy dogs helpful in the emergency room (ER)?"
    },
    {
      "cell_type": "markdown",
      "metadata": {
        "cell_id": "6c5da6de2158465dbdae535061d5db5d",
        "deepnote_cell_height": 74.75,
        "deepnote_cell_type": "markdown",
        "tags": []
      },
      "source": "**1.2:** The data frame `er` has a lot of variables. There is 1 row per patient with their health information and demographics. Why is there a variable like `dog_name` in this data set? Why don't all rows have a value in `dog_name`?"
    },
    {
      "cell_type": "code",
      "execution_count": null,
      "metadata": {
        "cell_id": "9f883be15c1b4bc6b0b326ba6cbeecbf",
        "deepnote_cell_height": 483.828125,
        "deepnote_cell_type": "code",
        "deepnote_output_heights": [
          391.875
        ],
        "deepnote_to_be_reexecuted": false,
        "execution_millis": 63,
        "execution_start": 1661561353707,
        "output_cleared": false,
        "source_hash": "8b62bc10",
        "tags": [],
        "trusted": true
      },
      "outputs": [],
      "source": "sample(er, 10)"
    },
    {
      "cell_type": "markdown",
      "metadata": {
        "cell_id": "e4a7b5d95e814ea8a9804f70ccd7b6b1",
        "deepnote_cell_height": 163.125,
        "deepnote_cell_type": "markdown",
        "tags": []
      },
      "source": "<div class=\"alert alert-block alert-warning\">\n\n**Sample Response:**\n\nThere is a variable for dog name because the patients were not all exposed to the same dog. Some of them say NA because those patients were in the control condition.\n\n</div>"
    },
    {
      "cell_type": "markdown",
      "metadata": {
        "cell_id": "81a6ea7106ec4408a55abf0ac31d1fbf",
        "deepnote_cell_height": 394.265625,
        "deepnote_cell_type": "markdown",
        "tags": []
      },
      "source": "#### Key Variables\n\nFor today, we're just going to focus on a few key variables having to do with patients' demographic characteristics and anxiety levels:\n\n- `condition`: The research condition the patient was randomly assigned to (Dog or Control)\n- `age`: The age of the patient\t\n- `gender`: the gender of the patient\t\n- `race`: The race of the patient \n- `base_anxiety`: The baseline self-reported anxiety rating on a scale of 0-10 (10 = worst), before any exposure to a therapy dog\t \n- `later_anxiety`: Anxiety rating, 30 minutes after exposure to either the dog or the control treatment \n- `last_anxiety`: Anxiety rating, 90 minutes after exposure to treatment\n\n##### Data Source: \n\nResearch Paper: [Kline JA, Fisher MA, Pettit KL, Linville CT, Beck AM.](https://journals.plos.org/plosone/article?id=10.1371/journal.pone.0209232) Controlled clinical trial of canine therapy versus usual care to reduce patient anxiety in the emergency department. PLoS One. 2019 Jan 9;14(1):e0209232. doi: 10.1371/journal.pone.0209232. PMID: 30625184; PMCID: PMC6326463.\n\n"
    },
    {
      "cell_type": "markdown",
      "metadata": {
        "cell_id": "64e0ccfcbb114c94a5f06c8b91dd689f",
        "deepnote_cell_height": 52.359375,
        "deepnote_cell_type": "markdown",
        "tags": []
      },
      "source": "**1.3:** Make a data frame called `er_anxiety` that only has these variables."
    },
    {
      "cell_type": "code",
      "execution_count": null,
      "metadata": {
        "cell_id": "b6428617083240cb8308f8c00f1d0946",
        "deepnote_cell_height": 403.859375,
        "deepnote_cell_type": "code",
        "deepnote_output_heights": [
          275.90625
        ],
        "deepnote_to_be_reexecuted": false,
        "execution_millis": 83,
        "execution_start": 1661561353766,
        "output_cleared": false,
        "source_hash": "5340524e",
        "tags": [],
        "trusted": true
      },
      "outputs": [],
      "source": "# Sample Response\ner_anxiety <- select(er, condition, age, gender, race, base_anxiety, later_anxiety, last_anxiety)\nhead(er_anxiety)"
    },
    {
      "cell_type": "markdown",
      "metadata": {
        "cell_id": "3f56542652bf4054a2d652f87e3c4191",
        "deepnote_cell_height": 115.9375,
        "deepnote_cell_type": "markdown",
        "tags": []
      },
      "source": "<div class=\"alert alert-block alert-success\">\n\n### 2.0 - Approximate Time:  25-30 mins\n\n</div>"
    },
    {
      "cell_type": "markdown",
      "metadata": {
        "cell_id": "d98fba664cd94dae8dc1bdea35cfa2f2",
        "deepnote_cell_height": 69.96875,
        "deepnote_cell_type": "markdown",
        "tags": []
      },
      "source": "## 2.0: Explore Variation"
    },
    {
      "cell_type": "markdown",
      "metadata": {
        "cell_id": "00007-5a46013e-a03a-42e8-a57a-1c2354d2541a",
        "deepnote_cell_height": 74.75,
        "deepnote_cell_type": "markdown",
        "nbsimplegrader": {
          "config_key": "markdown.view-only",
          "editable": false,
          "label": "Markdown: View-Only",
          "respondable": false,
          "response": null,
          "runnable": false,
          "type": "markdown"
        },
        "tags": []
      },
      "source": "**2.1:** Anxiety was measured at three different time points (`base_anxiety`, `later_anxiety`, and `last_anxiety`). Make some visualizations exploring these three variables. What do you find out about anxiety in the ER?"
    },
    {
      "cell_type": "code",
      "execution_count": null,
      "metadata": {
        "cell_id": "00008-8294b937-6586-483b-992d-dce026f718a1",
        "deepnote_cell_height": 1845.5,
        "deepnote_cell_type": "code",
        "deepnote_output_heights": [
          480.984375,
          null,
          480.984375,
          480.984375
        ],
        "deepnote_to_be_reexecuted": false,
        "execution_millis": 990,
        "execution_start": 1661561353841,
        "output_cleared": false,
        "source_hash": "1f715818",
        "tags": [],
        "trusted": true
      },
      "outputs": [],
      "source": "# Sample Responses\ngf_histogram(~ base_anxiety, data = er_anxiety, binwidth = 2, fill = \"gold\") %>%\n  gf_boxplot()\n\ngf_histogram(~ later_anxiety, data = er_anxiety, binwidth = 2, fill = \"orange\") %>%\n  gf_boxplot()\n\ngf_histogram(~ last_anxiety, data = er_anxiety, binwidth = 2, fill = \"red\") %>%\n  gf_boxplot()"
    },
    {
      "cell_type": "markdown",
      "metadata": {
        "cell_id": "7773697f0aac4cd1b6376609e77988f9",
        "deepnote_cell_height": 323.078125,
        "deepnote_cell_type": "markdown",
        "tags": []
      },
      "source": "<div class=\"alert alert-block alert-warning\">\n\n**Sample Response:**\n\n- The baseline anxiety is a little bit skewed left, and has a median near an anxiety level of about 6. \n\n- The later anxiety is a little bit skewed right, and has a median near an anxiety level of 4.\n\n- The last anxiety is kind of similar to later anxiety, and is skewed a bit to the right, with a median anxiety of about 4.\n\nOverall, it seems like anxiety started of kind of high then got lower over time.\n\n**Note to Instructors:**\n\nSome students may also notice that there are fewer cases for last_anxiety. Ask them to ponder why that may be. They should be able to figure out that response rates got lower over time (e.g., people left the ER before completing the final survey).\n\n</div>"
    },
    {
      "cell_type": "markdown",
      "metadata": {
        "cell_id": "00011-f9b58853-8ba9-4009-9dce-a5ef86e10743",
        "deepnote_cell_height": 74.75,
        "deepnote_cell_type": "markdown",
        "nbsimplegrader": {
          "config_key": "markdown.view-only",
          "editable": false,
          "label": "Markdown: View-Only",
          "respondable": false,
          "response": null,
          "runnable": false,
          "type": "markdown"
        },
        "tags": []
      },
      "source": "**2.2:** The researchers were particularly interested in whether `condition` explains any of the variation in anxiety. Make some visualizations to explore their hypothesis. Does `condition` make a difference on anxiety at any of these time points?"
    },
    {
      "cell_type": "code",
      "execution_count": null,
      "metadata": {
        "cell_id": "b1e82cfc61394f7285d15cbe778a47e9",
        "deepnote_cell_height": 4268.234375,
        "deepnote_cell_type": "code",
        "deepnote_output_heights": [
          480.984375,
          159.9375,
          480.984375,
          480.984375,
          159.9375,
          null,
          480.984375,
          null,
          481,
          159.9375,
          481
        ],
        "deepnote_to_be_reexecuted": false,
        "execution_millis": 1288,
        "execution_start": 1661561354867,
        "output_cleared": false,
        "source_hash": "5996c6d3",
        "tags": [],
        "trusted": true
      },
      "outputs": [],
      "source": "# Sample Responses\n\n# base_anxiety\ngf_jitter(base_anxiety ~ condition, data = er_anxiety)\n\ngf_histogram(~base_anxiety, data = er_anxiety) %>%\n    gf_facet_grid(condition ~ .)\n\nfavstats(base_anxiety ~ condition, data = er_anxiety)\n\n# later_anxiety\ngf_jitter(later_anxiety ~ condition, data = er_anxiety)\n\ngf_histogram(~later_anxiety, data = er_anxiety) %>%\n    gf_facet_grid(condition ~ .)\n\nfavstats(later_anxiety ~ condition, data = er_anxiety)\n\n# last_anxiety\ngf_jitter(last_anxiety ~ condition, data = er_anxiety)\n\ngf_histogram(~last_anxiety, data = er_anxiety) %>%\n    gf_facet_grid(condition ~ .)\n\nfavstats(last_anxiety ~ condition, data = er_anxiety)"
    },
    {
      "cell_type": "markdown",
      "metadata": {
        "cell_id": "f69659e22675430d89ac9309790a4948",
        "deepnote_cell_height": 420.65625,
        "deepnote_cell_type": "markdown",
        "tags": []
      },
      "source": "<div class=\"alert alert-block alert-warning\">\n\n**Sample Response:**\n\nFor baseline anxiety, the distributions are pretty similar, with a similar range of variation for the dog and the control group. Although, they are not exactly the same.\n\nFor later anxiety, there is still a lot of overlap in the distributions, but the dog group clearly has a lot more of the lower anxiety ratings.\n\nFor the last anxiety measure, there is also a wide range in both groups and a lot of overlap, however, there are definitely a lot more of the lower anxiety ratings in the dog group. \n\n**Note to Instructors:**\n\nThey may also make comments about (or you may want to draw their attention to) the difference in sample size for last anxiety, both overall (in comparison to baseline and later anxiety), and between the condition groups for last anxiety (there are double the number of responses for the dog group than the control group). This does not mean our results are not still valid, as attrition is expected and we still have response rates for later anxiety, but it is something to keep in mind when drawing conclusions.\n\n</div>"
    },
    {
      "cell_type": "markdown",
      "metadata": {
        "cell_id": "00012-c81c51b0-6a93-4f6f-87c3-79d378820f5f",
        "deepnote_cell_height": 52.359375,
        "deepnote_cell_type": "markdown",
        "nbsimplegrader": {
          "config_key": "markdown.view-only",
          "editable": false,
          "label": "Markdown: View-Only",
          "respondable": false,
          "response": null,
          "runnable": false,
          "type": "markdown"
        },
        "tags": []
      },
      "source": "**2.3:** Let’s review our working definition of “explaining variation”. Does \"explain variation\" mean \"cause variation\"?"
    },
    {
      "cell_type": "markdown",
      "metadata": {
        "cell_id": "7618d7d84a3f404da9bc1fb45d7959db",
        "deepnote_cell_height": 541.21875,
        "deepnote_cell_type": "markdown",
        "tags": []
      },
      "source": "<div class=\"alert alert-block alert-warning\">\n\n**Sample Response:**\n\nStudents may still have trouble putting this into words, but should attempt to say something like:\n\n- Knowing the value of one variable (X) can help us make a better prediction of another variable (Y).\n\n- Correlation is not causation (the most famous quote).\n\n\n**Note to Instructors:**\n\nFeel free to add extra scaffolding here if students need more information about research methods and experimental design:\n\nNo, it does not mean \"cause variation\". Explained variation just means that the variation in one variable varies in a way that it helps us better predict variation in another variable. With some types of analyses, we may not be able to ever know if a predictive relationship is causal or not, such as with correlation models, but with the right experimental conditions, we can reach some degree of confidence as to whether the relationship is causal or not.\n\nWe will be able to tell whether `condition` causes differences in anxiety for `later_anxiety` and `last_anxiety` (with some degree of certainty), because this study follows the research methods necessary for a true experiment: Random assignment to experimental group or control group. If there is a difference between the two groups, it could be due to dog therapy **or** randomness.\n\nIn later chapters, we will need to rule out randomness (that the two groups are different by random chance represented by the empty model). For today, we'll find the best fitting models using `condition` to predict these outcomes.\n\n</div>"
    },
    {
      "cell_type": "markdown",
      "metadata": {
        "cell_id": "00015-4a4abd0b-484d-4c0d-aa86-6e71d1e53987",
        "deepnote_cell_height": 169.515625,
        "deepnote_cell_type": "markdown",
        "nbsimplegrader": {
          "config_key": "markdown.view-only",
          "editable": false,
          "label": "Markdown: View-Only",
          "respondable": false,
          "response": null,
          "runnable": false,
          "type": "markdown"
        },
        "tags": []
      },
      "source": "<div class=\"alert alert-block alert-info\">\n\n<b> <font size=\"+1\">Key Question</font></b>\n\n**2.4:** Anxiety at baseline (`base_anxiety`) doesn't look *exactly* the same across the two conditions. Why are they a little bit different? Could dog therapy have caused that difference?\n\n</div>"
    },
    {
      "cell_type": "code",
      "execution_count": null,
      "metadata": {
        "cell_id": "881480b614db460bab4bbae5c509c4f9",
        "deepnote_cell_height": 590.9375,
        "deepnote_cell_type": "code",
        "deepnote_output_heights": [
          481
        ],
        "deepnote_to_be_reexecuted": false,
        "execution_millis": 245,
        "execution_start": 1661561356159,
        "output_cleared": false,
        "source_hash": "74c9c3a9",
        "tags": [],
        "trusted": true
      },
      "outputs": [],
      "source": "gf_histogram(~ base_anxiety, data = er_anxiety, binwidth = 1, fill = \"gold\") %>%\n  gf_facet_grid(condition ~ .) "
    },
    {
      "cell_type": "markdown",
      "metadata": {
        "cell_id": "5b36779ac93b44b796d9dcebb6842e2b",
        "deepnote_cell_height": 361.875,
        "deepnote_cell_type": "markdown",
        "tags": []
      },
      "source": "<div class=\"alert alert-block alert-warning\">\n\n**Sample Response:**\n\nThey don't look exactly the same because there is natural sampling variation across the two groups. The patients were randomly assigned to the groups, and everyone had different anxiety levels. \n\nIn order to establish a causal relationship, the intervention (`condition`) has to come before the measurement, so `condition` should not have any effect on `base_anxiety` since the patients have not been exposed to any dog therapy yet at that time point. That is why this is considered a \"baseline\" measurement.\n\n**Note to Instructors:**\n\nYou may want to ask students what it would mean if the two groups DID look significantly different at baseline (e.g., one group had mostly low ratings)? How would that affect the analyses and the study? Why is it important to establish that there is not a difference already between the two groups before starting the experiment?\n\n\n</div>"
    },
    {
      "cell_type": "markdown",
      "metadata": {
        "cell_id": "00016-7ddc4bb6-042a-4c5e-851a-e71104e5a22b",
        "deepnote_cell_type": "markdown",
        "nbsimplegrader": {
          "config_key": "markdown.view-only",
          "editable": false,
          "label": "Markdown: View-Only",
          "respondable": false,
          "response": null,
          "runnable": false,
          "type": "markdown"
        },
        "tags": []
      },
      "source": "<div class=\"alert alert-block alert-info\">\n\n<b> <font size=\"+1\">Key Question</font></b>\n\n**2.5:** Could `condition` have caused the variation we see in `later_anxiety` or `last_anxiety`? \n\n</div>"
    },
    {
      "cell_type": "markdown",
      "metadata": {
        "cell_id": "8ebf7b31d7f146bda36fa62b5df4fbbb",
        "deepnote_cell_type": "markdown",
        "tags": []
      },
      "source": "<div class=\"alert alert-block alert-warning\">\n\n**Sample Response:**\n\nYes, it is possible that it could have caused variation in later and last anxiety because those measurements were taken *after* the exposure to the dog therapy.\n\n</div>"
    },
    {
      "cell_type": "markdown",
      "metadata": {
        "cell_id": "00017-0b8a8258-15be-4ae2-ab74-7633fefb65d1",
        "deepnote_cell_type": "markdown",
        "nbsimplegrader": {
          "config_key": "markdown.view-only",
          "editable": false,
          "label": "Markdown: View-Only",
          "respondable": false,
          "response": null,
          "runnable": false,
          "type": "markdown"
        },
        "tags": []
      },
      "source": "**Summary:** Just using our common sense, we can figure out some things about the DGP that generated this data. \n\nBecause of common sense, we know that `condition` couldn't have caused any of the differences we see in these two groups in `base_anxiety` because that is before any dog therapy happened. Any difference we see in these two groups is likely due to random chance. \n\nHowever, because this data was collected in an experiment (with random assignment to these two conditions), condition *could have* caused the differences we see in the two groups. **But** it is important to keep in mind that randomness *could have* caused differences as well. Later we will learn how to rule out randomness as a DGP."
    },
    {
      "cell_type": "markdown",
      "metadata": {
        "cell_id": "bbda23b13b114417bd95ba1b469657f7",
        "deepnote_cell_type": "markdown",
        "tags": []
      },
      "source": "**2.6:** Let's write some word equations. How would we write the hypothesis that: \n\n- `condition` could explain variation in `later_anxiety`?\n- `condition` could explain variation in `last_anxiety`? \n- `condition` could not explain variation in `base_anxiety`?"
    },
    {
      "cell_type": "markdown",
      "metadata": {
        "cell_id": "61b81cf1d7734268b0aec9798dc9fd14",
        "deepnote_cell_type": "markdown",
        "tags": []
      },
      "source": "<div class=\"alert alert-block alert-warning\">\n\n**Sample Response:**\n\n- later_anxiety = condition + other stuff\n\n- last_anxiety = condition + other stuff\n\n- base_anxiety = other stuff\n\n</div>"
    },
    {
      "cell_type": "markdown",
      "metadata": {
        "cell_id": "b45403decade426b93c58f2c3b7a918b",
        "deepnote_cell_type": "markdown",
        "tags": []
      },
      "source": "<div class=\"alert alert-block alert-success\">\n\n### 3.0 - Approximate Time:  15-20 mins\n\n</div>"
    },
    {
      "cell_type": "markdown",
      "metadata": {
        "cell_id": "37d012c7a69b4f5d9bc90a9ed50e24b5",
        "deepnote_cell_type": "markdown",
        "tags": []
      },
      "source": "## 3.0: Modeling Variation in `later_anxiety`"
    },
    {
      "cell_type": "markdown",
      "metadata": {
        "cell_id": "00020-520ea70a-fb1a-41da-9ee2-6b1636e06013",
        "deepnote_cell_type": "markdown",
        "nbsimplegrader": {
          "config_key": "markdown.view-only",
          "editable": false,
          "label": "Markdown: View-Only",
          "respondable": false,
          "response": null,
          "runnable": false,
          "type": "markdown"
        },
        "tags": []
      },
      "source": "**3.1:** Let's focus on the hypothesis that `condition` could explain variation in `later_anxiety`. Find the best fitting model and add it to this faceted histogram below. Also add it to the jitter plot below.\n"
    },
    {
      "cell_type": "code",
      "execution_count": null,
      "metadata": {
        "cell_id": "320b647c4d424f809b19fca0b134a0eb",
        "deepnote_cell_type": "code",
        "deepnote_to_be_reexecuted": false,
        "execution_millis": 211,
        "execution_start": 1661561356423,
        "output_cleared": false,
        "source_hash": "6d83204",
        "tags": [],
        "trusted": true
      },
      "outputs": [],
      "source": "gf_histogram(~ later_anxiety, data = er_anxiety, binwidth = 1, fill = \"orange\") %>%\n  gf_facet_grid(condition ~ .) "
    },
    {
      "cell_type": "code",
      "execution_count": null,
      "metadata": {
        "cell_id": "2dd8778835aa4aa986f8234452a7a9b4",
        "deepnote_cell_type": "code",
        "deepnote_to_be_reexecuted": false,
        "execution_millis": 137,
        "execution_start": 1661561356675,
        "output_cleared": false,
        "source_hash": "9b28b45",
        "tags": [],
        "trusted": true
      },
      "outputs": [],
      "source": "gf_jitter(later_anxiety ~ condition, data = er_anxiety, width = .1, color = \"darkorange3\")"
    },
    {
      "cell_type": "code",
      "execution_count": null,
      "metadata": {
        "cell_id": "00021-0a001d90-6f49-4ff2-85b2-193a6dab4858",
        "deepnote_cell_type": "code",
        "deepnote_to_be_reexecuted": false,
        "execution_millis": 406,
        "execution_start": 1661561356851,
        "output_cleared": false,
        "source_hash": "5d75ceb0",
        "tags": [],
        "trusted": true
      },
      "outputs": [],
      "source": "# Complete Version\nlater_condition_model <- lm(later_anxiety ~ condition, data = er_anxiety)\nlater_condition_model\n\ngf_histogram(~ later_anxiety, data = er_anxiety, binwidth = 1, fill = \"orange\") %>%\n  gf_facet_grid(condition ~ .) %>%\n  gf_model(later_condition_model)\n\ngf_jitter(later_anxiety ~ condition, data = er_anxiety, width = .1, color = \"darkorange3\") %>%\n  gf_model(later_condition_model)"
    },
    {
      "cell_type": "markdown",
      "metadata": {
        "cell_id": "d4fcb99ff96d4dada0349e4773f15ab1",
        "deepnote_cell_type": "markdown",
        "tags": []
      },
      "source": "**3.2:** Write the best fitting model of **later_anxiety = condition + other stuff** in GLM notation. You can double click on this cell to copy the equation we have started for you below:\n\n$Y_i = b_0 + b_1X_i + e_i$\n\n*Notes on writing fancy mathematical notation:*\n- You can write GLM using Ys and Xs: $Y_i = b_0 + b_1X_i + e_i$\n- Or using the variable names: $lateranxiety_i = b_0 + b_1conditionDog_i + e_i$"
    },
    {
      "cell_type": "code",
      "execution_count": null,
      "metadata": {
        "cell_id": "479c362260b843e6b4f78a64159cad79",
        "deepnote_cell_type": "code",
        "deepnote_to_be_reexecuted": false,
        "execution_millis": 8,
        "execution_start": 1661561357299,
        "output_cleared": false,
        "source_hash": "4b296dd3",
        "tags": [],
        "trusted": true
      },
      "outputs": [],
      "source": "# Complete\nlm(later_anxiety ~ condition, data = er_anxiety)"
    },
    {
      "cell_type": "markdown",
      "metadata": {
        "cell_id": "3ec8fcc34fe549a0863ac8b874343334",
        "deepnote_cell_type": "markdown",
        "deepnote_to_be_reexecuted": false,
        "execution_millis": 884,
        "execution_start": 1660948225818,
        "source_hash": "3a4f057c",
        "tags": []
      },
      "source": "<div class=\"alert alert-block alert-warning\">\n\n**Sample Responses:**\n\n- $Y_i = 5.22 - 1.69X_i + e_i$ \n- $lateranxiety_i = 5.22 - 1.69conditionDog_i + e_i$\n\n</div>"
    },
    {
      "cell_type": "markdown",
      "metadata": {
        "cell_id": "c7a7919099434ecc89d7af03a1e59fd6",
        "deepnote_cell_type": "markdown",
        "tags": []
      },
      "source": "<div class=\"alert alert-block alert-info\">\n\n<b> <font size=\"+1\">Key Question</font></b>\n\n**3.3:** Interpret the parameter estimates. How do these numbers relate to the model shown in the graph?\n\n</div>"
    },
    {
      "cell_type": "markdown",
      "metadata": {
        "cell_id": "c75218e01f334caa9836baa6e0f8ba1f",
        "deepnote_cell_type": "markdown",
        "tags": []
      },
      "source": "<div class=\"alert alert-block alert-warning\">\n\n**Sample Response:**\n\nFor $b_1 = 5.22$ students might say: \n- this is the average later anxiety level of someone in the Control condition\n- this is the model line in the Control condition\n- this is what the model would predict as the anxiety level for someone in the Control condition\n\nFor $b_2 = -1.685$, students might say:\n- this is the difference between the two group means; this is the difference between mean of Control group and mean of Dog group\n- we add this to 5.22 in order to get the model prediction for someone in the Dog condition\n- this is how far down you have to go to get from the line in the Control group to the line in the Dog group\n\n</div>"
    },
    {
      "cell_type": "markdown",
      "metadata": {
        "cell_id": "9e5c4618af824e3888c6be4a4db20ea7",
        "deepnote_cell_type": "markdown",
        "tags": []
      },
      "source": "**3.4** What would the condition model predict as the `later_anxiety` for someone who got dog therapy? How about someone who didn't?"
    },
    {
      "cell_type": "markdown",
      "metadata": {
        "cell_id": "f0dc9cd4fcae43f9861f24322a32ddf4",
        "deepnote_cell_type": "markdown",
        "tags": []
      },
      "source": "<div class=\"alert alert-block alert-warning\">\n\n- Dog condition: 5.22 - 1.685 = 3.535\n- Control condition: 5.22 \n\nNo R code is necessary for this question but some students might run `predict()` like this: `predict(later_condition_model)`\n</div>"
    },
    {
      "cell_type": "markdown",
      "metadata": {
        "cell_id": "3d0fc72e1ec14d21a63902b9a6fa617f",
        "deepnote_cell_type": "markdown",
        "tags": []
      },
      "source": "**3.5:** Why does the model predict lower anxiety for those in the dog condition?"
    },
    {
      "cell_type": "markdown",
      "metadata": {
        "cell_id": "cf4bb867761d462c9b537bf8cba307ec",
        "deepnote_cell_type": "markdown",
        "tags": []
      },
      "source": "<div class=\"alert alert-block alert-warning\">\n\nAnswers may vary:\n\n- Because the patients in the dog condition reported, on average, lower anxiety. \n- Dog condition's mean is lower.\n- More people in Dog condition had lower later anxiety.\n\nIf students say \"Because I believe dog therapy works!\" you may want to nudge them to consider why the *model* seems to believe that as well.\n\n</div>"
    },
    {
      "cell_type": "markdown",
      "metadata": {
        "cell_id": "a58251c5fa85485290d5f30c8f49ff03",
        "deepnote_cell_type": "markdown",
        "tags": []
      },
      "source": "<div class=\"alert alert-block alert-success\">\n\n### 4.0 - Approximate Time:  10-15 mins\n\n</div>"
    },
    {
      "cell_type": "markdown",
      "metadata": {
        "cell_id": "6feed43b2eaa407997837b2f8e6fbbcf",
        "deepnote_cell_type": "markdown",
        "tags": []
      },
      "source": "## 4.0: Modeling Variation in `base_anxiety`"
    },
    {
      "cell_type": "markdown",
      "metadata": {
        "cell_id": "3f21f9b1eb3b44e791955b20357d8537",
        "deepnote_cell_type": "markdown",
        "tags": []
      },
      "source": "In this section, let's focus on the hypothesis that `condition` **could not** explain variation in `base_anxiety`. \n\n**4.1:** Which of the following R codes would find the best fitting model to represent this hypothesis? (delete the other one)"
    },
    {
      "cell_type": "code",
      "execution_count": null,
      "metadata": {
        "cell_id": "20059749c47947f8a5ef54f7bb487ae0",
        "deepnote_cell_type": "code",
        "deepnote_to_be_reexecuted": false,
        "execution_millis": 7,
        "execution_start": 1661561357300,
        "output_cleared": false,
        "source_hash": "3a4b0392",
        "tags": [],
        "trusted": true
      },
      "outputs": [],
      "source": "# delete one\nlm(base_anxiety ~ condition, data = er_anxiety)\n\nlm(base_anxiety ~ NULL, data = er_anxiety)\n\n# Complete Version: Delete the model that includes condition"
    },
    {
      "cell_type": "markdown",
      "metadata": {
        "cell_id": "bc9f040e54d24936907a6f1a9a70255c",
        "deepnote_cell_type": "markdown",
        "tags": []
      },
      "source": "**4.2:** Add the best fitting empty model to this faceted histogram below. Also add it to the jitter plot below.\n"
    },
    {
      "cell_type": "code",
      "execution_count": null,
      "metadata": {
        "cell_id": "b5b804faaf034689bfd6259726177325",
        "deepnote_cell_type": "code",
        "deepnote_to_be_reexecuted": false,
        "execution_millis": 414,
        "execution_start": 1661561357301,
        "output_cleared": false,
        "source_hash": "fc8d580f",
        "tags": [],
        "trusted": true
      },
      "outputs": [],
      "source": "gf_histogram(~ base_anxiety, data = er_anxiety, binwidth = 1, fill = \"gold\") %>%\n  gf_facet_grid(condition ~ .)\n\ngf_jitter(base_anxiety ~ condition, data = er_anxiety, width = .1, color = \"gold\")"
    },
    {
      "cell_type": "code",
      "execution_count": null,
      "metadata": {
        "allow_embed": false,
        "cell_id": "d84d9be3083a4b8bbc10b5561c348073",
        "deepnote_cell_type": "code",
        "deepnote_to_be_reexecuted": false,
        "execution_millis": 445,
        "execution_start": 1661561357759,
        "output_cleared": false,
        "source_hash": "436718a2",
        "tags": [],
        "trusted": true
      },
      "outputs": [],
      "source": "# Complete Version\nempty_model <- lm(base_anxiety ~ NULL, data = er_anxiety)\n\ngf_histogram(~ base_anxiety, data = er_anxiety, binwidth = 1, fill = \"gold\") %>%\n  gf_facet_grid(condition ~ .) %>%\n  gf_model(empty_model)\n\ngf_jitter(base_anxiety ~ condition, data = er_anxiety, width = .1, color = \"gold\") %>%\n  gf_model(empty_model)"
    },
    {
      "cell_type": "markdown",
      "metadata": {
        "cell_id": "add97798291e4b949dbfc41a21852fda",
        "deepnote_cell_type": "markdown",
        "tags": []
      },
      "source": "<div class=\"alert alert-block alert-info\">\n\n<b> <font size=\"+1\">Key Question</font></b>\n\n**4.3:** Write the best fitting equation of the empty model in GLM notation. Interpret the parameter estimate. How does this number relate to the model shown in the graph?\n\n</div>"
    },
    {
      "cell_type": "markdown",
      "metadata": {
        "cell_id": "84f91a50efb5473aba48c6a1d3c5e7bd",
        "deepnote_cell_type": "markdown",
        "tags": []
      },
      "source": "<div class=\"alert alert-block alert-warning\">\n\n**Sample Response:**\n\n***GLM:***\n\n- $base\\_anxiety_i = 6.12 + e_i$\n- $Y_i = 6.12 + e_i$\n\n\n***Interpretation:***\n\nThe empty model predicts that a patient (regardless of Condition) will have an average base anxiety rating of about 6.12.\n\nThis number is represented by the line for the model. The line for the model is plotted at the empty model's prediction of 6.12.\n\n</div>"
    },
    {
      "cell_type": "markdown",
      "metadata": {
        "cell_id": "01273f21baa8479f955d6fb337b4c7d8",
        "deepnote_cell_type": "markdown",
        "tags": []
      },
      "source": "**4.4:** Why does the empty model predict the same base anxiety level for people in the control condition as well as those who got dog therapy?"
    },
    {
      "cell_type": "markdown",
      "metadata": {
        "cell_id": "bd37b14ef4354885804f8f0e8bf7d149",
        "deepnote_cell_type": "markdown",
        "tags": []
      },
      "source": "<div class=\"alert alert-block alert-warning\">\n\n**Sample Responses:**\n\n- The empty model does not include any information about `Condition` (it's \"empty\" or \"null\" of an explanatory variable). \n\n- The empty model is a constant, not a variable, and will just predict the same value for all cases (in this case, the grand mean of base anxiety).\n\n</div>"
    },
    {
      "cell_type": "markdown",
      "metadata": {
        "cell_id": "01b9d5235b4847509026d236620a6377",
        "deepnote_cell_type": "markdown",
        "tags": []
      },
      "source": "Someone who didn't know very much about how this data were collected decided to create a model using `condition` to predict variation in baseline anxiety. They added it to this jitter plot. "
    },
    {
      "cell_type": "code",
      "execution_count": null,
      "metadata": {
        "cell_id": "f68e573a56b342bbaeb5cce22707b8d5",
        "deepnote_cell_type": "code",
        "deepnote_to_be_reexecuted": false,
        "execution_millis": 195,
        "execution_start": 1661561358195,
        "output_cleared": false,
        "source_hash": "144eedb2",
        "tags": [],
        "trusted": true
      },
      "outputs": [],
      "source": "base_condition_model <- lm(base_anxiety ~ condition, data = er_anxiety)\n\ngf_jitter(base_anxiety ~ condition, data = er_anxiety, width = .1, color = \"gold\") %>%\n  gf_model(base_condition_model)\n\nbase_condition_model"
    },
    {
      "cell_type": "markdown",
      "metadata": {
        "cell_id": "420d3841085441ad9e330ed73456ed9d",
        "deepnote_cell_type": "markdown",
        "tags": []
      },
      "source": "**4.5:** They wrongly concluded that dog therapy could actually increase baseline anxiety because the $b_1$ was .42 and they saw that the average anxiety in the dog condition is actually higher than in the control condition. How would you disabuse them of this idea?"
    },
    {
      "cell_type": "markdown",
      "metadata": {
        "cell_id": "3ea61ecf1e124c69b56667b2cbaa701a",
        "deepnote_cell_type": "markdown",
        "tags": []
      },
      "source": "<div class=\"alert alert-block alert-warning\">\n\n**Sample Responses:**\n\n- Tell them about error due to natural sampling variation.\n\n- Tell them that for dog therapy to potentially cause that difference, it would have had to have happened *before* the base anxiety.\n\n- Tell them that even though there is a difference, it is not a big enough difference to be meaningful.\n\n- Tell them that even though $b_1$ isn't *exactly* zero, it doesn't mean there isn't relatively zero difference between the groups. It could still be a difference that came about by chance.\n\n</div>"
    },
    {
      "cell_type": "markdown",
      "metadata": {
        "cell_id": "cfeb90118dfc4fdd828d2d76efaeb831",
        "deepnote_cell_type": "markdown",
        "tags": []
      },
      "source": "<div class=\"alert alert-block alert-success\">\n\n### 5.0 - Approximate Time:  15-20 mins\n\n</div>"
    },
    {
      "cell_type": "markdown",
      "metadata": {
        "cell_id": "12944f674f45492e822d053018f95352",
        "deepnote_cell_type": "markdown",
        "tags": []
      },
      "source": "## 5.0: Comparing `condition` Models"
    },
    {
      "cell_type": "markdown",
      "metadata": {
        "cell_id": "1ef4c00bbe434cc8beb32712356bf346",
        "deepnote_cell_type": "markdown",
        "tags": []
      },
      "source": "**5.1:** Here are three models using `condition` to explain variation in `base_anxiety`, `later_anxiety`, and `last_anxiety`. Which of these models visually looks like they explain the most variation in anxiety?"
    },
    {
      "cell_type": "code",
      "execution_count": null,
      "metadata": {
        "cell_id": "c0154ef7e10b4c47b969fa57cba73ff0",
        "deepnote_cell_type": "code",
        "deepnote_to_be_reexecuted": false,
        "execution_millis": 793,
        "execution_start": 1661561358431,
        "output_cleared": false,
        "source_hash": "4e520f0d",
        "tags": [],
        "trusted": true
      },
      "outputs": [],
      "source": "base_condition_model <- lm(base_anxiety ~ condition, data = er_anxiety)\ngf_jitter(base_anxiety ~ condition, data = er_anxiety, width = .1, color = \"gold\") %>%\n  gf_model(base_condition_model)\n\nlater_condition_model <- lm(later_anxiety ~ condition, data = er_anxiety)\ngf_jitter(later_anxiety ~ condition, data = er_anxiety, width = .1, color = \"orange\") %>%\n  gf_model(later_condition_model)\n\nlast_condition_model <- lm(last_anxiety ~ condition, data = er_anxiety)\ngf_jitter(last_anxiety ~ condition, data = er_anxiety, width = .1, color = \"red\") %>%\n  gf_model(last_condition_model)"
    },
    {
      "cell_type": "markdown",
      "metadata": {
        "cell_id": "6bcc4d90f9534f35908be702895aaa80",
        "deepnote_cell_type": "markdown",
        "tags": []
      },
      "source": "<div class=\"alert alert-block alert-warning\">\n\n**Sample Responses:**\n\nVisually, it looks like the `Condition` model explains the most variation for `last_anxiety`. That model has the biggest gap, or difference, between the two lines of the model (the largest $b_1$). \n\n</div>"
    },
    {
      "cell_type": "markdown",
      "metadata": {
        "cell_id": "ebdc89a93a204055b15f1de0ebc2ed81",
        "deepnote_cell_type": "markdown",
        "tags": []
      },
      "source": "<div class=\"alert alert-block alert-info\">\n\n<b> <font size=\"+1\">Key Question</font></b>\n\n**5.2:** Use a statistical measure to figure out which of these models explains the most variation in anxiety. Does your conclusion fit your visual intuition (from 5.1)?\n\n</div>"
    },
    {
      "cell_type": "code",
      "execution_count": null,
      "metadata": {
        "cell_id": "574b180090ea4db6b8b3e6a8cdc9e9f4",
        "deepnote_cell_type": "code",
        "deepnote_to_be_reexecuted": false,
        "execution_millis": 243,
        "execution_start": 1661561358991,
        "output_cleared": false,
        "source_hash": "3c7aab3b",
        "tags": [],
        "trusted": true
      },
      "outputs": [],
      "source": "# Sample Response\nsupernova(base_condition_model)\nsupernova(later_condition_model)\nsupernova(last_condition_model)\n"
    },
    {
      "cell_type": "markdown",
      "metadata": {
        "cell_id": "3027500fdcb94effbac0f235ac66ea58",
        "deepnote_cell_type": "markdown",
        "tags": []
      },
      "source": "<div class=\"alert alert-block alert-warning\">\n\n**Sample Responses:**\n\nIf we use PRE, or Model SS, then we can see that condition explains the most variation (or, reduces the most SS error) in last_anxiety, compared to the other two condition models.\n\n</div>"
    },
    {
      "cell_type": "markdown",
      "metadata": {
        "cell_id": "700dddbd891a4aa2830d913fc0c30d8d",
        "deepnote_cell_type": "markdown",
        "tags": []
      },
      "source": "**5.3:** Why are there fewer degrees of freedom available in the ANOVA table for `last_anxiety` than in the others?"
    },
    {
      "cell_type": "markdown",
      "metadata": {
        "cell_id": "a1354e1359364434a36b9bdfc830c4a4",
        "deepnote_cell_type": "markdown",
        "tags": []
      },
      "source": "<div class=\"alert alert-block alert-warning\">\n\n**Sample Responses:**\n\nBecause there are fewer cases for that measure (it has a smaller n).\n\n</div>"
    },
    {
      "cell_type": "markdown",
      "metadata": {
        "cell_id": "bdca42d2f2a2476288a820c366c5d18f",
        "deepnote_cell_type": "markdown",
        "tags": []
      },
      "source": "**5.4 -- BONUS:** Can you create a new variable to look at the change in anxiety from baseline to 30 minutes later? How much variation in this change is explained by `condition`?"
    },
    {
      "cell_type": "code",
      "execution_count": null,
      "metadata": {
        "cell_id": "9c425a3a160447ff950aee5896f7fc33",
        "deepnote_cell_type": "code",
        "deepnote_to_be_reexecuted": false,
        "execution_millis": 237,
        "execution_start": 1661561359080,
        "output_cleared": false,
        "source_hash": "b1a301eb",
        "tags": [],
        "trusted": true
      },
      "outputs": [],
      "source": "# Sample Response\n\n# Create a variable that gets the difference between base anxiety and later anxiety\ner_anxiety$base_later_diff <- er$base_anxiety - er$later_anxiety\nhead(er_anxiety)\n\n# Plot with Models for change from base to later\ngf_jitter(base_later_diff ~ condition, data = er_anxiety, width = .2, height = .2, color = \"orchid4\") %>%\ngf_model(base_later_diff ~ NULL, color = \"blue\") %>%\ngf_model(base_later_diff ~ condition, color = \"orange\") \n\n# Fit the models for change from base to later\nempty_model_later_diff <- lm(base_later_diff ~ NULL, data = er_anxiety)\nempty_model_later_diff\n\ncondition_model_later_diff <- lm(base_later_diff ~ condition, data = er_anxiety)\ncondition_model_later_diff\n\n# Evaluate the models\nsupernova(condition_model_later_diff)\n"
    },
    {
      "cell_type": "markdown",
      "metadata": {
        "cell_id": "9994745aad3f4b4092cf0b04b365c0f4",
        "deepnote_cell_type": "markdown",
        "tags": []
      },
      "source": "<div class=\"alert alert-block alert-warning\">\n\n**Sample Responses:**\n\nAccording to the PRE, condition explains about 19% of the variation in the difference between baseline anxiety and later anxiety.\n\n\n**Note to Instructors:**\n\nStudents can also try looking at the difference between baseline and last anxiety as well.\n\nAlso, because the outcome variable changes from measures of anxiety to a difference, with positive and negative values, you may want to get them to take time to interpret their values.\n\n</div>"
    }
  ],
  "metadata": {
    "deepnote": {},
    "deepnote_execution_queue": [],
    "deepnote_notebook_id": "87a4b0e0-2733-463b-a0d8-ef70f7cc0e47",
    "kernelspec": {
      "display_name": "R",
      "language": "R",
      "name": "ir"
    },
    "language_info": {
      "codemirror_mode": "r",
      "file_extension": ".r",
      "mimetype": "text/x-r-source",
      "name": "R",
      "pygments_lexer": "r",
      "version": "4.0.3"
    },
    "nbsimplegrader": {
      "publish_config": {
        "classes": [],
        "options": {},
        "tools": []
      }
    }
  },
  "nbformat": 4,
  "nbformat_minor": 2
}