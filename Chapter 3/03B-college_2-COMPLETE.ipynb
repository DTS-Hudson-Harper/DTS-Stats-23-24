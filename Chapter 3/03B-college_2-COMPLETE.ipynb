{
  "cells": [
    {
      "cell_type": "markdown",
      "metadata": {
        "cell_id": "1534fd3d04b84a1689beb792459c44af",
        "deepnote_cell_type": "markdown",
        "tags": []
      },
      "source": "<div class=\"alert alert-block alert-danger\">\n\n# 3B: College Mobility - Part II (COMPLETE)\n\n*This notebook is intended for students who have completed up to:*\n \n**Page 3.9**\n\n</div>"
    },
    {
      "cell_type": "markdown",
      "metadata": {
        "cell_id": "e9063db360914221a742e92e96bc28e1",
        "deepnote_cell_height": 462.84375,
        "deepnote_cell_type": "markdown",
        "tags": []
      },
      "source": "<div class=\"alert alert-block alert-warning\">\n\n#### Summary of Notebook:\n\nIn this lesson, students will once again consider the relationship between attending college and achieving social mobility. This time they will explore whether the type of college (for-profit, private non-profit, or public) explains variation in mobility, or whether the graduating class size of the college has anything to do with mobility.\n\n\n#### Includes:\n\n- Fitting and interpreting a model with a categorical explanatory variable.\n- Fitting and interpreting a model with a quantitative explanatory variable.\n- Connecting parameter estimates to visualizations.\n- Making predictions with models, and evaluating error off of the models.\n\n#### Resources:\n\n- Optional [Printable Graph Handout](https://docs.google.com/document/d/1BCSPksPRqOm36RPtyPXM714sKqdfMzIy1sppwTLfpc8/edit?usp=sharing). This handout contains images of the relevant visualizations that are made throughout the lesson. They can be used for students to manually draw on, mark up, and make notes. This can give students the chance to process the graphs more deeply, and connect them to the models they are fitting.\n\n</div>"
    },
    {
      "cell_type": "markdown",
      "metadata": {
        "cell_id": "97087faf0ad9476e95accfdabd3ff74c",
        "deepnote_cell_height": 123.9375,
        "deepnote_cell_type": "markdown",
        "tags": []
      },
      "source": "<div class=\"alert alert-block alert-success\">\n\n## Approximate time to complete Notebook: 55-75 Mins\n\n</div>"
    },
    {
      "cell_type": "code",
      "execution_count": null,
      "metadata": {
        "cell_id": "bdaaacd7d206427a96d48ff96a18d953",
        "deepnote_cell_height": 260.953125,
        "deepnote_cell_type": "code",
        "deepnote_to_be_reexecuted": false,
        "execution_millis": 4027,
        "execution_start": 1662164909387,
        "output_cleared": true,
        "source_hash": "e91c2a1a",
        "tags": [],
        "trusted": true
      },
      "outputs": [],
      "source": "# This code will load the R packages we will use\nsuppressPackageStartupMessages({\n    library(coursekata)\n})\n\n# This code will make sure the middle rows/columns don't get cut out (ellipsized) when you \n# print out a really large data frame (you can adjust the values for max rows/cols)\noptions(repr.matrix.max.rows=1400, repr.matrix.max.cols=200)\n\n# Load the data frame\ncolleges <- read.csv(\"https://docs.google.com/spreadsheets/d/e/2PACX-1vRg0xH6f5WG5-Tyxm-hoPEuyy6bao9FtB1kCumuFrS_PhjZVy1sXCmJ1mR0aYMrOXCf-zuG5_vFz5By/pub?gid=0&single=true&output=csv\")"
    },
    {
      "cell_type": "markdown",
      "metadata": {
        "cell_id": "7bb4818419834b4f87ca371ae74c6e86",
        "deepnote_cell_height": 542.484375,
        "deepnote_cell_type": "markdown",
        "tags": []
      },
      "source": "<img src=\"https://i.postimg.cc/hgQxmL5Q/johnston-gate-harvard.jpg\" alt=\"Johnston Gates at Harvard University\" width = 50%>"
    },
    {
      "cell_type": "markdown",
      "metadata": {
        "cell_id": "09e20b0e98fb428f90e4367ffa89fd93",
        "deepnote_cell_height": 211.921875,
        "deepnote_cell_type": "markdown",
        "tags": []
      },
      "source": "## College and the American Dream\n\nPreviously, we explored whether colleges are places of social mobility. We looked at the mobility index of each college to see which ones help to bring the most people from the bottom 20% of household income to the top 20%. We saw that mid-tier schools tended to have the highest mobility rates, while low- and high-tier schools tended to have lower rates, and low-tier schools (e.g., Ivy League) tended to not admit very many students from the bottom 20% of incomes to begin with.\n\nLet's continue to explore the various factors that may contribute to a college's mobility index."
    },
    {
      "cell_type": "markdown",
      "metadata": {
        "cell_id": "9ced1e69a0b74eceaf30b41b4b4016ab",
        "deepnote_cell_height": 93.953125,
        "deepnote_cell_type": "markdown",
        "tags": []
      },
      "source": "### Motivating Questions: Does the type of college have an affect on mobility? How about class size?"
    },
    {
      "cell_type": "markdown",
      "metadata": {
        "cell_id": "6725db106ea345a38c3ee887b9e5bab7",
        "deepnote_cell_height": 633.984375,
        "deepnote_cell_type": "markdown",
        "tags": []
      },
      "source": "### The Dataset\n**Description:** Describes family income (income while growing up) and adult income (income after graduating college) for students who attended college in the early 2000s. Data are in tidy format, with one row per college. See more in the official dataset [documentation](https://opportunityinsights.org/wp-content/uploads/2018/03/Codebook-MRC-Table-1.pdf).\n\n##### Variables\n- `name`: Name of college\n- `location`: City in which college is located\n- `state`: State in which college is located\n- `class_size`: Average size of graduating classes during years measured\n- `tier`: School tier (1-12), lower number indicates more prestigious tier of school\n- `tier_name`: Description of tier (e.g. selective public, selective private, IVY Plus, etc.)\n- `type`: School type (private non-profit, private for-profit, public)\n- `median_family_income`: Median family income of students at the school\n- `percent_from_bottom_20`: Percent of students at the school who come from bottom 20% income households\n- `percent_from_bottom_20_and_reached_top_20`: Percent of all students at the school who came from bottom 20% income households and who reached the top 20% of incomes as adults\n- `mobility_index`: The same variable as `percent_from_bottom_20_and_reached_top_20` but renamed to be shorter\n\n\n##### Data Sources: \n - Chetty et al. (Opportunity Insights), Mobility Report Cards database: https://opportunityinsights.org/paper/mobilityreportcards/\n    - Specifically: MRC Codebook Table 1, Preferred Estimates of Access and Mobility Rates by College:  https://opportunityinsights.org/data/?#resource-listing"
    },
    {
      "cell_type": "markdown",
      "metadata": {
        "cell_id": "c13a772710944b54ac6e2e4ba544fe1f",
        "deepnote_cell_height": 115.9375,
        "deepnote_cell_type": "markdown",
        "tags": []
      },
      "source": "<div class=\"alert alert-block alert-success\">\n\n### 1.0 - Approximate Time:  5-10 mins\n\n</div>"
    },
    {
      "cell_type": "markdown",
      "metadata": {
        "cell_id": "043529f893934e9192c1be1b6d008602",
        "deepnote_cell_height": 62.421875,
        "deepnote_cell_type": "markdown",
        "tags": []
      },
      "source": "### 1.0 - Explore `mobility_index`"
    },
    {
      "cell_type": "markdown",
      "metadata": {
        "cell_id": "863a6dcbcd7f4c38a85348dfcf87b25b",
        "deepnote_cell_height": 52.359375,
        "deepnote_cell_type": "markdown",
        "tags": []
      },
      "source": "**1.1** - Take a look at some of the data frame. What does each row represent? "
    },
    {
      "cell_type": "code",
      "execution_count": null,
      "metadata": {
        "allow_embed": false,
        "cell_id": "5e08549ef3c5483da366e40bbb733d75",
        "deepnote_cell_height": 75.953125,
        "deepnote_cell_type": "code",
        "deepnote_to_be_reexecuted": false,
        "execution_millis": 78,
        "execution_start": 1662164913476,
        "output_cleared": true,
        "source_hash": "2b3b53d2",
        "tags": [],
        "trusted": true
      },
      "outputs": [],
      "source": "head(colleges)"
    },
    {
      "cell_type": "markdown",
      "metadata": {
        "cell_id": "66e71781ed2243e4a13e3989507c9966",
        "deepnote_cell_height": 140.71875,
        "deepnote_cell_type": "markdown",
        "tags": []
      },
      "source": "<div class=\"alert alert-block alert-warning\">\n\n**Sample Response:**\n\nEach row is a college.\n\n</div>"
    },
    {
      "cell_type": "markdown",
      "metadata": {
        "cell_id": "a6002d8fce8f49ce80ed7a4e7211ecba",
        "deepnote_cell_height": 74.75,
        "deepnote_cell_type": "markdown",
        "tags": []
      },
      "source": "**1.2** - Create a visualization to look at the distribution of `mobility_index`. What do you think is the maximum value that `mobility_index` could be? Are many of the colleges near that maximum value?"
    },
    {
      "cell_type": "code",
      "execution_count": null,
      "metadata": {
        "cell_id": "1ab2f6ae117f41ffbb1e3db1ac3b7250",
        "deepnote_cell_height": 165.953125,
        "deepnote_cell_type": "code",
        "deepnote_to_be_reexecuted": false,
        "execution_millis": 1228,
        "execution_start": 1662164913597,
        "output_cleared": true,
        "source_hash": "5c5aa5ae",
        "tags": [],
        "trusted": true
      },
      "outputs": [],
      "source": "# Sample Response\ngf_histogram(~mobility_index, data = colleges) %>%\n    gf_boxplot(fill = \"white\", width = 9)\n\n# Sample Response\ngf_boxplot(mobility_index~1, data = colleges)"
    },
    {
      "cell_type": "markdown",
      "metadata": {
        "cell_id": "05e4fae6ca1244d8b20221822e61bc0b",
        "deepnote_cell_height": 303.078125,
        "deepnote_cell_type": "markdown",
        "tags": []
      },
      "source": "<div class=\"alert alert-block alert-warning\">\n\n**Sample Response:**\n\nMobility index is a percentage (the percentage of students at the school who came from bottom 20% income households and who reached the top 20% of incomes as adults). It could be 100% (that would happen if all the students at a college came from poor households and reached the top 20% as adults). \n\nMost colleges have a mobility index that is really low (around 1.5% - 2.5%). The distribution is skewed, with a few colleges having a much higher index of about 10% - 16%.  \n\nStudents may be surprised at how low the mobility index is. It is a good opportunity to remind them of the prior notebook where they looked at the median family incomes at these colleges... colleges tend to serve already wealthy families.\n</div>"
    },
    {
      "cell_type": "markdown",
      "metadata": {
        "cell_id": "374491fd4b0c4bc587240a9606b8412f",
        "deepnote_cell_height": 74.75,
        "deepnote_cell_type": "markdown",
        "tags": []
      },
      "source": "**1.3** - Fit the empty model for `mobility_index` and interpret the value. (Bonus: add the empty model to the data visualization you made above.)"
    },
    {
      "cell_type": "code",
      "execution_count": null,
      "metadata": {
        "cell_id": "261fd132ca63419c9a00b809bfdac32e",
        "deepnote_cell_height": 111.953125,
        "deepnote_cell_type": "code",
        "deepnote_to_be_reexecuted": false,
        "execution_millis": 50,
        "execution_start": 1662164914865,
        "output_cleared": true,
        "source_hash": "aad34da0",
        "tags": [],
        "trusted": true
      },
      "outputs": [],
      "source": "# Fit the empty model\nempty_model <- lm(mobility_index ~ NULL, data = colleges)\nempty_model"
    },
    {
      "cell_type": "markdown",
      "metadata": {
        "cell_id": "cb1c67c6503d41f6b88f85fce06221b7",
        "deepnote_cell_height": 140.71875,
        "deepnote_cell_type": "markdown",
        "tags": []
      },
      "source": "<div class=\"alert alert-block alert-warning\">\n\n**Sample Response:**\n\nThe empty model predicts that a college will have a mobility rate of about 1.92%.\n\n</div>"
    },
    {
      "cell_type": "code",
      "execution_count": null,
      "metadata": {
        "cell_id": "a80b2949910840cf896ed6bcf111ecf0",
        "deepnote_cell_height": 129.953125,
        "deepnote_cell_type": "code",
        "deepnote_to_be_reexecuted": false,
        "execution_millis": 1172,
        "execution_start": 1662164914910,
        "output_cleared": true,
        "source_hash": "194d0332",
        "tags": [],
        "trusted": true
      },
      "outputs": [],
      "source": "# bonus \ngf_histogram(~ mobility_index, data = colleges) %>%\n    gf_boxplot(fill = \"white\", width = 9) %>%\n    gf_model(empty_model)"
    },
    {
      "cell_type": "markdown",
      "metadata": {
        "cell_id": "28d1928b36184cb8b66e8f1f971fe846",
        "deepnote_cell_height": 115.9375,
        "deepnote_cell_type": "markdown",
        "tags": []
      },
      "source": "<div class=\"alert alert-block alert-success\">\n\n### 2.0 - Approximate Time:  20-25 mins\n\n</div>"
    },
    {
      "cell_type": "markdown",
      "metadata": {
        "cell_id": "96d1d873472d44259617abb0a8c5226a",
        "deepnote_cell_height": 70.421875,
        "deepnote_cell_type": "markdown",
        "tags": []
      },
      "source": "## 2.0 - Does `type` explain variation in mobility?"
    },
    {
      "cell_type": "markdown",
      "metadata": {
        "cell_id": "3c6c7e2993a243c5ac49de24f5b089f4",
        "deepnote_cell_height": 169.53125,
        "deepnote_cell_type": "markdown",
        "tags": []
      },
      "source": "#### Explore the Distribution\n\n**2.1** - Do you think the `type` of college (private non-profit, private for-profit, or public) will explain any of the variation in `mobility_index`?\n\nMake some predictions about what you might expect to find, then create a visualization to explore the hypothesis. Describe what you see."
    },
    {
      "cell_type": "code",
      "execution_count": null,
      "metadata": {
        "cell_id": "8100836e80184ef7ab900193066f7d8f",
        "deepnote_cell_height": 255.953125,
        "deepnote_cell_type": "code",
        "deepnote_to_be_reexecuted": false,
        "execution_millis": 1678,
        "execution_start": 1662164915297,
        "output_cleared": true,
        "source_hash": "cf1fe523",
        "tags": [],
        "trusted": true
      },
      "outputs": [],
      "source": "# Sample Response\ngf_jitter(mobility_index ~ type, data = colleges)\n\n# Sample Response\ngf_histogram(~mobility_index, data = colleges) %>%\n  gf_facet_grid(type ~ .) %>%\n  gf_boxplot(width = 20)\n\n# Sample Response\ngf_dhistogram(~mobility_index, data = colleges) %>%\n  gf_facet_grid(type ~ .) "
    },
    {
      "cell_type": "markdown",
      "metadata": {
        "cell_id": "5b4d8cd4ea2349eaabb8450dff597561",
        "deepnote_cell_height": 185.515625,
        "deepnote_cell_type": "markdown",
        "tags": []
      },
      "source": "<div class=\"alert alert-block alert-warning\">\n\n**Sample Response:**\n\nThey all seem kind of similarly distributed and skewed right. For profit colleges have the fewest cases and the least amount of variation. They all seem to have similar centers (around 1.5-2.5%). Public and private non-profit colleges have some of the highest cases of mobility rate, but they appear to be outliers.\n\n\n</div>"
    },
    {
      "cell_type": "markdown",
      "metadata": {
        "cell_id": "4481687f2eb344bbb62b868cea7eee20",
        "deepnote_cell_height": 161.34375,
        "deepnote_cell_type": "markdown",
        "tags": []
      },
      "source": "#### Fit and Interpret the Model\n\n**2.2** - Find the best fitting parameter estimates and put the model into GLM notation. \n\nHere is some markdown to get you started:\n\n$Y_i = b_0 + b_1(X_{1i}) + b_2(X_{2i}) + e_i$"
    },
    {
      "cell_type": "code",
      "execution_count": null,
      "metadata": {
        "cell_id": "53e3bbed634a422f991dfa6cdf804772",
        "deepnote_cell_height": 93.953125,
        "deepnote_cell_type": "code",
        "deepnote_to_be_reexecuted": false,
        "execution_millis": 23,
        "execution_start": 1662164916972,
        "output_cleared": true,
        "source_hash": "130b2e5d",
        "tags": [],
        "trusted": true
      },
      "outputs": [],
      "source": "type_model <- lm(mobility_index ~ type, data = colleges)\ntype_model"
    },
    {
      "cell_type": "markdown",
      "metadata": {
        "cell_id": "0020d6f234fb46fd8fa77ff35d31a652",
        "deepnote_cell_height": 213.921875,
        "deepnote_cell_type": "markdown",
        "tags": []
      },
      "source": "<div class=\"alert alert-block alert-warning\">\n\n**Sample Response:**\n\n$Y_i = 1.723 + 0.004(X_i) + 0.554(X_i) + e_i$\n\nOR\n\n$mobility\\_index_i = 1.723 + 0.004(typeprivatenonprofit_i) + 0.554(typepublic_i) + e_i$\n\n\n</div>"
    },
    {
      "cell_type": "markdown",
      "metadata": {
        "cell_id": "cb783607a2cb4a31be56fb841e967781",
        "deepnote_cell_height": 140.328125,
        "deepnote_cell_type": "markdown",
        "tags": []
      },
      "source": "<div class=\"alert alert-block alert-info\">\n\n#### Key Question:\n\n**2.3** - Interpret the parameter estimates and add them to your visualization.\n\n</div>"
    },
    {
      "cell_type": "markdown",
      "metadata": {
        "cell_id": "e3f03021254a46c49f10045b1bf8ceea",
        "deepnote_cell_height": 332.5,
        "deepnote_cell_type": "markdown",
        "tags": []
      },
      "source": "<div class=\"alert alert-block alert-warning\">\n\n**Sample Response:**\n\n- $b_0$ = 1.723; this is the intercept, or group mean for the \"for-profit\" group.\n- $b_1$ = 0.004; this is the increment that we add on to $b_0$ to get the mean of the \"private non-profit\" group.\n- $b_2$ = 0.554; this is the increment that we add on to $b_0$ to get the mean of the \"public\" group.\n\n**Instructor Note:**\n\nOnce they add the model to their visualization, you may also want to encourage students to connect the estimates to the visualization. For example, get them to verbalize and point to $b_0$ (the base mean), $b_1$ (the distance between $b_0$ and the mean of \"private non-profit\"), and $b_2$ (the distance between $b_0$ and the mean of \"public\"). The handout linked at the top of the notebook can also be used here so students can manually draw on the visualizations and mark them up with other notes, etc.\n\n</div>"
    },
    {
      "cell_type": "code",
      "execution_count": null,
      "metadata": {
        "cell_id": "738c914573bf48779879ac4afa1ec21a",
        "deepnote_cell_height": 273.953125,
        "deepnote_cell_type": "code",
        "deepnote_to_be_reexecuted": false,
        "execution_millis": 933,
        "execution_start": 1662164917034,
        "output_cleared": true,
        "source_hash": "b52a1577",
        "tags": [],
        "trusted": true
      },
      "outputs": [],
      "source": "# Examples below use gf_model\n# Students might also use gf_vline/gf_hline, gf_lm, predict, etc.\n\n# Sample Response\ngf_jitter(mobility_index ~ type, data = colleges, width = .1, alpha = .1) %>%\n    gf_model(type_model, color = \"red\")\n\n# Sample Response\ngf_histogram(~mobility_index, data = colleges) %>%\n    gf_facet_grid(type ~ .)%>%\n    gf_model(type_model, color = \"red\")\n"
    },
    {
      "cell_type": "markdown",
      "metadata": {
        "cell_id": "fa88a48c04fe4c01b975edb4df9050a6",
        "deepnote_cell_height": 225.921875,
        "deepnote_cell_type": "markdown",
        "tags": []
      },
      "source": "#### Make Predictions with the Model\n\n**2.4** - Use the model to make a prediction for each group:\n\nWhat would the model predict for a:\n\n- for-profit college?\n- private non-profit college?\n- public college?"
    },
    {
      "cell_type": "markdown",
      "metadata": {
        "cell_id": "b3eba9020a9e48a197fbe0ee0abc04d7",
        "deepnote_cell_height": 486.28125,
        "deepnote_cell_type": "markdown",
        "tags": []
      },
      "source": "<div class=\"alert alert-block alert-warning\">\n\n**Sample Response:**\n\nFor-profit (multiply $b_1$ and $b_2$ by 0):\n\n> $mobility\\_index_i = 1.723 + 0.004(0) + 0.554(0) = 1.723 + 0 + 0 + e_i$\n> mobility index = 1.723\n\nFor private non-profit (multiply $b_1$ by 1 and $b_2$ by 0):\n\n> $mobility\\_index_i = 1.723 + 0.004(1) + 0.554(0) = 1.723 + 0.004 + 0 + e_i$\n> mobility index = 1.727\n\nFor public (multiply $b_1$ by 0 and $b_2$ by 1):\n\n> $mobility\\_index_i = 1.723 + 0.004(0) + 0.554(1) = 1.723 + 0 + 0.554 + e_i$\n> mobility index = 2.277\n\n**Instructor Note:**\n\nStudents can also use the `favstats()` or `predict()` functions, however, the goal of this exercise is to get them to think about how the model works when you do use the `predict()` function.\n\n</div>"
    },
    {
      "cell_type": "code",
      "execution_count": null,
      "metadata": {
        "cell_id": "c8c056bab1e4413ab381142d5174d1de",
        "deepnote_cell_height": 165.953125,
        "deepnote_cell_type": "code",
        "deepnote_to_be_reexecuted": false,
        "execution_millis": 1023,
        "execution_start": 1662164917968,
        "output_cleared": true,
        "source_hash": "963af0af",
        "tags": [],
        "trusted": true
      },
      "outputs": [],
      "source": "# although R is not necessary for question 2.4, \n# after considering the GLM it might be helpful \n# to look at favstats() or predict()\nfavstats(mobility_index ~ type, data = colleges)\n\nhead(predict(type_model))"
    },
    {
      "cell_type": "markdown",
      "metadata": {
        "cell_id": "db95e0f99b50432d95dab733f67e0036",
        "deepnote_cell_height": 52.359375,
        "deepnote_cell_type": "markdown",
        "tags": []
      },
      "source": "**2.5** - According to our model, which type of schools generally perform the lowest in the mobility index? The highest?"
    },
    {
      "cell_type": "markdown",
      "metadata": {
        "cell_id": "226841d207f9408da5661f72ae277835",
        "deepnote_cell_height": 163.125,
        "deepnote_cell_type": "markdown",
        "tags": []
      },
      "source": "<div class=\"alert alert-block alert-warning\">\n\n**Sample Response:**\n\nFor profit and private non-profit colleges have nearly equal mobility rates on average, while public colleges have the highest mobility rates (although they are still pretty low at about 2.27%).\n\n</div>"
    },
    {
      "cell_type": "markdown",
      "metadata": {
        "cell_id": "2597b13558354ab4987e1494ca98ff46",
        "deepnote_cell_height": 169.984375,
        "deepnote_cell_type": "markdown",
        "tags": []
      },
      "source": "#### Quantify Residual Error from the `type` Model and Empty Model\n\nBelow we have generated a couple of visualizations with the `type` model in red and the empty model in blue. In both visualizations, find the case that represents \"California State University, Los Angeles\" (selected and printed out below). \n\n**2.6** - Which model's prediction results in a smaller residual error for Cal State LA: the empty model or the type model? Is there much difference between the two model predictions? "
    },
    {
      "cell_type": "code",
      "execution_count": null,
      "metadata": {
        "cell_id": "2236fae548324de988df6a82c6f26b92",
        "deepnote_cell_height": 309.953125,
        "deepnote_cell_type": "code",
        "deepnote_to_be_reexecuted": false,
        "execution_millis": 1276,
        "execution_start": 1662164918161,
        "output_cleared": true,
        "source_hash": "1f393918",
        "tags": [],
        "trusted": true
      },
      "outputs": [],
      "source": "# Look at the row for California State University, Los Angeles\ncolleges[colleges$name == \"California State University, Los Angeles\", ]\n\n# Teachers may wish to pick one type of plot to focus on in this lesson\n# Jitter Plot\ngf_jitter(mobility_index ~ type, data = colleges, color = \"grey\") %>%\n    gf_model(type_model, color = \"red\") %>%\n    gf_hline(yintercept = 1.92, color = \"blue\")\n\n# Faceted Histogram\ngf_histogram(~mobility_index, data = colleges, fill = \"grey\") %>%\n    gf_facet_grid(type ~ .)%>%\n    gf_model(type_model, color = \"red\") %>%\n    gf_vline(xintercept = 1.92, color = \"blue\")"
    },
    {
      "cell_type": "markdown",
      "metadata": {
        "cell_id": "245a3afe7895461f9ec8e3fa607c34d1",
        "deepnote_cell_height": 249.90625,
        "deepnote_cell_type": "markdown",
        "tags": []
      },
      "source": "<div class=\"alert alert-block alert-warning\">\n\n**Sample Response:**\n\nStudents should identify Cal State LA as a case in the \"public\" group that is near 9-10 on the mobility_index. \n\nThe `type` model has a slightly smaller residual.\n\n**Instructor Note:**\n\nIt may be helpful to refer to the printable handout for these questions as well, so students can draw and make notes.\n\n</div>"
    },
    {
      "cell_type": "markdown",
      "metadata": {
        "cell_id": "3f749375855545d5b80d25cacc664547",
        "deepnote_cell_height": 74.75,
        "deepnote_cell_type": "markdown",
        "tags": []
      },
      "source": "**2.7** - Pick a different college. Identify it in your visualization and compare the prediction from the empty model to the `type` model. Which model's prediction results in a smaller residual error for this college? "
    },
    {
      "cell_type": "code",
      "execution_count": null,
      "metadata": {
        "cell_id": "e0583616120e41c58ad082b1432d3d32",
        "deepnote_cell_height": 93.953125,
        "deepnote_cell_type": "code",
        "deepnote_to_be_reexecuted": false,
        "execution_millis": 10,
        "execution_start": 1662164919431,
        "output_cleared": true,
        "source_hash": "e5998109",
        "tags": [],
        "trusted": true
      },
      "outputs": [],
      "source": "# if you want to print out all the available names of colleges:\n#select(colleges, name)"
    },
    {
      "cell_type": "code",
      "execution_count": null,
      "metadata": {
        "cell_id": "bac43f2d508046bd9048510a4956303f",
        "deepnote_cell_height": 129.953125,
        "deepnote_cell_type": "code",
        "deepnote_to_be_reexecuted": false,
        "execution_millis": 33,
        "execution_start": 1662164919464,
        "output_cleared": true,
        "source_hash": "4259cb56",
        "tags": [],
        "trusted": true
      },
      "outputs": [],
      "source": "# Look at the row for a different college \ncolleges[colleges$name == \"Academy Of Art University\", ]\ncolleges[colleges$name == \"Harvard University\", ]\ncolleges[colleges$name == \"University Of Michigan - Ann Arbor\", ]"
    },
    {
      "cell_type": "markdown",
      "metadata": {
        "cell_id": "557b105e4ab54355b1b32d8b36d6b248",
        "deepnote_cell_height": 566.21875,
        "deepnote_cell_type": "markdown",
        "tags": []
      },
      "source": "<div class=\"alert alert-block alert-warning\">\n\n**Sample Response:**\n\nStudents should identify a new college in the data frame. For example: Academy of Art University\n\nIn the plot, they should locate Academy of Art University as a case in the \"for profit\" group that is near 1.64 on the mobility_index. \n\nThe type model still makes a slightly better prediction, however, there is almost no difference between it and the empty model prediction.\n\n**Instructor Note:**\n\nYou may want to prod them to answer this follow-up question: If there isn't much difference between the two model predictions, what does that suggest?\n\n\nPossible Answers:\n\nIt would suggest that the type model is as good as the empty model. \n\nIt would suggest that the DGP is random, or all unexplained variation, with regard to the relationship between type and mobility_index.\n\nDepending on which college they select (i.e., which `type`), they may notice that the type model seems to work best for the \"public\" colleges, but that the predictions for the other two groups are much closer to the empty model. This can be considered a prelude to pairwise comparisons later in the book.\n\n</div>"
    },
    {
      "cell_type": "markdown",
      "metadata": {
        "cell_id": "16286f4a0a544bc1a9458e1cd12ea74d",
        "deepnote_cell_height": 214.296875,
        "deepnote_cell_type": "markdown",
        "tags": []
      },
      "source": "<div class=\"alert alert-block alert-info\">\n\n<b> <font size=\"+1\">Key Question</font></b>\n\n<br>\n\n**2.8** - Generate the ANOVA table to get the sum of squared error from the empty model and the type model. You'll see that the type model has less error relative to the empty model. How much less error? \n\nWhat is the proportion of error reduced by the type model?"
    },
    {
      "cell_type": "code",
      "execution_count": null,
      "metadata": {
        "cell_id": "470102b3ce714ab6ae2408df7f9e05fc",
        "deepnote_cell_height": 75.953125,
        "deepnote_cell_type": "code",
        "deepnote_to_be_reexecuted": false,
        "execution_millis": 46,
        "execution_start": 1662164919494,
        "output_cleared": true,
        "source_hash": "62dccda8",
        "tags": [],
        "trusted": true
      },
      "outputs": [],
      "source": "supernova(type_model)"
    },
    {
      "cell_type": "markdown",
      "metadata": {
        "cell_id": "e786128b345845a48d3d8c1c78abd5c1",
        "deepnote_cell_height": 199.515625,
        "deepnote_cell_type": "markdown",
        "tags": []
      },
      "source": "<div class=\"alert alert-block alert-warning\">\n\n**Sample Response:**\n\nNote the type model's SS is called SS Error but the empty model's SS is called SS Total.\n\nThe type model has a lower SS error. 93.988 less in squared percentage (mobility index is a percentage) but that's a weird unit. PRE is .0339 (about 3%).\n</div>"
    },
    {
      "cell_type": "markdown",
      "metadata": {
        "cell_id": "1d290bc63fa4493b9dc9fa3224606f48",
        "deepnote_cell_height": 115.9375,
        "deepnote_cell_type": "markdown",
        "tags": []
      },
      "source": "<div class=\"alert alert-block alert-success\">\n\n### 3.0 - Approximate Time:  20-25 mins\n\n</div>"
    },
    {
      "cell_type": "markdown",
      "metadata": {
        "cell_id": "369b41568f5d487a93d298b72b2c8211",
        "deepnote_cell_height": 61.953125,
        "deepnote_cell_type": "markdown",
        "tags": []
      },
      "source": "### 3.0 - What other variables might explain the variation in mobility index?\n"
    },
    {
      "cell_type": "markdown",
      "metadata": {
        "cell_id": "d8e5b4c69bdc4ceb9ebe272d5a14a530",
        "deepnote_cell_height": 183.53125,
        "deepnote_cell_type": "markdown",
        "tags": []
      },
      "source": "#### Explore the Distribution\n\nWe have explored whether the type of school might explain variation in mobility index. \n\n**3.1** - But now it's your turn: what variable would be better than type at predicting mobility index?\n\nWrite a hypothesis about what you might expect to find (both as a sentence and as a word equation), then create a visualization to explore the hypothesis. Describe what you see."
    },
    {
      "cell_type": "markdown",
      "metadata": {
        "cell_id": "2e8795e060e1453795c5a72b05c47c11",
        "deepnote_cell_height": 280.6875,
        "deepnote_cell_type": "markdown",
        "tags": []
      },
      "source": "<div class=\"alert alert-block alert-warning\">\n\n**Sample Response:**\n\nThe mobility index might be related to class size. Maybe smaller more intimate schools do a better job of improving social mobility.\n\n**social mobility = class size + other stuff**\n\n(Describing visualization below.) The distribution seems to be pretty clumped up in the bottom corner. There is not a lof of variation in mobility_index, with most values below about 7%, and class_size is pretty clumped up under about 5000. There are some outliers on both dimensions. Overall, it doesn't look like there is a clear upward or downward trend.\n\n</div>"
    },
    {
      "cell_type": "code",
      "execution_count": null,
      "metadata": {
        "allow_embed": false,
        "cell_id": "257a05ff708149d3bde9405f05027f69",
        "deepnote_cell_height": 111.953125,
        "deepnote_cell_type": "code",
        "deepnote_to_be_reexecuted": false,
        "execution_millis": 170,
        "execution_start": 1662164919593,
        "output_cleared": true,
        "source_hash": "d36268bd",
        "tags": [],
        "trusted": true
      },
      "outputs": [],
      "source": "# Sample Response\ngf_jitter(mobility_index ~ class_size, data = colleges)\n"
    },
    {
      "cell_type": "markdown",
      "metadata": {
        "cell_id": "7dd4447ad61841d0b7b8572c56f4b99f",
        "deepnote_cell_height": 161.34375,
        "deepnote_cell_type": "markdown",
        "tags": []
      },
      "source": "#### Fit and Interpret the Model\n\n**3.2** - Find the best fitting parameter estimates and put the model into GLM notation. \n\nHere is some markdown to get you started:\n\n$Y_i = b_0 + b_1(X_i) + e_i$"
    },
    {
      "cell_type": "code",
      "execution_count": null,
      "metadata": {
        "allow_embed": false,
        "cell_id": "fab4820837cd456fa1baccf2a4f4d255",
        "deepnote_cell_height": 111.953125,
        "deepnote_cell_type": "code",
        "deepnote_to_be_reexecuted": false,
        "execution_millis": 6,
        "execution_start": 1662164919802,
        "output_cleared": true,
        "source_hash": "92c1c3d8",
        "tags": [],
        "trusted": true
      },
      "outputs": [],
      "source": "# sample response\nclass_size_model <- lm(mobility_index ~ class_size, data = colleges)\nclass_size_model"
    },
    {
      "cell_type": "markdown",
      "metadata": {
        "cell_id": "ca9560bd35f04b49a1e2c84154922f9c",
        "deepnote_cell_height": 331.484375,
        "deepnote_cell_type": "markdown",
        "tags": []
      },
      "source": "<div class=\"alert alert-block alert-warning\">\n\n**Sample Response:**\n\n$Y_i = 1.89 + 0.00003318(X_i) + e_i$\n\nOR\n\n$mobility\\_index_i = 1.89 + 0.00003318(class\\_size_i) + e_i$\n\n**Note to Instructors:**\n\nStudents may need assistance interpreting the values of the R output. For instance, the e+00 and e-05 tell us how many places to move the decimal in the postive or negative direction. Thus, a value like 3.318e-05 translates to 0.00003318, and can be interpreted as basically 0.\n\n</div>"
    },
    {
      "cell_type": "markdown",
      "metadata": {
        "cell_id": "d65f1f5ebf2a4cf68213ff32b8f9def8",
        "deepnote_cell_height": 140.328125,
        "deepnote_cell_type": "markdown",
        "tags": []
      },
      "source": "<div class=\"alert alert-block alert-info\">\n\n#### Key Question:\n\n**3.3** - Interpret the parameter estimates and add the model predictions to your visualization.\n\n</div>"
    },
    {
      "cell_type": "code",
      "execution_count": null,
      "metadata": {
        "allow_embed": false,
        "cell_id": "b432dca49f684fb3b67e474e4dcb34a2",
        "deepnote_cell_height": 183.953125,
        "deepnote_cell_type": "code",
        "deepnote_output_heights": [
          480.984375,
          481
        ],
        "deepnote_to_be_reexecuted": false,
        "execution_millis": 450,
        "execution_start": 1662164919803,
        "output_cleared": true,
        "source_hash": "11a574f9",
        "tags": [],
        "trusted": true
      },
      "outputs": [],
      "source": "# Sample Response\ngf_jitter(mobility_index ~ class_size, data = colleges) %>%\n    gf_lm(color = \"red\")\n\n# Sample Response\ngf_jitter(mobility_index ~ class_size, data = colleges, color = \"grey\") %>%\n    gf_model(class_size_model, color = \"red\")"
    },
    {
      "cell_type": "markdown",
      "metadata": {
        "cell_id": "78528d4be9074e48810069a123dba4a7",
        "deepnote_cell_height": 306.703125,
        "deepnote_cell_type": "markdown",
        "tags": []
      },
      "source": "<div class=\"alert alert-block alert-warning\">\n\n**Sample Response:**\n\n- $b_0$ = 1.89; this is the y-intercept; where the regression line crosses the y-intercept when class_size is zero.\n- $b_1$ = 0.00; this is the slope; for every 1 unit increase in class_size, we add on 0.00 to $b_0$ to get the predicted mobility_rate.\n\n**Instructor Note:**\n\nOnce they add the model to their visualization, you may also want to encourage students to connect the estimates to the visualization. For example, get them to verbalize and point to $b_0$ (the y-intercept), and $b_1$ (the slope as class_size goes increases). The handout linked at the top of the notebook can also be used here so students can manually draw on the visualizations and mark them up with other notes, etc.\n\n</div>"
    },
    {
      "cell_type": "markdown",
      "metadata": {
        "cell_id": "5ad7f9d9168943b0acc047d0be0a9fdc",
        "deepnote_cell_height": 110.75,
        "deepnote_cell_type": "markdown",
        "tags": []
      },
      "source": "#### Evaluate the Error off the Model\n\n**3.4** - In the visualization you made above, find the case in the visualization that represents \"California State University, Los Angeles\". Which model's prediction results in less residual error for that college: the empty model or your model? "
    },
    {
      "cell_type": "code",
      "execution_count": null,
      "metadata": {
        "allow_embed": false,
        "cell_id": "8536866fbb684c8b89a9f5e05b72fa62",
        "deepnote_cell_height": 75.953125,
        "deepnote_cell_type": "code",
        "deepnote_output_heights": [
          130.9375
        ],
        "deepnote_to_be_reexecuted": false,
        "execution_millis": 18,
        "execution_start": 1662164920254,
        "output_cleared": true,
        "source_hash": "1dcbc85e",
        "tags": [],
        "trusted": true
      },
      "outputs": [],
      "source": "colleges[colleges$name == \"California State University, Los Angeles\", ]"
    },
    {
      "cell_type": "markdown",
      "metadata": {
        "cell_id": "1d6b35e9a8b042a9a374bcceb319eba3",
        "deepnote_cell_height": 199.515625,
        "deepnote_cell_type": "markdown",
        "tags": []
      },
      "source": "<div class=\"alert alert-block alert-warning\">\n\n**Sample Response:**\n\nThe mobility index for Cal State LA is 9.92.\n\nThe class size model makes a slightly worse prediction (1.89) compared to the empty model's prediction (1.92), but the predictions are really not that different.\n\n</div>"
    },
    {
      "cell_type": "code",
      "execution_count": null,
      "metadata": {
        "cell_id": "4e1b4405d6f14497be1fc224039a6630",
        "deepnote_cell_height": 75.953125,
        "deepnote_cell_type": "code",
        "deepnote_output_heights": [
          135.421875
        ],
        "deepnote_to_be_reexecuted": false,
        "execution_millis": 55,
        "execution_start": 1662164920276,
        "output_cleared": true,
        "source_hash": "3b7471cd",
        "tags": [],
        "trusted": true
      },
      "outputs": [],
      "source": "lm(mobility_index~NULL, data = colleges)"
    },
    {
      "cell_type": "markdown",
      "metadata": {
        "cell_id": "cb0ad72361cf41f29bffe4b85b2568dd",
        "deepnote_cell_height": 74.75,
        "deepnote_cell_type": "markdown",
        "tags": []
      },
      "source": "**3.5** - Compare the Sum of Squares (SS) for each model (the empty model or your model). Which one has less SS error overall? Is there a very big difference between the two SS values? What does this mean?"
    },
    {
      "cell_type": "code",
      "execution_count": null,
      "metadata": {
        "allow_embed": false,
        "cell_id": "f0c2ecb822e14437b36e7989303e106b",
        "deepnote_cell_height": 93.953125,
        "deepnote_cell_type": "code",
        "deepnote_output_heights": [
          173.828125
        ],
        "deepnote_to_be_reexecuted": false,
        "execution_millis": 45,
        "execution_start": 1662164920330,
        "output_cleared": true,
        "source_hash": "8d124933",
        "tags": [],
        "trusted": true
      },
      "outputs": [],
      "source": "# sample response\nsupernova(class_size_model)"
    },
    {
      "cell_type": "markdown",
      "metadata": {
        "cell_id": "e07f6bcf41a7471ab0a82ed5aa754aa6",
        "deepnote_cell_height": 185.515625,
        "deepnote_cell_type": "markdown",
        "tags": []
      },
      "source": "<div class=\"alert alert-block alert-warning\">\n\n**Sample Response:**\n\nThe SS from the class size model is slightly smaller (2765.11) than the SS from the empty model (2769.23), but the numbers are quite close. This means the class size model reduces the sum of the squared error off the model, but only by a little bit (it does not explain much of the variation). \n\n</div>"
    },
    {
      "cell_type": "markdown",
      "metadata": {
        "cell_id": "2095c8a5ba1c49049ffba4ddabad9b84",
        "deepnote_cell_height": 52.359375,
        "deepnote_cell_type": "markdown",
        "tags": []
      },
      "source": "**3.6** - Why is the SS for the empty model the same for both the `type` model and your model?"
    },
    {
      "cell_type": "markdown",
      "metadata": {
        "cell_id": "0949ac3d210d4be58cb26d7eed1010bf",
        "deepnote_cell_height": 177.109375,
        "deepnote_cell_type": "markdown",
        "tags": []
      },
      "source": "<div class=\"alert alert-block alert-warning\">\n\n**Sample Response:**\n\nFor both complex models, the empty model is modeling the same thing: mobility_index.\n\nWe have the same outcome variable for each model.\n\n</div>"
    },
    {
      "cell_type": "markdown",
      "metadata": {
        "cell_id": "7eeada03a5eb4e67a0bcea791ab14793",
        "deepnote_cell_height": 155.515625,
        "deepnote_cell_type": "markdown",
        "tags": []
      },
      "source": "<div class=\"alert alert-block alert-info\">\n\n<b> <font size=\"+1\">Key Question</font></b>\n\n<br>\n\n**3.7** - Which model, the `type` model or your model appears to explain the most variation in college mobility?"
    },
    {
      "cell_type": "code",
      "execution_count": null,
      "metadata": {
        "cell_id": "26c692eb72234b58a1affc1723cdf18a",
        "deepnote_cell_height": 111.953125,
        "deepnote_cell_type": "code",
        "deepnote_output_heights": [
          173.828125,
          173.828125
        ],
        "deepnote_to_be_reexecuted": false,
        "execution_millis": 46,
        "execution_start": 1662164920374,
        "output_cleared": true,
        "source_hash": "e1a63cb7",
        "tags": [],
        "trusted": true
      },
      "outputs": [],
      "source": "# sample answer\nsupernova(type_model)\nsupernova(class_size_model)"
    },
    {
      "cell_type": "markdown",
      "metadata": {
        "cell_id": "7ae98df74f144df5b0fb4c5162e919fd",
        "deepnote_cell_height": 227.890625,
        "deepnote_cell_type": "markdown",
        "tags": []
      },
      "source": "<div class=\"alert alert-block alert-warning\">\n\n**Sample Response:**\n\n- SS Total (from empty model) = 2769\n- SS Error (from type model) = 2675\n- SS Error (from e.g., class_size model) = 2765\n\nIn this example (class size versus type model), the type model has the smaller SS Error (and larger PRE).\n\n</div>"
    },
    {
      "cell_type": "markdown",
      "metadata": {
        "cell_id": "0e75b430b3b9460b87042e4aeae816d7",
        "deepnote_cell_height": 115.9375,
        "deepnote_cell_type": "markdown",
        "tags": []
      },
      "source": "<div class=\"alert alert-block alert-success\">\n\n### 4.0 - Approximate Time:  10-15 mins\n\n</div>"
    },
    {
      "cell_type": "markdown",
      "metadata": {
        "cell_id": "822b63e8fe094a06844f20893a8954c2",
        "deepnote_cell_height": 61.953125,
        "deepnote_cell_type": "markdown",
        "tags": []
      },
      "source": "### 4.0 - Is there a general economic benefit from college?"
    },
    {
      "cell_type": "markdown",
      "metadata": {
        "cell_id": "dfe4e3a336cb4ef3969e5e4b84bb5193",
        "deepnote_cell_height": 541.484375,
        "deepnote_cell_type": "markdown",
        "tags": []
      },
      "source": "What is the overall picture we are seeing with regard to college and economic mobility (considering our findings from the past college notebook as well)?\n\nBefore we draw any final conclusions, let's consider our measure of social mobility.\n\nThe `mobility_index` represents the percent of all students at the school who came from the bottom 20% income households and who reached the top 20% of incomes as adults. For [reference](https://engaging-data.com/household-spending-income/), the bottom 20\\% by income earns about \\$25,500 annually while the top 20\\% earns about \\$188,000 annually. But, what if they reach the top 50% of incomes instead; should that count as social mobility?\n\nThat is one measure of the economic impact of going to college. Another way to measure the economic value of a college degree is to simply look at the mean earnings of people with different levels of education."
    },
    {
      "cell_type": "markdown",
      "metadata": {
        "cell_id": "613017e7dafd41daaac1dedbdf40f5ff",
        "deepnote_cell_height": 88.75,
        "deepnote_cell_type": "markdown",
        "tags": []
      },
      "source": "**4.1** - Take a look at the graph below (generated from a different data frame called `earnings`; [data source](https://www.statista.com/statistics/184242/mean-earnings-by-educational-attainment/)).\n\nWhat do you think these lines represent?"
    },
    {
      "cell_type": "code",
      "execution_count": null,
      "metadata": {
        "cell_id": "cb900d897d074d6485a7addddff27a1c",
        "deepnote_cell_height": 134.953125,
        "deepnote_cell_type": "code",
        "deepnote_to_be_reexecuted": false,
        "execution_millis": 2027,
        "execution_start": 1662164920456,
        "output_cleared": true,
        "source_hash": "9eee1bd6",
        "tags": [],
        "trusted": true
      },
      "outputs": [],
      "source": "earnings <- read.csv(\"https://docs.google.com/spreadsheets/d/e/2PACX-1vT8f6Hnonep3D7SBL73foZxYNkqCzssVaLeMvy7y0un3gIdmEDn2f2vp7WbFRrHyW63wYqydWY0AuxH/pub?gid=1804563070&single=true&output=csv\")\nearnings$edu_level_ordered <- factor(earnings$edu_level, levels = c(\"less_than_9th_grade\", \"HS_9th_12th_nongrad\", \"HS_grad_GED\", \"some_college_no_degree\", \"assoc_degree\", \"bach_degree\", \"masters_degree\", \"prof_degree\", \"doctorate_degree\"))\n\ngf_line(mean_earnings ~ year, color = ~edu_level_ordered, data = earnings)"
    },
    {
      "cell_type": "markdown",
      "metadata": {
        "cell_id": "03697292b7164809bfa2d153bb5860cb",
        "deepnote_cell_height": 140.71875,
        "deepnote_cell_type": "markdown",
        "tags": []
      },
      "source": "<div class=\"alert alert-block alert-warning\">\n\n**Sample Response:**\n\nThe lines represent the average annual earnings of people with various levels of education for the years 2005-2020.\n\n</div>"
    },
    {
      "cell_type": "markdown",
      "metadata": {
        "cell_id": "cb5bdc85591d46e5a67e53da599a4843",
        "deepnote_cell_height": 74.75,
        "deepnote_cell_type": "markdown",
        "tags": []
      },
      "source": "**4.2** - According to the data, which level of education gets closest to the top 20% of income earnings (which would be over $180,000 per year)?"
    },
    {
      "cell_type": "markdown",
      "metadata": {
        "cell_id": "d8460a9d761746b9ac63575851d74586",
        "deepnote_cell_height": 163.125,
        "deepnote_cell_type": "markdown",
        "tags": []
      },
      "source": "<div class=\"alert alert-block alert-warning\">\n\n**Sample Response:**\n\nProfessional degrees have the highest incomes, but even those groups don't earn as much as the top 20\\% (\\$188,000) on average. They are closer to about \\$140,000 annually.\n\n</div>"
    },
    {
      "cell_type": "markdown",
      "metadata": {
        "cell_id": "05aff584f6a541c994329548195ed016",
        "deepnote_cell_height": 74.75,
        "deepnote_cell_type": "markdown",
        "tags": []
      },
      "source": "**4.3** - According to the data, which levels of education have seen the steepest rise in their earnings over the years? Which levels of education appear to have experienced the smallest rise in their earnings over the years?"
    },
    {
      "cell_type": "markdown",
      "metadata": {
        "cell_id": "7196155774164a9f9c711e9883f9b6a7",
        "deepnote_cell_height": 177.109375,
        "deepnote_cell_type": "markdown",
        "tags": []
      },
      "source": "<div class=\"alert alert-block alert-warning\">\n\n**Sample Response:**\n\nThose with BAs and above tend to show the biggest increases in earnings from 2005-2020.\n\nThose with AAs and below have shown the least growth in earnings over the years.\n\n\n</div>"
    },
    {
      "cell_type": "markdown",
      "metadata": {
        "cell_id": "95c1a65d27114125aa51eb04b6d8d17a",
        "deepnote_cell_height": 74.75,
        "deepnote_cell_type": "markdown",
        "tags": []
      },
      "source": "**4.4** - From any of the analyses in this Jupyter notebook, can we conclude that going to college helps people make more money? If you were advising someone about their future, would you encourage them to go to college?"
    },
    {
      "cell_type": "markdown",
      "metadata": {
        "cell_id": "0f1d66f25081410aa1e2b0de5ba55220",
        "deepnote_cell_height": 140.71875,
        "deepnote_cell_type": "markdown",
        "tags": []
      },
      "source": "<div class=\"alert alert-block alert-warning\">\n\n**Sample Response:**\n\n*Student responses will vary.*\n\n\n</div>"
    }
  ],
  "metadata": {
    "deepnote": {},
    "deepnote_execution_queue": [],
    "deepnote_notebook_id": "23915bc64f5e479ebcddd8078d958377",
    "kernelspec": {
      "display_name": "R",
      "language": "R",
      "name": "ir"
    },
    "language_info": {
      "codemirror_mode": "r",
      "file_extension": ".r",
      "mimetype": "text/x-r-source",
      "name": "R",
      "pygments_lexer": "r",
      "version": "4.2.2"
    },
    "nbsimplegrader": {
      "publish_config": {
        "classes": [],
        "options": {},
        "tools": []
      }
    }
  },
  "nbformat": 4,
  "nbformat_minor": 1
}