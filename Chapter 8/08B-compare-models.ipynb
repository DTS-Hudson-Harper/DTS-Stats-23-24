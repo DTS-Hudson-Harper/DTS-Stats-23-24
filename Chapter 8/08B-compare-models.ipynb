{
  "cells": [
    {
      "cell_type": "markdown",
      "metadata": {
        "cell_id": "ea47e3fa7acf46d6adcfbf5d961fdac3",
        "deepnote_cell_type": "markdown",
        "tags": []
      },
      "source": "# 8B: The Pocket Gap"
    },
    {
      "cell_type": "code",
      "execution_count": null,
      "metadata": {
        "cell_id": "00e35ba7497241d9a260ffc2da18249c",
        "deepnote_cell_type": "code",
        "deepnote_to_be_reexecuted": false,
        "execution_millis": 4831,
        "execution_start": 1685646093988,
        "source_hash": "fbc38b90",
        "tags": [],
        "trusted": true
      },
      "outputs": [],
      "source": "# This code will load the R packages we will use\nlibrary(coursekata)\n\n# read data\npockets <- read.csv(\"https://raw.githubusercontent.com/the-pudding/data/master/pockets/measurements.csv\")[,-9]\n"
    },
    {
      "cell_type": "markdown",
      "metadata": {
        "cell_id": "145464f4c11b4ab9b5ea30689bde72ca",
        "deepnote_cell_type": "markdown"
      },
      "source": "Today we are going to explore a functional need in our lives: the ability to keep our phones in our jeans.\n\n<img src=\"https://i.postimg.cc/ChwwmXW1/image.png\">\n\nData Source: [Pudding article](https://pudding.cool/2018/08/pockets/)"
    },
    {
      "cell_type": "markdown",
      "metadata": {
        "cell_id": "fbe7d9e0499a4b0691f556e7be828525",
        "deepnote_cell_type": "markdown"
      },
      "source": "## 1.0: Does Your Phone Fit in Your Pocket?"
    },
    {
      "cell_type": "markdown",
      "metadata": {
        "cell_id": "4c2957a1e9474e7f8430802e5853dbec",
        "deepnote_cell_type": "markdown"
      },
      "source": "**1.1:** If you were wearing jeans, which pocket would you put your phone in? Would you pay more for a pair of jeans that allowed you more space for your phone? How much more? "
    },
    {
      "cell_type": "markdown",
      "metadata": {
        "cell_id": "dff4584b64ce459e8c6e84e503ff948c",
        "deepnote_cell_type": "markdown"
      },
      "source": "**1.2:** Take a look some of the variables in the data frame `pockets`. Because pockets are weird shapes, there are a few different ways we can measure them. \n\n<img src=\"https://i.postimg.cc/V1BhJmkc/image.png\" width = 600>\n\nWhich of these variables would be a good outcome variable to maximize if we wanted to comfortably carry phones in jeans?"
    },
    {
      "cell_type": "markdown",
      "metadata": {
        "cell_id": "57c14cdd7fe54084aeb218e5e6d392dd",
        "deepnote_cell_type": "markdown"
      },
      "source": "**1.3:** Fashion designer Christian Dior allegedly said in 1954, “Men have pockets to keep things in, women for decoration.” Do you think there is a male bias for pocket size?\n"
    },
    {
      "cell_type": "markdown",
      "metadata": {
        "cell_id": "c2a8f4716f61474cb08ee05ffc267917",
        "deepnote_cell_type": "markdown"
      },
      "source": "**1.4:** Might there be better or worse pockets for people who can afford them? Do you think pocket length might be related to the prices of the jeans?"
    },
    {
      "cell_type": "markdown",
      "metadata": {
        "cell_id": "5d0bcdec02a84bc5aa08f768a9319a88",
        "deepnote_cell_type": "markdown"
      },
      "source": "## 2.0: Explore the Inequality/Variation of Pockets"
    },
    {
      "cell_type": "markdown",
      "metadata": {
        "cell_id": "0b4fbf93df2d4fddb3256c717a417caf",
        "deepnote_cell_type": "markdown"
      },
      "source": "**2.1:** Perhaps pocket length is related to whether the jeans are intended for men or women as well as the price of the jeans. Write this multivariate hypothesis as a word equation. (Use the names of the variables from the `pockets` data frame.)"
    },
    {
      "cell_type": "markdown",
      "metadata": {
        "cell_id": "6ff9f53a2ad9434fb0cad31179e69bac",
        "deepnote_cell_type": "markdown"
      },
      "source": "**2.1:** Explore this hypothesis with a data visualization and describe any patterns you see."
    },
    {
      "cell_type": "markdown",
      "metadata": {
        "cell_id": "ced53e2479ce4b748fcd85a02962e8b3",
        "deepnote_cell_type": "markdown"
      },
      "source": "## 3.0: Model Variation in Pockets"
    },
    {
      "cell_type": "markdown",
      "metadata": {
        "cell_id": "a602e02d584443718fd2c47a94d6c496",
        "deepnote_cell_type": "markdown"
      },
      "source": "**3.1:** Find the best fitting model for our hypothesis and interpret the parameter estimates."
    },
    {
      "cell_type": "markdown",
      "metadata": {
        "cell_id": "2c6b1c3a783f42839ca3f34553adc7d4",
        "deepnote_cell_type": "markdown"
      },
      "source": "**3.2:** Add the model to the visualization you made."
    },
    {
      "cell_type": "markdown",
      "metadata": {
        "cell_id": "9e6fc25398cd4a1f8becdfaebd76065c",
        "deepnote_cell_type": "markdown"
      },
      "source": "## 4.0: Evaluate Models"
    },
    {
      "cell_type": "markdown",
      "metadata": {
        "cell_id": "7837f27b655a4f528cba7c2283958163",
        "deepnote_cell_type": "markdown"
      },
      "source": "**4.1:** Using the ANOVA table, which explanatory variable seems more important in explaining the variation in pocket size? "
    },
    {
      "cell_type": "markdown",
      "metadata": {
        "cell_id": "8b02ad77bb204ea8aa3a9a537a7cfd69",
        "deepnote_cell_type": "markdown"
      },
      "source": "**4.2, Select:** One thing to note is that although PRE always stands for the *proportion reduction in error*, the three PREs in the ANOVA table indicate slightly different things in a multivariate model. Let's take some time to draw out what these PREs (and SSes) mean.\n\nWhich of these Venn diagrams depict the relationship seen in this data analysis?\n<img src=\"https://i.postimg.cc/w9t7Hkkz/image.png\">"
    },
    {
      "cell_type": "markdown",
      "metadata": {
        "cell_id": "e2f728c1bdfc467784fb389d5507fc26",
        "deepnote_cell_type": "markdown"
      },
      "source": "**4.3:** Try calculating the PREs from the SS we see in the ANOVA table, and on the worksheet provided by your instructor, draw out each of the PREs on the three rows and label them."
    },
    {
      "cell_type": "markdown",
      "metadata": {
        "cell_id": "b8790f340e4c4c6d879c3ce746841e00",
        "deepnote_cell_type": "markdown"
      },
      "source": "**4.2:** From these four possible models, which would you reject? Which should be explored further?\n\n- the empty model of the DGP\n- the `menWomen` only model of the DGP\n- the `price` only model of the DGP\n- the full model of the DGP\n"
    }
  ],
  "metadata": {
    "deepnote": {},
    "deepnote_execution_queue": [],
    "deepnote_notebook_id": "bce5f5fd1a774562bbda3118e3245c9e",
    "kernelspec": {
      "display_name": "R",
      "language": "R",
      "name": "ir"
    },
    "language_info": {
      "codemirror_mode": "r",
      "file_extension": ".r",
      "mimetype": "text/x-r-source",
      "name": "R",
      "pygments_lexer": "r",
      "version": "4.2.3"
    },
    "nbsimplegrader": {
      "publish_config": {
        "classes": [],
        "options": [],
        "tools": []
      }
    }
  },
  "nbformat": 4,
  "nbformat_minor": 1
}