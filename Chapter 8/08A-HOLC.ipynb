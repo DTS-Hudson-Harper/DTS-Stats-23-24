{
  "cells": [
    {
      "cell_type": "markdown",
      "metadata": {
        "cell_id": "cb3148a823144d5ca3e4cd3557416e79",
        "deepnote_cell_type": "markdown"
      },
      "source": "# 08A: Redlining: Historic Effects of Racism"
    },
    {
      "cell_type": "code",
      "execution_count": null,
      "metadata": {
        "cell_id": "9e3bedef79774c7c9dbf7397b2c545be",
        "deepnote_cell_type": "code",
        "deepnote_to_be_reexecuted": false,
        "execution_millis": 2726,
        "execution_start": 1675562477178,
        "output_cleared": true,
        "source_hash": "8c8a72cf",
        "trusted": true
      },
      "outputs": [],
      "source": "# This code will load the R packages we will use\nsuppressPackageStartupMessages({\n    library(coursekata)\n})\n\n# Pull in data\nholc <- read.csv(\"https://docs.google.com/spreadsheets/d/e/2PACX-1vTxPfb9hD9EKXtnNuJp9k6SIn5KIbX1J3lGeoys49gS23M_hg79QDSRMHHQywirGHBO_MRAy1dUNLJ5/pub?gid=440145799&single=true&output=csv\", header = TRUE)\nholc$red_lined <- factor(holc$red_lined, levels = c(0,1), labels = c(\"not red-lined\", \"red-lined\"))"
    },
    {
      "cell_type": "markdown",
      "metadata": {
        "cell_id": "67e909a834644d95814a5efc1732b9bd",
        "deepnote_cell_type": "markdown",
        "tags": []
      },
      "source": "### History of Redlining\n\nRedlining was a process started in the 1930s in which the Home Owners' Loan Corporation (HOLC), a US federal agency, gave neighborhoods ratings to guide investment. Certain neighborhoods were colored red on HOLC maps and labeled as \"hazardous\" (see below). These \"red-lined\" neighborhoods were deemed risky investments (that is, banks and other institutions should not give loans to people trying to buy property in these areas).\n\n<img src=\"https://i.postimg.cc/p2TH8brH/image.png\" alt=\"map of San Francisco area showing redlined areas\" width = 80%>\n\nThese red-lined neighborhoods were predominantly home to communities of color, and this is no accident; the “hazardous” rating was in large part based on racial demographics (shown in historic documents below). In other words, redlining was an explicitly discriminatory policy. \n\n<img src=\"https://i.postimg.cc/SyBmp1Qb/image.png\" alt=\"paperwork from HOLC showing percentages of foreign-born families or Negro families\" width=80%>\n\nThis history is not behind us in many ways. Today we will explore how the historic practice of redlining (legally halted with the Fair Housing Act of 1968) is running up against modern issues like global temperature rise.\n\nMany of these historically “hazardous” neighborhoods are currently more impoverished *and* experience more extreme temperatures. Neighborhoods that are poorer and have more residents of color can be 5 to 20 degrees Fahrenheit hotter in summer than wealthier, whiter parts of the same city.\n"
    },
    {
      "cell_type": "markdown",
      "metadata": {
        "cell_id": "2b0c205ddf554aa699db7e7d871d6c02",
        "deepnote_cell_type": "markdown",
        "tags": []
      },
      "source": "## The Data"
    },
    {
      "cell_type": "markdown",
      "metadata": {
        "cell_id": "3c24932594ed42b696f0a59948333b3b",
        "deepnote_cell_type": "markdown",
        "tags": []
      },
      "source": "The dataframe `holc` allows us to take a peek into the continued impact of redlining in several regions of California. There are 812 neighborhoods and 5 variables:\n\n- `neighborhood_id` a code for each neighborhood\n- `red_lined` 1 if the neighborhood was red-lined and 0 if not\n- `holc_grade` A stands for \"1st grade/best\", B stands for \"2nd grade/still desirable\", C stands for \"3rd grade/definitely declining\", and D stands for \"4th grade/hazardous\".\n- `area` Name of the modern neighborhood\n- `cal_region` whether the neighborhood is in Northern, Central, or Southern California\n- `count_squares` How big the neighborhood is in square units (a standard unit that can be used to measure neighborhoods across both historic redlining maps and modern google maps)\n- `tree_cov` How much tree coverage in that neighborhood based on how many pixels on a google maps satellite image is \"green\" (assumed to indicate tree/plant areas); note that these pixels are not the same size as square units used in `count_squares`\n\n<img src=\"https://i.postimg.cc/921jbfZj/image.png\" width=500 alt=\"legend from HOLC map\">\n\n**Acknowledgements:** HOLC data are from a lesson developed as part of UC Berkeley’s python-based http://data8.org/ curriculum. Information about redlining come from Chapple and Thomas’ (2020) Urban Displacement Project (https://www.urbandisplacement.org/). Information about the link between redlining and tree cover/climate change are from the New York Times (https://www.nytimes.com/interactive/2020/08/24/climate/racism-redlining-cities-global-warming.html)."
    },
    {
      "cell_type": "code",
      "execution_count": null,
      "metadata": {
        "cell_id": "4f4a8581d0bc47a69bb3d29a40978716",
        "deepnote_cell_type": "code",
        "deepnote_to_be_reexecuted": false,
        "execution_millis": 18,
        "execution_start": 1675562479923,
        "output_cleared": false,
        "source_hash": "63c1586a",
        "tags": [],
        "trusted": true
      },
      "outputs": [],
      "source": "# Take a look at the data\nstr(holc)\n\n# What are the cases in this data frame?\n"
    },
    {
      "cell_type": "markdown",
      "metadata": {
        "cell_id": "9050336fea8148b7b2e53dea80fd395d",
        "deepnote_cell_type": "markdown",
        "deepnote_to_be_reexecuted": false,
        "execution_millis": 1,
        "execution_start": 1658792099721,
        "source_hash": "b623e53d",
        "tags": []
      },
      "source": "## 1.0: Do red-lined neighborhoods have more/less tree coverage?"
    },
    {
      "cell_type": "markdown",
      "metadata": {
        "cell_id": "6fa5b1b5f1d24d358840e0b1bc9f784c",
        "deepnote_cell_type": "markdown",
        "tags": []
      },
      "source": "**1.1 - Explore variation:** Create a word equation and make a visualization to help you explore this question."
    },
    {
      "cell_type": "markdown",
      "metadata": {
        "cell_id": "d16e20cb52a14fb8b6891ee239f2b61b",
        "deepnote_cell_type": "markdown",
        "tags": []
      },
      "source": "**1.2 - Model variation:** Find the best fitting one-predictor model, express it in GLM notation, and interpret the parameter estimates. Add the predictions of the model to the visualization."
    },
    {
      "cell_type": "markdown",
      "metadata": {
        "cell_id": "b9f8aa3dd19b45c4b9e203d31e1be22a",
        "deepnote_cell_type": "markdown",
        "tags": []
      },
      "source": "***GLM Notation:***\n\n$Y_i = b_0 + b_1X_i + e_i$"
    },
    {
      "cell_type": "markdown",
      "metadata": {
        "cell_id": "b67216622ce44b2997358b40e5bcffd2",
        "deepnote_cell_type": "markdown",
        "tags": []
      },
      "source": "**1.3 - Evaluate models:** Is the model of the DGP that includes red-lining better than the empty model of the DGP? Explain with statistics."
    },
    {
      "cell_type": "markdown",
      "metadata": {
        "cell_id": "d2ed8850fe684d3ebf05565454cfb2fa",
        "deepnote_cell_type": "markdown",
        "tags": []
      },
      "source": "## 2.0: The size of the neighborhood"
    },
    {
      "cell_type": "markdown",
      "metadata": {
        "cell_id": "9ed8495bce924cd4a3fca88f923e5999",
        "deepnote_cell_type": "markdown",
        "tags": []
      },
      "source": "Notice that only 1% of the variation in tree coverage is explained by red-lining. The variation in tree coverage seems to have a lot of \"other stuff\" going on. Perhaps some of this variation comes from the fact that these neighborhoods are different sizes. Does neighborhood size predict tree coverage on Google maps?\n\n**2.1 - Explore variation:** Create a word equation and make a visualization to help you explore this question."
    },
    {
      "cell_type": "markdown",
      "metadata": {
        "cell_id": "e916e169194b4f92b6030ac0a921ea88",
        "deepnote_cell_type": "markdown",
        "tags": []
      },
      "source": "**2.2 - Model variation:** Find the best fitting one-predictor model, express it in GLM notation, and interpret the parameter estimates. Add the predictions of the model to the visualization."
    },
    {
      "cell_type": "markdown",
      "metadata": {
        "cell_id": "f179543781bd4475912b2273f7051dbd",
        "deepnote_cell_type": "markdown",
        "tags": []
      },
      "source": "***GLM Notation:***\n\n$Y_i = b_0 + b_1X_i + e_i$"
    },
    {
      "cell_type": "markdown",
      "metadata": {
        "cell_id": "ffba0f44789e4fb1b84f340ec7d1d417",
        "deepnote_cell_type": "markdown",
        "tags": []
      },
      "source": "**2.3 - Evaluate models:** Is the model of the DGP that includes size of the neighborhood better than the empty model of the DGP? Explain with statistics."
    },
    {
      "cell_type": "markdown",
      "metadata": {
        "cell_id": "0374c7ede95d4c4083dbcb8c7718b978",
        "deepnote_cell_type": "markdown",
        "tags": []
      },
      "source": "## 3.0: Residuals after controlling for size of the neighborhood\n\nHere we have saved the residuals from the `size_model` as `size_resid`."
    },
    {
      "cell_type": "code",
      "execution_count": null,
      "metadata": {
        "cell_id": "164044cbc622410986246660c099cf8c",
        "deepnote_cell_type": "code",
        "deepnote_to_be_reexecuted": false,
        "execution_millis": 8,
        "execution_start": 1675562479939,
        "output_cleared": true,
        "source_hash": "e698a252",
        "tags": [],
        "trusted": true
      },
      "outputs": [],
      "source": "size_model <- lm(tree_cov ~ count_squares, data = holc)\nholc$size_resid <- resid(size_model)"
    },
    {
      "cell_type": "markdown",
      "metadata": {
        "cell_id": "79e8344a586a49b3917b95e87fed9410",
        "deepnote_cell_type": "markdown",
        "tags": []
      },
      "source": "You can think of these residuals as the **other stuff** from this word equation:\n\n**tree coverage = count squares + other stuff**\n\n**3.1:** Can some of that **other stuff** be related to red-lining? Here we have ordered the neighborhoods in `holc` according to the size of the residuals. Use `head()` and `tail()` to examine the neighborhoods that have the largest and smallest residuals. Do you notice any patterns?"
    },
    {
      "cell_type": "code",
      "execution_count": null,
      "metadata": {
        "cell_id": "052c20b5e9644303a6afc3141fc75be2",
        "deepnote_cell_type": "code",
        "deepnote_to_be_reexecuted": false,
        "execution_millis": 40,
        "execution_start": 1675562479955,
        "output_cleared": false,
        "source_hash": "ef7947a7",
        "tags": [],
        "trusted": true
      },
      "outputs": [],
      "source": "holc_ordered <- arrange(holc, size_resid)\nhead(holc_ordered)\ntail(holc_ordered)"
    },
    {
      "cell_type": "markdown",
      "metadata": {
        "cell_id": "0bdd5174a70e495299112f9e7255fc84",
        "deepnote_cell_type": "markdown",
        "tags": []
      },
      "source": "## 4.0: Multivariate model"
    },
    {
      "cell_type": "markdown",
      "metadata": {
        "cell_id": "d0eb7d0720ab41e7a40261dbb234c988",
        "deepnote_cell_type": "markdown",
        "tags": []
      },
      "source": "Perhaps once we control for the size of the neighborhood, we can more clearly see the effect of red-lining on tree coverage.\n\n**4.1 - Explore variation:** Create a word equation and make a visualization to help you explore this question."
    },
    {
      "cell_type": "markdown",
      "metadata": {
        "cell_id": "c2e45b4c3d6a4e58a3496b55b9914a24",
        "deepnote_cell_type": "markdown",
        "tags": []
      },
      "source": "**4.2 - Model variation:** Find the best fitting multivariate model, express it in GLM notation, and interpret the parameter estimates. Add the predictions of the model to the visualization."
    },
    {
      "cell_type": "markdown",
      "metadata": {
        "cell_id": "674fbc76e3464450883fb57c4cf2cd10",
        "deepnote_cell_type": "markdown",
        "tags": []
      },
      "source": "***GLM Notation:***\n\n$Y_i = b_0 + b_1X_{1i} + b_2X_{2i} + e_i$"
    },
    {
      "cell_type": "markdown",
      "metadata": {
        "cell_id": "ddd4213fc41f4b5b9d2fc1358bb757e7",
        "deepnote_cell_type": "markdown",
        "tags": []
      },
      "source": "**4.3 - Evaluate models:** Is the multivariate model of the DGP that includes size and redlining better than the empty model of the DGP? Explain with statistics."
    },
    {
      "cell_type": "markdown",
      "metadata": {
        "cell_id": "e75763661ed5480ca4f6a12758452c3c",
        "deepnote_cell_type": "markdown",
        "tags": []
      },
      "source": "**4.4:** Take a good look at your visualization and your multivariate model. If you had to guess, which neighborhoods are generally larger: not red-lined or red-lined? Why do you think that matters?"
    },
    {
      "cell_type": "markdown",
      "metadata": {
        "cell_id": "f455e747c43640bdb027949d0343ae12",
        "deepnote_cell_type": "markdown",
        "tags": []
      },
      "source": "**4.5:** Why is the PRE for red lining now 4% (compared to 1% in the one-predictor model)?"
    },
    {
      "cell_type": "markdown",
      "metadata": {
        "cell_id": "b2d44d4644e64da4857a66273dbdce5a",
        "deepnote_cell_type": "markdown",
        "tags": []
      },
      "source": "**4.6:** What does the p-value in the `red_lined` row of the ANOVA table tell us? What model can we reject?"
    },
    {
      "cell_type": "markdown",
      "metadata": {
        "cell_id": "f1f013e75f4244759c4804d312203100",
        "deepnote_cell_type": "markdown",
        "tags": []
      },
      "source": "## 5.0 - Advanced: All four grades for neighborhoods"
    },
    {
      "cell_type": "markdown",
      "metadata": {
        "cell_id": "ac6df6073e1644978302698964bd2486",
        "deepnote_cell_type": "markdown",
        "tags": []
      },
      "source": "Although we have been just looking at red-lined neighborhoods versus all other neighborhoods, would including all four grades (A,B,C,D) show us different patterns than just including `red_lined` in our multivariate model?\n\n**5.1 - Explore variation:** Create a word equation and make a visualization to help you explore this question."
    },
    {
      "cell_type": "markdown",
      "metadata": {
        "cell_id": "5517fedbc3484c0b885596cfeb247783",
        "deepnote_cell_type": "markdown",
        "tags": []
      },
      "source": "**5.2 - Model variation:** Find the best fitting multivariate model, express it in GLM notation, and interpret the parameter estimates. Add the predictions of the model to the visualization."
    },
    {
      "cell_type": "markdown",
      "metadata": {
        "cell_id": "f2285b48963d4ac6b763c8be30fc47b8",
        "deepnote_cell_type": "markdown",
        "tags": []
      },
      "source": "***GLM Notation:***\n\n$Y_i = b_0 + b_1X_{1i} + b_2X_{2i} + e_i$\n\n*Note: You may need to add additional $b$ estimates.*"
    },
    {
      "cell_type": "markdown",
      "metadata": {
        "cell_id": "8a58c0eaa24440acb84950159ff7c397",
        "deepnote_cell_type": "markdown",
        "tags": []
      },
      "source": "**5.3 - Evaluate models:** Is the model of the DGP that includes size of the multivariate better than the empty model of the DGP?"
    },
    {
      "cell_type": "markdown",
      "metadata": {
        "cell_id": "fc256e8d3937475099b19ba136e7721a",
        "deepnote_cell_type": "markdown",
        "owner_user_id": "a530bee3-0745-4044-9a82-f3cb68c8fb6e",
        "tags": []
      },
      "source": "## 6.0 - Alternate Advanced: How about a ratio?"
    },
    {
      "cell_type": "markdown",
      "metadata": {
        "cell_id": "94130d55009d46ae94b5f75920a8835c",
        "deepnote_cell_type": "markdown",
        "tags": []
      },
      "source": "**6.1:** Of course the size of the neighborhood probably has a lot to do with the tree coverage. Is there a way to create an outcome variable that already incorporates this information? "
    },
    {
      "cell_type": "markdown",
      "metadata": {
        "cell_id": "e57a0a158342404f8ae7fb4d2669249f",
        "deepnote_cell_type": "markdown",
        "tags": []
      },
      "source": "**6.2:** Would a model like that result in a PRE for red-lining that is more like the multivariate model (around 4%) or more like the single-predictor model (around 1%)? Make a prediction -- then find out!"
    },
    {
      "cell_type": "markdown",
      "metadata": {
        "cell_id": "44d7c78266aa43e2b5d4bb010533f46f",
        "deepnote_cell_type": "markdown",
        "tags": []
      },
      "source": "**6.3:** Why don't we get exactly the same PRE as prior models?"
    }
  ],
  "metadata": {
    "celltoolbar": "nbsimplegrader",
    "deepnote": {},
    "deepnote_execution_queue": [],
    "deepnote_notebook_id": "2c1800d6e2da4d0c8fffd7eae32b910c",
    "kernelspec": {
      "display_name": "R",
      "language": "R",
      "name": "ir"
    },
    "language_info": {
      "codemirror_mode": "r",
      "file_extension": ".r",
      "mimetype": "text/x-r-source",
      "name": "R",
      "pygments_lexer": "r",
      "version": "4.2.2"
    },
    "nbsimplegrader": {
      "publish_config": {
        "classes": [],
        "options": {},
        "tools": []
      }
    }
  },
  "nbformat": 4,
  "nbformat_minor": 1
}