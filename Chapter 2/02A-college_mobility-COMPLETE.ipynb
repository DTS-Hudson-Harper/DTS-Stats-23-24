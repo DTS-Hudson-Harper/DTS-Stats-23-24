{
  "cells": [
    {
      "cell_type": "markdown",
      "metadata": {
        "cell_id": "c87ab10fd1bd42c289e20c1a4fc4348e",
        "deepnote_cell_height": 260.703125,
        "deepnote_cell_type": "markdown",
        "tags": []
      },
      "source": "<div class=\"alert alert-block alert-danger\">\n\n# 2A: College and Social Mobility (COMPLETE)\n\n*This notebook is intended for students who have completed up to:*\n \n**Page 2.5**\n\n</div>"
    },
    {
      "cell_type": "markdown",
      "metadata": {
        "cell_id": "e8c407b9f5e74e5599d50795c0e89326",
        "deepnote_cell_height": 336.671875,
        "deepnote_cell_type": "markdown",
        "tags": []
      },
      "source": "<div class=\"alert alert-block alert-warning\">\n\n#### Summary of Notebook:\n\nIn this lesson, students will explore a data frame of over 2,000 colleges and universities. It contains information about income before and after college and students will examine whether parental income or type of college have any impact one's social mobility. \n\n#### Includes:\n\n- Practice effectively visualizing both quantitative and categorical variables\n- Using two-variable visualizations to gauge how much variation in the response is explained by a predictor\n- Exploring the relationships between visualizations and summary statistics\n\n</div>"
    },
    {
      "cell_type": "markdown",
      "metadata": {
        "cell_id": "f562f8ce60984ff49a20b4ec24ac6065",
        "deepnote_cell_height": 163.9375,
        "deepnote_cell_type": "markdown",
        "tags": []
      },
      "source": "<div class=\"alert alert-block alert-success\">\n\n## Approximate time to complete Notebook: 40-55 Mins\n\n</div>"
    },
    {
      "cell_type": "code",
      "execution_count": null,
      "metadata": {
        "cell_id": "395cc126-4572-47f0-bd63-3cf5f9ccd39f",
        "deepnote_cell_height": 129.953125,
        "deepnote_cell_type": "code",
        "deepnote_to_be_reexecuted": false,
        "execution_millis": 1741,
        "execution_start": 1660011219245,
        "output_cleared": true,
        "source_hash": "116f7300",
        "tags": [],
        "trusted": true
      },
      "outputs": [],
      "source": "# This code will load the R packages we will use\nsuppressPackageStartupMessages({\n    library(coursekata)\n})"
    },
    {
      "cell_type": "markdown",
      "metadata": {
        "cell_id": "00001-f3fa640b-9b4c-481e-b7cb-5472d7192365",
        "deepnote_cell_height": 425.96875,
        "deepnote_cell_type": "markdown",
        "owner_user_id": "23d85493-7ed1-49a4-baa7-630eaab08193",
        "tags": []
      },
      "source": "<img src=\"https://i.postimg.cc/hgQxmL5Q/johnston-gate-harvard.jpg\" alt=\"Johnston Gates at Harvard University\" width = 50%>"
    },
    {
      "cell_type": "markdown",
      "metadata": {
        "cell_id": "00002-083881c1-f39d-4272-a9f7-8fbd09d8fb7a",
        "deepnote_cell_height": 256.71875,
        "deepnote_cell_type": "markdown",
        "tags": []
      },
      "source": "## College and the American Dream\n\nWe tend to think of colleges as places of opportunity. In particular, for low-income students, colleges present themselves as places of social mobility. If you can score a letter of admission, obtain financing, and work hard for four years, you'll get a degree that will open personal and financial doors for the rest of your life.\n\nHowever, critics have challenged the above narrative. They say that colleges simply reproduce current social hiearchies. They claim that, for the most part, colleges serve and/or graduate students from already high-income families. In doing so, they cement inequities in opportunity."
    },
    {
      "cell_type": "markdown",
      "metadata": {
        "cell_id": "89b53bc8b7b84c459536cdabef714f89",
        "deepnote_cell_height": 125.953125,
        "deepnote_cell_type": "markdown",
        "tags": []
      },
      "source": "### Motivating Question: Are colleges *actually* engines for social mobility? Do some create more economic advancement than others?"
    },
    {
      "cell_type": "markdown",
      "metadata": {
        "cell_id": "ad843820b5764eabbbd2c6595de1ef2b",
        "deepnote_cell_height": 653.390625,
        "deepnote_cell_type": "markdown",
        "tags": []
      },
      "source": "### The Dataset\n**Description:** Describes family income (income while growing up) and adult income (income after graduating college) for students who attended college in the early 2000s. Data are in tidy format, with one row per college. See more in the official dataset [documentation](https://opportunityinsights.org/wp-content/uploads/2018/03/Codebook-MRC-Table-1.pdf).\n\n##### Variables\n- `name`: Name of college\n- `location`: City in which college is located\n- `state`: State in which college is located\n- `class_size`: Average size of graduating classes during years measured\n- `tier`: School tier (1-12), lower number indicates more prestigious tier of school\n- `tier_name`: Description of tier (e.g. selective public, selective private, IVY Plus, etc.)\n- `type`: School type (private non-profit, private for-profit, public)\n- `median_family_income`: Median family income of students at the school\n- `percent_from_bottom_20`: Percent of students at the school who come from bottom 20% income households\n- `percent_from_bottom_20_and_reached_top_20`: Percent of all students at the school who came from bottom 20% income households and who reached the top 20% of incomes as adults\n\n\n##### Data Sources: \n - Chetty et al. (Opportunity Insights), Mobility Report Cards database: https://opportunityinsights.org/paper/mobilityreportcards/\n    - Specifically: MRC Codebook Table 1, Preferred Estimates of Access and Mobility Rates by College:  https://opportunityinsights.org/data/?#resource-listing"
    },
    {
      "cell_type": "markdown",
      "metadata": {
        "cell_id": "47805bdfada1445694190a5b29de1984",
        "deepnote_cell_height": 115.9375,
        "deepnote_cell_type": "markdown",
        "tags": []
      },
      "source": "<div class=\"alert alert-block alert-success\">\n\n### 1.0 - Approximate Time:  10-15 mins\n\n</div>"
    },
    {
      "cell_type": "markdown",
      "metadata": {
        "cell_id": "00003-97d42794-c12e-4058-9f64-ab027e0e96dd",
        "deepnote_cell_height": 61.953125,
        "deepnote_cell_type": "markdown",
        "tags": []
      },
      "source": "### 1.0 - Exploring the College Mobility Dataset"
    },
    {
      "cell_type": "markdown",
      "metadata": {
        "cell_id": "ac288e6297584c0ca8a4b481e4f137d1",
        "deepnote_cell_height": 52.359375,
        "deepnote_cell_type": "markdown",
        "tags": []
      },
      "source": "**1.1 -** Run the following codeblock to download the dataset and display the first few rows."
    },
    {
      "cell_type": "code",
      "execution_count": null,
      "metadata": {
        "cell_id": "00004-2db0faf0-5340-4bc0-bd77-e3f29a24535b",
        "deepnote_cell_height": 409.859375,
        "deepnote_cell_type": "code",
        "deepnote_output_heights": [
          276.90625
        ],
        "deepnote_to_be_reexecuted": false,
        "execution_millis": 1144,
        "execution_start": 1660011221030,
        "output_cleared": false,
        "source_hash": "b4482331",
        "tags": [],
        "trusted": true
      },
      "outputs": [],
      "source": "# Download the dataset\ncolleges <- read.csv(\"https://docs.google.com/spreadsheets/d/e/2PACX-1vRKiYHNVKs8sWMo1FpG_whoNhiMGR5NQ36hiBqJbOtKnvpzStY9g-dLjAyPCDywnHVH_zOFoyWQPpyD/pub?gid=1276561522&single=true&output=csv\")\nhead(colleges)"
    },
    {
      "cell_type": "markdown",
      "metadata": {
        "cell_id": "00007-126a7b03-dbd9-472b-b48e-e7b5e278b6e1",
        "deepnote_cell_height": 74.75,
        "deepnote_cell_type": "markdown",
        "tags": []
      },
      "source": "**1.2 -** In this dataset, each row represents a college. How many total colleges are included in the dataset?"
    },
    {
      "cell_type": "code",
      "execution_count": null,
      "metadata": {
        "cell_id": "00008-301221de-dd0b-4f64-8c7e-31c6fb43da89",
        "deepnote_cell_height": 615.640625,
        "deepnote_cell_type": "code",
        "deepnote_to_be_reexecuted": false,
        "execution_millis": 62,
        "execution_start": 1660011222153,
        "output_cleared": false,
        "source_hash": "ebacf47f",
        "tags": [],
        "trusted": true
      },
      "outputs": [],
      "source": "# Sample Responses\n\nstr(colleges)\n\nglimpse(colleges)"
    },
    {
      "cell_type": "markdown",
      "metadata": {
        "cell_id": "e0e6bfdc6bde436586113f30f477847e",
        "deepnote_cell_height": 140.71875,
        "deepnote_cell_type": "markdown",
        "tags": []
      },
      "source": "<div class=\"alert alert-block alert-warning\">\n\n<b>Sample Response:</b> \n\nThere are 2,199 colleges in the dataset.\n\n</div>"
    },
    {
      "cell_type": "markdown",
      "metadata": {
        "cell_id": "80bbc711890e4c78b385c0fab449b765",
        "deepnote_cell_height": 74.75,
        "deepnote_cell_type": "markdown",
        "tags": []
      },
      "source": "**1.3 -** The `tier` column categorizes schools by their selectivity and prestige (1-12). Print out some of the Tier 1 colleges. Print out some of the Tier 12 colleges. What do you notice?"
    },
    {
      "cell_type": "code",
      "execution_count": null,
      "metadata": {
        "cell_id": "00010-0785a1b2-dbe5-4818-adf1-3bcffc640691",
        "deepnote_cell_height": 2135.953125,
        "deepnote_cell_type": "code",
        "deepnote_output_heights": [
          450.84375,
          606.453125,
          392.875,
          392.875
        ],
        "deepnote_to_be_reexecuted": false,
        "execution_millis": 235,
        "execution_start": 1660011222207,
        "output_cleared": false,
        "source_hash": "2f02cb9b",
        "tags": [],
        "trusted": true
      },
      "outputs": [],
      "source": "# Sample Response\nfilter(colleges, tier == 1)\nfilter(colleges, tier == 12)\n\n# Sample Response\nhead(arrange(colleges, tier), 10)\ntail(arrange(colleges, tier), 10)"
    },
    {
      "cell_type": "markdown",
      "metadata": {
        "cell_id": "1136bcb3fb0349b78c54a8d7c1f0e502",
        "deepnote_cell_height": 163.125,
        "deepnote_cell_type": "markdown",
        "tags": []
      },
      "source": "<div class=\"alert alert-block alert-warning\">\n\n<b>Sample Response:</b> \n\nThe Tier 1 schools tend to be Ivy League, private Universities. The Tier 12 schools tend to be for-profit, technical schools that have less than two-year degrees.\n\n</div>"
    },
    {
      "cell_type": "markdown",
      "metadata": {
        "cell_id": "f0210ad886044263b2f9f261c9fb5b03",
        "deepnote_cell_height": 74.75,
        "deepnote_cell_type": "markdown",
        "tags": []
      },
      "source": "**1.4 -** Come up with a strategy for using the data in this data frame to unpack our motivating questions. Which variables might be relevant? What relationships should we look at?"
    },
    {
      "cell_type": "markdown",
      "metadata": {
        "cell_id": "42a3f37830b74804896ca53ebc600c81",
        "deepnote_cell_height": 289.078125,
        "deepnote_cell_type": "markdown",
        "tags": []
      },
      "source": "<div class=\"alert alert-block alert-warning\">\n\n<b>Sample Response:</b> \n\nStudents might zoom in on outcome variables such as `percent_from_bottom_20_and_reached_top_20` or `percent_from_bottom_20` and want to sort colleges by those variables. Encourage them to do so and discuss observations.\n\nSome students might also consider relationships between variables like `tier` and `median_family_income` and the aforementioned outcome variables. This is a great idea (and exactly where we are headed). Lead into the next section which explores `median_family_income` of college students -- who are the colleges serving overall?\n</div>"
    },
    {
      "cell_type": "markdown",
      "metadata": {
        "cell_id": "71333789af624bb49b9f4346b83a98ae",
        "deepnote_cell_height": 115.9375,
        "deepnote_cell_type": "markdown",
        "tags": []
      },
      "source": "<div class=\"alert alert-block alert-success\">\n\n### 2.0 - Approximate Time:  15 - 20 mins\n\n</div>"
    },
    {
      "cell_type": "markdown",
      "metadata": {
        "cell_id": "8d07c95efab246e8b7be82aae884c53b",
        "deepnote_cell_height": 61.953125,
        "deepnote_cell_type": "markdown",
        "tags": []
      },
      "source": "### 2.0 - Whom do colleges serve?"
    },
    {
      "cell_type": "markdown",
      "metadata": {
        "cell_id": "00011-54af3c25-8fcd-424e-b24e-94deb893dcb4",
        "deepnote_cell_height": 228.296875,
        "deepnote_cell_type": "markdown",
        "tags": []
      },
      "source": "<div class=\"alert alert-block alert-info\">\n\n<b> <font size=\"+1\">Key Question</font></b>\n\n\n**2.1 -** The median household income in the United States in 2014 was $53,657. \n\nVisualize the median parental household income among these colleges. How does these parental median incomes compare to that of the country? What does this suggest about the vision of colleges as places for social mobility?\n\n</div>"
    },
    {
      "cell_type": "code",
      "execution_count": null,
      "metadata": {
        "cell_id": "00012-d751a769-a261-44d5-b93a-09197693b436",
        "deepnote_cell_height": 1242.984375,
        "deepnote_cell_type": "code",
        "deepnote_output_heights": [
          98.015625,
          444.40625,
          444.40625
        ],
        "deepnote_to_be_reexecuted": false,
        "execution_millis": 847,
        "execution_start": 1660011354718,
        "output_cleared": false,
        "source_hash": "323409dc",
        "tags": [],
        "trusted": true
      },
      "outputs": [],
      "source": "# Sample Response\ngf_histogram(~median_family_income, data = colleges) %>% \n    gf_vline(xintercept=53657)\n\n# Sample Response\ngf_histogram(~median_family_income, data = colleges) %>%\n    gf_boxplot(width = 20, alpha = .3) %>%\n    gf_vline(xintercept=53657)"
    },
    {
      "cell_type": "markdown",
      "metadata": {
        "cell_id": "1480b6523e294b35a29b4a8a8f74483f",
        "deepnote_cell_height": 185.515625,
        "deepnote_cell_type": "markdown",
        "deepnote_to_be_reexecuted": false,
        "execution_millis": 159,
        "execution_start": 1650310618116,
        "source_hash": "e5a190cd",
        "tags": []
      },
      "source": "<div class=\"alert alert-block alert-warning\">\n\n<b>Sample Response:</b> \n\nWe can see here that the majority of colleges tend to have median parental incomes above the median household income for the country. The right skew indicates that some colleges have parental median incomes **far** above that of the country.\n\n</div>"
    },
    {
      "cell_type": "markdown",
      "metadata": {
        "cell_id": "00014-4b4ae49c-7212-49c0-8f85-0bb8c0635052",
        "deepnote_cell_height": 74.75,
        "deepnote_cell_type": "markdown",
        "tags": []
      },
      "source": "**2.2 -** Which colleges serve the richest families? Did you expect these colleges? Do any of these names surprise you?"
    },
    {
      "cell_type": "code",
      "execution_count": null,
      "metadata": {
        "cell_id": "00015-0dffb27a-bba7-4675-983e-843123f10544",
        "deepnote_cell_height": 93.953125,
        "deepnote_cell_type": "code",
        "deepnote_to_be_reexecuted": true,
        "execution_millis": 831,
        "execution_start": 1659833129429,
        "output_cleared": true,
        "source_hash": "af7bd1f",
        "tags": [],
        "trusted": true
      },
      "outputs": [],
      "source": "# Sample Response\narrange(colleges, desc(median_family_income))"
    },
    {
      "cell_type": "markdown",
      "metadata": {
        "cell_id": "3b38c5e7011e4319b8cb1dedb57a9a84",
        "deepnote_cell_height": 74.75,
        "deepnote_cell_type": "markdown",
        "tags": []
      },
      "source": "**2.3 -** How are the colleges that serve the richest families different from colleges that have a lot of students who come from families in the bottom 20% of the income distribution?"
    },
    {
      "cell_type": "code",
      "execution_count": null,
      "metadata": {
        "cell_id": "41545df93b9e4bfba4289c839f77f224",
        "deepnote_cell_height": 111.953125,
        "deepnote_cell_type": "code",
        "deepnote_to_be_reexecuted": true,
        "execution_millis": 745,
        "execution_start": 1659833129517,
        "output_cleared": true,
        "source_hash": "a6de5a17",
        "tags": [],
        "trusted": true
      },
      "outputs": [],
      "source": "# Sample Response\nhead(arrange(colleges, desc(median_family_income)), 20)\nhead(arrange(colleges, desc(percent_from_bottom_20)), 20)"
    },
    {
      "cell_type": "markdown",
      "metadata": {
        "cell_id": "bef26a9a23e94f3eb9fe06668dc04734",
        "deepnote_cell_height": 244.296875,
        "deepnote_cell_type": "markdown",
        "deepnote_to_be_reexecuted": false,
        "execution_millis": 184,
        "execution_start": 1650311462193,
        "source_hash": "bf4f4fc2",
        "tags": []
      },
      "source": "<div class=\"alert alert-block alert-warning\">\n\n<b>Sample Response:</b> \n\nThe tier description of the schools are quite different. The schools that serve the rich families tend to be \"elite\" or \"Ivy plus\"; are private non-profit; and are often in the east coast. \n\nThe schools with a large percentage of students from lower income families tend to be non-selective or two year (or less) schools; a mix of for-profit or public and private; many in TX and NY.\n\n</div>"
    },
    {
      "cell_type": "markdown",
      "metadata": {
        "cell_id": "52c0c9f4406f47b8aaab37c6e35f3842",
        "deepnote_cell_height": 115.9375,
        "deepnote_cell_type": "markdown",
        "tags": []
      },
      "source": "<div class=\"alert alert-block alert-success\">\n\n### 3.0 - Approximate Time:  15-20 mins\n\n</div>"
    },
    {
      "cell_type": "markdown",
      "metadata": {
        "cell_id": "00020-6279f09b-c172-4959-850b-5dd6260bbd66",
        "deepnote_cell_height": 61.953125,
        "deepnote_cell_type": "markdown",
        "tags": []
      },
      "source": "### 3.0 - Exploring Relationships"
    },
    {
      "cell_type": "markdown",
      "metadata": {
        "cell_id": "74913429ea3b46d1a2a2fc5b7e41605a",
        "deepnote_cell_height": 191.90625,
        "deepnote_cell_type": "markdown",
        "tags": []
      },
      "source": "<div class=\"alert alert-block alert-info\">\n\n<b> <font size=\"+1\">Key Question</font></b>\n\n**3.1 -** Do you think there is a relationship between `tier` and the percent of students who come from the bottom 20% income families? Write a word equation to express this idea and make a visualization. Comment on any trends you see.\n\n</div>"
    },
    {
      "cell_type": "code",
      "execution_count": null,
      "metadata": {
        "cell_id": "08de9eb56b264e5cb05b322db6a99955",
        "deepnote_cell_height": 147.96875,
        "deepnote_cell_type": "code",
        "deepnote_to_be_reexecuted": true,
        "execution_millis": 683,
        "execution_start": 1659833129583,
        "output_cleared": true,
        "source_hash": "6b3b3d8c",
        "tags": [],
        "trusted": true
      },
      "outputs": [],
      "source": "# Sample Responses\n\ngf_boxplot(percent_from_bottom_20 ~ factor(tier), data = colleges)\n\ngf_jitter(percent_from_bottom_20 ~ tier, data = colleges)"
    },
    {
      "cell_type": "markdown",
      "metadata": {
        "cell_id": "00021-79cf02f1-f516-4518-b392-adc9219def52",
        "deepnote_cell_height": 244.296875,
        "deepnote_cell_type": "markdown",
        "deepnote_to_be_reexecuted": false,
        "execution_millis": 29,
        "execution_start": 1649709236795,
        "source_hash": "bb003e25",
        "tags": []
      },
      "source": "<div class=\"alert alert-block alert-warning\">\n\n<b>Sample Response:</b> \n\n**percent_from_bottom_20 = tier + other stuff**\n\nLower tier schools (more prestigious) tend to serve few bottom 20% income students. The opposite is true for high teir (lower prestige) schools. There seems to be variation by public/private. For example, Tier 3 is highly selective public and Tier 4 is highly selective private. The public schools tend to serve more bottom 20% income students.\n\n</div>"
    },
    {
      "cell_type": "markdown",
      "metadata": {
        "cell_id": "00022-bf583443-0e93-4c1e-b323-acac79674acf",
        "deepnote_cell_height": 178.328125,
        "deepnote_cell_type": "markdown",
        "tags": []
      },
      "source": "**3.2 -** The dataset has a variable - `percent_from_bottom_20_and_reached_top_20` - that measures the percent of all students at the school who came from bottom 20% income households and who reached the top 20% of incomes as adults. The researchers behind the data refer to this as the **mobility rate.** \n\nWe can hypothesize that some tiers have better mobility rates than others. Write this as a word equation and visualize this relationship. What do you notice?"
    },
    {
      "cell_type": "code",
      "execution_count": null,
      "metadata": {
        "allow_embed": false,
        "cell_id": "f7d3b68ce6d04385ac46e642c61288d0",
        "deepnote_cell_height": 98.953125,
        "deepnote_cell_type": "code",
        "deepnote_to_be_reexecuted": true,
        "output_cleared": true,
        "source_hash": "7d2cac93",
        "tags": [],
        "trusted": true
      },
      "outputs": [],
      "source": "# Sample Response\ngf_boxplot(percent_from_bottom_20_and_reached_top_20 ~ factor(tier), data = colleges, width = .1)"
    },
    {
      "cell_type": "markdown",
      "metadata": {
        "cell_id": "00024-90091416-1e88-44b9-a731-b1da75d5f397",
        "deepnote_cell_height": 311.484375,
        "deepnote_cell_type": "markdown",
        "tags": []
      },
      "source": "<div class=\"alert alert-block alert-warning\">\n\n<b>Sample Response:</b> \n\n**mobility rate = tier + other stuff**\n**percent_from_bottom_20_and_reached_top_20 = tier + other stuff**\n\nThe relationship isn't entirely clear. It seems that Tier 3 schools have generally the highest rate of mobility; however, there are several outlier Tier 5 and higher schools that have relatively high rates as well. Interestingly, Tier 11 & 12 schools (which had very high rates of accepting students from the bottom 20% income households) had low rates on this metric. This suggests that, while they accept many students from bottom 20% families, they are not the most successful at giving opportunities for mobility.  \n\n</div>"
    },
    {
      "cell_type": "markdown",
      "metadata": {
        "cell_id": "edc815ff192f46a688f0c42ed1874945",
        "deepnote_cell_height": 74.75,
        "deepnote_cell_type": "markdown",
        "tags": []
      },
      "source": "**3.2, bonus -** Notice that this is a super long (but clear) variable name. Figure out a way to have a variable named `mobility_rate` (a shorter name) with the same values."
    },
    {
      "cell_type": "code",
      "execution_count": null,
      "metadata": {
        "cell_id": "00878fc5331a43328756c9454f7182a9",
        "deepnote_cell_height": 147.96875,
        "deepnote_cell_type": "code",
        "deepnote_to_be_reexecuted": true,
        "execution_millis": 12,
        "execution_start": 1659833130397,
        "output_cleared": true,
        "source_hash": "a51aec47",
        "tags": [],
        "trusted": true
      },
      "outputs": [],
      "source": "# Sample Response\ncolleges$mobility_rate <- colleges$percent_from_bottom_20_and_reached_top_20\n\ncolleges <- colleges %>%\n    mutate(mobility_rate = percent_from_bottom_20_and_reached_top_20)"
    },
    {
      "cell_type": "markdown",
      "metadata": {
        "cell_id": "00025-64d85308-e086-4110-9c79-886d51d256d6",
        "deepnote_cell_height": 191.90625,
        "deepnote_cell_type": "markdown",
        "tags": []
      },
      "source": "<div class=\"alert alert-block alert-info\">\n\n<b> <font size=\"+1\">Key Question</font></b>\n\n**3.3 -** If you haven't already, take a look at the top 20 schools, in terms of mobility rate. How are they different from the schools that serve mostly high income or mostly low income families?\n\n</div>"
    },
    {
      "cell_type": "code",
      "execution_count": null,
      "metadata": {
        "cell_id": "00026-08bbd2a2-6557-4e57-9b57-8776a7672fc5",
        "deepnote_cell_height": 147.96875,
        "deepnote_cell_type": "code",
        "deepnote_to_be_reexecuted": true,
        "execution_millis": 36,
        "execution_start": 1659833130416,
        "output_cleared": true,
        "source_hash": "2830cdb1",
        "tags": [],
        "trusted": true
      },
      "outputs": [],
      "source": "# Sample Responses\n\nhead(arrange(colleges, desc(percent_from_bottom_20_and_reached_top_20)),20)\n\nhead(arrange(colleges, desc(mobility_rate)),20)"
    },
    {
      "cell_type": "markdown",
      "metadata": {
        "cell_id": "fbc7e9813a244525bceae452887a8ae0",
        "deepnote_cell_height": 289.078125,
        "deepnote_cell_type": "markdown",
        "tags": []
      },
      "source": "<div class=\"alert alert-block alert-warning\">\n\n<b>Sample Response:</b> \n\nThese seem to mostly be small state universities or non-selective private schools that serve large urban areas (e.g. City College of NY, Cal State LA, Vaughn College Of Aeronautics And Technology). Note: Cal State LA is one of the main contributing universities that developed the CourseKata curriculum! Go Golden Eagles!\n\nSo, the most prestigious schools might not be the real engines for social mobility in higher education (since they accept so few students from lower-income households). Rather, modest universities in large urban areas do a better overall job in mobility rate.\n\n</div>"
    }
  ],
  "metadata": {
    "deepnote": {
      "is_reactive": false
    },
    "deepnote_execution_queue": [],
    "deepnote_notebook_id": "9cbbad1e-d179-43c6-b11b-7439e9c0697a",
    "kernelspec": {
      "display_name": "R",
      "language": "R",
      "name": "ir"
    },
    "language_info": {
      "codemirror_mode": "r",
      "file_extension": ".r",
      "mimetype": "text/x-r-source",
      "name": "R",
      "pygments_lexer": "r",
      "version": "4.0.3"
    },
    "nbsimplegrader": {
      "publish_config": {
        "classes": [],
        "options": {},
        "tools": []
      }
    }
  },
  "nbformat": 4,
  "nbformat_minor": 2
}