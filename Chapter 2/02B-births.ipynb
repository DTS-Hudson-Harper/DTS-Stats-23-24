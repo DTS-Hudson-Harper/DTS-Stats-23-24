{
  "cells": [
    {
      "cell_type": "markdown",
      "metadata": {
        "cell_id": "e68d9acb-3ba3-4043-ac52-9ec744e4ccf6",
        "deepnote_cell_height": 81.953125,
        "deepnote_cell_type": "markdown",
        "tags": []
      },
      "source": "# 2B: Predicting Births"
    },
    {
      "cell_type": "code",
      "execution_count": null,
      "metadata": {
        "cell_id": "00003-525861d9-658c-4fc0-8654-b90e6114e9ca",
        "deepnote_cell_height": 129.953125,
        "deepnote_cell_type": "code",
        "deepnote_to_be_reexecuted": false,
        "execution_millis": 2020,
        "execution_start": 1659832929642,
        "output_cleared": true,
        "source_hash": "116f7300",
        "tags": [],
        "trusted": true
      },
      "outputs": [],
      "source": "# This code will load the R packages we will use\nsuppressPackageStartupMessages({\n    library(coursekata)\n})"
    },
    {
      "cell_type": "markdown",
      "metadata": {
        "cell_id": "00004-c76d1757-7ab1-4d59-b930-14f4f3b7d42f",
        "deepnote_cell_height": 314.15625,
        "deepnote_cell_type": "markdown",
        "tags": []
      },
      "source": "<img src=\"https://i.postimg.cc/jTgVzWLd/X2-Maternity-Ward.jpg\" alt=\"Several newborn babies sleeping in a maternity ward\" width = 70%>"
    },
    {
      "cell_type": "markdown",
      "metadata": {
        "cell_id": "00005-c587526c-d6c4-4082-8b26-4737c10bea30",
        "deepnote_cell_height": 197.921875,
        "deepnote_cell_type": "markdown",
        "tags": []
      },
      "source": "## Staffing the Maternity Ward\n\nHospitals use complex staffing models to make sure they have the appropriate number of doctors, nurses, and support staff on call for mothers going into labor on any particular day. If hospitals were able to predict the exact number of births at their facilities on future days, they could improve efficiency and reduce instances of staff shortage. Can we use data to predict the number of births on a certain day, at a typical hospital in the US?"
    },
    {
      "cell_type": "markdown",
      "metadata": {
        "cell_id": "00006-d4b232a9-5af1-4fa5-a1a3-914eb9cc959e",
        "deepnote_cell_height": 93.953125,
        "deepnote_cell_type": "markdown",
        "tags": []
      },
      "source": "### Motivating Question: How many babies will be born tomorrow?"
    },
    {
      "cell_type": "markdown",
      "metadata": {
        "cell_id": "00007-fca325aa-338f-490d-afd9-12b3e716a3ee",
        "deepnote_cell_height": 568.4375,
        "deepnote_cell_type": "markdown",
        "tags": []
      },
      "source": "### The Dataset\n##### Description\nShows the number of births per day at a typical, large hospital in the US every day from 2000-2014. Note: Due to privacy law, data from a specific hospital is unavailable. Instead, we took data on the total number of births in the US on these dates and applied a formula to project how many births occurred at a typical, large hospital on each of the dates. **The notebook can be completed as if this data is from a specific hospital.**\n\n##### Variables\n- `year`: Year (2000-2014)\n- `month`: Month, where 1 = January and 12 = December\n- `date_of_month`: Day number of month\n- `day_of_week`: Day of week, where 1 = Monday and 7 = Sunday\n- `births`: Number of births\n\n\n##### Data Sources \n - Full birth data (for total births across US) was compiled by Five Thirty Eight, originally from the Social Security Administration (https://github.com/fivethirtyeight/data/tree/master/births)\n - CourseKata applied a formula to the total births to project the amount of births at a typical, large hospital during each of the same dates. The result is the dataset used in this notebook.\n"
    },
    {
      "cell_type": "markdown",
      "metadata": {
        "cell_id": "00009-89e685bb-091b-4857-a60d-f5a405b2b2bc",
        "deepnote_cell_height": 62.421875,
        "deepnote_cell_type": "markdown",
        "tags": []
      },
      "source": "### 1.0 - Exploring the `baby_days` Dataset"
    },
    {
      "cell_type": "markdown",
      "metadata": {
        "cell_id": "00010-ad2c6d07-8e2a-4f17-a495-6b50f5c9033b",
        "deepnote_cell_height": 74.75,
        "deepnote_cell_type": "markdown",
        "tags": []
      },
      "source": "**1.1 -** Run the following codeblock to download the dataset. The dataset shows the number of births per day at a typical, large hosptial in the US."
    },
    {
      "cell_type": "code",
      "execution_count": null,
      "metadata": {
        "cell_id": "00011-b134910f-470d-4b93-93a7-bad2b41bceef",
        "deepnote_cell_height": 116.953125,
        "deepnote_cell_type": "code",
        "deepnote_to_be_reexecuted": false,
        "execution_millis": 1159,
        "execution_start": 1659832931699,
        "output_cleared": true,
        "source_hash": "d28ca152",
        "tags": [],
        "trusted": true
      },
      "outputs": [],
      "source": "# Download the dataset\nbaby_days <- read.csv(\"https://docs.google.com/spreadsheets/d/e/2PACX-1vQFPYUVf36moVxfg7Amdds86UlNTxo7ISj9h1LAhfac-09J3K9HiHPNUsTP8vy8VSa5npeqhBT8SY_a/pub?output=csv\")\nhead(baby_days)"
    },
    {
      "cell_type": "markdown",
      "metadata": {
        "cell_id": "00012-43fd7423-c60c-47b7-8971-2e5e27a63ee3",
        "deepnote_cell_height": 52.359375,
        "deepnote_cell_type": "markdown",
        "tags": []
      },
      "source": "**1.2 -** What years are represented in this dataset? How many total days are represented?"
    },
    {
      "cell_type": "markdown",
      "metadata": {
        "cell_id": "00015-89bac8f2-8505-4188-92d9-a45ba8ad6651",
        "deepnote_cell_height": 74.75,
        "deepnote_cell_type": "markdown",
        "tags": []
      },
      "source": "**1.3 -** (If applicable) Find the number of people born at this hospital on the day that **YOU** were born. Or, look up a date you are interested in between 2000-2014."
    },
    {
      "cell_type": "code",
      "execution_count": null,
      "metadata": {
        "cell_id": "00016-5bf596e5-0528-4c58-835f-0b4080517c3e",
        "deepnote_cell_height": 93.953125,
        "deepnote_cell_type": "code",
        "deepnote_to_be_reexecuted": false,
        "execution_millis": 144,
        "execution_start": 1659832932911,
        "output_cleared": true,
        "source_hash": "e7da7b01",
        "tags": [],
        "trusted": true
      },
      "outputs": [],
      "source": "# Try modifying the code below to match your birthday\nfilter(baby_days, year == 2002 & month == 8 & date_of_month == 18)"
    },
    {
      "cell_type": "markdown",
      "metadata": {
        "cell_id": "00018-2e47c266-cce7-4ddf-a2a3-edb2cde4e532",
        "deepnote_cell_height": 337.875,
        "deepnote_cell_type": "markdown",
        "tags": []
      },
      "source": "<div class=\"alert alert-block alert-info\">\n\n<b> <font size=\"+1\">Key Question</font></b>\n\n<br>\n\n**1.4 -** Run the code below to create three separate visualizations in which you show the number of births by:\n\n - `year`\n - `month`\n - `day_of_week`\n\nComment on any trends you notice.\n\n </div>"
    },
    {
      "cell_type": "markdown",
      "metadata": {
        "cell_id": "00023-a7874eba-808e-4784-a3ce-d55b644f083a",
        "deepnote_cell_height": 61.953125,
        "deepnote_cell_type": "markdown",
        "tags": []
      },
      "source": "### 2.0 - Making predictions with the empty model"
    },
    {
      "cell_type": "markdown",
      "metadata": {
        "cell_id": "00024-0574c741-6d28-42df-a016-ada28eddbe6f",
        "deepnote_cell_height": 133.53125,
        "deepnote_cell_type": "markdown",
        "tags": []
      },
      "source": "**2.1 -** If you were asked to predict the number of births on a randomly selected day from this dataset, what number of births would you predict? \n\nWhat if we used the empty model to predict the number of births? What is good about that prediction?"
    },
    {
      "cell_type": "markdown",
      "metadata": {
        "cell_id": "00027-2602298e-f776-4fa5-9aef-c2188365bf08",
        "deepnote_cell_height": 147.734375,
        "deepnote_cell_type": "markdown",
        "tags": []
      },
      "source": "**2.2 -** Create and store an empty model for predicting the number of births per day as the variable `empty_model`. Then, display the fitted values of your model in GLM notation.\n\nHere is some markdown to get you started:\n\n$Y_i = b_0 + e_i$"
    },
    {
      "cell_type": "code",
      "execution_count": null,
      "metadata": {
        "cell_id": "00028-d3316a52-4b79-40a7-8a4f-ad3fe39cc1ad",
        "deepnote_cell_height": 93.953125,
        "deepnote_cell_type": "code",
        "deepnote_to_be_reexecuted": false,
        "execution_millis": 20,
        "execution_start": 1659832941262,
        "output_cleared": true,
        "source_hash": "f8ded9d1",
        "tags": [],
        "trusted": true
      },
      "outputs": [],
      "source": "# Empty model\n"
    },
    {
      "cell_type": "markdown",
      "metadata": {
        "cell_id": "00030-7157f0fa-ca1f-4383-9123-314e6d0b6a24",
        "deepnote_cell_height": 155.9375,
        "deepnote_cell_type": "markdown",
        "tags": []
      },
      "source": "**2.3 -** The code block below draws a random day from the dataset and shows the number of births on that day. Imagine you made a prediction for the number of births on that day using your empty model. Spoiler alert -- your prediction will probably be wrong.\n\nWhat kind of error would this prediction make? What is the practical consequence of making this type of error?"
    },
    {
      "cell_type": "code",
      "execution_count": null,
      "metadata": {
        "cell_id": "00031-4ad3800c-b70d-44c4-9388-889ce15dddd4",
        "deepnote_cell_height": 147.96875,
        "deepnote_cell_type": "code",
        "deepnote_to_be_reexecuted": false,
        "execution_millis": 43,
        "execution_start": 1659832941283,
        "output_cleared": true,
        "source_hash": "4f9eee85",
        "tags": [],
        "trusted": true
      },
      "outputs": [],
      "source": "##Number of births from a random day\nset.seed(123) # set seed to have consistent results\nrandom_day <- sample(baby_days, 1) # select random row from dataset \n\nrandom_day"
    },
    {
      "cell_type": "markdown",
      "metadata": {
        "cell_id": "00034-fc42e566-aa4f-4ae6-8dc7-f742bd13ccd0",
        "deepnote_cell_height": 111.140625,
        "deepnote_cell_type": "markdown",
        "tags": []
      },
      "source": "**2.4 -** Find all the predictions and store them back into the data frame. Do the same thing with the residuals. \n\n(You might want to just call these new variables `predictions` and `residuals`.)"
    },
    {
      "cell_type": "markdown",
      "metadata": {
        "cell_id": "00036-8a2b04a5-0298-4ccd-b12c-c397b0f26c93",
        "deepnote_cell_height": 228.296875,
        "deepnote_cell_type": "markdown",
        "tags": []
      },
      "source": "<div class=\"alert alert-block alert-info\">\n\n<b> <font size=\"+1\">Key Question</font></b>\n\n<br>\n\n**2.5 -** If we sum up all the residuals, what would you expect to get? \n\nNow try it. Why do you get this result? Does this result justify using the mean to predict the number of births on a random day? Why or why not?\n\n</div>"
    },
    {
      "cell_type": "markdown",
      "metadata": {
        "cell_id": "00039-15d86fa7-1cb4-4d38-af14-1e92fb1e453b",
        "deepnote_cell_height": 74.75,
        "deepnote_cell_type": "markdown",
        "tags": []
      },
      "source": "**2.6 -** Although the residuals may be balanced, they may also be large. Find the Sum of Squares (SS). Is it easy to interpret what this number means? Why or why not?"
    },
    {
      "cell_type": "markdown",
      "metadata": {
        "cell_id": "00042-c3819955-2a0c-4b7e-89a4-cb6138249ec1",
        "deepnote_cell_height": 74.75,
        "deepnote_cell_type": "markdown",
        "tags": []
      },
      "source": "**2.7 -** A more interpretable measure of the \"typical\" error amount is the standard deviation. Calculate and interpret the standard deviation of births."
    },
    {
      "cell_type": "markdown",
      "metadata": {
        "cell_id": "00046-2e29855d-ebdc-4dc9-aa0a-5c1d6527a01d",
        "deepnote_cell_height": 61.953125,
        "deepnote_cell_type": "markdown",
        "tags": []
      },
      "source": "### 3.0 - Making Conditional Predictions"
    },
    {
      "cell_type": "markdown",
      "metadata": {
        "cell_id": "00047-0e91d115-066b-4ee3-946f-bcb904ce0744",
        "deepnote_cell_height": 191.90625,
        "deepnote_cell_type": "markdown",
        "tags": []
      },
      "source": "<div class=\"alert alert-block alert-info\">\n\n<b> <font size=\"+1\">Key Question</font></b>\n\n<br>\n\n\n**3.1 -** Which dates had the largest residuals (either positive or negative)? What do you notice about these dates? Why is our model so wrong on these days?\n\n</div>"
    },
    {
      "cell_type": "markdown",
      "metadata": {
        "cell_id": "00050-dda55eae-17af-4fc9-aab1-93207aa052b6",
        "deepnote_cell_height": 74.75,
        "deepnote_cell_type": "markdown",
        "tags": []
      },
      "source": "**3.2 -** Earlier, we noticed that births on the weekends tended to vary from births during the week. Let's explore this further. Make a new variable that says whether the day is a weekend or not."
    },
    {
      "cell_type": "markdown",
      "metadata": {
        "cell_id": "00052-11c97a01-7b87-4eab-9588-3d27a401f450",
        "deepnote_cell_height": 74.75,
        "deepnote_cell_type": "markdown",
        "deepnote_to_be_reexecuted": false,
        "execution_millis": 17,
        "execution_start": 1650916570703,
        "source_hash": "fa514dda",
        "tags": []
      },
      "source": "**3.3 -** Now visualize and find the mean number of births per day, for weekends and for weekdays. What do you notice?"
    },
    {
      "cell_type": "markdown",
      "metadata": {
        "cell_id": "00055-3ee4f73d-d5f5-4226-9ec7-594fa13754ee",
        "deepnote_cell_height": 74.75,
        "deepnote_cell_type": "markdown",
        "tags": []
      },
      "source": "**3.4 -** Run the following code, which creates a new version of the dataset (`Dec_12_2014`) that includes all the dates up to (but not including) Saturday, December 13th, 2014."
    },
    {
      "cell_type": "code",
      "execution_count": null,
      "metadata": {
        "cell_id": "00056-8619e1e0-37d2-424b-a15c-2424a3dc32b5",
        "deepnote_cell_height": 93.953125,
        "deepnote_cell_type": "code",
        "deepnote_to_be_reexecuted": false,
        "execution_millis": 48,
        "execution_start": 1659835199340,
        "output_cleared": true,
        "source_hash": "d5e89213",
        "tags": [],
        "trusted": true
      },
      "outputs": [],
      "source": "Dec_12_2014 <- baby_days[1:5460,]\nhead(Dec_12_2014)"
    },
    {
      "cell_type": "markdown",
      "metadata": {
        "cell_id": "00057-ee5315af-2f48-4551-91f6-1e4fe5e7cae4",
        "deepnote_cell_height": 272.6875,
        "deepnote_cell_type": "markdown",
        "tags": []
      },
      "source": "<div class=\"alert alert-block alert-info\">\n\n<b> <font size=\"+1\">Key Question</font></b>\n\n<br>\n\n#### Class Competition\n\n**3.5 -** Using only the data in `Dec_12_2014`, predict the number of births on Saturday, December 13th, 2014. This is the date after the dataset ends. Note: Your prediction **must** be based on a mean of some subset (or full set) of data points in `Dec_12_2014`. Whoever has the lowest magnitude error wins the class competition! No cheating.\n\n</div>"
    },
    {
      "cell_type": "markdown",
      "metadata": {
        "cell_id": "00060-f5ff92eb-60b1-47c4-be98-06833dd48f8f",
        "deepnote_cell_height": 214.296875,
        "deepnote_cell_type": "markdown",
        "tags": []
      },
      "source": "<div class=\"alert alert-block alert-info\">\n\n<b> <font size=\"+1\">Key Question</font></b>\n\n<br>\n\n**3.6 -** The instructor will now reveal the true number of births on Saturday, December 13th, 2014. Reflect on the error from your prediction. What direction was the error? How high was the error in magnitude? Why do you think this occurred?\n\n</div>"
    }
  ],
  "metadata": {
    "deepnote": {
      "is_reactive": false
    },
    "deepnote_execution_queue": [],
    "deepnote_notebook_id": "c586e252-9693-42cb-a6c2-310eb1299a07",
    "kernelspec": {
      "display_name": "R",
      "language": "R",
      "name": "ir"
    },
    "language_info": {
      "codemirror_mode": "r",
      "file_extension": ".r",
      "mimetype": "text/x-r-source",
      "name": "R",
      "pygments_lexer": "r",
      "version": "4.0.3"
    },
    "nbsimplegrader": {
      "publish_config": {
        "classes": [],
        "options": [],
        "tools": []
      }
    }
  },
  "nbformat": 4,
  "nbformat_minor": 2
}