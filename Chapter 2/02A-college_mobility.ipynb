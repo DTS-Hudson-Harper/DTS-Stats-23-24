{
  "cells": [
    {
      "cell_type": "markdown",
      "metadata": {
        "cell_id": "47d4f304-9170-4e79-80fb-ae799d2508be",
        "deepnote_cell_height": 81.953125,
        "deepnote_cell_type": "markdown",
        "tags": []
      },
      "source": "# 2A: College and Social Mobility"
    },
    {
      "cell_type": "code",
      "execution_count": null,
      "metadata": {
        "cell_id": "00003-a24996dc-3f07-42fb-87fc-e029d160b42b",
        "deepnote_cell_height": 129.953125,
        "deepnote_cell_type": "code",
        "deepnote_to_be_reexecuted": false,
        "execution_millis": 1578,
        "execution_start": 1659833125188,
        "output_cleared": true,
        "source_hash": "116f7300",
        "tags": [],
        "trusted": true
      },
      "outputs": [],
      "source": "# This code will load the R packages we will use\nsuppressPackageStartupMessages({\n    library(coursekata)\n})"
    },
    {
      "cell_type": "markdown",
      "metadata": {
        "cell_id": "00004-a84b3b20-b261-49b2-8980-7a9c42e379d8",
        "deepnote_cell_height": 426.5625,
        "deepnote_cell_type": "markdown",
        "owner_user_id": "23d85493-7ed1-49a4-baa7-630eaab08193",
        "tags": []
      },
      "source": "<img src=\"https://i.postimg.cc/hgQxmL5Q/johnston-gate-harvard.jpg\" alt=\"Johnston Gates at Harvard University\" width = 50%>"
    },
    {
      "cell_type": "markdown",
      "metadata": {
        "cell_id": "00005-0dcce8b6-bdd6-498b-8492-22c7bb48a9f2",
        "deepnote_cell_height": 256.71875,
        "deepnote_cell_type": "markdown",
        "tags": []
      },
      "source": "## College and the American Dream\n\nWe tend to think of colleges as places of opportunity. In particular, for low-income students, colleges present themselves as places of social mobility. If you can score a letter of admission, obtain financing, and work hard for four years, you'll get a degree that will open personal and financial doors for the rest of your life.\n\nHowever, critics have challenged the above narrative. They say that colleges simply reproduce current social hiearchies. They claim that, for the most part, colleges serve and/or graduate students from already high-income families. In doing so, they cement inequities in opportunity."
    },
    {
      "cell_type": "markdown",
      "metadata": {
        "cell_id": "00006-5b8d2f5d-cfc3-4c41-939e-b8dd0eb47039",
        "deepnote_cell_height": 125.953125,
        "deepnote_cell_type": "markdown",
        "tags": []
      },
      "source": "### Motivating Question: Are colleges *actually* engines for social mobility? Do some create more economic advancement than others?"
    },
    {
      "cell_type": "markdown",
      "metadata": {
        "cell_id": "00007-1820b89e-1e16-4e70-9033-83d8b80edd8f",
        "deepnote_cell_height": 653.390625,
        "deepnote_cell_type": "markdown",
        "tags": []
      },
      "source": "### The Dataset\n**Description:** Describes family income (income while growing up) and adult income (income after graduating college) for students who attended college in the early 2000s. Data are in tidy format, with one row per college. See more in the official dataset [documentation](https://opportunityinsights.org/wp-content/uploads/2018/03/Codebook-MRC-Table-1.pdf).\n\n##### Variables\n- `name`: Name of college\n- `location`: City in which college is located\n- `state`: State in which college is located\n- `class_size`: Average size of graduating classes during years measured\n- `tier`: School tier (1-12), lower number indicates more prestigious tier of school\n- `tier_name`: Description of tier (e.g. selective public, selective private, IVY Plus, etc.)\n- `type`: School type (private non-profit, private for-profit, public)\n- `median_family_income`: Median family income of students at the school\n- `percent_from_bottom_20`: Percent of students at the school who come from bottom 20% income households\n- `percent_from_bottom_20_and_reached_top_20`: Percent of all students at the school who came from bottom 20% income households and who reached the top 20% of incomes as adults\n\n\n##### Data Sources: \n - Chetty et al. (Opportunity Insights), Mobility Report Cards database: https://opportunityinsights.org/paper/mobilityreportcards/\n    - Specifically: MRC Codebook Table 1, Preferred Estimates of Access and Mobility Rates by College:  https://opportunityinsights.org/data/?#resource-listing"
    },
    {
      "cell_type": "markdown",
      "metadata": {
        "cell_id": "00009-6db8afd2-5449-4e7a-af86-4f5b34027844",
        "deepnote_cell_height": 61.953125,
        "deepnote_cell_type": "markdown",
        "tags": []
      },
      "source": "### 1.0 - Exploring the College Mobility Dataset"
    },
    {
      "cell_type": "markdown",
      "metadata": {
        "cell_id": "00010-07d88b66-9e6f-4f92-a0fa-57e137d268a9",
        "deepnote_cell_height": 52.359375,
        "deepnote_cell_type": "markdown",
        "tags": []
      },
      "source": "**1.1 -** Run the following codeblock to download the dataset and display the first few rows."
    },
    {
      "cell_type": "code",
      "execution_count": null,
      "metadata": {
        "cell_id": "00011-ce7a8d8b-3a4e-4e3a-a6fd-5623cbfbcc5f",
        "deepnote_cell_height": 116.953125,
        "deepnote_cell_type": "code",
        "deepnote_to_be_reexecuted": false,
        "execution_millis": 1661,
        "execution_start": 1659833126799,
        "output_cleared": true,
        "source_hash": "b4482331",
        "tags": [],
        "trusted": true
      },
      "outputs": [],
      "source": "# Download the dataset\ncolleges <- read.csv(\"https://docs.google.com/spreadsheets/d/e/2PACX-1vRKiYHNVKs8sWMo1FpG_whoNhiMGR5NQ36hiBqJbOtKnvpzStY9g-dLjAyPCDywnHVH_zOFoyWQPpyD/pub?gid=1276561522&single=true&output=csv\")\nhead(colleges)"
    },
    {
      "cell_type": "markdown",
      "metadata": {
        "cell_id": "00012-99c5e74c-112c-4d06-becf-078a29eced0a",
        "deepnote_cell_height": 74.75,
        "deepnote_cell_type": "markdown",
        "tags": []
      },
      "source": "**1.2 -** In this dataset, each row represents a college. How many total colleges are included in the dataset?"
    },
    {
      "cell_type": "markdown",
      "metadata": {
        "cell_id": "00015-39ebd4b7-3470-4c36-b67c-82f238152d62",
        "deepnote_cell_height": 74.75,
        "deepnote_cell_type": "markdown",
        "tags": []
      },
      "source": "**1.3 -** The `tier` column categorizes schools by their selectivity and prestige (1-12). Print out some of the Tier 1 colleges. Print out some of the Tier 12 colleges. What do you notice?"
    },
    {
      "cell_type": "markdown",
      "metadata": {
        "cell_id": "00018-2f37738f-2814-4a53-b1aa-1d51676c9351",
        "deepnote_cell_height": 74.75,
        "deepnote_cell_type": "markdown",
        "tags": []
      },
      "source": "**1.4 -** Come up with a strategy for using the data in this data frame to unpack our motivating questions. Which variables might be relevant? What relationships should we look at?"
    },
    {
      "cell_type": "markdown",
      "metadata": {
        "cell_id": "00021-927dd081-253b-4032-8605-44dc45d1ee0b",
        "deepnote_cell_height": 61.953125,
        "deepnote_cell_type": "markdown",
        "tags": []
      },
      "source": "### 2.0 - Whom do colleges serve?"
    },
    {
      "cell_type": "markdown",
      "metadata": {
        "cell_id": "00022-dbc59c69-052f-402f-b2a9-38ce6d09c292",
        "deepnote_cell_height": 228.296875,
        "deepnote_cell_type": "markdown",
        "tags": []
      },
      "source": "<div class=\"alert alert-block alert-info\">\n\n<b> <font size=\"+1\">Key Question</font></b>\n\n\n**2.1 -** The median household income in the United States in 2014 was $53,657. \n\nVisualize the median parental household income among these colleges. How does these parental median incomes compare to that of the country? What does this suggest about the vision of colleges as places for social mobility?\n\n</div>"
    },
    {
      "cell_type": "markdown",
      "metadata": {
        "cell_id": "00025-f5c8e316-83e4-444e-8839-87a1bf3199b8",
        "deepnote_cell_height": 74.75,
        "deepnote_cell_type": "markdown",
        "tags": []
      },
      "source": "**2.2 -** Which colleges serve the richest families? Did you expect these colleges? Do any of these names surprise you?"
    },
    {
      "cell_type": "markdown",
      "metadata": {
        "cell_id": "00027-de8a7353-0e5c-4859-9253-977f0970a928",
        "deepnote_cell_height": 74.75,
        "deepnote_cell_type": "markdown",
        "tags": []
      },
      "source": "**2.3 -** How are the colleges that serve the richest families different from colleges that have a lot of students who come from families in the bottom 20% of the income distribution?"
    },
    {
      "cell_type": "markdown",
      "metadata": {
        "cell_id": "00031-95078b22-3265-4b9e-abdb-9e6ebc1623dd",
        "deepnote_cell_height": 61.953125,
        "deepnote_cell_type": "markdown",
        "tags": []
      },
      "source": "### 3.0 - Exploring Relationships"
    },
    {
      "cell_type": "markdown",
      "metadata": {
        "cell_id": "00032-df5d5668-758a-4f6b-9a36-bcab87ffef92",
        "deepnote_cell_height": 191.90625,
        "deepnote_cell_type": "markdown",
        "tags": []
      },
      "source": "<div class=\"alert alert-block alert-info\">\n\n<b> <font size=\"+1\">Key Question</font></b>\n\n**3.1 -** Do you think there is a relationship between `tier` and the percent of students who come from the bottom 20% income families? Write a word equation to express this idea and make a visualization. Comment on any trends you see.\n\n</div>"
    },
    {
      "cell_type": "markdown",
      "metadata": {
        "cell_id": "00035-c622f130-fa15-4bdb-9dda-2fc772d96934",
        "deepnote_cell_height": 178.328125,
        "deepnote_cell_type": "markdown",
        "tags": []
      },
      "source": "**3.2 -** The dataset has a variable - `percent_from_bottom_20_and_reached_top_20` - that measures the percent of all students at the school who came from bottom 20% income households and who reached the top 20% of incomes as adults. The researchers behind the data refer to this as the **mobility rate.** \n\nWe can hypothesize that some tiers have better mobility rates than others. Write this as a word equation and visualize this relationship. What do you notice?"
    },
    {
      "cell_type": "markdown",
      "metadata": {
        "cell_id": "00038-c6172b1e-b1c7-4d80-bf92-37583136fb95",
        "deepnote_cell_height": 74.75,
        "deepnote_cell_type": "markdown",
        "tags": []
      },
      "source": "**3.2, bonus -** Notice that this is a super long (but clear) variable name. Figure out a way to have a variable named `mobility_rate` (a shorter name) with the same values."
    },
    {
      "cell_type": "markdown",
      "metadata": {
        "cell_id": "00040-22934749-b266-4b4f-99bd-d381cefa0924",
        "deepnote_cell_height": 169.515625,
        "deepnote_cell_type": "markdown",
        "tags": []
      },
      "source": "<div class=\"alert alert-block alert-info\">\n\n<b> <font size=\"+1\">Key Question</font></b>\n\n**3.3 -** If you haven't already, take a look at the top 20 schools, in terms of mobility rate. How are they different from the schools that serve mostly high income or mostly low income families?\n\n</div>"
    }
  ],
  "metadata": {
    "deepnote": {
      "is_reactive": false
    },
    "deepnote_execution_queue": [],
    "deepnote_notebook_id": "77d1ccee-6d64-4a13-9708-167b08bccbef",
    "kernelspec": {
      "display_name": "R",
      "language": "R",
      "name": "ir"
    },
    "language_info": {
      "codemirror_mode": "r",
      "file_extension": ".r",
      "mimetype": "text/x-r-source",
      "name": "R",
      "pygments_lexer": "r",
      "version": "4.0.3"
    },
    "nbsimplegrader": {
      "publish_config": {
        "classes": [],
        "options": [],
        "tools": []
      }
    }
  },
  "nbformat": 4,
  "nbformat_minor": 2
}