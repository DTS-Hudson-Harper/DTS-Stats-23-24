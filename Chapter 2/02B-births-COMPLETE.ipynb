{
  "cells": [
    {
      "cell_type": "markdown",
      "metadata": {
        "cell_id": "d31a84bd439445a8b756f14b136fec4e",
        "deepnote_cell_height": 260.703125,
        "deepnote_cell_type": "markdown",
        "tags": []
      },
      "source": "<div class=\"alert alert-block alert-danger\">\n\n# 2B: Predicting Births (COMPLETE)\n\n*This notebook is intended for students who have completed:*\n \n**All of Chapter 2**\n\n</div>"
    },
    {
      "cell_type": "markdown",
      "metadata": {
        "cell_id": "1f5c0fb6eb8643aaa9ca97d8a139853d",
        "deepnote_cell_height": 359.0625,
        "deepnote_cell_type": "markdown",
        "tags": []
      },
      "source": "<div class=\"alert alert-block alert-warning\">\n\n#### Summary of Notebook:\n\nThis notebook will delve into a data frame that contains the number of births per day in a typical large hospital, across the years 2000-2014. Student will explore things like the typical number of births per year, per month, and per day of the week. They will seek to identify patterns and model the data in a way that might help the hospital properly staff their maternity ward for certain days of the year.\n\n#### Includes:\n\n- Making meaningful predictions using the empty model\n- Analyzing residuals and exploring how the mean balances residuals\n- Explore making conditional predictions with the empty model\n\n</div>"
    },
    {
      "cell_type": "markdown",
      "metadata": {
        "cell_id": "020f35d3e6f64b4fbd495bc948859f61",
        "deepnote_cell_height": 163.9375,
        "deepnote_cell_type": "markdown",
        "tags": []
      },
      "source": "<div class=\"alert alert-block alert-success\">\n\n## Approximate time to complete Notebook: 45-60 Mins\n\n</div>"
    },
    {
      "cell_type": "code",
      "execution_count": null,
      "metadata": {
        "cell_id": "00001-a7750655-d31c-4b46-965e-da85a993eb31",
        "deepnote_cell_height": 129.953125,
        "deepnote_cell_type": "code",
        "deepnote_to_be_reexecuted": false,
        "execution_millis": 2020,
        "execution_start": 1659832929642,
        "output_cleared": true,
        "source_hash": "116f7300",
        "tags": [],
        "trusted": true
      },
      "outputs": [],
      "source": "# This code will load the R packages we will use\nsuppressPackageStartupMessages({\n    library(coursekata)\n})"
    },
    {
      "cell_type": "markdown",
      "metadata": {
        "cell_id": "00002-cb488ca8-48d9-4d50-8d02-c7fd329457ab",
        "deepnote_cell_height": 314.15625,
        "deepnote_cell_type": "markdown",
        "tags": []
      },
      "source": "<img src=\"https://i.postimg.cc/jTgVzWLd/X2-Maternity-Ward.jpg\" alt=\"Several newborn babies sleeping in a maternity ward\" width = 70%>"
    },
    {
      "cell_type": "markdown",
      "metadata": {
        "cell_id": "00003-b68d601c-5a79-48be-aa1c-259cf741b187",
        "deepnote_cell_height": 197.921875,
        "deepnote_cell_type": "markdown",
        "tags": []
      },
      "source": "## Staffing the Maternity Ward\n\nHospitals use complex staffing models to make sure they have the appropriate number of doctors, nurses, and support staff on call for mothers going into labor on any particular day. If hospitals were able to predict the exact number of births at their facilities on future days, they could improve efficiency and reduce instances of staff shortage. Can we use data to predict the number of births on a certain day, at a typical hospital in the US?"
    },
    {
      "cell_type": "markdown",
      "metadata": {
        "cell_id": "00004-c5c728c4-f7e8-4909-b048-1c19fd84d528",
        "deepnote_cell_height": 93.953125,
        "deepnote_cell_type": "markdown",
        "tags": []
      },
      "source": "### Motivating Question: How many babies will be born tomorrow?"
    },
    {
      "cell_type": "markdown",
      "metadata": {
        "cell_id": "00005-92312120-85b8-492e-91fd-75544ea21f3d",
        "deepnote_cell_height": 568.4375,
        "deepnote_cell_type": "markdown",
        "tags": []
      },
      "source": "### The Dataset\n##### Description\nShows the number of births per day at a typical, large hospital in the US every day from 2000-2014. Note: Due to privacy law, data from a specific hospital is unavailable. Instead, we took data on the total number of births in the US on these dates and applied a formula to project how many births occurred at a typical, large hospital on each of the dates. **The notebook can be completed as if this data is from a specific hospital.**\n\n##### Variables\n- `year`: Year (2000-2014)\n- `month`: Month, where 1 = January and 12 = December\n- `date_of_month`: Day number of month\n- `day_of_week`: Day of week, where 1 = Monday and 7 = Sunday\n- `births`: Number of births\n\n\n##### Data Sources \n - Full birth data (for total births across US) was compiled by Five Thirty Eight, originally from the Social Security Administration (https://github.com/fivethirtyeight/data/tree/master/births)\n - CourseKata applied a formula to the total births to project the amount of births at a typical, large hospital during each of the same dates. The result is the dataset used in this notebook.\n"
    },
    {
      "cell_type": "markdown",
      "metadata": {
        "cell_id": "fb7adf85a92e4587ba394839d016f710",
        "deepnote_cell_height": 115.9375,
        "deepnote_cell_type": "markdown",
        "owner_user_id": "23d85493-7ed1-49a4-baa7-630eaab08193",
        "tags": []
      },
      "source": "<div class=\"alert alert-block alert-success\">\n\n### 1.0 - Approximate Time:  10-15 mins\n\n</div>"
    },
    {
      "cell_type": "markdown",
      "metadata": {
        "cell_id": "00006-2726a647-bead-48c3-93b0-ed81c0f9bbba",
        "deepnote_cell_height": 62.421875,
        "deepnote_cell_type": "markdown",
        "tags": []
      },
      "source": "### 1.0 - Exploring the `baby_days` Dataset"
    },
    {
      "cell_type": "markdown",
      "metadata": {
        "cell_id": "00007-6874f8b7-0a68-4d67-961d-ca8fdf13c4e3",
        "deepnote_cell_height": 74.75,
        "deepnote_cell_type": "markdown",
        "tags": []
      },
      "source": "**1.1 -** Run the following codeblock to download the dataset. The dataset shows the number of births per day at a typical, large hosptial in the US."
    },
    {
      "cell_type": "code",
      "execution_count": null,
      "metadata": {
        "cell_id": "00008-c5acd23f-07cc-4be6-a1d2-05f8e64145b3",
        "deepnote_cell_height": 116.953125,
        "deepnote_cell_type": "code",
        "deepnote_output_heights": [
          277
        ],
        "deepnote_to_be_reexecuted": false,
        "execution_millis": 1159,
        "execution_start": 1659832931699,
        "output_cleared": true,
        "source_hash": "d28ca152",
        "tags": [],
        "trusted": true
      },
      "outputs": [],
      "source": "# Download the dataset\nbaby_days <- read.csv(\"https://docs.google.com/spreadsheets/d/e/2PACX-1vQFPYUVf36moVxfg7Amdds86UlNTxo7ISj9h1LAhfac-09J3K9HiHPNUsTP8vy8VSa5npeqhBT8SY_a/pub?output=csv\")\nhead(baby_days)"
    },
    {
      "cell_type": "markdown",
      "metadata": {
        "cell_id": "00011-457733cb-1186-4cfb-aa24-35c8be2b0627",
        "deepnote_cell_height": 52.359375,
        "deepnote_cell_type": "markdown",
        "tags": []
      },
      "source": "**1.2 -** What years are represented in this dataset? How many total days are represented?"
    },
    {
      "cell_type": "code",
      "execution_count": null,
      "metadata": {
        "cell_id": "00013-70ad5a9a-e3fa-49a8-a63c-5492242b3dac",
        "deepnote_cell_height": 183.953125,
        "deepnote_cell_type": "code",
        "deepnote_output_heights": [
          60
        ],
        "deepnote_to_be_reexecuted": false,
        "execution_millis": 55,
        "execution_start": 1659832932865,
        "output_cleared": true,
        "source_hash": "dfa10207",
        "tags": [],
        "trusted": true
      },
      "outputs": [],
      "source": "# Potential way to call on each individual year\n# Or just check the variable description\ntally(~ year, data = baby_days)\n\n\n# Sample Response to get the number of rows\nstr(baby_days)"
    },
    {
      "cell_type": "markdown",
      "metadata": {
        "cell_id": "00014-53624aac-f2b1-4bd6-a997-93c2c20e9f2d",
        "deepnote_cell_height": 199.515625,
        "deepnote_cell_type": "markdown",
        "tags": []
      },
      "source": "<div class=\"alert alert-block alert-warning\">\n\n<b>Sample Response:</b>\n \nThere are 15 years represented in the dataset (2000 - 2014). Each of these years has 365 data points, one for each day of the year. Leap years (e.g., 2008) have 366 days.\n\nThere are 5479 days represented (each row represents a day).\n</div>"
    },
    {
      "cell_type": "markdown",
      "metadata": {
        "cell_id": "00015-f630ed52-dd78-4d6f-9fa7-822da39715ac",
        "deepnote_cell_height": 74.75,
        "deepnote_cell_type": "markdown",
        "tags": []
      },
      "source": "**1.3 -** (If applicable) Find the number of people born at this hospital on the day that **YOU** were born. Or, look up a date you are interested in between 2000-2014."
    },
    {
      "cell_type": "code",
      "execution_count": null,
      "metadata": {
        "cell_id": "00016-bd77c9bb-3e70-4722-ac7c-46f41c080227",
        "deepnote_cell_height": 93.953125,
        "deepnote_cell_type": "code",
        "deepnote_output_heights": [
          132
        ],
        "deepnote_to_be_reexecuted": false,
        "execution_millis": 144,
        "execution_start": 1659832932911,
        "output_cleared": true,
        "source_hash": "e7da7b01",
        "tags": [],
        "trusted": true
      },
      "outputs": [],
      "source": "# Try modifying the code below to match your birthday\nfilter(baby_days, year == 2002 & month == 8 & date_of_month == 18)"
    },
    {
      "cell_type": "markdown",
      "metadata": {
        "cell_id": "00017-d92df4b2-7ab2-49be-ada0-904aea22b56c",
        "deepnote_cell_height": 140.71875,
        "deepnote_cell_type": "markdown",
        "tags": []
      },
      "source": "<div class=\"alert alert-block alert-warning\">\n\n<b>Sample Response:</b> \n\nOn my birthday (August 18th, 2002), there were 9 births at this hospital.\n\n</div>"
    },
    {
      "cell_type": "markdown",
      "metadata": {
        "cell_id": "00018-e08935bb-5447-449e-a95d-ef11a9c66ec1",
        "deepnote_cell_height": 337.875,
        "deepnote_cell_type": "markdown",
        "tags": []
      },
      "source": "<div class=\"alert alert-block alert-info\">\n\n<b> <font size=\"+1\">Key Question</font></b>\n\n<br>\n\n**1.4 -** Run the code below to create three separate visualizations in which you show the number of births by:\n\n - `year`\n - `month`\n - `day_of_week`\n\nComment on any trends you notice.\n\n </div>"
    },
    {
      "cell_type": "code",
      "execution_count": null,
      "metadata": {
        "cell_id": "00019-6a15d93b-bf29-496f-8a3c-0c5dd011cac5",
        "deepnote_cell_height": 327.96875,
        "deepnote_cell_type": "code",
        "deepnote_output_heights": [
          445,
          445,
          445,
          445,
          445,
          445,
          445,
          445,
          445
        ],
        "deepnote_to_be_reexecuted": false,
        "execution_millis": 6133,
        "execution_start": 1659832933017,
        "output_cleared": true,
        "source_hash": "b69cf785",
        "tags": [],
        "trusted": true
      },
      "outputs": [],
      "source": "# using scatter plots\ngf_point(births ~ year, data = baby_days) \ngf_point(births ~ month, data = baby_days)\ngf_point(births ~ day_of_week, data = baby_days)\n\n# using jitter plots\ngf_jitter(births ~ year, data = baby_days) \ngf_jitter(births ~ month, data = baby_days)\ngf_jitter(births ~ day_of_week, data = baby_days)\n\n# using boxplots\ngf_boxplot(births ~ factor(year), data = baby_days) \ngf_boxplot(births ~ factor(month), data = baby_days)\ngf_boxplot(births ~ factor(day_of_week), data = baby_days)\n"
    },
    {
      "cell_type": "markdown",
      "metadata": {
        "cell_id": "00022-b75a423a-f946-4ff1-a066-3271cf029e92",
        "deepnote_cell_height": 487.828125,
        "deepnote_cell_type": "markdown",
        "tags": []
      },
      "source": "<div class=\"alert alert-block alert-warning\">\n\n<b>Sample Response:</b> \n\nIf they use jitter plots and box plots, they might wonder why there is a clump of dots up top *and* a clump of dots on the bottom. Remind them that each of these dots comes from an individual day. Which *days* consistently have lower births? You might have them put in `color = ~day_of_week` into those scatter/jitter plots.\n\nWhile births are pretty consistent across years and months, they seem to vary a fair amount by day of week. Specifically, the weekend days (Saturday - 6 and Sunday - 7) seem to have fewer births than the other days of the week. \n\nAsk students to think about why this might be? They might wonder if somehow people don't want to give births on weekends. Some might consider hospitals and doctors' schedules: doctors who perform specialzied operations - like C-Sections - are in the hospital more often on weekdays. \n\n<b> Instructor Note:</b> \n\nMake a big deal about variation in births by day of week. This will help students when they start refining their models, later in the notebook.\n\n</div>"
    },
    {
      "cell_type": "code",
      "execution_count": null,
      "metadata": {
        "cell_id": "6b450a5273f847ad977dae766bc915e3",
        "deepnote_cell_height": 183.953125,
        "deepnote_cell_type": "code",
        "deepnote_output_heights": [
          445,
          445,
          445,
          445
        ],
        "deepnote_to_be_reexecuted": false,
        "execution_millis": 2088,
        "execution_start": 1659832939153,
        "output_cleared": true,
        "source_hash": "9b01228b",
        "tags": [],
        "trusted": true
      },
      "outputs": [],
      "source": "# using scatter plots with day_of_week colored\ngf_point(births ~ year, color = ~day_of_week, data = baby_days) \ngf_point(births ~ month, color = ~day_of_week, data = baby_days)\n\n# using jitter plots\ngf_jitter(births ~ year, color = ~day_of_week, data = baby_days) \ngf_jitter(births ~ month, color = ~day_of_week, data = baby_days)"
    },
    {
      "cell_type": "markdown",
      "metadata": {
        "cell_id": "1ae3e6e086cb48d094d66a0575b63e2e",
        "deepnote_cell_height": 115.9375,
        "deepnote_cell_type": "markdown",
        "tags": []
      },
      "source": "<div class=\"alert alert-block alert-success\">\n\n### 2.0 - Approximate Time:  15-20 mins\n\n</div>"
    },
    {
      "cell_type": "markdown",
      "metadata": {
        "cell_id": "00023-5e038d20-5e23-4fc2-8534-37a9c300496b",
        "deepnote_cell_height": 61.953125,
        "deepnote_cell_type": "markdown",
        "tags": []
      },
      "source": "### 2.0 - Making predictions with the empty model"
    },
    {
      "cell_type": "markdown",
      "metadata": {
        "cell_id": "00024-f3c33427-7d7b-478d-a0ee-ddf3ff9cb809",
        "deepnote_cell_height": 133.53125,
        "deepnote_cell_type": "markdown",
        "tags": []
      },
      "source": "**2.1 -** If you were asked to predict the number of births on a randomly selected day from this dataset, what number of births would you predict? \n\nWhat if we used the empty model to predict the number of births? What is good about that prediction?"
    },
    {
      "cell_type": "code",
      "execution_count": null,
      "metadata": {
        "cell_id": "00025-ab7deab6-f1e4-4ad6-a3b7-bcd86d907e18",
        "deepnote_cell_height": 237.96875,
        "deepnote_cell_type": "code",
        "deepnote_output_heights": [
          21,
          131.9375,
          136
        ],
        "deepnote_to_be_reexecuted": false,
        "execution_millis": 33,
        "execution_start": 1659832941233,
        "output_cleared": true,
        "source_hash": "457c8a27",
        "tags": [],
        "trusted": true
      },
      "outputs": [],
      "source": "# average number of births per day\n\n# Use mean function\nmean(~ births, data = baby_days)\n\n# Or use favstats\nfavstats(~ births, data = baby_days)\n\n# Or use lm()\nlm(births ~ NULL, data = baby_days)"
    },
    {
      "cell_type": "markdown",
      "metadata": {
        "cell_id": "00026-c5e02a2f-d0a1-457c-bb22-bcfc7721b4c3",
        "deepnote_cell_height": 384.265625,
        "deepnote_cell_type": "markdown",
        "deepnote_to_be_reexecuted": false,
        "execution_millis": 159,
        "execution_start": 1650310618116,
        "source_hash": "e5a190cd",
        "tags": []
      },
      "source": "<div class=\"alert alert-block alert-warning\">\n\n<b>Sample Response (responses will vary):</b> \n\nStudents might have idiosyncratic predictions.\n\nThe empty model would predict the mean daily number of births ~ 19. This is because the mean balances the positive and negative prediction errors, so it presents a \"middle\" estimate of the number of births on any given day, one that is not too high nor too low.\n\n<b> Instructor Note:</b> \n\nIt's ok for responses to vary here. The key thing to emphasize is that we don't know *anything* about the data, other than it will be chosen at random from the dataset. Hopefully, with this prompt, many students arrive at using the mean to make their predictions. If they don't, we'll explore in the following exercises why they may have wanted to (or not wanted to) choose the mean.\n\n</div>"
    },
    {
      "cell_type": "markdown",
      "metadata": {
        "cell_id": "00027-3ede6c06-cb18-4729-b54f-97faba230236",
        "deepnote_cell_height": 147.734375,
        "deepnote_cell_type": "markdown",
        "tags": []
      },
      "source": "**2.2 -** Create and store an empty model for predicting the number of births per day as the variable `empty_model`. Then, display the fitted values of your model in GLM notation.\n\nHere is some markdown to get you started:\n\n$Y_i = b_0 + e_i$"
    },
    {
      "cell_type": "code",
      "execution_count": null,
      "metadata": {
        "cell_id": "00028-d0624447-6964-4361-9aec-e3702bee4b03",
        "deepnote_cell_height": 111.953125,
        "deepnote_cell_type": "code",
        "deepnote_output_heights": [
          136
        ],
        "deepnote_to_be_reexecuted": false,
        "execution_millis": 20,
        "execution_start": 1659832941262,
        "output_cleared": true,
        "source_hash": "f8ded9d1",
        "tags": [],
        "trusted": true
      },
      "outputs": [],
      "source": "# Empty model\nempty_model <- lm(births~NULL, data = baby_days)\nempty_model"
    },
    {
      "cell_type": "markdown",
      "metadata": {
        "cell_id": "00029-e23daf29-6660-4821-9d46-8519507abe04",
        "deepnote_cell_height": 166.53125,
        "deepnote_cell_type": "markdown",
        "tags": []
      },
      "source": "<div class=\"alert alert-block alert-warning\">\n\n<b>Sample Responses:</b> \n\n- $Y_i = 19.05 + e_i$\n\n- $births_i = 19.05 + e_i$\n\n</div>"
    },
    {
      "cell_type": "markdown",
      "metadata": {
        "cell_id": "00030-2e5ca5db-9edd-4527-b423-0a736b0057ea",
        "deepnote_cell_height": 155.9375,
        "deepnote_cell_type": "markdown",
        "tags": []
      },
      "source": "**2.3 -** The code block below draws a random day from the dataset and shows the number of births on that day. Imagine you made a prediction for the number of births on that day using your empty model. Spoiler alert -- your prediction will probably be wrong.\n\nWhat kind of error would this prediction make? What is the practical consequence of making this type of error?"
    },
    {
      "cell_type": "code",
      "execution_count": null,
      "metadata": {
        "cell_id": "00031-61ab241e-4bd0-4f20-a999-17520571554b",
        "deepnote_cell_height": 147.96875,
        "deepnote_cell_type": "code",
        "deepnote_output_heights": [
          132
        ],
        "deepnote_to_be_reexecuted": false,
        "execution_millis": 43,
        "execution_start": 1659832941283,
        "output_cleared": true,
        "source_hash": "4f9eee85",
        "tags": [],
        "trusted": true
      },
      "outputs": [],
      "source": "##Number of births from a random day\nset.seed(123) # set seed to have consistent results\nrandom_day <- sample(baby_days, 1) # select random row from dataset \n\nrandom_day"
    },
    {
      "cell_type": "code",
      "execution_count": null,
      "metadata": {
        "cell_id": "00032-3a1e2761-aa40-4623-8fb7-176b342d6bd1",
        "deepnote_cell_height": 183.953125,
        "deepnote_cell_type": "code",
        "deepnote_output_heights": [
          21,
          21
        ],
        "deepnote_to_be_reexecuted": false,
        "execution_millis": 4,
        "execution_start": 1659832941327,
        "output_cleared": true,
        "source_hash": "ac9c17ba",
        "tags": [],
        "trusted": true
      },
      "outputs": [],
      "source": "# They could calculate residual or just eyeball the amount\n\n# Sample Response\n28 - 19.05\n\n# Sample Response\nrandom_day$births - predict(empty_model)[1]"
    },
    {
      "cell_type": "markdown",
      "metadata": {
        "cell_id": "00033-0ba261bb-adc0-4f2c-94f5-2e1988f066c5",
        "deepnote_cell_height": 230.296875,
        "deepnote_cell_type": "markdown",
        "deepnote_to_be_reexecuted": false,
        "execution_millis": 184,
        "execution_start": 1650311462193,
        "source_hash": "bf4f4fc2",
        "tags": []
      },
      "source": "<div class=\"alert alert-block alert-warning\">\n\n<b>Sample Response:</b> \n\nWe underestimated the number of births on September 28th, 2006 by about 9 births. One practical consequence could be that we schedule too few doctors, nurses, and staff at the hospital (due to our faulty prediction), leading to too few staff to handle the number of births in the hospital that day. An overstretched staff could be dangerous for patients, especially those needing attention due to complications.\n\n</div>"
    },
    {
      "cell_type": "markdown",
      "metadata": {
        "cell_id": "00034-35d58fe5-50b5-4e15-9401-8ce4a08bb403",
        "deepnote_cell_height": 111.140625,
        "deepnote_cell_type": "markdown",
        "tags": []
      },
      "source": "**2.4 -** Find all the predictions and store them back into the data frame. Do the same thing with the residuals. \n\n(You might want to just call these new variables `predictions` and `residuals`.)"
    },
    {
      "cell_type": "code",
      "execution_count": null,
      "metadata": {
        "cell_id": "00035-0433891b-9275-488c-b8ed-7378132419b1",
        "deepnote_cell_height": 201.953125,
        "deepnote_cell_type": "code",
        "deepnote_output_heights": [
          277
        ],
        "deepnote_to_be_reexecuted": false,
        "execution_millis": 28,
        "execution_start": 1659832941330,
        "output_cleared": true,
        "source_hash": "ccdc2358",
        "tags": [],
        "trusted": true
      },
      "outputs": [],
      "source": "# Sample Response\nbaby_days$predictions <- predict(empty_model)\nbaby_days$residuals <- resid(empty_model)\n\n# The teacher may want to show the results like this to confirm\n# BIRTHS = MODEL PREDICTION + RESIDUAL\n# that leads back to the big idea: DATA = MODEL + ERROR\nhead(select(baby_days, births, predictions, residuals))"
    },
    {
      "cell_type": "markdown",
      "metadata": {
        "cell_id": "00036-3d5efbb7-fc3f-4c9c-89ef-ae2f2996ba4b",
        "deepnote_cell_height": 228.296875,
        "deepnote_cell_type": "markdown",
        "tags": []
      },
      "source": "<div class=\"alert alert-block alert-info\">\n\n<b> <font size=\"+1\">Key Question</font></b>\n\n<br>\n\n**2.5 -** If we sum up all the residuals, what would you expect to get? \n\nNow try it. Why do you get this result? Does this result justify using the mean to predict the number of births on a random day? Why or why not?\n\n</div>"
    },
    {
      "cell_type": "code",
      "execution_count": null,
      "metadata": {
        "cell_id": "00037-2771847f-de6e-4991-bea1-b932d6544d31",
        "deepnote_cell_height": 93.953125,
        "deepnote_cell_type": "code",
        "deepnote_output_heights": [
          null,
          21
        ],
        "deepnote_to_be_reexecuted": false,
        "execution_millis": 2,
        "execution_start": 1659832941401,
        "output_cleared": true,
        "source_hash": "d33c31f5",
        "tags": [],
        "trusted": true
      },
      "outputs": [],
      "source": "print(\"Sum of all residuals:\")\nsum(baby_days$residuals)"
    },
    {
      "cell_type": "markdown",
      "metadata": {
        "cell_id": "00038-a157e3e1-6595-4000-a133-fd43209607c9",
        "deepnote_cell_height": 544.015625,
        "deepnote_cell_type": "markdown",
        "tags": []
      },
      "source": "<div class=\"alert alert-block alert-warning\">\n\n<b>Sample Response:</b> \n\nThis number is basically zero (it's -0.0000000000022). We get zero because our model is the mean, and the mean perfectly balances the positive and negative errors in our dataset. \n\n- **Example response in favor of using the mean:** We get a \"balanced\" prediction, with systematically predicting too high or too low. This makes the mean a reasonable value for predicting the number of births on a random date.\n\n- **Example response against using the mean:**  The consequences of overpredicting the number of births (paying too many staff shifts for a night) are less severe than the consequences for underpredicting the number of births (having too few staff to handle the number of births, which can be dangerous). So, an ideal model *wouldn't* balance the positive and negative residuals. Rather, it would obtain negative residuals much more often (i.e. overpredict much more often).\n\n**Instructor Note:** \n\nStudents may need some guidance on the scientific notation. In addition, some students may have trouble conceptualizing what it means to add up *all* the residuals. As a scaffold, ask them to imagine that our dataset had only 3 dates. For each day, we predict the mean and find the residual. These residuals add to zero. What does that mean? Would you expect some positive and some negative errors? What are the practical consequences for each type of error?\n\n</div>"
    },
    {
      "cell_type": "markdown",
      "metadata": {
        "cell_id": "00039-c8b9ad40-c90d-47f4-88a4-4c8403bab83d",
        "deepnote_cell_height": 74.75,
        "deepnote_cell_type": "markdown",
        "tags": []
      },
      "source": "**2.6 -** Although the residuals may be balanced, they may also be large. Find the Sum of Squares (SS). Is it easy to interpret what this number means? Why or why not?"
    },
    {
      "cell_type": "code",
      "execution_count": null,
      "metadata": {
        "cell_id": "00040-5668a872-32d2-4c61-86ab-cb86b8362316",
        "deepnote_cell_height": 183.953125,
        "deepnote_cell_type": "code",
        "deepnote_output_heights": [
          21,
          175,
          132
        ],
        "deepnote_to_be_reexecuted": false,
        "execution_millis": 20,
        "execution_start": 1659832941402,
        "output_cleared": true,
        "source_hash": "4eab80c",
        "tags": [],
        "trusted": true
      },
      "outputs": [],
      "source": "# Sample Responses\n\nsum(baby_days$residuals^2)\n\nsupernova(empty_model)\n\nanova(empty_model)"
    },
    {
      "cell_type": "markdown",
      "metadata": {
        "cell_id": "00041-e701553b-579c-4fe4-bd5a-e3523ef402b3",
        "deepnote_cell_height": 185.515625,
        "deepnote_cell_type": "markdown",
        "tags": []
      },
      "source": "<div class=\"alert alert-block alert-warning\">\n\n<b>Sample Response:</b> \n\nThis number represents the sum of all the residuals squared. It's difficult to interpret: the units are now not births but, rather, births squared. In addition, the sum total depends not only on the amount of error per day, but also the amount of days in our dataset.\n\n</div>"
    },
    {
      "cell_type": "markdown",
      "metadata": {
        "cell_id": "00042-cfe94a47-f1cc-43dd-b811-12c33f779756",
        "deepnote_cell_height": 74.75,
        "deepnote_cell_type": "markdown",
        "tags": []
      },
      "source": "**2.7 -** A more interpretable measure of the \"typical\" error amount is the standard deviation. Calculate and interpret the standard deviation of births."
    },
    {
      "cell_type": "code",
      "execution_count": null,
      "metadata": {
        "cell_id": "00043-d3c87f73-89d6-4ec4-a5da-6610635ce092",
        "deepnote_cell_height": 147.96875,
        "deepnote_cell_type": "code",
        "deepnote_output_heights": [
          21,
          131.9375
        ],
        "deepnote_to_be_reexecuted": false,
        "execution_millis": 2,
        "execution_start": 1659832941469,
        "output_cleared": true,
        "source_hash": "81ef95e9",
        "tags": [],
        "trusted": true
      },
      "outputs": [],
      "source": "# Sample Responses\n\nsd(~ births, data = baby_days)\nfavstats(~ births, data = baby_days)\n"
    },
    {
      "cell_type": "markdown",
      "metadata": {
        "cell_id": "00044-566260e4-244f-4b97-a734-3a55cd6f5bab",
        "deepnote_cell_height": 429.046875,
        "deepnote_cell_type": "markdown",
        "tags": []
      },
      "source": "<div class=\"alert alert-block alert-warning\">\n\n<b>Sample Response:</b> \n\nOur model's predictions are typically off by about 7 births per day.\n\nNote: Some students might consider getting the mean of the absolute value of the residuals. That's actually a great idea! But the standard deviation (by virtue of squaring first), tends to make very big residuals count much more than the mean of absolute residuals. That's why the standard deviation \"penalizes\" errors that are bigger. That might be reasonable to do because in a model, you are probably okay with small errors but you really want to penalize very large errors. Also there is a lot about the whole idea of squaring that is going to help us make a lot of statistics ideas fit together more elegantly! We'll talk about that more later as we parse SS and learn about PRE and other statistics.\n\nHere is the code for that other statistic: `mean(~ abs(residuals), data = baby_days)`\n\nGiven that it doesn't penalize \"large residuals\" as much as standard deviation, you might consider asking students if this value will be smaller/larger than the standard deviation.\n</div>"
    },
    {
      "cell_type": "markdown",
      "metadata": {
        "cell_id": "4a2b6bf0d21043f98d8bce304dfd932d",
        "deepnote_cell_height": 115.9375,
        "deepnote_cell_type": "markdown",
        "tags": []
      },
      "source": "<div class=\"alert alert-block alert-success\">\n\n### 3.0 - Approximate Time:  20-25 mins\n\n</div>"
    },
    {
      "cell_type": "markdown",
      "metadata": {
        "cell_id": "00045-7c65aca1-e953-44e4-ad27-ea26a8085086",
        "deepnote_cell_height": 61.953125,
        "deepnote_cell_type": "markdown",
        "tags": []
      },
      "source": "### 3.0 - Making Conditional Predictions"
    },
    {
      "cell_type": "markdown",
      "metadata": {
        "cell_id": "00047-109dcb5d-10c4-475c-a335-d34bb8be60cb",
        "deepnote_cell_height": 191.90625,
        "deepnote_cell_type": "markdown",
        "tags": []
      },
      "source": "<div class=\"alert alert-block alert-info\">\n\n<b> <font size=\"+1\">Key Question</font></b>\n\n<br>\n\n\n**3.1 -** Which dates had the largest residuals (either positive or negative)? What do you notice about these dates? Why is our model so wrong on these days?\n\n</div>"
    },
    {
      "cell_type": "code",
      "execution_count": null,
      "metadata": {
        "cell_id": "00048-a7f44190-a5e5-4a04-a0f5-5f80363a15d5",
        "deepnote_cell_height": 93.953125,
        "deepnote_cell_type": "code",
        "deepnote_output_heights": [
          611
        ],
        "deepnote_to_be_reexecuted": false,
        "execution_millis": 55,
        "execution_start": 1659832941470,
        "output_cleared": true,
        "source_hash": "a94acc53",
        "tags": [],
        "trusted": true
      },
      "outputs": [],
      "source": "# Sample Response\narrange(baby_days, desc(abs(residuals)))"
    },
    {
      "cell_type": "markdown",
      "metadata": {
        "cell_id": "00049-7b23f8d4-cd40-452b-b922-bd8018858922",
        "deepnote_cell_height": 339.46875,
        "deepnote_cell_type": "markdown",
        "tags": []
      },
      "source": "<div class=\"alert alert-block alert-warning\">\n\n**Sample Response:** \n\nOf the top 10 highest magnitude residuals, most are December 25th - i.e. Christmas. It could be that many hospital staff may not be working on Christmas, so people don't get procedures (like C-Sections) on this day. Students might also say things like \"moms don't want their babies to have a Christmas birthday.\" \n\nWhatever the case might be, the low number of births on Christmas leads to overestimates by our model. \n\n\n**Note to Instructors:**\n\nYou may need to nudge students into the idea of arranging by the *absolute* residuals.\n</div>"
    },
    {
      "cell_type": "markdown",
      "metadata": {
        "cell_id": "00050-8c326f52-3851-478b-99aa-8c44367a2ad6",
        "deepnote_cell_height": 74.75,
        "deepnote_cell_type": "markdown",
        "tags": []
      },
      "source": "**3.2 -** Earlier, we noticed that births on the weekends tended to vary from births during the week. Let's explore this further. Make a new variable that says whether the day is a weekend or not."
    },
    {
      "cell_type": "code",
      "execution_count": null,
      "metadata": {
        "cell_id": "00051-8145fe8f-14f9-4232-b9fb-f068d94dd10c",
        "deepnote_cell_height": 332.96875,
        "deepnote_cell_type": "code",
        "deepnote_output_heights": [
          276.90625
        ],
        "deepnote_to_be_reexecuted": false,
        "execution_millis": 2,
        "execution_start": 1659832941569,
        "output_cleared": true,
        "source_hash": "1c65592b",
        "tags": [],
        "trusted": true
      },
      "outputs": [],
      "source": "# Sample Response\nbaby_days$weekend1 <- baby_days$day_of_week > 5\n\n# Sample Response\nbaby_days$weekend2 <- (baby_days$day_of_week == 6) | (baby_days$day_of_week == 7) \n\n# Sample Response\nbaby_days <- baby_days %>%\n    mutate(weekend3 = day_of_week > 5)\n\n# Sample Response\nbaby_days <- baby_days %>%\n    mutate(weekend4 = ifelse(day_of_week > 5, 'weekend', 'weekday'))\n\nhead(baby_days)"
    },
    {
      "cell_type": "markdown",
      "metadata": {
        "cell_id": "00052-f7346b97-b54c-4185-b393-3acaed535395",
        "deepnote_cell_height": 74.75,
        "deepnote_cell_type": "markdown",
        "deepnote_to_be_reexecuted": false,
        "execution_millis": 17,
        "execution_start": 1650916570703,
        "source_hash": "fa514dda",
        "tags": []
      },
      "source": "**3.3 -** Now visualize and find the mean number of births per day, for weekends and for weekdays. What do you notice?"
    },
    {
      "cell_type": "code",
      "execution_count": null,
      "metadata": {
        "allow_embed": false,
        "cell_id": "e1a7b7042651419b892743abbd24ff78",
        "deepnote_cell_height": 165.953125,
        "deepnote_cell_type": "code",
        "deepnote_output_heights": [
          160.9375,
          29.1875,
          445.015625
        ],
        "deepnote_to_be_reexecuted": false,
        "execution_millis": 431,
        "execution_start": 1659835174731,
        "output_cleared": true,
        "source_hash": "dbbef0fe",
        "tags": [],
        "trusted": true
      },
      "outputs": [],
      "source": "# Sample Responses\nfavstats(births~weekend4, data = baby_days)\n\nmean(births~weekend4, data = baby_days)\n\ngf_jitter(births~weekend4, data = baby_days)"
    },
    {
      "cell_type": "markdown",
      "metadata": {
        "cell_id": "00054-563c4e6e-e600-48ab-9d93-66c1708c548d",
        "deepnote_cell_height": 163.125,
        "deepnote_cell_type": "markdown",
        "tags": []
      },
      "source": "<div class=\"alert alert-block alert-warning\">\n\n<b>Sample Response:</b> \n\nClearly, we have fewer births per day on weekends on average. This may be due to special procedures (like C-Sections) being scheduled on weekdays.\n\n</div>"
    },
    {
      "cell_type": "markdown",
      "metadata": {
        "cell_id": "00055-df6a7047-89e4-43d2-a568-07eb822c8651",
        "deepnote_cell_height": 74.75,
        "deepnote_cell_type": "markdown",
        "tags": []
      },
      "source": "**3.4 -** Run the following code, which creates a new version of the dataset (`Dec_12_2014`) that includes all the dates up to (but not including) Saturday, December 13th, 2014."
    },
    {
      "cell_type": "code",
      "execution_count": null,
      "metadata": {
        "cell_id": "00056-91489b0c-d278-4a91-9138-a270da879810",
        "deepnote_cell_height": 93.953125,
        "deepnote_cell_type": "code",
        "deepnote_output_heights": [
          276.90625
        ],
        "deepnote_to_be_reexecuted": false,
        "execution_millis": 48,
        "execution_start": 1659835199340,
        "output_cleared": true,
        "source_hash": "d5e89213",
        "tags": [],
        "trusted": true
      },
      "outputs": [],
      "source": "Dec_12_2014 <- baby_days[1:5460,]\nhead(Dec_12_2014)"
    },
    {
      "cell_type": "markdown",
      "metadata": {
        "cell_id": "00057-9738e8f9-0917-4323-9975-b348adeb396b",
        "deepnote_cell_height": 272.6875,
        "deepnote_cell_type": "markdown",
        "tags": []
      },
      "source": "<div class=\"alert alert-block alert-info\">\n\n<b> <font size=\"+1\">Key Question</font></b>\n\n<br>\n\n#### Class Competition\n\n**3.5 -** Using only the data in `Dec_12_2014`, predict the number of births on Saturday, December 13th, 2014. This is the date after the dataset ends. Note: Your prediction **must** be based on a mean of some subset (or full set) of data points in `Dec_12_2014`. Whoever has the lowest magnitude error wins the class competition! No cheating.\n\n</div>"
    },
    {
      "cell_type": "code",
      "execution_count": null,
      "metadata": {
        "cell_id": "00058-610d5fa2-0c97-414b-b4f5-eeedc518ad0d",
        "deepnote_cell_height": 291.953125,
        "deepnote_cell_type": "code",
        "deepnote_output_heights": [
          null,
          21.1875,
          null,
          21.1875,
          null,
          21.1875
        ],
        "deepnote_to_be_reexecuted": false,
        "execution_millis": 426,
        "execution_start": 1659835231991,
        "output_cleared": true,
        "source_hash": "7beddb1e",
        "tags": [],
        "trusted": true
      },
      "outputs": [],
      "source": "## Sample Responses\n\n# Example using full dataset\nprint('Mean births using full dataset')\nmean(Dec_12_2014$births)\n\n# Example using weekend dates\nprint('Mean births among weekend days in the dataset')\nmean(filter(Dec_12_2014, weekend4 == \"weekend\")$births)\n\n# Example using December 13th dates\nprint('Mean births among all Dec 13ths in the dataset')\nmean(filter(Dec_12_2014, month == 12 & date_of_month == 13)$births)"
    },
    {
      "cell_type": "markdown",
      "metadata": {
        "cell_id": "00059-c0425124-4f6d-48b5-9112-03a5b9d08e8a",
        "deepnote_cell_height": 465.828125,
        "deepnote_cell_type": "markdown",
        "tags": []
      },
      "source": "<div class=\"alert alert-block alert-warning\">\n\n<b>Sample Responses:</b> \n\n- I used the mean number of births among all values in the new dataset - 19. I used this for my prediction because I wanted to have as many data values as possible informing my prediction.\n\n- I used the mean number of births among weekend days - 9. I used this for my prediction because I knew that there was large variation between weekend and weekday birth numbers, and the date we're predicting falls on a Saturday.\n\n- I used the mean number of births among all December 13th dates - 19. I used this for my prediction because we are finding the number of births on December 13th, so we may as well use all the historical Decemeber 13th data.\n\n<b>Instructor Note:</b> \n\nAs shown before, much of the variation in the number of births can be explained by weekend vs weekday. Since the new date falls on a Saturday, methods that generally find means of weekend dates will be most effective (they'll tend to predict lower numbers of births, and the actual number of births on December 13th, 2014 was quite low - 11).\n\n</div>"
    },
    {
      "cell_type": "markdown",
      "metadata": {
        "cell_id": "00060-866c5546-27a4-488b-834a-82b03559a7b4",
        "deepnote_cell_height": 214.296875,
        "deepnote_cell_type": "markdown",
        "tags": []
      },
      "source": "<div class=\"alert alert-block alert-info\">\n\n<b> <font size=\"+1\">Key Question</font></b>\n\n<br>\n\n**3.6 -** The instructor will now reveal the true number of births on Saturday, December 13th, 2014. Reflect on the error from your prediction. What direction was the error? How high was the error in magnitude? Why do you think this occurred?\n\n</div>"
    },
    {
      "cell_type": "markdown",
      "metadata": {
        "cell_id": "00061-8646637b-1eb1-4a02-a4e3-cac0f65cf09e",
        "deepnote_cell_height": 311.484375,
        "deepnote_cell_type": "markdown",
        "tags": []
      },
      "source": "<div class=\"alert alert-block alert-warning\">\n\n*Responses will vary.*\n\n\n<b>Instructor Note:</b> \n\nThe true number of births on December 13th, 2014 was 11. Presumably, students who took the weekend vs. weekday factor into account will perform the best. It's important to emphasize *why* they did the best - we see that a lot of variation in our data can be explained by weekenday vs weekend. So, using that variable to inform our prediction will lead to better predictions. This is more important than the number of data values included in our model. Emphasizing this point will lead well into future chapters, where we use different predictive variables to explain variation in the response variable.\n\n</div>"
    }
  ],
  "metadata": {
    "deepnote": {
      "is_reactive": false
    },
    "deepnote_execution_queue": [],
    "deepnote_notebook_id": "a7a59ab9-c869-4472-be47-c615b881a28c",
    "kernelspec": {
      "display_name": "R",
      "language": "R",
      "name": "ir"
    },
    "language_info": {
      "codemirror_mode": "r",
      "file_extension": ".r",
      "mimetype": "text/x-r-source",
      "name": "R",
      "pygments_lexer": "r",
      "version": "4.0.3"
    },
    "nbsimplegrader": {
      "publish_config": {
        "classes": [],
        "options": [],
        "tools": []
      }
    }
  },
  "nbformat": 4,
  "nbformat_minor": 2
}