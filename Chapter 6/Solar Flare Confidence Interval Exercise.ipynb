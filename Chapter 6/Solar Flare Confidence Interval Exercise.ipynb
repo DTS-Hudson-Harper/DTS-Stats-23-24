{
 "cells": [
  {
   "cell_type": "markdown",
   "id": "bb90fafd-e228-4725-b88d-00fce147bb65",
   "metadata": {},
   "source": [
    "# Solar Flare Confidence Interval Exercise\n",
    "\n",
    "In this notebook, you're going to examine data about solar flares and use confidence intervals to calculate the average duration of solar flares. You will also examine the impact of non-normally distributed data on the calculation of confidence intervals using functions like confint.\n",
    "\n",
    "## [From Kaggle](https://www.kaggle.com/datasets/khsamaha/solar-flares-rhessi)\n",
    "\n",
    "Reuven Ramaty High Energy Solar Spectroscopic Imager (RHESSI, originally High Energy Solar Spectroscopic Imager or HESSI) is a NASA solar flare observatory. It is the sixth mission in the Small Explorer program, selected in October 1997 and launched on 5 February 2002. Its primary mission is to explore the physics of particle acceleration and energy release in solar flares.\n",
    "\n",
    "HESSI was renamed to RHESSI on 29 March 2002 in honor of Reuven Ramaty, a pioneer in the area of high energy solar physics. RHESSI is the first space mission named after a NASA scientist. RHESSI was built by Spectrum Astro for Goddard Space Flight Center and is operated by the Space Sciences Laboratory in Berkeley, California. The principal investigator from 2002 to 2012 was Robert Lin, who was succeeded by Säm Krucker.\n",
    "\n",
    "**To learn more about this dataset, be sure to click on the link above and read about the contents of the data.**"
   ]
  },
  {
   "cell_type": "markdown",
   "id": "02fbb652-a258-4de9-bb96-b2ab65256661",
   "metadata": {},
   "source": [
    "## Be sure to run this code first!"
   ]
  },
  {
   "cell_type": "code",
   "execution_count": 34,
   "id": "41b9c5c8-3583-45b5-9757-26affde5813c",
   "metadata": {},
   "outputs": [],
   "source": [
    "suppressPackageStartupMessages({\n",
    "    library(coursekata)\n",
    "    library(lubridate)\n",
    "    library(dplyr)\n",
    "})\n",
    "\n",
    "options(repr.plot.width=12, repr.plot.height=9)"
   ]
  },
  {
   "cell_type": "code",
   "execution_count": 69,
   "id": "d46691ca-f7ce-4b43-850d-535ea054285a",
   "metadata": {},
   "outputs": [],
   "source": [
    "solar_flares <- read.csv(\"https://raw.githubusercontent.com/DTS-Hudson-Harper/DTS-Stats-23-24/main/Chapter%206/hessi.solar.flare.UP_To_2018.csv\") %>%\n",
    "  mutate(start_datetime = as.POSIXct(paste(start.date, start.time), format=\"%Y-%m-%d %H:%M:%S\")) %>%\n",
    "  arrange(start_datetime) %>%\n",
    "  mutate(s.to.next.flare = as.integer(lead(start_datetime) - start_datetime)) %>%\n",
    "  sample(10000)"
   ]
  },
  {
   "cell_type": "markdown",
   "id": "0c40266e-239e-48bb-8ba5-9fc2afab3323",
   "metadata": {},
   "source": [
    "## Instructions\n",
    "\n",
    "Calculate a confidence interval for the average duration of solar flares, *duration.s*, in *solar_flares* using both bootstrapping and confint. Compare your results. Be sure to find the upper and lower bounds of your confidence interval from your bootstrapped sampling distribution. You can do this using the quantile function:\n",
    "\n",
    "```quantile(sdob0$b0, c(0.025,0.975))```"
   ]
  },
  {
   "cell_type": "code",
   "execution_count": null,
   "id": "9a283532-23f3-4f10-88e2-3517f5da06b6",
   "metadata": {},
   "outputs": [],
   "source": []
  },
  {
   "cell_type": "markdown",
   "id": "0f284d60-41a7-48f3-b551-b6e921b76e93",
   "metadata": {},
   "source": [
    "Now, do the same for the average time between solar flares in seconds, *s.to.next.flare*."
   ]
  },
  {
   "cell_type": "code",
   "execution_count": null,
   "id": "10783f43-0755-4b83-b167-1f0bbd4f934d",
   "metadata": {},
   "outputs": [],
   "source": []
  },
  {
   "cell_type": "markdown",
   "id": "3d76c9f6-dad7-4466-ba95-b6af81ec7a41",
   "metadata": {},
   "source": [
    "## Question\n",
    "\n",
    "What is different between your confidence intervals for these two variables? What does it tell us about the use of bootstrapping vs using functions like confint?"
   ]
  },
  {
   "cell_type": "markdown",
   "id": "3af4fa71-1a47-4741-b457-16344866e3c7",
   "metadata": {},
   "source": []
  },
  {
   "cell_type": "markdown",
   "id": "8a1a9cc8-6d3c-4b9d-b99a-341571cb7b08",
   "metadata": {},
   "source": [
    "## Challenge\n",
    "\n",
    "Use this data to recreate Hudson's demo of 20 confidence intervals based on multiple resamples of the original data."
   ]
  },
  {
   "cell_type": "code",
   "execution_count": null,
   "id": "e706c95f-09ef-44a7-aa7d-7a60d58bbfa8",
   "metadata": {},
   "outputs": [],
   "source": []
  }
 ],
 "metadata": {
  "kernelspec": {
   "display_name": "R",
   "language": "R",
   "name": "ir"
  },
  "language_info": {
   "codemirror_mode": "r",
   "file_extension": ".r",
   "mimetype": "text/x-r-source",
   "name": "R",
   "pygments_lexer": "r",
   "version": "4.1.2"
  }
 },
 "nbformat": 4,
 "nbformat_minor": 5
}
