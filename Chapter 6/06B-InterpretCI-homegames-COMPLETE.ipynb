{
  "cells": [
    {
      "cell_type": "markdown",
      "metadata": {
        "cell_id": "355b41bc-1aea-44d1-afe7-f8e57b7b4269",
        "deepnote_cell_height": 224.3125,
        "deepnote_cell_type": "markdown",
        "tags": []
      },
      "source": "<div class=\"alert alert-block alert-danger\">\n\n# 6B: The Effect of Being at Home (COMPLETE)\n\n**Lesson assumes students have read up through page: 6.5**\n    \n</div>"
    },
    {
      "cell_type": "markdown",
      "metadata": {
        "cell_id": "00001-70197d10-32e4-4dbf-8fdf-7f1e514f7026",
        "deepnote_cell_height": 163.9375,
        "deepnote_cell_type": "markdown",
        "tags": []
      },
      "source": "<div class=\"alert alert-block alert-success\">\n\n## Approximate time to complete Notebook: 55-65 Mins\n    \n</div>"
    },
    {
      "cell_type": "code",
      "execution_count": null,
      "metadata": {
        "cell_id": "00002-61b85248-c3e1-41e0-9e50-606e504aba87",
        "deepnote_cell_height": 129.953125,
        "deepnote_cell_type": "code",
        "deepnote_to_be_reexecuted": false,
        "execution_millis": 2957,
        "execution_start": 1644695401115,
        "nbsimplegrader": {
          "config_key": "code.run-only",
          "editable": false,
          "label": "Code: Run-Only",
          "respondable": false,
          "response": null,
          "runnable": true,
          "type": "code"
        },
        "output_cleared": true,
        "owner_user_id": "23d85493-7ed1-49a4-baa7-630eaab08193",
        "source_hash": "36d47c4",
        "trusted": true
      },
      "outputs": [],
      "source": "# Load the CourseKata library\nsuppressPackageStartupMessages({\n    library(coursekata)\n})"
    },
    {
      "cell_type": "markdown",
      "metadata": {
        "cell_id": "00003-b44971bc-21df-4291-81e4-2151b94552cc",
        "deepnote_cell_height": 974.03125,
        "deepnote_cell_type": "markdown",
        "tags": []
      },
      "source": "We’re going to look at a dataframe called `MiamiHeat`. These are the game log data for the Miami Heat basketball team in 2010-11. \n\nHere are the variables in this dataframe:\n\n- `MDY` Date the game was played as a date object\n- `Date` Date the game was played as a character string\n- `Location` Away or Home\n- `Opp` Opponent team\n- `Win` Game result: L or W\n- `FG` Field goals made\n- `FGA` Field goals attempted\n- `FG3` Three-point field goals made\n- `FG3A` Three-point field goals attempted\n- `FT` Free throws made\n- `FTA` Free throws attempted\n- `Rebounds` Total rebounds\n- `OffReb` Offensive rebounds\n- `Assists` Number of assists\n- `Steals` Number of steals\n- `Blocks` Number of shots blocked\n- `Turnovers` Number of turnovers\n- `Fouls` Number of fouls\n- `Points` Number of points scored\n- `OppFG` Opponent's field goals made\n- `OppFGA` Opponent's Field goals attempted\n- `OppFG3` Opponent's Three-point field goals made\n- `OppFG3A` Opponent's Three-point field goals attempted\n- `OppFT` Opponent's Free throws made\n- `OppFTA` Opponent's Free throws attempted\n- `OppOffReb` Opponent's Total rebounds\n- `OppRebounds` Opponent's Offensive rebounds\n- `OppAssists` Opponent's assists\n- `OppSteals` Opponent's steals\n- `OppBlocks` Opponent's shots blocked\n- `OppTurnovers` Opponent's turnovers\n- `OppFouls` Opponent's fouls\n- `OppPoints` Opponent's points scored"
    },
    {
      "cell_type": "markdown",
      "metadata": {
        "cell_id": "00004-29d714df-f84b-4801-bf05-ac2590e6f4b8",
        "deepnote_cell_height": 115.9375,
        "deepnote_cell_type": "markdown",
        "tags": []
      },
      "source": "<div class=\"alert alert-block alert-success\">\n\n### 1.0 - Approximate Time: 5-8 mins\n    \n</div>"
    },
    {
      "cell_type": "markdown",
      "metadata": {
        "cell_id": "00005-9ba28143-c85e-47b9-817c-9a5f5829bfab",
        "deepnote_cell_height": 69.96875,
        "deepnote_cell_type": "markdown",
        "tags": []
      },
      "source": "## 1.0 - Explore the Home Game Advantage"
    },
    {
      "cell_type": "markdown",
      "metadata": {
        "cell_id": "00006-27f06eca-4059-486a-82b0-3fa4ed867bad",
        "deepnote_cell_height": 74.75,
        "deepnote_cell_type": "markdown",
        "tags": []
      },
      "source": "1.1 - Let's explore the idea that playing at home would help\nthe Miami Heat score more points. Write this idea as a word equation."
    },
    {
      "cell_type": "markdown",
      "metadata": {
        "cell_id": "00007-70d636cf-f8de-44a3-b798-b925e52e9699",
        "deepnote_cell_height": 177.109375,
        "deepnote_cell_type": "markdown",
        "tags": []
      },
      "source": "<div class=\"alert alert-block alert-warning\">\n\n**Sample Response**\n\nPoints = Location + Other Stuff\n\nHopefully students no longer say Points = Home + Away + Other Stuff by now... \n    \n</div>"
    },
    {
      "cell_type": "markdown",
      "metadata": {
        "cell_id": "00008-d317fa50-c30f-4f08-afa1-26c013171b71",
        "deepnote_cell_height": 74.75,
        "deepnote_cell_type": "markdown",
        "tags": []
      },
      "source": "1.2 - Explore the variation with a visualization. Does it seem like they score more\nwhen playing at home?"
    },
    {
      "cell_type": "code",
      "execution_count": null,
      "metadata": {
        "cell_id": "00009-5425af61-59f3-49a5-bc78-ab6f42265a7c",
        "deepnote_cell_height": 206.953125,
        "deepnote_cell_type": "code",
        "deepnote_to_be_reexecuted": false,
        "execution_millis": 1153,
        "execution_start": 1644695404137,
        "output_cleared": true,
        "source_hash": "b4dda06c",
        "tags": [],
        "trusted": true
      },
      "outputs": [],
      "source": "# Sample Histograms with boxplots \ngf_histogram(~ Points, data = MiamiHeat, color = \"firebrick\", fill = \"goldenrod1\") %>%\ngf_facet_grid(Location ~ .)%>%\ngf_boxplot(color = \"black\")\n\n# Sample boxplots with jitter\ngf_boxplot(Points ~ Location, data = MiamiHeat, color = \"firebrick\", fill = \"goldenrod1\") %>%\ngf_jitter(color = \"black\")"
    },
    {
      "cell_type": "markdown",
      "metadata": {
        "cell_id": "00010-f40ca59e-7b6d-4f0c-86cd-a94b0c270c31",
        "deepnote_cell_height": 236.296875,
        "deepnote_cell_type": "markdown",
        "tags": []
      },
      "source": "<div class=\"alert alert-block alert-warning\">\n\n**Sample Responses**\n\n- Some students still fixate on the highest scoring game (being at home)\n- Similar center and spread (although boxplots might lead students to say home games have a little more variation; histograms may lead students to focus on the \"spikes\" in the data)\n- Overall, not a big \"shift\" between the two distributions; more similar in values than different; not as though the home games are generally higher in points than the away games\n    \n</div>"
    },
    {
      "cell_type": "markdown",
      "metadata": {
        "cell_id": "00011-131307df-bf63-48fa-8a5e-7d1fb33177e2",
        "deepnote_cell_height": 141.9375,
        "deepnote_cell_type": "markdown",
        "tags": []
      },
      "source": "1.3 - One of the faceted histograms below is the empirical sample. The\nothers are created from a random DGP where there is no relationship between\n`Points` and `Location` (with `shuffle`). Notice that it is \nreally hard to tell which one is the real sample! What makes all\nthese faceted histograms \"similar\"?"
    },
    {
      "cell_type": "markdown",
      "metadata": {
        "cell_id": "00012-cc3bee10-d206-4c93-8ea2-7809e065eb62",
        "deepnote_cell_height": 221.90625,
        "deepnote_cell_type": "markdown",
        "tags": []
      },
      "source": "<div class=\"alert alert-block alert-info\">\n\n***Note for teachers***: \n\n= The point of this exercise is that it is hard to tell. Students are sometimes discouraged that they can't find which one is the real data because they all look \"similar\". \n- They look superficially different from default histograms because bins = 10. If they really want to know, it's #2.\n    \n</div>"
    },
    {
      "cell_type": "markdown",
      "metadata": {
        "cell_id": "00013-8682feb1-1a2c-4eaf-b631-0a7a4b53848c",
        "deepnote_cell_height": 713.625,
        "deepnote_cell_type": "markdown",
        "tags": []
      },
      "source": "<img src=\"https://i.postimg.cc/D7mKmtN6/10-B-Histograms.png\" title=\"a 3x3 grid of faceted histograms\" />"
    },
    {
      "cell_type": "markdown",
      "metadata": {
        "cell_id": "00014-7229a3d7-d7e6-4f14-a967-3dfac9e01ac2",
        "deepnote_cell_height": 221.90625,
        "deepnote_cell_type": "markdown",
        "tags": []
      },
      "source": "<div class=\"alert alert-block alert-warning\">\n\n**Sample Response**\n\nThey look \"similar\" because `Location` doesn't help you predict which games have higher or lower scores. \n\nThe shape/center/spreads are all roughly the same between home and away games in all of these facted histograms.\n    \n</div>"
    },
    {
      "cell_type": "markdown",
      "metadata": {
        "cell_id": "00015-0c8c2178-e3e7-4ebb-a046-66c40f4d2d14",
        "deepnote_cell_height": 115.9375,
        "deepnote_cell_type": "markdown",
        "tags": []
      },
      "source": "<div class=\"alert alert-block alert-success\">\n\n### 2.0 - Approximate Time: 8-10 mins\n    \n</div>"
    },
    {
      "cell_type": "markdown",
      "metadata": {
        "cell_id": "00016-5944b5c4-6004-4ff8-abaa-67d6a8fa2bbc",
        "deepnote_cell_height": 69.96875,
        "deepnote_cell_type": "markdown",
        "tags": []
      },
      "source": "## 2.0 - Modeling Variation"
    },
    {
      "cell_type": "markdown",
      "metadata": {
        "cell_id": "00017-6a882a11-3a7f-4a0e-8591-1109e4cbc17a",
        "deepnote_cell_height": 133.75,
        "deepnote_cell_type": "markdown",
        "tags": []
      },
      "source": "2.1 - Now that we know a lot more about statistics, we can actually create a model of \nPOINTS = LOCATION + OTHER STUFF. Write the best fitting model in \nGLM notation here. \n\n$$Y_i = ... + e_i$$"
    },
    {
      "cell_type": "code",
      "execution_count": null,
      "metadata": {
        "cell_id": "00018-3aeeaa32-1269-4e0a-907f-4aa82307e326",
        "deepnote_cell_height": 111.953125,
        "deepnote_cell_type": "code",
        "deepnote_to_be_reexecuted": false,
        "execution_millis": 122,
        "execution_start": 1644695405172,
        "output_cleared": true,
        "source_hash": "a850af21",
        "tags": [],
        "trusted": true
      },
      "outputs": [],
      "source": "# Fit the model\nloc_model <- lm(Points ~ Location, data = MiamiHeat)\nloc_model"
    },
    {
      "cell_type": "markdown",
      "metadata": {
        "cell_id": "00019-099bc730-4d3f-4c5d-9792-3b9c0ab92d82",
        "deepnote_cell_height": 177.53125,
        "deepnote_cell_type": "markdown",
        "tags": []
      },
      "source": "<div class=\"alert alert-block alert-warning\">\n\n**Sample Response**\n\n$$Points_i = 101 + 2.12 Location_i + e_i$$\n\n$$Y_i = 101 + 2.12X_i + e_i$$\n    \n</div>"
    },
    {
      "cell_type": "markdown",
      "metadata": {
        "cell_id": "00020-470de6a2-d318-42a2-bc43-f72a6bd00589",
        "deepnote_cell_height": 74.75,
        "deepnote_cell_type": "markdown",
        "tags": []
      },
      "source": "2.2 - Interpret the best fitting estimates by connecting the numbers\nto the visualization below."
    },
    {
      "cell_type": "code",
      "execution_count": null,
      "metadata": {
        "cell_id": "00021-c9a7b650-af1e-4620-95f7-82f7eeb40d57",
        "deepnote_cell_height": 111.953125,
        "deepnote_cell_type": "code",
        "deepnote_to_be_reexecuted": false,
        "execution_millis": 697,
        "execution_start": 1644695405237,
        "output_cleared": true,
        "source_hash": "5c84708",
        "tags": [],
        "trusted": true
      },
      "outputs": [],
      "source": "gf_histogram(~ Points, data = MiamiHeat, alpha = 1) %>%\ngf_facet_grid(Location ~ .) %>%\ngf_model(Points~Location, data = MiamiHeat)"
    },
    {
      "cell_type": "markdown",
      "metadata": {
        "cell_id": "00022-7f047203-6b6f-4322-b8a9-27b92888d419",
        "deepnote_cell_height": 211.3125,
        "deepnote_cell_type": "markdown",
        "tags": []
      },
      "source": "<div class=\"alert alert-block alert-warning\">\n\n**Sample Response**\n\n- $b_0 = 101$; mean number of `Points` for away games; represented by the mean line in the top histogram\n\n- $b_1 = 2.12$; number of `Points` to add to the mean of away games in order to get the mean of home games (103.12); the horizontal distance between the two mean lines in the histograms\n    \n</div>"
    },
    {
      "cell_type": "markdown",
      "metadata": {
        "cell_id": "00023-2600a1a5-e2ff-411b-89f2-a788fc09d5d3",
        "deepnote_cell_height": 97.34375,
        "deepnote_cell_type": "markdown",
        "tags": []
      },
      "source": "2.3 - When we look at a visualization (any visualization! not just this one!) \nand think, *\"Yeah, this one looks like some of the variation is explained,\"*\nwhich parameter estimate best represents the “shift”? $b_0$ or $b_1$?\n"
    },
    {
      "cell_type": "markdown",
      "metadata": {
        "cell_id": "00024-b93f649d-03e8-4294-9694-4e487827fd1f",
        "deepnote_cell_height": 140.9375,
        "deepnote_cell_type": "markdown",
        "tags": []
      },
      "source": "<div class=\"alert alert-block alert-warning\">\n\n**Sample Response**\n\n$b_1$ represents the \"shift\".\n    \n</div>"
    },
    {
      "cell_type": "markdown",
      "metadata": {
        "cell_id": "00025-cc48564c-3b4d-4a18-94fa-0a3b5ffddb9c",
        "deepnote_cell_height": 97.34375,
        "deepnote_cell_type": "markdown",
        "tags": []
      },
      "source": "2.4 - Estimate that parameter in the **shuffled** histograms below. \nWhen you have randomly shuffled data into Home and Away groups, \nwhat are the $b_1$s typically like? \n"
    },
    {
      "cell_type": "markdown",
      "metadata": {
        "cell_id": "00026-29ce8a99-fc90-4749-aba4-790efa9a4a13",
        "deepnote_cell_height": 713.65625,
        "deepnote_cell_type": "markdown",
        "tags": []
      },
      "source": "<img src=\"https://i.postimg.cc/pWBFyh9g/10-B-Shuffled-Histograms.png\" title=\"grid of faceted histograms\" />"
    },
    {
      "cell_type": "markdown",
      "metadata": {
        "cell_id": "00027-12c06c01-3abc-4369-b429-8bc8e9e9356c",
        "deepnote_cell_height": 166.328125,
        "deepnote_cell_type": "markdown",
        "tags": []
      },
      "source": "<div class=\"alert alert-block alert-warning\">\n\n**Sample Response**\n\n- Most of the shuffled $b_1$s are very close to 0 (e.g., between -3 and 3) \n- Usually a very small difference between the two means\n    \n</div>"
    },
    {
      "cell_type": "markdown",
      "metadata": {
        "cell_id": "00028-a5f35cb6-2682-446e-8a1c-fd74e5504d9b",
        "deepnote_cell_height": 153.9375,
        "deepnote_cell_type": "markdown",
        "tags": []
      },
      "source": "2.5 - If we put all these $b_1$s in their own distribution, what would it be called?\n\n- a sample of `Points`\n- a sampling distribution of $b_1$s\n- a DGP where there is no home game advantage"
    },
    {
      "cell_type": "markdown",
      "metadata": {
        "cell_id": "00029-22c87509-2bc1-4709-bf66-1f0f33a39a98",
        "deepnote_cell_height": 140.9375,
        "deepnote_cell_type": "markdown",
        "tags": []
      },
      "source": "<div class=\"alert alert-block alert-warning\">\n\n**Sample Response**\n\nA sampling distribution of $b_1$s.\n    \n</div>"
    },
    {
      "cell_type": "markdown",
      "metadata": {
        "cell_id": "00030-5035e52a-0d88-4c00-87d6-3210f19b70d1",
        "deepnote_cell_height": 52.5625,
        "deepnote_cell_type": "markdown",
        "tags": []
      },
      "source": "2.6 - Why should we be worried about randomness when looking at the sample $b_1$?"
    },
    {
      "cell_type": "markdown",
      "metadata": {
        "cell_id": "00031-69bb52d2-f193-426d-bcc2-3a329f1ccaa5",
        "deepnote_cell_height": 208.734375,
        "deepnote_cell_type": "markdown",
        "tags": []
      },
      "source": "<div class=\"alert alert-block alert-warning\">\n\n**Sample Response**\n\nBecause it's possible that the sample $b_1$ may have been generated by a random DGP. We don't want to be fooled into thinking that our $b_1$ came from a DGP where $\\beta_1$ does not equal zero just because our sample $b_1$ is not zero. Even a DGP with a $\\beta_1$ that is actually zero can generate samples with a $b_1$ that is not zero.\n    \n</div>"
    },
    {
      "cell_type": "markdown",
      "metadata": {
        "cell_id": "00032-764694c7-7b75-45ed-ad10-2c235e4e6d79",
        "deepnote_cell_height": 163.125,
        "deepnote_cell_type": "markdown",
        "tags": []
      },
      "source": "<div class=\"alert alert-block alert-info\">\n\n***Recommendation for teachers***: \n\nSplit up into breakout rooms and have odd numbered breakout rooms do section 3.0 \nand even numbered breakout rooms do section 4.0.\n    \n</div>"
    },
    {
      "cell_type": "markdown",
      "metadata": {
        "cell_id": "00033-49be12c9-de7e-4d82-b10f-eaf653e840a2",
        "deepnote_cell_height": 115.9375,
        "deepnote_cell_type": "markdown",
        "tags": []
      },
      "source": "<div class=\"alert alert-block alert-success\">\n\n### 3.0 - Approximate Time: 12-15 mins\n    \n</div>"
    },
    {
      "cell_type": "markdown",
      "metadata": {
        "cell_id": "00034-fc946ed1-760b-473d-b29e-42c7d076f3c8",
        "deepnote_cell_height": 109.96875,
        "deepnote_cell_type": "markdown",
        "tags": []
      },
      "source": "## 3.0 - A DGP where there is no home game advantage"
    },
    {
      "cell_type": "markdown",
      "metadata": {
        "cell_id": "00035-2a3cfda9-a798-4383-8379-7f621a4b227c",
        "deepnote_cell_height": 74.75,
        "deepnote_cell_type": "markdown",
        "tags": []
      },
      "source": "3.1 - If there was no effect of `Location` in the real DGP, which model of the DGP should we prefer: the `Location` model or the empty model?"
    },
    {
      "cell_type": "markdown",
      "metadata": {
        "cell_id": "00036-327002ce-1390-4cea-a536-2c7a5c57afaf",
        "deepnote_cell_height": 140.71875,
        "deepnote_cell_type": "markdown",
        "tags": []
      },
      "source": "<div class=\"alert alert-block alert-warning\">\n\n**Sample Response**\n\nThe empty model (it's the one that doesn't have `Location` in it).\n    \n</div>"
    },
    {
      "cell_type": "markdown",
      "metadata": {
        "cell_id": "00037-476f9b76-8818-4303-ba8c-db0d41d76da6",
        "deepnote_cell_height": 89.15625,
        "deepnote_cell_type": "markdown",
        "tags": []
      },
      "source": "3.2 - If there was no effect of `Location`, what would be the value of $\\beta_1$ in the DGP?\n\n$$Y_i = \\beta_0 + \\beta_1 X_i + \\epsilon_i$$"
    },
    {
      "cell_type": "markdown",
      "metadata": {
        "cell_id": "00038-4f055e0b-2c30-45c0-9cf1-44ea88eca707",
        "deepnote_cell_height": 199.921875,
        "deepnote_cell_type": "markdown",
        "tags": []
      },
      "source": "<div class=\"alert alert-block alert-warning\">\n\n**Sample Response**\n\nIt would be about zero.\n\nPoint out to students that if $$\\beta_1=0$$, then $$Y_i = \\beta_0 + 0*X_i + \\epsilon_i$$ and that's the same thing as $$Y_i = \\beta_0 + \\epsilon_i$$. Hey look! It's the empty model!\n    \n</div>"
    },
    {
      "cell_type": "markdown",
      "metadata": {
        "cell_id": "00039-f8e8cbb0-aff7-4d7b-b28b-2eb5de4b04b2",
        "deepnote_cell_height": 171.140625,
        "deepnote_cell_type": "markdown",
        "tags": []
      },
      "source": "3.3 - Which of these functions (`shuffle()` or `resample()` as used\nbelow) will generate 1000 samples from a DGP with no home game advantage for `Points`?\n\n```\ndo(1000) * b1(shuffle(Points) ~ Location, data = MiamiHeat)\n\ndo(1000) * b1(Points ~ Location, data = resample(MiamiHeat))\n```"
    },
    {
      "cell_type": "markdown",
      "metadata": {
        "cell_id": "00040-0bade784-b24b-4f09-a8bb-fd0a8b547b42",
        "deepnote_cell_height": 210.90625,
        "deepnote_cell_type": "markdown",
        "tags": []
      },
      "source": "<div class=\"alert alert-block alert-warning\">\n\n**Sample Response**\n\n- The one with `shuffle()` because that will break any relationship that currently exists between `Points` and `Location`.\n\n- `resample()` will preserve any relationship that currently exists because it will sample games (that is, rows) and keep that game's `Points` together with its `Location`.\n    \n</div>"
    },
    {
      "cell_type": "markdown",
      "metadata": {
        "cell_id": "00041-014ba0b1-414d-474e-b478-dfff5f3fa408",
        "deepnote_cell_height": 97.34375,
        "deepnote_cell_type": "markdown",
        "tags": []
      },
      "source": "3.4 - If there was no home game advantage, would such a DGP *always* generate $b_1$s that are 0? Could such a DGP generate samples where the average `Points` scored at home were *higher* than the away average? What about *lower*? Why or why not?"
    },
    {
      "cell_type": "markdown",
      "metadata": {
        "cell_id": "00042-02b6c7cf-1755-4649-9100-3b45eede0e60",
        "deepnote_cell_height": 188.515625,
        "deepnote_cell_type": "markdown",
        "tags": []
      },
      "source": "<div class=\"alert alert-block alert-warning\">\n\n**Sample Response**\n\n- It might not always be zero, because the samples will vary. Some of them will be a little higher than 0, and some will be lower. \n- If you did a lot of them, the sample b1s will be centered around 0.\n    \n</div>"
    },
    {
      "cell_type": "markdown",
      "metadata": {
        "cell_id": "00043-4054fbb4-4ef1-4e03-9a41-7b9c2cc4c2dd",
        "deepnote_cell_height": 111.765625,
        "deepnote_cell_type": "markdown",
        "tags": []
      },
      "source": "3.5 - If there was no home game advantage for `Points`, could we ever get sample $b_1$ as extreme as the one in our sample ($b_1 = 2.12$)? Would it be one of the \"unlikely\" $b_1$s from this DGP?\n\nMake a prediction. Then create a sampling distribution of $b_1$ from a DGP where $\\beta_1 = 0$."
    },
    {
      "cell_type": "markdown",
      "metadata": {
        "cell_id": "00044-d8248d5b-d668-4c0c-908d-724aa631096e",
        "deepnote_cell_height": 354.28125,
        "deepnote_cell_type": "markdown",
        "tags": []
      },
      "source": "<div class=\"alert alert-block alert-warning\">\n\n**Sample Response**\n\n- Easy for students to say that is is possible to get a b1. The real issue will be on whether they can distinguish whether it is \"likely\" or not.\n- Some students reason from examples -- that is, they look at the distributions depicted in 2.4 and say, \"We've already seen that even if we generate just a 9 $b_1$s from shuffling, it's not too hard to generate a mean difference of 2... so we'll call that 'likely'.\" \n- Another level is to connect to the statistical community's definition of \"likely\".\n\n**Follow up questions**\n\n- Students may need to be prodded to consider how we judge whether a $b_1$ is \"likely\" or not according to this definition of likely: the middle 95% of a sampling distribution.\n    \n</div>"
    },
    {
      "cell_type": "code",
      "execution_count": null,
      "metadata": {
        "allow_embed": false,
        "cell_id": "00045-29736380-6c47-4f06-be7d-6e518a8e28a8",
        "deepnote_cell_height": 265.15625,
        "deepnote_cell_type": "code",
        "deepnote_to_be_reexecuted": false,
        "execution_millis": 497,
        "execution_start": 1657824037113,
        "output_cleared": false,
        "source_hash": "15db0755",
        "tags": [],
        "trusted": true
      },
      "outputs": [],
      "source": "# Create a sampling distribution of b1 here.\n# Save it as sdob1_no_effect\n\nsdob1_no_effect <- do(1000) * b1(shuffle(Points) ~ Location, data = MiamiHeat)\n\n# Visualize the sampling distribution in a histogram. \n\ngf_histogram(~b1, data = sdob1_no_effect)"
    },
    {
      "cell_type": "markdown",
      "metadata": {
        "cell_id": "00046-2c991b1f-c199-4277-beda-4f9b53519867",
        "deepnote_cell_height": 111.5625,
        "deepnote_cell_type": "markdown",
        "tags": []
      },
      "source": "3.6 - The code below will color the middle .95 of samples in `dodgerblue`. Will the sample $b_1$ be an \"unlikely\" samples? \n\nAdd some code to depict the sample $b_1$ (2.12) in `green4`. "
    },
    {
      "cell_type": "markdown",
      "metadata": {
        "cell_id": "00047-0f63821f-00cf-4039-a287-1a89ab00d42d",
        "deepnote_cell_height": 163.125,
        "deepnote_cell_type": "markdown",
        "tags": []
      },
      "source": "<div class=\"alert alert-block alert-warning\">\n\n**Sample Response**\n\n- From reading the x-axis in the histogram in 3.5, we can see that the sample is not one of the \"unlikely\" samples. \n    \n</div>"
    },
    {
      "cell_type": "code",
      "execution_count": null,
      "metadata": {
        "cell_id": "00048-8ab13a32-3655-4835-8354-49d0c2132dbd",
        "deepnote_cell_height": 152.96875,
        "deepnote_cell_type": "code",
        "deepnote_to_be_reexecuted": false,
        "execution_millis": 389,
        "execution_start": 1644695407847,
        "output_cleared": true,
        "source_hash": "1cfde3c9",
        "tags": [],
        "trusted": true
      },
      "outputs": [],
      "source": "# this code makes a histogram \n# Add a point to represent the sample b1\ngf_histogram(~ b1, data = sdob1_no_effect, binwidth = .5, fill = ~middle(b1, .95)) %>%\ngf_refine(scale_fill_manual(values = c(\"coral\", \"dodgerblue\"))) %>%\ngf_point(x = 2.12, y = 0, color = \"green4\")"
    },
    {
      "cell_type": "markdown",
      "metadata": {
        "cell_id": "00049-3447b21b-5aee-438c-bf6f-2c6ee8d3bbb8",
        "deepnote_cell_height": 74.75,
        "deepnote_cell_type": "markdown",
        "tags": []
      },
      "source": "3.7 - Check out a different way of depicting the distribution triad (DGP, sampling distribution,\nand sample) here. Where should this sampling distribution go?\n\n\n"
    },
    {
      "cell_type": "markdown",
      "metadata": {
        "cell_id": "00050-8a79f3d2-41d0-43ee-af74-03f42c59b026",
        "deepnote_cell_height": 639.15625,
        "deepnote_cell_type": "markdown",
        "tags": []
      },
      "source": "<div class=\"alert alert-block alert-info\">\n\n***For instructors***\n\nMake a copy of the slides below to share with students:\n \nhttps://docs.google.com/presentation/d/1-Q2w-ZXl0CXjGXiET_TwDpppY1Dl1H8SFnSEJAN6Kp0/copy?usp=sharing\n\n\n*This is an example of how they should align their sampling distributions in the slides:*\n\n<img src=\"https://i.postimg.cc/B3w870T5/10-B-Sampling-Dist-of-b1s.png\" width = 80% align = \"center\">\n\n</div>"
    },
    {
      "cell_type": "markdown",
      "metadata": {
        "cell_id": "00051-3fe09f4e-7d14-401a-87b8-9ee7ef18e67b",
        "deepnote_cell_height": 115.9375,
        "deepnote_cell_type": "markdown",
        "tags": []
      },
      "source": "<div class=\"alert alert-block alert-success\">\n\n### 4.0 - Approximate Time: 12-15 mins\n    \n</div>"
    },
    {
      "cell_type": "markdown",
      "metadata": {
        "cell_id": "00052-d663175f-bab7-4759-9861-9022d47d6d08",
        "deepnote_cell_height": 109.96875,
        "deepnote_cell_type": "markdown",
        "tags": []
      },
      "source": "## 4.0 - A DGP where the home game advantage is similar to our sample "
    },
    {
      "cell_type": "markdown",
      "metadata": {
        "cell_id": "00053-2c394973-563a-4349-8162-cc266b10822b",
        "deepnote_cell_height": 74.75,
        "deepnote_cell_type": "markdown",
        "tags": []
      },
      "source": "4.1 - If the effect of `Location` in the real DGP was just like our sample, which model of the DGP should we prefer: the `Location` model or the empty model?"
    },
    {
      "cell_type": "markdown",
      "metadata": {
        "cell_id": "00054-690248bd-48e4-4419-ae2e-026b7f3d887f",
        "deepnote_cell_height": 140.71875,
        "deepnote_cell_type": "markdown",
        "tags": []
      },
      "source": "<div class=\"alert alert-block alert-warning\">\n\n**Sample Response**\n\nThe Location model!\n    \n</div>"
    },
    {
      "cell_type": "markdown",
      "metadata": {
        "cell_id": "00055-b1dbd1ef-1e27-46ec-8ec9-0aa99fa6648a",
        "deepnote_cell_height": 111.5625,
        "deepnote_cell_type": "markdown",
        "tags": []
      },
      "source": "4.2 - If the effect of `Location` was just like our sample, what would be the value of $\\beta_1$ \nin the DGP?\n\n$$Y_i = \\beta_0 + \\beta_1 X_i + \\epsilon_i$$"
    },
    {
      "cell_type": "markdown",
      "metadata": {
        "cell_id": "00056-163b1c9d-cf3a-4240-83ec-931a3d9ed0b8",
        "deepnote_cell_height": 140.71875,
        "deepnote_cell_type": "markdown",
        "tags": []
      },
      "source": "<div class=\"alert alert-block alert-warning\">\n\n**Sample Response**\n\nIt should be about 2.12.\n    \n</div>"
    },
    {
      "cell_type": "markdown",
      "metadata": {
        "cell_id": "00057-09a6bf01-709f-4317-b694-a82f4b4db143",
        "deepnote_cell_height": 171.140625,
        "deepnote_cell_type": "markdown",
        "owner_user_id": "65abe037-acab-4951-bbc9-907a4ef12e8f",
        "tags": []
      },
      "source": "4.3 - Which of these functions (`shuffle()` or `resample()` as used\nbelow) will generate 1000 samples from a DGP that is basically just like our sample?\n\n```\ndo(1000) * b1(shuffle(Points) ~ Location, data = MiamiHeat)\n\ndo(1000) * b1(Points ~ Location, data = resample(MiamiHeat))\n```"
    },
    {
      "cell_type": "markdown",
      "metadata": {
        "cell_id": "00058-46e79ece-9593-45b5-9c13-f7408b465bba",
        "deepnote_cell_height": 140.71875,
        "deepnote_cell_type": "markdown",
        "tags": []
      },
      "source": "<div class=\"alert alert-block alert-warning\">\n\n**Sample Response**\n\nThe one with `resample()`.\n    \n</div>"
    },
    {
      "cell_type": "markdown",
      "metadata": {
        "cell_id": "00059-01789573-168a-4951-9bde-61c2348b5ec0",
        "deepnote_cell_height": 97.34375,
        "deepnote_cell_type": "markdown",
        "tags": []
      },
      "source": "4.4 - If the DGP was just like our sample, could it generate $b_1$s that show no effect of `Location`? Could such a DGP generate samples where the average `Points` in home games were *lower*  than the away average? Why or why not?"
    },
    {
      "cell_type": "markdown",
      "metadata": {
        "cell_id": "00060-fe615702-fc4e-48bc-9077-27d51da5fb1f",
        "deepnote_cell_height": 233.90625,
        "deepnote_cell_type": "markdown",
        "tags": []
      },
      "source": "<div class=\"alert alert-block alert-warning\">\n\n**Sample Response**\n\n- Such a DGP (where $\\beta_1 = 2.21$) could also generate $b_1$s that show no effect of `Location` (that is $b_1 = 0$). \n\n- It could also generate samples where the average points in home games were lower than the away average (that is $b_1$s that are negative) because there is enough variation in the points where this is possible. \n    \n</div>"
    },
    {
      "cell_type": "markdown",
      "metadata": {
        "cell_id": "00061-873b43c7-b92a-4e1e-9fcd-325db807ff4d",
        "deepnote_cell_height": 156.75,
        "deepnote_cell_type": "markdown",
        "tags": []
      },
      "source": "4.5 - If the home game advantage for `Points` in the DGP was just like our sample, could we ever get sample $b_1$ as extreme the one in our sample ($b_1 = 2.12$)? Would it be one of the likely or unlikely $b_1$s from this DGP?\n\nMake a prediction. Then create a sampling distribution of $b_1$ from a DGP that is just like our sample ($\\beta_1 = 2.12$)."
    },
    {
      "cell_type": "markdown",
      "metadata": {
        "cell_id": "00062-6057e7ad-77c3-422a-b1e9-f8c858f20841",
        "deepnote_cell_height": 163.125,
        "deepnote_cell_type": "markdown",
        "tags": []
      },
      "source": "<div class=\"alert alert-block alert-warning\">\n\n**Sample Response**\n\n*Student predictions will vary, but, yes, it could, and it would be one of the likely ones (e.g., one of those in the middle of the sampling distribution).*\n    \n</div>"
    },
    {
      "cell_type": "code",
      "execution_count": null,
      "metadata": {
        "allow_embed": false,
        "cell_id": "00063-1948065d-03aa-42ed-9051-ea11928ecd57",
        "deepnote_cell_height": 188.953125,
        "deepnote_cell_type": "code",
        "deepnote_to_be_reexecuted": false,
        "execution_millis": 2430,
        "execution_start": 1644695408283,
        "output_cleared": true,
        "source_hash": "4e85d324",
        "tags": [],
        "trusted": true
      },
      "outputs": [],
      "source": "# Create a sampling distribution of b1 here.\n# Save it as sdob1_same_effect\n\nsdob1_same_effect <- do(1000) * b1(Points ~ Location, data = resample(MiamiHeat))\n\n# Visualize the sampling distribution in a histogram. \ngf_histogram(~b1, data = sdob1_same_effect)"
    },
    {
      "cell_type": "markdown",
      "metadata": {
        "cell_id": "00064-b0c8f419-0625-4fe1-bba1-4df72ba32125",
        "deepnote_cell_height": 133.953125,
        "deepnote_cell_type": "markdown",
        "tags": []
      },
      "source": "4.6 - The code below will color the middle .95 of samples in a shade of turquoise. \nWill the sample $b_1$ be one of those \"likely\" samples? \n\nAdd some code to depict the sample $b_1$ (2.12) in `green4`. Should it be added as a curve,\na line, something else?"
    },
    {
      "cell_type": "markdown",
      "metadata": {
        "cell_id": "00065-56a7d273-a755-48dd-b1eb-6eafe93bf3f4",
        "deepnote_cell_height": 140.71875,
        "deepnote_cell_type": "markdown",
        "tags": []
      },
      "source": "<div class=\"alert alert-block alert-warning\">\n\n**Sample Response**\n\nYes, it will be one of the \"likely\" samples. It should be added as a vertical line.\n    \n</div>"
    },
    {
      "cell_type": "code",
      "execution_count": null,
      "metadata": {
        "cell_id": "00066-1b121606-5332-4092-a781-ae039cf5b1fc",
        "deepnote_cell_height": 134.953125,
        "deepnote_cell_type": "code",
        "deepnote_to_be_reexecuted": false,
        "execution_millis": 360,
        "execution_start": 1644695410756,
        "output_cleared": true,
        "source_hash": "9a29f18",
        "tags": [],
        "trusted": true
      },
      "outputs": [],
      "source": "# this code makes a histogram \n# and adds the point for the sample b1\ngf_histogram(~ b1, data = sdob1_same_effect, binwidth = .5, fill = ~middle(b1,.95)) %>%\ngf_point(x = 2.12, y = 0, color = \"green4\")"
    },
    {
      "cell_type": "markdown",
      "metadata": {
        "cell_id": "00067-6d9ab59e-d0b8-4ee4-b93f-11d9d9c0d87c",
        "deepnote_cell_height": 74.75,
        "deepnote_cell_type": "markdown",
        "tags": []
      },
      "source": "4.7 - Check out a different way of depicting the distribution triad (DGP, sampling distribution,\nand sample) here. Where should this sampling distribution go?"
    },
    {
      "cell_type": "markdown",
      "metadata": {
        "cell_id": "00068-e63eb52b-0f3d-461b-a942-67273df2fe27",
        "deepnote_cell_height": 578.453125,
        "deepnote_cell_type": "markdown",
        "tags": []
      },
      "source": "<div class=\"alert alert-block alert-info\">\n\n**Note to Instructor:** \n\nLink to your google presentation here (the copy you made above.)\n\n*This is an example of how they should align their sampling distributions in the slides:*\n\n<img src=\"https://i.postimg.cc/FNXHws7S/10-B-Sampling-Dist-resample.png\" width = 80% align = \"center\">\n    \n</div>"
    },
    {
      "cell_type": "markdown",
      "metadata": {
        "cell_id": "00069-fc87cc7f-456e-44ca-b2f4-ee67c325eaef",
        "deepnote_cell_height": 115.9375,
        "deepnote_cell_type": "markdown",
        "tags": []
      },
      "source": "<div class=\"alert alert-block alert-success\">\n\n### 5.0 - Approximate Time: 8-10 mins\n    \n</div>"
    },
    {
      "cell_type": "markdown",
      "metadata": {
        "cell_id": "00070-57458667-631e-4c06-9066-619085a6f595",
        "deepnote_cell_height": 69.96875,
        "deepnote_cell_type": "markdown",
        "tags": []
      },
      "source": "## 5.0 - Confidence Intervals"
    },
    {
      "cell_type": "markdown",
      "metadata": {
        "cell_id": "00071-681aa3b0-94a7-4da0-8fd8-1d4912765e46",
        "deepnote_cell_height": 74.953125,
        "deepnote_cell_type": "markdown",
        "tags": []
      },
      "source": "5.1 - From these explorations, could the real $\\beta_1$ be 0? Could it be 2.12? Could it be \nsome other number? "
    },
    {
      "cell_type": "markdown",
      "metadata": {
        "cell_id": "00072-bd009231-6379-4923-bf7c-c9a4e761faeb",
        "deepnote_cell_height": 140.71875,
        "deepnote_cell_type": "markdown",
        "tags": []
      },
      "source": "<div class=\"alert alert-block alert-warning\">\n\n**Sample Response**\n\nYes, it could be 0, or it could be 2.12. It could also be some other number.\n    \n</div>"
    },
    {
      "cell_type": "markdown",
      "metadata": {
        "cell_id": "00073-e8a86f4c-9291-4c7d-8127-1b67046862d2",
        "deepnote_cell_height": 52.5625,
        "deepnote_cell_type": "markdown",
        "tags": []
      },
      "source": "5.2 - Use `confint()` to find the 95% confidence interval of $\\beta_1$. "
    },
    {
      "cell_type": "code",
      "execution_count": null,
      "metadata": {
        "cell_id": "00074-9aec9339-1b4f-4617-b21d-eb3f121a6a09",
        "deepnote_cell_height": 75.953125,
        "deepnote_cell_type": "code",
        "deepnote_to_be_reexecuted": false,
        "execution_millis": 2,
        "execution_start": 1644695411164,
        "output_cleared": true,
        "source_hash": "68c892f9",
        "tags": [],
        "trusted": true
      },
      "outputs": [],
      "source": "confint(loc_model)"
    },
    {
      "cell_type": "markdown",
      "metadata": {
        "cell_id": "00075-65bade5e-0108-4744-9647-63116f367745",
        "deepnote_cell_height": 140.9375,
        "deepnote_cell_type": "markdown",
        "tags": []
      },
      "source": "<div class=\"alert alert-block alert-warning\">\n\n**Sample Response**\n\nThe CI of $\\beta_1$ is \\[-2.89, 7.13\\] points.\n\n</div>"
    },
    {
      "cell_type": "markdown",
      "metadata": {
        "cell_id": "00076-402e426f-c035-4440-98a8-3210632d9997",
        "deepnote_cell_height": 119.75,
        "deepnote_cell_type": "markdown",
        "tags": []
      },
      "source": "5.3 - Use the sampling distributions in the powerpoint link to show what the 95% confidence\ninterval around $\\beta_1$ means:\nWhat does the lowest number mean? What does the highest number mean? What units are these values in?"
    },
    {
      "cell_type": "markdown",
      "metadata": {
        "cell_id": "00077-ee2ad926-2395-462e-a487-f8d282539fd8",
        "deepnote_cell_height": 233.703125,
        "deepnote_cell_type": "markdown",
        "tags": []
      },
      "source": "<div class=\"alert alert-block alert-warning\">\n\n**Sample Response**\n\n- The $\\beta_1$ might be as low as 2.89 points below away games or as high as 7.13 points above away games. The units are in points.\n\n- A follow up question: why are we saying the $\\beta_1$ might be some value instead of the $b_1$? Why are we using the Greek letter notation here? (Because we are thinking about the DGP -- what it might be! Not what a sample might be...)\n    \n</div>"
    },
    {
      "cell_type": "markdown",
      "metadata": {
        "cell_id": "00078-538f8d2c-d05b-4823-90a7-5782d252aae8",
        "deepnote_cell_height": 74.75,
        "deepnote_cell_type": "markdown",
        "tags": []
      },
      "source": "5.4 - Even though these sampling distributions were made in different ways (e.g., shuffling \nversus resampling), they seem to show us the same confidence interval. Why?"
    },
    {
      "cell_type": "markdown",
      "metadata": {
        "cell_id": "00079-fef7265e-4a65-4ff6-a1cb-8aaa76fa7a3b",
        "deepnote_cell_height": 216.890625,
        "deepnote_cell_type": "markdown",
        "tags": []
      },
      "source": "<div class=\"alert alert-block alert-warning\">\n\n**Sample Response**\n\n- Both methods are based on the same sample data (the same shape and spread).\n- Both methods use randomness (either through shuffle or resample) as part of the DGP. \n- Both methods assume the same definition of \"likely\" (middle 95%).\n- All three are \n    \n</div>"
    },
    {
      "cell_type": "markdown",
      "metadata": {
        "cell_id": "00080-cf9ba61b-a31f-4ca0-b605-535078ac66e0",
        "deepnote_cell_height": 74.75,
        "deepnote_cell_type": "markdown",
        "tags": []
      },
      "source": "5.5 - Based on all that we have done here, if you had to say what was the real effect of\nplaying at home, what would you say?"
    },
    {
      "cell_type": "markdown",
      "metadata": {
        "cell_id": "00081-b2b5b29b-9043-44ae-b82d-cd16b23dc955",
        "deepnote_cell_height": 185.515625,
        "deepnote_cell_type": "markdown",
        "tags": []
      },
      "source": "<div class=\"alert alert-block alert-warning\">\n\n**Sample Response**\n\nThere might be no real effect of playing at home. Our data shows that even a NO EFFECT model could generate our data as one of the likely samples. So we don't see a need for a more complex one when a simple one would do just as well. \n    \n</div>"
    },
    {
      "cell_type": "markdown",
      "metadata": {
        "cell_id": "00082-5d5e05e8-3156-4313-971f-93ebed037c53",
        "deepnote_cell_height": 115.9375,
        "deepnote_cell_type": "markdown",
        "tags": []
      },
      "source": "<div class=\"alert alert-block alert-success\">\n\n### 6.0 - Approximate Time: 8-10 mins\n    \n</div>"
    },
    {
      "cell_type": "markdown",
      "metadata": {
        "cell_id": "00083-36eb17a0-a83e-4621-969c-bb1f9eb49529",
        "deepnote_cell_height": 109.96875,
        "deepnote_cell_type": "markdown",
        "tags": []
      },
      "source": "## 6.0 - Home Game Advantage... in something else?"
    },
    {
      "cell_type": "markdown",
      "metadata": {
        "cell_id": "00084-6b7e56d7-27e4-4b02-9d40-fe44cf9b8a97",
        "deepnote_cell_height": 74.75,
        "deepnote_cell_type": "markdown",
        "tags": []
      },
      "source": "6.1 - Is it possible there is a really big advantage to playing a home game... but maybe not for points? What might be more affected by playing at home?"
    },
    {
      "cell_type": "markdown",
      "metadata": {
        "cell_id": "00085-0bfac781-8524-4d96-82fb-f30f666ab842",
        "deepnote_cell_height": 140.71875,
        "deepnote_cell_type": "markdown",
        "tags": []
      },
      "source": "<div class=\"alert alert-block alert-warning\">\n\n**Sample Response**\n\nWins, free throws, player's comfort, etc.\n    \n</div>"
    },
    {
      "cell_type": "markdown",
      "metadata": {
        "cell_id": "00086-bb19be40-c192-4d7e-b173-0ebd966a2bf1",
        "deepnote_cell_height": 74.75,
        "deepnote_cell_type": "markdown",
        "tags": []
      },
      "source": "6.2 - Which outcome of a basketball game seems like it would be most affected by playing at home:\npoints, free throws, or fouls?"
    },
    {
      "cell_type": "markdown",
      "metadata": {
        "cell_id": "00087-fdc953d0-9a43-4b96-983b-fa6044c9ecbd",
        "deepnote_cell_height": 140.71875,
        "deepnote_cell_type": "markdown",
        "tags": []
      },
      "source": "<div class=\"alert alert-block alert-warning\">\n\n**Sample Response**\n\n*Student intuitions may vary.*\n    \n</div>"
    },
    {
      "cell_type": "markdown",
      "metadata": {
        "cell_id": "00088-76838eb5-974f-4503-b50c-58c4804bf488",
        "deepnote_cell_height": 52.359375,
        "deepnote_cell_type": "markdown",
        "tags": []
      },
      "source": "6.3 - Which of these is most affected by the home game advantage? "
    },
    {
      "cell_type": "code",
      "execution_count": null,
      "metadata": {
        "cell_id": "00089-c6d6ef5f-4271-4659-865f-dc14cbee8207",
        "deepnote_cell_height": 332.96875,
        "deepnote_cell_type": "code",
        "deepnote_to_be_reexecuted": false,
        "execution_millis": 828,
        "execution_start": 1644695411207,
        "output_cleared": true,
        "source_hash": "ffaf566d",
        "tags": [],
        "trusted": true
      },
      "outputs": [],
      "source": "# Fit 'free throws' model\nft.model <- lm(FT ~ Location, data = MiamiHeat)\nft.model\nsupernova(ft.model)\nconfint(ft.model)\ngf_histogram(~FT, data = MiamiHeat, fill = \"mediumorchid4\", color = \"khaki1\") %>%\ngf_facet_grid(Location ~ .)\n\n# Fit 'fouls' model\nfouls.model <- lm(Fouls ~ Location, data = MiamiHeat)\nfouls.model\nsupernova(fouls.model)\nconfint(fouls.model)\ngf_histogram(~Fouls, data = MiamiHeat, fill = \"khaki1\", color = \"mediumorchid4\") %>%\ngf_facet_grid(Location ~ .)"
    },
    {
      "cell_type": "markdown",
      "metadata": {
        "cell_id": "00090-db8c2ed6-8e7c-497b-85fa-15407783d977",
        "deepnote_cell_height": 140.71875,
        "deepnote_cell_type": "markdown",
        "tags": []
      },
      "source": "<div class=\"alert alert-block alert-warning\">\n\n**Sample Response**\n\nFree throws is most affected by the home game advantage.\n    \n</div>"
    },
    {
      "cell_type": "markdown",
      "metadata": {
        "cell_id": "00091-04f99325-1b82-4e68-aa9a-4f82a2994539",
        "deepnote_cell_height": 74.75,
        "deepnote_cell_type": "markdown",
        "tags": []
      },
      "source": "6.4 - Are you 95% confident that there is at least *some* effect of playing at home \nfor that outcome?"
    },
    {
      "cell_type": "markdown",
      "metadata": {
        "cell_id": "00092-c77fba25-c4e2-42c2-811d-4e20cc8ebf59",
        "deepnote_cell_height": 163.125,
        "deepnote_cell_type": "markdown",
        "tags": []
      },
      "source": "<div class=\"alert alert-block alert-warning\">\n\n**Sample Response**\n\nWe are at least 95% confident that there is some effect of playing at home\nfor free throws.\n    \n</div>"
    }
  ],
  "metadata": {
    "celltoolbar": "nbsimplegrader",
    "deepnote": {},
    "deepnote_execution_queue": [],
    "deepnote_notebook_id": "326ef9ae-3da9-4218-9683-207aee487042",
    "kernelspec": {
      "display_name": "R",
      "language": "R",
      "name": "ir"
    },
    "language_info": {
      "codemirror_mode": "r",
      "file_extension": ".r",
      "mimetype": "text/x-r-source",
      "name": "R",
      "pygments_lexer": "r",
      "version": "4.0.3"
    },
    "nbsimplegrader": {
      "publish_config": {
        "classes": [],
        "options": {},
        "tools": []
      }
    }
  },
  "nbformat": 4,
  "nbformat_minor": 4
}