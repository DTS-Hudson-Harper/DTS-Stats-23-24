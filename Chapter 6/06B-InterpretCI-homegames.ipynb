{
  "cells": [
    {
      "cell_type": "markdown",
      "metadata": {
        "cell_id": "79e855a9-9a03-44de-8988-b450cddbb97c",
        "deepnote_cell_height": 81.953125,
        "deepnote_cell_type": "markdown",
        "tags": []
      },
      "source": "# 6B: The Effect of Being at Home"
    },
    {
      "cell_type": "code",
      "execution_count": null,
      "metadata": {
        "cell_id": "00001-f3de8491-fa7f-47ba-8d30-e5ffd08be137",
        "deepnote_cell_height": 129.953125,
        "deepnote_cell_type": "code",
        "deepnote_to_be_reexecuted": false,
        "execution_millis": 2564,
        "execution_start": 1644298313520,
        "nbsimplegrader": {
          "config_key": "code.run-only",
          "editable": false,
          "label": "Code: Run-Only",
          "respondable": false,
          "response": null,
          "runnable": true,
          "type": "code"
        },
        "output_cleared": true,
        "owner_user_id": "23d85493-7ed1-49a4-baa7-630eaab08193",
        "source_hash": "36d47c4",
        "trusted": true
      },
      "outputs": [],
      "source": "# Load the CourseKata library\nsuppressPackageStartupMessages({\n    library(coursekata)\n})"
    },
    {
      "cell_type": "markdown",
      "metadata": {
        "cell_id": "00002-b586a3f2-bbdc-4655-a2a6-9ec6c9300daa",
        "deepnote_cell_height": 974.03125,
        "deepnote_cell_type": "markdown",
        "tags": []
      },
      "source": "We’re going to look at a dataframe called `MiamiHeat`. These are the game log data for the Miami Heat basketball team in 2010-11. \n\nHere are the variables in this dataframe:\n\n- `MDY` Date the game was played as a date object\n- `Date` Date the game was played as a character string\n- `Location` Away or Home\n- `Opp` Opponent team\n- `Win` Game result: L or W\n- `FG` Field goals made\n- `FGA` Field goals attempted\n- `FG3` Three-point field goals made\n- `FG3A` Three-point field goals attempted\n- `FT` Free throws made\n- `FTA` Free throws attempted\n- `Rebounds` Total rebounds\n- `OffReb` Offensive rebounds\n- `Assists` Number of assists\n- `Steals` Number of steals\n- `Blocks` Number of shots blocked\n- `Turnovers` Number of turnovers\n- `Fouls` Number of fouls\n- `Points` Number of points scored\n- `OppFG` Opponent's field goals made\n- `OppFGA` Opponent's Field goals attempted\n- `OppFG3` Opponent's Three-point field goals made\n- `OppFG3A` Opponent's Three-point field goals attempted\n- `OppFT` Opponent's Free throws made\n- `OppFTA` Opponent's Free throws attempted\n- `OppOffReb` Opponent's Total rebounds\n- `OppRebounds` Opponent's Offensive rebounds\n- `OppAssists` Opponent's assists\n- `OppSteals` Opponent's steals\n- `OppBlocks` Opponent's shots blocked\n- `OppTurnovers` Opponent's turnovers\n- `OppFouls` Opponent's fouls\n- `OppPoints` Opponent's points scored"
    },
    {
      "cell_type": "markdown",
      "metadata": {
        "cell_id": "00003-180dba38-1792-4fed-a502-50ffb3585abc",
        "deepnote_cell_height": 69.96875,
        "deepnote_cell_type": "markdown",
        "tags": []
      },
      "source": "## 1.0 - Explore the Home Game Advantage"
    },
    {
      "cell_type": "markdown",
      "metadata": {
        "cell_id": "00004-3b3e2b4a-670b-4bed-8417-1751e608ef3c",
        "deepnote_cell_height": 74.75,
        "deepnote_cell_type": "markdown",
        "tags": []
      },
      "source": "1.1 - Let's explore the idea that playing at home would help\nthe Miami Heat score more points. Write this idea as a word equation."
    },
    {
      "cell_type": "markdown",
      "metadata": {
        "cell_id": "00005-ac8d686e-f56e-4f06-bdeb-228e6c40a239",
        "deepnote_cell_height": 74.75,
        "deepnote_cell_type": "markdown",
        "tags": []
      },
      "source": "1.2 - Explore the variation with a visualization. Does it seem like they score more\nwhen playing at home?"
    },
    {
      "cell_type": "markdown",
      "metadata": {
        "cell_id": "00006-3839c095-1172-46c4-9d39-3d59707cf616",
        "deepnote_cell_height": 69.96875,
        "deepnote_cell_type": "markdown",
        "tags": []
      },
      "source": "## 2.0 - Modeling Variation"
    },
    {
      "cell_type": "markdown",
      "metadata": {
        "cell_id": "00007-e7a4b1fa-2446-461a-9956-6cab3cb562ba",
        "deepnote_cell_height": 133.75,
        "deepnote_cell_type": "markdown",
        "tags": []
      },
      "source": "2.1 - Now that we know a lot more about statistics, we can actually create a model of \nPOINTS = LOCATION + OTHER STUFF. Write the best fitting model in \nGLM notation here. \n\n$$Y_i = ... + e_i$$"
    },
    {
      "cell_type": "markdown",
      "metadata": {
        "cell_id": "00008-84e6fdd9-6163-4efb-a369-32a0503f4cc9",
        "deepnote_cell_height": 74.75,
        "deepnote_cell_type": "markdown",
        "tags": []
      },
      "source": "2.2 - Interpret the best fitting estimates by connecting the numbers\nto the visualization below."
    },
    {
      "cell_type": "code",
      "execution_count": null,
      "metadata": {
        "cell_id": "00009-7dacee07-48db-45e7-9036-9245fe5d0b95",
        "deepnote_cell_height": 111.953125,
        "deepnote_cell_type": "code",
        "deepnote_to_be_reexecuted": false,
        "execution_millis": 372,
        "execution_start": 1644298324590,
        "output_cleared": true,
        "source_hash": "318fc0ba",
        "tags": [],
        "trusted": true
      },
      "outputs": [],
      "source": "gf_histogram(~ Points, data = MiamiHeat, alpha = 1) %>%\ngf_facet_grid(Location ~ .) %>%\ngf_model(Points~Location, data = MiamiHeat)"
    },
    {
      "cell_type": "markdown",
      "metadata": {
        "cell_id": "00010-c635bba9-0920-4398-ad11-7249409a13cf",
        "deepnote_cell_height": 97.34375,
        "deepnote_cell_type": "markdown",
        "tags": []
      },
      "source": "2.3 - When we look at a visualization (any visualization! not just this one!) \nand think, *\"Yeah, this one looks like some of the variation is explained,\"*\nwhich parameter estimate best represents the “shift”? $b_0$ or $b_1$?\n"
    },
    {
      "cell_type": "markdown",
      "metadata": {
        "cell_id": "00011-d12289c3-22b6-4aa9-a188-c7b24eae7ca7",
        "deepnote_cell_height": 97.34375,
        "deepnote_cell_type": "markdown",
        "tags": []
      },
      "source": "2.4 - Estimate that parameter in the **shuffled** histograms below. \nWhen you have randomly shuffled data into Home and Away groups, \nwhat are the $b_1$s typically like? \n"
    },
    {
      "cell_type": "markdown",
      "metadata": {
        "cell_id": "00012-23ce6342-6373-41b5-a27c-0724fe0267df",
        "deepnote_cell_height": 713.65625,
        "deepnote_cell_type": "markdown",
        "tags": []
      },
      "source": "<img src=\"https://i.postimg.cc/pWBFyh9g/10-B-Shuffled-Histograms.png\" title=\"grid of faceted histograms\" />"
    },
    {
      "cell_type": "markdown",
      "metadata": {
        "cell_id": "00013-7989ef79-ff02-4a06-89a5-524ce6a13595",
        "deepnote_cell_height": 153.734375,
        "deepnote_cell_type": "markdown",
        "tags": []
      },
      "source": "2.5 - If we put all these $b_1$s in their own distribution, what would it be called?\n\n- a sample of `Points`\n- a sampling distribution of b1s\n- a DGP where there is no home game advantage"
    },
    {
      "cell_type": "markdown",
      "metadata": {
        "cell_id": "00014-85734028-0069-47c8-91d5-d9d90097a44d",
        "deepnote_cell_height": 52.5625,
        "deepnote_cell_type": "markdown",
        "tags": []
      },
      "source": "2.6 - Why should we be worried about randomness when looking at the sample $b_1$?\n"
    },
    {
      "cell_type": "markdown",
      "metadata": {
        "cell_id": "00015-57595e3c-e05d-418e-a3aa-3df72ea9db1f",
        "deepnote_cell_height": 109.96875,
        "deepnote_cell_type": "markdown",
        "tags": []
      },
      "source": "## 3.0 - A DGP where there is no home game advantage"
    },
    {
      "cell_type": "markdown",
      "metadata": {
        "cell_id": "00016-d19f9db1-9b36-4933-b78f-854a230964f2",
        "deepnote_cell_height": 74.75,
        "deepnote_cell_type": "markdown",
        "tags": []
      },
      "source": "3.1 - If there was no effect of `Location` in the real DGP, which model of the DGP \nshould we prefer: the `Location` model or the empty model?"
    },
    {
      "cell_type": "markdown",
      "metadata": {
        "cell_id": "00017-8f455796-ba77-4295-b13f-0e8509ba1a34",
        "deepnote_cell_height": 89.15625,
        "deepnote_cell_type": "markdown",
        "owner_user_id": "65abe037-acab-4951-bbc9-907a4ef12e8f",
        "tags": []
      },
      "source": "3.2 - If there was no effect of `Location`, what would be the value of $\\beta_1$ in the DGP?\n\n$$Y_i = \\beta_0 + \\beta_1 X_i + \\epsilon_i$$"
    },
    {
      "cell_type": "markdown",
      "metadata": {
        "cell_id": "00018-5910b487-5d81-4e94-8b55-0cf653e279bd",
        "deepnote_cell_height": 171.140625,
        "deepnote_cell_type": "markdown",
        "tags": []
      },
      "source": "3.3 - Which of these functions (`shuffle()` or `resample()` as used\nbelow) will generate 1000 samples from a DGP with no home game advantage for `Points`?\n\n```\ndo(1000) * b1(shuffle(Points) ~ Location, data = MiamiHeat)\n\ndo(1000) * b1(Points ~ Location, data = resample(MiamiHeat))\n```"
    },
    {
      "cell_type": "markdown",
      "metadata": {
        "cell_id": "00019-57c63668-a509-45b3-8b71-14d896dccba9",
        "deepnote_cell_height": 97.34375,
        "deepnote_cell_type": "markdown",
        "tags": []
      },
      "source": "3.4 - If there was no home game advantage, would such a DGP *always* generate $b_1$s that are 0? Could such a DGP generate samples where the average `Points` scored at home were *higher* than the away average? What about *lower*? Why or why not?"
    },
    {
      "cell_type": "markdown",
      "metadata": {
        "cell_id": "00020-a20e1d04-f1b8-4ed7-871c-c7820e5adbbb",
        "deepnote_cell_height": 111.765625,
        "deepnote_cell_type": "markdown",
        "tags": []
      },
      "source": "3.5 - If there was no home game advantage for `Points`, could we ever get sample $b_1$ as extreme as the one in our sample ($b_1 = 2.12$)? Would it be one of the \"unlikely\" $b_1$s from this DGP?\n\nMake a prediction. Then create a sampling distribution of $b_1$ from a DGP where $\\beta_1 = 0$."
    },
    {
      "cell_type": "code",
      "execution_count": null,
      "metadata": {
        "cell_id": "00021-14378ddb-3590-4c78-9c97-22ff9f019b7d",
        "deepnote_cell_height": 147.96875,
        "deepnote_cell_type": "code",
        "deepnote_to_be_reexecuted": false,
        "execution_millis": 10,
        "execution_start": 1613066131216,
        "output_cleared": true,
        "source_hash": "c7fefb0b",
        "tags": [],
        "trusted": true
      },
      "outputs": [],
      "source": "# Create a sampling distribution of b1 here.\n# Save it as sdob1_no_effect\n\n\n# Visualize the sampling distribution in a histogram. "
    },
    {
      "cell_type": "markdown",
      "metadata": {
        "cell_id": "00022-490e1942-0034-43cb-af8d-eae7f5fe6548",
        "deepnote_cell_height": 111.5625,
        "deepnote_cell_type": "markdown",
        "tags": []
      },
      "source": "3.6 - The code below will color the middle .95 of samples in `dodgerblue`. Will the sample $b_1$ be an \"unlikely\" samples? \n\nAdd some code to depict the sample $b_1$ (2.12) in `green4`. "
    },
    {
      "cell_type": "code",
      "execution_count": null,
      "metadata": {
        "cell_id": "00023-977e43a4-132b-4fd6-8de8-d5e9cb2170cf",
        "deepnote_cell_height": 116.953125,
        "deepnote_cell_type": "code",
        "deepnote_to_be_reexecuted": false,
        "execution_millis": 232,
        "execution_start": 1613066132546,
        "output_cleared": true,
        "source_hash": "59352b7c",
        "tags": [],
        "trusted": true
      },
      "outputs": [],
      "source": "# this code makes a histogram \ngf_histogram(~ b1, data = sdob1_no_effect, binwidth = .5, fill = ~middle(b1, .95)) %>%\ngf_refine(scale_fill_manual(values = c(\"coral\", \"dodgerblue\")))"
    },
    {
      "cell_type": "markdown",
      "metadata": {
        "cell_id": "00024-e2d019bf-a933-4e1c-bdb6-8d76ca36cda4",
        "deepnote_cell_height": 111.140625,
        "deepnote_cell_type": "markdown",
        "tags": []
      },
      "source": "3.7 - Check out a different way of depicting the distribution triad (DGP, sampling distribution, and sample) here. Where should this sampling distribution go?\n\n*slides provided by your instructor (found in complete version)*"
    },
    {
      "cell_type": "markdown",
      "metadata": {
        "cell_id": "00025-36ce50d6-c64c-4313-accc-34ce6ed83f08",
        "deepnote_cell_height": 109.96875,
        "deepnote_cell_type": "markdown",
        "tags": []
      },
      "source": "## 4.0 - A DGP where the home game advantage is similar to our sample "
    },
    {
      "cell_type": "markdown",
      "metadata": {
        "cell_id": "00026-8b5e4417-7eb8-478f-8fa8-22f8b92740fc",
        "deepnote_cell_height": 74.75,
        "deepnote_cell_type": "markdown",
        "tags": []
      },
      "source": "4.1 - If the effect of `Location` in the real DGP was just like our sample, which model of the DGP should we prefer: the `Location` model or the empty model?"
    },
    {
      "cell_type": "markdown",
      "metadata": {
        "cell_id": "00027-61725636-565e-4444-9a41-4b9275368382",
        "deepnote_cell_height": 111.5625,
        "deepnote_cell_type": "markdown",
        "tags": []
      },
      "source": "4.2 - If the effect of `Location` was just like our sample, what would be the value of $\\beta_1$ \nin the DGP?\n\n$$Y_i = \\beta_0 + \\beta_1 X_i + \\epsilon_i$$"
    },
    {
      "cell_type": "markdown",
      "metadata": {
        "cell_id": "00028-ffd2e914-82a3-414b-ae4b-6cf110c8d1c8",
        "deepnote_cell_height": 171.140625,
        "deepnote_cell_type": "markdown",
        "tags": []
      },
      "source": "4.3 - Which of these functions (`shuffle()` or `resample()` as used\nbelow) will generate 1000 samples from a DGP that is basically just like our sample?\n\n```\ndo(1000) * b1(shuffle(Points) ~ Location, data = MiamiHeat)\n\ndo(1000) * b1(Points ~ Location, data = resample(MiamiHeat))\n```"
    },
    {
      "cell_type": "markdown",
      "metadata": {
        "cell_id": "00029-e749ed7c-f4e6-48a1-8b5f-c7acdee969b6",
        "deepnote_cell_height": 97.34375,
        "deepnote_cell_type": "markdown",
        "tags": []
      },
      "source": "4.4 - If the DGP was just like our sample, could it generate $b_1$s that show no effect of `Location`? Could such a DGP generate samples where the average `Points` in home games were *lower*  than the away average? Why or why not?"
    },
    {
      "cell_type": "markdown",
      "metadata": {
        "cell_id": "00030-6c3587be-816e-44f6-99dc-7a27fab9c2f4",
        "deepnote_cell_height": 156.546875,
        "deepnote_cell_type": "markdown",
        "tags": []
      },
      "source": "4.5 - If the home game advantage for `Points` in the DGP was just like our sample, could we ever get sample $b_1$ as extreme the one in our sample ($b_1 = 2.12$)? Would it be one of the \"unlikely\" $b_1$s from this DGP?\n\nMake a prediction. Then create a sampling distribution of $b_1$ from a DGP that is just like our sample ($\\beta_1 = 2.12$)."
    },
    {
      "cell_type": "code",
      "execution_count": null,
      "metadata": {
        "cell_id": "00031-79d0b0fb-6559-4755-8df5-2c2ef7ccb072",
        "deepnote_cell_height": 147.96875,
        "deepnote_cell_type": "code",
        "deepnote_to_be_reexecuted": false,
        "execution_millis": 8,
        "execution_start": 1613066132774,
        "output_cleared": true,
        "source_hash": "d1935754",
        "tags": [],
        "trusted": true
      },
      "outputs": [],
      "source": "# Create a sampling distribution of b1 here.\n# Save it as sdob1_same_effect\n\n\n# Visualize the sampling distribution in a histogram. "
    },
    {
      "cell_type": "markdown",
      "metadata": {
        "cell_id": "00032-bdce68c9-a677-49da-b4d1-0a842de13a76",
        "deepnote_cell_height": 133.953125,
        "deepnote_cell_type": "markdown",
        "tags": []
      },
      "source": "4.6 - The code below will color the middle .95 of samples in a shade of turquoise. \nWill the sample $b_1$ be one of those \"unlikely\" samples? \n\nAdd some code to depict the sample $b_1$ (2.12) in `green4`. Should it be added as a curve,\na line, something else?"
    },
    {
      "cell_type": "code",
      "execution_count": null,
      "metadata": {
        "cell_id": "00033-289ace6f-8e32-4db0-a678-eb78532c0e6d",
        "deepnote_cell_height": 98.953125,
        "deepnote_cell_type": "code",
        "deepnote_to_be_reexecuted": false,
        "execution_millis": 300,
        "execution_start": 1613066150059,
        "output_cleared": true,
        "source_hash": "66297716",
        "tags": [],
        "trusted": true
      },
      "outputs": [],
      "source": "# this code makes a histogram \ngf_histogram(~ b1, data = sdob1_same_effect, binwidth = .5, fill = ~middle(b1,.95))"
    },
    {
      "cell_type": "markdown",
      "metadata": {
        "cell_id": "00034-1bedccfa-131f-497e-b1b2-8da4c530683b",
        "deepnote_cell_height": 111.140625,
        "deepnote_cell_type": "markdown",
        "tags": []
      },
      "source": "4.7 - Check out a different way of depicting the distribution triad (DGP, sampling distribution, and sample) here. Where should this \"same effect\" sampling distribution go?\n\n*Slides in complete version*"
    },
    {
      "cell_type": "markdown",
      "metadata": {
        "cell_id": "00035-caa15a02-4e09-4003-809f-29eec8348bcb",
        "deepnote_cell_height": 69.96875,
        "deepnote_cell_type": "markdown",
        "tags": []
      },
      "source": "## 5.0 - Confidence Intervals"
    },
    {
      "cell_type": "markdown",
      "metadata": {
        "cell_id": "00036-8e40fd6d-7c94-4d89-b8be-f08e6aebce80",
        "deepnote_cell_height": 74.953125,
        "deepnote_cell_type": "markdown",
        "tags": []
      },
      "source": "5.1 - From these explorations, could the real $\\beta_1$ be 0? Could it be 2.12? Could it be \nsome other number? "
    },
    {
      "cell_type": "markdown",
      "metadata": {
        "cell_id": "00037-5065bac0-cd4e-4daf-94b7-1c4b665ed1fb",
        "deepnote_cell_height": 52.5625,
        "deepnote_cell_type": "markdown",
        "tags": []
      },
      "source": "5.2 - Use `confint()` to find the 95% confidence interval of $\\beta_1$. "
    },
    {
      "cell_type": "markdown",
      "metadata": {
        "cell_id": "00038-5bb0b6b9-dd81-4c8e-8cfe-a782242d1299",
        "deepnote_cell_height": 119.75,
        "deepnote_cell_type": "markdown",
        "tags": []
      },
      "source": "5.3 - Use the sampling distributions in the powerpoint link to show what the 95% confidence\ninterval around $\\beta_1$ means:\nWhat does the lowest number mean? What does the highest number mean? What units are these values in?"
    },
    {
      "cell_type": "markdown",
      "metadata": {
        "cell_id": "00039-d310698e-3d5b-427a-8693-896bb110ca1a",
        "deepnote_cell_height": 74.75,
        "deepnote_cell_type": "markdown",
        "tags": []
      },
      "source": "5.4 - Even though these sampling distributions were made in different ways (e.g., shuffling \nversus resampling), they seem to show us the same confidence interval. Why?"
    },
    {
      "cell_type": "markdown",
      "metadata": {
        "cell_id": "00040-02988488-02a8-4ab5-a429-7e95d4f5c2a6",
        "deepnote_cell_height": 74.75,
        "deepnote_cell_type": "markdown",
        "tags": []
      },
      "source": "5.5 - Based on all that we have done here, if you had to say what was the real effect of\nplaying at home, what would you say?"
    },
    {
      "cell_type": "markdown",
      "metadata": {
        "cell_id": "00041-bda9b05b-6f89-4c2f-a171-7f953710eac5",
        "deepnote_cell_height": 109.96875,
        "deepnote_cell_type": "markdown",
        "tags": []
      },
      "source": "## 6.0 - Home Game Advantage... in something else?"
    },
    {
      "cell_type": "markdown",
      "metadata": {
        "cell_id": "00042-058d84c4-c4e9-4898-93f1-9e3e6b733a7b",
        "deepnote_cell_height": 52.359375,
        "deepnote_cell_type": "markdown",
        "tags": []
      },
      "source": "6.1 - Is it possible there is a really big advantage to playing a home game?"
    },
    {
      "cell_type": "markdown",
      "metadata": {
        "cell_id": "00043-fc5362b1-0214-42ba-964c-4c2d36c71f03",
        "deepnote_cell_height": 74.75,
        "deepnote_cell_type": "markdown",
        "tags": []
      },
      "source": "6.2 - Which outcome of a basketball game seems like it would be most affected by playing at home:\npoints, free throws, or fouls?"
    },
    {
      "cell_type": "markdown",
      "metadata": {
        "cell_id": "00044-a06ecc81-6a70-4059-93f5-92e34aa60810",
        "deepnote_cell_height": 52.359375,
        "deepnote_cell_type": "markdown",
        "tags": []
      },
      "source": "6.3 - Which of these is most affected by the home game advantage? "
    },
    {
      "cell_type": "markdown",
      "metadata": {
        "cell_id": "00045-e8e9575b-fa7f-4ea2-a3be-fa8412f6a8bc",
        "deepnote_cell_height": 74.75,
        "deepnote_cell_type": "markdown",
        "tags": []
      },
      "source": "6.4 - Are you 95% confident that there is at least *some* effect of playing at home \nfor that outcome?"
    }
  ],
  "metadata": {
    "celltoolbar": "nbsimplegrader",
    "deepnote": {},
    "deepnote_execution_queue": [],
    "deepnote_notebook_id": "807d6293-cd14-47f4-89b0-9ecc3eda1336",
    "kernelspec": {
      "display_name": "R",
      "language": "R",
      "name": "ir"
    },
    "language_info": {
      "codemirror_mode": "r",
      "file_extension": ".r",
      "mimetype": "text/x-r-source",
      "name": "R",
      "pygments_lexer": "r",
      "version": "4.0.3"
    },
    "nbsimplegrader": {
      "publish_config": {
        "classes": [],
        "options": {},
        "tools": []
      }
    }
  },
  "nbformat": 4,
  "nbformat_minor": 4
}