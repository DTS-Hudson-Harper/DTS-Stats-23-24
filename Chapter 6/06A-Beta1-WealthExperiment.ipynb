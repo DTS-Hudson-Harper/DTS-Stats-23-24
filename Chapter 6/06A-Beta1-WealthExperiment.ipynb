{
  "cells": [
    {
      "cell_type": "markdown",
      "metadata": {
        "cell_id": "d166749394b84004986131fca73750e8",
        "deepnote_cell_height": 133.953125,
        "deepnote_cell_type": "markdown",
        "nbsimplegrader": {
          "config_key": "markdown.view-only",
          "editable": false,
          "label": "Markdown: View-Only",
          "respondable": false,
          "response": null,
          "runnable": false,
          "type": "markdown"
        },
        "output_cleared": false
      },
      "source": "# 6A: Does feeling rich make you act like a jerk?\n\n"
    },
    {
      "cell_type": "code",
      "execution_count": null,
      "metadata": {
        "cell_id": "f921732707cf4465b6342779f787ec9b",
        "deepnote_cell_height": 188.953125,
        "deepnote_cell_type": "code",
        "deepnote_to_be_reexecuted": false,
        "execution_millis": 1069,
        "execution_start": 1644295670635,
        "nbsimplegrader": {
          "config_key": "code.run-only",
          "editable": false,
          "label": "Code: Run-Only",
          "respondable": false,
          "response": null,
          "runnable": true,
          "type": "code"
        },
        "output_cleared": true,
        "source_hash": "a801d02a",
        "trusted": true
      },
      "outputs": [],
      "source": "# Load the CourseKata library\nsuppressPackageStartupMessages({\n    library(coursekata)\n})\n\nwealth_exp <- read.csv(\"https://docs.google.com/spreadsheets/d/e/2PACX-1vQpi4lozw4HVukSQqVnZ3PXTNnopxjd5MOUqQsAb2xq5k9SEVJRE5-38cZhYO-hG56PAJ1aBU4E0Ea3/pub?gid=1003006004&single=true&output=csv\", header = TRUE)\nwealth_exp$relative_class <- factor(wealth_exp$relative_class)"
    },
    {
      "cell_type": "markdown",
      "metadata": {
        "cell_id": "1a83527e137b4e2793f965182c121be7",
        "deepnote_cell_height": 590.734375,
        "deepnote_cell_type": "markdown",
        "output_cleared": false,
        "tags": []
      },
      "source": "UCI Professor, Paul Piff, and his colleagues conducted an experiment \n(Experiment 4 in [this paper](https://www.pnas.org/content/109/11/4086)). \nHe recruited male and female college students who were 18-22 years old. \nHe randomly assigned participants to **feel** like they were higher or lower in class. \n\n<img src=\"https://i.postimg.cc/vb6kMgvX/10-A-Mindset-Priming.png\" title=\"method of random assignment\" />\n\nAfter this priming phase, participants were asked to:\n\n1. Rank themselves on a social hierarchy\n2. Fill out a questionnaire measuring unethical decision-making tendencies\n3. Finally, participants were thanked and a jar of candies was presented (they were told the candies\nwere for children) and the number of candies that the participants took was recorded. "
    },
    {
      "cell_type": "markdown",
      "metadata": {
        "cell_id": "3dcec5e40d174926801e1baba1672fac",
        "deepnote_cell_height": 69.96875,
        "deepnote_cell_type": "markdown",
        "output_cleared": false,
        "tags": []
      },
      "source": "## 1.0 - The Data"
    },
    {
      "cell_type": "markdown",
      "metadata": {
        "cell_id": "6732943ba4c14b46af2811bcd5aeb0ae",
        "deepnote_cell_height": 74.75,
        "deepnote_cell_type": "markdown",
        "output_cleared": false,
        "tags": []
      },
      "source": "1.1 - Take a look at the data (already preloaded as `wealth_exp` for wealth experiment).\nAny questions about the variables or what they mean?"
    },
    {
      "cell_type": "markdown",
      "metadata": {
        "cell_id": "1aa6a021c9794ecbac545160e10e46c2",
        "deepnote_cell_height": 74.75,
        "deepnote_cell_type": "markdown",
        "output_cleared": false,
        "tags": []
      },
      "source": "1.2 - Professor Piff predicted that making people feel like they were high class\nwould affect their candy taking. Write this hypothesis as a word equation."
    },
    {
      "cell_type": "markdown",
      "metadata": {
        "cell_id": "14aace8aa82f49cdaac4994134b0f278",
        "deepnote_cell_height": 69.96875,
        "deepnote_cell_type": "markdown",
        "output_cleared": false,
        "tags": []
      },
      "source": "## 2.0 - Explore Variation"
    },
    {
      "cell_type": "markdown",
      "metadata": {
        "cell_id": "3020368473d94ae692ed1e5613f65931",
        "deepnote_cell_height": 74.75,
        "deepnote_cell_type": "markdown",
        "output_cleared": false,
        "tags": []
      },
      "source": "2.1 - Explore this hypothesis with a visualization. What do you think of this hypothesis\nfrom the data that you see?"
    },
    {
      "cell_type": "markdown",
      "metadata": {
        "cell_id": "95109d1530d04992b76c53acf866881d",
        "deepnote_cell_height": 97.140625,
        "deepnote_cell_type": "markdown",
        "output_cleared": false,
        "tags": []
      },
      "source": "2.2 - Could we have gotten data that looks like this if there wasn't really a difference in candy-taking in the Data Generating Process? How would we represent this DGP as a word equation? (Could we try it in R somehow?)"
    },
    {
      "cell_type": "markdown",
      "metadata": {
        "cell_id": "e1f188dfa2bc458cbeae973c127eda69",
        "deepnote_cell_height": 69.96875,
        "deepnote_cell_type": "markdown",
        "output_cleared": false,
        "tags": []
      },
      "source": "## 3.0 - Model Variation"
    },
    {
      "cell_type": "markdown",
      "metadata": {
        "cell_id": "987e10e35f1e46a09b92c0138381b8b5",
        "deepnote_cell_height": 111.34375,
        "deepnote_cell_type": "markdown",
        "output_cleared": false,
        "tags": []
      },
      "source": "3.1 - What's the best fitting model of this hypothesis?\nSpecify and fit a formal model (in GLM format). \n\n$$Y_i = ... + e_i$$"
    },
    {
      "cell_type": "markdown",
      "metadata": {
        "cell_id": "9a327a1b2a074920bdeb3caabd41b05b",
        "deepnote_cell_height": 74.75,
        "deepnote_cell_type": "markdown",
        "output_cleared": false,
        "tags": []
      },
      "source": "3.2 - Interpret the best fitting estimates in your model  by connecting it to \nthe visualization below."
    },
    {
      "cell_type": "code",
      "execution_count": null,
      "metadata": {
        "cell_id": "a76d53111a814b02ab2a43b4c869cb98",
        "deepnote_cell_height": 98.953125,
        "deepnote_cell_type": "code",
        "deepnote_to_be_reexecuted": false,
        "execution_millis": 179,
        "execution_start": 1644297876687,
        "output_cleared": true,
        "source_hash": "fdb1a0df",
        "tags": [],
        "trusted": true
      },
      "outputs": [],
      "source": "gf_jitter(candies ~ relative_class, data = wealth_exp, width = .1, height = .3, size = 3, alpha = .5) %>%\ngf_model(candies ~ relative_class, data = wealth_exp)"
    },
    {
      "cell_type": "markdown",
      "metadata": {
        "cell_id": "ea3831933a004c97ab875ba45bc41018",
        "deepnote_cell_height": 52.359375,
        "deepnote_cell_type": "markdown",
        "output_cleared": false,
        "tags": []
      },
      "source": "3.3 - Is your model better than the empty model? How much better?"
    },
    {
      "cell_type": "markdown",
      "metadata": {
        "cell_id": "9004efdb87634bb9acb70e5af53a59e0",
        "deepnote_cell_height": 69.96875,
        "deepnote_cell_type": "markdown",
        "output_cleared": false,
        "tags": []
      },
      "source": "## 4.0 - Estimating the DGP"
    },
    {
      "cell_type": "markdown",
      "metadata": {
        "cell_id": "f877e79a1b8b4fe4aa06b9d8176e7230",
        "deepnote_cell_height": 111.34375,
        "deepnote_cell_type": "markdown",
        "output_cleared": false,
        "tags": []
      },
      "source": "4.1 - Is it possible that there is no difference between these two groups\nin the DGP? If so, how would we represent that in GLM format?\n\n$$Y_i = \\beta_0 + \\beta_1 X_i + \\epsilon_i$$"
    },
    {
      "cell_type": "markdown",
      "metadata": {
        "cell_id": "faaf59e133e946ef95088746a9d6f087",
        "deepnote_cell_height": 88.953125,
        "deepnote_cell_type": "markdown",
        "output_cleared": false,
        "tags": []
      },
      "source": "4.2 - What is the best point estimate of the DGP from this data? \n\n$$Y_i = \\beta_0 + \\beta_1 X_i + \\epsilon_i$$\n"
    },
    {
      "cell_type": "markdown",
      "metadata": {
        "cell_id": "941e03baaa674ff680b307aceac8d448",
        "deepnote_cell_height": 52.5625,
        "deepnote_cell_type": "markdown",
        "output_cleared": false,
        "tags": []
      },
      "source": "4.3 - Could the $\\beta_1$ in the DGP be a different number than the number above? What else could it be? "
    },
    {
      "cell_type": "markdown",
      "metadata": {
        "cell_id": "0aac045c49b24b53aeba28f34736fc19",
        "deepnote_cell_height": 69.96875,
        "deepnote_cell_type": "markdown",
        "output_cleared": false,
        "tags": []
      },
      "source": "## 5.0 - Imagining Some Different DGPs"
    },
    {
      "cell_type": "markdown",
      "metadata": {
        "cell_id": "cbdffc7405144a1683c1724af18e85f6",
        "deepnote_cell_type": "markdown",
        "output_cleared": false,
        "tags": []
      },
      "source": "Here we will actually simulate creating samples from an imaginary DGP. Would that DGP be able to produce our sample? Would our sample be considered one of the \"unlikely\" samples from this DGP?\n\nIn previous chapters, we focused on `shuffle()` as a DGP (where $\\beta_1 = 0$). \n\nNow we will shift to thinking about a slightly different DGP: bootstrapping using the function `resample()`. This DGP assumes the DGP is just like our sample so the $\\beta_1 = b_1$."
    },
    {
      "cell_type": "markdown",
      "metadata": {
        "cell_id": "5c37e09e40194aad9ea48f9a20775680",
        "deepnote_cell_height": 74.75,
        "deepnote_cell_type": "markdown",
        "output_cleared": false,
        "tags": []
      },
      "source": "5.1 - Run the code below a few times. Why does only one of the numbers change?\nInterpret the two numbers the code produces."
    },
    {
      "cell_type": "code",
      "execution_count": null,
      "metadata": {
        "cell_id": "580026fe9eb14b19a1b0b9f1e9eb6422",
        "deepnote_cell_height": 129.953125,
        "deepnote_cell_type": "code",
        "deepnote_to_be_reexecuted": false,
        "execution_millis": 30,
        "execution_start": 1644295771642,
        "output_cleared": true,
        "source_hash": "f5ae1dba",
        "tags": [],
        "trusted": true
      },
      "outputs": [],
      "source": "sample_b1 <- b1(candies ~ relative_class, data = wealth_exp)\nsample_b1\n\nb1(candies ~ relative_class, data = resample(wealth_exp))"
    },
    {
      "cell_type": "markdown",
      "metadata": {
        "cell_id": "cf28c870b45d422f852733d06c2a1c48",
        "deepnote_cell_height": 111.34375,
        "deepnote_cell_type": "markdown",
        "output_cleared": false,
        "tags": []
      },
      "source": "5.2 - In the code below, what is the model of the DGP we are simulating? (Represent \nthat DGP using GLM notation we've put here for you.)\n\n$$Y_i = \\beta_0 + \\beta_1 X_i + \\epsilon_i$$"
    },
    {
      "cell_type": "code",
      "execution_count": null,
      "metadata": {
        "cell_id": "5bad7859971e4ee3ab7b95d43ecb6631",
        "deepnote_cell_height": 75.953125,
        "deepnote_cell_type": "code",
        "deepnote_to_be_reexecuted": false,
        "execution_millis": 1759,
        "execution_start": 1644295776855,
        "output_cleared": true,
        "source_hash": "dcfeaaae",
        "tags": [],
        "trusted": true
      },
      "outputs": [],
      "source": "sdob1 <- do(1000) * b1(candies ~ relative_class, data = resample(wealth_exp))"
    },
    {
      "cell_type": "markdown",
      "metadata": {
        "cell_id": "c03e76ca9bc04e9caf5d842caafd784a",
        "deepnote_cell_height": 111.140625,
        "deepnote_cell_type": "markdown",
        "output_cleared": false,
        "tags": []
      },
      "source": "5.3 - Where will our sample b1 (`sample_b1`) be in the resulting \nsampling distribution of b1s? Would it be considered a \"likely\" sample from this DGP?\n\nWrite your prediction -- then run the code below."
    },
    {
      "cell_type": "code",
      "execution_count": null,
      "metadata": {
        "cell_id": "aa8436113f5e4ef8a5d96868bd5151bf",
        "deepnote_cell_height": 93.953125,
        "deepnote_cell_type": "code",
        "deepnote_to_be_reexecuted": false,
        "execution_millis": 1,
        "execution_start": 1644297561707,
        "output_cleared": true,
        "source_hash": "f2667d3f",
        "tags": [],
        "trusted": true
      },
      "outputs": [],
      "source": "#gf_histogram(~ b1, data = sdob1, binwidth = .025, fill = ~middle(b1, .95)) %>%\n#gf_point(0 ~ sample_b1, color = \"black\", size = 2, show.legend = FALSE)"
    },
    {
      "cell_type": "markdown",
      "metadata": {
        "cell_id": "e850641314a4439ba4f091133e8ce26b",
        "deepnote_cell_height": 74.75,
        "deepnote_cell_type": "markdown",
        "output_cleared": false,
        "tags": []
      },
      "source": "5.4 - Let's slide around some sampling distributions in the distribution triad diagram to explore these ideas (your instructor will share the slideshow with you)."
    },
    {
      "cell_type": "markdown",
      "metadata": {
        "cell_id": "1e07b81cc00c4c53bac6605f9efddea6",
        "deepnote_cell_height": 69.96875,
        "deepnote_cell_type": "markdown",
        "output_cleared": false,
        "tags": []
      },
      "source": "## 6.0 - Other DGPs!"
    },
    {
      "cell_type": "markdown",
      "metadata": {
        "cell_id": "e51dd1b7e4c848e2a90565d27c3823bf",
        "deepnote_cell_height": 170.140625,
        "deepnote_cell_type": "markdown",
        "output_cleared": false,
        "tags": []
      },
      "source": "6.1 - Once we have one sampling distribution, we can slide it around to mimic other DGPs! For \nexample, we can mimic:\n\n$$Y_i = \\beta_0 + 0 X_i + \\epsilon_i$$\n\nWhat does the code below do? In the slideshow, \"move the sampling distribution\" to mimic the code below."
    },
    {
      "cell_type": "code",
      "execution_count": null,
      "metadata": {
        "cell_id": "ac43664588f140a2a392aa79145f6b3d",
        "deepnote_cell_height": 75.953125,
        "deepnote_cell_type": "code",
        "deepnote_to_be_reexecuted": false,
        "execution_millis": 10,
        "execution_start": 1644296367419,
        "output_cleared": true,
        "source_hash": "6900df08",
        "tags": [],
        "trusted": true
      },
      "outputs": [],
      "source": "sdob1$b1_no_effect <- sdob1$b1 - sample_b1"
    },
    {
      "cell_type": "code",
      "execution_count": null,
      "metadata": {
        "cell_id": "3be32a4e949e4d84beeab1a4fea18dfa",
        "deepnote_cell_height": 147.96875,
        "deepnote_cell_type": "code",
        "deepnote_to_be_reexecuted": false,
        "execution_millis": 413,
        "execution_start": 1644296690015,
        "output_cleared": true,
        "source_hash": "b0d659c8",
        "tags": [],
        "trusted": true
      },
      "outputs": [],
      "source": "# Edit this code to depict a sampling distribution of b1 from a DGP\n# where there is no effect of feeling higher class\n# (make sure to change the fill too!)\ngf_histogram(~ b1, data = sdob1, binwidth = .025, fill = ~middle(b1, .95)) %>%\ngf_point(0 ~ sample_b1, color = \"black\", size = 2, show.legend = FALSE)"
    },
    {
      "cell_type": "markdown",
      "metadata": {
        "cell_id": "1f9d4436225543a0b3cfbfe2b9fb52b4",
        "deepnote_cell_height": 147.734375,
        "deepnote_cell_type": "markdown",
        "output_cleared": false,
        "tags": []
      },
      "source": "6.2 - What DGP would you like to mimic? Write it down here:\n\n$$Y_i = \\beta_0 + ? X_i + \\epsilon_i$$\n\nDepict this DGP in the google slides diagram by moving the sampling distribution of b1s\n(SDob1) around. Is the sample going to be one of the \"unlikely\" samples from this DGP?"
    },
    {
      "cell_type": "code",
      "execution_count": null,
      "metadata": {
        "cell_id": "8135a4f5b9734a57b603154bbf7c8c6c",
        "deepnote_cell_height": 170.953125,
        "deepnote_cell_type": "code",
        "deepnote_to_be_reexecuted": false,
        "execution_millis": 386,
        "execution_start": 1644296764775,
        "output_cleared": true,
        "source_hash": "d6ed9654",
        "tags": [],
        "trusted": true
      },
      "outputs": [],
      "source": "# change this line of code to reflect the DGP you want to try out\n# in this example, the beta1 = .75\nsdob1$b1_my_DGP <- sdob1$b1_no_effect + .75\n\ngf_histogram(~ b1_my_DGP, data = sdob1, binwidth = .025, fill = ~middle(b1_my_DGP,.95)) %>%\ngf_point(0 ~ sample_b1, color = \"black\", size = 2, show.legend = FALSE)"
    },
    {
      "cell_type": "markdown",
      "metadata": {
        "cell_id": "572ffc2d1c1041a1955379a20c30c0b2",
        "deepnote_cell_height": 111.34375,
        "deepnote_cell_type": "markdown",
        "output_cleared": false,
        "tags": []
      },
      "source": "6.3 - Using the Google slides, what is the highest $\\beta_1$ that could produce our sample and it would be\ncounted as \"likely\"? \n\nNow answer this question using the R function `confint()`."
    },
    {
      "cell_type": "markdown",
      "metadata": {
        "cell_id": "f4492e0cdca244c39bf2de250f0f6538",
        "deepnote_cell_height": 74.953125,
        "deepnote_cell_type": "markdown",
        "output_cleared": false,
        "tags": []
      },
      "source": "6.4 - What is the lowest $\\beta_1$ that could produce our sample and it would be\ncounted as \"likely\"?"
    }
  ],
  "metadata": {
    "celltoolbar": "nbsimplegrader",
    "deepnote": {},
    "deepnote_execution_queue": [],
    "deepnote_notebook_id": "2d7949f993504d86844978a4b5d2ece1",
    "kernelspec": {
      "display_name": "R",
      "language": "R",
      "name": "ir"
    },
    "language_info": {
      "codemirror_mode": "r",
      "file_extension": ".r",
      "mimetype": "text/x-r-source",
      "name": "R",
      "pygments_lexer": "r",
      "version": "4.0.3"
    },
    "nbsimplegrader": {
      "publish_config": {
        "classes": [],
        "options": {},
        "tools": []
      }
    }
  },
  "nbformat": 4,
  "nbformat_minor": 1
}