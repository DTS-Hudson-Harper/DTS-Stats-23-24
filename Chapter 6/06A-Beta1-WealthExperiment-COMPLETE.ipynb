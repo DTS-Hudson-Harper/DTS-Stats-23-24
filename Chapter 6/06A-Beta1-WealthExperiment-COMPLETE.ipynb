{
  "cells": [
    {
      "cell_type": "markdown",
      "metadata": {
        "cell_id": "4cfe9f977520449f811d6eee12ca90de",
        "deepnote_cell_height": 224.3125,
        "deepnote_cell_type": "markdown",
        "nbsimplegrader": {
          "config_key": "markdown.view-only",
          "editable": false,
          "label": "Markdown: View-Only",
          "respondable": false,
          "response": null,
          "runnable": false,
          "type": "markdown"
        },
        "output_cleared": false
      },
      "source": "<div class=\"alert alert-block alert-danger\">\n\n# 6A: Does feeling rich make you act like a jerk? (COMPLETE)\n\n**Lesson assumes students have read up through page: 6.3**\n\n</div>"
    },
    {
      "cell_type": "markdown",
      "metadata": {
        "cell_id": "15606b5828e24faa98d6c38f28f14896",
        "deepnote_cell_height": 163.9375,
        "deepnote_cell_type": "markdown",
        "tags": []
      },
      "source": "<div class=\"alert alert-block alert-success\">\n\n## Approximate time to complete Notebook: 45-60 Mins\n    \n</div>"
    },
    {
      "cell_type": "code",
      "execution_count": null,
      "metadata": {
        "cell_id": "30a86137c2194338a7ab0a89ab4ce5f0",
        "deepnote_cell_height": 188.953125,
        "deepnote_cell_type": "code",
        "deepnote_to_be_reexecuted": false,
        "execution_millis": 4248,
        "execution_start": 1644530832653,
        "nbsimplegrader": {
          "config_key": "code.run-only",
          "editable": false,
          "label": "Code: Run-Only",
          "respondable": false,
          "response": null,
          "runnable": true,
          "type": "code"
        },
        "output_cleared": true,
        "source_hash": "a801d02a",
        "trusted": true
      },
      "outputs": [],
      "source": "# Load the CourseKata library\nsuppressPackageStartupMessages({\n    library(coursekata)\n})\n\nwealth_exp <- read.csv(\"https://docs.google.com/spreadsheets/d/e/2PACX-1vQpi4lozw4HVukSQqVnZ3PXTNnopxjd5MOUqQsAb2xq5k9SEVJRE5-38cZhYO-hG56PAJ1aBU4E0Ea3/pub?gid=1003006004&single=true&output=csv\", header = TRUE)\nwealth_exp$relative_class <- factor(wealth_exp$relative_class)"
    },
    {
      "cell_type": "markdown",
      "metadata": {
        "cell_id": "33350fa07513454995b136a419b5d7c7",
        "deepnote_cell_height": 590.734375,
        "deepnote_cell_type": "markdown",
        "output_cleared": false,
        "tags": []
      },
      "source": "UCI Professor, Paul Piff, and his colleagues conducted an experiment \n(Experiment 4 in [this paper](https://www.pnas.org/content/109/11/4086)). \nHe recruited male and female college students who were 18-22 years old. \nHe randomly assigned participants to **feel** like they were higher or lower in class. \n\n<img src=\"https://i.postimg.cc/vb6kMgvX/10-A-Mindset-Priming.png\" title=\"method of random assignment\" />\n\nAfter this priming phase, participants were asked to:\n\n1. Rank themselves on a social hierarchy\n2. Fill out a questionnaire measuring unethical decision-making tendencies\n3. Finally, participants were thanked and a jar of candies was presented (they were told the candies\nwere for children) and the number of candies that the participants took was recorded. "
    },
    {
      "cell_type": "markdown",
      "metadata": {
        "cell_id": "7dca72569ffd4d2cbb8366cee74f1c68",
        "deepnote_cell_height": 115.9375,
        "deepnote_cell_type": "markdown",
        "tags": []
      },
      "source": "<div class=\"alert alert-block alert-success\">\n\n### 1.0 - Approximate Time: 3-5 mins\n    \n</div>"
    },
    {
      "cell_type": "markdown",
      "metadata": {
        "cell_id": "eb7e93d56ce74c8ba927e7a469d07c48",
        "deepnote_cell_height": 69.96875,
        "deepnote_cell_type": "markdown",
        "output_cleared": false,
        "tags": []
      },
      "source": "## 1.0 - The Data"
    },
    {
      "cell_type": "markdown",
      "metadata": {
        "cell_id": "348a1c44e7944ab09c5dd67e450bcd27",
        "deepnote_cell_height": 74.75,
        "deepnote_cell_type": "markdown",
        "output_cleared": false,
        "tags": []
      },
      "source": "1.1 - Take a look at the data (already preloaded as `wealth_exp` for wealth experiment).\nAny questions about the variables or what they mean?"
    },
    {
      "cell_type": "code",
      "execution_count": null,
      "metadata": {
        "cell_id": "2c7f97fed0bb426bb1d663e00d922277",
        "deepnote_cell_height": 111.953125,
        "deepnote_cell_type": "code",
        "deepnote_to_be_reexecuted": false,
        "execution_millis": 54,
        "execution_start": 1644530836946,
        "output_cleared": true,
        "source_hash": "13704f8d",
        "tags": [],
        "trusted": true
      },
      "outputs": [],
      "source": "# Look at the data\nhead(wealth_exp)\nstr(wealth_exp)"
    },
    {
      "cell_type": "markdown",
      "metadata": {
        "cell_id": "cb11c70d7f2f401da9e7d46216353a72",
        "deepnote_cell_height": 74.75,
        "deepnote_cell_type": "markdown",
        "output_cleared": false,
        "tags": []
      },
      "source": "1.2 - Professor Piff predicted that making people feel like they were high class\nwould affect their candy taking. Write this hypothesis as a word equation."
    },
    {
      "cell_type": "markdown",
      "metadata": {
        "cell_id": "a348a8f57e72450abc6df94207cd5547",
        "deepnote_cell_height": 140.71875,
        "deepnote_cell_type": "markdown",
        "tags": []
      },
      "source": "<div class=\"alert alert-block alert-warning\">\n\n**Sample Response**\n\nCANDIES = RELATIVE CLASS + OTHER STUFF\n    \n</div>"
    },
    {
      "cell_type": "markdown",
      "metadata": {
        "cell_id": "d2f9ac4d0a3a452bb1ecd0f0303ffe5e",
        "deepnote_cell_height": 115.9375,
        "deepnote_cell_type": "markdown",
        "tags": []
      },
      "source": "<div class=\"alert alert-block alert-success\">\n\n### 2.0 - Approximate Time:  5-8 mins\n    \n</div>"
    },
    {
      "cell_type": "markdown",
      "metadata": {
        "cell_id": "cdbd08a4a1e3487e83e4f5a61624ef88",
        "deepnote_cell_height": 69.96875,
        "deepnote_cell_type": "markdown",
        "output_cleared": false,
        "tags": []
      },
      "source": "## 2.0 - Explore Variation"
    },
    {
      "cell_type": "markdown",
      "metadata": {
        "cell_id": "4a8daddcbd4e4afd91cea814f316a3d6",
        "deepnote_cell_height": 74.75,
        "deepnote_cell_type": "markdown",
        "output_cleared": false,
        "tags": []
      },
      "source": "2.1 - Explore this hypothesis with a visualization. What do you think of this hypothesis\nfrom the data that you see?"
    },
    {
      "cell_type": "code",
      "execution_count": null,
      "metadata": {
        "cell_id": "fa9614e78ced443aa8ab8a261404accf",
        "deepnote_cell_height": 80.953125,
        "deepnote_cell_type": "code",
        "deepnote_to_be_reexecuted": false,
        "execution_millis": 296,
        "execution_start": 1644530837007,
        "output_cleared": true,
        "source_hash": "ebe9cf20",
        "tags": [],
        "trusted": true
      },
      "outputs": [],
      "source": "gf_jitter(candies ~ relative_class, data = wealth_exp, width = .1, height = .3, size = 3, alpha = .5)"
    },
    {
      "cell_type": "markdown",
      "metadata": {
        "cell_id": "7d79cdecd38243df8497a3d3aa22906a",
        "deepnote_cell_height": 207.90625,
        "deepnote_cell_type": "markdown",
        "tags": []
      },
      "source": "<div class=\"alert alert-block alert-warning\">\n\n**Sample Response**\n\n*Students may observe that they look kind of similar, but that some of the highest numbers are in the \nupper-class group, and that the lower class group has a bit more of the values clustered at zero.*\n    \n</div>"
    },
    {
      "cell_type": "markdown",
      "metadata": {
        "cell_id": "0197a4f8b859441ca7cc694cd2c3ea69",
        "deepnote_cell_height": 97.140625,
        "deepnote_cell_type": "markdown",
        "output_cleared": false,
        "tags": []
      },
      "source": "2.2 - Could we have gotten data that looks like this if there wasn't really a difference in candy-taking in the Data Generating Process? How would we represent this DGP as a word equation? (Could we try it in R somehow?)"
    },
    {
      "cell_type": "markdown",
      "metadata": {
        "cell_id": "0316453421fb4ceb8c11cb86c2e81998",
        "deepnote_cell_height": 235.90625,
        "deepnote_cell_type": "markdown",
        "tags": []
      },
      "source": "<div class=\"alert alert-block alert-warning\">\n\n**Sample Response**\n\nYes, we could get an outcome like this even if there wasn't really a difference.\n\nWord Eqauation: candies = mean + error; candies = other stuff\n\nWe could try it in R by using `shuffle()` to randomize the variables and remove any relationship that may exist.\n    \n</div>"
    },
    {
      "cell_type": "markdown",
      "metadata": {
        "cell_id": "a006e8929aba446584095d560365f8b9",
        "deepnote_cell_height": 115.9375,
        "deepnote_cell_type": "markdown",
        "tags": []
      },
      "source": "<div class=\"alert alert-block alert-success\">\n\n### 3.0 - Approximate Time: 5-8 mins\n    \n</div>"
    },
    {
      "cell_type": "markdown",
      "metadata": {
        "cell_id": "357d8ad926c247ab8de38808a978d268",
        "deepnote_cell_height": 69.96875,
        "deepnote_cell_type": "markdown",
        "output_cleared": false,
        "tags": []
      },
      "source": "## 3.0 - Model Variation"
    },
    {
      "cell_type": "markdown",
      "metadata": {
        "cell_id": "a5f5774a3cbb4cb5b90a419e11ccd6f4",
        "deepnote_cell_height": 111.34375,
        "deepnote_cell_type": "markdown",
        "output_cleared": false,
        "tags": []
      },
      "source": "3.1 - What's the best fitting model of this hypothesis?\nSpecify and fit a formal model (in GLM format). \n\n$$Y_i = ... + e_i$$"
    },
    {
      "cell_type": "code",
      "execution_count": null,
      "metadata": {
        "cell_id": "06b7b62a93b2469eb12ae74bcfa5e741",
        "deepnote_cell_height": 111.953125,
        "deepnote_cell_type": "code",
        "deepnote_to_be_reexecuted": false,
        "execution_millis": 70,
        "execution_start": 1644530837299,
        "output_cleared": true,
        "source_hash": "c5df12c4",
        "tags": [],
        "trusted": true
      },
      "outputs": [],
      "source": "# Fit the model with lm()\nrel_class_model <- lm(candies ~ relative_class, data = wealth_exp)\nrel_class_model"
    },
    {
      "cell_type": "markdown",
      "metadata": {
        "cell_id": "b558475c32b748d6ac0f514213f0164f",
        "deepnote_cell_height": 140.9375,
        "deepnote_cell_type": "markdown",
        "tags": []
      },
      "source": "<div class=\"alert alert-block alert-warning\">\n\n**Sample Response**\n\n$candies_i = 0.64 + 0.47(relativeclass_i) + e_i$\n    \n</div>"
    },
    {
      "cell_type": "markdown",
      "metadata": {
        "cell_id": "80134da002db44f6a37b62b80adb36de",
        "deepnote_cell_height": 74.75,
        "deepnote_cell_type": "markdown",
        "output_cleared": false,
        "tags": []
      },
      "source": "3.2 - Interpret the best fitting estimates in your model  by connecting it to \nthe visualization below."
    },
    {
      "cell_type": "code",
      "execution_count": null,
      "metadata": {
        "cell_id": "5014cbf6b25c45e69cdc66d594499ff0",
        "deepnote_cell_height": 98.953125,
        "deepnote_cell_type": "code",
        "deepnote_to_be_reexecuted": false,
        "execution_millis": 239,
        "execution_start": 1644530837363,
        "output_cleared": true,
        "source_hash": "fdb1a0df",
        "tags": [],
        "trusted": true
      },
      "outputs": [],
      "source": "gf_jitter(candies ~ relative_class, data = wealth_exp, width = .1, height = .3, size = 3, alpha = .5) %>%\ngf_model(candies ~ relative_class, data = wealth_exp)"
    },
    {
      "cell_type": "markdown",
      "metadata": {
        "cell_id": "4c98659de7854a4c95ba83dfef345e54",
        "deepnote_cell_height": 303.703125,
        "deepnote_cell_type": "markdown",
        "tags": []
      },
      "source": "<div class=\"alert alert-block alert-warning\">\n\n**Sample Response**\n\nThe $b_0$ estimate is 0.64. This means that those in the lower-class group took about 0.64 candies on \naverage.\n\nThe $b_1$ estimate is 0.47. This means that those in the upper-class group took about 0.47 more candies \non average than the lower-class group.\n\n$b_1$ is the distance between the mean of the lower-class group and the upper-class group.\n    \n</div>"
    },
    {
      "cell_type": "markdown",
      "metadata": {
        "cell_id": "17f1261c80804bb6a1e9f89e0fc21c3a",
        "deepnote_cell_height": 52.359375,
        "deepnote_cell_type": "markdown",
        "output_cleared": false,
        "tags": []
      },
      "source": "3.3 - Is your model better than the empty model? How much better?"
    },
    {
      "cell_type": "code",
      "execution_count": null,
      "metadata": {
        "cell_id": "219d3ed9f5cd416c81e04f42ce0ea767",
        "deepnote_cell_height": 93.953125,
        "deepnote_cell_type": "code",
        "deepnote_to_be_reexecuted": false,
        "execution_millis": 35,
        "execution_start": 1644530837593,
        "output_cleared": true,
        "source_hash": "3218f22d",
        "tags": [],
        "trusted": true
      },
      "outputs": [],
      "source": "# Look at the supernova() table for the model\nsupernova(rel_class_model)"
    },
    {
      "cell_type": "markdown",
      "metadata": {
        "cell_id": "1527459ac8574b60a28c01dea05a2b3d",
        "deepnote_cell_height": 185.515625,
        "deepnote_cell_type": "markdown",
        "tags": []
      },
      "source": "<div class=\"alert alert-block alert-warning\">\n\n**Sample Response**\n\nThis model is better than the empty model because, according to the PRE, it explains about 7.5% more \nof the variation in candy taking than the empty model.\n    \n</div>"
    },
    {
      "cell_type": "markdown",
      "metadata": {
        "cell_id": "201804814efe41ccb39ccea7f94a4f47",
        "deepnote_cell_height": 115.9375,
        "deepnote_cell_type": "markdown",
        "tags": []
      },
      "source": "<div class=\"alert alert-block alert-success\">\n\n### 4.0 - Approximate Time: 8-10 mins\n    \n</div>"
    },
    {
      "cell_type": "markdown",
      "metadata": {
        "cell_id": "9d28fba31e924b9e8d2f28a512205ef1",
        "deepnote_cell_height": 69.96875,
        "deepnote_cell_type": "markdown",
        "output_cleared": false,
        "tags": []
      },
      "source": "## 4.0 - Estimating the DGP"
    },
    {
      "cell_type": "markdown",
      "metadata": {
        "cell_id": "5358aeb24ffc48e79b44e1f0693dfa79",
        "deepnote_cell_height": 111.34375,
        "deepnote_cell_type": "markdown",
        "output_cleared": false,
        "tags": []
      },
      "source": "4.1 - Is it possible that there is no difference between these two groups\nin the DGP? If so, how would we represent that in GLM format?\n\n$$Y_i = \\beta_0 + \\beta_1 X_i + \\epsilon_i$$"
    },
    {
      "cell_type": "markdown",
      "metadata": {
        "cell_id": "0de86a70db304bdf855765cbfe50d53f",
        "deepnote_cell_height": 213.71875,
        "deepnote_cell_type": "markdown",
        "tags": []
      },
      "source": "<div class=\"alert alert-block alert-warning\">\n\n**Sample Response**\n\nYes, it is possible that there is no difference between these two groups in the DGP.\n\nWe could represent that as follows:\n\n$$candies_i = \\beta_0 + 0 (relative class_i) + \\epsilon_i$$\n    \n</div>"
    },
    {
      "cell_type": "markdown",
      "metadata": {
        "cell_id": "fa10d0deced741aea8d75cd355bce514",
        "deepnote_cell_height": 125.34375,
        "deepnote_cell_type": "markdown",
        "output_cleared": false,
        "tags": []
      },
      "source": "4.2 - What is the best point estimate of the DGP from this data? \n\n$$Y_i = \\beta_0 + \\beta_1 X_i + \\epsilon_i$$\n\nNote: Learn a new function!"
    },
    {
      "cell_type": "code",
      "execution_count": null,
      "metadata": {
        "cell_id": "dda5a28f141648d988e534df1180f2a5",
        "deepnote_cell_height": 129.953125,
        "deepnote_cell_type": "code",
        "deepnote_to_be_reexecuted": false,
        "execution_millis": 3,
        "execution_start": 1644530837674,
        "output_cleared": true,
        "source_hash": "c7bcab70",
        "tags": [],
        "trusted": true
      },
      "outputs": [],
      "source": "# New function: b1()\n\nsample_b1 <- b1(candies ~ relative_class, data = wealth_exp)\nsample_b1"
    },
    {
      "cell_type": "markdown",
      "metadata": {
        "cell_id": "5615e7bcb42e4677afa50234e8e8cf3c",
        "deepnote_cell_height": 163.328125,
        "deepnote_cell_type": "markdown",
        "tags": []
      },
      "source": "<div class=\"alert alert-block alert-warning\">\n\n**Sample Response**\n\nThe best point estimate of the DGP from this sample of data is 0.47 ($b_1$), meaning the \neffect of relative class is that it increases the number of candies taken by 0.47 candies.\n    \n</div>"
    },
    {
      "cell_type": "markdown",
      "metadata": {
        "cell_id": "606231d217444b05a85624024c3d0f94",
        "deepnote_cell_height": 52.5625,
        "deepnote_cell_type": "markdown",
        "output_cleared": false,
        "tags": []
      },
      "source": "4.3 - Could the $\\beta_1$ in the DGP be a different number than the number above? What else could it be? "
    },
    {
      "cell_type": "markdown",
      "metadata": {
        "cell_id": "a0d84547bd7c44b3a89c85d2a72d9046",
        "deepnote_cell_height": 140.9375,
        "deepnote_cell_type": "markdown",
        "tags": []
      },
      "source": "<div class=\"alert alert-block alert-warning\">\n\n**Sample Response**\n\nYes, the $\\beta_1$ could be a different number. It could be a range of unknown numbers.\n    \n</div>"
    },
    {
      "cell_type": "markdown",
      "metadata": {
        "cell_id": "21098c48b8194f5d9b01371319f0a3aa",
        "deepnote_cell_height": 115.9375,
        "deepnote_cell_type": "markdown",
        "tags": []
      },
      "source": "<div class=\"alert alert-block alert-success\">\n\n### 5.0 - Approximate Time: 12-15 mins\n    \n</div>"
    },
    {
      "cell_type": "markdown",
      "metadata": {
        "cell_id": "247aa8c81e9644a8a309a95616b9536d",
        "deepnote_cell_height": 69.96875,
        "deepnote_cell_type": "markdown",
        "output_cleared": false,
        "tags": []
      },
      "source": "## 5.0 - Imagining Some Different DGPs"
    },
    {
      "cell_type": "markdown",
      "metadata": {
        "cell_id": "5a6fea0ac1894ae4865fa2feacfee8d9",
        "deepnote_cell_type": "markdown",
        "output_cleared": false,
        "tags": []
      },
      "source": "Here we will actually simulate creating samples from an imaginary DGP. Would that DGP be able to produce our sample? Would our sample be considered one of the \"unlikely\" samples from this DGP?\n\nIn previous chapters, we focused on `shuffle()` as a DGP (where $\\beta_1 = 0$). \n\nNow we will shift to thinking about a slightly different DGP: bootstrapping using the function `resample()`. This DGP assumes the DGP is just like our sample so the $\\beta_1 = b_1$."
    },
    {
      "cell_type": "markdown",
      "metadata": {
        "cell_id": "9c54626319a94378a12e0c437b9dd08b",
        "deepnote_cell_height": 74.75,
        "deepnote_cell_type": "markdown",
        "output_cleared": false,
        "tags": []
      },
      "source": "5.1 - Run the code below a few times. Why does only one of the numbers change?\nInterpret the two numbers the code produces."
    },
    {
      "cell_type": "code",
      "execution_count": null,
      "metadata": {
        "cell_id": "73acf10d19a7459f81726743191b1f90",
        "deepnote_cell_height": 129.953125,
        "deepnote_cell_type": "code",
        "deepnote_to_be_reexecuted": false,
        "execution_millis": 45,
        "execution_start": 1644530837675,
        "output_cleared": true,
        "source_hash": "f5ae1dba",
        "tags": [],
        "trusted": true
      },
      "outputs": [],
      "source": "sample_b1 <- b1(candies ~ relative_class, data = wealth_exp)\nsample_b1\n\nb1(candies ~ relative_class, data = resample(wealth_exp))"
    },
    {
      "cell_type": "markdown",
      "metadata": {
        "cell_id": "f497ae5d4b5c44d2bd379f3d6ee7ef6f",
        "deepnote_cell_height": 230.703125,
        "deepnote_cell_type": "markdown",
        "tags": []
      },
      "source": "<div class=\"alert alert-block alert-warning\">\n\n**Sample Response**\n\nThe first number is our actual sample $b_1$, so it is not changing. The second number is changing because \nit is a $b_1$ that is coming from randomly resampled data in the data frame, so it will be different each \ntime we take a new sample. \n    \n</div>"
    },
    {
      "cell_type": "markdown",
      "metadata": {
        "cell_id": "142b3afa3d2f4c6ea305171ecbf0f3e4",
        "deepnote_cell_height": 111.34375,
        "deepnote_cell_type": "markdown",
        "output_cleared": false,
        "tags": []
      },
      "source": "5.2 - In the code below, what is the model of the DGP we are simulating? (Represent \nthat DGP using GLM notation we've put here for you.)\n\n$$Y_i = \\beta_0 + \\beta_1 X_i + \\epsilon_i$$"
    },
    {
      "cell_type": "code",
      "execution_count": null,
      "metadata": {
        "cell_id": "ca8cc74ed8d5435cad55f1009e7f7e8a",
        "deepnote_cell_height": 75.953125,
        "deepnote_cell_type": "code",
        "deepnote_to_be_reexecuted": false,
        "execution_millis": 1745,
        "execution_start": 1644530837720,
        "output_cleared": true,
        "source_hash": "dcfeaaae",
        "tags": [],
        "trusted": true
      },
      "outputs": [],
      "source": "sdob1 <- do(1000) * b1(candies ~ relative_class, data = resample(wealth_exp))"
    },
    {
      "cell_type": "markdown",
      "metadata": {
        "cell_id": "3f36b973e6be4636bf535d9dc55fe679",
        "deepnote_cell_height": 222.109375,
        "deepnote_cell_type": "markdown",
        "tags": []
      },
      "source": "<div class=\"alert alert-block alert-warning\">\n\n**Sample Response**\n\nThe code is simulating whatever DGP exists in our sample data, but showing us all the different ways our \nsample could have looked if we had taken 1000 different samples.\n\n$$candies_i = \\beta_0 + \\beta_1 (relative class_i) + \\epsilon_i$$\n    \n</div>"
    },
    {
      "cell_type": "markdown",
      "metadata": {
        "cell_id": "6759ba55b1134c9bb1bbb06bd4415c8f",
        "deepnote_cell_height": 111.140625,
        "deepnote_cell_type": "markdown",
        "output_cleared": false,
        "tags": []
      },
      "source": "5.3 - Where will our sample b1 (`sampleb1`) be in the resulting \nsampling distribution of b1s? Would it be considered a \"likely\" sample from this DGP?\n\nWrite your prediction -- then run the code below."
    },
    {
      "cell_type": "code",
      "execution_count": null,
      "metadata": {
        "cell_id": "67618293d7bb4138b7eb591a5e176bdc",
        "deepnote_cell_height": 93.953125,
        "deepnote_cell_type": "code",
        "deepnote_to_be_reexecuted": false,
        "execution_millis": 430,
        "execution_start": 1644530839472,
        "output_cleared": true,
        "source_hash": "b8ca34ba",
        "tags": [],
        "trusted": true
      },
      "outputs": [],
      "source": "gf_histogram(~ b1, data = sdob1, binwidth = .025, fill = ~middle(b1, .95)) %>%\ngf_point(0 ~ sample_b1, color = \"black\", size = 2, show.legend = FALSE)"
    },
    {
      "cell_type": "markdown",
      "metadata": {
        "cell_id": "071ad2859d4846348c7d0f89e4d0dc63",
        "deepnote_cell_height": 155.9375,
        "deepnote_cell_type": "markdown",
        "output_cleared": false,
        "tags": []
      },
      "source": "5.4 - Let's slide around some sampling distributions in the distribution triad diagram to explore these ideas (your instructor will share the slideshow with you).\n\n**the link for instructors to copy and share with their students**\nhttps://docs.google.com/presentation/d/1SY9WSIAkG6LOSAKIpXMi94c-Mzi4EP8xEFx1xhfXNyI/copy#slide=id.p1"
    },
    {
      "cell_type": "markdown",
      "metadata": {
        "cell_id": "cf4d47612fca45c192b9fef9fc9d626d",
        "deepnote_cell_height": 115.9375,
        "deepnote_cell_type": "markdown",
        "tags": []
      },
      "source": "<div class=\"alert alert-block alert-success\">\n\n### 6.0 - Approximate Time: 10-12 mins\n    \n</div>"
    },
    {
      "cell_type": "markdown",
      "metadata": {
        "cell_id": "836c2b273aca44f4aec8d0f65478cc61",
        "deepnote_cell_height": 69.96875,
        "deepnote_cell_type": "markdown",
        "output_cleared": false,
        "tags": []
      },
      "source": "## 6.0 - Other DGPs!"
    },
    {
      "cell_type": "markdown",
      "metadata": {
        "cell_id": "58240e30600d466b9ccbade8c67856d6",
        "deepnote_cell_height": 170.140625,
        "deepnote_cell_type": "markdown",
        "tags": []
      },
      "source": "6.1 - Once we have one sampling distribution, we can slide it around to mimic other DGPs! For \nexample, we can mimic:\n\n$$Y_i = \\beta_0 + 0 X_i + \\epsilon_i$$\n\nWhat does the code below do? In the slideshow, \"move the sampling distribution\" to mimic the code below."
    },
    {
      "cell_type": "code",
      "execution_count": null,
      "metadata": {
        "cell_id": "524132d5da354bea81cfc8d2574ad5c6",
        "deepnote_cell_height": 75.953125,
        "deepnote_cell_type": "code",
        "deepnote_to_be_reexecuted": false,
        "execution_millis": 8,
        "execution_start": 1644530839914,
        "output_cleared": true,
        "source_hash": "fadfc035",
        "tags": [],
        "trusted": true
      },
      "outputs": [],
      "source": "sdob1$b1_no_effect <- sdob1$b1 - sample_b1"
    },
    {
      "cell_type": "markdown",
      "metadata": {
        "cell_id": "088cbb45893043e9a14dbcb1a06f83a6",
        "deepnote_cell_height": 186.125,
        "deepnote_cell_type": "markdown",
        "tags": []
      },
      "source": "<div class=\"alert alert-block alert-warning\">\n\n**Sample Response**\n\nThe code is creating a $b_1$ variable that has no effect of relative class (by subtracting the SDob1 $b_1$ from \nthe sample $b_1$).\n    \n</div>"
    },
    {
      "cell_type": "code",
      "execution_count": null,
      "metadata": {
        "cell_id": "5ca9681b0996466cb7a21c65d36502ee",
        "deepnote_cell_height": 188.953125,
        "deepnote_cell_type": "code",
        "deepnote_to_be_reexecuted": false,
        "execution_millis": 531,
        "execution_start": 1644530847439,
        "output_cleared": true,
        "source_hash": "6e4aa2ce",
        "tags": [],
        "trusted": true
      },
      "outputs": [],
      "source": "# Code modified to look at a DGP of no effect of relative class:\n\n# Edit this code to depict a sampling distribution of b1 from a DGP\n# where there is no effect of feeling higher class\n# (make sure to change the fill too!)\ngf_histogram(~ b1_no_effect, data = sdob1, binwidth = .025, fill = ~middle(b1_no_effect, .95)) %>%\ngf_point(0 ~ sample_b1, color = \"black\", size = 2, show.legend = FALSE)"
    },
    {
      "cell_type": "markdown",
      "metadata": {
        "cell_id": "0e2ed6fd97f74f8fb20595954473007f",
        "deepnote_cell_height": 147.734375,
        "deepnote_cell_type": "markdown",
        "output_cleared": false,
        "tags": []
      },
      "source": "6.2 - What DGP would you like to mimic? Write it down here:\n\n$$Y_i = \\beta_0 + ? X_i + \\epsilon_i$$\n\nDepict this DGP in the google slides diagram by moving the sampling distribution of b1s\n(SDob1) around. Is the sample going to be one of the \"unlikely\" samples from this DGP?"
    },
    {
      "cell_type": "markdown",
      "metadata": {
        "cell_id": "60424450685347518121aad0766745c9",
        "deepnote_cell_height": 258.703125,
        "deepnote_cell_type": "markdown",
        "tags": []
      },
      "source": "<div class=\"alert alert-block alert-warning\">\n\n**Sample Response**\n\n*Students may try a broad range of DGP's. The one above mimics a DGP where $\\beta_1$ is 1.*\n\n$$Y_i = \\beta_0 + 1(X_i) + \\epsilon_i$$\n\n*Students should then try sliding the sampling distribution to this possible DGP on the slides to see \nif the sample would still become \"unlikely\". In this DGP, the sample would be very unlikely.*\n    \n</div>"
    },
    {
      "cell_type": "code",
      "execution_count": null,
      "metadata": {
        "cell_id": "78b0f2383f9347a8afe4a00c0df15bf6",
        "deepnote_cell_height": 188.953125,
        "deepnote_cell_type": "code",
        "deepnote_to_be_reexecuted": false,
        "execution_millis": 421,
        "execution_start": 1644530840369,
        "output_cleared": true,
        "source_hash": "8f13213",
        "tags": [],
        "trusted": true
      },
      "outputs": [],
      "source": "# Code modified to mimic a DGP where beta1 is 1:\n\n# change this line of code to reflect the DGP you want to try out\nsdob1$b1_my_DGP <- sdob1$b1_no_effect + 1\n\ngf_histogram(~ b1_my_DGP, data = sdob1, binwidth = .025, fill = ~middle(b1_my_DGP,.95)) %>%\ngf_point(0 ~ sample_b1, color = \"black\", size = 2, show.legend = FALSE)"
    },
    {
      "cell_type": "markdown",
      "metadata": {
        "cell_id": "8f1f17aab8324acb85e977505eb7e09d",
        "deepnote_cell_height": 111.34375,
        "deepnote_cell_type": "markdown",
        "output_cleared": false,
        "tags": []
      },
      "source": "6.3 - Using the Google slides, what is the highest $\\beta_1$ that could produce our sample and it would be\ncounted as \"likely\"? \n\nNow answer this question using the R function `confint()`."
    },
    {
      "cell_type": "code",
      "execution_count": null,
      "metadata": {
        "cell_id": "efc63897a1f546049e16188078460ead",
        "deepnote_cell_height": 129.953125,
        "deepnote_cell_type": "code",
        "deepnote_to_be_reexecuted": false,
        "execution_millis": 2,
        "execution_start": 1644530840836,
        "output_cleared": true,
        "source_hash": "a41c5cce",
        "tags": [],
        "trusted": true
      },
      "outputs": [],
      "source": "# Sliding the sampling distributions on the Google slides \n# should arrive at number similar to upper bound from confint()\n\nconfint(lm(candies ~ relative_class, data = wealth_exp))"
    },
    {
      "cell_type": "markdown",
      "metadata": {
        "cell_id": "4c5be84e21df4ea89cb9bf04aa3cf20d",
        "deepnote_cell_height": 140.9375,
        "deepnote_cell_type": "markdown",
        "tags": []
      },
      "source": "<div class=\"alert alert-block alert-warning\">\n\n**Sample Response**\n\nThe highest $\\beta_1$ would be 0.76 candies.\n    \n</div>"
    },
    {
      "cell_type": "markdown",
      "metadata": {
        "cell_id": "a5d2ad8211ce424b9659a9c156cabb25",
        "deepnote_cell_height": 74.953125,
        "deepnote_cell_type": "markdown",
        "output_cleared": false,
        "tags": []
      },
      "source": "6.4 - What is the lowest $\\beta_1$ that could produce our sample and it would be\ncounted as \"likely\"?"
    },
    {
      "cell_type": "markdown",
      "metadata": {
        "cell_id": "6dfb45e6193c472c8ddc781c2060e418",
        "deepnote_cell_height": 140.9375,
        "deepnote_cell_type": "markdown",
        "tags": []
      },
      "source": "<div class=\"alert alert-block alert-warning\">\n\n**Sample Response**\n\nThe lowest $\\beta_1$ would be 0.18 candies.\n    \n</div>"
    }
  ],
  "metadata": {
    "celltoolbar": "nbsimplegrader",
    "deepnote": {},
    "deepnote_execution_queue": [],
    "deepnote_notebook_id": "c0a8753b88a04cafba7b6c481aa2eca1",
    "kernelspec": {
      "display_name": "R",
      "language": "R",
      "name": "ir"
    },
    "language_info": {
      "codemirror_mode": "r",
      "file_extension": ".r",
      "mimetype": "text/x-r-source",
      "name": "R",
      "pygments_lexer": "r",
      "version": "4.0.3"
    },
    "nbsimplegrader": {
      "publish_config": {
        "classes": [],
        "options": {},
        "tools": []
      }
    }
  },
  "nbformat": 4,
  "nbformat_minor": 1
}