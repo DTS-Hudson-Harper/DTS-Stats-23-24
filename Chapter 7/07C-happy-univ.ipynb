{
  "cells": [
    {
      "cell_type": "markdown",
      "metadata": {
        "cell_id": "ed1e8cf04c214b1db1978b85ac04f1fb",
        "deepnote_cell_type": "markdown",
        "tags": []
      },
      "source": "# 7C: Happy College Students"
    },
    {
      "cell_type": "code",
      "execution_count": null,
      "metadata": {
        "cell_id": "d235cfaff43745afa49545bf41d755b0",
        "deepnote_cell_type": "code",
        "deepnote_to_be_reexecuted": false,
        "execution_millis": 2478,
        "execution_start": 1679797230804,
        "output_cleared": false,
        "source_hash": "73e2b64",
        "tags": [],
        "trusted": true
      },
      "outputs": [],
      "source": "# this loads the packages and functions used in coursekata \nsuppressPackageStartupMessages({\n    library(coursekata)\n})\n\n# loads data & creates factor variables\nuniv <- read.csv(\"https://docs.google.com/spreadsheets/d/e/2PACX-1vToEmFPyz81gyEvNWm7V8J7Iq9cqhfZ_Dg7XB7siW1M1v7GaQjBrgxYTbRsNbILytQ2ySeHCzVQ7NlQ/pub?output=csv\")\nhappy_univ <- na.omit(select(univ, university_name, code, percent_smiles, num_students, student_staff_ratio, female_male_ratio, world_rank_times, world_rank_cwur, national_rank, quality_of_education))\n\n# removes scientific notation from this notebook\noptions(scipen = 999)"
    },
    {
      "cell_type": "markdown",
      "metadata": {
        "cell_id": "50d9443b24c9456e9daa98c6893ef5d2",
        "deepnote_cell_type": "markdown",
        "tags": []
      },
      "source": "<img src=\"https://news.calstatela.edu/wp-content/uploads/2021/07/Streamers2.jpg\" alt=\"thrilled college students at graduation\" width = 80%>\n\n## Good Times in College\n\nCollege can be life changing in many ways and for many people, it's the site of some happy memories. For example, for [one in 7 married Americans](https://www.prnewswire.com/news-releases/only-1-in-3-us-marriage-proposals-are-a-surprise-engagement-ring-spend-rises-according-to-the-knot-2017-jewelry--engagement-study-300552669.html), college is the place where they met their future spouse.\n\nData analysts at [Resume.io](Resume.io) used Instagram and Amazon Rekognition (an AI tool that measures levels of emotion in human faces) to estimate the happiness levels. Thousands of Instagram photos geotagged at different universities were put through the AI tool. The data set called `happy_univ` contains the proportion of faces that register as \"happy\" for 126 universities in three different countries (United States, Great Britain, and Australia). \n\nYou can read more about Resume.io's methodology [here](https://resume.io/blog/the-happiest-schools-in-the-us-uk-and-australia) and special thanks to [Dr. Jess Hartnett](https://twitter.com/Notawful) for finding this data set.\n\n## College rankings\n\nInformation about happiness from IG photos were joined together with other information available about colleges such as the [Times Higher Education world rankings](https://www.timeshighereducation.com/world-university-rankings/2016/world-ranking/detailed) and the [Center for World University Rankings (CWUR) rankings](https://cwur.org/2015.php).\n\n"
    },
    {
      "cell_type": "markdown",
      "metadata": {
        "cell_id": "daf598b4cd4543229e9b5045d6d9efd3",
        "deepnote_cell_type": "markdown"
      },
      "source": "## 1.0: Explore Variation\n\n"
    },
    {
      "cell_type": "code",
      "execution_count": null,
      "metadata": {
        "cell_id": "1251c826a3c34c8c96690b49a94d44a3",
        "deepnote_cell_type": "code",
        "deepnote_to_be_reexecuted": false,
        "execution_millis": 19,
        "execution_start": 1679797233300,
        "source_hash": "978ebdee",
        "trusted": true
      },
      "outputs": [],
      "source": "head(happy_univ)"
    },
    {
      "cell_type": "markdown",
      "metadata": {
        "cell_id": "3cd4c1d3c6b141a4a75f20a00b7a3066",
        "deepnote_cell_type": "markdown"
      },
      "source": "**1.1:** Which variables do you want to know more about?"
    },
    {
      "cell_type": "markdown",
      "metadata": {
        "cell_id": "22c717129fad40c49913351bf9ffe7f4",
        "deepnote_cell_type": "markdown",
        "tags": []
      },
      "source": "### About `happy_univ`\n\nThe `happy_univ` data frame has data from 126 universities:\n\n- `university_name`  name of university\n- `code` the country the university is in represented by the [ISO code](https://en.wikipedia.org/wiki/ISO_3166-1_alpha-3#:~:text=ISO%203166%2D1%20alpha%2D3%20codes%20are%20three%2Dletter,special%20areas%20of%20geographical%20interest.) (USA, GBR, and AUS) \n- `percent_smiles` the percentage of IG photos geotagged at the university that contained a \"happy\" face according to [Amazon Rekognition](https://aws.amazon.com/rekognition/image-features/?trk=a7f57dee-fc58-4084-9037-cb552d58a5d5&sc_channel=ps&s_kwcid=AL!4422!3!637214078536!!!g!!&ef_id=Cj0KCQiA2-2eBhClARIsAGLQ2Rm9FFHZ3SZWDNTC4EAnVW-3hR1kLU6lXBjQFV8zJ7WsAPOtUGTQ3Q0aAmbWEALw_wcB:G:s)\n- `num_students` how many fully enrolled students (from Times Higher Ed, 2016)\n- `student_staff_ratio` the ratio of students to staff (from Times Higher Ed, 2016)\n- `female_male_ratio` the ratio of female to male students (from Times Higher Ed, 2016)\n- `world_rank_times` international rank according (from Times Higher Ed, 2016), lower numbers indicate higher rankings (e.g., 1 is a better rank than 10); beyond 200 the rankings are categorical (e.g., there may be several schools ranked 300)\n- `world_rank_cwur` international rank (from [Center for World University Rankings, 2015](https://cwur.org/2015.php)), lower numbers indicate higher rankings (e.g., 1 is a better rank than 10)\n- `national_rank` rank compared to other schools in the same country (from [Center for World University Rankings, 2015](https://cwur.org/2015.php)), lower numbers indicate higher rankings (e.g., 1 is a better rank than 10)\n- `quality_of_education` based on the academic success of a university’s alumni, and measured by the number of a university's alumni who have won prestigious academic distinctions relative to the university's size (from [Center for World University Rankings, 2015](https://cwur.org/2015.php))\n"
    },
    {
      "cell_type": "markdown",
      "metadata": {
        "cell_id": "1d57dc8c36a74dbc9224983ede473755",
        "deepnote_cell_type": "markdown"
      },
      "source": "**1.2:** Write a few word equations to try and predict variation in `percent_smiles` and explore with visualizations."
    },
    {
      "cell_type": "markdown",
      "metadata": {
        "cell_id": "517f342b8c38491bb0e95138ffeb809f",
        "deepnote_cell_type": "markdown"
      },
      "source": "**1.3:** Take a look at the visualization below. What's the corresponding word equation to go with it?"
    },
    {
      "cell_type": "code",
      "execution_count": null,
      "metadata": {
        "cell_id": "1755ea707e9c486aaf0e828a0d3d77d9",
        "deepnote_cell_type": "code",
        "deepnote_to_be_reexecuted": false,
        "execution_millis": 851,
        "execution_start": 1679797233321,
        "source_hash": "73b4313c",
        "trusted": true
      },
      "outputs": [],
      "source": "gf_point(percent_smiles ~ world_rank_times, data = happy_univ, color = ~code) %>%\n  gf_facet_wrap(~ code)"
    },
    {
      "cell_type": "markdown",
      "metadata": {
        "cell_id": "1ef96173a32c4e65917e3098cdbe5bfb",
        "deepnote_cell_type": "markdown"
      },
      "source": "## 2.0: Model Variation"
    },
    {
      "cell_type": "markdown",
      "metadata": {
        "cell_id": "0c51398d43b74064b4a62c89bcf807b6",
        "deepnote_cell_type": "markdown"
      },
      "source": "**2.1:** Create a multivariate model and place it onto the visualization below."
    },
    {
      "cell_type": "markdown",
      "metadata": {
        "cell_id": "0d1e2cba288b4d4eac15882e610ba718",
        "deepnote_cell_type": "markdown"
      },
      "source": "**2.2:** Interpret the parameter estimates."
    },
    {
      "cell_type": "markdown",
      "metadata": {
        "cell_id": "af6b20dee0194047b19323830eeaf124",
        "deepnote_cell_type": "markdown"
      },
      "source": "## 3.0: Evaluate Models"
    },
    {
      "cell_type": "markdown",
      "metadata": {
        "cell_id": "94442db74b1d4c92abbee278d5893a43",
        "deepnote_cell_type": "markdown"
      },
      "source": "**3.1, Discussion:** What are some ways we might evaluate this model in comparison to the empty model in the DGP?"
    },
    {
      "cell_type": "markdown",
      "metadata": {
        "cell_id": "52d1b0d425f74f7daa4b6c8c747858f5",
        "deepnote_cell_type": "markdown"
      },
      "source": "**3.2:** This multivariate model *does* explain more variation in this sample than the empty model. How much more? Is that value \"a lot\"?"
    },
    {
      "cell_type": "markdown",
      "metadata": {
        "cell_id": "8d9f404feda44de1aec60d9eef3b9f16",
        "deepnote_cell_type": "markdown"
      },
      "source": "The problem is this: The empty model of the DGP (one where `percent_smiles` is unrelated to `world_rank_times` and `code`) **could** have created a PRE as large (or larger) than .0744. It's possible. But is it likely? \n\n**3.3:** Is our sample PRE one of the likely PREs to be generated by the empty model? Use simulations to figure this out."
    },
    {
      "cell_type": "code",
      "execution_count": null,
      "metadata": {
        "cell_id": "f2d417d1408b48bebdb8ddf92307aa8d",
        "deepnote_cell_type": "code",
        "deepnote_to_be_reexecuted": false,
        "execution_millis": 23,
        "execution_start": 1679797235042,
        "source_hash": "9e4fc076",
        "trusted": true
      },
      "outputs": [],
      "source": "# modify this code\npre(percent_smiles ~ world_rank_times + code, data = happy_univ)"
    },
    {
      "cell_type": "markdown",
      "metadata": {
        "cell_id": "bf5d15b24df54071952730aa07d7ad6c",
        "deepnote_cell_type": "markdown"
      },
      "source": "**3.4:** Approximately, what percentage of empty model generated PREs are larger than the sample PRE (.0744)? "
    },
    {
      "cell_type": "markdown",
      "metadata": {
        "cell_id": "f876e9c907264d7982f86bde3b0184f7",
        "deepnote_cell_type": "markdown"
      },
      "source": "**3.5:** So what do we think -- is the multivariate model a better contender than the empty model? "
    },
    {
      "cell_type": "markdown",
      "metadata": {
        "cell_id": "0d07d7ab3f034d08b2a2f794a17bbb83",
        "deepnote_cell_type": "markdown"
      },
      "source": "**3.6:** Does this mean the two predictors (`world_rank_times` and country `code`) are both equally valuable predictors? Why or why not?"
    },
    {
      "cell_type": "markdown",
      "metadata": {
        "cell_id": "1ebeb741864b4329855d152076630ac5",
        "deepnote_cell_type": "markdown"
      },
      "source": "**3.7, bonus:** Here are the ANOVA tables for two models:\n- **percent smile = rank + country code + other stuff**\n- **percent smile = country code + other stuff**\n\nWhich has the higher F? Why?"
    },
    {
      "cell_type": "code",
      "execution_count": null,
      "metadata": {
        "cell_id": "31411eb005474dc4bc31519c2d940c97",
        "deepnote_cell_type": "code",
        "deepnote_to_be_reexecuted": false,
        "execution_millis": 33,
        "execution_start": 1679797424593,
        "source_hash": "164e62ad",
        "trusted": true
      },
      "outputs": [],
      "source": "supernova(lm(percent_smiles ~ world_rank_times + code, data = happy_univ))\nsupernova(lm(percent_smiles ~ code, data = happy_univ))"
    },
    {
      "cell_type": "markdown",
      "metadata": {
        "cell_id": "25e80b683ef5481abda94bfcb35b1886",
        "deepnote_cell_type": "markdown"
      },
      "source": "## 4.0: Concluding Thoughts"
    },
    {
      "cell_type": "markdown",
      "metadata": {
        "cell_id": "4130a275254149a2b18896c9e935e66a",
        "deepnote_cell_type": "markdown"
      },
      "source": "**4.1:** Why might some countries have more \"happy\" photos than others? "
    },
    {
      "cell_type": "markdown",
      "metadata": {
        "cell_id": "001aa8d736bc4b3abc11a86de895d8e6",
        "deepnote_cell_type": "markdown"
      },
      "source": "**4.2:** What are some issues or questions that might arise from using Instagram photos and AI emotion detection for this research? "
    }
  ],
  "metadata": {
    "deepnote": {
      "is_reactive": false
    },
    "deepnote_execution_queue": [],
    "deepnote_notebook_id": "b982a03aea4347eb890beec1a834dd62",
    "kernelspec": {
      "display_name": "R",
      "language": "R",
      "name": "ir"
    },
    "language_info": {
      "codemirror_mode": "r",
      "file_extension": ".r",
      "mimetype": "text/x-r-source",
      "name": "R",
      "pygments_lexer": "r",
      "version": "4.2.2"
    },
    "nbsimplegrader": {
      "publish_config": {
        "classes": [],
        "options": {},
        "tools": []
      }
    }
  },
  "nbformat": 4,
  "nbformat_minor": 1
}