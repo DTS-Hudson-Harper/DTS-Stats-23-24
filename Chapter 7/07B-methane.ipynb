{
  "cells": [
    {
      "cell_type": "markdown",
      "metadata": {
        "cell_id": "554f9a8522ac43088b0ba9b51f08b8a6",
        "deepnote_cell_type": "markdown",
        "tags": []
      },
      "source": "# 07B: Methane"
    },
    {
      "cell_type": "code",
      "execution_count": null,
      "metadata": {
        "cell_id": "219aaf597a8c41ffafc1574b0bca9d06",
        "deepnote_cell_type": "code",
        "deepnote_to_be_reexecuted": false,
        "execution_millis": 1282,
        "execution_start": 1663900371428,
        "output_cleared": true,
        "source_hash": "116f7300",
        "tags": [],
        "trusted": true
      },
      "outputs": [],
      "source": "# This code will load the R packages we will use\nsuppressPackageStartupMessages({\n    library(coursekata)\n})"
    },
    {
      "cell_type": "markdown",
      "metadata": {
        "cell_id": "37ad213724a34ba7a29eb5dfc8879118",
        "deepnote_cell_type": "markdown",
        "owner_user_id": "23d85493-7ed1-49a4-baa7-630eaab08193",
        "tags": []
      },
      "source": "<img src=\"https://i.postimg.cc/2CdHrqmS/methane-in-the-environment.jpg\" alt=\"A chimney burning methane\" width = 50%>"
    },
    {
      "cell_type": "markdown",
      "metadata": {
        "cell_id": "146fa9f7ded24a738df0f7fc96d518e3",
        "deepnote_cell_type": "markdown",
        "tags": []
      },
      "source": "## Climate and Methane\n\nOur changing climate (e.g., more extreme hurricanes, droughts, warming temperatures) have been linked to increases in pollutants and greenhouse gases (such as methane). But there are skeptics who do not believe human activities are linked to changes in climate.\n\nA climate change skeptic chose one summer month and one winter month from each of the years 1999-2018. For each of those months, the skeptic found data on the average global temperature and atmospheric methane level. \n\nThe skeptic claims that his data shows a **negative relationship** between methane and temperature. In other words, higher concentrations of the greenhouse gas tend to be associated with lower average global temperature. \n\nWe will take a look at this data (in the data frame `temp_data`). Is the climate change skeptic correct? Could this be evidence that greenhouse gases and human pollution aren't driving climate change? Let's explore."
    },
    {
      "cell_type": "markdown",
      "metadata": {
        "cell_id": "d740898075754111b696906f2faae473",
        "deepnote_cell_type": "markdown",
        "tags": []
      },
      "source": "### Motivating Question: Is Climate Change Real?"
    },
    {
      "cell_type": "markdown",
      "metadata": {
        "cell_id": "59630dfe6dde4528b46a77f6719b99e5",
        "deepnote_cell_type": "markdown",
        "tags": []
      },
      "source": "### The Dataset `temp_data`\n##### Description\nA climate change skeptic (non-randomly) chose one summer month and one winter month from each of the years 1999-2018. For each of those months, the skeptic found data on the average global temperature and atmospheric methane level. \n\n##### Variables\n- `year`: Year\n- `month`: Month (1 = Jan, 2 = Feb, etc.)\n- `decimal`: Month as a decimal of the year\n- `season`: Winter or Summer\n- `methane`: Atmospheric methane concentraion, parts per trillion (ppt)\n- `temp_anamoly`: Average global temperature, relative to mean temperature from 1980 - 2015, in degreese Celsius\n\n**Data Sources:**\n\n- Temperature readings from GISS/NASA: https://data.giss.nasa.gov/gistemp/graphs_v4/. Shows global temperature anamoly relative to mean temp from 1980 - 2015. \n- Methane levels from NOAA: https://gml.noaa.gov/ccgg/trends_ch4. Converted ppb to ppt (divided by 1,000). Measurements conducted monthly from 1999 - 2018."
    },
    {
      "cell_type": "markdown",
      "metadata": {
        "cell_id": "eb8f8f263e56431ab7f0ed8d78c3802e",
        "deepnote_cell_type": "markdown",
        "tags": []
      },
      "source": "### 1.0 - A climate skeptic's analysis"
    },
    {
      "cell_type": "markdown",
      "metadata": {
        "cell_id": "7bc8f5e5f37d4702bae5e4772ec41f9e",
        "deepnote_cell_type": "markdown",
        "tags": []
      },
      "source": "**1.1 -** The code below reads in the data. Take a look at the data frame. Do you have any questions about the variables?"
    },
    {
      "cell_type": "code",
      "execution_count": null,
      "metadata": {
        "cell_id": "5e45e9dbaf76475296f9a1c474b52f41",
        "deepnote_cell_type": "code",
        "deepnote_to_be_reexecuted": false,
        "execution_millis": 955,
        "execution_start": 1663900372740,
        "output_cleared": false,
        "source_hash": "76f9470d",
        "tags": [],
        "trusted": true
      },
      "outputs": [],
      "source": "# Read in data\ntemp_data <- read.csv(\"https://docs.google.com/spreadsheets/d/e/2PACX-1vQxO1NNRbXecdTvW8bfSlEytylLLv3jZ_ElehIakBQ157vKHQywyDs_cmyHZG9S0pjQN_SMKrAwSHEy/pub?gid=2129057940&single=true&output=csv\")\n"
    },
    {
      "cell_type": "markdown",
      "metadata": {
        "cell_id": "b51d260973d1465ca887291a3c635d18",
        "deepnote_cell_type": "markdown",
        "tags": []
      },
      "source": "**1.2 -** What is the climate skeptic's hypothesis about temperature and methane? Write it as a regular sentence as well as a word equation."
    },
    {
      "cell_type": "markdown",
      "metadata": {
        "cell_id": "843e70e4e4494db48fa398539fbe2383",
        "deepnote_cell_type": "markdown",
        "tags": []
      },
      "source": "**1.3 -** Create a model to examine the climate skeptic's hypothesis."
    },
    {
      "cell_type": "markdown",
      "metadata": {
        "cell_id": "518cbe18252c4ed0b07a3497b26f0dc9",
        "deepnote_cell_type": "markdown",
        "tags": []
      },
      "source": "**1.4 -** Is the skeptic's claim true that these two factors (temperature anamoly and methane levels) are negatively associated? How can you tell? (Support your answer by interpreting the parameter estimates or other statistics.)"
    },
    {
      "cell_type": "markdown",
      "metadata": {
        "cell_id": "3f88a2829b4d41d3865351e3b12f4afa",
        "deepnote_cell_type": "markdown",
        "tags": []
      },
      "source": "### 2.0 - Exploring the data behind the model"
    },
    {
      "cell_type": "markdown",
      "metadata": {
        "cell_id": "a665a92cdaf04fd0ac72438b77937f41",
        "deepnote_cell_type": "markdown",
        "tags": []
      },
      "source": "Typically, we start by exploring the variation with a visualization. Let's check out this climate skeptic's data this way."
    },
    {
      "cell_type": "markdown",
      "metadata": {
        "cell_id": "87647ae42cb84c5c834f87c79309bfc6",
        "deepnote_cell_type": "markdown",
        "tags": []
      },
      "source": "**2.1 -** Visualize the relationship between temperature anamoly and methane. What do you notice?"
    },
    {
      "cell_type": "markdown",
      "metadata": {
        "cell_id": "7f98dc75fd5c4c1fabd36aacc2a4c843",
        "deepnote_cell_type": "markdown",
        "tags": []
      },
      "source": "<div class=\"alert alert-block alert-info\">\n\n<b> <font size=\"+1\">Key Question</font></b>\n\n**2.2 -** Look back at the dataset. Is there a variable that may explain the pattern you see above? Test your idea by creating a new visual or set of visuals. \n\n</div>"
    },
    {
      "cell_type": "markdown",
      "metadata": {
        "cell_id": "fef14ebd7d614a6a95433309b13b3677",
        "deepnote_cell_type": "markdown",
        "tags": []
      },
      "source": "**2.3 -** Below, we've visualized the relationship between temperature and methane in our dataset, showing the line of best fit (used in the climate skeptic's model). Does the model fit the data well? Why does the model have a negative slope?\n"
    },
    {
      "cell_type": "code",
      "execution_count": null,
      "metadata": {
        "cell_id": "c4921bce28614c0796913ce33d17eb63",
        "deepnote_cell_type": "code",
        "deepnote_to_be_reexecuted": false,
        "execution_millis": 182,
        "execution_start": 1663900374682,
        "output_cleared": false,
        "source_hash": "a53c571b",
        "tags": [],
        "trusted": true
      },
      "outputs": [],
      "source": "methane_model <- lm(temp_anomaly ~ methane, data = temp_data)\n\n# Scatterplot between methane and temp anamoly\ngf_point(temp_anomaly ~ methane, data = temp_data, color = ~season) %>%\n  gf_labs(title = \"Global Temps vs. Global Methane Concentration (1999 - 2010)\",\n    x = \"Methane Concentration (parts per trillion)\",\n    y = \"Temperature Anamoly (C), w.r.t 1980-2015 Avg Temp\") %>%\n  gf_model(methane_model)"
    },
    {
      "cell_type": "markdown",
      "metadata": {
        "cell_id": "845f2afc01264dd4b0c479a05c381e87",
        "deepnote_cell_type": "markdown",
        "tags": []
      },
      "source": "<div class=\"alert alert-block alert-info\">\n\n<b> <font size=\"+1\">Key Question</font></b>\n\n\n**2.4 -** Create a subset of the data that is *only* the winter months. Then, visualize the relationship between methane and temperature. What do you notice? Do the same with the summer month data. What do you notice?\n\n</div>"
    },
    {
      "cell_type": "markdown",
      "metadata": {
        "cell_id": "89f81cbac3474144a9bb007ce07c556a",
        "deepnote_cell_type": "markdown",
        "tags": []
      },
      "source": "### 3.0 - Getting multivariate"
    },
    {
      "cell_type": "markdown",
      "metadata": {
        "cell_id": "5ca71c9ab65d4b2c8d9a0604c61d05fa",
        "deepnote_cell_type": "markdown",
        "tags": []
      },
      "source": "<div class=\"alert alert-block alert-info\">\n\n<b> <font size=\"+1\">Key Question</font></b>\n\n**3.1 -** Create and fit a model predicting temperature from methane, taking season into account. How does the coefficient value for `methane` differ from the one seen in the initial model in the notebook? Why do you think this change occurred?\n\n</div>"
    },
    {
      "cell_type": "markdown",
      "metadata": {
        "cell_id": "c4b581b723d14b7da4209602147c0567",
        "deepnote_cell_type": "markdown",
        "tags": []
      },
      "source": "**3.2 -** Create a scatterplot showing temperature as predicted by methane, and color the data according to season. Then, visualize your multiple regression fit on the graph."
    },
    {
      "cell_type": "markdown",
      "metadata": {
        "cell_id": "9fe882b4f73b4361bfbb5cd58aef9d34",
        "deepnote_cell_type": "markdown",
        "tags": []
      },
      "source": "**3.3 -** Your model had a coefficient value for `seasonwinter`. What feature of your graph does this value describe?"
    },
    {
      "cell_type": "markdown",
      "metadata": {
        "cell_id": "cf45ddfb71c047c186e2be8e9a080737",
        "deepnote_cell_type": "markdown",
        "tags": []
      },
      "source": "<div class=\"alert alert-block alert-info\">\n\n<b> <font size=\"+1\">Key Question</font></b>\n\n\n3.4 - What feature of your graph does the `methane` coefficient describe? How does its value contradict the claim made by the climate change skeptic?\n\n</div>"
    },
    {
      "cell_type": "markdown",
      "metadata": {
        "cell_id": "31477746eb7045ad9f4274638f9a9bd4",
        "deepnote_cell_type": "markdown",
        "tags": []
      },
      "source": "**3.5 -** Which model is more convincing: The skeptic's single-predictor model or the multivariate model? Provide evidence using the visualizations created above and supernova tables."
    }
  ],
  "metadata": {
    "deepnote": {
      "is_reactive": false
    },
    "deepnote_execution_queue": [],
    "deepnote_notebook_id": "53812be1eedd47ada19eb585b022309a",
    "kernelspec": {
      "display_name": "R",
      "language": "R",
      "name": "ir"
    },
    "language_info": {
      "codemirror_mode": "r",
      "file_extension": ".r",
      "mimetype": "text/x-r-source",
      "name": "R",
      "pygments_lexer": "r",
      "version": "4.2.2"
    },
    "nbsimplegrader": {
      "publish_config": {
        "classes": [],
        "options": {},
        "tools": []
      }
    }
  },
  "nbformat": 4,
  "nbformat_minor": 1
}