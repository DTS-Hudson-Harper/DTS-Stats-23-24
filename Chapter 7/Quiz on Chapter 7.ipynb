{
 "cells": [
  {
   "cell_type": "markdown",
   "id": "520f3bcd-e18b-4c83-90b5-3d99b61460f9",
   "metadata": {},
   "source": [
    "# Quiz on Chapter 7\n",
    "\n",
    "In this quiz, you will answer questions about data collected by analyzing all Super Bowl ads in the 21st century.\n",
    "\n",
    "Brands will pay millions of dollars to have a 30-second commercial air during the Super Bowl because they know they will have tens of millions of people watching.\n",
    "\n",
    "What makes an impactful Super Bowl commercial? If you only had 30-60 seconds to broadcast your brand to the public, what kinds of ad have the greatest impact?"
   ]
  },
  {
   "cell_type": "code",
   "execution_count": null,
   "id": "17f6cfaf-bfc2-480f-b420-5531f3c3df67",
   "metadata": {},
   "outputs": [],
   "source": [
    "# Load the CourseKata library\n",
    "library(coursekata)\n",
    "\n",
    "# Adjust scientific notation\n",
    "options(scipen = 10)\n",
    "\n",
    "# Resize graphs\n",
    "options(repr.plot.width=12, repr.plot.height=9)\n",
    "\n",
    "# This fixes font sizes on graphs\n",
    "theme_set(theme(\n",
    "  text = element_text(size = 20),\n",
    "  axis.text = element_text(size = 16)\n",
    "))\n",
    "\n",
    "# Read data set\n",
    "ads <- read.csv(\"https://raw.githubusercontent.com/rfordatascience/tidytuesday/master/data/2021/2021-03-02/youtube.csv\")"
   ]
  },
  {
   "cell_type": "markdown",
   "id": "476fd778-3902-4d50-b98a-bfb8e7a8f9ad",
   "metadata": {},
   "source": [
    "## The Data\n",
    "\n",
    "This data frame comes from [FiveThirtyEight](https://fivethirtyeight.com/). They watched over 200 ads from the 10 brands that aired the most spots in all 21 Super Bowls this century, according to superbowl-ads.com. They evaluated ads using the specific criteria listed below.\n",
    "\n",
    "**Description of Variables**\n",
    "\n",
    "- `year` Superbowl year\n",
    "- `brand` Brand for commercial\n",
    "- `superbowl_ads_dot_com_url` Superbowl ad URL\n",
    "- `youtube_url` Youtube URL\n",
    "- `funny` Contains humor\n",
    "- `show_product_quickly` Shows product quickly\n",
    "- `patriotic` Patriotic\n",
    "- `celebrity` Contains celebrity\n",
    "- `danger` Contains danger\n",
    "- `animals` Contains animals\n",
    "- `use_sex`\tUses sexuality\n",
    "- `id` Youtube ID\n",
    "- `kind` Youtube Kind\n",
    "- `etag` Youtube etag\n",
    "- `view_count` Youtube view count\n",
    "- `like_count` Youtube like count\n",
    "- `dislike_count` Youtube dislike count\n",
    "- `favorite_count` Youtube favorite count\n",
    "- `comment_count` Youtube comment count\n",
    "- `published_at` Youtube when published\n",
    "- `title` Youtube title\n",
    "- `description` Youtube description\n",
    "- `thumbnail` Youtube thumbnail\n",
    "- `channel_title` Youtube channel name\n",
    "- `category_id` Youtube content category id\n",
    "\n",
    "\n",
    "**Data Sources** \n",
    "\n",
    "- [Tidy Tuesday](https://github.com/rfordatascience/tidytuesday/blob/master/data/2021/2021-03-02/readme.md)\n",
    "\n",
    "- Here is a link to their [article](https://projects.fivethirtyeight.com/super-bowl-ads/) on the topic, where you can also watch the commercials, and see their analyses."
   ]
  },
  {
   "cell_type": "markdown",
   "id": "6bd9ffed-8426-458a-8498-675700663319",
   "metadata": {},
   "source": [
    "## Question 1 (1 point)\n",
    "\n",
    "In this quiz, we will examine factors that might explain how well ads are received. There are multiple ways we might measure this such as total likes, total views, percentage of views that were liked, etc. However, we will use the ratio of likes to dislikes. In this first question/problem, create a column called ```dislike_like_ratio``` from the ```dislike_count``` and ```like_count``` columns."
   ]
  },
  {
   "cell_type": "code",
   "execution_count": null,
   "id": "7c02f3ba-9ca2-4f9b-aff5-d6bb5fc06a4d",
   "metadata": {},
   "outputs": [],
   "source": []
  },
  {
   "cell_type": "markdown",
   "id": "b07a623d-a1c1-429d-a3cf-87da45fcbb75",
   "metadata": {},
   "source": [
    "## Question 2 (1 point)\n",
    "\n",
    "How might the ```dislike_like_ratio``` indicate how well an ad was received? What would tell you that a video was more well received compared to another using this variable?"
   ]
  },
  {
   "cell_type": "markdown",
   "id": "352564e9-63f6-4b68-bd50-d9d7808472fe",
   "metadata": {},
   "source": []
  },
  {
   "cell_type": "markdown",
   "id": "f55e40d9-d776-4638-b3fe-580b41bd2bb1",
   "metadata": {},
   "source": [
    "## Question 3 (1 point)\n",
    "\n",
    "Now, we're going to analyze the Create a multivariate model for ```dislike_like_ratio``` in terms of whether or not the video contains celebrities and/or animals. Complete the following code to create a multivariate model for ```dislike_like_ratio``` and visualize the model."
   ]
  },
  {
   "cell_type": "code",
   "execution_count": null,
   "id": "efc987a8-be7a-4fda-9e51-ad2aa065a5e0",
   "metadata": {},
   "outputs": [],
   "source": [
    "multivariate_model <- lm(...)\n",
    "multivariate_model\n",
    "\n",
    "gf_jitter(dislike_like_ratio ~ ..., color = ~..., size=3, data = listwise_delete(ads, c(\"dislike_like_ratio\", \"celebrity\", \"animals\"))) %>%\n",
    "    gf_model(multivariate_model, size=2)"
   ]
  },
  {
   "cell_type": "markdown",
   "id": "10596d7b-c05d-4ce9-ad00-92df5b2130d1",
   "metadata": {},
   "source": [
    "## Question 4 (1 point)\n",
    " \n",
    "Write down the model you created in the previous question in both word equation form and GLM notation."
   ]
  },
  {
   "cell_type": "markdown",
   "id": "3d0074ff-bf09-4d98-abd4-55a59d189cab",
   "metadata": {},
   "source": []
  },
  {
   "cell_type": "markdown",
   "id": "474915b7-3079-4df1-8256-f3156398a8d5",
   "metadata": {},
   "source": [
    "## Question 5 (1 point)\n",
    "\n",
    "Interpret the coefficients of the multivariate model created in Question 3 in terms of the visualization also created in Question 3. In particular, explain how/where you \"see\" the coefficients appearing in the graph."
   ]
  },
  {
   "cell_type": "markdown",
   "id": "058e853a-2d17-4cad-bf53-88bdfb73170e",
   "metadata": {},
   "source": []
  },
  {
   "cell_type": "markdown",
   "id": "bc786bef-b484-440d-96a5-277621060205",
   "metadata": {},
   "source": [
    "## Question 6 (4 points)\n",
    " \n",
    "Use the supernova function to evaluate your model and answer the following questions:\n",
    "\n",
    "* Determine whether or not your multivariate model is statistically significant. If it is signficant, determine the strength of the model.\n",
    "* Which variable explains most of the variation in ```dislike_like_ratio``` in your model?  How do you know?\n",
    "* Calculate the amount of error that is explained by BOTH of your variables (i.e. not just explained independently by one of the variables).\n",
    "* Which variable and/or model provides the most \"bang for your buck\" in terms of explaining error?"
   ]
  },
  {
   "cell_type": "markdown",
   "id": "8c7e8162-e95e-48e0-bb32-c9906dfdef43",
   "metadata": {},
   "source": []
  },
  {
   "cell_type": "markdown",
   "id": "bac81f61-a4b3-4a7a-8e57-208a07d09b89",
   "metadata": {},
   "source": [
    "## Question 7 (1 point)\n",
    "\n",
    "Something to note about the data in this dataset is that most of the variables are fairly skewed. Perform an F test to see if your conclusions are empirically justified.\n",
    "\n",
    "To avoid a bunch of errors, use ```data = listwise_delete(ads, c(\"dislike_like_ratio\", \"celebrity\", \"animals\"))``` wherever you might specify the data."
   ]
  },
  {
   "cell_type": "code",
   "execution_count": null,
   "id": "f19664a1-8722-4e1f-8b9e-290a9e8f8737",
   "metadata": {},
   "outputs": [],
   "source": []
  }
 ],
 "metadata": {
  "kernelspec": {
   "display_name": "R",
   "language": "R",
   "name": "ir"
  },
  "language_info": {
   "codemirror_mode": "r",
   "file_extension": ".r",
   "mimetype": "text/x-r-source",
   "name": "R",
   "pygments_lexer": "r",
   "version": "4.1.2"
  }
 },
 "nbformat": 4,
 "nbformat_minor": 5
}
