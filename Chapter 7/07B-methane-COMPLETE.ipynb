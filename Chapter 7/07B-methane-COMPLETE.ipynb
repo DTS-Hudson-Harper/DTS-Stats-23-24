{
  "cells": [
    {
      "cell_type": "markdown",
      "metadata": {
        "cell_id": "da272d903f16413197fc6c018d83f8e3",
        "deepnote_cell_type": "markdown",
        "tags": []
      },
      "source": "<div class=\"alert alert-block alert-danger\">\n\n# 07B: Methane (COMPLETE)\n\n*This notebook is intended for students who have completed:*\n \n**Page 7.9**\n\n</div>"
    },
    {
      "cell_type": "markdown",
      "metadata": {
        "cell_id": "ac333cd5342d483db555bcfdd3de28cf",
        "deepnote_cell_type": "markdown",
        "tags": []
      },
      "source": "<div class=\"alert alert-block alert-warning\">\n\n#### Summary of Notebook:\n\nIn this lesson, student will look at some data on temperature and methane in the evironment. They will attempt to debunk a claim made by a climate skeptic whose analysis shows that as methane goes up, temperature actually goes down. The students will make models of methane predicting temperature anomaly and come to realize that the reason the model shows a negative trend is because we need to account for season (summer vs winter) in our model.\n\n#### Includes:\n\n- Fitting and interpreting simple and multiple regression models\n- Exploring the dangers of failing to include an important variable in a model\n- Using visualizations to explore which variables should be included in a model\n\n</div>"
    },
    {
      "cell_type": "markdown",
      "metadata": {
        "cell_id": "15765b7cdfd441d0acdd7bb43afd32fc",
        "deepnote_cell_type": "markdown",
        "tags": []
      },
      "source": "<div class=\"alert alert-block alert-success\">\n\n## Approximate time to complete Notebook: 45-55 Mins\n\n</div>"
    },
    {
      "cell_type": "code",
      "execution_count": null,
      "metadata": {
        "cell_id": "e22bd250439548f8a9ab955ef5aa037d",
        "deepnote_cell_type": "code",
        "deepnote_to_be_reexecuted": false,
        "execution_millis": 1282,
        "execution_start": 1663900371428,
        "output_cleared": true,
        "source_hash": "116f7300",
        "tags": [],
        "trusted": true
      },
      "outputs": [],
      "source": "# This code will load the R packages we will use\nsuppressPackageStartupMessages({\n    library(coursekata)\n})"
    },
    {
      "cell_type": "markdown",
      "metadata": {
        "cell_id": "952a77a9d9ae4ac6aad296a526f238d6",
        "deepnote_cell_type": "markdown",
        "owner_user_id": "23d85493-7ed1-49a4-baa7-630eaab08193",
        "tags": []
      },
      "source": "<img src=\"https://i.postimg.cc/2CdHrqmS/methane-in-the-environment.jpg\" alt=\"A chimney burning methane\" width = 50%>"
    },
    {
      "cell_type": "markdown",
      "metadata": {
        "cell_id": "9f611a9d4c344a79b67bae967dc879b0",
        "deepnote_cell_type": "markdown",
        "tags": []
      },
      "source": "## Climate and Methane\n\nOur changing climate (e.g., more extreme hurricanes, droughts, warming temperatures) have been linked to increases in pollutants and greenhouse gases (such as methane). But there are skeptics who do not believe human activities are linked to changes in climate.\n\nA climate change skeptic chose one summer month and one winter month from each of the years 1999-2018. For each of those months, the skeptic found data on the average global temperature and atmospheric methane level. \n\nThe skeptic claims that his data shows a **negative relationship** between methane and temperature. In other words, higher concentrations of the greenhouse gas tend to be associated with lower average global temperature. \n\nWe will take a look at this data (in the data frame `temp_data`). Is the climate change skeptic correct? Could this be evidence that greenhouse gases and human pollution aren't driving climate change? Let's explore."
    },
    {
      "cell_type": "markdown",
      "metadata": {
        "cell_id": "f9c85fe97e654948b96461d796f70b16",
        "deepnote_cell_type": "markdown",
        "tags": []
      },
      "source": "### Motivating Question: Is Climate Change Real?"
    },
    {
      "cell_type": "markdown",
      "metadata": {
        "cell_id": "4aff19869db74a68a2c455974dbe1841",
        "deepnote_cell_type": "markdown",
        "tags": []
      },
      "source": "### The Dataset `temp_data`\n##### Description\nA climate change skeptic (non-randomly) chose one summer month and one winter month from each of the years 1999-2018. For each of those months, the skeptic found data on the average global temperature and atmospheric methane level. \n\n##### Variables\n- `year`: Year\n- `month`: Month (1 = Jan, 2 = Feb, etc.)\n- `decimal`: Month as a decimal of the year\n- `season`: Winter or Summer\n- `methane`: Atmospheric methane concentraion, parts per trillion (ppt)\n- `temp_anamoly`: Average global temperature, relative to mean temperature from 1980 - 2015, in degreese Celsius\n\n**Data Sources:**\n\n- Temperature readings from GISS/NASA: https://data.giss.nasa.gov/gistemp/graphs_v4/. Shows global temperature anamoly relative to mean temp from 1980 - 2015. \n- Methane levels from NOAA: https://gml.noaa.gov/ccgg/trends_ch4. Converted ppb to ppt (divided by 1,000). Measurements conducted monthly from 1999 - 2018."
    },
    {
      "cell_type": "markdown",
      "metadata": {
        "cell_id": "91d30ea4b1dd40e2a44dc5c97830a507",
        "deepnote_cell_type": "markdown",
        "tags": []
      },
      "source": "<div class=\"alert alert-block alert-success\">\n\n### 1.0 - Approximate Time:  10-15 mins\n\n</div>"
    },
    {
      "cell_type": "markdown",
      "metadata": {
        "cell_id": "bf4dfac4334c409ebef219754ba85abd",
        "deepnote_cell_type": "markdown",
        "tags": []
      },
      "source": "### 1.0 - A climate skeptic's analysis"
    },
    {
      "cell_type": "markdown",
      "metadata": {
        "cell_id": "110f0ffafe7e46da863b63368b1c3a84",
        "deepnote_cell_type": "markdown",
        "tags": []
      },
      "source": "<div class=\"alert alert-block alert-warning\">\n\n<b>Note to Instructors:</b> \n\nEven though we typically make a visualization here, we hope students \"forget\" to do that in this section... they will make a visualization in 2.0 though.\n\n</div>"
    },
    {
      "cell_type": "markdown",
      "metadata": {
        "cell_id": "986621c4488e45a9ac6c3f690cab9d5b",
        "deepnote_cell_type": "markdown",
        "tags": []
      },
      "source": "**1.1 -** The code below reads in the data. Take a look at the data frame. Do you have any questions about the variables?"
    },
    {
      "cell_type": "code",
      "execution_count": null,
      "metadata": {
        "cell_id": "0a9186b61dfe409cb3da39b89ff01de7",
        "deepnote_cell_type": "code",
        "deepnote_to_be_reexecuted": false,
        "execution_millis": 1829,
        "execution_start": 1675742954059,
        "output_cleared": false,
        "source_hash": "179a2347",
        "tags": [],
        "trusted": true
      },
      "outputs": [],
      "source": "# Read in data\ntemp_data <- read.csv(\"https://docs.google.com/spreadsheets/d/e/2PACX-1vQxO1NNRbXecdTvW8bfSlEytylLLv3jZ_ElehIakBQ157vKHQywyDs_cmyHZG9S0pjQN_SMKrAwSHEy/pub?gid=2129057940&single=true&output=csv\")\n"
    },
    {
      "cell_type": "markdown",
      "metadata": {
        "cell_id": "97e607a2a3b546f6b9e5aefd0c9d38fb",
        "deepnote_cell_type": "markdown",
        "tags": []
      },
      "source": "**1.2 -** What is the climate skeptic's hypothesis about temperature and methane? Write it as a regular sentence as well as a word equation."
    },
    {
      "cell_type": "markdown",
      "metadata": {
        "cell_id": "48efe5bade59420e90e9ae19c71bd30c",
        "deepnote_cell_type": "markdown",
        "tags": []
      },
      "source": "<div class=\"alert alert-block alert-warning\">\n\n<b>Sample Response:</b> \n\nTheir hypothesis is that there is a relationship between methane and temperature, and that as methane goes up, temperature goes down.\n\ntemp_anomaly = methane + other stuff\n\n\n</div>"
    },
    {
      "cell_type": "markdown",
      "metadata": {
        "cell_id": "c2e26463dfc14191ad1d73cee4e5076d",
        "deepnote_cell_type": "markdown",
        "tags": []
      },
      "source": "**1.3 -** Create a model to examine the climate skeptic's hypothesis."
    },
    {
      "cell_type": "code",
      "execution_count": null,
      "metadata": {
        "cell_id": "0d1818ac01244a7bac5e2d394189ef28",
        "deepnote_cell_type": "code",
        "deepnote_to_be_reexecuted": false,
        "execution_millis": 13,
        "execution_start": 1675742957189,
        "output_cleared": false,
        "source_hash": "d2876d3e",
        "tags": [],
        "trusted": true
      },
      "outputs": [],
      "source": "# simple linear regression (temp ~ methane)\nmethane_model <- lm(temp_anomaly ~ methane, data = temp_data)\nmethane_model"
    },
    {
      "cell_type": "markdown",
      "metadata": {
        "cell_id": "be1d89d2e5a54a77aa8ceb08a89c9d63",
        "deepnote_cell_type": "markdown",
        "tags": []
      },
      "source": "**1.4 -** Is the skeptic's claim true that these two factors (temperature anamoly and methane levels) are negatively associated? How can you tell? (Support your answer by interpreting the parameter estimates or other statistics.)"
    },
    {
      "cell_type": "markdown",
      "metadata": {
        "cell_id": "7f65d88e6c2840c6adbc430c19dd2e35",
        "deepnote_cell_type": "markdown",
        "tags": []
      },
      "source": "<div class=\"alert alert-block alert-warning\">\n\n<b>Sample Response:</b> \n\nIn our model, we see that `methane` has a negative coefficient value. This means that methane concetrations and temperature are negatively associated. As methane rises, the temperature tends to be lower. Specifically, for every 1 part per trillion increase in methane, our model predicts an 84.49 degree Celsius decrease in temperature anomaly.\n\n</div>"
    },
    {
      "cell_type": "markdown",
      "metadata": {
        "cell_id": "96565828977d48bcad5edef250af4e30",
        "deepnote_cell_type": "markdown",
        "tags": []
      },
      "source": "<div class=\"alert alert-block alert-success\">\n\n### 2.0 - Approximate Time:  15-20 mins\n\n</div>"
    },
    {
      "cell_type": "markdown",
      "metadata": {
        "cell_id": "63ec13f402f146739a643ba5345d5c7c",
        "deepnote_cell_type": "markdown",
        "tags": []
      },
      "source": "### 2.0 - Exploring the data behind the model"
    },
    {
      "cell_type": "markdown",
      "metadata": {
        "cell_id": "5564d9b823b6423580104b654b564357",
        "deepnote_cell_type": "markdown",
        "tags": []
      },
      "source": "Typically, we start by exploring the variation with a visualization. Let's check out this climate skeptic's data this way."
    },
    {
      "cell_type": "markdown",
      "metadata": {
        "cell_id": "3472be2285f04760bd5c82afc884f17a",
        "deepnote_cell_type": "markdown",
        "tags": []
      },
      "source": "**2.1 -** Visualize the relationship between temperature anamoly and methane. What do you notice?"
    },
    {
      "cell_type": "code",
      "execution_count": null,
      "metadata": {
        "cell_id": "c12c6e22f7cf4263ad34d97d60dd2e24",
        "deepnote_cell_type": "code",
        "deepnote_to_be_reexecuted": false,
        "execution_millis": 451,
        "execution_start": 1663900373684,
        "output_cleared": false,
        "source_hash": "39cd22a8",
        "tags": [],
        "trusted": true
      },
      "outputs": [],
      "source": "# scatter, with temp ~ time\ngf_point(temp_anomaly ~ methane, data = temp_data)"
    },
    {
      "cell_type": "markdown",
      "metadata": {
        "cell_id": "732e6c0697144b498db872ef2c7ee5b4",
        "deepnote_cell_type": "markdown",
        "tags": []
      },
      "source": "<div class=\"alert alert-block alert-warning\">\n\n<b>Sample Response:</b> \n\nIt seems that there is some sort of bifurcation in the data, where both sets of data show slight increases in temperature for more methane, but there's a big starting gap in temperature between these sets of data.\n\n</div>"
    },
    {
      "cell_type": "markdown",
      "metadata": {
        "cell_id": "c52a2f4cd5404a708612cc63972262a8",
        "deepnote_cell_type": "markdown",
        "tags": []
      },
      "source": "<div class=\"alert alert-block alert-info\">\n\n<b> <font size=\"+1\">Key Question</font></b>\n\n**2.2 -** Look back at the dataset. Is there a variable that may explain the pattern you see above? Test your idea by creating a new visual or set of visuals. \n\n</div>"
    },
    {
      "cell_type": "code",
      "execution_count": null,
      "metadata": {
        "cell_id": "bef56c54ca2e41608c3c57e9471f4843",
        "deepnote_cell_type": "code",
        "deepnote_to_be_reexecuted": false,
        "execution_millis": 461,
        "execution_start": 1663900374179,
        "output_cleared": false,
        "source_hash": "fcef4f71",
        "tags": [],
        "trusted": true
      },
      "outputs": [],
      "source": "# Sample Responses\n\n# jitterplot with temperature shown by season of month\ngf_jitter(temp_anomaly ~ season, data = temp_data, width = 0.1)\n\n# scatter, with temp ~ time, colored by season\ngf_point(temp_anomaly ~ methane, data = temp_data, color = ~season)"
    },
    {
      "cell_type": "markdown",
      "metadata": {
        "cell_id": "b516a7187040430685762f5de2eba9d2",
        "deepnote_cell_type": "markdown",
        "tags": []
      },
      "source": "<div class=\"alert alert-block alert-warning\">\n\n<b>Sample Response:</b> \n\nIt seems clear that seasonality plays a huge role in temperature. As expected, temperatures are much lower in winter than in summer. So, it seems as though we should control for season in our analyses.\n\n\n<b> Instructor Note: </b> \n\nIt may take students a while to explore the dataset visually and find the patterns associated with season. Encourages students to collaborate on this task, with group members trying out different variables and different visualizations. Challenge the groups to come up with the most effective visualizations to share with the rest of the class.\n\n\n</div>"
    },
    {
      "cell_type": "markdown",
      "metadata": {
        "cell_id": "183c6e21f3434cc8babb4a03bd86a2e8",
        "deepnote_cell_type": "markdown",
        "tags": []
      },
      "source": "**2.3 -** Below, we've visualized the relationship between temperature and methane in our dataset, showing the line of best fit (used in the climate skeptic's model). Does the model fit the data well? Why does the model have a negative slope?\n"
    },
    {
      "cell_type": "code",
      "execution_count": null,
      "metadata": {
        "cell_id": "b511a61c2f0546c782bd7b7f61e1f900",
        "deepnote_cell_type": "code",
        "deepnote_to_be_reexecuted": false,
        "execution_millis": 182,
        "execution_start": 1663900374682,
        "output_cleared": false,
        "source_hash": "a53c571b",
        "tags": [],
        "trusted": true
      },
      "outputs": [],
      "source": "methane_model <- lm(temp_anomaly ~ methane, data = temp_data)\n\n# Scatterplot between methane and temp anamoly\ngf_point(temp_anomaly ~ methane, data = temp_data, color = ~season) %>%\n  gf_labs(title = \"Global Temps vs. Global Methane Concentration (1999 - 2010)\",\n    x = \"Methane Concentration (parts per trillion)\",\n    y = \"Temperature Anamoly (C), w.r.t 1980-2015 Avg Temp\") %>%\n  gf_model(methane_model)"
    },
    {
      "cell_type": "markdown",
      "metadata": {
        "cell_id": "5f49e8570ac64a6cadaf69e6ac387e50",
        "deepnote_cell_type": "markdown",
        "tags": []
      },
      "source": "<div class=\"alert alert-block alert-warning\">\n\n<b>Sample Response:</b> \n\nThe model has a negative slope because the winter months have lower temperature and higher methane. The summer months have lower methane but higher temperature. \n\nA model that uses methane to predict temperature generally predicts higher temps when there are lower concentrations of methane (these are the data from the summer months) and lower temps when there are higher levels of methane (the winter months). So, the overall relationship is negative. \n\nHowever, this is not a very well-fitting model. There are very large residuals, as the line does not come close to predicting many of the temperatures. Interestingly, *within* each season, it appears that temperature tends to increase as methane rises. We may have to find a model that takes season into account.\n\n\n<b> Instructor Note: </b> \n\nIt may be difficult to see why the line has a negative slope. The effect here is commonly known as Simpson's paradox. You might consider getting them to explore Simpson's paradox on google or wikipedia (e.g., https://en.wikipedia.org/wiki/Simpson%27s_paradox).\n\n</div>"
    },
    {
      "cell_type": "markdown",
      "metadata": {
        "cell_id": "77fb4e13352b481fac5ca9fb4d424a36",
        "deepnote_cell_type": "markdown",
        "tags": []
      },
      "source": "<div class=\"alert alert-block alert-info\">\n\n<b> <font size=\"+1\">Key Question</font></b>\n\n\n**2.4 -** Create a subset of the data that is *only* the winter months. Then, visualize the relationship between methane and temperature. What do you notice? Do the same with the summer month data. What do you notice?\n\n</div>"
    },
    {
      "cell_type": "code",
      "execution_count": null,
      "metadata": {
        "cell_id": "492e3f5b297f4363a5eb128068f7921e",
        "deepnote_cell_type": "code",
        "deepnote_to_be_reexecuted": false,
        "execution_millis": 94,
        "execution_start": 1663900374911,
        "output_cleared": false,
        "source_hash": "ef4b90e3",
        "tags": [],
        "trusted": true
      },
      "outputs": [],
      "source": "# Collect just the winter month data\nwinter_data <- filter(temp_data, season == \"winter\")\n\n# Visualize just winter month data\ngf_point(temp_anomaly ~ methane, data = winter_data, color) %>%\n  gf_labs(title = \"Only Winter Months\",\n    x = \"Methane Concentration (parts per trillion)\",\n    y = \"Temperature Anamoly (C), w.r.t 1980-2015 Avg Temp\")"
    },
    {
      "cell_type": "code",
      "execution_count": null,
      "metadata": {
        "cell_id": "0a416b7e3f8d4962a971e962558720c8",
        "deepnote_cell_type": "code",
        "deepnote_to_be_reexecuted": false,
        "execution_millis": 70,
        "execution_start": 1663900375047,
        "output_cleared": false,
        "source_hash": "612fa9c3",
        "tags": [],
        "trusted": true
      },
      "outputs": [],
      "source": "# Collect just the winter month data\nsummer_data <- filter(temp_data, season == \"summer\")\n\n# Visualize just winter month data\ngf_point(temp_anomaly ~ methane, data = summer_data) %>%\n  gf_labs(title = \"Only Summer Months\",\n    x = \"Methane Concentration (parts per trillion)\",\n    y = \"Temperature Anamoly (C), w.r.t 1980-2015 Avg Temp\")"
    },
    {
      "cell_type": "markdown",
      "metadata": {
        "cell_id": "f41f292f4d6041c79ffceb188672d70d",
        "deepnote_cell_type": "markdown",
        "tags": []
      },
      "source": "<div class=\"alert alert-block alert-warning\">\n\n<b>Sample Response:</b> \n\nClearly, *within* each season, it appears that temperature tends to increase as methane rises. We may have to find a model that takes season into account.\n\n</div>"
    },
    {
      "cell_type": "markdown",
      "metadata": {
        "cell_id": "94234275fff542909585fb3efba2778a",
        "deepnote_cell_type": "markdown",
        "tags": []
      },
      "source": "<div class=\"alert alert-block alert-success\">\n\n### 3.0 - Approximate Time:  20-25 mins\n\n</div>"
    },
    {
      "cell_type": "markdown",
      "metadata": {
        "cell_id": "a8507f65b3a44823a5bda22021e56903",
        "deepnote_cell_type": "markdown",
        "tags": []
      },
      "source": "### 3.0 - Getting multivariate"
    },
    {
      "cell_type": "markdown",
      "metadata": {
        "cell_id": "fdaf8c403ec347eeb977b4805c3400bf",
        "deepnote_cell_type": "markdown",
        "tags": []
      },
      "source": "<div class=\"alert alert-block alert-info\">\n\n<b> <font size=\"+1\">Key Question</font></b>\n\n**3.1 -** Create and fit a model predicting temperature from methane, taking season into account. How does the coefficient value for `methane` differ from the one seen in the initial model in the notebook? Why do you think this change occurred?\n\n</div>"
    },
    {
      "cell_type": "code",
      "execution_count": null,
      "metadata": {
        "cell_id": "c29d41613589448e91e3116a01e8cae1",
        "deepnote_cell_type": "code",
        "deepnote_to_be_reexecuted": false,
        "execution_millis": 2,
        "execution_start": 1663900375159,
        "output_cleared": false,
        "source_hash": "c6154c30",
        "tags": [],
        "trusted": true
      },
      "outputs": [],
      "source": "# Multiple regression model, controlling for seasons (summer vs. winter)\nmethane_season_model <- lm(temp_anomaly ~ methane + season, data = temp_data)\nmethane_season_model"
    },
    {
      "cell_type": "markdown",
      "metadata": {
        "cell_id": "78711792a6934a88afca371bf3235eea",
        "deepnote_cell_type": "markdown",
        "tags": []
      },
      "source": "<div class=\"alert alert-block alert-warning\">\n\n<b>Sample Response:</b> \n\nWhereas the coefficient was negative in our prior model, the coefficient for `methane` is now positive. This means that, controlling for season, temperature tends to increase as methane increases. The key difference is that we are now controlling for season - sort of like we're only comparing data values within the same season (summer against summer, winter against winter). When looking *within* season, there is a positive relationship between the greenhouse gas and temperature.\n\n\n<b> Instructor Note: </b> \n\nIn this case, it's extremely important to include season in the model. Because of this, students may walk away from this lesson with the idea that *every possible variable* should be included in multiple regressions. This is not always the case and, in fact, adding too many variables can also cause problems for model interpretations and predictions. We'll explore some of those cases in later notebooks. \n \n</div>"
    },
    {
      "cell_type": "markdown",
      "metadata": {
        "cell_id": "16edee5968ec4e1a8cce022c9b8f6952",
        "deepnote_cell_type": "markdown",
        "tags": []
      },
      "source": "**3.2 -** Create a scatterplot showing temperature as predicted by methane, and color the data according to season. Then, visualize your multiple regression fit on the graph."
    },
    {
      "cell_type": "code",
      "execution_count": null,
      "metadata": {
        "cell_id": "7d79f283d49b467a9f34be18223ed9ce",
        "deepnote_cell_type": "code",
        "deepnote_to_be_reexecuted": false,
        "execution_millis": 202,
        "execution_start": 1663900375160,
        "output_cleared": false,
        "source_hash": "73103a80",
        "tags": [],
        "trusted": true
      },
      "outputs": [],
      "source": "# scatter, with temp ~ time, colored by season, showing multivariate regression\ngf_point(temp_anomaly ~ methane, data = temp_data, color = ~season) %>%\n  gf_labs(title = \"Only Winter Months\",\n    x = \"Methane Concentration (parts per trillion)\",\n    y = \"Temperature Anomaly (C), w.r.t 1980-2015 Avg Temp\") %>%\n  gf_model(methane_season_model)"
    },
    {
      "cell_type": "markdown",
      "metadata": {
        "cell_id": "f94b48228e984f47bc5d343af86c7082",
        "deepnote_cell_type": "markdown",
        "tags": []
      },
      "source": "**3.3 -** Your model had a coefficient value for `seasonwinter`. What feature of your graph does this value describe?"
    },
    {
      "cell_type": "markdown",
      "metadata": {
        "cell_id": "10ed442e794849be8b3fae9474fa795c",
        "deepnote_cell_type": "markdown",
        "tags": []
      },
      "source": "<div class=\"alert alert-block alert-warning\">\n\n<b>Sample Response:</b> \n\nSeason winter is the baseline difference in temperature anamoly between summer and winter months, controlling for methane levels. On our graph, the coefficient value for `seasonwinter` appear as the vertical distance between the two lines. We subtract 3.77 degrees Celsius from the summer predictions (note: the coefficient value for `seasonwinter` was negative) in order to get the winter predictions.\n\n</div>"
    },
    {
      "cell_type": "markdown",
      "metadata": {
        "cell_id": "1d628b7835f04de89c212bfb92959609",
        "deepnote_cell_type": "markdown",
        "tags": []
      },
      "source": "<div class=\"alert alert-block alert-info\">\n\n<b> <font size=\"+1\">Key Question</font></b>\n\n\n##### 3.4 - What feature of your graph does the `methane` coefficient describe? How does its value contradict the claim made by the climate change skeptic?\n\n</div>"
    },
    {
      "cell_type": "markdown",
      "metadata": {
        "cell_id": "1bb69936146949d88905e6303a8b9db0",
        "deepnote_cell_type": "markdown",
        "tags": []
      },
      "source": "<div class=\"alert alert-block alert-warning\">\n\n<b>Sample Response:</b> \n\nThe methane coefficient shows the slopes of the lines in the graph - it's the relationship between methane and temperature, controlling for season (i.e. within season). Because its value is positive, we have shown that temperature actually tends to rise as methane is produced in greater quantities (controlling for season). This is consistent with many scientists' claim that greenhouse gases (such as methane) contribute to warming the earth, and it contrasts with the skeptic's claim that temperatures tend to lower as methane becomes more prevalent.\n\n</div>"
    },
    {
      "cell_type": "markdown",
      "metadata": {
        "cell_id": "c16de55399604ef9a416e2fa2e4900a5",
        "deepnote_cell_type": "markdown",
        "tags": []
      },
      "source": "**3.5 -** Which model is more convincing: The skeptic's single-predictor model or the multivariate model? Provide evidence using the visualizations created above and supernova tables."
    },
    {
      "cell_type": "code",
      "execution_count": null,
      "metadata": {
        "cell_id": "59b29337682748c0bd4f3bb4090c3d8d",
        "deepnote_cell_type": "code",
        "deepnote_to_be_reexecuted": false,
        "execution_millis": 50,
        "execution_start": 1663900375402,
        "output_cleared": false,
        "source_hash": "94b415f6",
        "tags": [],
        "trusted": true
      },
      "outputs": [],
      "source": "supernova(methane_season_model)"
    },
    {
      "cell_type": "code",
      "execution_count": null,
      "metadata": {
        "cell_id": "78ac92e60832461c9913ce89d0bf5063",
        "deepnote_cell_type": "code",
        "deepnote_to_be_reexecuted": false,
        "execution_millis": 45,
        "execution_start": 1663900375451,
        "output_cleared": false,
        "source_hash": "be90721a",
        "tags": [],
        "trusted": true
      },
      "outputs": [],
      "source": "supernova(methane_model)"
    },
    {
      "cell_type": "markdown",
      "metadata": {
        "cell_id": "390ad5de8d8d478a9c69d06525eb7162",
        "deepnote_cell_type": "markdown",
        "tags": []
      },
      "source": "<div class=\"alert alert-block alert-warning\">\n\n<b>Sample Response:</b> \n\nLooking at the multivariate regression plot, the fit is *clearly* better than the earlier fit. The temperatures are more closely predicted by our model (the data are closer, along the y-axis, to the lines of best fit). If we were making predictions, accounting for season would make our predictions more accurate. Looking at the supernova tables, we see the PRE jumps from 0.182 to 0.9955 when accounting for season. This provides further evidence that our multivariate model is a better fit from the data, as a much higher percentage of the variation in temperature is explained by our multivariate model.\n\n\n<b> Instructor Note: </b> \n\nTo reiterate - In this case, it's extremely important to include season in the model. Because of this, students may walk away from this lesson with the idea that *every possible variable* should be included in multiple regressions. This is not always the case and, in fact, adding too many variables can also cause problems for model interpretations and predictions. We'll explore some of those cases in later notebooks.  \n\n</div>"
    }
  ],
  "metadata": {
    "deepnote": {
      "is_reactive": false
    },
    "deepnote_execution_queue": [],
    "deepnote_notebook_id": "9434087bfc024c509b6dcb809f34568c",
    "kernelspec": {
      "display_name": "R",
      "language": "R",
      "name": "ir"
    },
    "language_info": {
      "codemirror_mode": "r",
      "file_extension": ".r",
      "mimetype": "text/x-r-source",
      "name": "R",
      "pygments_lexer": "r",
      "version": "4.2.2"
    },
    "nbsimplegrader": {
      "publish_config": {
        "classes": [],
        "options": {},
        "tools": []
      }
    }
  },
  "nbformat": 4,
  "nbformat_minor": 1
}