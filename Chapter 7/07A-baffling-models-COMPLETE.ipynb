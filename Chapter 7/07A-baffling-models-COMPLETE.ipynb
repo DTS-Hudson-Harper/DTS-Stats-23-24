{
  "cells": [
    {
      "cell_type": "markdown",
      "metadata": {
        "cell_id": "437995a949074192b1e9ec38c1c89334",
        "deepnote_cell_type": "markdown",
        "tags": []
      },
      "source": "<div class=\"alert alert-block alert-danger\">\n\n# 07A: Catfished...by a cricket? (COMPLETE)\n\n*This notebook is intended for students who have completed:*\n \n**Page 7.5**\n\n</div>"
    },
    {
      "cell_type": "markdown",
      "metadata": {
        "cell_id": "42a592f310364d0da1b2a8036855b01f",
        "deepnote_cell_type": "markdown",
        "tags": []
      },
      "source": "<div class=\"alert alert-block alert-warning\">\n\n#### Summary of Notebook:\n\nIn this lesson, students will explore two different data sets that each depict data from a pair of related experiments. These experiments examine factors that affect female attraction in crickets, such as the size of male crickets, and the loudness of their chirps, including a phenomenon known as baffling, wherein, a male cricket uses holes in leaves to amplify their chirps (hence, \"catfishing\" the female crickets by making it seem like they are louder than they really are). \n\n#### Includes:\n\n- Making multivariate word equations, data visualizations, and models\n- Interpreting best fitting equations and connecting them to the visualization of a model\n\n</div>"
    },
    {
      "cell_type": "markdown",
      "metadata": {
        "cell_id": "b473c425b91f481691e681e9dc09a16c",
        "deepnote_cell_type": "markdown",
        "tags": []
      },
      "source": "<div class=\"alert alert-block alert-success\">\n\n## Approximate time to complete Notebook: 40-50 Mins\n\n</div>"
    },
    {
      "cell_type": "code",
      "execution_count": null,
      "metadata": {
        "cell_id": "52d98d86b3774570afb9b9edc557fce4",
        "deepnote_cell_type": "code",
        "deepnote_to_be_reexecuted": false,
        "execution_millis": 3967,
        "execution_start": 1677359358350,
        "output_cleared": false,
        "source_hash": "92147bf5",
        "tags": [],
        "trusted": true
      },
      "outputs": [],
      "source": "# this loads the packages and functions used in coursekata \nsuppressPackageStartupMessages({\n    library(coursekata)\n})\n\n# loads data & creates factor variables\n\nfemale_pref <- read.csv(\"https://docs.google.com/spreadsheets/d/e/2PACX-1vSZdsoy_Gom22rkFxq2V91KiRvTFICjnGZ3nRA0O8h0dKDT79K9x0l8mUqgdzyCOjUz3lNtBoSBmyV7/pub?gid=1712183223&single=true&output=csv\")\nfemale_pref$baffling <- factor(female_pref$baffling)\n\nmating <- filter(read.csv(\"https://docs.google.com/spreadsheets/d/e/2PACX-1vTiXq1HiJm_cjoxsu49ueqfDqdoI7rAwXLB9SX89GkEJ5b284olEwP5neUPmIcAu09oA3W13X1Bf8c9/pub?gid=0&single=true&output=csv\"), male_sound == \"soft\")\nmating$male_sound <- factor(mating$male_sound)\nmating$amplified <- factor(mating$amplified, levels = c(0,1), labels = c(\"no\", \"yes\"))\nmating$male_size <- factor(mating$male_size, levels = c(1,2,3), labels = c(\"small\", \"medium\", \"large\"))\n"
    },
    {
      "cell_type": "markdown",
      "metadata": {
        "cell_id": "c4b386e197984450a2f62ace0a233a6e",
        "deepnote_cell_type": "markdown",
        "tags": []
      },
      "source": "<img src=\"https://static01.nyt.com/images/2020/12/29/science/15TB-CRICKET2/15TB-CRICKET2-mobileMasterAt3x.jpg\" alt=\"tree cricket making a hole in a leaf\" width = 50%>\n\n## Bad News for Quiet Crickets\n\nFemale tree crickets tend to prioritize two traits in their mates: loudness and size. Boy crickets can't do much about size but biologist Rittik Deb (National Center for Biological Sciences, Bangalore, India) observed curious behavior called **baffling**. A male cricket will chomp a hole in a leaf, shove his head and forelegs through the opening, and use the leaf as a megaphone!\n\nWatch here: https://elifesciences.org/articles/32763#video2\n\n### Motivating Questions: \n\n- Are females actually attracted by baffling? \n\n- Does amplification of chirps really lead to better sexual outcomes for male crickets? Even for those that are naturally quiet?\n\n"
    },
    {
      "cell_type": "markdown",
      "metadata": {
        "cell_id": "202b0d0c34da49ca9824593648fed6a8",
        "deepnote_cell_type": "markdown",
        "tags": []
      },
      "source": "<div class=\"alert alert-block alert-success\">\n\n### 1.0 - Approximate Time:  20-25 mins\n\n</div>"
    },
    {
      "cell_type": "markdown",
      "metadata": {
        "cell_id": "912b00c864154e17ace8e4a41a2ff953",
        "deepnote_cell_type": "markdown"
      },
      "source": "## Study 1: Are females fooled?\n\n### 1.0: The `female_pref` data\n\nThe data frame `female_pref` has 229 laboratory trials. Biologists played females two naturally recorded chirps from two speakers simultaneously. In some trials, they also played a chorus that included a baffler versus not. In the other trials, they played two choruses that both did not have a baffler.\n\nThey recorded the proportion of females that moved toward the speaker playing the louder chirps.\n\n<img src=\"https://i.postimg.cc/q0tjb58S/image.png\" width=400>\n\nThere are four variables in `female_pref`:\n\n- `chorus_id` identification number of recording\n- `sound_db` sound pressure levels, a measure of how loud the recording was (in decibels)\n- `proportion_fem` the proportion of females that walked towards the louder speaker\n- `baffling` whether a baffler was in the chorus or not"
    },
    {
      "cell_type": "code",
      "execution_count": null,
      "metadata": {
        "cell_id": "54ca4922ac2f460c93f106b0e00357dd",
        "deepnote_cell_type": "code",
        "deepnote_to_be_reexecuted": false,
        "execution_millis": 24,
        "execution_start": 1677359362339,
        "output_cleared": false,
        "source_hash": "f857a1b6",
        "tags": [],
        "trusted": true
      },
      "outputs": [],
      "source": "# Run this code to take a look at the data frame\nhead(female_pref)"
    },
    {
      "cell_type": "markdown",
      "metadata": {
        "cell_id": "cb5d8458cc974a54ad47d3673be379cf",
        "deepnote_cell_type": "markdown",
        "tags": []
      },
      "source": "**1.1:** Write the researchers' hypothesis as a multivariate word equation and make a visualization to explore it! What do you notice?"
    },
    {
      "cell_type": "markdown",
      "metadata": {
        "cell_id": "3d803b53332c4fbd85ededfdc814526a",
        "deepnote_cell_type": "markdown",
        "tags": []
      },
      "source": "<div class=\"alert alert-block alert-warning\">\n\n**Sample Responses:**\n\n*Word Equations*\n\n- proportion_fem = baffling + sound_db + error\n\n- proportion_fem = sound_db + baffling + other stuff\n\n*Visualization descriptions*\n\n- I notice that the proportion_fem goes up as sound_db goes up, and it also goes up for the groups with the bafflers.\n- I notice the slope is much steeper for bafflers. \n- I notice that there are more non-bafflers than bafflers.\n- I notice that the non-bafflers are clumped together more.\n\n\n</div>\n"
    },
    {
      "cell_type": "code",
      "execution_count": null,
      "metadata": {
        "cell_id": "96da5efe61c34443945240965b9c0943",
        "deepnote_cell_type": "code",
        "deepnote_to_be_reexecuted": false,
        "execution_millis": 1224,
        "execution_start": 1677359362367,
        "output_cleared": false,
        "source_hash": "c5fadcbc",
        "trusted": true
      },
      "outputs": [],
      "source": "# Sample Responses\n\ngf_point(proportion_fem ~ sound_db, data = female_pref) %>%\n    gf_facet_grid(baffling ~ .)\n    \ngf_point(proportion_fem ~ sound_db, data = female_pref) %>%\n    gf_facet_grid(. ~ baffling)\n\ngf_point(proportion_fem ~ sound_db, color = ~baffling, data = female_pref)"
    },
    {
      "cell_type": "markdown",
      "metadata": {
        "cell_id": "9335b4a195ea4a8ca18c938165e9f0ab",
        "deepnote_cell_type": "markdown"
      },
      "source": "**1.2:** Generate the best fitting multivariate model.\n"
    },
    {
      "cell_type": "code",
      "execution_count": null,
      "metadata": {
        "cell_id": "5aff4ab062984277a237b6aed3e0c60c",
        "deepnote_cell_type": "code",
        "deepnote_to_be_reexecuted": false,
        "execution_millis": 13,
        "execution_start": 1677359363581,
        "output_cleared": false,
        "source_hash": "a6ec7fee",
        "trusted": true
      },
      "outputs": [],
      "source": "# here is a one predictor model to get you started\nlm(proportion_fem ~ sound_db, data = female_pref)"
    },
    {
      "cell_type": "code",
      "execution_count": null,
      "metadata": {
        "allow_embed": false,
        "cell_id": "4ecd89a5ee3d4936897700bc98594a52",
        "deepnote_cell_type": "code",
        "deepnote_to_be_reexecuted": false,
        "execution_millis": 6,
        "execution_start": 1677359363593,
        "output_cleared": false,
        "source_hash": "be71a298",
        "trusted": true
      },
      "outputs": [],
      "source": "# Sample Response\n\nbaffling_db_model <- lm(proportion_fem ~ sound_db + baffling, data = female_pref)\nbaffling_db_model"
    },
    {
      "cell_type": "markdown",
      "metadata": {
        "cell_id": "ca30eae4433e44d5865ba43589050461",
        "deepnote_cell_type": "markdown"
      },
      "source": "**1.3:** Put the model into GLM notation and interpret the parameter estimates."
    },
    {
      "cell_type": "markdown",
      "metadata": {
        "cell_id": "934ac9096b10432c82ec4110f0015059",
        "deepnote_cell_type": "markdown",
        "tags": []
      },
      "source": "***GLM Notation:***\n\n$Y_i = b_0 + b_1X_{1i} + b_2X_{2i} + e_i$"
    },
    {
      "cell_type": "markdown",
      "metadata": {
        "cell_id": "f5d553a13d3847aa9262f6b59cdc202d",
        "deepnote_cell_type": "markdown",
        "tags": []
      },
      "source": "<div class=\"alert alert-block alert-warning\">\n\n**Sample Responses:**\n\n***GLM Notation:***\n\n- $Y_i = -1.23 + 0.02X_{1i} + -0.02X_{2i} + e_i$\n\nA few ways to write the GLM with variable names:\n- $proportion\\_fem_i = -1.23 + 0.02sound\\_db_{i} + -0.02bafflingyes_{i} + e_i$\n- $\\text{proportion_fem}_i = -1.23 + 0.02\\text{sound_db}_{i} + -0.02\\text{bafflingyes}_{i} + e_i$\n- $propfem_i = -1.23 + 0.02sound_{i} + -0.02baffyes_{i} + e_i$\n\n***Interpret Parameter Estimates:***\n\n- $b_0$ = -1.23, this is the y-intercept, or the predicted `proportion_fem` when `sound_db` is 0 and `bafflingyes` is 0.\n\n- $b_1$ = 0.02, this is the slope of the regression line, or the adjustment to predicted `proportion_fem` for each unit increase of `sound_db`. \n\n- $b_2$ = -0.02, this is the adjustment (or the difference between groups) to predicted `proportion_fem` for a group that heard baffling.\n\n</div>\n"
    },
    {
      "cell_type": "markdown",
      "metadata": {
        "cell_id": "a7aebcf1ac6947fe8adc9e89535d95f9",
        "deepnote_cell_type": "markdown"
      },
      "source": "**1.4:** Put the predictions of the multivariate model on the plot (you can chain on `gf_model()` like you did with plots for one-predictor models), and connect your parameter estimates to what you see on the plot."
    },
    {
      "cell_type": "code",
      "execution_count": null,
      "metadata": {
        "allow_embed": false,
        "cell_id": "6c9589a9c2e84431aefa3670456d1562",
        "deepnote_cell_type": "code",
        "deepnote_to_be_reexecuted": false,
        "execution_millis": 996,
        "execution_start": 1677359363606,
        "output_cleared": false,
        "source_hash": "c5127d4c",
        "trusted": true
      },
      "outputs": [],
      "source": "# Sample Responses\n\ngf_point(proportion_fem ~ sound_db, data = female_pref) %>%\n    gf_facet_grid(baffling ~ .) %>%\n    gf_model(baffling_db_model)\n    \ngf_point(proportion_fem ~ sound_db, data = female_pref) %>%\n    gf_facet_grid(. ~ baffling) %>%\n    gf_model(baffling_db_model)\n\ngf_point(proportion_fem ~ sound_db, color = ~baffling, data = female_pref) %>%\n    gf_model(baffling_db_model)\n\n"
    },
    {
      "cell_type": "markdown",
      "metadata": {
        "cell_id": "48e485f8801549dc9abe94866addd762",
        "deepnote_cell_type": "markdown",
        "tags": []
      },
      "source": "**1.5:** Make some predictions with the model, and find the predictions in your visualization:\n\n- What would the model predict for a baffling group at 70 db? 0 db?\n- What would the model predict for a non-baffling group at 70 db? 0 db?\n\nWhy do we sometimes get negative predictions? Are those reasonable predictions? Why does this happen?"
    },
    {
      "cell_type": "code",
      "execution_count": null,
      "metadata": {
        "cell_id": "1d1fc23e4a7e46eb98c135d78d00108c",
        "deepnote_cell_type": "code",
        "deepnote_to_be_reexecuted": false,
        "execution_millis": 2,
        "execution_start": 1677360111655,
        "output_cleared": false,
        "source_hash": "7398e05a",
        "tags": [],
        "trusted": true
      },
      "outputs": [],
      "source": "# Sample Responses\n\n# baffling at 70 db\n-1.23 + 0.02*70 +.023\n\n# no baffling at 70 db\n-1.23 + 0.02*70 \n\n# baffling at 0 db\n-1.23 + 0.02*0 +.023\n\n# no baffling at 0 db\n-1.23 + 0.02*0 "
    },
    {
      "cell_type": "markdown",
      "metadata": {
        "cell_id": "5306d90a28c449b18c307a21d4cf4478",
        "deepnote_cell_type": "markdown",
        "tags": []
      },
      "source": "<div class=\"alert alert-block alert-warning\">\n\n**Sample Response:**\n\nSometimes we get negative predictions because the regression line drops below 0. Predictions that are less than 0 do not make sense because we cannot have a negative proportion of females moving towards the speakers. Proportion is limited to between 0 and 1.\n\nThis is happening because the model is based on `sound_db` that goes from about 60-80. The model isn't great at making predictions based on `sound_db` outside this range. That's called \"extrapolation\" beyond the data.\n\nIn this case, when we try to make predictions with this model about what would happen in silence (`sound_db` = 0), the model makes clearly nonsensical predictions.\n\n</div>\n"
    },
    {
      "cell_type": "markdown",
      "metadata": {
        "cell_id": "b873504b985a477e8fae71c1ac50d037",
        "deepnote_cell_type": "markdown",
        "tags": []
      },
      "source": "**1.6:** Based on what you have looked at so far, what would you conclude about the researchers' experiment?"
    },
    {
      "cell_type": "markdown",
      "metadata": {
        "cell_id": "545016defdea4e08b932dc078a3cd094",
        "deepnote_cell_type": "markdown",
        "tags": []
      },
      "source": "<div class=\"alert alert-block alert-warning\">\n\n**Sample Response:**\n\nIt looks like females tend to go towards louder cricket sounds and baffled cricket sounds are on the loud so they also go towards bafflers. Baffling works!\n\n</div>\n"
    },
    {
      "cell_type": "markdown",
      "metadata": {
        "cell_id": "d92c1eeed3f748e88e401ee8e46b6fd4",
        "deepnote_cell_type": "markdown",
        "tags": []
      },
      "source": "<div class=\"alert alert-block alert-success\">\n\n### 2.0 - Approximate Time:  20-25 mins\n\n</div>"
    },
    {
      "cell_type": "markdown",
      "metadata": {
        "cell_id": "d54cd8ddd7d44672bb966b6cf7c8999a",
        "deepnote_cell_type": "markdown"
      },
      "source": "## Study 2: Does amplification lead to better sexual outcomes?\n\n### 2.0: The `mating` data\n\nThis data frame has 40 trials where females were played chirps recorded from relatively quiet males.\n\nBut this time only one speaker played chirps. These chirps were randomly assigned to be played naturally or artificially amplified. When the female approached a petri dish stationed near the speaker, researchers introduced the male responsible for the chirps into the petri dish. There is very little rejection apparently in tree cricket mating so all couples mated and researchers recorded the length of attachment in seconds. \n\n<img src=\"https://i.postimg.cc/6w3nY4NQ/image.png\" width=400>\n\nThere are 4 variables in the `mating` data frame:\n\n- `attach_sec` length of time attached during mating\n- `male_sound` all males were relatively quiet males gathered from the field \n- `amplified` whether the recorded sound was artificially amplified or not\n- `male_size` males were categorized as small, medium, large\n- `male_size_mm` length of males  measured in mm"
    },
    {
      "cell_type": "code",
      "execution_count": null,
      "metadata": {
        "cell_id": "fd1ad0bc536c4ff8b36a479c8566bb75",
        "deepnote_cell_type": "code",
        "deepnote_to_be_reexecuted": false,
        "execution_millis": 2,
        "execution_start": 1677359364647,
        "output_cleared": false,
        "source_hash": "67fa6e33",
        "trusted": true
      },
      "outputs": [],
      "source": "# Run this code to take a look at the data frame\nhead(mating)"
    },
    {
      "cell_type": "markdown",
      "metadata": {
        "cell_id": "b2c2ab483b394c3bb425ceb7f5652e3f",
        "deepnote_cell_type": "markdown",
        "tags": []
      },
      "source": "**2.1:** Write a word equation for the hypothesis that amplification and size (in mm) can explain variation in attachment time, and make a visualization to explore it! What do you notice?"
    },
    {
      "cell_type": "markdown",
      "metadata": {
        "cell_id": "4694774ac42049b3b9a30f62a960a234",
        "deepnote_cell_type": "markdown",
        "tags": []
      },
      "source": "<div class=\"alert alert-block alert-warning\">\n\n**Sample Responses:**\n\n*Word Equations*\n\n- attach_sec = male_size_mm + amplified + error\n\n- attach_sec = amplified + male_size_mm + other stuff\n\n*Visualization descriptions*\n\n- I notice that the attach_sec goes up as male_size_mm goes up, and it also goes up for those in the amplified group.\n\n</div>\n"
    },
    {
      "cell_type": "code",
      "execution_count": null,
      "metadata": {
        "allow_embed": false,
        "cell_id": "0fb7adbcfe654cf9b9b3d181b5d4ff34",
        "deepnote_cell_type": "code",
        "deepnote_to_be_reexecuted": false,
        "execution_millis": 828,
        "execution_start": 1677359364648,
        "output_cleared": false,
        "source_hash": "a31fe3f6",
        "trusted": true
      },
      "outputs": [],
      "source": "# Sample Responses\n\ngf_point(attach_sec ~ male_size_mm, data = mating) %>%\n    gf_facet_grid(amplified ~ .)\n    \ngf_point(attach_sec ~ male_size_mm, data = mating) %>%\n    gf_facet_grid(. ~ amplified)\n\ngf_point(attach_sec ~ male_size_mm, color = ~amplified, data = mating)"
    },
    {
      "cell_type": "markdown",
      "metadata": {
        "cell_id": "9abb3b68457f460096e2e780bca0af0c",
        "deepnote_cell_type": "markdown"
      },
      "source": "**2.2:** Generate the best fitting multivariate model.\n"
    },
    {
      "cell_type": "code",
      "execution_count": null,
      "metadata": {
        "cell_id": "a1663b696b8e4af9bd7063f6ed415816",
        "deepnote_cell_type": "code",
        "deepnote_to_be_reexecuted": false,
        "execution_millis": 8,
        "execution_start": 1677359365472,
        "output_cleared": false,
        "source_hash": "c1a86c4c",
        "trusted": true
      },
      "outputs": [],
      "source": "# here is a one predictor model to get you started\nlm(attach_sec ~ amplified, data = mating)"
    },
    {
      "cell_type": "code",
      "execution_count": null,
      "metadata": {
        "allow_embed": false,
        "cell_id": "d58efa0fd4c0482b9430005b5a711b52",
        "deepnote_cell_type": "code",
        "deepnote_to_be_reexecuted": false,
        "execution_millis": 10,
        "execution_start": 1677359365481,
        "output_cleared": false,
        "source_hash": "9054d0ef",
        "trusted": true
      },
      "outputs": [],
      "source": "# Sample Response\n\namp_size_model <- lm(attach_sec ~ amplified + male_size_mm, data = mating)\namp_size_model"
    },
    {
      "cell_type": "markdown",
      "metadata": {
        "cell_id": "24175292a8e342dc9504c6fc3b44d648",
        "deepnote_cell_type": "markdown"
      },
      "source": "**2.3:** Put the model into GLM notation and interpret the parameter estimates."
    },
    {
      "cell_type": "markdown",
      "metadata": {
        "cell_id": "ffaee646702f43929dfb2f33d511abbb",
        "deepnote_cell_type": "markdown",
        "tags": []
      },
      "source": "***GLM Notation:***\n\n$Y_i = b_0 + b_1X_{1i} + b_2X_{2i} + e_i$"
    },
    {
      "cell_type": "markdown",
      "metadata": {
        "cell_id": "524df071676b4929ac4df505af3f6e7e",
        "deepnote_cell_type": "markdown",
        "tags": []
      },
      "source": "<div class=\"alert alert-block alert-warning\">\n\n**Sample Responses:**\n\n***GLM Notation:***\n\n- $Y_i = -9795.1 + 617.8X_{1i} + 972.9X_{2i} + e_i$\n\nA few ways to write the GLM with variable names:\n- $attach\\_sec_i = -9795.1 + 617.8amplifiedyes_{i} + 972.9male\\_size\\_mm_{i} + e_i$\n- $\\text{attach_sec}_i = -9795.1 + 617.8\\text{amplifiedyes}_{i} + 972.9\\text{male_size_mm}_{i} + e_i$\n- $attach_i = -9795.1 + 617.8ampliyes_{i} + 972.9malesize_{i} + e_i$\n\n***Interpret Parameter Estimates:***\n\n- $b_0$ = -9795.1, this is the y-intercept, or the predicted `attach_sec` when `amplifiedyes` is 0 and `male_size_mm` is 0.\n\n- $b_1$ = 617.8, this is the adjustment to to predicted `attach_sec` if female was an amplified (yes) group. \n\n- $b_2$ = 972.9, this is the slope of the regression line, or the adjustment to predicted `attach_sec` for each 1 unit increase of `male_size_mm`. \n\n</div>\n"
    },
    {
      "cell_type": "markdown",
      "metadata": {
        "cell_id": "5f66833383b045eb8f2ec9cd5e2d9b55",
        "deepnote_cell_type": "markdown"
      },
      "source": "**2.4:** Put the predictions of the multivariate model on the plot (you can chain on `gf_model()` like you did with plots for one-predictor models), and connect your parameter estimates to what you see on the plot."
    },
    {
      "cell_type": "code",
      "execution_count": null,
      "metadata": {
        "allow_embed": false,
        "cell_id": "214f46824c3f44acbcadd585138be342",
        "deepnote_cell_type": "code",
        "deepnote_to_be_reexecuted": false,
        "execution_millis": 879,
        "execution_start": 1677359365535,
        "output_cleared": false,
        "source_hash": "b1e57dee",
        "trusted": true
      },
      "outputs": [],
      "source": "# Sample Responses\n\ngf_point(attach_sec ~ male_size_mm, data = mating) %>%\n    gf_facet_grid(amplified ~ .) %>%\n    gf_model(amp_size_model)\n    \ngf_point(attach_sec ~ male_size_mm, data = mating) %>%\n    gf_facet_grid(. ~ amplified) %>%\n    gf_model(amp_size_model)\n\ngf_point(attach_sec ~ male_size_mm, color = ~amplified, data = mating) %>%\n    gf_model(amp_size_model)\n\n"
    },
    {
      "cell_type": "markdown",
      "metadata": {
        "cell_id": "774e34e1072841d59d22d418ac63755d",
        "deepnote_cell_type": "markdown",
        "tags": []
      },
      "source": "**2.5:** Make some predictions with the model, and find the predictions in your visualization:\n\n- What would the model predict for an amplified group at 11 mm? 0 mm?\n- What would the model predict for a non-amplified group at 11 mm? 0 mm?\n\nWhy do we sometimes get negative predictions? Are those reasonable predictions? Why does this happen?"
    },
    {
      "cell_type": "code",
      "execution_count": null,
      "metadata": {
        "allow_embed": false,
        "cell_id": "b87dafc739df4154948b559be352070d",
        "deepnote_cell_type": "code",
        "deepnote_to_be_reexecuted": false,
        "execution_millis": 2,
        "execution_start": 1677360696619,
        "output_cleared": false,
        "source_hash": "e6519238",
        "tags": [],
        "trusted": true
      },
      "outputs": [],
      "source": "# Sample Responses\n\n# amplified at 11 mm\n-9795.1 + 972.9*11 + 617.8\n\n# non-amplified at 11 mm\n-9795.1 + 972.9*11 + 0\n\n# amplified at 0 mm\n-9795.1 + 972.9*0 + 617.8\n\n# non-amplified at 0 mm\n-9795.1 + 972.9*0 + 0"
    },
    {
      "cell_type": "markdown",
      "metadata": {
        "cell_id": "aba43e2ca19944aeb6357b45b152b8ac",
        "deepnote_cell_type": "markdown",
        "tags": []
      },
      "source": "<div class=\"alert alert-block alert-warning\">\n\n**Sample Response:**\n\nSometimes we get negative predictions because the regression line drops below 0. Predictions that are less than 0 do not make sense because we cannot have a negative number of seconds of attachment. Seconds has to be greater than or equal to 0.\n\nThis is happening because the model is based on `male_size_mm` that goes from about 10-13. The model isn't great at making predictions based on male size outside this range. That's called \"extrapolation\" beyond the data.\n\nIn this case, when we try to make predictions with this model about what would happen to a male of 0 size (also ridiculous), the model makes clearly nonsensical predictions.\n\n</div>\n"
    },
    {
      "cell_type": "markdown",
      "metadata": {
        "cell_id": "4d5822cc58324a1cba8bc66a48f04fca",
        "deepnote_cell_type": "markdown",
        "tags": []
      },
      "source": "**2.6:** Based on what you have looked at so far, what would you conclude about the researchers' experiment?"
    },
    {
      "cell_type": "markdown",
      "metadata": {
        "cell_id": "33943e1f088f4de78f1ae8e3305bce7a",
        "deepnote_cell_type": "markdown",
        "tags": []
      },
      "source": "<div class=\"alert alert-block alert-warning\">\n\n**Sample Response:**\n\nIt appears that females spend more time attached to crickets that are larger, and louder.\n\n</div>\n"
    },
    {
      "cell_type": "markdown",
      "metadata": {
        "cell_id": "44c819bf196c4c39b76b52768679036c",
        "deepnote_cell_type": "markdown",
        "tags": []
      },
      "source": "### 3.0: The Practice of Data Science\n\nLet's reflect on how what we did connects to the workflow of data science: (1) explore variation, (2) model variation, and (3) evaluate your model. \n\n**3.1:** For each of the two studies you've analyzed above (sections 1.0 and 2.0), identify which parts correspond to (1), (2), and (3)."
    },
    {
      "cell_type": "markdown",
      "metadata": {
        "cell_id": "de246cf3147341809b0d6ab97c74f484",
        "deepnote_cell_type": "markdown",
        "tags": []
      },
      "source": "<div class=\"alert alert-block alert-warning\">\n\n**Sample Response:**\n\nFor each study:\n\n- Explore variation: Writing word equations, creating exploratory visualizations.\n- Model variation: Fitting the models, putting them into GLM notation, making predictions with the models.\n- Evaluate models: Drawing conclusions about the hypotheses.\n\n</div>\n"
    }
  ],
  "metadata": {
    "deepnote": {
      "is_reactive": false
    },
    "deepnote_execution_queue": [],
    "deepnote_notebook_id": "1e1cfc55c7a24317b078ad99de7d1587",
    "kernelspec": {
      "display_name": "R",
      "language": "R",
      "name": "ir"
    },
    "language_info": {
      "codemirror_mode": "r",
      "file_extension": ".r",
      "mimetype": "text/x-r-source",
      "name": "R",
      "pygments_lexer": "r",
      "version": "4.2.2"
    },
    "nbsimplegrader": {
      "publish_config": {
        "classes": [],
        "options": {},
        "tools": []
      }
    }
  },
  "nbformat": 4,
  "nbformat_minor": 1
}