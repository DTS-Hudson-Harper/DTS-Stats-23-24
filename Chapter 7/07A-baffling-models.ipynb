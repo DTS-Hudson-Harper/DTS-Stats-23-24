{
  "cells": [
    {
      "cell_type": "markdown",
      "metadata": {
        "cell_id": "351534b5e8664e9f873d8d93700f0036",
        "deepnote_cell_type": "markdown",
        "tags": []
      },
      "source": "# 07A: Catfished...by a cricket?"
    },
    {
      "cell_type": "code",
      "execution_count": null,
      "metadata": {
        "cell_id": "5452ab1dd20c4e24835f114e8f2107fd",
        "deepnote_cell_type": "code",
        "deepnote_to_be_reexecuted": false,
        "execution_millis": 3967,
        "execution_start": 1677359358350,
        "output_cleared": false,
        "source_hash": "92147bf5",
        "tags": [],
        "trusted": true
      },
      "outputs": [],
      "source": "# this loads the packages and functions used in coursekata \nsuppressPackageStartupMessages({\n    library(coursekata)\n})\n\n# loads data & creates factor variables\n\nfemale_pref <- read.csv(\"https://docs.google.com/spreadsheets/d/e/2PACX-1vSZdsoy_Gom22rkFxq2V91KiRvTFICjnGZ3nRA0O8h0dKDT79K9x0l8mUqgdzyCOjUz3lNtBoSBmyV7/pub?gid=1712183223&single=true&output=csv\")\nfemale_pref$baffling <- factor(female_pref$baffling)\n\nmating <- filter(read.csv(\"https://docs.google.com/spreadsheets/d/e/2PACX-1vTiXq1HiJm_cjoxsu49ueqfDqdoI7rAwXLB9SX89GkEJ5b284olEwP5neUPmIcAu09oA3W13X1Bf8c9/pub?gid=0&single=true&output=csv\"), male_sound == \"soft\")\nmating$male_sound <- factor(mating$male_sound)\nmating$amplified <- factor(mating$amplified, levels = c(0,1), labels = c(\"no\", \"yes\"))\nmating$male_size <- factor(mating$male_size, levels = c(1,2,3), labels = c(\"small\", \"medium\", \"large\"))\n"
    },
    {
      "cell_type": "markdown",
      "metadata": {
        "cell_id": "70390db203e44a6e96d42971d11dc36c",
        "deepnote_cell_type": "markdown",
        "tags": []
      },
      "source": "<img src=\"https://static01.nyt.com/images/2020/12/29/science/15TB-CRICKET2/15TB-CRICKET2-mobileMasterAt3x.jpg\" alt=\"tree cricket making a hole in a leaf\" width = 50%>\n\n## Bad News for Quiet Crickets\n\nFemale tree crickets tend to prioritize two traits in their mates: loudness and size. Boy crickets can't do much about size but biologist Rittik Deb (National Center for Biological Sciences, Bangalore, India) observed curious behavior called **baffling**. A male cricket will chomp a hole in a leaf, shove his head and forelegs through the opening, and use the leaf as a megaphone!\n\nWatch here: https://elifesciences.org/articles/32763#video2\n\n### Motivating Questions: \n\n- Are females actually attracted by baffling? \n\n- Does amplification of chirps really lead to better sexual outcomes for male crickets? Even for those that are naturally quiet?\n\n"
    },
    {
      "cell_type": "markdown",
      "metadata": {
        "cell_id": "39c664b56f0047acbb9fa48c52dea0c1",
        "deepnote_cell_type": "markdown"
      },
      "source": "## Study 1: Are females fooled?\n\n### 1.0: The `female_pref` data\n\nThe data frame `female_pref` has 229 laboratory trials. Biologists played females two naturally recorded chirps from two speakers simultaneously. In some trials, they also played a chorus that included a baffler versus not. In the other trials, they played two choruses that both did not have a baffler.\n\nThey recorded the proportion of females that moved toward the speaker playing the louder chirps.\n\n<img src=\"https://i.postimg.cc/q0tjb58S/image.png\" width=400>\n\nThere are four variables in `female_pref`:\n\n- `chorus_id` identification number of recording\n- `sound_db` sound pressure levels, a measure of how loud the recording was (in decibels)\n- `proportion_fem` the proportion of females that walked towards the louder speaker\n- `baffling` whether a baffler was in the chorus or not"
    },
    {
      "cell_type": "code",
      "execution_count": null,
      "metadata": {
        "cell_id": "ba6dc3425f4f4a4ab79b63d3f5a89f1f",
        "deepnote_cell_type": "code",
        "deepnote_to_be_reexecuted": false,
        "execution_millis": 24,
        "execution_start": 1677359362339,
        "output_cleared": false,
        "source_hash": "f857a1b6",
        "tags": [],
        "trusted": true
      },
      "outputs": [],
      "source": "# Run this code to take a look at the data frame\nhead(female_pref)"
    },
    {
      "cell_type": "markdown",
      "metadata": {
        "cell_id": "711cabf685974eab970445dbc8ba54f8",
        "deepnote_cell_type": "markdown",
        "tags": []
      },
      "source": "**1.1:** Write the researchers' hypothesis as a multivariate word equation and make a visualization to explore it! What do you notice?"
    },
    {
      "cell_type": "markdown",
      "metadata": {
        "cell_id": "8d2ab0681b184927893b0f60045a4aea",
        "deepnote_cell_type": "markdown"
      },
      "source": "**1.2:** Generate the best fitting multivariate model.\n"
    },
    {
      "cell_type": "code",
      "execution_count": null,
      "metadata": {
        "cell_id": "31e674c97eaf48d0ae42da4e556af78f",
        "deepnote_cell_type": "code",
        "deepnote_to_be_reexecuted": false,
        "execution_millis": 13,
        "execution_start": 1677359363581,
        "output_cleared": false,
        "source_hash": "a6ec7fee",
        "trusted": true
      },
      "outputs": [],
      "source": "# here is a one predictor model to get you started\nlm(proportion_fem ~ sound_db, data = female_pref)"
    },
    {
      "cell_type": "markdown",
      "metadata": {
        "cell_id": "3f25e2de37864b85af7105c3929286e5",
        "deepnote_cell_type": "markdown"
      },
      "source": "**1.3:** Put the model into GLM notation and interpret the parameter estimates."
    },
    {
      "cell_type": "markdown",
      "metadata": {
        "cell_id": "490fde706bb7480a9c29872bacee1eef",
        "deepnote_cell_type": "markdown",
        "tags": []
      },
      "source": "***GLM Notation:***\n\n$Y_i = b_0 + b_1X_{1i} + b_2X_{2i} + e_i$"
    },
    {
      "cell_type": "markdown",
      "metadata": {
        "cell_id": "fc89cc3561234ef4901df8b5dc82946c",
        "deepnote_cell_type": "markdown"
      },
      "source": "**1.4:** Put the predictions of the multivariate model on the plot (you can chain on `gf_model()` like you did with plots for one-predictor models), and connect your parameter estimates to what you see on the plot."
    },
    {
      "cell_type": "markdown",
      "metadata": {
        "cell_id": "9aa653e4c98342f8a9e79c43ff9e43ff",
        "deepnote_cell_type": "markdown",
        "tags": []
      },
      "source": "**1.5:** Make some predictions with the model, and find the predictions in your visualization:\n\n- What would the model predict for a baffling group at 70 db? 0 db?\n- What would the model predict for a non-baffling group at 70 db? 0 db?\n\nWhy do we sometimes get negative predictions? Are those reasonable predictions? Why does this happen?"
    },
    {
      "cell_type": "markdown",
      "metadata": {
        "cell_id": "37716bde71ac496c8be0fa50f6260ec2",
        "deepnote_cell_type": "markdown",
        "tags": []
      },
      "source": "**1.6:** Based on what you have looked at so far, what would you conclude about the researchers' experiment?"
    },
    {
      "cell_type": "markdown",
      "metadata": {
        "cell_id": "c9437d2ba6a84612b141ed010e0fd656",
        "deepnote_cell_type": "markdown"
      },
      "source": "## Study 2: Does amplification lead to better sexual outcomes?\n\n### 2.0: The `mating` data\n\nThis data frame has 40 trials where females were played chirps recorded from relatively quiet males.\n\nBut this time only one speaker played chirps. These chirps were randomly assigned to be played naturally or artificially amplified. When the female approached a petri dish stationed near the speaker, researchers introduced the male responsible for the chirps into the petri dish. There is very little rejection apparently in tree cricket mating so all couples mated and researchers recorded the length of attachment in seconds. \n\n<img src=\"https://i.postimg.cc/6w3nY4NQ/image.png\" width=400>\n\nThere are 4 variables in the `mating` data frame:\n\n- `attach_sec` length of time attached during mating\n- `male_sound` all males were relatively quiet males gathered from the field \n- `amplified` whether the recorded sound was artificially amplified or not\n- `male_size` males were categorized as small, medium, large\n- `male_size_mm` length of males  measured in mm"
    },
    {
      "cell_type": "code",
      "execution_count": null,
      "metadata": {
        "cell_id": "2d7a659571c64f959979b275d5aff602",
        "deepnote_cell_type": "code",
        "deepnote_to_be_reexecuted": false,
        "execution_millis": 2,
        "execution_start": 1677359364647,
        "output_cleared": false,
        "source_hash": "67fa6e33",
        "trusted": true
      },
      "outputs": [],
      "source": "# Run this code to take a look at the data frame\nhead(mating)"
    },
    {
      "cell_type": "markdown",
      "metadata": {
        "cell_id": "74eaf7165364440eaa79777072cd0cde",
        "deepnote_cell_type": "markdown",
        "tags": []
      },
      "source": "**2.1:** Write a word equation for the hypothesis that amplification and size (in mm) can explain variation in attachment time, and make a visualization to explore it! What do you notice?"
    },
    {
      "cell_type": "markdown",
      "metadata": {
        "cell_id": "2f419c41a3c74520b49bba558c7ae6be",
        "deepnote_cell_type": "markdown"
      },
      "source": "**2.2:** Generate the best fitting multivariate model.\n"
    },
    {
      "cell_type": "code",
      "execution_count": null,
      "metadata": {
        "cell_id": "7e97208d20444d629be093a94c64d118",
        "deepnote_cell_type": "code",
        "deepnote_to_be_reexecuted": false,
        "execution_millis": 8,
        "execution_start": 1677359365472,
        "output_cleared": false,
        "source_hash": "c1a86c4c",
        "trusted": true
      },
      "outputs": [],
      "source": "# here is a one predictor model to get you started\nlm(attach_sec ~ amplified, data = mating)"
    },
    {
      "cell_type": "markdown",
      "metadata": {
        "cell_id": "b71e87fbdf6f4656bb2207ca18573fac",
        "deepnote_cell_type": "markdown"
      },
      "source": "**2.3:** Put the model into GLM notation and interpret the parameter estimates."
    },
    {
      "cell_type": "markdown",
      "metadata": {
        "cell_id": "a38342ad2b6c48c6916b5e655d7e836a",
        "deepnote_cell_type": "markdown",
        "tags": []
      },
      "source": "***GLM Notation:***\n\n$Y_i = b_0 + b_1X_{1i} + b_2X_{2i} + e_i$"
    },
    {
      "cell_type": "markdown",
      "metadata": {
        "cell_id": "caece32791fe4d21a62d683ff3e80819",
        "deepnote_cell_type": "markdown"
      },
      "source": "**2.4:** Put the predictions of the multivariate model on the plot (you can chain on `gf_model()` like you did with plots for one-predictor models), and connect your parameter estimates to what you see on the plot."
    },
    {
      "cell_type": "markdown",
      "metadata": {
        "cell_id": "957397fff77b4c0ca60d47a22b9e23e2",
        "deepnote_cell_type": "markdown",
        "tags": []
      },
      "source": "**2.5:** Make some predictions with the model, and find the predictions in your visualization:\n\n- What would the model predict for an amplified group at 11 mm? 0 mm?\n- What would the model predict for a non-amplified group at 11 mm? 0 mm?\n\nWhy do we sometimes get negative predictions? Are those reasonable predictions? Why does this happen?"
    },
    {
      "cell_type": "markdown",
      "metadata": {
        "cell_id": "66937f363468460ea4519deeb9cdb3d7",
        "deepnote_cell_type": "markdown",
        "tags": []
      },
      "source": "**2.6:** Based on what you have looked at so far, what would you conclude about the researchers' experiment?"
    },
    {
      "cell_type": "markdown",
      "metadata": {
        "cell_id": "7280e33abd5448879bdabbeb80985815",
        "deepnote_cell_type": "markdown",
        "tags": []
      },
      "source": "### 3.0: The Practice of Data Science\n\nLet's reflect on how what we did connects to the workflow of data science: (1) explore variation, (2) model variation, and (3) evaluate your model. \n\n**3.1:** For each of the two studies you've analyzed above (sections 1.0 and 2.0), identify which parts correspond to (1), (2), and (3)."
    }
  ],
  "metadata": {
    "deepnote": {
      "is_reactive": false
    },
    "deepnote_execution_queue": [],
    "deepnote_notebook_id": "842c382a2c3c435f911f8071b73c466e",
    "kernelspec": {
      "display_name": "R",
      "language": "R",
      "name": "ir"
    },
    "language_info": {
      "codemirror_mode": "r",
      "file_extension": ".r",
      "mimetype": "text/x-r-source",
      "name": "R",
      "pygments_lexer": "r",
      "version": "4.2.2"
    },
    "nbsimplegrader": {
      "publish_config": {
        "classes": [],
        "options": {},
        "tools": []
      }
    }
  },
  "nbformat": 4,
  "nbformat_minor": 1
}