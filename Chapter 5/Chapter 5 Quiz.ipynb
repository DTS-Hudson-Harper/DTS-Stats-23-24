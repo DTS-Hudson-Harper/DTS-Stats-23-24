{
 "cells": [
  {
   "cell_type": "markdown",
   "id": "c39d836d-b2e3-4b05-a2b6-c5ea20edacec",
   "metadata": {},
   "source": [
    "# Chapter 5 Quiz\n",
    "\n",
    "In this quiz, you'll delve into the `mtcars` dataset, an iconic dataset that comprises various aspects of automobile design and performance metrics for 32 automobiles (1973–74 models) as reviewed by MotorTrend, a famous publication on car reviews. This dataset provides a glimpse into how different vehicle characteristics relate to fuel efficiency and performance.\n",
    "\n",
    "The columns of the `mtcars` dataset include:\n",
    "\n",
    "- `mpg`: Miles/(US) gallon - The fuel efficiency of the car.\n",
    "- `cyl`: Number of cylinders - The engine configuration.\n",
    "- `disp`: Displacement (cu.in.) - The engine size.\n",
    "- `hp`: Gross horsepower - The power output of the engine.\n",
    "- `drat`: Rear axle ratio - The gear ratio that determines how many times the driveshaft turns for each turn of the car's wheels.\n",
    "- `wt`: Weight (1000 lbs) - The weight of the car.\n",
    "- `qsec`: 1/4 mile time - The time it takes for the car to complete a quarter-mile.\n",
    "- `vs`: Engine (0 = V-shaped, 1 = straight) - The engine's configuration.\n",
    "- `am`: Transmission (0 = automatic, 1 = manual) - The type of transmission in the car.\n",
    "- `gear`: Number of forward gears - The number of gears in the car's transmission.\n",
    "- `carb`: Number of carburetors - The number of devices that blend air and fuel for the engine.\n",
    "\n",
    "**Be sure to run the necessary library and data loading commands before starting the quiz:**"
   ]
  },
  {
   "cell_type": "code",
   "execution_count": 21,
   "id": "28c920db-382b-47c6-a221-1742b690eebf",
   "metadata": {},
   "outputs": [
    {
     "data": {
      "text/html": [
       "<table class=\"dataframe\">\n",
       "<caption>A data.frame: 6 × 11</caption>\n",
       "<thead>\n",
       "\t<tr><th></th><th scope=col>mpg</th><th scope=col>cyl</th><th scope=col>disp</th><th scope=col>hp</th><th scope=col>drat</th><th scope=col>wt</th><th scope=col>qsec</th><th scope=col>vs</th><th scope=col>am</th><th scope=col>gear</th><th scope=col>carb</th></tr>\n",
       "\t<tr><th></th><th scope=col>&lt;dbl&gt;</th><th scope=col>&lt;dbl&gt;</th><th scope=col>&lt;dbl&gt;</th><th scope=col>&lt;dbl&gt;</th><th scope=col>&lt;dbl&gt;</th><th scope=col>&lt;dbl&gt;</th><th scope=col>&lt;dbl&gt;</th><th scope=col>&lt;dbl&gt;</th><th scope=col>&lt;dbl&gt;</th><th scope=col>&lt;dbl&gt;</th><th scope=col>&lt;dbl&gt;</th></tr>\n",
       "</thead>\n",
       "<tbody>\n",
       "\t<tr><th scope=row>Mazda RX4</th><td>21.0</td><td>6</td><td>160</td><td>110</td><td>3.90</td><td>2.620</td><td>16.46</td><td>0</td><td>1</td><td>4</td><td>4</td></tr>\n",
       "\t<tr><th scope=row>Mazda RX4 Wag</th><td>21.0</td><td>6</td><td>160</td><td>110</td><td>3.90</td><td>2.875</td><td>17.02</td><td>0</td><td>1</td><td>4</td><td>4</td></tr>\n",
       "\t<tr><th scope=row>Datsun 710</th><td>22.8</td><td>4</td><td>108</td><td> 93</td><td>3.85</td><td>2.320</td><td>18.61</td><td>1</td><td>1</td><td>4</td><td>1</td></tr>\n",
       "\t<tr><th scope=row>Hornet 4 Drive</th><td>21.4</td><td>6</td><td>258</td><td>110</td><td>3.08</td><td>3.215</td><td>19.44</td><td>1</td><td>0</td><td>3</td><td>1</td></tr>\n",
       "\t<tr><th scope=row>Hornet Sportabout</th><td>18.7</td><td>8</td><td>360</td><td>175</td><td>3.15</td><td>3.440</td><td>17.02</td><td>0</td><td>0</td><td>3</td><td>2</td></tr>\n",
       "\t<tr><th scope=row>Valiant</th><td>18.1</td><td>6</td><td>225</td><td>105</td><td>2.76</td><td>3.460</td><td>20.22</td><td>1</td><td>0</td><td>3</td><td>1</td></tr>\n",
       "</tbody>\n",
       "</table>\n"
      ],
      "text/latex": [
       "A data.frame: 6 × 11\n",
       "\\begin{tabular}{r|lllllllllll}\n",
       "  & mpg & cyl & disp & hp & drat & wt & qsec & vs & am & gear & carb\\\\\n",
       "  & <dbl> & <dbl> & <dbl> & <dbl> & <dbl> & <dbl> & <dbl> & <dbl> & <dbl> & <dbl> & <dbl>\\\\\n",
       "\\hline\n",
       "\tMazda RX4 & 21.0 & 6 & 160 & 110 & 3.90 & 2.620 & 16.46 & 0 & 1 & 4 & 4\\\\\n",
       "\tMazda RX4 Wag & 21.0 & 6 & 160 & 110 & 3.90 & 2.875 & 17.02 & 0 & 1 & 4 & 4\\\\\n",
       "\tDatsun 710 & 22.8 & 4 & 108 &  93 & 3.85 & 2.320 & 18.61 & 1 & 1 & 4 & 1\\\\\n",
       "\tHornet 4 Drive & 21.4 & 6 & 258 & 110 & 3.08 & 3.215 & 19.44 & 1 & 0 & 3 & 1\\\\\n",
       "\tHornet Sportabout & 18.7 & 8 & 360 & 175 & 3.15 & 3.440 & 17.02 & 0 & 0 & 3 & 2\\\\\n",
       "\tValiant & 18.1 & 6 & 225 & 105 & 2.76 & 3.460 & 20.22 & 1 & 0 & 3 & 1\\\\\n",
       "\\end{tabular}\n"
      ],
      "text/markdown": [
       "\n",
       "A data.frame: 6 × 11\n",
       "\n",
       "| <!--/--> | mpg &lt;dbl&gt; | cyl &lt;dbl&gt; | disp &lt;dbl&gt; | hp &lt;dbl&gt; | drat &lt;dbl&gt; | wt &lt;dbl&gt; | qsec &lt;dbl&gt; | vs &lt;dbl&gt; | am &lt;dbl&gt; | gear &lt;dbl&gt; | carb &lt;dbl&gt; |\n",
       "|---|---|---|---|---|---|---|---|---|---|---|---|\n",
       "| Mazda RX4 | 21.0 | 6 | 160 | 110 | 3.90 | 2.620 | 16.46 | 0 | 1 | 4 | 4 |\n",
       "| Mazda RX4 Wag | 21.0 | 6 | 160 | 110 | 3.90 | 2.875 | 17.02 | 0 | 1 | 4 | 4 |\n",
       "| Datsun 710 | 22.8 | 4 | 108 |  93 | 3.85 | 2.320 | 18.61 | 1 | 1 | 4 | 1 |\n",
       "| Hornet 4 Drive | 21.4 | 6 | 258 | 110 | 3.08 | 3.215 | 19.44 | 1 | 0 | 3 | 1 |\n",
       "| Hornet Sportabout | 18.7 | 8 | 360 | 175 | 3.15 | 3.440 | 17.02 | 0 | 0 | 3 | 2 |\n",
       "| Valiant | 18.1 | 6 | 225 | 105 | 2.76 | 3.460 | 20.22 | 1 | 0 | 3 | 1 |\n",
       "\n"
      ],
      "text/plain": [
       "                  mpg  cyl disp hp  drat wt    qsec  vs am gear carb\n",
       "Mazda RX4         21.0 6   160  110 3.90 2.620 16.46 0  1  4    4   \n",
       "Mazda RX4 Wag     21.0 6   160  110 3.90 2.875 17.02 0  1  4    4   \n",
       "Datsun 710        22.8 4   108   93 3.85 2.320 18.61 1  1  4    1   \n",
       "Hornet 4 Drive    21.4 6   258  110 3.08 3.215 19.44 1  0  3    1   \n",
       "Hornet Sportabout 18.7 8   360  175 3.15 3.440 17.02 0  0  3    2   \n",
       "Valiant           18.1 6   225  105 2.76 3.460 20.22 1  0  3    1   "
      ]
     },
     "metadata": {},
     "output_type": "display_data"
    }
   ],
   "source": [
    "suppressPackageStartupMessages(\n",
    "    library(coursekata)\n",
    ")\n",
    "\n",
    "# the function below loads the data into a dataframe called mtcars (hence why we don't need to assign it to a variable)\n",
    "data(mtcars)\n",
    "\n",
    "head(mtcars)"
   ]
  },
  {
   "cell_type": "markdown",
   "id": "4f33a124-d2ba-46f3-ad91-25c09e73d730",
   "metadata": {},
   "source": [
    "## Question 1 (2 points)\n",
    "\n",
    "Fit a linear model predicting 'mpg' from the weight ('wt') of the car, and write down this model using GLM notation. Visualize the relationship between these variables, including this linear model. "
   ]
  },
  {
   "cell_type": "markdown",
   "id": "dcc30fcf-28eb-4a76-a8d0-464bd3ec88e8",
   "metadata": {},
   "source": [
    "## Question 2 (2 points)\n",
    "\n",
    "Formulate null and alternative hypotheses about the relationship between these two variables. Perform an F test by simulating the null hypothesis."
   ]
  },
  {
   "cell_type": "markdown",
   "id": "5654331e-58f7-45fb-b326-91d77cc0abdf",
   "metadata": {},
   "source": [
    "## Question 3 (2 points)\n",
    "\n",
    "Use a single R function to test your hypotheses in the last question. Does the output of this function confirm your findings from the previous question?"
   ]
  },
  {
   "cell_type": "markdown",
   "id": "89a6f879-91d1-4c5b-a127-37481497a9ae",
   "metadata": {},
   "source": [
    "## Question 4 (2 points)\n",
    "\n",
    "Was an F test necessary to conduct the analysis in questions 1-3? Why or why not?"
   ]
  },
  {
   "cell_type": "markdown",
   "id": "11df8842-5577-41c5-88ca-e4eddb3ddd49",
   "metadata": {},
   "source": [
    "## Question 5 (2 points)\n",
    "\n",
    "Interpret the effect size of the relationsip between mpg and weight using the output of question 3."
   ]
  },
  {
   "cell_type": "markdown",
   "id": "2284c021-8241-40e7-a5ee-651b25738b12",
   "metadata": {},
   "source": [
    "## Question 6 (2 points)\n",
    "\n",
    "For the rest of the questions in this quiz, you're going to examine the relationship between horsepower ('hp') and the number of forward gears ('gear'). Add code to the following cell to visualize the relationship between these variables. Note that we're treating the number of gears as a categorical variable (vs numerical). Also include a visualization of the linear model that fits hp as a function of gear."
   ]
  },
  {
   "cell_type": "code",
   "execution_count": 17,
   "id": "28cf16b7-13cf-4b7c-af51-539e2ec76e7d",
   "metadata": {},
   "outputs": [],
   "source": [
    "mtcars.cleaned <- mtcars %>%\n",
    "    mutate(gear = as.factor(gear))"
   ]
  },
  {
   "cell_type": "markdown",
   "id": "4b617441-9a3e-452b-b7bd-43914d0dfbea",
   "metadata": {},
   "source": [
    "## Question 7 (2 points)\n",
    "\n",
    "Why is an F test necessary to test whether or not there's a statistically significant relationship between these variables vs looking at a "
   ]
  },
  {
   "cell_type": "markdown",
   "id": "84a5b726-c03c-4073-a574-11660b967948",
   "metadata": {},
   "source": [
    "## Question 8 (2 points)\n",
    "\n",
    "Conduct an F test and interpret the outcome of the test. What does the result tell us? What doesn't it tell us?"
   ]
  },
  {
   "cell_type": "markdown",
   "id": "94338460-52c1-42b5-b516-09541f4e7479",
   "metadata": {},
   "source": [
    "## Question 9 (2 points)\n",
    "\n",
    "Which pairs of gears have statistically significant different mean horsepowers? Use a function in R to justify your answer."
   ]
  },
  {
   "cell_type": "markdown",
   "id": "26a98ef0-7969-4962-af64-451b850f7ced",
   "metadata": {},
   "source": [
    "## Question 10 (2 points)\n",
    "\n",
    "Explain the difference between the output of the function in question 9 compared to the output of performing a test to determine if there's a statistically significant difference between cars with just 3 or 4 forward gears. Why is there a difference?"
   ]
  }
 ],
 "metadata": {
  "kernelspec": {
   "display_name": "R",
   "language": "R",
   "name": "ir"
  },
  "language_info": {
   "codemirror_mode": "r",
   "file_extension": ".r",
   "mimetype": "text/x-r-source",
   "name": "R",
   "pygments_lexer": "r",
   "version": "4.1.2"
  }
 },
 "nbformat": 4,
 "nbformat_minor": 5
}
