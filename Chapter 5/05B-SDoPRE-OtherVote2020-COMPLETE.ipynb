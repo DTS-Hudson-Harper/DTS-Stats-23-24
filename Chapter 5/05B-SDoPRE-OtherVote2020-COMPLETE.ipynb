{
  "cells": [
    {
      "cell_type": "markdown",
      "metadata": {
        "cell_id": "d8c9fed4-ec3b-4e1e-8895-277bbb7830e6",
        "deepnote_cell_height": 224.3125,
        "deepnote_cell_type": "markdown",
        "output_cleared": false,
        "tags": []
      },
      "source": "<div class=\"alert alert-block alert-danger\">\n\n# 5B: Neither Trump nor Biden (COMPLETE)\n\n**Lesson assumes students have read up through page: 5.5**\n    \n</div>"
    },
    {
      "cell_type": "markdown",
      "metadata": {
        "cell_id": "00001-86ba5364-86d8-4e2d-aef2-fb1a1f81ab75",
        "deepnote_cell_height": 163.9375,
        "deepnote_cell_type": "markdown",
        "output_cleared": false,
        "tags": []
      },
      "source": "<div class=\"alert alert-block alert-success\">\n\n## Approximate time to complete Notebook: 45-60 Mins\n    \n</div>"
    },
    {
      "cell_type": "code",
      "execution_count": null,
      "metadata": {
        "cell_id": "00002-2da1ffe4-1199-486b-ad59-3c7a296d67f4",
        "deepnote_cell_height": 552.140625,
        "deepnote_cell_type": "code",
        "deepnote_to_be_reexecuted": false,
        "execution_millis": 6007,
        "execution_start": 1644538650313,
        "nbsimplegrader": {
          "config_key": "code.run-only",
          "editable": false,
          "label": "Code: Run-Only",
          "respondable": false,
          "response": null,
          "runnable": true,
          "type": "code"
        },
        "output_cleared": false,
        "source_hash": "4c001bb6",
        "trusted": true
      },
      "outputs": [],
      "source": "# Load the CourseKata library\nsuppressPackageStartupMessages({\n    library(coursekata)\n})\n\n# Updated USStates data with 2020 census and election data\nUSStates <- read.csv(\"https://docs.google.com/spreadsheets/d/e/2PACX-1vSEc6kO1zrL_3Jlc_cA7cMgk6E2xcIjuUbTL50y-0ENwWby36EFj1MpWZLVKud8YMTtqb1zsef_a8Ss/pub?gid=2100107333&single=true&output=csv\")\n"
    },
    {
      "cell_type": "markdown",
      "metadata": {
        "cell_id": "00003-b3826352-836f-4c96-8629-a707fa9eab96",
        "deepnote_cell_height": 115.9375,
        "deepnote_cell_type": "markdown",
        "output_cleared": false,
        "tags": []
      },
      "source": "<div class=\"alert alert-block alert-success\">\n\n### 1.0 - Approximate Time: 5-8 mins\n    \n</div>"
    },
    {
      "cell_type": "markdown",
      "metadata": {
        "cell_id": "00004-5395ab55-4f58-4710-8b82-8cb40ca2cfdc",
        "deepnote_cell_height": 69.96875,
        "deepnote_cell_type": "markdown",
        "nbsimplegrader": {
          "config_key": "markdown.view-only",
          "editable": false,
          "label": "Markdown: View-Only",
          "respondable": false,
          "response": null,
          "runnable": false,
          "type": "markdown"
        },
        "output_cleared": false
      },
      "source": "## 1.0: Coming up with our ideas"
    },
    {
      "cell_type": "markdown",
      "metadata": {
        "cell_id": "00005-3bd0efa6-3e08-4e22-a7c9-87f7cabc8a60",
        "deepnote_cell_height": 201.3125,
        "deepnote_cell_type": "markdown",
        "output_cleared": false,
        "tags": []
      },
      "source": "We've updated the data frame `USStates` to include a few new variables:\n\n- `TrumpVote20` Percentage of votes for Donald Trump in 2020 Presidential election\n- `BidenVote20` Percentage of votes for Joe Biden in 2020 Presidential election\n- `OtherVote20` Percentage of votes for neither Biden nor Trump in 2020 Presidential election\n- `TotalVote20` Total votes cast in 2020 Presidential election\n\n(Note: This tabulation of votes is from November 9, 2020.)"
    },
    {
      "cell_type": "markdown",
      "metadata": {
        "cell_id": "00006-14c994b4-e810-4814-bc26-5af6d3fff331",
        "deepnote_cell_height": 97.140625,
        "deepnote_cell_type": "markdown",
        "output_cleared": false,
        "tags": []
      },
      "source": "**1.1:** Today we will focus on the question: \"Some people chose to vote for neither Trump nor\nBiden. Why do some states have a disproportionate number of **Other** voters?\" Consider some ideas \nhere."
    },
    {
      "cell_type": "markdown",
      "metadata": {
        "cell_id": "00007-88593fbb-9c40-4057-9fd5-11b00510d4e3",
        "deepnote_cell_height": 345.46875,
        "deepnote_cell_type": "markdown",
        "output_cleared": false,
        "tags": []
      },
      "source": "<div class=\"alert alert-block alert-warning\">\n\n**Sample Response**\n\n*Student responses may include, but are not limited to:*\n\n- Some states might be \"swing\" states (states that are a pretty even mix of democrats and republicans) and\nmay not have a strong preference in one direction or the other \n- Some states might have different levels of income, population, education, race, etc.\n- Some states may have values that align more closely to third parties\n- Some states may have been more negatively affected by policies enacted by both candidates at some point in their political careers\n    \n</div>"
    },
    {
      "cell_type": "code",
      "execution_count": null,
      "metadata": {
        "cell_id": "00008-b65dee8a-b3e2-44d9-9ded-d62a35f56004",
        "deepnote_cell_height": 368.859375,
        "deepnote_cell_type": "code",
        "deepnote_output_heights": [
          276.90625
        ],
        "deepnote_to_be_reexecuted": false,
        "execution_millis": 35,
        "execution_start": 1644538656363,
        "output_cleared": false,
        "source_hash": "698d4ffb",
        "tags": [],
        "trusted": true
      },
      "outputs": [],
      "source": "head(select(USStates, State, OtherVote20))"
    },
    {
      "cell_type": "markdown",
      "metadata": {
        "cell_id": "00009-8396a459-f65f-468d-a3aa-f307ee19c71e",
        "deepnote_cell_height": 722.53125,
        "deepnote_cell_type": "markdown",
        "output_cleared": false,
        "tags": []
      },
      "source": "**1.2:** Consider the other variables available in `USStates` (note: many of \nthese variables were collected circa 2010 unless otherwise noted). What might explain variation in `OtherVote20`?\n\n- `State` Name of state\n- `HouseholdIncome` Mean household income (in dollars)\n- `IQ` Mean IQ score of residents\n- `Region` Area of the country: MW=Midwest, NE=Northeast, S=South, or W=West\n- `Population` Number of residents (in millions) in 2020\n- `PopPercent` Percent of residents of the US in 2020\n- `PopChange10_20` Change in population (in percent) from 2010 to 2020 census\n- `EighthGradeMath` Average score on standardized test administered to 8th graders \n- `HighSchool` Percentage of high school graduates\n- `GSP` Gross State Product (dollars per capita)\n- `FiveVegetables` Percentage of residents who eat at least five servings of fruits/vegetables per day\n- `Smokers` Percentage of residents who smoke\n- `PhysicalActivity` Percentage of residents who have competed in a physical activity in past month\n- `Obese` Percentage of residents classified as obese\n- `College` Percentage of residents with college degrees\n- `NonWhite` Percentage of residents who are not white\n- `HeavyDrinkers` Percentage of residents who drink heavily\n- `TotalDosesed` Total COVID-19 vaccine doses delivered as of Nov 2021\n- `AtLeast1Dose_per100` Percentage of population that has had at least their first dose of the vaccine as of Nov 2021\n- `FullyVacc` Number of people fully vaccinated as of Nov 2021 \n- `FullyVacc_per100` Percentage of population fully vaccinated as of Nov 2021 "
    },
    {
      "cell_type": "markdown",
      "metadata": {
        "cell_id": "00010-498cf671-bb5e-4f8e-8af6-caf26c473abe",
        "deepnote_cell_height": 178.921875,
        "deepnote_cell_type": "markdown",
        "output_cleared": false,
        "tags": []
      },
      "source": "**1.3:** As a class let's come up with three ideas and write them as word equations.\n\n0. Whole class example: **OtherVote20 = FiveVeg + Other Stuff**\n1. \n2.\n3.\n"
    },
    {
      "cell_type": "markdown",
      "metadata": {
        "cell_id": "00011-18314457-d41e-4783-b934-d6d941de2b3d",
        "deepnote_cell_height": 435.046875,
        "deepnote_cell_type": "markdown",
        "output_cleared": false,
        "tags": []
      },
      "source": "<div class=\"alert alert-block alert-warning\">\n\n**Sample Response**\n\n1. OtherVote2020 = College + Other Stuff \n2. OtherVote2020 = NonWhite + Other Stuff\n3. OtherVote2020 = GSP + Other Stuff\n\n*Students may use other explanatory variables in their response.*\n    \nFor the class, it may be helpful to have a mix of variables that explain variation and do not explain variation. The instructor may want to use an example that does not explain variation. This helps because a null model is really hard to interpret and may help normalize finding that our theories about the world don't always pan out. I like to use `FiveVegetables` because that is a not significant explanatory variable and it's one that students feel like -- \"hey that might work... because it surprised us last time... maybe it will surprise us again...\" \n    \nIn this version of the complete notebook, we have put in an example that *does* explain variation -- `NonWhite`.\n    \n</div>"
    },
    {
      "cell_type": "markdown",
      "metadata": {
        "cell_id": "00012-954dcc82-5c00-4c15-a309-0c77b4f9afa8",
        "deepnote_cell_height": 115.9375,
        "deepnote_cell_type": "markdown",
        "output_cleared": false,
        "tags": []
      },
      "source": "<div class=\"alert alert-block alert-success\">\n\n### 2.0 - Approximate Time: 8-10 mins\n    \n</div>"
    },
    {
      "cell_type": "markdown",
      "metadata": {
        "cell_id": "00013-9ca90d48-900f-49bc-9d25-6bb54be5ce0a",
        "deepnote_cell_height": 69.96875,
        "deepnote_cell_type": "markdown",
        "output_cleared": false,
        "tags": []
      },
      "source": "## 2.0: Explore Variation"
    },
    {
      "cell_type": "markdown",
      "metadata": {
        "cell_id": "00014-bcae62e7-5491-49bd-80bf-6eefacb729fc",
        "deepnote_cell_height": 74.75,
        "deepnote_cell_type": "markdown",
        "output_cleared": false,
        "tags": []
      },
      "source": "**2.1:** Pick one of the ideas (word equations) to work on as a group and write it in \nthe space below. "
    },
    {
      "cell_type": "markdown",
      "metadata": {
        "cell_id": "00015-53c97a75-1e76-4560-a6da-863a809aa904",
        "deepnote_cell_height": 140.71875,
        "deepnote_cell_type": "markdown",
        "output_cleared": false,
        "tags": []
      },
      "source": "<div class=\"alert alert-block alert-warning\">\n\n**Sample Response**\n\nOtherVote20 = NonWhite + Other Stuff\n    \n</div>"
    },
    {
      "cell_type": "markdown",
      "metadata": {
        "cell_id": "00016-867e9d6a-2cff-4b12-bddf-970893964648",
        "deepnote_cell_height": 52.359375,
        "deepnote_cell_type": "markdown",
        "output_cleared": false,
        "tags": []
      },
      "source": "**2.2:** Take a look at the data and make some visualizations to explore your word equation."
    },
    {
      "cell_type": "code",
      "execution_count": null,
      "metadata": {
        "cell_id": "00017-c1d26623-fd89-45dc-b8ee-64e1d4017c09",
        "deepnote_cell_height": 1555.15625,
        "deepnote_cell_type": "code",
        "deepnote_output_heights": [
          null,
          276.90625,
          445.015625
        ],
        "deepnote_to_be_reexecuted": false,
        "execution_millis": 1988,
        "execution_start": 1644538708742,
        "output_cleared": false,
        "source_hash": "f5187dd2",
        "tags": [],
        "trusted": true
      },
      "outputs": [],
      "source": "# Take a look at the data\nstr(USStates)\nhead(USStates)\n\n# Take a look at the hypothesis\ngf_point(OtherVote20 ~ NonWhite, data = USStates, color  = \"coral\")"
    },
    {
      "cell_type": "markdown",
      "metadata": {
        "cell_id": "00018-e3af15fc-fd95-4833-8fbe-40e48109621b",
        "deepnote_cell_height": 74.75,
        "deepnote_cell_type": "markdown",
        "output_cleared": false,
        "tags": []
      },
      "source": "**2.3:** Is it possible to have gotten this pattern of data by chance? \nWrite a word equation that represents this possibility."
    },
    {
      "cell_type": "markdown",
      "metadata": {
        "cell_id": "00019-2bacd972-909e-4d94-b172-d6659ae32069",
        "deepnote_cell_height": 224.90625,
        "deepnote_cell_type": "markdown",
        "output_cleared": false,
        "tags": []
      },
      "source": "<div class=\"alert alert-block alert-warning\">\n\n**Sample Responses**\n\n- OtherVote20 = Mean + Error\n- OtherVote20 = Mean + Other Stuff\n\nStudents may also write OtherVote20 = Other Stuff; after chapter 5, it's good to transition to writing mean (the model) + error. \n    \n</div>"
    },
    {
      "cell_type": "markdown",
      "metadata": {
        "cell_id": "00020-2d91eb9a-c5d0-4434-b79d-0df81eab2bc4",
        "deepnote_cell_height": 115.9375,
        "deepnote_cell_type": "markdown",
        "tags": []
      },
      "source": "<div class=\"alert alert-block alert-success\">\n\n### 3.0 - Approximate Time: 8-10 mins\n    \n</div>"
    },
    {
      "cell_type": "markdown",
      "metadata": {
        "cell_id": "00021-a59acc8e-88ab-451d-bdd8-d78d07a6d2f3",
        "deepnote_cell_height": 69.96875,
        "deepnote_cell_type": "markdown",
        "output_cleared": false,
        "tags": []
      },
      "source": "## 3.0: Model Variation"
    },
    {
      "cell_type": "markdown",
      "metadata": {
        "cell_id": "00022-abca22b7-3827-4c0f-b1eb-b8cac4aa9da2",
        "deepnote_cell_height": 111.34375,
        "deepnote_cell_type": "markdown",
        "output_cleared": false,
        "tags": []
      },
      "source": "**3.1:** According to this data, what is your best estimated model of the DGP?\nWrite it in GLM notation below. (Feel free to add more parameters if needed.)\n\n$Y_i = \\beta_0 + \\beta_1X_i + \\epsilon_i$"
    },
    {
      "cell_type": "code",
      "execution_count": null,
      "metadata": {
        "cell_id": "00023-44083beb-ceca-48f7-92df-99a837cbe58a",
        "deepnote_cell_height": 264.375,
        "deepnote_cell_type": "code",
        "deepnote_output_heights": [
          136.421875
        ],
        "deepnote_to_be_reexecuted": false,
        "execution_millis": 20,
        "execution_start": 1644538831309,
        "output_cleared": false,
        "source_hash": "3af18d44",
        "tags": [],
        "trusted": true
      },
      "outputs": [],
      "source": "# Fit the model to find the estimates\nNonWhite_model <- lm(OtherVote20 ~ NonWhite, data = USStates)\nNonWhite_model"
    },
    {
      "cell_type": "markdown",
      "metadata": {
        "cell_id": "00024-3d854a0e-7ada-4b3a-b63b-95c2ea2b1b0a",
        "deepnote_cell_height": 166.53125,
        "deepnote_cell_type": "markdown",
        "output_cleared": false,
        "tags": []
      },
      "source": "<div class=\"alert alert-block alert-warning\">\n\n**Sample Response**\n- $Y_i = 2.53 - 0.02X_i + \\epsilon_i$\n- $OtherVote20_i = 2.53 - 0.02NonWhite_i + \\epsilon_i$\n    \n</div>"
    },
    {
      "cell_type": "markdown",
      "metadata": {
        "cell_id": "00025-18c61822-ced4-4607-8522-1de7f1f1f917",
        "deepnote_cell_height": 52.359375,
        "deepnote_cell_type": "markdown",
        "output_cleared": false,
        "tags": []
      },
      "source": "**3.2:** Add your model to your visualization."
    },
    {
      "cell_type": "code",
      "execution_count": null,
      "metadata": {
        "cell_id": "00026-7f308c94-5d93-43db-8c81-45eb957c3143",
        "deepnote_cell_height": 572.96875,
        "deepnote_cell_type": "code",
        "deepnote_output_heights": [
          445.015625
        ],
        "deepnote_to_be_reexecuted": false,
        "execution_millis": 2809,
        "execution_start": 1644538891038,
        "output_cleared": false,
        "source_hash": "37fe5e79",
        "tags": [],
        "trusted": true
      },
      "outputs": [],
      "source": "# Add the model with gf_lm()\ngf_point(OtherVote20 ~ NonWhite, data = USStates, color  = \"coral\") %>%\ngf_lm()"
    },
    {
      "cell_type": "markdown",
      "metadata": {
        "cell_id": "00027-0d56fdce-4f24-4ebc-a81d-138ffa861864",
        "deepnote_cell_height": 52.359375,
        "deepnote_cell_type": "markdown",
        "nbsimplegrader": {
          "config_key": "markdown.view-only",
          "editable": false,
          "label": "Markdown: View-Only",
          "respondable": false,
          "response": null,
          "runnable": false,
          "type": "markdown"
        },
        "output_cleared": false
      },
      "source": "**3.3:** Interpret your coefficients. What do the numbers in your model mean?"
    },
    {
      "cell_type": "markdown",
      "metadata": {
        "cell_id": "00028-e11d3dcd-75ad-4ce2-9def-3f709c615294",
        "deepnote_cell_height": 281.3125,
        "deepnote_cell_type": "markdown",
        "tags": []
      },
      "source": "<div class=\"alert alert-block alert-warning\">\n\n**Sample Response**\n\n$Y_i = 2.53 - 0.02X_i + \\epsilon_i$\n\n$b_0$ = 2.53, this is the y-intercept, or the constant. This means that when a state is 0% `NonWhite`, we would predict 2.53% for `OtherVote20`\n\n$b_1$ = -0.02, this is the slope. This means that for every 1% increase in `NonWhite`, `OtherVote20` is reduced by .02%. (States with lots of nonwhite people tend not to vote very much for \"other.\")\n    \n</div>"
    },
    {
      "cell_type": "markdown",
      "metadata": {
        "cell_id": "00029-f84011c5-2429-4507-9b2f-c6d89b0c95aa",
        "deepnote_cell_height": 74.75,
        "deepnote_cell_type": "markdown",
        "nbsimplegrader": {
          "config_key": "markdown.view-only",
          "editable": false,
          "label": "Markdown: View-Only",
          "respondable": false,
          "response": null,
          "runnable": false,
          "type": "markdown"
        },
        "output_cleared": false
      },
      "source": "**3.4:** How much error has your model reduced relative to the empty model? \nDoes that provide evidence for or against your hypothesis/prediction?"
    },
    {
      "cell_type": "code",
      "execution_count": null,
      "metadata": {
        "cell_id": "00030-92db0ea5-1d42-43fe-9a14-ef193756a5ef",
        "deepnote_cell_height": 284.765625,
        "deepnote_cell_type": "code",
        "deepnote_output_heights": [
          174.828125
        ],
        "deepnote_to_be_reexecuted": false,
        "execution_millis": 1673,
        "execution_start": 1644538971712,
        "output_cleared": false,
        "source_hash": "769bab75",
        "tags": [],
        "trusted": true
      },
      "outputs": [],
      "source": "# Check the supernova table\nsupernova(NonWhite_model)"
    },
    {
      "cell_type": "markdown",
      "metadata": {
        "cell_id": "00031-216c232c-130a-4627-8cff-b5e6f67bd205",
        "deepnote_cell_height": 185.515625,
        "deepnote_cell_type": "markdown",
        "tags": []
      },
      "source": "<div class=\"alert alert-block alert-warning\">\n\n**Sample Response**\n\nThis model has reduced error (relative to the empty model) by about 11% (according to the PRE). This provides \nsupport for my hypothesis.\n    \n</div>"
    },
    {
      "cell_type": "markdown",
      "metadata": {
        "cell_id": "00032-b30a2774-8230-497f-a7c4-62df1838364f",
        "deepnote_cell_height": 115.9375,
        "deepnote_cell_type": "markdown",
        "tags": []
      },
      "source": "<div class=\"alert alert-block alert-success\">\n\n### 4.0 - Approximate Time: 15-18 mins\n    \n</div>"
    },
    {
      "cell_type": "markdown",
      "metadata": {
        "cell_id": "00033-accbf4f0-f1d5-4f8b-9529-a630a0a3fee1",
        "deepnote_cell_height": 69.96875,
        "deepnote_cell_type": "markdown",
        "nbsimplegrader": {
          "config_key": "markdown.view-only",
          "editable": false,
          "label": "Markdown: View-Only",
          "respondable": false,
          "response": null,
          "runnable": false,
          "type": "markdown"
        },
        "output_cleared": false
      },
      "source": "## 4.0: Simulating a Random DGP "
    },
    {
      "cell_type": "markdown",
      "metadata": {
        "cell_id": "00034-67ca3c3a-8290-4834-bd87-49e1f2ee1043",
        "deepnote_cell_height": 111.34375,
        "deepnote_cell_type": "markdown",
        "nbsimplegrader": {
          "config_key": "markdown.view-only",
          "editable": false,
          "label": "Markdown: View-Only",
          "respondable": false,
          "response": null,
          "runnable": false,
          "type": "markdown"
        },
        "output_cleared": false
      },
      "source": "**4.1:** What would the best fitting models typically look like if the DGP was random? What would the $b_1$s usually look like? How much could they vary? Let's check it out.\n\nModify the code blocks below to examine your particular explanatory variable."
    },
    {
      "cell_type": "code",
      "execution_count": null,
      "metadata": {
        "cell_id": "00035-573dddc0-f81d-4207-82c0-51a628ce8412",
        "deepnote_cell_height": 595.96875,
        "deepnote_cell_type": "code",
        "deepnote_output_heights": [
          445.015625
        ],
        "deepnote_to_be_reexecuted": false,
        "execution_millis": 233,
        "execution_start": 1644539123321,
        "output_cleared": false,
        "source_hash": "b992c9e0",
        "tags": [],
        "trusted": true
      },
      "outputs": [],
      "source": "# Code modified to examine OtherVote2020 = NonWhite + Other Stuff hypothesis\n\ngf_point(shuffle(OtherVote20) ~ NonWhite, data = USStates, color = \"blue\", size = 2) %>%\ngf_lm(color = \"navyblue\") "
    },
    {
      "cell_type": "code",
      "execution_count": null,
      "metadata": {
        "cell_id": "00036-1bcef52d-551d-4b5c-879d-f75dcd406298",
        "deepnote_cell_height": 538.8125,
        "deepnote_cell_type": "code",
        "deepnote_output_heights": [
          410.859375
        ],
        "deepnote_to_be_reexecuted": false,
        "execution_millis": 39,
        "execution_start": 1644539130820,
        "output_cleared": false,
        "source_hash": "31bb6f86",
        "tags": [],
        "trusted": true
      },
      "outputs": [],
      "source": "# Code modified to examine OtherVote2020 = NonWhite + Other Stuff hypothesis\n\ndo(10) * b1(shuffle(OtherVote20) ~ shuffle(NonWhite), data = USStates)"
    },
    {
      "cell_type": "markdown",
      "metadata": {
        "cell_id": "00037-ba72e7a5-3065-4c70-aaa3-25b87d509e89",
        "deepnote_cell_height": 208.109375,
        "deepnote_cell_type": "markdown",
        "tags": []
      },
      "source": "<div class=\"alert alert-block alert-warning\">\n\n**Sample Response**\n\nThe models will typically look like flat, horizontal lines if the DGP was random. The slopes ($b_1$s) \nwill typically be close to zero. They could still have a lot of variation, but should be centered around \nzero.\n    \n</div>"
    },
    {
      "cell_type": "markdown",
      "metadata": {
        "cell_id": "00038-f5e189b5-5ddb-421c-ab82-d54922cfbe6f",
        "deepnote_cell_height": 170.140625,
        "deepnote_cell_type": "markdown",
        "output_cleared": false,
        "tags": []
      },
      "source": "We know how to just a sampling $b_1$ against $b_1$s generated from the empty model ($\\beta_1=0$). Generating Fs from the empty model of the DGP will lead us to the same conclusions.  \n\n**4.2:** Let's Fs (like a 1000 of them) from a random DGP. How do those Fs generally vary? Try creating a visualization of your distribution of Fs.\n\n(Bonus: What is this distribution of Fs called?)"
    },
    {
      "cell_type": "code",
      "execution_count": null,
      "metadata": {
        "cell_id": "00039-ec1d0d97-7061-4910-bc71-af50a8cf42d0",
        "deepnote_cell_height": 988.859375,
        "deepnote_cell_type": "code",
        "deepnote_output_heights": [
          294.90625,
          445.015625
        ],
        "deepnote_to_be_reexecuted": false,
        "execution_millis": 1823,
        "execution_start": 1644539373762,
        "output_cleared": false,
        "source_hash": "2ec5bc5e",
        "tags": [],
        "trusted": true
      },
      "outputs": [],
      "source": "# Code modified to examine OtherVote20 = NonWhite + Other Stuff hypothesis\n\nSDoF <- do(1000) * fVal(shuffle(OtherVote20) ~ NonWhite, data = USStates)\n\nhead(SDoF)\n\n# Create a visualization of SDoF (called a \"Sampling Distribution of Fs\")\ngf_histogram(~fVal, data = SDoF)"
    },
    {
      "cell_type": "markdown",
      "metadata": {
        "cell_id": "00040-519a469c-c0aa-43b9-8f08-51169baf26a9",
        "deepnote_cell_height": 52.359375,
        "deepnote_cell_type": "markdown",
        "nbsimplegrader": {
          "config_key": "markdown.view-only",
          "editable": false,
          "label": "Markdown: View-Only",
          "respondable": false,
          "response": null,
          "runnable": false,
          "type": "markdown"
        },
        "output_cleared": false
      },
      "source": "**4.3:** Where would your sample F exist on the distribution of Fs? Try adding it to your visualization."
    },
    {
      "cell_type": "code",
      "execution_count": null,
      "metadata": {
        "cell_id": "00041-29d6d268-42ec-45f4-86cd-fcd78debadb4",
        "deepnote_cell_height": 608.96875,
        "deepnote_cell_type": "code",
        "deepnote_output_heights": [
          445.015625
        ],
        "deepnote_to_be_reexecuted": false,
        "execution_millis": 370,
        "execution_start": 1644539477619,
        "output_cleared": false,
        "source_hash": "8bd82561",
        "tags": [],
        "trusted": true
      },
      "outputs": [],
      "source": "# Add our sample's F to the visualization with gf_vline()\nsample_F <- fVal(OtherVote20 ~ NonWhite, data = USStates)\n\ngf_histogram(~fVal, data = SDoF, bins = 50, fill = ~lower(fVal, .95)) %>%\ngf_point(0 ~ sample_F, color = \"red\")"
    },
    {
      "cell_type": "markdown",
      "metadata": {
        "cell_id": "00042-cd6c4511-ca18-49c2-aab4-ab0b130c41b9",
        "deepnote_cell_height": 169.921875,
        "deepnote_cell_type": "markdown",
        "nbsimplegrader": {
          "config_key": "markdown.view-only",
          "editable": false,
          "label": "Markdown: View-Only",
          "respondable": false,
          "response": null,
          "runnable": false,
          "type": "markdown"
        },
        "output_cleared": false
      },
      "source": "**4.4:** Consider the values in the ANOVA table for the main model you have been \nworking with so far. Which value do you think corresponds the most to \nthis statement:\n\n> The probability of getting a F as large as the sample F, **if** there was no relationship between the variables in the DGP.\n"
    },
    {
      "cell_type": "markdown",
      "metadata": {
        "cell_id": "00043-6bc067ea-d086-4125-b8ff-a5dfc2b1d063",
        "deepnote_cell_height": 140.71875,
        "deepnote_cell_type": "markdown",
        "tags": []
      },
      "source": "<div class=\"alert alert-block alert-warning\">\n\n**Sample Response**\n\nThis statement corresponds to the p-value in the supernova (ANOVA) table.\n    \n</div>"
    },
    {
      "cell_type": "markdown",
      "metadata": {
        "cell_id": "00044-5e4dbf5e-dd2b-4cd2-8eaf-b9c376ace134",
        "deepnote_cell_height": 97.140625,
        "deepnote_cell_type": "markdown",
        "nbsimplegrader": {
          "config_key": "markdown.view-only",
          "editable": false,
          "label": "Markdown: View-Only",
          "respondable": false,
          "response": null,
          "runnable": false,
          "type": "markdown"
        },
        "output_cleared": false
      },
      "source": "**4.5:** Use `tally()` to see if *\"the proportion of Fs as large as the sample F, if\nthere was no relationship between the variables in the DGP\"* from your sampling distribution really is similar to the number in the ANOVA table."
    },
    {
      "cell_type": "code",
      "execution_count": null,
      "metadata": {
        "cell_id": "00045-0f576e87-f668-4976-888a-04929153c04b",
        "deepnote_cell_height": 393.359375,
        "deepnote_cell_type": "code",
        "deepnote_output_heights": [
          174.828125,
          59.59375
        ],
        "deepnote_to_be_reexecuted": false,
        "execution_millis": 38,
        "execution_start": 1644539645770,
        "output_cleared": false,
        "source_hash": "178c186a",
        "tags": [],
        "trusted": true
      },
      "outputs": [],
      "source": "supernova(NonWhite_model)\n\ntally(~fVal > sample_F, data = SDoF, format = \"proportion\")"
    },
    {
      "cell_type": "markdown",
      "metadata": {
        "cell_id": "00046-5814d300-1a32-40ba-86cf-0fd951d1b16d",
        "deepnote_cell_height": 74.75,
        "deepnote_cell_type": "markdown",
        "output_cleared": false,
        "tags": []
      },
      "source": "**4.6:** So what do you think? Evaluate your model against the empty model. (Were any of the other models from the class not that different from the empty model?) "
    },
    {
      "cell_type": "markdown",
      "metadata": {
        "cell_id": "00047-b72c306e-0544-4d55-9164-69f43e04d899",
        "deepnote_cell_height": 163.125,
        "deepnote_cell_type": "markdown",
        "tags": []
      },
      "source": "<div class=\"alert alert-block alert-warning\">\n\n**Sample Response**\n\nThe F from our model (OtherVote20 = NonWhite + Error) is unlikely to be generated by randomness (the empty model). So we would reject the empty model.\n    \n</div>"
    },
    {
      "cell_type": "markdown",
      "metadata": {
        "cell_id": "00048-2dbb5a76-936a-4e02-9671-a12479be1108",
        "deepnote_cell_height": 97.140625,
        "deepnote_cell_type": "markdown",
        "output_cleared": false,
        "tags": []
      },
      "source": "**4.7:** Do your conclusions about states hold up for citizens? Can you make a better prediction\nabout  *which* voters within the state will vote for an \"other\" candidate with your model? Why or \nwhy not?"
    },
    {
      "cell_type": "markdown",
      "metadata": {
        "cell_id": "00049-f1e4d5dd-a4db-4d04-8275-eea739d5c9b5",
        "deepnote_cell_height": 185.515625,
        "deepnote_cell_type": "markdown",
        "tags": []
      },
      "source": "<div class=\"alert alert-block alert-warning\">\n\n**Sample Response**\n\nThis model cannot tell us about individual citizens, because the cases in this data frame are states, not citizens. Although states with fewer NonWhite voters also vote less for \"other\" candidates, we don't definitively know who the NonWhite voters are voting for from this data.\n    \n</div>"
    },
    {
      "cell_type": "markdown",
      "metadata": {
        "cell_id": "00050-1c79283b-413b-4776-a5f2-683df611c385",
        "deepnote_cell_height": 115.9375,
        "deepnote_cell_type": "markdown",
        "tags": []
      },
      "source": "<div class=\"alert alert-block alert-success\">\n\n### 5.0 - Approximate Time: 8-10 mins\n    \n</div>"
    },
    {
      "cell_type": "markdown",
      "metadata": {
        "cell_id": "00051-6227ee4b-f1b7-441f-b1ff-3b1a1967e223",
        "deepnote_cell_height": 69.96875,
        "deepnote_cell_type": "markdown",
        "nbsimplegrader": {
          "config_key": "markdown.view-only",
          "editable": false,
          "label": "Markdown: View-Only",
          "respondable": false,
          "response": null,
          "runnable": false,
          "type": "markdown"
        },
        "output_cleared": false
      },
      "source": "## 5.0: Extending these Ideas to *PRE*"
    },
    {
      "cell_type": "markdown",
      "metadata": {
        "cell_id": "00052-1b5b94cc-1e83-474b-879e-83c531bd2f6b",
        "deepnote_cell_height": 214.71875,
        "deepnote_cell_type": "markdown",
        "nbsimplegrader": {
          "config_key": "markdown.view-only",
          "editable": false,
          "label": "Markdown: View-Only",
          "respondable": false,
          "response": null,
          "runnable": false,
          "type": "markdown"
        },
        "output_cleared": false
      },
      "source": "*F* and *PRE* are very closely related. They both try to show how much \nthe complex model explains the outcome variable compared to the empty model. We should end up with the same conclusions whether we use F or PRE.\n\n**5.1:** To corroborate our intuitions, try creating a sampling distribution and histogram of the *PRE*  from shuffled data using `PRE()` and `shuffle()`. Where does the sample PRE fall in this distribution?\n\nThen use `tally()` to get the p-value from the simulated sampling distribution of PREs. "
    },
    {
      "cell_type": "code",
      "execution_count": null,
      "metadata": {
        "cell_id": "00053-ee921263-da39-4b67-92c1-4a522a4b8b42",
        "deepnote_cell_height": 753.546875,
        "deepnote_cell_type": "code",
        "deepnote_output_heights": [
          59.59375,
          445.015625
        ],
        "deepnote_to_be_reexecuted": false,
        "execution_millis": 2139,
        "execution_start": 1644540582432,
        "output_cleared": false,
        "owner_user_id": "65abe037-acab-4951-bbc9-907a4ef12e8f",
        "source_hash": "c64bb571",
        "tags": [],
        "trusted": true
      },
      "outputs": [],
      "source": "SDoPRE <- do(1000) * PRE(shuffle(OtherVote20) ~ NonWhite, data = USStates)\nsample_PRE <- PRE(OtherVote20 ~ NonWhite, data = USStates)\n\n# Create a visualization of SDoPREs (called a \"Sampling Distribution of PREs\")\ngf_histogram(~PRE, data = SDoPRE, bins = 50, fill = ~lower(PRE, .95)) %>%\ngf_point(0 ~ sample_PRE, color = \"red\")\n\ntally(~ PRE > sample_PRE, data = SDoPRE, format = \"proportion\")"
    },
    {
      "cell_type": "markdown",
      "metadata": {
        "cell_id": "00054-7f252b0c-c09e-418e-9266-47f94cb779bd",
        "deepnote_cell_height": 52.359375,
        "deepnote_cell_type": "markdown",
        "nbsimplegrader": {
          "config_key": "markdown.view-only",
          "editable": false,
          "label": "Markdown: View-Only",
          "respondable": false,
          "response": null,
          "runnable": false,
          "type": "markdown"
        },
        "output_cleared": false
      },
      "source": "**5.2:** What is similar and different about the approach using F versus PRE?\n"
    },
    {
      "cell_type": "markdown",
      "metadata": {
        "cell_id": "00055-31393a35-15a9-4aaf-ba03-e0bfb9ccea1e",
        "deepnote_cell_height": 216.890625,
        "deepnote_cell_type": "markdown",
        "tags": []
      },
      "source": "<div class=\"alert alert-block alert-warning\">\n\n**Sample Response**\n- The SDoPRE and the SDoF are both skewed right, and the mode is around zero.\n- The sample PRE and the sample F are both toward the end of the tail of the distribution.\n- Both strategies result in similar p-value to the ANOVA table.\n- In this case, in both cases, we reject the null hypothesis in favor of the more complex model.  \n</div>"
    }
  ],
  "metadata": {
    "celltoolbar": "nbsimplegrader",
    "deepnote": {},
    "deepnote_execution_queue": [],
    "deepnote_notebook_id": "c2173b1e-2663-4ab3-8de2-4e59ecf474c3",
    "kernelspec": {
      "display_name": "R",
      "language": "R",
      "name": "ir"
    },
    "language_info": {
      "codemirror_mode": "r",
      "file_extension": ".r",
      "mimetype": "text/x-r-source",
      "name": "R",
      "pygments_lexer": "r",
      "version": "4.0.3"
    },
    "nbsimplegrader": {
      "publish_config": {
        "classes": [],
        "options": {},
        "tools": []
      }
    }
  },
  "nbformat": 4,
  "nbformat_minor": 4
}