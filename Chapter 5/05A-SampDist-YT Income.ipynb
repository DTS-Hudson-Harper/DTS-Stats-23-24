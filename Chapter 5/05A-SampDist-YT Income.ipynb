{
  "cells": [
    {
      "cell_type": "markdown",
      "metadata": {
        "cell_id": "00b469d7-d931-4775-a2aa-a6df57e891f5",
        "deepnote_cell_height": 69.96875,
        "deepnote_cell_type": "markdown",
        "tags": []
      },
      "source": "## 5A: Which YouTubers make a living wage?"
    },
    {
      "cell_type": "markdown",
      "metadata": {
        "cell_id": "00001-9560a7de-3789-41cf-8a56-4a514a374389",
        "deepnote_cell_height": 52.359375,
        "deepnote_cell_type": "markdown",
        "tags": []
      },
      "source": "<img src=\"https://i.postimg.cc/ty1GkxB8/Skew-the-Script-Logo.png\" title=\"Skew the script logo\" width=200 align = \"right\">\n\nMade in collaboration with [Skew the Script](https://skewthescript.org/)."
    },
    {
      "cell_type": "code",
      "execution_count": null,
      "metadata": {
        "cell_id": "00002-e9aeaf4d-36d1-46ca-8487-d6441a36fe8a",
        "deepnote_cell_height": 393.59375,
        "deepnote_cell_type": "code",
        "deepnote_to_be_reexecuted": false,
        "execution_millis": 3943,
        "execution_start": 1649985763479,
        "output_cleared": false,
        "owner_user_id": "23d85493-7ed1-49a4-baa7-630eaab08193",
        "source_hash": "2942993d",
        "tags": [],
        "trusted": true
      },
      "outputs": [],
      "source": "# Load the CourseKata library\nsuppressPackageStartupMessages({\n    library(coursekata)\n})\n\n# Adjust scientific notation\noptions(scipen = 10)\n\n# Pull in data from csv\nYouTubers <- read.csv(\"https://docs.google.com/spreadsheets/d/e/2PACX-1vRc-xoYTbcG_kCs0oNcR0uDgXn0MWroDw9e-EqLJeFDsRtNqXZJqt7A43IvhrSyjR8uEozsKjIy9EH3/pub?gid=615413346&single=true&output=csv\", header=TRUE)\nYouTubers$Gender <- factor(YouTubers$Gender)\n\n# Data frame with filtered outlier\nYouTubers_no_outlier <- filter(YouTubers, Views <= 2500000)"
    },
    {
      "cell_type": "markdown",
      "metadata": {
        "cell_id": "00003-24c9bf57-0251-4fd1-b08f-ff3d66abd786",
        "deepnote_cell_height": 748.359375,
        "deepnote_cell_type": "markdown",
        "tags": []
      },
      "source": "### <center>Students used to say: \"I'm gonna drop out and become a...\"</center>\n\n<img src=\"https://i.postimg.cc/dwybGc5C/9-B-YT-Income-Mus-Ath-Act.png\" title=\"entertainment figures and their 2020 income\" width=500>\n\n### <center>Now, students say: \"I'm gonna drop out and become a...\"</center>\n\n<img src=\"https://i.postimg.cc/pxRNz6gc/9-B-YT-Income-Influencers.png\" title=\"social media figures and their 2020 income\" width=500>"
    },
    {
      "cell_type": "markdown",
      "metadata": {
        "cell_id": "00004-e4217e2c-5201-47f0-aeac-70db78d61765",
        "deepnote_cell_height": 240.3125,
        "deepnote_cell_type": "markdown",
        "tags": []
      },
      "source": "### The Exception or The Rule?\n\nFor today, let's think about YouTube content creators.\n\nAccording to [PolicyAdvice](https://policyadvice.net/insurance/insights/average-american-income/), the average US income is around \\$60-70,000 per year. According the [Department of Health and Human Services](https://aspe.hhs.gov/2021-poverty-guidelines), the individual poverty threshold is \\$12,880.\n\n**What do you think?** What kind of money do people make when YouTubing is their full-time career? (Do you think most YouTube content creators are above the poverty threshold? Above the average income?)"
    },
    {
      "cell_type": "markdown",
      "metadata": {
        "cell_id": "00005-37d53ca5-5060-42d4-99c1-19c743056cff",
        "deepnote_cell_height": 69.96875,
        "deepnote_cell_type": "markdown",
        "tags": []
      },
      "source": "## 1.0: Getting Data\t\t\t\t\t\t\t\t\t"
    },
    {
      "cell_type": "markdown",
      "metadata": {
        "cell_id": "00006-3c9f9f29-b607-40bd-91bc-3a79f5cc47dd",
        "deepnote_cell_height": 74.75,
        "deepnote_cell_type": "markdown",
        "tags": []
      },
      "source": "**1.1, Discussion:** If we wanted to get some data on YouTube earnings, you'll find out YouTube doesn't release data on individual earners. Why do you think that is? \n"
    },
    {
      "cell_type": "markdown",
      "metadata": {
        "cell_id": "00007-d6819087-9357-43ad-b7b8-7afc72690bfe",
        "deepnote_cell_height": 74.75,
        "deepnote_cell_type": "markdown",
        "tags": []
      },
      "source": "**1.2, Discussion:** We could send out a survey and ask YouTubers what their annual income is. Do you think this would be a good method of collecting data? Why or why not?\t\t"
    },
    {
      "cell_type": "markdown",
      "metadata": {
        "cell_id": "00008-e165934f-fd07-4c5f-ad23-e1d17e14d588",
        "deepnote_cell_height": 1024.28125,
        "deepnote_cell_type": "markdown",
        "tags": []
      },
      "source": "Here is a data set called `YouTubers` that was collected on the first **35 YouTube videos** (out of hundreds) that come up with the search term: \"*How much I make on YouTube*\"\n\n<img src=\"https://i.postimg.cc/XNVRxJxq/9-B-YT-Income-Thumbnails.png\" title=\"Top 30 YouTube videos about income from YouTube\" width=500>\n\nThe data frame contains the following variables:\n- `ChannelName`\tThe name of the YouTube channel\n- `VideoLink` The link to the channel\n- `Income` The annual income reported in the video\n- `Gender` The gender of the channel host\n- `Subscribers` The number of subscribers the channel has (at time of data collection, May 2021)\n- `Views` The number of views the video has (at time of data collection, May 2021)\n- `ThumbsUp` The number of thumbs up on the video (at time of data collection, May 2021)\t\n- `ThumbsDown` The number of thumbs down on the video (at time of data collection, May 2021)\n- `Theme` The general theme of the videos on the channel\n- `ThemeBusiness` Whether the channel theme has something to do with business or finance\n- `Vlogs` Whether the channel is a vlogging channel or not\t\n- `Comments` The number of comments on the video (at time of data collection, May 2021)\t\n- `UploadMonth`\tThe month the video was uploaded\n- `UploadYear` The year the video was uploaded\n- `LengthMins` The length of the video in minutes\n- `Verified` Whether or not the channel is verified (with an official check mark near the channel name)\t\n\nThe income made by these creators were recorded from screenshots of channel revenue pages in the videos:\n<img src=\"https://i.postimg.cc/gGT6WLZ9/9-B-YT-Income-Channel-Analytics.png\" title=\"Thumbnail of a YouTubers income analytics page\" width=400>"
    },
    {
      "cell_type": "markdown",
      "metadata": {
        "cell_id": "00009-8de747e9-2825-4b0c-84fb-863f7a1c8383",
        "deepnote_cell_height": 97.140625,
        "deepnote_cell_type": "markdown",
        "tags": []
      },
      "source": "**1.3, Discussion:** Take a peek at the data frame `YouTubers` and take a look at some of the annual incomes. Do you think these numbers are more trustworthy than if you had asked for income on a survey? Do these numbers tell you how much these YouTubers earned in 2020?"
    },
    {
      "cell_type": "code",
      "execution_count": null,
      "metadata": {
        "cell_id": "00010-baa3013a-e386-4376-a484-383fbc82da99",
        "deepnote_cell_height": 445.34375,
        "deepnote_cell_type": "code",
        "deepnote_to_be_reexecuted": false,
        "execution_millis": 580,
        "execution_start": 1649985767455,
        "output_cleared": false,
        "source_hash": "973add78",
        "tags": [],
        "trusted": true
      },
      "outputs": [],
      "source": "str(YouTubers)"
    },
    {
      "cell_type": "markdown",
      "metadata": {
        "cell_id": "00011-26cf3844-a25f-48d3-86a5-f5fbad550c7b",
        "deepnote_cell_height": 69.96875,
        "deepnote_cell_type": "markdown",
        "tags": []
      },
      "source": "## 2.0: Explore Variation in YouTuber Income"
    },
    {
      "cell_type": "markdown",
      "metadata": {
        "cell_id": "00012-fd41689a-3df1-4a43-acf4-a692de67eda4",
        "deepnote_cell_height": 74.75,
        "deepnote_cell_type": "markdown",
        "tags": []
      },
      "source": "**2.1:** Let's explore variation in `Income`. Run the code below. What do you notice about how `Income` is distributed in this sample? "
    },
    {
      "cell_type": "code",
      "execution_count": null,
      "metadata": {
        "cell_id": "00013-8ef04379-9860-4504-87f3-622f08f8ce78",
        "deepnote_cell_height": 572.953125,
        "deepnote_cell_type": "code",
        "deepnote_output_heights": [
          445
        ],
        "deepnote_to_be_reexecuted": false,
        "execution_millis": 384,
        "execution_start": 1649985767653,
        "output_cleared": false,
        "source_hash": "272a1254",
        "tags": [],
        "trusted": true
      },
      "outputs": [],
      "source": "gf_histogram(~IncomeK, data = YouTubers)%>%\ngf_boxplot() %>%\ngf_labs(x = \"Income (in $1000s)\")"
    },
    {
      "cell_type": "markdown",
      "metadata": {
        "cell_id": "00014-1153c17f-d09f-4606-bfc6-ebd3d6ce31a5",
        "deepnote_cell_height": 74.75,
        "deepnote_cell_type": "markdown",
        "tags": []
      },
      "source": "**2.2, Discussion:** Are these YouTubers making a \"living wage\"? Does this data mean that most YouTubers make a living wage?"
    },
    {
      "cell_type": "markdown",
      "metadata": {
        "cell_id": "00015-ba7ef5fa-3fd5-478e-a403-e08f7785c19a",
        "deepnote_cell_height": 74.75,
        "deepnote_cell_type": "markdown",
        "tags": []
      },
      "source": "**2.3:** What might explain variation in these YouTubers income? Come up with a hypothesis and write it as a word equation."
    },
    {
      "cell_type": "markdown",
      "metadata": {
        "cell_id": "00018-eeadf22a-8c21-4235-9510-cd509d6ea0de",
        "deepnote_cell_height": 74.75,
        "deepnote_cell_type": "markdown",
        "tags": []
      },
      "source": "**2.4:** Make a visualization to explore your hypothesis. What are your initial impressions? (Try chaining on `gf_model()`.)"
    },
    {
      "cell_type": "markdown",
      "metadata": {
        "cell_id": "00020-4d177487-cc2a-4ca0-bb74-4164e1cf0b14",
        "deepnote_cell_height": 69.96875,
        "deepnote_cell_type": "markdown",
        "tags": []
      },
      "source": "## 3.0: Model Variation"
    },
    {
      "cell_type": "markdown",
      "metadata": {
        "cell_id": "00021-3ab2a105-0b50-4d8a-ada7-e55b4eef79b8",
        "deepnote_cell_height": 111.34375,
        "deepnote_cell_type": "markdown",
        "tags": []
      },
      "source": "**3.1:** What is the best fitting model for your hypothesis? Answer this question by updating the GLM notation in this cell.\n\n$Income = b_0 + b_1X_i + e_i$"
    },
    {
      "cell_type": "markdown",
      "metadata": {
        "cell_id": "00023-785c6767-a72e-40f2-abd1-4a6730ab10f9",
        "deepnote_cell_height": 74.75,
        "deepnote_cell_type": "markdown",
        "tags": []
      },
      "source": "**3.2:** How much error did we reduce by adding an explanatory variable to our model? (e.g., in our example, `Views`)"
    },
    {
      "cell_type": "markdown",
      "metadata": {
        "cell_id": "00025-f482f955-c097-49e0-beb3-774bd60c0d3d",
        "deepnote_cell_height": 69.96875,
        "deepnote_cell_type": "markdown",
        "tags": []
      },
      "source": "## 4.0: Could there be no effect in the true DGP?"
    },
    {
      "cell_type": "markdown",
      "metadata": {
        "cell_id": "00026-066c226f-b7cd-4018-93f4-7eaf964d81ab",
        "deepnote_cell_height": 215.328125,
        "deepnote_cell_type": "markdown",
        "tags": []
      },
      "source": "Adding our explanatory variable (e.g., gender, verified, subscribers, etc.) reduces error by some amount. But that doesn't mean this more complex model is the right model of the DGP.\n\nEven a DGP where the $\\beta_1=0$ (the empty model) **could** produce samples of data with non-zero $b_1$s and explain some error! But we can use `shuffle()` to simulate a DGP where $\\beta_1=0$ and take a look at what kind of samples get generated.\n\nToday we'll look at $b_1$s and Fs generated from the empty model. (Even numbered groups: go to 4.1; Odd numbered groups: go to 4.2)"
    },
    {
      "cell_type": "markdown",
      "metadata": {
        "cell_id": "d7493f4c-f800-4d8c-ac65-4ad389d3903a",
        "deepnote_cell_height": 57.46875,
        "deepnote_cell_type": "markdown",
        "tags": []
      },
      "source": "#### 4.1: Explore shuffled $b_1$s"
    },
    {
      "cell_type": "markdown",
      "metadata": {
        "cell_id": "685db7c2-a7f0-4538-99bb-ca2c7a4cfe4b",
        "deepnote_cell_height": 120.34375,
        "deepnote_cell_type": "markdown",
        "tags": []
      },
      "source": "- Is our sample $b_1$ an \"unlikely\" sample from `shuffle()`?\n- What do you think our p-value will be?\n- What do we think about the empty model of the DGP?"
    },
    {
      "cell_type": "markdown",
      "metadata": {
        "cell_id": "00032-9887d08d-bad5-4480-8174-98c8dd6d2e10",
        "deepnote_cell_height": 57.46875,
        "deepnote_cell_type": "markdown",
        "tags": []
      },
      "source": "#### 4.2: Explore shuffled $F$s"
    },
    {
      "cell_type": "markdown",
      "metadata": {
        "cell_id": "00033-d79dc1e4-99b6-41a4-b87c-55ae0486162b",
        "deepnote_cell_height": 120.140625,
        "deepnote_cell_type": "markdown",
        "tags": []
      },
      "source": "- Is our sample F an \"unlikely\" sample from `shuffle()`?\n- What do you think our p-value will be?\n- What do we think about the empty model of the DGP?"
    },
    {
      "cell_type": "markdown",
      "metadata": {
        "cell_id": "00043-a10cdab2-040a-4bd1-bd11-4fe3cf9f7af3",
        "deepnote_cell_height": 53.96875,
        "deepnote_cell_type": "markdown",
        "tags": []
      },
      "source": "#### 4.3: What does the ANOVA table say?"
    },
    {
      "cell_type": "markdown",
      "metadata": {
        "cell_id": "00044-53f808b3-eb19-4a86-8667-6f680167327f",
        "deepnote_cell_height": 198.515625,
        "deepnote_cell_type": "markdown",
        "tags": []
      },
      "source": "The ANOVA table does not use simulation (you'll learn about the mathematical models it uses in pg. 10.4). \n\n- According to the ANOVA table, what is the probability of getting a $b_1$ or F more extreme than our sample from the empty model of the DGP (the p-value)?\n- Is this an \"unlikely\" sample to be generated from the empty model of the DGP? \n- So what do we think about the empty model of the DGP?"
    },
    {
      "cell_type": "markdown",
      "metadata": {
        "cell_id": "00046-b536dd81-3f82-4a08-9f96-ae81fad8fb79",
        "deepnote_cell_height": 147.34375,
        "deepnote_cell_type": "markdown",
        "tags": []
      },
      "source": "#### 4.5: What's in common?\n\nAcross all these approaches (the sampling distribution of F and $b_1$; using `shuffle()` or the ANOVA table), what do they say about the empty model of the DGP?\n\nWhat does this mean for your hypothesis?"
    },
    {
      "cell_type": "markdown",
      "metadata": {
        "cell_id": "00047-e1ead9af-1e18-4c70-8c03-d61cd77019d9",
        "deepnote_cell_height": 69.96875,
        "deepnote_cell_type": "markdown",
        "tags": []
      },
      "source": "## 5.0: Generalizing These Results"
    },
    {
      "cell_type": "markdown",
      "metadata": {
        "cell_id": "00048-ff97ece2-74d4-46b4-82f3-706416ca2a2c",
        "deepnote_cell_height": 52.359375,
        "deepnote_cell_type": "markdown",
        "tags": []
      },
      "source": "**5.1:** Do you think your conclusion is true for most YouTubers? Why or why not?"
    },
    {
      "cell_type": "markdown",
      "metadata": {
        "cell_id": "00049-7e641c45-b3d7-42b9-bf46-d6186c46d408",
        "deepnote_cell_height": 74.75,
        "deepnote_cell_type": "markdown",
        "tags": []
      },
      "source": "**5.2:** Based on our class' analyses today, would you have any advice for people who want to become content creators/influencers? "
    }
  ],
  "metadata": {
    "deepnote": {
      "is_reactive": false
    },
    "deepnote_execution_queue": [],
    "deepnote_notebook_id": "57effe5d-f9db-4763-b62e-9e042caa13e4",
    "kernelspec": {
      "display_name": "R",
      "language": "R",
      "name": "ir"
    },
    "language_info": {
      "codemirror_mode": "r",
      "file_extension": ".r",
      "mimetype": "text/x-r-source",
      "name": "R",
      "pygments_lexer": "r",
      "version": "4.0.3"
    },
    "nbsimplegrader": {
      "publish_config": {
        "classes": [],
        "options": {},
        "tools": []
      }
    }
  },
  "nbformat": 4,
  "nbformat_minor": 2
}