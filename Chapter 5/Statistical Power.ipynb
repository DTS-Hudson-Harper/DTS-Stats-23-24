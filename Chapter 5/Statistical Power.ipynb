{
 "cells": [
  {
   "cell_type": "markdown",
   "id": "4621530d-d11f-48fc-acc0-04e5b6f7bdf2",
   "metadata": {},
   "source": [
    "# Calculating Statistical Power and Minimum Sample Size in R"
   ]
  },
  {
   "cell_type": "code",
   "execution_count": null,
   "id": "be39ce29-c045-46cf-aa11-5880be2e983a",
   "metadata": {},
   "outputs": [],
   "source": [
    "suppressPackageStartupMessages({\n",
    "    library(tidyverse)\n",
    "    library(pwr)\n",
    "})\n",
    "\n",
    "options(repr.plot.width=12, repr.plot.height=9)\n",
    "\n",
    "# This fixes font sizes on graphs\n",
    "theme_set(theme(\n",
    "  text = element_text(size = 12),\n",
    "  axis.text = element_text(size = 9)\n",
    "))"
   ]
  },
  {
   "cell_type": "code",
   "execution_count": null,
   "id": "87d00ea0-b703-40ce-a72b-f1d1d509878b",
   "metadata": {},
   "outputs": [],
   "source": [
    "pwr.anova.test(k = 4, n = NULL, f = 0.4, sig.level = 0.05, power = 0.99)"
   ]
  },
  {
   "cell_type": "code",
   "execution_count": null,
   "id": "938e7432-a4fa-4848-883d-a7dc442fd6d1",
   "metadata": {},
   "outputs": [],
   "source": [
    "# Plot sample size curves for detecting correlations of\n",
    "# various sizes.\n",
    "\n",
    "library(pwr)\n",
    "\n",
    "# range of correlations\n",
    "f <- seq(.1,.5,.01)\n",
    "nf <- length(f)\n",
    "\n",
    "# power values\n",
    "p <- seq(.4,.9,.1)\n",
    "np <- length(p)\n",
    "\n",
    "# obtain sample sizes\n",
    "samsize <- array(numeric(nf*np), dim=c(nf,np))\n",
    "for (i in 1:np){\n",
    "  for (j in 1:nf){\n",
    "    result <- pwr.anova.test(k = 4,n = NULL , f = f[j], sig.level = 0.05, power = p[i])\n",
    "    samsize[j,i] <- ceiling(result$n)\n",
    "  }\n",
    "}\n",
    "\n",
    "# set up graph\n",
    "xrange <- range(f)\n",
    "yrange <- round(range(samsize))\n",
    "colors <- rainbow(length(p))\n",
    "plot(xrange, yrange, type=\"n\",\n",
    "  xlab=\"f Effect Size\",\n",
    "  ylab=\"Sample Size (n)\" )\n",
    "\n",
    "# add power curves\n",
    "for (i in 1:np){\n",
    "  lines(f, samsize[,i], type=\"l\", lwd=2, col=colors[i])\n",
    "}\n",
    "\n",
    "# add annotation (grid lines, title, legend)\n",
    "abline(v=0, h=seq(0,yrange[2],50), lty=2, col=\"grey89\")\n",
    "abline(h=0, v=seq(xrange[1],xrange[2],.02), lty=2,\n",
    "   col=\"grey89\")\n",
    "title(\"Sample Size Estimation for Correlation Studies\\n\n",
    "  Sig=0.05 (Two-tailed)\")\n",
    "legend(\"topright\", title=\"Power\",\n",
    "as.character(p),\n",
    "   fill=colors)"
   ]
  },
  {
   "cell_type": "code",
   "execution_count": null,
   "id": "c9654f75-4ae9-4c2a-ac41-528840b04c95",
   "metadata": {},
   "outputs": [],
   "source": []
  }
 ],
 "metadata": {
  "kernelspec": {
   "display_name": "R",
   "language": "R",
   "name": "ir"
  },
  "language_info": {
   "codemirror_mode": "r",
   "file_extension": ".r",
   "mimetype": "text/x-r-source",
   "name": "R",
   "pygments_lexer": "r",
   "version": "4.1.2"
  }
 },
 "nbformat": 4,
 "nbformat_minor": 5
}
