{
  "cells": [
    {
      "cell_type": "markdown",
      "metadata": {
        "cell_id": "d7f49663-b971-420d-9080-60ca065251d7",
        "deepnote_cell_height": 200.328125,
        "deepnote_cell_type": "markdown",
        "tags": []
      },
      "source": "<div class=\"alert alert-block alert-danger\">\n\n## 5A: Which YouTubers make a living wage? (COMPLETE)\n\n**Lesson assumes students have read up through page: 5.3**\n    \n</div>"
    },
    {
      "cell_type": "markdown",
      "metadata": {
        "cell_id": "b1da6e20-26dd-4220-b319-a1800cbbe9a4",
        "deepnote_cell_height": 163.9375,
        "deepnote_cell_type": "markdown",
        "tags": []
      },
      "source": "<div class=\"alert alert-block alert-success\">\n\n## Approximate time to complete Notebook: 45-60 Mins\n    \n</div>"
    },
    {
      "cell_type": "markdown",
      "metadata": {
        "cell_id": "00001-f74d1cef-6037-4f08-8040-447886aaa100",
        "deepnote_cell_height": 429.65625,
        "deepnote_cell_type": "markdown",
        "tags": []
      },
      "source": "<div class=\"alert alert-block alert-warning\">\n\n### At a Glance\n    \n#### Summary of Notebook:\n\nIn this lesson, students will explore a dataset that includes a variety of information about various YouTube channels, including how much income they earn from their channel. The main research question examines whether YouTubers, on average, make a living wage or live above the poverty line. The example hypothesis then works through the question of whether number of views on a video predicts income.\n\n#### Goals of the Notebook:\n\n- Decide whether to include or exclude an outlier\n- See that the shuffled sampling distribution of $b_1$ gives us the same results as the sampling distribution of F and the ANOVA table\n- Give students a chance to explore their own hypotheses\n\n</div>"
    },
    {
      "cell_type": "markdown",
      "metadata": {
        "cell_id": "00002-d6c26aa7-be24-48dc-bf7e-a8112c061536",
        "deepnote_cell_height": 52.359375,
        "deepnote_cell_type": "markdown",
        "tags": []
      },
      "source": "<img src=\"https://i.postimg.cc/ty1GkxB8/Skew-the-Script-Logo.png\" title=\"Skew the script logo\" width=200 align = \"right\">\n\nMade in collaboration with [Skew the Script](https://skewthescript.org/)."
    },
    {
      "cell_type": "code",
      "execution_count": null,
      "metadata": {
        "cell_id": "00003-dd5e9eaf-0098-4495-8a8b-77bab4131682",
        "deepnote_cell_height": 393.59375,
        "deepnote_cell_type": "code",
        "deepnote_to_be_reexecuted": false,
        "execution_millis": 3124,
        "execution_start": 1649986283540,
        "output_cleared": false,
        "owner_user_id": "23d85493-7ed1-49a4-baa7-630eaab08193",
        "source_hash": "4c5900e6",
        "tags": [],
        "trusted": true
      },
      "outputs": [],
      "source": "# Load the CourseKata library\nsuppressPackageStartupMessages({\n    library(coursekata)\n})\n\n# Adjust scientific notation\noptions(scipen = 10)\n\n# Pull in data from csv\nYouTubers <- read.csv(\"https://docs.google.com/spreadsheets/d/e/2PACX-1vRc-xoYTbcG_kCs0oNcR0uDgXn0MWroDw9e-EqLJeFDsRtNqXZJqt7A43IvhrSyjR8uEozsKjIy9EH3/pub?gid=615413346&single=true&output=csv\", header=TRUE)\nYouTubers$Gender <- factor(YouTubers$Gender)\n\n# Data frame excluding outlier\nYouTubers_no_outlier <- filter(YouTubers, Views <= 2500000)"
    },
    {
      "cell_type": "markdown",
      "metadata": {
        "cell_id": "f3ec9f24-4a77-43e3-800b-844dabe84359",
        "deepnote_cell_height": 115.9375,
        "deepnote_cell_type": "markdown",
        "tags": []
      },
      "source": "<div class=\"alert alert-block alert-success\">\n\n### 1.0 - Approximate Time: 5-8 mins\n    \n</div>"
    },
    {
      "cell_type": "markdown",
      "metadata": {
        "cell_id": "00004-c91de506-ae2a-42e6-8df4-c234998d9574",
        "deepnote_cell_height": 748.359375,
        "deepnote_cell_type": "markdown",
        "tags": []
      },
      "source": "### <center>Students used to say: \"I'm gonna drop out and become a...\"</center>\n\n<img src=\"https://i.postimg.cc/dwybGc5C/9-B-YT-Income-Mus-Ath-Act.png\" title=\"entertainment figures and their 2020 income\" width=500>\n\n### <center>Now, students say: \"I'm gonna drop out and become a...\"</center>\n\n<img src=\"https://i.postimg.cc/pxRNz6gc/9-B-YT-Income-Influencers.png\" title=\"social media figures and their 2020 income\" width=500>"
    },
    {
      "cell_type": "markdown",
      "metadata": {
        "cell_id": "00005-af826b99-e76e-4964-8411-ad37f87e4b56",
        "deepnote_cell_height": 240.3125,
        "deepnote_cell_type": "markdown",
        "tags": []
      },
      "source": "### The Exception or The Rule?\n\nFor today, let's think about YouTube content creators.\n\nAccording to [PolicyAdvice](https://policyadvice.net/insurance/insights/average-american-income/), the average US income is \\$51,916 per year. According the [Department of Health and Human Services](https://aspe.hhs.gov/2021-poverty-guidelines), the individual poverty threshold is \\$12,880.\n\n**What do you think?** What kind of money do people make when YouTubing is their full-time career? (Do you think most YouTube content creators are above the poverty threshold? Above the average income?)"
    },
    {
      "cell_type": "markdown",
      "metadata": {
        "cell_id": "00006-c134a4f9-c971-44b8-b04e-ebafcd5908ed",
        "deepnote_cell_height": 69.96875,
        "deepnote_cell_type": "markdown",
        "tags": []
      },
      "source": "## 1.0: Getting Data\t\t\t\t\t\t\t\t\t"
    },
    {
      "cell_type": "markdown",
      "metadata": {
        "cell_id": "00007-c2c08ec5-04f3-4942-b464-33a380399eb6",
        "deepnote_cell_height": 74.75,
        "deepnote_cell_type": "markdown",
        "tags": []
      },
      "source": "**1.1, Discussion:** If we wanted to get some data on YouTube earnings, you'll find out YouTube doesn't release data on individual earners. Why do you think that is? \n"
    },
    {
      "cell_type": "markdown",
      "metadata": {
        "cell_id": "f894ee5e-578e-4dcd-b901-896ab93b1ffa",
        "deepnote_cell_height": 140.71875,
        "deepnote_cell_type": "markdown",
        "tags": []
      },
      "source": "<div class=\"alert alert-block alert-warning\">\n\n**Sample Response**\n\n- YouTube may not be able to release that information because it might be confidential.\n    \n</div>"
    },
    {
      "cell_type": "markdown",
      "metadata": {
        "cell_id": "00008-7f1809a3-b238-444b-a893-183cbd9c0a0b",
        "deepnote_cell_height": 74.75,
        "deepnote_cell_type": "markdown",
        "tags": []
      },
      "source": "**1.2, Discussion:** We could send out a survey and ask YouTubers what their annual income is. Do you think this would be a good method of collecting data? Why or why not?\t\t"
    },
    {
      "cell_type": "markdown",
      "metadata": {
        "cell_id": "00011-fc083238-479c-4f5f-a03c-f82fd6ee58f3",
        "deepnote_cell_height": 300.6875,
        "deepnote_cell_type": "markdown",
        "tags": []
      },
      "source": "<div class=\"alert alert-block alert-warning\">\n\n**Sample Responses**\n\n*Pros*\n\n- You can directly ask the person\n\n*Cons*\n\n- They might not be truthful (e.g., wanting to over- or underestimate their worth)\n- They might not recall correctly \n- They might not actually know (e.g., a financial advisor handles their finances)\n    \n</div>"
    },
    {
      "cell_type": "markdown",
      "metadata": {
        "cell_id": "00009-7e3a9d19-2635-4fa1-8cc5-aacceea6d78e",
        "deepnote_cell_height": 1024.28125,
        "deepnote_cell_type": "markdown",
        "tags": []
      },
      "source": "Here is a data set called `YouTubers` that was collected on the first **35 YouTube videos** (out of hundreds) that come up with the search term: \"*How much I make on YouTube*\"\n\n<img src=\"https://i.postimg.cc/XNVRxJxq/9-B-YT-Income-Thumbnails.png\" title=\"Top 30 YouTube videos about income from YouTube\" width=500>\n\nThe data frame contains the following variables:\n- `ChannelName`\tThe name of the YouTube channel\n- `VideoLink` The link to the channel\n- `Income` The annual income reported in the video\n- `Gender` The gender of the channel host\n- `Subscribers` The number of subscribers the channel has (at time of data collection, May 2021)\n- `Views` The number of views the video has (at time of data collection, May 2021)\n- `ThumbsUp` The number of thumbs up on the video (at time of data collection, May 2021)\t\n- `ThumbsDown` The number of thumbs down on the video (at time of data collection, May 2021)\n- `Theme` The general theme of the videos on the channel\n- `ThemeBusiness` Whether the channel theme has something to do with business or finance\n- `Vlogs` Whether the channel is a vlogging channel or not\t\n- `Comments` The number of comments on the video (at time of data collection, May 2021)\t\n- `UploadMonth`\tThe month the video was uploaded\n- `UploadYear` The year the video was uploaded\n- `LengthMins` The length of the video in minutes\n- `Verified` Whether or not the channel is verified (with an official check mark near the channel name)\t\n\nThe income made by these creators were recorded from screenshots of channel revenue pages in the videos:\n<img src=\"https://i.postimg.cc/gGT6WLZ9/9-B-YT-Income-Channel-Analytics.png\" title=\"Thumbnail of a YouTubers income analytics page\" width=400>"
    },
    {
      "cell_type": "markdown",
      "metadata": {
        "cell_id": "00010-e5e6ab1f-3ecf-4759-a78a-f5966fdbd5d4",
        "deepnote_cell_height": 97.140625,
        "deepnote_cell_type": "markdown",
        "tags": []
      },
      "source": "**1.3, Discussion:** Take a peek at the data frame `YouTubers` and take a look at some of the annual incomes. Do you think these numbers are more trustworthy than if you had asked for income on a survey? Do these numbers tell you how much these YouTubers earned in 2020?"
    },
    {
      "cell_type": "markdown",
      "metadata": {
        "cell_id": "00013-56d2dde1-4469-4348-9c39-43f65ae1ac62",
        "deepnote_cell_height": 210.90625,
        "deepnote_cell_type": "markdown",
        "tags": []
      },
      "source": "<div class=\"alert alert-block alert-warning\">\n\n**Sample Response**\n\n- These numbers might be more trustworthy because you can actually see their analytics page.\n- These numbers do not tell us how much all of them earned in 2020, because some of them are from videos made in different years.\n    \n</div>"
    },
    {
      "cell_type": "code",
      "execution_count": null,
      "metadata": {
        "cell_id": "00011-d945abcb-b529-4b04-a845-abe610138fd2",
        "deepnote_cell_height": 445.34375,
        "deepnote_cell_type": "code",
        "deepnote_to_be_reexecuted": false,
        "execution_millis": 188,
        "execution_start": 1649986286691,
        "output_cleared": false,
        "source_hash": "973add78",
        "tags": [],
        "trusted": true
      },
      "outputs": [],
      "source": "str(YouTubers)"
    },
    {
      "cell_type": "markdown",
      "metadata": {
        "cell_id": "00006-030db44c-2447-4a2b-b53c-ef48edf44494",
        "deepnote_cell_height": 115.9375,
        "deepnote_cell_type": "markdown",
        "tags": []
      },
      "source": "<div class=\"alert alert-block alert-success\">\n\n### 2.0 - Approximate Time: 10-12 mins\n    \n</div>"
    },
    {
      "cell_type": "markdown",
      "metadata": {
        "cell_id": "00012-12b204b4-60a6-4e6e-b0a0-68bb2ae7ba3d",
        "deepnote_cell_height": 69.96875,
        "deepnote_cell_type": "markdown",
        "tags": []
      },
      "source": "## 2.0: Explore Variation in YouTuber Income"
    },
    {
      "cell_type": "markdown",
      "metadata": {
        "cell_id": "00013-f2a4999a-2b32-4a52-98a5-9ad21351b7b0",
        "deepnote_cell_height": 74.75,
        "deepnote_cell_type": "markdown",
        "tags": []
      },
      "source": "**2.1:** Let's explore variation in `Income`. Run the code below. What do you notice about how `Income` is distributed in this sample? "
    },
    {
      "cell_type": "code",
      "execution_count": null,
      "metadata": {
        "cell_id": "00014-c6cd0401-1d28-477f-be83-475cf2017be2",
        "deepnote_cell_height": 572.96875,
        "deepnote_cell_type": "code",
        "deepnote_output_heights": [
          445.015625
        ],
        "deepnote_to_be_reexecuted": false,
        "execution_millis": 331,
        "execution_start": 1649986286887,
        "output_cleared": false,
        "source_hash": "272a1254",
        "tags": [],
        "trusted": true
      },
      "outputs": [],
      "source": "gf_histogram(~IncomeK, data = YouTubers)%>%\ngf_boxplot() %>%\ngf_labs(x = \"Income (in $1000s)\")"
    },
    {
      "cell_type": "markdown",
      "metadata": {
        "cell_id": "00016-4ed7d59d-e33a-4b0e-9028-0ecb3f03513e",
        "deepnote_cell_height": 258.296875,
        "deepnote_cell_type": "markdown",
        "tags": []
      },
      "source": "<div class=\"alert alert-block alert-warning\">\n\n**Note to Instructors**\n\nAfter an initial reaction, encourage students to look for shape, center, spread, and/or weird things.\n\n**Sample Response**\n\nThese incomes are skewed to the right. A lot of the incomes are stacked between \\$0 - \\$50,000, with a few that go as high as \\$300,000.\n\n</div>"
    },
    {
      "cell_type": "markdown",
      "metadata": {
        "cell_id": "00015-810b2486-40fd-4b9a-a13c-b1d4537e7514",
        "deepnote_cell_height": 74.75,
        "deepnote_cell_type": "markdown",
        "tags": []
      },
      "source": "**2.2, Discussion:** Are these YouTubers making a \"living wage\"? Does this data mean that most YouTubers make a living wage?"
    },
    {
      "cell_type": "markdown",
      "metadata": {
        "cell_id": "00024-36a55096-1656-49f8-8c27-d1ee13f4312d",
        "deepnote_cell_height": 255.6875,
        "deepnote_cell_type": "markdown",
        "tags": []
      },
      "source": "<div class=\"alert alert-block alert-warning\">\n\n**Sample Response**\n\n- According to this data, it looks like many YouTubers are making wages above the poverty threshold. \n- This does not mean that this is true for most YouTubers. This dataset only includes YouTubers who have self-selected to share their income information. It does not include those who do not disclose that info, or those who may not make any income at all so they do not post a video about it.\n    \n</div>"
    },
    {
      "cell_type": "markdown",
      "metadata": {
        "cell_id": "00016-369de90a-9176-4167-ae5e-4cbaa181e09b",
        "deepnote_cell_height": 74.75,
        "deepnote_cell_type": "markdown",
        "tags": []
      },
      "source": "**2.3:** What might explain variation in these YouTubers income? Come up with a hypothesis and write it as a word equation."
    },
    {
      "cell_type": "markdown",
      "metadata": {
        "cell_id": "00020-d51de23b-1a0f-4309-a2d3-01fcd9315f82",
        "deepnote_cell_height": 378.65625,
        "deepnote_cell_type": "markdown",
        "tags": []
      },
      "source": "<div class=\"alert alert-block alert-warning\">\n\n**Note to Instructors**\n\nStudents will come up with lots of hypotheses and they should be encouraged to pursue their own hypothesis in this part of the Jupyter notebook.\n\nThe instructor should pursue an example hypothesis. We recommend pursuing **Income = Views + Error** which is interesting because of an outlier. There is a video in this sample that went extra viral with about 9 million views. For comparison, the 2nd most watched video has 800K views. Your students may be interested in doing their analysis with either `YouTubers` or `YouTubers_no_outlier` which excludes that super viral video. It would be good to discuss whether they think videos that go superviral are part of the same DGP that governs most other videos. After exploring that in the next question, we recommend using the `YouTubers_no_outlier` data set. Note that the outlier really changes the relationship between `Views` and `Income`. \n    \n</div>"
    },
    {
      "cell_type": "markdown",
      "metadata": {
        "cell_id": "00018-17315859-89a7-4d0a-be40-60daf642ef22",
        "deepnote_cell_height": 74.75,
        "deepnote_cell_type": "markdown",
        "tags": []
      },
      "source": "**2.4:** Make a visualization to explore your hypothesis. What are your initial impressions? (Try chaining on `gf_model()`.)"
    },
    {
      "cell_type": "code",
      "execution_count": null,
      "metadata": {
        "cell_id": "00019-774af95e-dd27-41a6-ac4e-753d47eb4f06",
        "deepnote_cell_height": 1667.875,
        "deepnote_cell_type": "code",
        "deepnote_output_heights": [
          276.90625,
          445.015625,
          445.015625
        ],
        "deepnote_to_be_reexecuted": false,
        "execution_millis": 424,
        "execution_start": 1649986287222,
        "output_cleared": false,
        "source_hash": "2406579b",
        "tags": [],
        "trusted": true
      },
      "outputs": [],
      "source": "# Complete Version\n\n# Income = Views + Error\ngf_jitter(Income ~ Views, data = YouTubers) %>%\ngf_model(Income ~ Views, data = YouTubers)\n\n# This happens to be a situation where there is a really extreme outlier! \n# Students might be interested in watching that video (link in data) but \n# when we look at the data (see arrange), this video happens to be the most viral,\n# with over 9 million views. So it also has a lot of likes, dislikes, comments, etc.\nhead(arrange(YouTubers, desc(Views)))\n\n# This would be good to discuss: should we exclude this outlier? \n# Especially if students are interested in views, thumbs up/down, comments \n# we suggest exluding because the outlier will warp the relationship between variables.\nYouTubers_no_outlier <- filter(YouTubers, Views <= 2500000)\n\n# ...and here's the data viz without the outlier.\ngf_jitter(Income ~ Views, data = YouTubers_no_outlier) %>%\ngf_model(Income ~ Views, data = YouTubers_no_outlier)"
    },
    {
      "cell_type": "markdown",
      "metadata": {
        "cell_id": "00018-a995ebb4-51e5-4ad7-bc1c-5178aef61ad2",
        "deepnote_cell_height": 115.9375,
        "deepnote_cell_type": "markdown",
        "tags": []
      },
      "source": "<div class=\"alert alert-block alert-success\">\n\n### 3.0 - Approximate Time: 10-12 mins\n    \n</div>"
    },
    {
      "cell_type": "markdown",
      "metadata": {
        "cell_id": "00021-16f8a402-69d2-460b-acda-c63c9c4ca28c",
        "deepnote_cell_height": 69.96875,
        "deepnote_cell_type": "markdown",
        "tags": []
      },
      "source": "## 3.0: Model Variation"
    },
    {
      "cell_type": "markdown",
      "metadata": {
        "cell_id": "00022-2be59903-8a8b-4908-b68c-abe061939af0",
        "deepnote_cell_height": 111.34375,
        "deepnote_cell_type": "markdown",
        "tags": []
      },
      "source": "**3.1:** What is the best fitting model for your hypothesis? Answer this question by updating the GLM notation in this cell.\n\n$Income = b_0 + b_1X_i + e_i$"
    },
    {
      "cell_type": "code",
      "execution_count": null,
      "metadata": {
        "cell_id": "00023-182137db-c4d4-4579-aa34-2d7fea38fcd0",
        "deepnote_cell_height": 264.375,
        "deepnote_cell_type": "code",
        "deepnote_output_heights": [
          136.421875
        ],
        "deepnote_to_be_reexecuted": false,
        "execution_millis": 2,
        "execution_start": 1649986287688,
        "source_hash": "cad4dc2e",
        "tags": [],
        "trusted": true
      },
      "outputs": [],
      "source": "# no outlier version\nlm(Income ~ Views, data = YouTubers_no_outlier)\n# For every additional view, we add $0.18 to the predicted annual income."
    },
    {
      "cell_type": "markdown",
      "metadata": {
        "cell_id": "00029-407db680-3254-40e3-b6fe-13fb3aac4d43",
        "deepnote_cell_height": 140.9375,
        "deepnote_cell_type": "markdown",
        "tags": []
      },
      "source": "<div class=\"alert alert-block alert-warning\">\n\n**Sample Response**\n\n$Income = 34407.91 + 0.18(Views_i) + e_i$\n    \n</div>"
    },
    {
      "cell_type": "markdown",
      "metadata": {
        "cell_id": "00024-6bc4d8bd-063f-48a6-967f-26134c48106e",
        "deepnote_cell_height": 74.75,
        "deepnote_cell_type": "markdown",
        "tags": []
      },
      "source": "**3.2:** How much error did we reduce by adding an explanatory variable to our model? (e.g., in our example, `Views`)"
    },
    {
      "cell_type": "code",
      "execution_count": null,
      "metadata": {
        "cell_id": "00025-2ba905fd-275d-4caa-88c3-f0bdb5ac18dd",
        "deepnote_cell_height": 495,
        "deepnote_cell_type": "code",
        "deepnote_output_heights": [
          290.0625
        ],
        "deepnote_to_be_reexecuted": false,
        "execution_millis": 51,
        "execution_start": 1649986287689,
        "output_cleared": false,
        "source_hash": "d0b4333d",
        "tags": [],
        "trusted": true
      },
      "outputs": [],
      "source": "# students could answer this with PRE (proportion reduction) \n# or F (reduction compared to a random parameter we could have added to our model) \n# or SS Model (reduction in sum of squared dollars)\n# all of these can be found in the ANOVA table\n\nmodel <- lm(Income ~ Views, data = YouTubers_no_outlier)\nsupernova(model)"
    },
    {
      "cell_type": "markdown",
      "metadata": {
        "cell_id": "00031-66521816-271c-4a88-8d75-2f71bd00a561",
        "deepnote_cell_height": 140.71875,
        "deepnote_cell_type": "markdown",
        "tags": []
      },
      "source": "<div class=\"alert alert-block alert-warning\">\n\n**Sample Response**\n\n`Views` explains about 36% of the variation in `Income` according to the PRE.\n    \n</div>"
    },
    {
      "cell_type": "markdown",
      "metadata": {
        "cell_id": "00029-73dca898-0d43-43c0-b635-11fb023a4ddd",
        "deepnote_cell_height": 115.9375,
        "deepnote_cell_type": "markdown",
        "tags": []
      },
      "source": "<div class=\"alert alert-block alert-success\">\n\n### 4.0 - Approximate Time: 15-18 mins\n    \n</div>"
    },
    {
      "cell_type": "markdown",
      "metadata": {
        "cell_id": "00026-51509046-6e48-4eb2-bf99-98ac8910760e",
        "deepnote_cell_height": 69.96875,
        "deepnote_cell_type": "markdown",
        "tags": []
      },
      "source": "## 4.0: Could there be no effect in the true DGP?"
    },
    {
      "cell_type": "markdown",
      "metadata": {
        "cell_id": "00027-190184f3-b22f-4065-a605-9724d7e35786",
        "deepnote_cell_height": 215.328125,
        "deepnote_cell_type": "markdown",
        "tags": []
      },
      "source": "Adding our explanatory variable (e.g., gender, verified, subscribers, etc.) reduces error by some amount. But that doesn't mean this more complex model is the right model of the DGP.\n\nEven a DGP where the $\\beta_1=0$ (the empty model) **could** produce samples of data with non-zero $b_1$s and explain some error! But we can use `shuffle()` to simulate a DGP where $\\beta_1=0$ and take a look at what kind of samples get generated.\n\nToday we'll look at $b_1$s and Fs generated from the empty model. (Even numbered groups: go to 4.1; Odd numbered groups: go to 4.2)"
    },
    {
      "cell_type": "markdown",
      "metadata": {
        "cell_id": "00028-7ac7f930-3100-4ff4-a19c-e590b4a4bb29",
        "deepnote_cell_height": 57.46875,
        "deepnote_cell_type": "markdown",
        "tags": []
      },
      "source": "#### 4.1: Explore shuffled $b_1$s"
    },
    {
      "cell_type": "markdown",
      "metadata": {
        "cell_id": "00029-0969139d-a531-4368-8fb8-001deb5efb37",
        "deepnote_cell_height": 120.34375,
        "deepnote_cell_type": "markdown",
        "tags": []
      },
      "source": "- Is our sample $b_1$ an \"unlikely\" sample from `shuffle()`?\n- What do you think our p-value will be?\n- What do we think about the empty model of the DGP?"
    },
    {
      "cell_type": "markdown",
      "metadata": {
        "cell_id": "00034-0ce815fd-7f76-4d42-a2e3-dae102644fab",
        "deepnote_cell_height": 325.6875,
        "deepnote_cell_type": "markdown",
        "tags": []
      },
      "source": "<div class=\"alert alert-block alert-warning\">\n\n**Sample Response**\n\n- Our sample is \"unlikely\"; p-value should be less than 5% since the point for the sample b1 is in the tails; thus our sample was possibly not generated by the empty model.\n\n**Note for Instructors** \n\nThe sampling distribution of $b_1$ is typically modeled mathematically with a normal distribution (the t-distribution) but this sampling distributions is a wee bit skewed! This is actually a good reason WHY simulation-based methods like randomization are emphasized in modern data science -- sometimes the mathematical models aren't very good models. (The sampling distribution looks real crazy if you leave the outlier in!)\n    \n</div>"
    },
    {
      "cell_type": "code",
      "execution_count": null,
      "metadata": {
        "cell_id": "00030-3cff7430-21e7-4dde-8eb1-5f98254b09ea",
        "deepnote_cell_height": 776.546875,
        "deepnote_cell_type": "code",
        "deepnote_output_heights": [
          59.59375,
          445.015625
        ],
        "deepnote_to_be_reexecuted": false,
        "execution_millis": 1101,
        "execution_start": 1649986287736,
        "output_cleared": false,
        "owner_user_id": "65abe037-acab-4951-bbc9-907a4ef12e8f",
        "source_hash": "4587856c",
        "tags": [],
        "trusted": true
      },
      "outputs": [],
      "source": "# Complete Version\n\nsample_b1 <- b1(Income ~ Views, data = YouTubers_no_outlier)\nsdob1 <- do(1000) * b1(shuffle(Income) ~ Views, data = YouTubers_no_outlier)\n\ngf_histogram(~ b1, data = sdob1, fill = ~middle(b1, .95), bins = 50, show.legend = FALSE) %>%\ngf_point(0 ~ sample_b1, color = \"black\", show.legend = FALSE)\n\ntally(~ (b1 > sample_b1 | b1 < -sample_b1), data = sdob1)"
    },
    {
      "cell_type": "markdown",
      "metadata": {
        "cell_id": "00031-ae0056ea-7c3d-46af-9025-be6b54eaf524",
        "deepnote_cell_height": 57.46875,
        "deepnote_cell_type": "markdown",
        "tags": []
      },
      "source": "#### 4.2: Explore shuffled $F$s"
    },
    {
      "cell_type": "markdown",
      "metadata": {
        "cell_id": "00032-a14645a1-044c-4d5e-b010-795f6c1c6929",
        "deepnote_cell_height": 120.140625,
        "deepnote_cell_type": "markdown",
        "tags": []
      },
      "source": "- Is our sample F an \"unlikely\" sample from `shuffle()`?\n- What do you think our p-value will be?\n- What do we think about the empty model of the DGP?"
    },
    {
      "cell_type": "code",
      "execution_count": null,
      "metadata": {
        "cell_id": "00033-d395c5f9-ca63-4121-a600-5c1a285abf5b",
        "deepnote_cell_height": 771.546875,
        "deepnote_cell_type": "code",
        "deepnote_output_heights": [
          59.59375,
          445.015625
        ],
        "deepnote_to_be_reexecuted": false,
        "execution_millis": 1626,
        "execution_start": 1649986288843,
        "output_cleared": false,
        "source_hash": "69fee8e7",
        "tags": [],
        "trusted": true
      },
      "outputs": [],
      "source": "# Complete Version\n\nsample_F <- fVal(Income ~ Views, data = YouTubers_no_outlier)\nsdoF <- do(1000) * fVal(shuffle(Income) ~ Views, data = YouTubers_no_outlier)\n\ngf_histogram(~ fVal, data = sdoF, fill = ~lower(fVal, .95), bins = 50) %>%\ngf_point(0 ~ sample_F, color = \"black\")\n\ntally(~ fVal>sample_F, data = sdoF, format = \"proportion\")"
    },
    {
      "cell_type": "markdown",
      "metadata": {
        "cell_id": "13546550-5bdf-4a98-9824-90566788e398",
        "deepnote_cell_height": 163.125,
        "deepnote_cell_type": "markdown",
        "tags": []
      },
      "source": "<div class=\"alert alert-block alert-warning\">\n\n**Sample Response**\n\n- Our sample is \"unlikely\"; p-value should be less than 5% since the point for our sample F is in the tail; thus our sample was possibly not generated by the empty model.\n\n    \n</div>"
    },
    {
      "cell_type": "markdown",
      "metadata": {
        "cell_id": "00034-b0bb3c62-1e0b-4897-8b65-b2d0a85906e5",
        "deepnote_cell_height": 53.96875,
        "deepnote_cell_type": "markdown",
        "tags": []
      },
      "source": "#### 4.3: What does the ANOVA table say?"
    },
    {
      "cell_type": "markdown",
      "metadata": {
        "cell_id": "00035-4ae618e3-1b0a-4e4f-93b6-840dd0b191c1",
        "deepnote_cell_height": 198.515625,
        "deepnote_cell_type": "markdown",
        "tags": []
      },
      "source": "The ANOVA table does not use simulation (you'll learn about the mathematical models it uses in pg. 10.4). \n\n- According to the ANOVA table, what is the probability of getting a $b_1$ or F more extreme than our sample from the empty model of the DGP (the p-value)?\n- Is this an \"unlikely\" sample to be generated from the empty model of the DGP? \n- So what do we think about the empty model of the DGP?"
    },
    {
      "cell_type": "code",
      "execution_count": null,
      "metadata": {
        "cell_id": "00036-79ab17d0-1160-40e5-913c-7581347b7925",
        "deepnote_cell_height": 418.015625,
        "deepnote_cell_type": "code",
        "deepnote_output_heights": [
          290.0625
        ],
        "deepnote_to_be_reexecuted": false,
        "execution_millis": 23,
        "execution_start": 1649986290475,
        "source_hash": "1e2241e1",
        "tags": [],
        "trusted": true
      },
      "outputs": [],
      "source": "# Complete Version\nmodel <- lm(Income ~ Views, data = YouTubers_no_outlier)\nsupernova(model)"
    },
    {
      "cell_type": "markdown",
      "metadata": {
        "cell_id": "00039-77a2c46f-0918-475f-ab20-85f7a33c67cb",
        "deepnote_cell_height": 208.109375,
        "deepnote_cell_type": "markdown",
        "tags": []
      },
      "source": "<div class=\"alert alert-block alert-warning\">\n\n**Sample Response**\n\nThe probability of getting a $b_1$ or $F$ equal to or more extreme than our sample from the empty model of the DGP (i.e., the p-value) is .0002. This is an unlikely sample to be generated from the empty model. This means we may opt to rule it out as the true model of the DGP, in favor of our explanatory model.\n    \n</div>"
    },
    {
      "cell_type": "markdown",
      "metadata": {
        "cell_id": "00037-8717311d-2f88-4004-93d8-81ac550d2c05",
        "deepnote_cell_height": 147.34375,
        "deepnote_cell_type": "markdown",
        "tags": []
      },
      "source": "#### 4.5: What's in common?\n\nAcross all these approaches (the sampling distribution of F and $b_1$; using `shuffle()` or the ANOVA table), what do they say about the empty model of the DGP?\n\nWhat does this mean for your hypothesis?"
    },
    {
      "cell_type": "markdown",
      "metadata": {
        "cell_id": "00048-0d1b3ee1-e914-4216-9756-563b1a453aa6",
        "deepnote_cell_height": 244.296875,
        "deepnote_cell_type": "markdown",
        "tags": []
      },
      "source": "<div class=\"alert alert-block alert-warning\">\n\n**Sample Response**\n\nThey are all ways of showing us the distribution of samples we would expect if the empty model were true (i.e., the DGP is a random one), and how likely we are to observe a sample like our data.\n\nIf the probability is low, it means our hypothesis may be correct (e.g., views really does explain income).\n    \n</div>"
    },
    {
      "cell_type": "markdown",
      "metadata": {
        "cell_id": "00037-82fc3610-8d07-4586-8ccf-65519893355a",
        "deepnote_cell_height": 115.9375,
        "deepnote_cell_type": "markdown",
        "tags": []
      },
      "source": "<div class=\"alert alert-block alert-success\">\n\n### 5.0 - Approximate Time: 5-8 mins\n    \n</div>"
    },
    {
      "cell_type": "markdown",
      "metadata": {
        "cell_id": "00038-ade580d2-e4ee-4a5d-a2a4-f14cfdb5ae74",
        "deepnote_cell_height": 69.96875,
        "deepnote_cell_type": "markdown",
        "tags": []
      },
      "source": "## 5.0: Generalizing These Results"
    },
    {
      "cell_type": "markdown",
      "metadata": {
        "cell_id": "00039-fb3aab8c-6dd7-403f-9481-3fdb7c66b281",
        "deepnote_cell_height": 52.359375,
        "deepnote_cell_type": "markdown",
        "tags": []
      },
      "source": "**5.1:** Do you think your conclusion is true for most YouTubers? Why or why not?"
    },
    {
      "cell_type": "markdown",
      "metadata": {
        "cell_id": "00050-864bbce7-c011-4867-af65-afc22b9ce035",
        "deepnote_cell_height": 163.125,
        "deepnote_cell_type": "markdown",
        "tags": []
      },
      "source": "<div class=\"alert alert-block alert-warning\">\n\n**Sample Response**\n\n*Answers will vary based on the hypothesis they pursued, but they should reference the measurement error involved in this sample, making it difficult to generalize to all YouTubers.* \n    \n</div>"
    },
    {
      "cell_type": "markdown",
      "metadata": {
        "cell_id": "00040-b6678a0c-0b31-4c0c-b269-50e1098b3317",
        "deepnote_cell_height": 74.75,
        "deepnote_cell_type": "markdown",
        "tags": []
      },
      "source": "**5.2:** Based on our class' analyses today, would you have any advice for people who want to become content creators/influencers? "
    },
    {
      "cell_type": "markdown",
      "metadata": {
        "cell_id": "00052-dbf1415d-ffe4-4094-81a7-2f20bf266880",
        "deepnote_cell_height": 140.71875,
        "deepnote_cell_type": "markdown",
        "tags": []
      },
      "source": "<div class=\"alert alert-block alert-warning\">\n\n**Sample Response**\n\n*Answers will vary.*\n    \n</div>"
    }
  ],
  "metadata": {
    "deepnote": {
      "is_reactive": false
    },
    "deepnote_execution_queue": [],
    "deepnote_notebook_id": "30642b4d-76f0-4136-aa82-b073a47559e3",
    "kernelspec": {
      "display_name": "R",
      "language": "R",
      "name": "ir"
    },
    "language_info": {
      "codemirror_mode": "r",
      "file_extension": ".r",
      "mimetype": "text/x-r-source",
      "name": "R",
      "pygments_lexer": "r",
      "version": "4.0.3"
    },
    "nbsimplegrader": {
      "publish_config": {
        "classes": [],
        "options": {},
        "tools": []
      }
    }
  },
  "nbformat": 4,
  "nbformat_minor": 2
}