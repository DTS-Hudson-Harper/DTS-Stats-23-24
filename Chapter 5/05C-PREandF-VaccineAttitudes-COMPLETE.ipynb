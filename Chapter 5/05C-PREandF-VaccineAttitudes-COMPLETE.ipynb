{
  "cells": [
    {
      "cell_type": "markdown",
      "metadata": {
        "cell_id": "0a60ee00-0d8b-42f4-a730-0b9b031a6514",
        "deepnote_cell_height": 160.328125,
        "deepnote_cell_type": "markdown",
        "tags": []
      },
      "source": "<div class=\"alert alert-block alert-danger\">\n\n## 5C: Vaccine Attitudes (COMPLETE)\n\n**Lesson assumes students have read up through page: 5.8**\n    \n</div>"
    },
    {
      "cell_type": "markdown",
      "metadata": {
        "cell_id": "b040ea4b-2c65-4f42-98f9-ca7846e4ccdd",
        "deepnote_cell_height": 163.9375,
        "deepnote_cell_type": "markdown",
        "tags": []
      },
      "source": "<div class=\"alert alert-block alert-success\">\n\n## Approximate time to complete Notebook: 45-60 Mins\n    \n</div>"
    },
    {
      "cell_type": "code",
      "execution_count": null,
      "metadata": {
        "cell_id": "00001-f80d3610-c4ac-4953-ac28-65505bafec88",
        "deepnote_cell_height": 422.96875,
        "deepnote_cell_type": "code",
        "deepnote_to_be_reexecuted": false,
        "execution_millis": 3484,
        "execution_start": 1644878676087,
        "nbsimplegrader": {
          "config_key": "code.run-only",
          "editable": false,
          "label": "Code: Run-Only",
          "respondable": false,
          "response": null,
          "runnable": true,
          "type": "code"
        },
        "output_cleared": true,
        "source_hash": "4b53d84b",
        "trusted": true
      },
      "outputs": [],
      "source": "# Run this cell to load the packages and data you will need\n\n# Load the CourseKata library\nsuppressPackageStartupMessages({\n    library(coursekata)\n})\n\n# This fixes font sizes on graphs\ntheme_set(theme(\n  text = element_text(size = 12),\n  axis.text = element_text(size = 9)\n))\n\nvaccines <- data.frame(\n  subject_id = 1:341,\n  intervention = structure(c(3L, 1L, 1L, 3L, 1L, 2L, 1L, 3L, 1L, 2L, 2L, 1L, 3L, 1L, 3L, 1L, 2L, 3L, 3L, 3L, 2L, 1L, 1L, 3L, 1L, 3L, 2L, 1L, 2L, 1L, 1L, 2L, 1L, 2L, 1L, 1L, 2L, 1L, 2L, 2L, 1L, 3L, 3L, 2L, 1L, 2L, 1L, 3L, 2L, 1L, 2L, 2L, 2L, 2L, 3L, 1L, 2L, 1L, 1L, 1L, 3L, 2L, 1L, 3L, 2L, 2L, 1L, 2L, 3L, 3L, 2L, 3L, 1L, 3L, 1L, 2L, 3L, 2L, 3L, 2L, 3L, 1L, 1L, 2L, 2L, 2L, 1L, 1L, 3L, 1L, 1L, 2L, 1L, 1L, 1L, 2L, 1L, 2L, 2L, 2L, 3L, 1L, 1L, 3L, 1L, 2L, 1L, 1L, 3L, 1L, 2L, 1L, 2L, 2L, 2L, 2L, 3L, 2L, 2L, 1L, 1L, 3L, 3L, 2L, 2L, 1L, 3L, 1L, 3L, 1L, 3L, 3L, 2L, 3L, 1L, 3L, 3L, 3L, 1L, 1L, 3L, 2L, 2L, 2L, 2L, 3L, 1L, 3L, 2L, 1L, 1L, 1L, 2L, 1L, 3L, 3L, 3L, 1L, 1L, 2L, 3L, 3L, 3L, 2L, 2L, 2L, 1L, 2L, 3L, 3L, 2L, 3L, 2L, 1L, 1L, 2L, 1L, 2L, 3L, 1L, 2L, 1L, 1L, 1L, 2L, 2L, 2L, 2L, 2L, 2L, 2L, 3L, 3L, 3L, 1L, 3L, 3L, 2L, 3L, 2L, 3L, 2L, 1L, 2L, 1L, 3L, 3L, 3L, 3L, 1L, 2L, 3L, 3L, 2L, 2L, 2L, 3L, 3L, 3L, 1L, 2L, 3L, 3L, 3L, 1L, 1L, 2L, 2L, 1L, 3L, 3L, 1L, 3L, 3L, 2L, 3L, 3L, 2L, 1L, 2L, 1L, 2L, 3L, 3L, 1L, 2L, 2L, 2L, 3L, 1L, 3L, 1L, 2L, 3L, 3L, 3L, 3L, 1L, 2L, 2L, 1L, 1L, 3L, 2L, 2L, 3L, 1L, 2L, 1L, 3L, 1L, 2L, 1L, 3L, 2L, 3L, 3L, 3L, 3L, 3L, 1L, 3L, 2L, 3L, 1L, 1L, 1L, 1L, 3L, 3L, 1L, 1L, 3L, 1L, 1L, 3L, 2L, 2L, 1L, 1L, 2L, 3L, 3L, 1L, 3L, 1L, 1L, 1L, 3L, 2L, 3L, 1L, 3L, 1L, 2L, 3L, 1L, 2L, 3L, 2L, 3L, 1L, 2L, 2L, 3L, 3L, 3L, 2L, 2L, 3L, 1L, 2L, 2L, 2L, 3L, 1L, 2L, 3L, 3L, 3L, 3L), .Label = c(\"Control\", \"Illustrate Risks\", \"Read Sci Research\"), class = \"factor\"),\n  attitudes_pre = c(6, 6, 6, 4.3, 5.2, 6, 4.2, 6, 4.3, 6, 5.2, 4.3, 6, 6, 3.3, 3.2, 4.1, 6, 5.2, 5.1, 5.2, 6, 4.2, 5.3, 5.3, 3.1, 3.1, 3.3, 1.3, 3.2, 5.3, 2.2, 4.1, 2.1, 5.2, 5.2, 5.1, 2.3, 3.1, 4.3, 5.2, 4.3, 2.3, 5.1, 6, 5.3, 5.1, 5.3, 3.3, 6, 5.1, 5.2, 4.3, 4.1, 5.3, 5.3, 6, 3.1, 5.3, 4.2, 1.2, 4.3, 5.1, 4.3, 5.1, 5.3, 1.2, 3.3, 6, 6, 4.3, 6, 6, 5.1, 2.1, 5.2, 6, 2.3, 4.3, 6, 6, 4.2, 5.3, 5.1, 6, 6, 2.3, 5.1, 6, 5.1, 5.2, 1.2, 5.2, 5.2, 5.2, 6, 2.1, 5.2, 3.3, 1.2, 5.1, 4.1, 5.3, 5.1, 5.2, 5.1, 5.3, 6, 3.2, 5.1, 5.2, 5.1, 2.2, 5.3, 6, 6, 4.3, 5.3, 5.2, 5.2, 6, 5.1, 5.2, 5.2, 5.2, 4.3, 5.2, 3.2, 5.3, 1.2, 6, 3.2, 6, 2.1, 4.3, 3.3, 6, 6, 6, 5.3, 6, 3.3, 4.3, 5.2, 6, 5.3, 6, 4.2, 5.3, 6, 5.2, 5.3, 5.2, 6, 3.2, 6, 4.3, 1.3, 5.1, 5.2, 5.3, 6, 5.3, 5.2, 4.2, 3.2, 5.2, 3.3, 6, 5.2, 5.2, 6, 4.1, 6, 2.1, 5.2, 3.2, 5.3, 5.1, 5.1, 5.2, 3.1, 4.3, 6, 5.3, 5.3, 2.2, 4.3, 6, 5.3, 4.3, 5.2, 2.1, 5.3, 4.1, 4.3, 5.2, 6, 6, 5.3, 5.2, 6, 3.3, 4.2, 5.3, 6, 5.3, 6, 2.1, 6, 2.1, 5.3, 6, 6, 6, 6, 6, 1.2, 6, 6, 4.1, 4.2, 4.1, 4.2, 2.1, 1.2, 3.3, 4.3, 4.3, 5.3, 6, 6, 4.1, 5.2, 5.2, 5.1, 6, 5.2, 5.2, 5.1, 6, 5.1, 4.3, 5.1, 6, 5.3, 5.1, 4.1, 5.1, 4.3, 6, 6, 4.2, 4.2, 5.3, 4.3, 5.3, 3.3, 6, 4.3, 5.3, 5.1, 4.3, 6, 5.3, 5.2, 1.3, 5.2, 5.2, 3.2, 4.3, 5.3, 5.2, 5.2, 6, 5.3, 4.2, 5.1, 6, 4.3, 6, 2.1, 6, 6, 5.3, 6, 5.3, 6, 3.1, 2.2, 5.2, 5.2, 4.2, 4.2, 6, 4.1, 5.3, 3.3, 3.3, 5.2, 3.3, 6, 3.2, 6, 5.1, 4.3, 6, 5.2, 4.3, 5.3, 5.3, 5.1, 5.2, 6, 2.1, 4.3, 6, 1.2, 5.2, 4.3, 3.3, 5.2, 2.2, 5.3, 6, 6, 2.2, 5.3, 4.3, 6, 6, 6, 4.2, 3.3, 6, 1.3, 4.1, 5.2, 6, 5.2, 4.1),\n  attitudes_post = c(6, 6, 6, 4.1, 4.2, 5.1, 3.2, 6, 6, 6, 6, 5.2, 6, 6, 3.3, 5.2, 5.2, 6, 6, 3.3, 6, 6, 4.3, 5.2, 4.3, 2.1, 6, 2.2, 2.2, 2.2, 5.3, 3.3, 5.2, 4.3, 5.3, 5.1, 6, 2.3, 5.2, 4.3, 6, 4.3, 5.3, 6, 6, 5.3, 6, 5.3, 5.3, 6, 6, 5.3, 5.3, 5.1, 5.3, 6, 6, 2.1, 5.2, 4.2, 2.1, 5.3, 5.2, 5.1, 6, 6, 1.2, 5.3, 6, 6, 6, 6, 5.3, 5.2, 4.3, 6, 5.2, 5.1, 5.3, 6, 6, 5.2, 3.3, 5.3, 6, 6, 4.2, 5.2, 5.2, 5.1, 6, 1.3, 4.1, 4.3, 6, 6, 1.2, 6, 4.2, 3.1, 5.3, 3.3, 6, 5.2, 4.2, 4.2, 4.3, 6, 4.2, 5.3, 6, 5.3, 5.2, 6, 6, 6, 4.3, 5.1, 5.2, 5.3, 6, 4.1, 5.3, 6, 6, 3.3, 5.3, 5.1, 4.2, 1.2, 6, 3.2, 6, 2.2, 4.2, 4.3, 5.3, 6, 6, 4.3, 6, 4.3, 5.3, 5.3, 6, 6, 6, 5.2, 6, 6, 6, 5.3, 6, 6, 4.3, 6, 4.1, 2.2, 6, 5.2, 4.2, 6, 5.2, 5.3, 6, 4.1, 5.1, 5.2, 6, 5.1, 6, 6, 5.1, 6, 1.3, 6, 4.3, 6, 5.2, 5.2, 6, 3.3, 5.3, 6, 6, 6, 2.3, 6, 6, 5.3, 6, 6, 2.1, 5.3, 4.3, 5.1, 6, 6, 6, 6, 5.3, 6, 4.1, 5.3, 6, 6, 5.3, 6, 4.2, 6, 4.3, 3.2, 6, 6, 6, 6, 6, 2.2, 6, 6, 5.2, 5.1, 4.3, 5.1, 1.2, 2.3, 4.3, 6, 4.3, 5.3, 6, 5.3, 4.3, 5.2, 5.3, 3.2, 6, 6, 4.2, 6, 6, 5.2, 5.3, 5.3, 5.3, 6, 5.3, 4.2, 4.3, 2.3, 6, 6, 5.3, 5.3, 5.2, 5.2, 6, 5.1, 6, 6, 5.1, 6, 6, 6, 6, 5.2, 2.2, 6, 4.2, 4.1, 5.1, 5.3, 6, 5.2, 6, 5.2, 6, 5.3, 6, 4.1, 6, 5.2, 6, 5.2, 5.1, 6, 5.3, 6, 3.3, 3.1, 5.3, 6, 5.1, 5.1, 6, 5.3, 6, 5.3, 5.2, 4.1, 6, 6, 3.3, 6, 5.3, 3.3, 5.3, 6, 5.2, 6, 6, 5.2, 5.2, 6, 3.2, 4.3, 6, 3.2, 5.3, 5.2, 4.2, 4.3, 4.2, 6, 6, 5.2, 4.1, 6, 4.2, 6, 5.3, 6, 5.3, 4.2, 6, 3.3, 6, 6, 6, 6, 3.3),\n  cause_autism = c(1L, 4L, 1L, 7L, 5L, 1L, 7L, 3L, 4L, 1L, 3L, 9L, 1L, 1L, 3L, 9L, 8L, 1L, 3L, 3L, 4L, 1L, 4L, 3L, 4L, 5L, 9L, 5L, 8L, 8L, 1L, 5L, 2L, 5L, 2L, 1L, 4L, 4L, 7L, 2L, 1L, 7L, 8L, 3L, 1L, 5L, 3L, 2L, 6L, 1L, 7L, 2L, 5L, 4L, 1L, 5L, 1L, 5L, 3L, 6L, 8L, 2L, 3L, 3L, 8L, 4L, 9L, 4L, 2L, 2L, 8L, 2L, 4L, 1L, 8L, 2L, 1L, 5L, 4L, 1L, 1L, 10L, 1L, 7L, 2L, 1L, 4L, 3L, 1L, 6L, 2L, 10L, 4L, 3L, 4L, 2L, 7L, 6L, 7L, 10L, 4L, 4L, 2L, 5L, 3L, 2L, 1L, 2L, 2L, 7L, 3L, 2L, 8L, 1L, 3L, 1L, 6L, 2L, 1L, 1L, 1L, 2L, 6L, 1L, 7L, 7L, 3L, 4L, 2L, 10L, 1L, 7L, 1L, 9L, 3L, 1L, 1L, 3L, 1L, 1L, 2L, 5L, 3L, 5L, 1L, 1L, 1L, 5L, 1L, 1L, 9L, 2L, 3L, 1L, 5L, 1L, 1L, 5L, 4L, 2L, 1L, 1L, 3L, 2L, 4L, 9L, 2L, 4L, 1L, 5L, 4L, 1L, 6L, 1L, 5L, 4L, 6L, 2L, 4L, 7L, 2L, 3L, 4L, 1L, 3L, 1L, 7L, 2L, 2L, 2L, 3L, 1L, 9L, 1L, 9L, 4L, 7L, 3L, 1L, 1L, 2L, 3L, 5L, 6L, 1L, 1L, 3L, 1L, 4L, 2L, 5L, 6L, 1L, 1L, 2L, 1L, 1L, 10L, 1L, 1L, 6L, 4L, 3L, 7L, 10L, 8L, 2L, 1L, 5L, 1L, 1L, 1L, 4L, 2L, 7L, 8L, 3L, 1L, 8L, 4L, 3L, 2L, 5L, 2L, 3L, 3L, 1L, 2L, 5L, 5L, 2L, 1L, 6L, 3L, 6L, 7L, 7L, 4L, 3L, 2L, 7L, 2L, 5L, 1L, 1L, 7L, 10L, 3L, 6L, 8L, 4L, 2L, 2L, 8L, 1L, 1L, 5L, 5L, 1L, 1L, 5L, 9L, 1L, 1L, 1L, 2L, 2L, 1L, 7L, 10L, 2L, 3L, 1L, 3L, 1L, 4L, 3L, 8L, 3L, 7L, 7L, 1L, 4L, 4L, 4L, 3L, 1L, 2L, 3L, 1L, 5L, 3L, 3L, 1L, 6L, 8L, 1L, 10L, 2L, 4L, 4L, 3L, 10L, 1L, 1L, 3L, 5L, 1L, 1L, 4L, 1L, 2L, 4L, 5L, 1L, 9L, 9L, 3L, 4L, 2L, 3L)\n)"
    },
    {
      "cell_type": "markdown",
      "metadata": {
        "cell_id": "509c3434-debb-46b0-8758-ed26a757372d",
        "deepnote_cell_height": 115.9375,
        "deepnote_cell_type": "markdown",
        "tags": []
      },
      "source": "<div class=\"alert alert-block alert-success\">\n\n### 1.0 - Approximate Time: 8-10 mins\n    \n</div>"
    },
    {
      "cell_type": "markdown",
      "metadata": {
        "cell_id": "00002-019ac16a-b440-463e-aefc-1498a1a5d029",
        "deepnote_cell_height": 386.484375,
        "deepnote_cell_type": "markdown",
        "tags": []
      },
      "source": "## Illustrate Risks or Address Fears to Change Minds?\n\nData has shown two dangerous, linked trends:\n\n- There are 3x as many cases of measles in the United States in 2014 as in 2013\n- There is an uptick in parents refusing vaccinations (such as the measles vaccine) for their children\n\nHow might we try to address this? One group of researchers decided to try out two different methods of changing people's minds about vaccines. \n\n*Citation:*\n\nHorne, Z., Powell, D., Hummel, J. E., & Holyoak, K. J. (2015). Countering antivaccination attitudes. *Proceedings of the National Academy of Sciences*, *112*(33), 10321–10324. https://doi.org/10.1073/pnas.1504019112\n"
    },
    {
      "cell_type": "markdown",
      "metadata": {
        "cell_id": "00003-ad301a35-a87b-49a9-9196-7a897171b044",
        "deepnote_cell_height": 461.453125,
        "deepnote_cell_type": "markdown",
        "nbsimplegrader": {
          "config_key": "markdown.view-only",
          "editable": false,
          "label": "Markdown: View-Only",
          "respondable": false,
          "response": null,
          "runnable": false,
          "type": "markdown"
        }
      },
      "source": "## The Study\n\nResearchers conducted a two day study online with participants from across the US. \n\nOn the first day, participants completed a survey designed to capture their attitudes toward vaccines. To make the purpose of the study less obvious, other questions about moral issues (e.g., euthanasia, abortion, etc) were included. \n\nOn the second day, participants were randomly assigned to one of three methods of educating people about vaccines:\n\n  - **Control** group: read an unrelated vignette about a scientific topic. \n  - **Illustrate Risks** intervention: participants read a paragraph written by a mother about her child contracting measles; saw vivid pictures of a child with measles, a child with mumps, and an infant with rubella and read three short warnings about how important it is for people to vaccinate their children. \n  - **Read Scientific Research** intervention: participants read information summarizing recent research showing that vaccines do not increase the risk of autism in children.\n\nThen all participants filled out the same survey again."
    },
    {
      "cell_type": "markdown",
      "metadata": {
        "cell_id": "00004-ada2f333-c832-46d4-8351-69cb9c6e410c",
        "deepnote_cell_height": 437.734375,
        "deepnote_cell_type": "markdown",
        "tags": []
      },
      "source": "Here is a description of the variables you will find in the researchers' `vaccines` data frame.\n\n| Variable       | Description                                                                                                |\n|:---------------|:-----------------------------------------------------------------------------------------------------------|\n| `subject_id`    | Participant’s ID.                                                                                      |\n| `intervention` | *Control Group*, *Illustrate Risks*, or *Read Scientific Research*                                         |\n| `attitudes_pre` | Participant’s score on the vaccine attitudes scale (higher means more positive) before the intervention.   |\n| `attitudes_post`| Participant’s score on the vaccine attitudes scale after the intervention.                             |\n| `causeautism`  | The participant’s opinion of whether vaccines cause autism (1 = strongly disagree to 10 = strongly agree) on the presurvey. |\n\n<img src=\"https://i.postimg.cc/r8HtkzZJ/image.png\">"
    },
    {
      "cell_type": "markdown",
      "metadata": {
        "cell_id": "00005-00ce0f8b-9a54-4a00-8d36-f836cfcffcac",
        "deepnote_cell_height": 69.96875,
        "deepnote_cell_type": "markdown",
        "nbsimplegrader": {
          "config_key": "markdown.view-only",
          "editable": false,
          "label": "Markdown: View-Only",
          "respondable": false,
          "response": null,
          "runnable": false,
          "type": "markdown"
        }
      },
      "source": "## 1.0 - Explore Variation"
    },
    {
      "cell_type": "markdown",
      "metadata": {
        "cell_id": "00006-23595241-c524-4823-88bb-37172dd87f3d",
        "deepnote_cell_height": 97.140625,
        "deepnote_cell_type": "markdown",
        "nbsimplegrader": {
          "config_key": "markdown.view-only",
          "editable": false,
          "label": "Markdown: View-Only",
          "respondable": false,
          "response": null,
          "runnable": false,
          "type": "markdown"
        }
      },
      "source": "**1.1:** We could use `attitudes_post` as an important outcome variable. We could also create a variable called `attitude_change` representing the change in attitude. Which would be a better variable to use and why?"
    },
    {
      "cell_type": "markdown",
      "metadata": {
        "cell_id": "00010-9fac0fb9-34cf-4002-a4af-81ceed534f36",
        "deepnote_cell_height": 185.515625,
        "deepnote_cell_type": "markdown",
        "tags": []
      },
      "source": "<div class=\"alert alert-block alert-warning\">\n\n**Sample Response**\n\nWe may want to create this new variable to show the relative change for each person. Otherwise, for people who rate high on `attitudes_post` and also rated high on `attitudes_pre`, we can't really say that they rated highly because of the intervention.\n    \n</div>"
    },
    {
      "cell_type": "code",
      "execution_count": null,
      "metadata": {
        "cell_id": "d8614620-5d6f-4089-91d7-4a50fd55ae0f",
        "deepnote_cell_height": 93.953125,
        "deepnote_cell_type": "code",
        "deepnote_to_be_reexecuted": false,
        "execution_millis": 3,
        "execution_start": 1644878679819,
        "output_cleared": true,
        "source_hash": "37c137f6",
        "tags": [],
        "trusted": true
      },
      "outputs": [],
      "source": "# Create new variable `attitude_change`\nvaccines$attitude_change <-(vaccines$attitudes_post - vaccines$attitudes_pre)"
    },
    {
      "cell_type": "markdown",
      "metadata": {
        "cell_id": "00007-8a0f3ec3-67dc-4feb-bb14-0f291a305c41",
        "deepnote_cell_height": 74.75,
        "deepnote_cell_type": "markdown",
        "nbsimplegrader": {
          "config_key": "markdown.view-only",
          "editable": false,
          "label": "Markdown: View-Only",
          "respondable": false,
          "response": null,
          "runnable": false,
          "type": "markdown"
        }
      },
      "source": "**1.2:** Looking at the description of the study, what do you think the researchers' main hypothesis and prediction was? Model their hypothesis with a word equation."
    },
    {
      "cell_type": "markdown",
      "metadata": {
        "cell_id": "49d0b74e-b965-4e82-b102-7772fbc268ed",
        "deepnote_cell_height": 140.71875,
        "deepnote_cell_type": "markdown",
        "tags": []
      },
      "source": "<div class=\"alert alert-block alert-warning\">\n\n**Sample Response**\n    \nattitude_change = intervention + error\n\n</div>"
    },
    {
      "cell_type": "markdown",
      "metadata": {
        "cell_id": "00008-96c62664-c245-4aa8-97e5-00b120370752",
        "deepnote_cell_height": 97.140625,
        "deepnote_cell_type": "markdown",
        "nbsimplegrader": {
          "config_key": "markdown.view-only",
          "editable": false,
          "label": "Markdown: View-Only",
          "respondable": false,
          "response": null,
          "runnable": false,
          "type": "markdown"
        }
      },
      "source": "**1.3:** Explore this model using the sample data. Does it seem like `intervention` explains any of the variation in the outcome? How are the distributions for the three groups similar? How are they different?"
    },
    {
      "cell_type": "code",
      "execution_count": null,
      "metadata": {
        "cell_id": "4624bc78-af4d-4519-836b-678628d2a48b",
        "deepnote_cell_height": 1141.96875,
        "deepnote_cell_type": "code",
        "deepnote_output_heights": [
          444.015625,
          444.015625
        ],
        "deepnote_to_be_reexecuted": false,
        "execution_millis": 2017,
        "execution_start": 1644878679832,
        "output_cleared": false,
        "source_hash": "1d64e302",
        "tags": [],
        "trusted": true
      },
      "outputs": [],
      "source": "# Boxplot\ngf_boxplot(attitude_change ~ intervention, data = vaccines, color = ~intervention) %>%\ngf_jitter(alpha = .5)\n\n# Faceted Histogram\ngf_histogram(~attitude_change, data = vaccines, fill = ~intervention) %>%\ngf_facet_grid(intervention ~ .) %>%\ngf_model(attitude_change~intervention, data = vaccines)"
    },
    {
      "cell_type": "markdown",
      "metadata": {
        "cell_id": "00013-4f27d807-d7b9-4dc0-9e58-d787e8adb87f",
        "deepnote_cell_height": 185.515625,
        "deepnote_cell_type": "markdown",
        "tags": []
      },
      "source": "<div class=\"alert alert-block alert-warning\">\n\n**Sample Response**\n\nThe control group and the read science research group are similarly distributed with similar group means (close to zero). The illustrate risks group appears to be shifted higher in its change in attitude, showing this group had the most positive change in attitude.\n    \n</div>"
    },
    {
      "cell_type": "markdown",
      "metadata": {
        "cell_id": "00009-7c693b96-1147-4eb5-8664-b6622eedd87a",
        "deepnote_cell_height": 52.359375,
        "deepnote_cell_type": "markdown",
        "tags": []
      },
      "source": "**1.4:** Could this pattern of variation be caused by random chance?"
    },
    {
      "cell_type": "markdown",
      "metadata": {
        "cell_id": "00016-cfeb6e54-e862-4c8a-90e8-4479aca1535d",
        "deepnote_cell_height": 140.71875,
        "deepnote_cell_type": "markdown",
        "tags": []
      },
      "source": "<div class=\"alert alert-block alert-warning\">\n\n**Sample Response**\n\nYes, it could.\n    \n</div>"
    },
    {
      "cell_type": "markdown",
      "metadata": {
        "cell_id": "00004-8e739bce-a10b-4aa8-9a82-725ca941089c",
        "deepnote_cell_height": 115.9375,
        "deepnote_cell_type": "markdown",
        "tags": []
      },
      "source": "<div class=\"alert alert-block alert-success\">\n\n### 2.0 - Approximate Time: 8-10 mins\n    \n</div>"
    },
    {
      "cell_type": "markdown",
      "metadata": {
        "cell_id": "00010-a9f773b8-1056-4858-bc2b-bd3e318acdf0",
        "deepnote_cell_height": 69.96875,
        "deepnote_cell_type": "markdown",
        "tags": []
      },
      "source": "## 2.0 - Model Variation"
    },
    {
      "cell_type": "markdown",
      "metadata": {
        "cell_id": "00011-fbcd62ae-aecd-4c32-a5f6-98366cf20629",
        "deepnote_cell_height": 243.53125,
        "deepnote_cell_type": "markdown",
        "tags": []
      },
      "source": "**2.1:** Let's specify the model. Which of these GLM models represents our hypothesis?\nDelete the ones that you don't need. Then find the best fitting estimates for this model and put them into the equation. \n\n$Y_i = b_0 + e_i$\n\n$Y_i = b_0 + b_1X_{1i} + e_i$\n\n$Y_i = b_0 + b_1X_{1i} + b_2X_{2i} + e_i$\n\n$Y_i = b_0 + b_1X_{1i} + b_2X_{2i} + b_3X_{3i} + e_i$"
    },
    {
      "cell_type": "code",
      "execution_count": null,
      "metadata": {
        "cell_id": "00012-fa60f3c4-4e3f-4fec-9ca6-e4c4d1b450aa",
        "deepnote_cell_height": 338.78125,
        "deepnote_cell_type": "code",
        "deepnote_output_heights": [
          173.828125
        ],
        "deepnote_to_be_reexecuted": false,
        "execution_millis": 68,
        "execution_start": 1644878681783,
        "output_cleared": false,
        "source_hash": "2038ece9",
        "tags": [],
        "trusted": true
      },
      "outputs": [],
      "source": "# Complete Version\nvaccines$attitude_change <-(vaccines$attitudes_post - vaccines$attitudes_pre)\nint_model <- lm(attitude_change ~ intervention, data = vaccines)\nint_model\n"
    },
    {
      "cell_type": "markdown",
      "metadata": {
        "cell_id": "eb6364ca-fd2f-4b80-b49a-5e883c76ea12",
        "deepnote_cell_height": 177.53125,
        "deepnote_cell_type": "markdown",
        "tags": []
      },
      "source": "<div class=\"alert alert-block alert-warning\">\n\n**Sample Response**\n\n$Y_i = b_0 + b_1X_{1i} + b_2X_{2i} + e_i$\n\n$attitude\\_change_i = 0.08 + 0.13(ReadSci_{1i}) + 0.69(IllusRisk_{2i}) + e_i$\n    \n</div>"
    },
    {
      "cell_type": "markdown",
      "metadata": {
        "cell_id": "00013-3886c26f-5781-4cc5-badc-ed4e09c32f01",
        "deepnote_cell_height": 52.359375,
        "deepnote_cell_type": "markdown",
        "nbsimplegrader": {
          "config_key": "markdown.view-only",
          "editable": false,
          "label": "Markdown: View-Only",
          "respondable": false,
          "response": null,
          "runnable": false,
          "type": "markdown"
        }
      },
      "source": "**2.2:** Interpret the model coefficients, and also identify them in your graph."
    },
    {
      "cell_type": "markdown",
      "metadata": {
        "cell_id": "00023-03c701b2-645a-46b5-a46f-993a508e4ce9",
        "deepnote_cell_height": 185.921875,
        "deepnote_cell_type": "markdown",
        "tags": []
      },
      "source": "<div class=\"alert alert-block alert-warning\">\n\n**Sample Response**\n\nThe $b_0$ is the average change in attitude for the control group; $b_1$ is the amount we add to $b_0$ to get the mean change for the read science article group; and $b_2$ is the amount we add to $b_0$ to get the mean change for the illustrate risk group.\n    \n</div>"
    },
    {
      "cell_type": "markdown",
      "metadata": {
        "cell_id": "b981d2ea-3778-4fc9-b609-7756b673ee98",
        "deepnote_cell_height": 52.5625,
        "deepnote_cell_type": "markdown",
        "tags": []
      },
      "source": "**2.3:** Why do the X's have numbers in them (e.g., $X_{1i}$ rather than $X_i$)?"
    },
    {
      "cell_type": "markdown",
      "metadata": {
        "cell_id": "00025-39a06492-4d86-4657-8cdf-b065c9cc9bca",
        "deepnote_cell_height": 163.328125,
        "deepnote_cell_type": "markdown",
        "tags": []
      },
      "source": "<div class=\"alert alert-block alert-warning\">\n\n**Sample Responses**\n\nBecause we have more than two groups for our explanatory variable, so we have more than one $b_i$ estimate, and the numbers reference the estimate for each group ($b_0$, $b_1$, and $b_2$).\n    \n</div>"
    },
    {
      "cell_type": "markdown",
      "metadata": {
        "cell_id": "00014-04c8784e-6340-4160-ad54-82309917e8db",
        "deepnote_cell_height": 119.53125,
        "deepnote_cell_type": "markdown",
        "tags": []
      },
      "source": "**2.4:** Do all the groups look different from each other? If you had to bet that some groups here are NOT different, which would they be? (Another way to phrase this question: which are the groups that might trick you into making a **Type I Error** -- thinking they are really different when they really aren't?)"
    },
    {
      "cell_type": "markdown",
      "metadata": {
        "cell_id": "00025-7c03d361-f5b0-4bcf-8c78-7211fb03b65f",
        "deepnote_cell_height": 185.515625,
        "deepnote_cell_type": "markdown",
        "tags": []
      },
      "source": "<div class=\"alert alert-block alert-warning\">\n\n**Sample Response**\n\nThe illustrate risks group look the most different from the other two. The control group and the reading group are most susceptible to Type I Error, as they look different, but perhaps are not different enough from chance.\n    \n</div>"
    },
    {
      "cell_type": "markdown",
      "metadata": {
        "cell_id": "00019-0bcd6dd4-6b21-405f-b96e-82d65def73e4",
        "deepnote_cell_height": 115.9375,
        "deepnote_cell_type": "markdown",
        "tags": []
      },
      "source": "<div class=\"alert alert-block alert-success\">\n\n### 3.0 - Approximate Time: 12-15 mins\n    \n</div>"
    },
    {
      "cell_type": "markdown",
      "metadata": {
        "cell_id": "00015-488a25af-a177-4794-8c7a-897464d664fe",
        "deepnote_cell_height": 69.96875,
        "deepnote_cell_type": "markdown",
        "tags": []
      },
      "source": "## 3.0: Evaluate Models of the DGP"
    },
    {
      "cell_type": "markdown",
      "metadata": {
        "cell_id": "00016-30711934-13ee-48ac-af24-da51e6b7b455",
        "deepnote_cell_height": 74.75,
        "deepnote_cell_type": "markdown",
        "nbsimplegrader": {
          "config_key": "markdown.view-only",
          "editable": false,
          "label": "Markdown: View-Only",
          "respondable": false,
          "response": null,
          "runnable": false,
          "type": "markdown"
        }
      },
      "source": "**3.1:** Compare the complex model versus the empty model (using R). Can we reject the empty model of the DGP? What evidence would you use to reject or not reject the empty model?"
    },
    {
      "cell_type": "code",
      "execution_count": null,
      "metadata": {
        "cell_id": "1755b810-33c1-4ece-afc3-2bee65b242f8",
        "deepnote_cell_height": 284.765625,
        "deepnote_cell_type": "code",
        "deepnote_to_be_reexecuted": false,
        "execution_millis": 48,
        "execution_start": 1644878681819,
        "output_cleared": false,
        "source_hash": "be4625eb",
        "tags": [],
        "trusted": true
      },
      "outputs": [],
      "source": "# Complete Version\nsupernova(int_model)"
    },
    {
      "cell_type": "markdown",
      "metadata": {
        "cell_id": "00027-395f0778-f5d1-4d06-a47c-7347ae5e6afc",
        "deepnote_cell_height": 163.125,
        "deepnote_cell_type": "markdown",
        "tags": []
      },
      "source": "<div class=\"alert alert-block alert-warning\">\n\n**Sample Response**\n\nLooking at the p-value, we can reject the empty model; there is a very low probability that we would observe our sample if the DGP was random.\n    \n</div>"
    },
    {
      "cell_type": "markdown",
      "metadata": {
        "cell_id": "00017-4fa6a049-c7eb-4a88-afae-9a6b372e19d5",
        "deepnote_cell_height": 74.75,
        "deepnote_cell_type": "markdown",
        "tags": []
      },
      "source": "**3.2:** Does the complex model tell us that all three groups were *statistically different* from each other?"
    },
    {
      "cell_type": "markdown",
      "metadata": {
        "cell_id": "00032-1fd8c27f-fbfd-46b6-bef4-1ed61a1f1afb",
        "deepnote_cell_height": 163.125,
        "deepnote_cell_type": "markdown",
        "tags": []
      },
      "source": "<div class=\"alert alert-block alert-warning\">\n\n**Sample Response**\n\nNo, it just tells us that there is a statistical difference between at least *one* of the groups, but not which of the groups are different.\n    \n</div>"
    },
    {
      "cell_type": "markdown",
      "metadata": {
        "cell_id": "00020-8efe10cc-2d86-4ab1-884e-b06b9b1ad2f7",
        "deepnote_cell_height": 145.140625,
        "deepnote_cell_type": "markdown",
        "tags": []
      },
      "source": "### Comparing Multiple Groups\n\n**3.3:** We want to know which of the three interventions are more effective in the DGP, and which just appear more effective because of sampling variation. Let's use the `pairwise()` function to dig a little deeper into our model.\n"
    },
    {
      "cell_type": "code",
      "execution_count": null,
      "metadata": {
        "cell_id": "00021-66c36ec5-a020-4b69-86ff-65ed04f34380",
        "deepnote_cell_height": 508.265625,
        "deepnote_cell_type": "code",
        "deepnote_to_be_reexecuted": false,
        "execution_millis": 174,
        "execution_start": 1644878681872,
        "output_cleared": false,
        "source_hash": "2a49a735",
        "tags": [],
        "trusted": true
      },
      "outputs": [],
      "source": "# Modify this code to conduct pairwise comparisons of the intervention model\npairwise(int_model)"
    },
    {
      "cell_type": "code",
      "execution_count": null,
      "metadata": {
        "cell_id": "00022-8ba4f708-b182-406b-9f1d-7f9a3481894d",
        "deepnote_cell_height": 571.953125,
        "deepnote_cell_type": "code",
        "deepnote_output_heights": [
          444
        ],
        "deepnote_to_be_reexecuted": false,
        "execution_millis": 317,
        "execution_start": 1644878682053,
        "output_cleared": false,
        "source_hash": "5e187134",
        "tags": [],
        "trusted": true
      },
      "outputs": [],
      "source": "# Optional: Plot the pairwise comparisons\nPWC <- pairwise(int_model)\nplot(PWC)"
    },
    {
      "cell_type": "markdown",
      "metadata": {
        "cell_id": "00023-286d213d-7eea-44f8-a243-eb16df40b86b",
        "deepnote_cell_height": 74.75,
        "deepnote_cell_type": "markdown",
        "tags": []
      },
      "source": "**3.4:** Based on the `pairwise()` analysis, are all the groups different from each other? If not, which groups are actually different from one another? "
    },
    {
      "cell_type": "markdown",
      "metadata": {
        "cell_id": "00034-0440ea67-58fd-47f4-87cc-875b8586f622",
        "deepnote_cell_height": 163.125,
        "deepnote_cell_type": "markdown",
        "tags": []
      },
      "source": "<div class=\"alert alert-block alert-warning\">\n\n**Sample Response**\n\nThe illustrate risks group is significantly different from both the read science research group and the control group.\n    \n</div>"
    },
    {
      "cell_type": "markdown",
      "metadata": {
        "cell_id": "00028-b6ded22d-fd8f-4b03-b9f1-90ce73e0181a",
        "deepnote_cell_height": 115.9375,
        "deepnote_cell_type": "markdown",
        "tags": []
      },
      "source": "<div class=\"alert alert-block alert-success\">\n\n### 4.0 - Approximate Time: 5-8 mins\n    \n</div>"
    },
    {
      "cell_type": "markdown",
      "metadata": {
        "cell_id": "00024-4c3c6274-4de9-4000-916e-8dfe6eb2ab3b",
        "deepnote_cell_height": 61.953125,
        "deepnote_cell_type": "markdown",
        "nbsimplegrader": {
          "config_key": "markdown.view-only",
          "editable": false,
          "label": "Markdown: View-Only",
          "respondable": false,
          "response": null,
          "runnable": false,
          "type": "markdown"
        }
      },
      "source": "### 4.0 - Conclusions"
    },
    {
      "cell_type": "markdown",
      "metadata": {
        "cell_id": "00025-71aada88-d9c9-4a33-88a2-e3530da20f81",
        "deepnote_cell_height": 74.75,
        "deepnote_cell_type": "markdown",
        "tags": []
      },
      "source": "**4.1** Based on our analysis today, what is your overall conclusion on the researchers' hypothesis? What would be the best way to sway someone who is hesitant about vaccines?"
    },
    {
      "cell_type": "markdown",
      "metadata": {
        "cell_id": "00047-e935a09f-ea53-42c8-9f9b-f44ffa25acba",
        "deepnote_cell_height": 163.125,
        "deepnote_cell_type": "markdown",
        "tags": []
      },
      "source": "<div class=\"alert alert-block alert-warning\">\n\n**Sample Response**\n\nIt seems like it might be best to illustrate the risks of not getting vaccinated with a personalized story rather than provide scientific information.\n    \n</div>"
    }
  ],
  "metadata": {
    "celltoolbar": "nbsimplegrader",
    "deepnote": {},
    "deepnote_execution_queue": [],
    "deepnote_notebook_id": "bdb828cb-1991-4a58-8ceb-1a53347b4bf5",
    "kernelspec": {
      "display_name": "R",
      "language": "R",
      "name": "ir"
    },
    "language_info": {
      "codemirror_mode": "r",
      "file_extension": ".r",
      "mimetype": "text/x-r-source",
      "name": "R",
      "pygments_lexer": "r",
      "version": "4.0.3"
    },
    "nbsimplegrader": {
      "publish_config": {
        "classes": [],
        "options": {},
        "tools": []
      }
    }
  },
  "nbformat": 4,
  "nbformat_minor": 4
}