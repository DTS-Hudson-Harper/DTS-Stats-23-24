{
  "cells": [
    {
      "cell_type": "markdown",
      "metadata": {
        "cell_id": "f33f05e9-910f-4089-b3d2-cbc72c8e7678",
        "deepnote_cell_height": 81.953125,
        "deepnote_cell_type": "markdown",
        "tags": []
      },
      "source": "# 5B: Neither Trump nor Biden"
    },
    {
      "cell_type": "code",
      "execution_count": null,
      "metadata": {
        "cell_id": "00001-940c2520-20b3-446c-85e0-61391af7f1a6",
        "deepnote_cell_height": 534.140625,
        "deepnote_cell_type": "code",
        "deepnote_to_be_reexecuted": false,
        "execution_millis": 4152,
        "execution_start": 1644538628961,
        "nbsimplegrader": {
          "config_key": "code.run-only",
          "editable": false,
          "label": "Code: Run-Only",
          "respondable": false,
          "response": null,
          "runnable": true,
          "type": "code"
        },
        "output_cleared": false,
        "source_hash": "1bac8202",
        "trusted": true
      },
      "outputs": [],
      "source": "# Load the CourseKata library\nsuppressPackageStartupMessages({\n    library(coursekata)\n})\n\n# Updated USStates data with 2020 census and election data\nUSStates <- read.csv(\"https://docs.google.com/spreadsheets/d/e/2PACX-1vSEc6kO1zrL_3Jlc_cA7cMgk6E2xcIjuUbTL50y-0ENwWby36EFj1MpWZLVKud8YMTtqb1zsef_a8Ss/pub?gid=2100107333&single=true&output=csv\")"
    },
    {
      "cell_type": "markdown",
      "metadata": {
        "cell_id": "00002-4cba475a-1a4c-49f5-a51f-8ae3a1f52877",
        "deepnote_cell_height": 69.96875,
        "deepnote_cell_type": "markdown",
        "nbsimplegrader": {
          "config_key": "markdown.view-only",
          "editable": false,
          "label": "Markdown: View-Only",
          "respondable": false,
          "response": null,
          "runnable": false,
          "type": "markdown"
        }
      },
      "source": "## 1.0: Coming up with our ideas"
    },
    {
      "cell_type": "markdown",
      "metadata": {
        "cell_id": "00003-aa7e4b1d-e087-4051-9ef8-a5ce85f22bba",
        "deepnote_cell_height": 201.3125,
        "deepnote_cell_type": "markdown",
        "tags": []
      },
      "source": "We've updated the data frame `USStates` to include a few new variables:\n\n- `TrumpVote20` Percentage of votes for Donald Trump in 2020 Presidential election\n- `BidenVote20` Percentage of votes for Joe Biden in 2020 Presidential election\n- `OtherVote20` Percentage of votes for neither Biden nor Trump in 2020 Presidential election\n- `TotalVote20` Total votes cast in 2020 Presidential election\n\n(Note: This tabulation of votes is from November 9, 2020.)\n"
    },
    {
      "cell_type": "markdown",
      "metadata": {
        "cell_id": "00004-5ff272c7-6e1e-43e3-913a-0a0bcf139544",
        "deepnote_cell_height": 97.140625,
        "deepnote_cell_type": "markdown",
        "tags": []
      },
      "source": "**1.1:** Today we will focus on the question: \"Some people chose to vote for neither Trump nor\nBiden. Why do some states have a disproportionate number of **Other** voters?\" Consider some ideas \nhere."
    },
    {
      "cell_type": "code",
      "execution_count": null,
      "metadata": {
        "cell_id": "00005-766573d0-3be3-487f-99f1-761e3344283a",
        "deepnote_cell_height": 368.859375,
        "deepnote_cell_type": "code",
        "deepnote_output_heights": [
          276.90625
        ],
        "deepnote_to_be_reexecuted": false,
        "execution_millis": 36,
        "execution_start": 1644538633175,
        "output_cleared": false,
        "source_hash": "698d4ffb",
        "tags": [],
        "trusted": true
      },
      "outputs": [],
      "source": "head(select(USStates, State, OtherVote20))"
    },
    {
      "cell_type": "markdown",
      "metadata": {
        "cell_id": "00006-89b2af4d-12eb-4740-821c-007cd6a8a299",
        "deepnote_cell_height": 722.53125,
        "deepnote_cell_type": "markdown",
        "tags": []
      },
      "source": "**1.2:** Consider the other variables available in `USStates` (note: many of \nthese variables were collected circa 2010 unless otherwise noted). What might explain variation in `OtherVote20`?\n\n- `State` Name of state\n- `HouseholdIncome` Mean household income (in dollars)\n- `IQ` Mean IQ score of residents\n- `Region` Area of the country: MW=Midwest, NE=Northeast, S=South, or W=West\n- `Population` Number of residents (in millions) in 2020\n- `PopPercent` Percent of residents of the US in 2020\n- `PopChange10_20` Change in population (in percent) from 2010 to 2020 census\n- `EighthGradeMath` Average score on standardized test administered to 8th graders \n- `HighSchool` Percentage of high school graduates\n- `GSP` Gross State Product (dollars per capita)\n- `FiveVegetables` Percentage of residents who eat at least five servings of fruits/vegetables per day\n- `Smokers` Percentage of residents who smoke\n- `PhysicalActivity` Percentage of residents who have competed in a physical activity in past month\n- `Obese` Percentage of residents classified as obese\n- `College` Percentage of residents with college degrees\n- `NonWhite` Percentage of residents who are not white\n- `HeavyDrinkers` Percentage of residents who drink heavily\n- `TotalDosesed` Total COVID-19 vaccine doses delivered as of Nov 2021\n- `AtLeast1Dose_per100` Percentage of population that has had at least their first dose of the vaccine as of Nov 2021\n- `FullyVacc` Number of people fully vaccinated as of Nov 2021 \n- `FullyVacc_per100` Percentage of population fully vaccinated as of Nov 2021 "
    },
    {
      "cell_type": "markdown",
      "metadata": {
        "cell_id": "00007-a2638720-0241-431d-bd79-3a2d49eef233",
        "deepnote_cell_height": 178.921875,
        "deepnote_cell_type": "markdown",
        "tags": []
      },
      "source": "**1.3:** As a class let's come up with three ideas and write them as word equations.\n\n0. Whole class example: **OtherVote20 = FiveVeg + Other Stuff**\n1. \n2.\n3.\n"
    },
    {
      "cell_type": "markdown",
      "metadata": {
        "cell_id": "00008-25fe9b07-c9cb-41e1-993a-a664771dd66f",
        "deepnote_cell_height": 69.96875,
        "deepnote_cell_type": "markdown",
        "tags": []
      },
      "source": "## 2.0: Explore Variation"
    },
    {
      "cell_type": "markdown",
      "metadata": {
        "cell_id": "00009-4138effa-cc2a-4ad5-ab1d-f1ee208ac715",
        "deepnote_cell_height": 74.75,
        "deepnote_cell_type": "markdown",
        "tags": []
      },
      "source": "**2.1:** Pick one of the ideas (word equations) to work on as a group and write it in \nthe space below. "
    },
    {
      "cell_type": "markdown",
      "metadata": {
        "cell_id": "00010-18f3555d-63d8-4d6d-b76b-741782e79358",
        "deepnote_cell_height": 52.359375,
        "deepnote_cell_type": "markdown",
        "tags": []
      },
      "source": "**2.2:** Take a look at the data and make some visualizations to explore your word equation."
    },
    {
      "cell_type": "markdown",
      "metadata": {
        "cell_id": "00011-08658f05-ec32-4bac-bacf-69a7cf641784",
        "deepnote_cell_height": 74.75,
        "deepnote_cell_type": "markdown",
        "tags": []
      },
      "source": "**2.3:** Is it possible to have gotten this pattern of data by chance? \nWrite a word equation that represents this possibility."
    },
    {
      "cell_type": "markdown",
      "metadata": {
        "cell_id": "00012-c9180fb2-f046-4be3-94f2-cb359d57cac3",
        "deepnote_cell_height": 69.96875,
        "deepnote_cell_type": "markdown",
        "tags": []
      },
      "source": "## 3.0: Model Variation"
    },
    {
      "cell_type": "markdown",
      "metadata": {
        "cell_id": "00013-e575e45d-9b0a-4efb-9910-8fdd26add968",
        "deepnote_cell_height": 111.34375,
        "deepnote_cell_type": "markdown",
        "tags": []
      },
      "source": "**3.1:** According to this data, what is your best estimated model of the DGP?\nWrite it in GLM notation below. (Feel free to add more parameters if needed.)\n\n$Y_i = \\beta_0 + \\beta_1X_i + \\epsilon_i$"
    },
    {
      "cell_type": "markdown",
      "metadata": {
        "cell_id": "00014-132c5476-fe65-4fb6-9643-de36c5b6a164",
        "deepnote_cell_height": 52.359375,
        "deepnote_cell_type": "markdown",
        "tags": []
      },
      "source": "**3.2:** Add your model to your visualization."
    },
    {
      "cell_type": "markdown",
      "metadata": {
        "cell_id": "00015-e590546d-bb06-426a-a34e-e0a59899e58e",
        "deepnote_cell_height": 52.359375,
        "deepnote_cell_type": "markdown",
        "nbsimplegrader": {
          "config_key": "markdown.view-only",
          "editable": false,
          "label": "Markdown: View-Only",
          "respondable": false,
          "response": null,
          "runnable": false,
          "type": "markdown"
        }
      },
      "source": "**3.3:** Interpret your coefficients. What do the numbers in your model mean?"
    },
    {
      "cell_type": "markdown",
      "metadata": {
        "cell_id": "00016-5145e63f-9987-4773-a3ec-3eb0024ec547",
        "deepnote_cell_height": 74.75,
        "deepnote_cell_type": "markdown",
        "nbsimplegrader": {
          "config_key": "markdown.view-only",
          "editable": false,
          "label": "Markdown: View-Only",
          "respondable": false,
          "response": null,
          "runnable": false,
          "type": "markdown"
        }
      },
      "source": "**3.4:** How much error has your model reduced relative to the empty model? \nDoes that provide evidence for or against your hypothesis/prediction?"
    },
    {
      "cell_type": "markdown",
      "metadata": {
        "cell_id": "00017-cfdc1d54-2d2b-4899-b532-b1331f22d68d",
        "deepnote_cell_height": 69.96875,
        "deepnote_cell_type": "markdown",
        "nbsimplegrader": {
          "config_key": "markdown.view-only",
          "editable": false,
          "label": "Markdown: View-Only",
          "respondable": false,
          "response": null,
          "runnable": false,
          "type": "markdown"
        }
      },
      "source": "## 4.0: Simulating a Random DGP "
    },
    {
      "cell_type": "markdown",
      "metadata": {
        "cell_id": "00018-08e02094-56fd-4b15-bb26-1c0ae79e4bb0",
        "deepnote_cell_height": 111.34375,
        "deepnote_cell_type": "markdown",
        "nbsimplegrader": {
          "config_key": "markdown.view-only",
          "editable": false,
          "label": "Markdown: View-Only",
          "respondable": false,
          "response": null,
          "runnable": false,
          "type": "markdown"
        }
      },
      "source": "**4.1:** What would the best fitting models typically look like if the DGP was random? What would the $b_1$s usually look like? How much could they vary? Let's check it out.\n\nModify the code blocks below to examine your particular explanatory variable."
    },
    {
      "cell_type": "code",
      "execution_count": null,
      "metadata": {
        "cell_id": "00019-b9f9de66-5a83-49ad-b3db-9af87f0147a7",
        "deepnote_cell_height": 559.953125,
        "deepnote_cell_type": "code",
        "deepnote_output_heights": [
          445
        ],
        "deepnote_to_be_reexecuted": false,
        "execution_millis": 324,
        "execution_start": 1644538633219,
        "output_cleared": false,
        "source_hash": "cb631379",
        "tags": [],
        "trusted": true
      },
      "outputs": [],
      "source": "gf_point(shuffle(OtherVote20) ~ FiveVegetables, data = USStates, color = \"coral\", size = 2) %>%\ngf_lm(color = \"navyblue\") "
    },
    {
      "cell_type": "code",
      "execution_count": null,
      "metadata": {
        "cell_id": "00020-ee638392-1c3c-4880-9f2e-4204df892a7a",
        "deepnote_cell_height": 502.953125,
        "deepnote_cell_type": "code",
        "deepnote_to_be_reexecuted": false,
        "execution_millis": 45,
        "execution_start": 1644538633549,
        "output_cleared": false,
        "source_hash": "a34ff106",
        "tags": [],
        "trusted": true
      },
      "outputs": [],
      "source": "do(10) * b1(shuffle(OtherVote20) ~ shuffle(FiveVegetables), data = USStates)"
    },
    {
      "cell_type": "markdown",
      "metadata": {
        "cell_id": "00021-b1a54c2c-07f7-412e-b341-543409912d43",
        "deepnote_cell_height": 170.140625,
        "deepnote_cell_type": "markdown",
        "tags": []
      },
      "source": "We know how to just a sampling $b_1$ against $b_1$s generated from the empty model ($\\beta_1=0$). Generating Fs from the empty model of the DGP will lead us to the same conclusions.  \n\n**4.2:** Let's Fs (like a 1000 of them) from a random DGP. How do those Fs generally vary? Try creating a visualization of your distribution of Fs.\n\n(Bonus: What is this distribution of Fs called?)"
    },
    {
      "cell_type": "code",
      "execution_count": null,
      "metadata": {
        "cell_id": "00022-a9337435-02e6-446d-b193-8442c4d291ee",
        "deepnote_cell_height": 335.953125,
        "deepnote_cell_type": "code",
        "deepnote_to_be_reexecuted": false,
        "execution_millis": 51,
        "execution_start": 1644538633642,
        "output_cleared": false,
        "owner_user_id": "65abe037-acab-4951-bbc9-907a4ef12e8f",
        "source_hash": "24a9ffae",
        "tags": [],
        "trusted": true
      },
      "outputs": [],
      "source": "SDoF <- do(3) * fVal(shuffle(OtherVote20) ~ FiveVegetables, data = USStates)\n\nhead(SDoF)"
    },
    {
      "cell_type": "markdown",
      "metadata": {
        "cell_id": "00023-1b4c66ea-4a37-4ab4-9c35-178e0bb4e304",
        "deepnote_cell_height": 52.359375,
        "deepnote_cell_type": "markdown",
        "nbsimplegrader": {
          "config_key": "markdown.view-only",
          "editable": false,
          "label": "Markdown: View-Only",
          "respondable": false,
          "response": null,
          "runnable": false,
          "type": "markdown"
        }
      },
      "source": "**4.3:** Where would your sample F exist on the distribution of Fs? Try adding it to your visualization."
    },
    {
      "cell_type": "markdown",
      "metadata": {
        "cell_id": "00024-c86c8f84-f5ce-4424-9c12-0b1dadd5d0e0",
        "deepnote_cell_height": 169.921875,
        "deepnote_cell_type": "markdown",
        "nbsimplegrader": {
          "config_key": "markdown.view-only",
          "editable": false,
          "label": "Markdown: View-Only",
          "respondable": false,
          "response": null,
          "runnable": false,
          "type": "markdown"
        }
      },
      "source": "**4.4:** Consider the values in the ANOVA table for the main model you have been \nworking with so far. Which value do you think corresponds the most to \nthis statement:\n\n> The probability of getting a F as large as the sample F, **if** there was no relationship between the variables in the DGP."
    },
    {
      "cell_type": "markdown",
      "metadata": {
        "cell_id": "00025-1bb853e9-8c85-4166-a01b-3dfb4126844d",
        "deepnote_cell_height": 97.140625,
        "deepnote_cell_type": "markdown",
        "nbsimplegrader": {
          "config_key": "markdown.view-only",
          "editable": false,
          "label": "Markdown: View-Only",
          "respondable": false,
          "response": null,
          "runnable": false,
          "type": "markdown"
        }
      },
      "source": "**4.5:** Use `tally()` to see if *\"the proportion of Fs as large as the sample F, if\nthere was no relationship between the variables in the DGP\"* from your sampling distribution really is similar to the number in the ANOVA table."
    },
    {
      "cell_type": "markdown",
      "metadata": {
        "cell_id": "00026-9774dfe0-d908-4890-8c15-247bd8502d40",
        "deepnote_cell_height": 74.75,
        "deepnote_cell_type": "markdown",
        "tags": []
      },
      "source": "**4.6:** So what do you think? Evaluate your model against the empty model. (Were any of the other models from the class not that different from the empty model?) "
    },
    {
      "cell_type": "markdown",
      "metadata": {
        "cell_id": "00027-5c007118-1c01-4a6d-88f2-e8a09d3748de",
        "deepnote_cell_height": 74.75,
        "deepnote_cell_type": "markdown",
        "tags": []
      },
      "source": "**4.7:** Do your conclusions about states hold up for citizens? Can you make a better prediction about  *which* voters within the state will vote for an \"other\" candidate with your model? Why or why not?"
    },
    {
      "cell_type": "markdown",
      "metadata": {
        "cell_id": "00028-e84e17ff-cf32-47de-8a87-a00be51fb405",
        "deepnote_cell_height": 69.96875,
        "deepnote_cell_type": "markdown",
        "nbsimplegrader": {
          "config_key": "markdown.view-only",
          "editable": false,
          "label": "Markdown: View-Only",
          "respondable": false,
          "response": null,
          "runnable": false,
          "type": "markdown"
        }
      },
      "source": "## 5.0: Extending these Ideas to *PRE*"
    },
    {
      "cell_type": "markdown",
      "metadata": {
        "cell_id": "00029-162a33f7-666c-43d7-a121-f20755ce8f25",
        "deepnote_cell_height": 192.328125,
        "deepnote_cell_type": "markdown",
        "nbsimplegrader": {
          "config_key": "markdown.view-only",
          "editable": false,
          "label": "Markdown: View-Only",
          "respondable": false,
          "response": null,
          "runnable": false,
          "type": "markdown"
        }
      },
      "source": "*F* and *PRE* are very closely related. They both try to show how much \nthe complex model explains the outcome variable compared to the empty model. We should end up with the same conclusions whether we use F or PRE.\n\n**5.1:** To corroborate our intuitions, try creating a sampling distribution and histogram of the *PRE*  from shuffled data using `PRE()` and `shuffle()`.\n\nThen use `tally()` to get the p-value from the simulated sampling distribution of PREs. "
    },
    {
      "cell_type": "markdown",
      "metadata": {
        "cell_id": "00030-db891936-fa46-4f44-bf69-6e0bc7d3abcd",
        "deepnote_cell_height": 52.359375,
        "deepnote_cell_type": "markdown",
        "nbsimplegrader": {
          "config_key": "markdown.view-only",
          "editable": false,
          "label": "Markdown: View-Only",
          "respondable": false,
          "response": null,
          "runnable": false,
          "type": "markdown"
        }
      },
      "source": "**5.2:** What is similar and different about the approach using F versus PRE?"
    }
  ],
  "metadata": {
    "celltoolbar": "nbsimplegrader",
    "deepnote": {},
    "deepnote_execution_queue": [],
    "deepnote_notebook_id": "c8e7f5fc-e6d0-4110-be68-86b5ca4f76a5",
    "kernelspec": {
      "display_name": "R",
      "language": "R",
      "name": "ir"
    },
    "language_info": {
      "codemirror_mode": "r",
      "file_extension": ".r",
      "mimetype": "text/x-r-source",
      "name": "R",
      "pygments_lexer": "r",
      "version": "4.0.3"
    },
    "nbsimplegrader": {
      "publish_config": {
        "classes": [],
        "options": {},
        "tools": []
      }
    }
  },
  "nbformat": 4,
  "nbformat_minor": 4
}