{
 "cells": [
  {
   "cell_type": "markdown",
   "id": "3c01da8c-1418-4782-a4a2-ff9470eb9383",
   "metadata": {},
   "source": [
    "# Chapter 4 Quiz: Analysis of the Penguins!\n",
    "\n",
    "![Penguins](https://storage.googleapis.com/kaggle-datasets-images/4297574/7392472/bb737f2556db9dec728ed708b5095e9b/dataset-cover.jpg?t=2024-01-13-01-13-45)\n",
    "\n",
    "In this quiz, you are going to examine a dataset containing information about various species of penguins along with their demographics.\n",
    "\n",
    "The columns of this dataset are:\n",
    "* species - the species of the penguin\n",
    "* island - the island where the penguin was observed\n",
    "* sex - the sex of the penguin\n",
    "* culmen_length_mm - the length of the penguin's bill in millimeters\n",
    "* culmen_depth_mm - the depth of the penguin's bill in millimeters\n",
    "* flipper_length_mm - the average length of the penguin's flippers in millimeters\n",
    "* body_mass_g - the body mass of the penguin in grams\n",
    "\n",
    "Be sure to run the following code before starting the quiz."
   ]
  },
  {
   "cell_type": "code",
   "execution_count": 3,
   "id": "fc31f5bb-9dbc-4eb8-b6e7-f11161febe7f",
   "metadata": {},
   "outputs": [
    {
     "data": {
      "text/html": [
       "<table class=\"dataframe\">\n",
       "<caption>A data.frame: 6 × 7</caption>\n",
       "<thead>\n",
       "\t<tr><th></th><th scope=col>species</th><th scope=col>island</th><th scope=col>sex</th><th scope=col>culmen_length_mm</th><th scope=col>culmen_depth_mm</th><th scope=col>flipper_length_mm</th><th scope=col>body_mass_g</th></tr>\n",
       "\t<tr><th></th><th scope=col>&lt;chr&gt;</th><th scope=col>&lt;chr&gt;</th><th scope=col>&lt;chr&gt;</th><th scope=col>&lt;dbl&gt;</th><th scope=col>&lt;dbl&gt;</th><th scope=col>&lt;int&gt;</th><th scope=col>&lt;int&gt;</th></tr>\n",
       "</thead>\n",
       "<tbody>\n",
       "\t<tr><th scope=row>1</th><td>Adelie</td><td>Torgersen</td><td>MALE  </td><td>39.1</td><td>18.7</td><td>181</td><td>3750</td></tr>\n",
       "\t<tr><th scope=row>2</th><td>Adelie</td><td>Torgersen</td><td>FEMALE</td><td>39.5</td><td>17.4</td><td>186</td><td>3800</td></tr>\n",
       "\t<tr><th scope=row>3</th><td>Adelie</td><td>Torgersen</td><td>FEMALE</td><td>40.3</td><td>18.0</td><td>195</td><td>3250</td></tr>\n",
       "\t<tr><th scope=row>4</th><td>Adelie</td><td>Torgersen</td><td>FEMALE</td><td>36.7</td><td>19.3</td><td>193</td><td>3450</td></tr>\n",
       "\t<tr><th scope=row>5</th><td>Adelie</td><td>Torgersen</td><td>MALE  </td><td>39.3</td><td>20.6</td><td>190</td><td>3650</td></tr>\n",
       "\t<tr><th scope=row>6</th><td>Adelie</td><td>Torgersen</td><td>FEMALE</td><td>38.9</td><td>17.8</td><td>181</td><td>3625</td></tr>\n",
       "</tbody>\n",
       "</table>\n"
      ],
      "text/latex": [
       "A data.frame: 6 × 7\n",
       "\\begin{tabular}{r|lllllll}\n",
       "  & species & island & sex & culmen\\_length\\_mm & culmen\\_depth\\_mm & flipper\\_length\\_mm & body\\_mass\\_g\\\\\n",
       "  & <chr> & <chr> & <chr> & <dbl> & <dbl> & <int> & <int>\\\\\n",
       "\\hline\n",
       "\t1 & Adelie & Torgersen & MALE   & 39.1 & 18.7 & 181 & 3750\\\\\n",
       "\t2 & Adelie & Torgersen & FEMALE & 39.5 & 17.4 & 186 & 3800\\\\\n",
       "\t3 & Adelie & Torgersen & FEMALE & 40.3 & 18.0 & 195 & 3250\\\\\n",
       "\t4 & Adelie & Torgersen & FEMALE & 36.7 & 19.3 & 193 & 3450\\\\\n",
       "\t5 & Adelie & Torgersen & MALE   & 39.3 & 20.6 & 190 & 3650\\\\\n",
       "\t6 & Adelie & Torgersen & FEMALE & 38.9 & 17.8 & 181 & 3625\\\\\n",
       "\\end{tabular}\n"
      ],
      "text/markdown": [
       "\n",
       "A data.frame: 6 × 7\n",
       "\n",
       "| <!--/--> | species &lt;chr&gt; | island &lt;chr&gt; | sex &lt;chr&gt; | culmen_length_mm &lt;dbl&gt; | culmen_depth_mm &lt;dbl&gt; | flipper_length_mm &lt;int&gt; | body_mass_g &lt;int&gt; |\n",
       "|---|---|---|---|---|---|---|---|\n",
       "| 1 | Adelie | Torgersen | MALE   | 39.1 | 18.7 | 181 | 3750 |\n",
       "| 2 | Adelie | Torgersen | FEMALE | 39.5 | 17.4 | 186 | 3800 |\n",
       "| 3 | Adelie | Torgersen | FEMALE | 40.3 | 18.0 | 195 | 3250 |\n",
       "| 4 | Adelie | Torgersen | FEMALE | 36.7 | 19.3 | 193 | 3450 |\n",
       "| 5 | Adelie | Torgersen | MALE   | 39.3 | 20.6 | 190 | 3650 |\n",
       "| 6 | Adelie | Torgersen | FEMALE | 38.9 | 17.8 | 181 | 3625 |\n",
       "\n"
      ],
      "text/plain": [
       "  species island    sex    culmen_length_mm culmen_depth_mm flipper_length_mm\n",
       "1 Adelie  Torgersen MALE   39.1             18.7            181              \n",
       "2 Adelie  Torgersen FEMALE 39.5             17.4            186              \n",
       "3 Adelie  Torgersen FEMALE 40.3             18.0            195              \n",
       "4 Adelie  Torgersen FEMALE 36.7             19.3            193              \n",
       "5 Adelie  Torgersen MALE   39.3             20.6            190              \n",
       "6 Adelie  Torgersen FEMALE 38.9             17.8            181              \n",
       "  body_mass_g\n",
       "1 3750       \n",
       "2 3800       \n",
       "3 3250       \n",
       "4 3450       \n",
       "5 3650       \n",
       "6 3625       "
      ]
     },
     "metadata": {},
     "output_type": "display_data"
    }
   ],
   "source": [
    "suppressPackageStartupMessages(\n",
    "    library(coursekata)\n",
    ")\n",
    "\n",
    "penguins <- read.csv(\"https://docs.google.com/spreadsheets/d/e/2PACX-1vRHEIE28rZZ6fDIb7izBiZ0QZsCh9F0rZuS7DM9QCEGdEMndWot59aThsjsaItV4ciibxwf4r2yeALa/pub?gid=0&single=true&output=csv\")\n",
    "\n",
    "head(penguins)"
   ]
  },
  {
   "cell_type": "markdown",
   "id": "2cef9d3b-1ecb-4290-845d-7d666445ecce",
   "metadata": {},
   "source": [
    "### Question 1 (2 points)\n",
    "\n",
    "Create a visualization of culmen length by sex for all penguins in the dataset that includes a complex linear model showing the means of the two groups. Based on visual inspection, what might be a null and alternative hypothesis for the culmen lengths of male vs female penguins?"
   ]
  },
  {
   "cell_type": "code",
   "execution_count": null,
   "id": "5c9023aa-05a1-4735-afd5-4d0e258bfb34",
   "metadata": {},
   "outputs": [],
   "source": [
    "# write your code here"
   ]
  },
  {
   "cell_type": "markdown",
   "id": "db353f53-552a-4cc2-a8ec-366bde9b3d4f",
   "metadata": {},
   "source": [
    "*Type your response here*"
   ]
  },
  {
   "cell_type": "markdown",
   "id": "1c6837bb-75b6-4b09-803a-e369487eeebc",
   "metadata": {},
   "source": [
    "### Question 2 (2 points)\n",
    "\n",
    "Create a linear model called *penguins_model*  that models the relationship between culmen length and sex. What is your best parameter estimate for the true difference between average culmen lengths between male and female penguins represented by the dataset?"
   ]
  },
  {
   "cell_type": "code",
   "execution_count": 1,
   "id": "bc8e9d68-d5b7-4222-ba16-17e70c28fcf1",
   "metadata": {},
   "outputs": [],
   "source": [
    "# write your code here"
   ]
  },
  {
   "cell_type": "markdown",
   "id": "52ad5ff8-c436-4070-9f89-e7a421f24004",
   "metadata": {},
   "source": [
    "*Type your response here*\n",
    "\n"
   ]
  },
  {
   "cell_type": "markdown",
   "id": "3e4e8415-392d-41b3-8d92-c9130a953ff6",
   "metadata": {},
   "source": [
    "### Question 3 (1 point)\n",
    "\n",
    "Which of the following symbols stands for the value you estimated in Question 2?\n",
    "   \n",
    "    a) b_0\n",
    "    b) b_1\n",
    "    c) \\beta_0\n",
    "    d) \\beta_1"
   ]
  },
  {
   "cell_type": "markdown",
   "id": "3e95a952-3fc7-4ac2-a53a-510715745293",
   "metadata": {},
   "source": [
    "*Type your response here*"
   ]
  },
  {
   "cell_type": "markdown",
   "id": "9dadc726-a6ba-477c-a01d-bf433eb1b06b",
   "metadata": {},
   "source": [
    "### Question 4 (2 points)\n",
    "\n",
    "What function should you use to simulate an experiment based on the hypothesis that there is no true difference between the average culmen lengths of the two sexes? Why does this function simulate no difference between the groups?\n",
    "\n",
    "    a) randomize\n",
    "    b) resample\n",
    "    c) shuffle\n",
    "    d) simulate"
   ]
  },
  {
   "cell_type": "markdown",
   "id": "056bea7e-2ff6-40c4-a474-04f9a38c9071",
   "metadata": {},
   "source": [
    "*Type your response here*"
   ]
  },
  {
   "cell_type": "markdown",
   "id": "5009ed0e-a48c-434b-9e57-f642768bac82",
   "metadata": {},
   "source": [
    "### Question 5 (2 points)\n",
    "\n",
    "Create a visualization of the sampling distribution for $b_1$ based on the linear model between culmen length and sex. What is the approximate mean of this sampling distribution and why is that something we should expect?"
   ]
  },
  {
   "cell_type": "code",
   "execution_count": 2,
   "id": "ef0202df-af07-4594-bec9-d34d965d901c",
   "metadata": {},
   "outputs": [],
   "source": [
    "# write your code here"
   ]
  },
  {
   "cell_type": "markdown",
   "id": "854ef2b5-5413-4ba0-9223-19e945e3cbe9",
   "metadata": {},
   "source": [
    "*Type your response here*"
   ]
  },
  {
   "cell_type": "markdown",
   "id": "a66f08ab-43b6-4d52-a9c0-900306ebddef",
   "metadata": {},
   "source": [
    "### Question 6 (1 points)\n",
    "\n",
    "Which of the following is the term that describes how \"wide\" the sampling distribution is?\n",
    "\n",
    "    a) standard error\n",
    "    b) standard deviation\n",
    "    c) variance\n",
    "    d) sampling width"
   ]
  },
  {
   "cell_type": "markdown",
   "id": "26b8d799-22aa-40af-8e20-9954f5085b4d",
   "metadata": {},
   "source": [
    "*Type your response here*"
   ]
  },
  {
   "cell_type": "markdown",
   "id": "c2fbf8a8-aa14-4bab-9458-6c3845cd9733",
   "metadata": {},
   "source": [
    "### Question 7 (2 points)\n",
    "\n",
    "Modify your graph so that you can see the middle 95% of your sampling distribution. Also, add a point on your graph to show where the $b_1$ value of your experimental linear model falls relative to the sampling distribution. What does the position of the $b_1$ value indicate about the relationship between culmen length and sex?\n",
    "\n",
    "    a) It is likely there is a relationship between the two.\n",
    "    b) It is unlikely there is a relationship between the two.\n",
    "    c) It is likely there is not a relationship between the two.\n",
    "    d) It is unlikely there is not relationship between the two."
   ]
  },
  {
   "cell_type": "markdown",
   "id": "c2510c41-7b12-487e-9387-42fbef3a7d51",
   "metadata": {},
   "source": [
    "*Type your response here*"
   ]
  },
  {
   "cell_type": "markdown",
   "id": "481c1a4d-2b81-4323-82a2-24e4c73dfec8",
   "metadata": {},
   "source": [
    "### Question 8 (2 points)\n",
    "\n",
    "Explain the statistical reasoning behind the convoluted language of the last question."
   ]
  },
  {
   "cell_type": "markdown",
   "id": "cfdb491c-f2ed-4fc7-8c65-81a7455558b4",
   "metadata": {},
   "source": [
    "*Type your response here*"
   ]
  },
  {
   "cell_type": "markdown",
   "id": "2caba22d-fe40-4175-bc39-518bdf5b2520",
   "metadata": {},
   "source": [
    "### Question 9 (2 points)\n",
    "\n",
    "In your own words, explain what this data about penguins tells us about the relationship between the sex of a penguin and the length of its bill."
   ]
  },
  {
   "cell_type": "markdown",
   "id": "d6042160-0810-42cc-a3a0-7e4868700730",
   "metadata": {},
   "source": [
    "*Type your response here*"
   ]
  },
  {
   "cell_type": "markdown",
   "id": "13870ea6-b258-4031-ab86-be56ecbf948a",
   "metadata": {},
   "source": [
    "### Question 10 (4 points)\n",
    "\n",
    "Run the following code to examine the relationship between culmen length and culmen depth for male, Adelie penguins. What would you hypothesize about the relationship between these two variables for these penguins? Confirm your hypothesis by using the bootstrapping method and document your results. You may create as many cells as you need."
   ]
  },
  {
   "cell_type": "code",
   "execution_count": null,
   "id": "ce0f6e87-29e5-438b-a8ad-f1ab6e864eac",
   "metadata": {},
   "outputs": [],
   "source": [
    "male_adelie_penguins <- penguins %>%\n",
    "    filter(sex == 'MALE' & species == 'Adelie')\n",
    "\n",
    "gf_point(culmen_length_mm ~ culmen_depth_mm, data = male_adelie_penguins) %>%\n",
    "    gf_model(culmen_length_mm ~ culmen_depth_mm)"
   ]
  },
  {
   "cell_type": "code",
   "execution_count": null,
   "id": "de3e69a6-e541-46b5-beb0-dbf900bbfec9",
   "metadata": {},
   "outputs": [],
   "source": []
  },
  {
   "cell_type": "markdown",
   "id": "3d94fd40-c42a-46b9-a2be-86dddc58c38c",
   "metadata": {},
   "source": [
    "### Bonus (2 points)\n",
    "\n",
    "Which pair of variables (where at least one is quantitative) has the strongest relationship? To receive the 2 points, you must compare an appropriate value to support your answer."
   ]
  },
  {
   "cell_type": "code",
   "execution_count": null,
   "id": "f5333b5c-d544-4797-ac0c-4bb2c2fc5b59",
   "metadata": {},
   "outputs": [],
   "source": []
  }
 ],
 "metadata": {
  "kernelspec": {
   "display_name": "R",
   "language": "R",
   "name": "ir"
  },
  "language_info": {
   "codemirror_mode": "r",
   "file_extension": ".r",
   "mimetype": "text/x-r-source",
   "name": "R",
   "pygments_lexer": "r",
   "version": "4.1.2"
  }
 },
 "nbformat": 4,
 "nbformat_minor": 5
}
