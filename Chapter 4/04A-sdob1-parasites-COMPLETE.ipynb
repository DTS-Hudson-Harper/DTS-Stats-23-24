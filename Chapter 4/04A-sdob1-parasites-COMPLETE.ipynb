{
  "cells": [
    {
      "cell_type": "markdown",
      "metadata": {
        "cell_id": "a7f3f8b2-d1d6-433d-b9ce-686d84af8b81",
        "deepnote_cell_height": 458.71875,
        "deepnote_cell_type": "markdown",
        "nbsimplegrader": {
          "config_key": "markdown.view-only",
          "editable": false,
          "label": "Markdown: View-Only",
          "respondable": false,
          "response": null,
          "runnable": false,
          "type": "markdown"
        }
      },
      "source": "<div class=\"alert alert-block alert-danger\">\n\n## 4A: Can parasites control their hosts? (COMPLETE)\n\n**Lesson assumes students have read up through page: 4.4**\n    \n</div>\n\n<img src=\"https://images.newscientist.com/wp-content/uploads/2017/05/04161216/fig.-3_metacercariae_ns.jpg\" width=300>\n\nThe eye fluke; a parasite that infects fish and lives in their eyes."
    },
    {
      "cell_type": "markdown",
      "metadata": {
        "cell_id": "cd0de5e6-a578-42a7-a579-e9b4c5b3fd9b",
        "deepnote_cell_height": 163.9375,
        "deepnote_cell_type": "markdown",
        "tags": []
      },
      "source": "<div class=\"alert alert-block alert-success\">\n\n## Approximate time to complete Notebook: 55-70 Mins\n    \n</div>"
    },
    {
      "cell_type": "code",
      "execution_count": 39,
      "metadata": {
        "cell_id": "00001-d07be061-0a6f-46cd-a4f7-04911b2a4132",
        "deepnote_cell_height": 242.96875,
        "deepnote_cell_type": "code",
        "deepnote_to_be_reexecuted": false,
        "execution_millis": 5235,
        "execution_start": 1644294736575,
        "nbsimplegrader": {
          "config_key": "code.run-only",
          "editable": false,
          "label": "Code: Run-Only",
          "respondable": false,
          "response": null,
          "runnable": true,
          "type": "code"
        },
        "output_cleared": false,
        "owner_user_id": "23d85493-7ed1-49a4-baa7-630eaab08193",
        "source_hash": "f10e8fd8",
        "trusted": true
      },
      "outputs": [],
      "source": "# This code will load the R packages we will use\n\nsuppressPackageStartupMessages({\n    library(coursekata)\n})\n\nexp1 <- read.csv(\"https://docs.google.com/spreadsheets/d/e/2PACX-1vT0BJOSII2SFORMbCO9pnXZKCwMzjnBhcHD0QCziE1qbQJcsJz1wjHg3fTLYXfpiA9MICNV5S1IceDf/pub?gid=974536451&single=true&output=csv\")\nexp2 <- read.csv(\"https://docs.google.com/spreadsheets/d/e/2PACX-1vSIrbyNRhOUYD_4nn4xOtQ0tJjNaIn7X4RaqQTG9Zc5Vr3mreonLC4_lbt1FdWgvkW_pRJSvOxDjhNp/pub?gid=636600208&single=true&output=csv\")\n\nexp1$infected <- factor(exp1$infected)"
    },
    {
      "cell_type": "markdown",
      "metadata": {
        "cell_id": "e3fadae0-8ede-4de5-8cdd-08908897075b",
        "deepnote_cell_height": 115.9375,
        "deepnote_cell_type": "markdown",
        "tags": []
      },
      "source": "<div class=\"alert alert-block alert-success\">\n\n### 1.0 - Approximate Time: 5-8 mins\n    \n</div>"
    },
    {
      "cell_type": "markdown",
      "metadata": {
        "cell_id": "00002-468e72c4-d331-420d-87d2-7beed4bba95d",
        "deepnote_cell_height": 680.578125,
        "deepnote_cell_type": "markdown",
        "tags": []
      },
      "source": "### Intro: The Eye Fluke\n\nAlthough animals typically survive by avoiding predators, this is a problem for parasites who need their hosts to be eaten in order to continue their life cycle.\n\nTake, for instance, the common parasite, the eye fluke (*Diplostomum pseudospathaceum*), which has a life cycle that takes place in three different types of animals.\n\n<img src=\"https://i.postimg.cc/x0RhFXQq/image.png\" alt=\"life cycle of eye fluke\" width=600>\n\nThe eye fluke would really like it if the trout would get eaten by a bird (even if the trout wouldn't!).\n\nDr. Mikhail Gopko and colleagues conducted an experiment to see if parasite-infected trout would change their behavior in a way that would make them more likely to be eaten by birds (e.g., swim closer to the surface of the water)."
    },
    {
      "cell_type": "markdown",
      "metadata": {
        "cell_id": "00003-395ec085-5c66-47b4-85ce-48444847de99",
        "deepnote_cell_height": 69.96875,
        "deepnote_cell_type": "markdown",
        "tags": []
      },
      "source": "## 1.0: The Data"
    },
    {
      "cell_type": "markdown",
      "metadata": {
        "cell_id": "00004-bbe8650a-54d4-47a4-8082-b6de6c21b46d",
        "deepnote_cell_height": 296.875,
        "deepnote_cell_type": "markdown",
        "tags": []
      },
      "source": "The data frame `exp1` contains data from this published study (https://link.springer.com/article/10.1007/s00265-017-2300-x). 46 lab-raised trout were randomly assigned to be either infected by eye fluke or not. \n\n- `infected` whether fish is in experimentally infected (1) or control (0) group\n- `fish_id` an identification number\n- `fish_mass_g` mass of fish in grams\n- `infection_intensity` number of eye flukes in fish eye lense\n- `depth` mean distance from bottom of aquarium measured in cm (larger numbers indicated shallower swimming--that is, closer to the surface)\n- `activity` number of gridlines crossed by fish in a 4 minute period  "
    },
    {
      "cell_type": "code",
      "execution_count": 40,
      "metadata": {
        "cell_id": "00005-9bd030c5-dabc-4eed-bbb2-40718d25d45f",
        "deepnote_cell_height": 242.546875,
        "deepnote_cell_type": "code",
        "deepnote_to_be_reexecuted": false,
        "execution_millis": 28,
        "execution_start": 1644294741853,
        "output_cleared": false,
        "source_hash": "a792f5a0",
        "tags": [],
        "trusted": true
      },
      "outputs": [
        {
          "name": "stdout",
          "output_type": "stream",
          "text": "'data.frame':\t46 obs. of  6 variables:\n $ infected           : Factor w/ 2 levels \"0\",\"1\": 1 1 1 2 2 2 1 1 1 1 ...\n $ fish_id            : int  1 2 3 4 5 6 7 8 9 10 ...\n $ fish_mass_g        : num  4.8 8.3 9.2 9.3 9.5 6.3 9.5 10.7 8.4 9.3 ...\n $ infection_intensity: int  0 0 0 9 26 24 0 0 0 0 ...\n $ depth              : num  14.8 24.9 11.9 17.8 26.4 ...\n $ activity           : int  113 2 43 97 24 91 0 9 17 7 ...\n"
        }
      ],
      "source": "# Take a look at the data frame\nstr(exp1)"
    },
    {
      "cell_type": "markdown",
      "metadata": {
        "cell_id": "00006-9ff56d3a-a5f8-4eed-800b-9f0bcc3b7f54",
        "deepnote_cell_height": 74.75,
        "deepnote_cell_type": "markdown",
        "tags": []
      },
      "source": "**1.1:** If parasites indeed change their fishy hosts' behaviors, which of the variables above might be interesting outcomes to consider?"
    },
    {
      "cell_type": "markdown",
      "metadata": {
        "cell_id": "00007-6612e34b-0d45-49b2-b51e-7e9ca767a574",
        "deepnote_cell_height": 199.515625,
        "deepnote_cell_type": "markdown",
        "tags": []
      },
      "source": "<div class=\"alert alert-block alert-warning\">\n\n**Sample Responses**\n\nVariables such as `depth` and `activity` are relevant outcomes to the current research question, but other variables may interesting as well, such as `fish_mass_g`. \n\nStudents may also identify `infected` and `infection_intensity` as explanatory variables.\n\n    \n</div>"
    },
    {
      "cell_type": "markdown",
      "metadata": {
        "cell_id": "00008-eed8eaf2-07df-41e1-8363-19e6bee22d7f",
        "deepnote_cell_height": 52.359375,
        "deepnote_cell_type": "markdown",
        "tags": []
      },
      "source": "**1.2:** Write a word equation to represent the researchers' hypothesis. "
    },
    {
      "cell_type": "markdown",
      "metadata": {
        "cell_id": "00009-f11a455d-5052-47d2-a67f-631054dae306",
        "deepnote_cell_height": 258.296875,
        "deepnote_cell_type": "markdown",
        "tags": []
      },
      "source": "<div class=\"alert alert-block alert-warning\">\n\n**Note for Instructors**\n\nWe can potentially use both depth and activity; both have similar patterns but we'll focus on depth because it might be easier to understand how parasites might benefit from this behavior change.\n\n**Sample Response**\n\nDEPTH = INFECTED + ERROR\n    \n</div>"
    },
    {
      "cell_type": "markdown",
      "metadata": {
        "cell_id": "68fdb253-3316-49e1-9127-9e813f510eac",
        "deepnote_cell_height": 115.9375,
        "deepnote_cell_type": "markdown",
        "tags": []
      },
      "source": "<div class=\"alert alert-block alert-success\">\n\n### 2.0 - Approximate Time: 8-10 mins\n    \n</div>"
    },
    {
      "cell_type": "markdown",
      "metadata": {
        "cell_id": "00010-504f1816-d9e7-41a4-ba50-2fe755b29502",
        "deepnote_cell_height": 69.96875,
        "deepnote_cell_type": "markdown",
        "tags": []
      },
      "source": "## 2.0: Explore Variation"
    },
    {
      "cell_type": "markdown",
      "metadata": {
        "cell_id": "00011-5a48d1a1-299f-4bd7-af9a-ba63a8fd4e3f",
        "deepnote_cell_height": 74.75,
        "deepnote_cell_type": "markdown",
        "tags": []
      },
      "source": "**2.1, Discussion:** Here is a visualization to help us explore this hypothesis. What do you think of this hypothesis from the data that you see?"
    },
    {
      "cell_type": "code",
      "execution_count": 41,
      "metadata": {
        "cell_id": "00012-96b00e75-2880-4966-8d6e-731db8ae208f",
        "deepnote_cell_height": 536.96875,
        "deepnote_cell_type": "code",
        "deepnote_output_heights": [
          445.015625
        ],
        "deepnote_to_be_reexecuted": false,
        "execution_millis": 286,
        "execution_start": 1644294741884,
        "output_cleared": false,
        "source_hash": "71b9e2a4",
        "tags": [],
        "trusted": true
      },
      "outputs": [
        {
          "data": {
            "image/png": "[encoded data removed]",
            "text/plain": "plot without title"
          },
          "metadata": {
            "image/png": {
              "height": 400,
              "width": 600
            }
          },
          "output_type": "display_data"
        }
      ],
      "source": "gf_jitter(depth ~ infected, data = exp1, width = .2, height = .2, size = 4) "
    },
    {
      "cell_type": "markdown",
      "metadata": {
        "cell_id": "00013-12c62c4c-0681-40a8-ad2f-0c95d37794e7",
        "deepnote_cell_height": 284.078125,
        "deepnote_cell_type": "markdown",
        "tags": []
      },
      "source": "<div class=\"alert alert-block alert-warning\">\n\n**Sample Responses**\n\n- Some students may see pretty similar distributions, and may disregard the points that look like outliers to them.\n- Some students may try to identify the approximate mean or center of the two distributions and see that the infected group seems to have a higher mean.\n- Some may notice there are more clumped near 0 for the control group, while the infected group has more of the higher values.\n- May be helpful to chain on `gf_boxplot()`\n    \n</div>"
    },
    {
      "cell_type": "markdown",
      "metadata": {
        "cell_id": "00014-ea6516bb-aa8f-4ebb-bb04-31b6f0b9ae3b",
        "deepnote_cell_height": 52.359375,
        "deepnote_cell_type": "markdown",
        "tags": []
      },
      "source": "**2.2, Discussion:** Find this fish in the visualization above (we'll call it fish #3)."
    },
    {
      "cell_type": "code",
      "execution_count": 42,
      "metadata": {
        "cell_id": "00015-0e8dc51c-80c9-4004-90ee-c7d82722ffc4",
        "deepnote_cell_height": 223.953125,
        "deepnote_cell_type": "code",
        "deepnote_to_be_reexecuted": false,
        "execution_millis": 49,
        "execution_start": 1644294742175,
        "output_cleared": false,
        "source_hash": "58a7aa05",
        "tags": [],
        "trusted": true
      },
      "outputs": [
        {
          "data": {
            "text/html": "<table class=\"dataframe\">\n<caption>A data.frame: 1 × 6</caption>\n<thead>\n\t<tr><th scope=col>infected</th><th scope=col>fish_id</th><th scope=col>fish_mass_g</th><th scope=col>infection_intensity</th><th scope=col>depth</th><th scope=col>activity</th></tr>\n\t<tr><th scope=col>&lt;fct&gt;</th><th scope=col>&lt;int&gt;</th><th scope=col>&lt;dbl&gt;</th><th scope=col>&lt;int&gt;</th><th scope=col>&lt;dbl&gt;</th><th scope=col>&lt;int&gt;</th></tr>\n</thead>\n<tbody>\n\t<tr><td>0</td><td>3</td><td>9.2</td><td>0</td><td>11.9</td><td>43</td></tr>\n</tbody>\n</table>\n",
            "text/latex": "A data.frame: 1 × 6\n\\begin{tabular}{llllll}\n infected & fish\\_id & fish\\_mass\\_g & infection\\_intensity & depth & activity\\\\\n <fct> & <int> & <dbl> & <int> & <dbl> & <int>\\\\\n\\hline\n\t 0 & 3 & 9.2 & 0 & 11.9 & 43\\\\\n\\end{tabular}\n",
            "text/markdown": "\nA data.frame: 1 × 6\n\n| infected &lt;fct&gt; | fish_id &lt;int&gt; | fish_mass_g &lt;dbl&gt; | infection_intensity &lt;int&gt; | depth &lt;dbl&gt; | activity &lt;int&gt; |\n|---|---|---|---|---|---|\n| 0 | 3 | 9.2 | 0 | 11.9 | 43 |\n\n",
            "text/plain": "  infected fish_id fish_mass_g infection_intensity depth activity\n1 0        3       9.2         0                   11.9  43      "
          },
          "metadata": {},
          "output_type": "display_data"
        }
      ],
      "source": "filter(exp1, fish_id == 3)"
    },
    {
      "cell_type": "markdown",
      "metadata": {
        "cell_id": "00016-f970722b-f437-4853-b5a9-dba36f3052d6",
        "deepnote_cell_height": 221.90625,
        "deepnote_cell_type": "markdown",
        "tags": []
      },
      "source": "<div class=\"alert alert-block alert-warning\">\n\n**Note to Instructors**\n\nThis requires students to identify key information from fish #3: `infected` = 0; `depth` = 11.9. They also need to use this information to identify which group the fish is in and then finding the dot around 12. \n\nAfter they have tried to identify fish #3, you can use the code below to \"color\" in fish #3.\n\n</div>"
    },
    {
      "cell_type": "code",
      "execution_count": 43,
      "metadata": {
        "cell_id": "00017-f01627e5-f84b-4be9-a059-ab72882734db",
        "deepnote_cell_height": 98.953125,
        "deepnote_cell_type": "code",
        "deepnote_to_be_reexecuted": false,
        "execution_millis": 0,
        "execution_start": 1644294742272,
        "output_cleared": true,
        "source_hash": "d2e76d1e",
        "tags": [],
        "trusted": true
      },
      "outputs": [],
      "source": "# a visualization that will color fish #3's dot in a different color\n# gf_jitter(depth ~ infected, data = exp1, width = .2, height = .2, size = 4, color = ~fish_id == 3) "
    },
    {
      "cell_type": "markdown",
      "metadata": {
        "cell_id": "00018-80b2896e-f147-4904-bb8f-8e6449d1268b",
        "deepnote_cell_height": 111.140625,
        "deepnote_cell_type": "markdown",
        "tags": []
      },
      "source": "**2.3:** Could we have gotten a distribution of data like this if parasites didn't really affect swimming in the Data Generating Process? How would we represent that as the word equation? \n\n(Could we try it in R somehow?)"
    },
    {
      "cell_type": "markdown",
      "metadata": {
        "cell_id": "00019-860f1536-ee0c-4a42-947e-fa58ac5e64a5",
        "deepnote_cell_height": 331.078125,
        "deepnote_cell_type": "markdown",
        "tags": []
      },
      "source": "<div class=\"alert alert-block alert-warning\">\n\n**Sample Response**\n\nYes, we could have gotten this distribution from a DGP where the parasites are not actually affecting swimming behavior, because one DGP can produce lots of different samples. \n\ndepth = mean + error\n\nWe can simulate this in R using the `shuffle()` function.\n\n**Note to Instructors**\n\nYou might want to write both word equations somewhere (e.g. on the board) so that students can keep in mind that we are comparing models (the complex versus empty).\n    \n</div>"
    },
    {
      "cell_type": "code",
      "execution_count": 44,
      "metadata": {
        "cell_id": "00020-19214040-6189-4713-9d6d-cef98737fe4b",
        "deepnote_cell_height": 170.953125,
        "deepnote_cell_type": "code",
        "deepnote_to_be_reexecuted": false,
        "execution_millis": 1,
        "execution_start": 1644294742272,
        "output_cleared": true,
        "source_hash": "9e8d3721",
        "tags": [],
        "trusted": true
      },
      "outputs": [],
      "source": "# modify this code to mimic a no-effect-of-parasites DGP\n#gf_jitter(depth ~ infected, data = exp1, width = .2, height = .2, size = 4, color = ~fish_id == 3) \n\n\n# COMPLETE VERSION - add shuffle() to one of the variables\n# gf_jitter(shuffle(depth) ~ infected, data = exp1, width = .2, height = .2, size = 4, color = ~fish_id == 3) "
    },
    {
      "cell_type": "markdown",
      "metadata": {
        "cell_id": "00021-9becdaa3-9c33-45a1-b1cb-aae468b38730",
        "deepnote_cell_height": 74.75,
        "deepnote_cell_type": "markdown",
        "deepnote_to_be_reexecuted": false,
        "execution_millis": 1,
        "execution_start": 1635999232363,
        "source_hash": "37518c93",
        "tags": []
      },
      "source": "**2.4, Discussion:** If eye flukes don't change their host's behavior, would fish #3 have acted differently even if it was infected? "
    },
    {
      "cell_type": "markdown",
      "metadata": {
        "cell_id": "00022-f19f56f5-beec-4548-885a-a2771f8598f5",
        "deepnote_cell_height": 325.6875,
        "deepnote_cell_type": "markdown",
        "tags": []
      },
      "source": "<div class=\"alert alert-block alert-warning\">\n\n**Sample Response**\n\nIf they do not affect the trout's behavior then the fish should not have acted differently (it would have still swam at the same depth). This is what it means to have \"no effect\" (aka $\\beta_1=0$).\n\n**Note for Instructors**\n\nAfter discussing, run the simulation below a few times. This simulation mimics a world where there is no effect of being infected. Ask, \"in this DGP, when fish #3 is uninfected, what depth does it swim at? how about when infected?\" Thus, `shuffle()` mimics the DGP that eye flukes don't change their host's behavior.\n    \n\n\n</div>"
    },
    {
      "cell_type": "code",
      "execution_count": 45,
      "metadata": {
        "cell_id": "00023-a7d3fbdb-5daa-4867-b3e5-0504b8ab80a1",
        "deepnote_cell_height": 80.953125,
        "deepnote_cell_type": "code",
        "deepnote_to_be_reexecuted": false,
        "execution_millis": 1,
        "execution_start": 1644294742315,
        "output_cleared": true,
        "source_hash": "ccdd6d8",
        "tags": [],
        "trusted": true
      },
      "outputs": [],
      "source": "#gf_jitter(shuffle(depth) ~ infected, data = exp1, width = .2, height = .2, size = 4, color = ~fish_id == 3) "
    },
    {
      "cell_type": "markdown",
      "metadata": {
        "cell_id": "292deb84-bead-4602-b3fa-368c051cb0d7",
        "deepnote_cell_height": 115.9375,
        "deepnote_cell_type": "markdown",
        "tags": []
      },
      "source": "<div class=\"alert alert-block alert-success\">\n\n### 3.0 - Approximate Time: 8-10 mins\n    \n</div>"
    },
    {
      "cell_type": "markdown",
      "metadata": {
        "cell_id": "00024-d5aa27d7-babc-4590-b0e8-5d2cfa1103ad",
        "deepnote_cell_height": 69.96875,
        "deepnote_cell_type": "markdown",
        "tags": []
      },
      "source": "## 3.0: Model Variation in the Sample"
    },
    {
      "cell_type": "markdown",
      "metadata": {
        "cell_id": "00025-ac143987-cf0c-4f33-957e-952c6839e2b8",
        "deepnote_cell_height": 125.34375,
        "deepnote_cell_type": "markdown",
        "nbsimplegrader": {
          "config_key": "markdown.response",
          "editable": true,
          "label": "Response: Markdown",
          "respondable": true,
          "response": null,
          "runnable": true,
          "type": "markdown"
        },
        "tags": []
      },
      "source": "**3.1:** What's the best fitting model of the data based on the researchers' hypothesis? \n\nSpecify and fit a formal model (in GLM format). \n\n$Y_i = ... + e_i$"
    },
    {
      "cell_type": "code",
      "execution_count": 46,
      "metadata": {
        "cell_id": "00026-eee83afb-1414-4688-b8e0-e8ced1ad2cbd",
        "deepnote_cell_height": 264.375,
        "deepnote_cell_type": "code",
        "deepnote_output_heights": [
          136.421875
        ],
        "deepnote_to_be_reexecuted": false,
        "execution_millis": 8,
        "execution_start": 1644294742316,
        "output_cleared": false,
        "source_hash": "d66a9f78",
        "tags": [],
        "trusted": true
      },
      "outputs": [
        {
          "data": {
            "text/plain": "\nCall:\nlm(formula = depth ~ infected, data = exp1)\n\nCoefficients:\n(Intercept)    infected1  \n     10.265        3.827  \n"
          },
          "metadata": {},
          "output_type": "display_data"
        }
      ],
      "source": "# COMPLETE VERSION\nfluke_model <- lm(depth ~ infected, data = exp1)\nfluke_model"
    },
    {
      "cell_type": "markdown",
      "metadata": {
        "cell_id": "00027-df3d60ce-c907-49a6-8361-f88edd2edf2f",
        "deepnote_cell_height": 140.9375,
        "deepnote_cell_type": "markdown",
        "tags": []
      },
      "source": "<div class=\"alert alert-block alert-warning\">\n\n**Sample Response**\n\n$depth = 10.27 + 3.83(infected) + e_i$\n    \n</div>"
    },
    {
      "cell_type": "markdown",
      "metadata": {
        "cell_id": "00028-ae2203f5-53a8-44a2-9563-37363da7dc47",
        "deepnote_cell_height": 128.546875,
        "deepnote_cell_type": "markdown",
        "nbsimplegrader": {
          "config_key": "markdown.response",
          "editable": true,
          "label": "Response: Markdown",
          "respondable": true,
          "response": null,
          "runnable": true,
          "type": "markdown"
        },
        "tags": []
      },
      "source": "**3.2:** Interpret the best fitting estimates in that model  by connecting it to the visualization below.\n\n- $b_0$: \n- $b_1$:"
    },
    {
      "cell_type": "code",
      "execution_count": 47,
      "metadata": {
        "cell_id": "00029-a5ae90a5-f98c-4f9a-9fd5-fa9ed7849978",
        "deepnote_cell_height": 554.96875,
        "deepnote_cell_type": "code",
        "deepnote_output_heights": [
          445.015625
        ],
        "deepnote_to_be_reexecuted": false,
        "execution_millis": 222,
        "execution_start": 1644294742371,
        "output_cleared": false,
        "source_hash": "9f4ccd57",
        "tags": [],
        "trusted": true
      },
      "outputs": [
        {
          "data": {
            "image/png": "[encoded data removed]",
            "text/plain": "plot without title"
          },
          "metadata": {
            "image/png": {
              "height": 400,
              "width": 600
            }
          },
          "output_type": "display_data"
        }
      ],
      "source": "gf_jitter(depth ~ infected, data = exp1, width = .2, height = .2, size = 4) %>%\ngf_model(depth ~ infected, data = exp1)"
    },
    {
      "cell_type": "markdown",
      "metadata": {
        "cell_id": "00030-a7563f46-a3a5-40f3-848b-87c476dcd88e",
        "deepnote_cell_height": 188.921875,
        "deepnote_cell_type": "markdown",
        "tags": []
      },
      "source": "<div class=\"alert alert-block alert-warning\">\n\n**Sample Response**\n\n- $b_0$: The average `depth` of the non-infected group (the mean line for group `0` in the plot).\n- $b_1$: The amount of `depth` added to $b_0$ to get the mean `depth` of the infected group (the distance, or increment, between the mean line for group `0` and the mean line for group `1`).\n\n    \n</div>"
    },
    {
      "cell_type": "markdown",
      "metadata": {
        "cell_id": "163b78bd-4937-4b76-b02a-1f56cbac7a37",
        "deepnote_cell_height": 115.9375,
        "deepnote_cell_type": "markdown",
        "tags": []
      },
      "source": "<div class=\"alert alert-block alert-success\">\n\n### 4.0 - Approximate Time: 10-12 mins\n    \n</div>"
    },
    {
      "cell_type": "markdown",
      "metadata": {
        "cell_id": "00031-07b52955-8f06-4cae-b5fd-a05d6c28ecd5",
        "deepnote_cell_height": 69.96875,
        "deepnote_cell_type": "markdown",
        "tags": []
      },
      "source": "## 4.0: But what's the best model of the DGP?"
    },
    {
      "cell_type": "markdown",
      "metadata": {
        "cell_id": "00032-1336e8bf-5d6b-4188-b5f6-1ce117ebe7eb",
        "deepnote_cell_height": 74.75,
        "deepnote_cell_type": "markdown",
        "nbsimplegrader": {
          "config_key": "markdown.response",
          "editable": true,
          "label": "Response: Markdown",
          "respondable": true,
          "response": null,
          "runnable": true,
          "type": "markdown"
        },
        "tags": []
      },
      "source": "**4.1a:** Is it possible that there is no difference between these two groups in the DGP? If so, how would we represent that hypothesis in GLM notation? "
    },
    {
      "cell_type": "markdown",
      "metadata": {
        "cell_id": "00033-dd26d209-6517-49ed-b5f2-9a935ea77034",
        "deepnote_cell_height": 295.09375,
        "deepnote_cell_type": "markdown",
        "tags": []
      },
      "source": "<div class=\"alert alert-block alert-warning\">\n\n**Sample Response**\n\nYes, it is possible, and in that case we can just use the grand mean as our prediction, regardless of `infected`.\n\nDEPTH = MEAN + ERROR\n\n$depth = \\beta_0 + \\epsilon_i$\n\n(Some students may think it is $depth = b_0 + e_i$ but this equation represents the empty model fit to the sample -- not the DGP's model.)\n    \n</div>"
    },
    {
      "cell_type": "markdown",
      "metadata": {
        "cell_id": "00034-e9e685a8-197b-4835-bb0a-5bc70508d373",
        "deepnote_cell_height": 74.75,
        "deepnote_cell_type": "markdown",
        "tags": []
      },
      "source": "**4.1b:** Is it possible that the researchers are right and infected fish really are different from uninfected fish in the DGP? If so, how would we represent that hypothesis in GLM notation? "
    },
    {
      "cell_type": "markdown",
      "metadata": {
        "cell_id": "00035-bc3a8576-7273-4be6-8a05-fefbcb413dd0",
        "deepnote_cell_height": 213.921875,
        "deepnote_cell_type": "markdown",
        "tags": []
      },
      "source": "<div class=\"alert alert-block alert-warning\">\n\n**Sample Response**\n\nDEPTH = INFECTED + ERROR\n\n$depth = \\beta_0 +\\beta_1(infected) + e_i$\n\n$depth = 10.27 + 3.83(infected) + \\epsilon_i$\n\n    \n</div>"
    },
    {
      "cell_type": "markdown",
      "metadata": {
        "cell_id": "00036-4cdb0e70-35b7-49eb-bd76-93da879baa80",
        "deepnote_cell_height": 75.15625,
        "deepnote_cell_type": "markdown",
        "tags": []
      },
      "source": "**4.2:** What is our best guess for the $\\beta_1$ in the two equations above? What would happen to the 2nd model if $\\beta_1 = 0$? "
    },
    {
      "cell_type": "markdown",
      "metadata": {
        "cell_id": "00037-c0064601-930f-463d-b9e2-d658cc90f3d1",
        "deepnote_cell_height": 272.90625,
        "deepnote_cell_type": "markdown",
        "tags": []
      },
      "source": "<div class=\"alert alert-block alert-warning\">\n\n**Sample Response**\n\nOur best guess for the true $\\beta_1$ in the DGP is our sample $b_1$ of 3.83.\n\nThe 2nd model would become equivalent to the first model (the empty model).\n\n**Note to Instructors:** \n\nThis may feel tricky since the empty model (4.1a) doesn't have an explicit $\\beta_1$. It may be helpful to discuss why $\\beta_1=0$ is mathematically equivalent to leaving it out of the model.\n\n</div>"
    },
    {
      "cell_type": "markdown",
      "metadata": {
        "cell_id": "00038-b322aac9-064c-41e2-a9e0-e3de4171c9aa",
        "deepnote_cell_height": 74.953125,
        "deepnote_cell_type": "markdown",
        "tags": []
      },
      "source": "**4.3:** Could the $\\beta_1$ in the DGP be a different number than either of the two numbers above? What else could it be? "
    },
    {
      "cell_type": "markdown",
      "metadata": {
        "cell_id": "00039-1eb0b37e-670f-4ef5-892b-e94c58004527",
        "deepnote_cell_height": 326.5,
        "deepnote_cell_type": "markdown",
        "tags": []
      },
      "source": "<div class=\"alert alert-block alert-warning\">\n\n**Sample Response**\n\nThe $\\beta_1$ could be an infinite number of values between zero and the max depth of the aquarium (on the positive or negative side). It could be the same as our sample, but it could also be 4.83, or -2.12854, or 0, or....\n\n**Note to Instructors**\n\nIt might be helpful to show on the graph and discuss what different $\\beta_1$s could look like and what they would mean (e.g., if $b_1$ were a positive or negative value, or if it were zero?). The graph can also help them figure out what the reasonable limit for the most extreme $b_1$ could be (i.e., there is a limited amount of depth in an aquarium so the $b_1$ should not exceed that).\n\n</div>"
    },
    {
      "cell_type": "markdown",
      "metadata": {
        "cell_id": "16b0ec91-295d-4f50-8f93-aadef48fb69c",
        "deepnote_cell_height": 115.9375,
        "deepnote_cell_type": "markdown",
        "tags": []
      },
      "source": "<div class=\"alert alert-block alert-success\">\n\n### 5.0 - Approximate Time: 12-15 mins\n    \n</div>"
    },
    {
      "cell_type": "markdown",
      "metadata": {
        "cell_id": "00040-c76e2341-f9d3-4db0-911b-9ca6c86d1035",
        "deepnote_cell_height": 109.96875,
        "deepnote_cell_type": "markdown",
        "tags": []
      },
      "source": "## 5.0: Simulating a DGP where there is no effect of parasite"
    },
    {
      "cell_type": "markdown",
      "metadata": {
        "cell_id": "00041-f541ab5a-1ea7-4c3e-b8ba-155b066babe8",
        "deepnote_cell_height": 97.5625,
        "deepnote_cell_type": "markdown",
        "tags": []
      },
      "source": "We can simulate a DGP with a certain $\\beta_1$ (such as $\\beta_1 = 0$, no effect of parasite infection) and look at all the $b_1$s that it can produce. Then we can ask: Does our sample seem \"unlikely\" to have come from this DGP? If so, then we might reject the empty model of the DGP."
    },
    {
      "cell_type": "markdown",
      "metadata": {
        "cell_id": "00042-ef800101-959c-4c78-844b-5c8e7a8d4ad3",
        "deepnote_cell_height": 74.953125,
        "deepnote_cell_type": "markdown",
        "nbsimplegrader": {
          "config_key": "markdown.response",
          "editable": true,
          "label": "Response: Markdown",
          "respondable": true,
          "response": null,
          "runnable": true,
          "type": "markdown"
        },
        "tags": []
      },
      "source": "**5.1:** What kind of world does `shuffle()` mimic? Represent the shuffle DGP using GLM notation: $Y_i = \\beta_0 + \\beta_1 X_i + \\epsilon_i$"
    },
    {
      "cell_type": "markdown",
      "metadata": {
        "cell_id": "00043-a2b3116a-dc13-4f2f-a35b-190c801ce389",
        "deepnote_cell_height": 236.3125,
        "deepnote_cell_type": "markdown",
        "tags": []
      },
      "source": "<div class=\"alert alert-block alert-warning\">\n\n**Sample Response**\n\nThis question is just to revisit the idea from 4.1a. A way to check who is still having trouble with the idea of $\\beta_1=0$. \n\nIt mimics a world where there is no effect of the eye fluke on the trout's depth.\n\n$Y_i = \\beta_0 + 0*X_i + \\epsilon_i$\n    \n</div>"
    },
    {
      "cell_type": "markdown",
      "metadata": {
        "cell_id": "00044-127e4113-97ac-4081-b848-49b03a768492",
        "deepnote_cell_height": 52.359375,
        "deepnote_cell_type": "markdown",
        "tags": []
      },
      "source": "**5.2a:** Run the code below a few times. Why does only one of the numbers change? "
    },
    {
      "cell_type": "code",
      "execution_count": 48,
      "metadata": {
        "cell_id": "00045-b069cd97-b7a5-4577-9c95-e537e531e371",
        "deepnote_cell_height": 219.3125,
        "deepnote_cell_type": "code",
        "deepnote_output_heights": [
          21.1875,
          21.1875
        ],
        "deepnote_to_be_reexecuted": false,
        "execution_millis": 3,
        "execution_start": 1644294742639,
        "nbsimplegrader": {
          "config_key": "code.run-only",
          "editable": false,
          "label": "Code: Run-Only",
          "respondable": false,
          "response": null,
          "runnable": true,
          "type": "code"
        },
        "output_cleared": false,
        "source_hash": "6f3416b0",
        "tags": [],
        "trusted": true
      },
      "outputs": [
        {
          "data": {
            "text/html": "3.82670454545454",
            "text/latex": "3.82670454545454",
            "text/markdown": "3.82670454545454",
            "text/plain": "[1] 3.826705"
          },
          "metadata": {},
          "output_type": "display_data"
        },
        {
          "data": {
            "text/html": "-0.484924242424243",
            "text/latex": "-0.484924242424243",
            "text/markdown": "-0.484924242424243",
            "text/plain": "[1] -0.4849242"
          },
          "metadata": {},
          "output_type": "display_data"
        }
      ],
      "source": "sample_b1 <- b1(depth ~ infected, data = exp1)\nsample_b1\n\nb1(shuffle(depth) ~ infected, data = exp1)"
    },
    {
      "cell_type": "markdown",
      "metadata": {
        "cell_id": "00046-b24549b9-483e-4b1b-8897-315d8ce131a2",
        "deepnote_cell_height": 222.3125,
        "deepnote_cell_type": "markdown",
        "tags": []
      },
      "source": "<div class=\"alert alert-block alert-warning\">\n\n**Sample Response**\n\nThe first number is our sample $b_1$ and since our sample doesn't change, it stays the same.\n\nThe second number changes because the `shuffle()` function mimics \"no effect of infection\" and fish are randomly put into the `infected` groups. Each time we get a different $b_1$ (based on this random DGP).\n\n    \n</div>"
    },
    {
      "cell_type": "markdown",
      "metadata": {
        "cell_id": "00047-a1d63259-04e2-4b4d-999f-87b6e47f9e94",
        "deepnote_cell_height": 52.359375,
        "deepnote_cell_type": "markdown"
      },
      "source": "**5.2b:** What does the shuffled `b1` mean?"
    },
    {
      "cell_type": "code",
      "execution_count": 49,
      "metadata": {
        "cell_id": "00048-614c18c0-b679-4175-836f-c88dbda721cb",
        "deepnote_cell_height": 787.25,
        "deepnote_cell_type": "code",
        "deepnote_output_heights": [
          null,
          445
        ],
        "deepnote_to_be_reexecuted": false,
        "execution_millis": 295,
        "execution_start": 1644294742640,
        "output_cleared": false,
        "source_hash": "1f3efcb8",
        "tags": [],
        "trusted": true
      },
      "outputs": [],
      "source": "# COMPLETE VERSION\n# if you want to show plot with shuffled data to show what a shuffled b1 means \n\nexp1$shuff_inf <- shuffle(exp1$infected)\nshuff_model <- lm(depth ~ shuff_inf, data = exp1)\n\ngf_jitter(depth ~ shuff_inf, data = exp1, width = .2, color = \"orange\", height = .2, alpha = .5, size = 4) %>%\ngf_model(shuff_model, color = \"black\") \n\nprint(\"the shuffled b1 is:\")\nprint(b1(shuff_model))"
    },
    {
      "cell_type": "markdown",
      "metadata": {
        "cell_id": "00049-48408b3b-d82e-4f54-83cb-1bbafe67a6b1",
        "deepnote_cell_height": 163.328125,
        "deepnote_cell_type": "markdown",
        "tags": []
      },
      "source": "<div class=\"alert alert-block alert-warning\">\n\n**Sample Response**\n\nThe shuffled $b_1$ means that is the difference between group means that we would expect if `infected` had nothing to do with `depth`.\n    \n</div>"
    },
    {
      "cell_type": "markdown",
      "metadata": {
        "cell_id": "00050-5782e07f-2f7d-469d-a3f8-3a8e31809f76",
        "deepnote_cell_height": 128.75,
        "deepnote_cell_type": "markdown",
        "tags": []
      },
      "source": "**5.3:** Which of the following are shuffled data? Which one is the real data?\n\n(Also, eyeball the values of the shuffled `b1`s. How are they different from the sample `b1`?)\n\n<img src=\"https://i.postimg.cc/9mndF9qP/image.png\" alt=\"a 3x3 panel of 8 shuffled data and one real data\">"
    },
    {
      "cell_type": "markdown",
      "metadata": {
        "cell_id": "00051-5289a5cc-8475-43ed-aecb-8107f2665166",
        "deepnote_cell_height": 244.296875,
        "deepnote_cell_type": "markdown",
        "tags": []
      },
      "source": "<div class=\"alert alert-block alert-warning\">\n\n**Sample Response**\n\nMost of the shuffled b1s look pretty close to zero (not much of a difference between the two mean lines). Except for maybe the first one (first row, first column); it appears to show the opposite pattern of our sample data.\n\nPlot F, in the third column and second row is the real data. Note that this `b1` is much bigger (more extreme) than the others.\n\n</div>"
    },
    {
      "cell_type": "markdown",
      "metadata": {
        "cell_id": "00052-b33f4f71-ae1b-4ad5-a070-ce140a5d7b69",
        "deepnote_cell_height": 52.5625,
        "deepnote_cell_type": "markdown",
        "tags": []
      },
      "source": "**5.4:** Here is code for a single shuffled $b_1$. Try creating a sampling distribution of 1000 shuffled $b_1$s. "
    },
    {
      "cell_type": "code",
      "execution_count": null,
      "metadata": {
        "cell_id": "00053-dbb13b76-a3e1-42b3-b441-ee41c47c5e56",
        "deepnote_cell_height": 529.03125,
        "deepnote_cell_type": "code",
        "deepnote_output_heights": [
          21.1875,
          294.90625
        ],
        "deepnote_to_be_reexecuted": false,
        "execution_millis": 1450,
        "execution_start": 1644294742987,
        "nbsimplegrader": {
          "config_key": "code.response",
          "editable": true,
          "label": "Response: Code",
          "respondable": true,
          "response": null,
          "runnable": true,
          "type": "code"
        },
        "output_cleared": false,
        "source_hash": "97be7048",
        "tags": [],
        "trusted": true
      },
      "outputs": [],
      "source": "b1(shuffle(depth) ~ infected, data = exp1)\n\n# COMPLETE VERSION\n# Add the do()* function and save it into a data frame\nsdob1 <- do(1000) * b1(shuffle(depth) ~ infected, data = exp1)\nhead(sdob1)"
    },
    {
      "cell_type": "markdown",
      "metadata": {
        "cell_id": "00054-289757bc-6414-4408-83c9-b1aaf8b7f152",
        "deepnote_cell_height": 74.953125,
        "deepnote_cell_type": "markdown",
        "tags": []
      },
      "source": "**5.5:** Make a visualization of the sampling distribution of $b_1$ you created. What's the shape, center, spread of this distribution?"
    },
    {
      "cell_type": "markdown",
      "metadata": {
        "cell_id": "00055-e2475151-32d5-411a-b9df-bcef30049340",
        "deepnote_cell_height": 140.71875,
        "deepnote_cell_type": "markdown",
        "tags": []
      },
      "source": "<div class=\"alert alert-block alert-warning\">\n\n**Sample Response**\n\nThe shape is normal, with a center around 0, and a spread that ranges from about -6 to 6.\n    \n</div>"
    },
    {
      "cell_type": "code",
      "execution_count": null,
      "metadata": {
        "cell_id": "00056-27e5b85d-91f7-436f-9f87-b8d94c5c631b",
        "deepnote_cell_height": 1125.953125,
        "deepnote_cell_type": "code",
        "deepnote_output_heights": [
          445,
          445.015625
        ],
        "deepnote_to_be_reexecuted": false,
        "execution_millis": 2096,
        "execution_start": 1644294744445,
        "nbsimplegrader": {
          "config_key": "code.response",
          "editable": true,
          "label": "Response: Code",
          "respondable": true,
          "response": null,
          "runnable": true,
          "type": "code"
        },
        "output_cleared": false,
        "source_hash": "e329c971",
        "trusted": true
      },
      "outputs": [],
      "source": "# COMPLETE VERSION\n\nsdob1 <- do(1000) * b1(shuffle(depth) ~ infected, data = exp1)\ngf_histogram(~b1, data = sdob1, bins=100) \n\n# version of sdob1 with middle 95% of samples filled in\ngf_histogram(~b1, data = sdob1, fill = ~middle(b1, .95), bins=100, show.legend = FALSE) "
    },
    {
      "cell_type": "markdown",
      "metadata": {
        "cell_id": "9d81d6a5-4c28-4e66-8875-1ca5b3110d35",
        "deepnote_cell_height": 115.9375,
        "deepnote_cell_type": "markdown",
        "tags": []
      },
      "source": "<div class=\"alert alert-block alert-success\">\n\n### 6.0 - Approximate Time: 12-15 mins\n    \n</div>"
    },
    {
      "cell_type": "markdown",
      "metadata": {
        "cell_id": "00057-5112f637-1e9e-4d39-a05a-c5458a962af0",
        "deepnote_cell_height": 69.96875,
        "deepnote_cell_type": "markdown",
        "tags": []
      },
      "source": "## 6.0: Bringing in our sample"
    },
    {
      "cell_type": "markdown",
      "metadata": {
        "cell_id": "00058-c5675b71-929f-4dab-929c-a71ea7341ac1",
        "deepnote_cell_height": 74.75,
        "deepnote_cell_type": "markdown",
        "tags": []
      },
      "source": "**6.1:** Where does our sample fall relative to this sampling distribution? Is it one of the \"unlikely\" samples?"
    },
    {
      "cell_type": "markdown",
      "metadata": {
        "cell_id": "00059-8e813e1c-f6d2-4cef-9a91-f0c0fec0fac6",
        "deepnote_cell_height": 347.875,
        "deepnote_cell_type": "markdown",
        "tags": []
      },
      "source": "<div class=\"alert alert-block alert-warning\">\n\n**Sample Response**\n\nThis may be hard to tell at first because the point falls right along the border of the \"unlikely\" samples. \n\nStudents may want a more certain way of figuring this out. If they want to know for sure, encourage them to figure out a way where they can check if this sample `b1` is in the outer .05 of samples (e.g., using `tally()`). You can also tell them that they already know a function that will calculate the probability of getting this sample or more extreme (the `supernova()` function.\n\nYou may also want to run the simulation a few times. Sometimes, due to random chance, the point falls more clearly in the unlikely area.\n \n</div>"
    },
    {
      "cell_type": "code",
      "execution_count": null,
      "metadata": {
        "cell_id": "00060-c0d77843-a273-4d0e-9f48-6345059d963f",
        "deepnote_cell_height": 626.96875,
        "deepnote_cell_type": "code",
        "deepnote_output_heights": [
          445.015625
        ],
        "deepnote_to_be_reexecuted": false,
        "execution_millis": 2227,
        "execution_start": 1644294746549,
        "output_cleared": false,
        "source_hash": "6f3434a5",
        "tags": [],
        "trusted": true
      },
      "outputs": [],
      "source": "sdob1 <- do(1000) * b1(shuffle(depth) ~ infected, data = exp1)\n\n# COMPLETE VERSION\n# Add gf_point()\ngf_histogram(~b1, data = sdob1, fill = ~middle(b1, .95), bins=100) %>%\ngf_point(0 ~ sample_b1, color = \"black\")"
    },
    {
      "cell_type": "markdown",
      "metadata": {
        "cell_id": "00061-b93627de-a6dd-470e-be08-61c94968fd7a",
        "deepnote_cell_height": 206.9375,
        "deepnote_cell_type": "markdown",
        "tags": []
      },
      "source": "Let's recap what all this means using our [distribution triad diagram](https://docs.google.com/presentation/d/1PTEFZGFKLX6mDa3GeceXkkmFTNEOOy2k1K6Tg3InVas/copy)\n\nWe started off thinking, \"Maybe there is no effect of parasites on swimming behavior. Fish are going to swim at the same depth whether they are infected or not.\" We call that the empty model (so $\\beta_1=0$). This is what we simulated when we did all these shuffles.\n\nBut our real sample is an unlikely $b_1$ from the empty model of the DGP.\n\n(Fill in the $\\beta_1$ and $b_1$ values on the diagram and move the distributions around accordingly.)"
    },
    {
      "cell_type": "markdown",
      "metadata": {
        "cell_id": "00063-83e4db65-af89-4aee-aad4-f4c309f32ae9",
        "deepnote_cell_height": 186.125,
        "deepnote_cell_type": "markdown",
        "tags": []
      },
      "source": "<div class=\"alert alert-block alert-warning\">\n\n**Note to Instructors**\n\nStudents should adjust the values for $\\beta_1$ and $b_1$ and slide the distribution side-to-side to see which $\\beta_1$s could still likely produce our sample. That is, how high or low could $\\beta_1$ move until our sample $b_1$ becomes \"unlikely\"?\n    \n</div>"
    },
    {
      "cell_type": "markdown",
      "metadata": {
        "cell_id": "00062-bdcabd9e-7817-4a28-809d-514e6c22829d",
        "deepnote_cell_height": 52.359375,
        "deepnote_cell_type": "markdown",
        "tags": []
      },
      "source": "**6.2:** So what do you think about the empty model as a possible model of the DGP?"
    },
    {
      "cell_type": "markdown",
      "metadata": {
        "cell_id": "00071-ed256c25-3ca4-4e89-b60f-a0a51e1542fe",
        "deepnote_cell_height": 163.125,
        "deepnote_cell_type": "markdown",
        "tags": []
      },
      "source": "<div class=\"alert alert-block alert-warning\">\n\n**Sample Response**\n\nThis sample is unlikely to come from the empty model of the DGP. So it does not seem to be the model that generated this sample.\n    \n</div>"
    },
    {
      "cell_type": "markdown",
      "metadata": {
        "cell_id": "00064-956cfef3-96ec-41e9-b6b4-5ddf8f9cfd88",
        "deepnote_cell_height": 52.359375,
        "deepnote_cell_type": "markdown",
        "tags": []
      },
      "source": "**6.3:** Going back to the researchers, what does this mean for their hypothesis? "
    },
    {
      "cell_type": "markdown",
      "metadata": {
        "cell_id": "00065-602f903c-7715-4c67-b3d9-5942fce2110e",
        "deepnote_cell_height": 185.515625,
        "deepnote_cell_type": "markdown",
        "tags": []
      },
      "source": "<div class=\"alert alert-block alert-warning\">\n\n**Sample Response**\n\nIt means that fish that are infected are different than uninfected. They tend to swim closer to the surface (more extreme than expected by random chance), making them more vulnerable to hungry birds, and thus, making it more likely that the parasite can complete its life cycle.\n    \n</div>"
    },
    {
      "cell_type": "code",
      "execution_count": null,
      "metadata": {
        "cell_id": "00066-d3b3cdc4-c2ae-4482-b67e-97cd2b836a68",
        "deepnote_cell_height": 2089.96875,
        "deepnote_cell_type": "code",
        "deepnote_output_heights": [
          445.015625
        ],
        "deepnote_to_be_reexecuted": false,
        "execution_millis": 1815,
        "execution_start": 1644295007154,
        "output_cleared": false,
        "owner_user_id": "65abe037-acab-4951-bbc9-907a4ef12e8f",
        "source_hash": "14d6f54c",
        "tags": [],
        "trusted": true
      },
      "outputs": [],
      "source": "#for complete version just in case you are interested in how we created shuffles\n\nrequire(gridExtra)\n\nset.seed(100)\n\nexp1$shuff_inf <- shuffle(exp1$infected)\nshuff_model <- lm(depth ~ shuff_inf, data = exp1)\n\ng1 <- gf_jitter(depth ~ shuff_inf, data = exp1, width = .2, color = \"orange\", height = .2, alpha = .5) %>%\ngf_model(shuff_model, color = \"black\") \n\nexp1$shuff_inf <- shuffle(exp1$infected)\nshuff_model <- lm(depth ~ shuff_inf, data = exp1)\n\ng2 <- gf_jitter(depth ~ shuff_inf, data = exp1, width = .2, color = \"orange\", height = .2, alpha = .5) %>%\ngf_model(shuff_model, color = \"black\") \n\nexp1$shuff_inf <- shuffle(exp1$infected)\nshuff_model <- lm(depth ~ shuff_inf, data = exp1)\n\ng3 <- gf_jitter(depth ~ shuff_inf, data = exp1, width = .2, color = \"orange\", height = .2, alpha = .5) %>%\ngf_model(shuff_model, color = \"black\") \n\nexp1$shuff_inf <- shuffle(exp1$infected)\nshuff_model <- lm(depth ~ shuff_inf, data = exp1)\n\ng4 <- gf_jitter(depth ~ shuff_inf, data = exp1, width = .2, color = \"orange\", height = .2, alpha = .5) %>%\ngf_model(shuff_model, color = \"black\") \n\nexp1$shuff_inf <- shuffle(exp1$infected)\nshuff_model <- lm(depth ~ shuff_inf, data = exp1)\n\ng5 <- gf_jitter(depth ~ shuff_inf, data = exp1, width = .2, color = \"orange\", height = .2, alpha = .5) %>%\ngf_model(shuff_model, color = \"black\") \n\nexp1$shuff_inf <- exp1$infected\nshuff_model <- lm(depth ~ shuff_inf, data = exp1)\n\ng6 <- gf_jitter(depth ~ shuff_inf, data = exp1, width = .2, color = \"orange\", height = .2, alpha = .5) %>%\ngf_model(shuff_model, color = \"black\") \n\nexp1$shuff_inf <- shuffle(exp1$infected)\nshuff_model <- lm(depth ~ shuff_inf, data = exp1)\n\ng7 <- gf_jitter(depth ~ shuff_inf, data = exp1, width = .2, color = \"orange\", height = .2, alpha = .5) %>%\ngf_model(shuff_model, color = \"black\") \n\nexp1$shuff_inf <- shuffle(exp1$infected)\nshuff_model <- lm(depth ~ shuff_inf, data = exp1)\n\ng8 <- gf_jitter(depth ~ shuff_inf, data = exp1, width = .2, color = \"orange\", height = .2, alpha = .5) %>%\ngf_model(shuff_model, color = \"black\") \n\nexp1$shuff_inf <- shuffle(exp1$infected)\nshuff_model <- lm(depth ~ shuff_inf, data = exp1)\n\ng9 <- gf_jitter(depth ~ shuff_inf, data = exp1, width = .2, color = \"orange\", height = .2, alpha = .5) %>%\ngf_model(shuff_model, color = \"black\") \n\nexp1$shuff_inf <- shuffle(exp1$infected)\nshuff_model <- lm(depth ~ shuff_inf, data = exp1)\n\ng1 <- g1 + theme(axis.title.x = element_blank(), axis.title.y = element_blank()) + \nannotate(\"text\", x = .5, y = 29, label = \"A\")\ng2 <- g2 + theme(axis.title.x = element_blank(), axis.title.y = element_blank()) + \nannotate(\"text\", x = .5, y = 29, label = \"B\")\ng3 <- g3 + theme(axis.title.x = element_blank(), axis.title.y = element_blank()) + \nannotate(\"text\", x = .5, y = 29, label = \"C\")\n\ng4 <- g4 + theme(axis.title.x = element_blank(), axis.title.y = element_blank()) + \nannotate(\"text\", x = .5, y = 29, label = \"D\")\ng5 <- g5 + theme(axis.title.x = element_blank(), axis.title.y = element_blank()) + \nannotate(\"text\", x = .5, y = 29, label = \"E\")\ng6 <- g6 + theme(axis.title.x = element_blank(), axis.title.y = element_blank()) + \nannotate(\"text\", x = .5, y = 29, label = \"F\")\n\ng7 <- g7 + theme(axis.title.x = element_blank(), axis.title.y = element_blank()) + \nannotate(\"text\", x = .5, y = 29, label = \"G\")\ng8 <- g8 + theme(axis.title.x = element_blank(), axis.title.y = element_blank()) + \nannotate(\"text\", x = .5, y = 29, label = \"H\")\ng9 <- g9 + theme(axis.title.x = element_blank(), axis.title.y = element_blank()) + \nannotate(\"text\", x = .5, y = 29, label = \"I\")\n\n\ngrid.arrange(g1,g2,g3,g4,g5,g6,g7,g8,g9, ncol=3)\n"
    }
  ],
  "metadata": {
    "celltoolbar": "nbsimplegrader",
    "deepnote": {},
    "deepnote_execution_queue": [],
    "deepnote_notebook_id": "a4d8a0ce-8ac7-4338-b23d-1638578c79c0",
    "kernelspec": {
      "display_name": "R",
      "language": "R",
      "name": "ir"
    },
    "language_info": {
      "codemirror_mode": "r",
      "file_extension": ".r",
      "mimetype": "text/x-r-source",
      "name": "R",
      "pygments_lexer": "r",
      "version": "4.0.3"
    },
    "nbsimplegrader": {
      "publish_config": {
        "classes": [],
        "options": {},
        "tools": []
      }
    }
  },
  "nbformat": 4,
  "nbformat_minor": 4
}