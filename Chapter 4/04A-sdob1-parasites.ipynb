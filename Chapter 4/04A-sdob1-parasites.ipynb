{
  "cells": [
    {
      "cell_type": "markdown",
      "metadata": {
        "cell_id": "1855c13e-a084-4203-a187-9872664309ce",
        "deepnote_cell_height": 332.359375,
        "deepnote_cell_type": "markdown",
        "nbsimplegrader": {
          "config_key": "markdown.view-only",
          "editable": false,
          "label": "Markdown: View-Only",
          "respondable": false,
          "response": null,
          "runnable": false,
          "type": "markdown"
        }
      },
      "source": "## 4A: Can parasites control their hosts?\n\n<img src=\"https://images.newscientist.com/wp-content/uploads/2017/05/04161216/fig.-3_metacercariae_ns.jpg\" width=300>\n\nThe eye fluke; a parasite that infects fish and lives in their eyes."
    },
    {
      "cell_type": "code",
      "execution_count": null,
      "metadata": {
        "cell_id": "00001-7e9dd18f-064b-42ab-811e-fb5ceffbe846",
        "deepnote_cell_height": 242.96875,
        "deepnote_cell_type": "code",
        "deepnote_to_be_reexecuted": false,
        "execution_millis": 7111,
        "execution_start": 1644274713314,
        "nbsimplegrader": {
          "config_key": "code.run-only",
          "editable": false,
          "label": "Code: Run-Only",
          "respondable": false,
          "response": null,
          "runnable": true,
          "type": "code"
        },
        "output_cleared": false,
        "source_hash": "f10e8fd8",
        "trusted": true
      },
      "outputs": [],
      "source": "# This code will load the R packages we will use\n\nsuppressPackageStartupMessages({\n    library(coursekata)\n})\n\nexp1 <- read.csv(\"https://docs.google.com/spreadsheets/d/e/2PACX-1vT0BJOSII2SFORMbCO9pnXZKCwMzjnBhcHD0QCziE1qbQJcsJz1wjHg3fTLYXfpiA9MICNV5S1IceDf/pub?gid=974536451&single=true&output=csv\")\nexp2 <- read.csv(\"https://docs.google.com/spreadsheets/d/e/2PACX-1vSIrbyNRhOUYD_4nn4xOtQ0tJjNaIn7X4RaqQTG9Zc5Vr3mreonLC4_lbt1FdWgvkW_pRJSvOxDjhNp/pub?gid=636600208&single=true&output=csv\")\n\nexp1$infected <- factor(exp1$infected)"
    },
    {
      "cell_type": "markdown",
      "metadata": {
        "cell_id": "00002-71f9b7ec-1fe3-418b-ab77-c94df7c64de4",
        "deepnote_cell_height": 680.578125,
        "deepnote_cell_type": "markdown",
        "tags": []
      },
      "source": "### Intro: The Eye Fluke\n\nAlthough animals typically survive by avoiding predators, this is a problem for parasites who need their hosts to be eaten in order to continue their life cycle.\n\nTake, for instance, the common parasite, the eye fluke (*Diplostomum pseudospathaceum*), which has a life cycle that takes place in three different types of animals.\n\n<img src=\"https://i.postimg.cc/x0RhFXQq/image.png\" alt=\"life cycle of eye fluke\" width=600>\n\nThe eye fluke would really like it if the trout would get eaten by a bird (even if the trout wouldn't!).\n\nDr. Mikhail Gopko and colleagues conducted an experiment to see if parasite-infected trout would change their behavior in a way that would make them more likely to be eaten by birds (e.g., swim closer to the surface of the water)."
    },
    {
      "cell_type": "markdown",
      "metadata": {
        "cell_id": "00003-bb27ccb3-5c2f-4ae0-a120-d88daa0b562e",
        "deepnote_cell_height": 69.96875,
        "deepnote_cell_type": "markdown",
        "tags": []
      },
      "source": "## 1.0: The Data"
    },
    {
      "cell_type": "markdown",
      "metadata": {
        "cell_id": "00004-7397eb83-5e07-4c95-a8fa-ab280b5ca11c",
        "deepnote_cell_height": 296.875,
        "deepnote_cell_type": "markdown",
        "tags": []
      },
      "source": "The data frame `exp1` contains data from this published study (https://link.springer.com/article/10.1007/s00265-017-2300-x). 46 lab-raised trout were randomly assigned to be either infected by eye fluke or not. \n\n- `infected` whether fish is in experimentally infected (1) or control (0) group\n- `fish_id` an identification number\n- `fish_mass_g` mass of fish in grams\n- `infection_intensity` number of eye flukes in fish eye lense\n- `depth` mean distance from bottom of aquarium measured in cm (larger numbers indicated shallower swimming--that is, closer to the surface)\n- `activity` number of gridlines crossed by fish in a 4 minute period  "
    },
    {
      "cell_type": "code",
      "execution_count": null,
      "metadata": {
        "cell_id": "00005-ad20e5b1-4209-4746-bcc8-c3f222f4d7cd",
        "deepnote_cell_height": 75.953125,
        "deepnote_cell_type": "code",
        "deepnote_to_be_reexecuted": false,
        "execution_millis": 13,
        "execution_start": 1644274720451,
        "output_cleared": true,
        "source_hash": "c2c0e564",
        "tags": [],
        "trusted": true
      },
      "outputs": [],
      "source": "# Take a look at the data frame"
    },
    {
      "cell_type": "markdown",
      "metadata": {
        "cell_id": "00006-115e7cb2-e2e4-4550-bcb7-8e80463386b0",
        "deepnote_cell_height": 74.75,
        "deepnote_cell_type": "markdown",
        "tags": []
      },
      "source": "**1.1:** If parasites indeed change their fishy hosts' behaviors, which of the variables above might be interesting outcomes to consider?"
    },
    {
      "cell_type": "markdown",
      "metadata": {
        "cell_id": "00008-f8ba0d49-c9bb-4979-a81a-5d5222595466",
        "deepnote_cell_height": 52.359375,
        "deepnote_cell_type": "markdown",
        "tags": []
      },
      "source": "**1.2:** Write a word equation to represent the researchers' hypothesis. "
    },
    {
      "cell_type": "markdown",
      "metadata": {
        "cell_id": "00010-c1ccf6ad-5a6b-4a78-bc17-ad5308465f7e",
        "deepnote_cell_height": 69.96875,
        "deepnote_cell_type": "markdown",
        "tags": []
      },
      "source": "## 2.0: Explore Variation"
    },
    {
      "cell_type": "markdown",
      "metadata": {
        "cell_id": "00011-44bd4c96-e242-466d-999d-b5b369ae4686",
        "deepnote_cell_height": 74.75,
        "deepnote_cell_type": "markdown",
        "tags": []
      },
      "source": "**2.1, Discussion:** Here is a visualization to help us explore this hypothesis. What do you think of this hypothesis from the data that you see?"
    },
    {
      "cell_type": "code",
      "execution_count": null,
      "metadata": {
        "cell_id": "00012-7bf59963-ef1a-4728-966a-5ed04627537b",
        "deepnote_cell_height": 536.953125,
        "deepnote_cell_type": "code",
        "deepnote_output_heights": [
          445
        ],
        "deepnote_to_be_reexecuted": false,
        "execution_millis": 367,
        "execution_start": 1644274720464,
        "output_cleared": false,
        "source_hash": "71b9e2a4",
        "tags": [],
        "trusted": true
      },
      "outputs": [],
      "source": "gf_jitter(depth ~ infected, data = exp1, width = .2, height = .2, size = 4) "
    },
    {
      "cell_type": "markdown",
      "metadata": {
        "cell_id": "00013-d08aaf10-78ca-438d-9aac-57ee3b73269b",
        "deepnote_cell_height": 52.359375,
        "deepnote_cell_type": "markdown",
        "tags": []
      },
      "source": "**2.2, Discussion:** Find this fish in the visualization above (we'll call it fish #3)."
    },
    {
      "cell_type": "code",
      "execution_count": null,
      "metadata": {
        "cell_id": "00014-251ad1c3-8a62-4571-b40f-e9a01c6cc391",
        "deepnote_cell_height": 223.953125,
        "deepnote_cell_type": "code",
        "deepnote_to_be_reexecuted": false,
        "execution_millis": 52,
        "execution_start": 1644274720823,
        "output_cleared": false,
        "source_hash": "58a7aa05",
        "tags": [],
        "trusted": true
      },
      "outputs": [],
      "source": "filter(exp1, fish_id == 3)"
    },
    {
      "cell_type": "code",
      "execution_count": null,
      "metadata": {
        "cell_id": "98dfdf83-5afd-4c41-bbe2-265396710988",
        "deepnote_cell_height": 98.953125,
        "deepnote_cell_type": "code",
        "deepnote_to_be_reexecuted": false,
        "execution_millis": 130,
        "execution_start": 1644293562326,
        "output_cleared": false,
        "source_hash": "1fe90fb2",
        "tags": [],
        "trusted": true
      },
      "outputs": [],
      "source": "# a visualization that will color fish #3's dot in a different color\n#gf_jitter(depth ~ infected, data = exp1, width = .2, height = .2, size = 4, color = ~fish_id == 3) "
    },
    {
      "cell_type": "markdown",
      "metadata": {
        "cell_id": "85285060-d00f-4f1c-875b-2a9fe1036d26",
        "deepnote_cell_height": 111.140625,
        "deepnote_cell_type": "markdown",
        "tags": []
      },
      "source": "**2.3:** Could we have gotten a distribution of data like this if parasites didn't really affect swimming in the Data Generating Process? How would we represent that as the word equation? \n\n(Could we try it in R somehow?)"
    },
    {
      "cell_type": "code",
      "execution_count": null,
      "metadata": {
        "cell_id": "878c6868-3556-4f42-ae91-9aa43164bf0d",
        "deepnote_cell_height": 98.953125,
        "deepnote_cell_type": "code",
        "deepnote_to_be_reexecuted": false,
        "execution_millis": 13,
        "execution_start": 1644293698067,
        "output_cleared": false,
        "source_hash": "a0d8dee6",
        "tags": [],
        "trusted": true
      },
      "outputs": [],
      "source": "# Modify this code to mimic a no-effect-of-parasites DGP\n#gf_jitter(depth ~ infected, data = exp1, width = .2, height = .2, size = 4, color = ~fish_id == 3)"
    },
    {
      "cell_type": "markdown",
      "metadata": {
        "cell_id": "00020-74c8f09a-0d07-49d7-a3a7-3d28ddca5248",
        "deepnote_cell_height": 74.75,
        "deepnote_cell_type": "markdown",
        "deepnote_to_be_reexecuted": false,
        "execution_millis": 1,
        "execution_start": 1635999232363,
        "source_hash": "37518c93",
        "tags": []
      },
      "source": "**2.4, Discussion:** If eye flukes don't change their host's behavior, would fish #3 have acted differently even if it was infected? "
    },
    {
      "cell_type": "markdown",
      "metadata": {
        "cell_id": "00022-15ae9c58-7923-4346-97bb-acbf4ef5e7f8",
        "deepnote_cell_height": 69.96875,
        "deepnote_cell_type": "markdown",
        "tags": []
      },
      "source": "## 3.0: Model Variation in the Sample"
    },
    {
      "cell_type": "markdown",
      "metadata": {
        "cell_id": "00023-265be5d6-ec66-445e-a3cc-c312a4edbd9f",
        "deepnote_cell_height": 125.34375,
        "deepnote_cell_type": "markdown",
        "nbsimplegrader": {
          "config_key": "markdown.response",
          "editable": true,
          "label": "Response: Markdown",
          "respondable": true,
          "response": null,
          "runnable": true,
          "type": "markdown"
        },
        "tags": []
      },
      "source": "**3.1:** What's the best fitting model of the data based on the researchers' hypothesis? \n\nSpecify and fit a formal model (in GLM format). \n\n$Y_i = ... + e_i$"
    },
    {
      "cell_type": "markdown",
      "metadata": {
        "cell_id": "00024-14c840e7-89e6-4ae0-8242-e867f26c418a",
        "deepnote_cell_height": 128.546875,
        "deepnote_cell_type": "markdown",
        "nbsimplegrader": {
          "config_key": "markdown.response",
          "editable": true,
          "label": "Response: Markdown",
          "respondable": true,
          "response": null,
          "runnable": true,
          "type": "markdown"
        },
        "tags": []
      },
      "source": "**3.2:** Interpret the best fitting estimates in that model  by connecting it to the visualization below.\n\n- $b_0$: \n- $b_1$:"
    },
    {
      "cell_type": "code",
      "execution_count": null,
      "metadata": {
        "cell_id": "00025-f45cbdde-5779-44d0-ad43-2299b66bfcdc",
        "deepnote_cell_height": 554.953125,
        "deepnote_cell_type": "code",
        "deepnote_output_heights": [
          445
        ],
        "deepnote_to_be_reexecuted": false,
        "execution_millis": 178,
        "execution_start": 1644274720887,
        "output_cleared": false,
        "source_hash": "9f4ccd57",
        "tags": [],
        "trusted": true
      },
      "outputs": [],
      "source": "gf_jitter(depth ~ infected, data = exp1, width = .2, height = .2, size = 4) %>%\ngf_model(depth ~ infected, data = exp1)"
    },
    {
      "cell_type": "markdown",
      "metadata": {
        "cell_id": "00026-9491c3d0-59d0-494a-8fa6-112609708b81",
        "deepnote_cell_height": 69.96875,
        "deepnote_cell_type": "markdown",
        "tags": []
      },
      "source": "## 4.0: But what's the best model of the DGP?"
    },
    {
      "cell_type": "markdown",
      "metadata": {
        "cell_id": "00027-d5025ecc-e6dd-4e02-a16d-d4c11a40c258",
        "deepnote_cell_height": 74.75,
        "deepnote_cell_type": "markdown",
        "nbsimplegrader": {
          "config_key": "markdown.response",
          "editable": true,
          "label": "Response: Markdown",
          "respondable": true,
          "response": null,
          "runnable": true,
          "type": "markdown"
        },
        "tags": []
      },
      "source": "**4.1a:** Is it possible that there is no difference between these two groups in the DGP? If so, how would we represent that hypothesis in GLM notation? "
    },
    {
      "cell_type": "markdown",
      "metadata": {
        "cell_id": "3a5c03c0-3858-4eea-acf8-1d475ec18887",
        "deepnote_cell_height": 74.75,
        "deepnote_cell_type": "markdown",
        "tags": []
      },
      "source": "**4.1b:** Is it possible that the researchers are right and infected fish really are different from uninfected fish in the DGP? If so, how would we represent that hypothesis in GLM notation? "
    },
    {
      "cell_type": "markdown",
      "metadata": {
        "cell_id": "4a587159-eb20-4a4a-ba05-457cd94bb107",
        "deepnote_cell_height": 75.15625,
        "deepnote_cell_type": "markdown",
        "tags": []
      },
      "source": "**4.2:** What is our best guess for the $\\beta_1$ in the two equations above? What would happen to the 2nd model if $\\beta_1 = 0$? "
    },
    {
      "cell_type": "markdown",
      "metadata": {
        "cell_id": "00032-3f7f8501-e1f4-4528-bcdd-4341ab6b358c",
        "deepnote_cell_height": 74.953125,
        "deepnote_cell_type": "markdown",
        "tags": []
      },
      "source": "**4.3:** Could the $\\beta_1$ in the DGP be a different number than either of the two numbers above? What else could it be? "
    },
    {
      "cell_type": "markdown",
      "metadata": {
        "cell_id": "00034-81fac900-8f96-487a-8d5a-58df4234f151",
        "deepnote_cell_height": 109.96875,
        "deepnote_cell_type": "markdown",
        "tags": []
      },
      "source": "## 5.0: Simulating a DGP where there is no effect of parasite"
    },
    {
      "cell_type": "markdown",
      "metadata": {
        "cell_id": "00035-6ff80f13-e4c0-484f-bac0-5e426e4f7db6",
        "deepnote_cell_height": 97.5625,
        "deepnote_cell_type": "markdown",
        "tags": []
      },
      "source": "We can simulate a DGP with a certain $\\beta_1$ (such as $\\beta_1 = 0$, no effect of parasite infection) and look at all the $b_1$s that it can produce. Then we can ask: Does our sample seem \"unlikely\" to have come from this DGP? If so, then we might reject the empty model of the DGP."
    },
    {
      "cell_type": "markdown",
      "metadata": {
        "cell_id": "00037-19063bed-c943-468a-ac2b-e48a9a45b493",
        "deepnote_cell_height": 74.953125,
        "deepnote_cell_type": "markdown",
        "nbsimplegrader": {
          "config_key": "markdown.response",
          "editable": true,
          "label": "Response: Markdown",
          "respondable": true,
          "response": null,
          "runnable": true,
          "type": "markdown"
        },
        "tags": []
      },
      "source": "**5.1:** What kind of world does `shuffle()` mimic? Represent the shuffle DGP using GLM notation: $Y_i = \\beta_0 + \\beta_1 X_i + \\epsilon_i$"
    },
    {
      "cell_type": "markdown",
      "metadata": {
        "cell_id": "00038-2f367fd3-5635-461d-8bd1-d7e99517cbac",
        "deepnote_cell_height": 52.359375,
        "deepnote_cell_type": "markdown",
        "tags": []
      },
      "source": "**5.2a:** Run the code below a few times. Why does only one of the numbers change? "
    },
    {
      "cell_type": "code",
      "execution_count": null,
      "metadata": {
        "cell_id": "00039-f7a4ec34-e62a-4cd3-b4a0-8e1c834e6a3a",
        "deepnote_cell_height": 219.3125,
        "deepnote_cell_type": "code",
        "deepnote_to_be_reexecuted": false,
        "execution_millis": 16,
        "execution_start": 1644274721103,
        "nbsimplegrader": {
          "config_key": "code.run-only",
          "editable": false,
          "label": "Code: Run-Only",
          "respondable": false,
          "response": null,
          "runnable": true,
          "type": "code"
        },
        "output_cleared": false,
        "source_hash": "6f3416b0",
        "tags": [],
        "trusted": true
      },
      "outputs": [],
      "source": "sample_b1 <- b1(depth ~ infected, data = exp1)\nsample_b1\n\nb1(shuffle(depth) ~ infected, data = exp1)"
    },
    {
      "cell_type": "markdown",
      "metadata": {
        "cell_id": "00040-796a5096-09d7-4d5e-8618-e2068bc9512b",
        "deepnote_cell_height": 52.359375,
        "deepnote_cell_type": "markdown"
      },
      "source": "**5.2b:** What does the shuffled `b1` mean?"
    },
    {
      "cell_type": "markdown",
      "metadata": {
        "cell_id": "d87e36db-ad0d-44ed-a55a-d1206df4bb1f",
        "deepnote_cell_height": 128.75,
        "deepnote_cell_type": "markdown",
        "tags": []
      },
      "source": "**5.3:** Which of the following are shuffled data? Which one is the real data?\n\n(Also, eyeball the values of the shuffled `b1`s. How are they different from the sample `b1`?)\n\n<img src=\"https://i.postimg.cc/9mndF9qP/image.png\" alt=\"a 3x3 panel of 8 shuffled data and one real data\">"
    },
    {
      "cell_type": "markdown",
      "metadata": {
        "cell_id": "00044-f7248bb7-b79f-47dc-8b8b-fc393b588e3c",
        "deepnote_cell_height": 52.5625,
        "deepnote_cell_type": "markdown",
        "tags": []
      },
      "source": "**5.4:** Here is code for a single shuffled $b_1$. Try creating a sampling distribution of 1000 shuffled $b_1$s. "
    },
    {
      "cell_type": "code",
      "execution_count": null,
      "metadata": {
        "cell_id": "00045-368b5983-c0bb-4c96-93cd-5df0d35f8c1a",
        "deepnote_cell_height": 113.140625,
        "deepnote_cell_type": "code",
        "deepnote_to_be_reexecuted": false,
        "execution_millis": 15,
        "execution_start": 1644274721104,
        "nbsimplegrader": {
          "config_key": "code.response",
          "editable": true,
          "label": "Response: Code",
          "respondable": true,
          "response": null,
          "runnable": true,
          "type": "code"
        },
        "output_cleared": false,
        "source_hash": "d105bbed",
        "tags": [],
        "trusted": true
      },
      "outputs": [],
      "source": "b1(shuffle(depth) ~ infected, data = exp1)"
    },
    {
      "cell_type": "markdown",
      "metadata": {
        "cell_id": "00046-339bc16a-6685-459a-aa20-1bb94b9423c9",
        "deepnote_cell_height": 111.34375,
        "deepnote_cell_type": "markdown",
        "tags": []
      },
      "source": "**5.5:** Make a visualization of the sampling distribution of $b_1$ you created. What's the shape, center, spread of this distribution?\n\n(Are any of these)"
    },
    {
      "cell_type": "markdown",
      "metadata": {
        "cell_id": "00049-6dc0dcf7-4ac9-4d17-8a52-5bd67dece6b8",
        "deepnote_cell_height": 69.96875,
        "deepnote_cell_type": "markdown",
        "tags": []
      },
      "source": "## 6.0: Bringing in our sample"
    },
    {
      "cell_type": "markdown",
      "metadata": {
        "cell_id": "00050-06206610-00d2-4409-8a1f-2938f32ab7f3",
        "deepnote_cell_height": 74.75,
        "deepnote_cell_type": "markdown",
        "tags": []
      },
      "source": "**6.1:** Where does our sample fall relative to this sampling distribution? Is it one of the \"unlikely\" samples?"
    },
    {
      "cell_type": "code",
      "execution_count": null,
      "metadata": {
        "cell_id": "d4be2471-002a-448f-b3e0-ec293101e17b",
        "deepnote_cell_height": 590.953125,
        "deepnote_cell_type": "code",
        "deepnote_output_heights": [
          445
        ],
        "deepnote_to_be_reexecuted": false,
        "execution_millis": 1623,
        "execution_start": 1644274721105,
        "output_cleared": false,
        "owner_user_id": "65abe037-acab-4951-bbc9-907a4ef12e8f",
        "source_hash": "bb28c568",
        "tags": [],
        "trusted": true
      },
      "outputs": [],
      "source": "sdob1 <- do(1000) * b1(shuffle(depth) ~ infected, data = exp1)\n\n# Add our sample to the distribution\ngf_histogram(~b1, data = sdob1, fill = ~middle(b1, .95), bins=100)"
    },
    {
      "cell_type": "markdown",
      "metadata": {
        "cell_id": "f8a8285f-ffcc-4323-a3b3-3a5611d3693c",
        "deepnote_cell_height": 206.9375,
        "deepnote_cell_type": "markdown",
        "tags": []
      },
      "source": "Let's recap what all this means using our [distribution triad diagram](https://docs.google.com/presentation/d/1PTEFZGFKLX6mDa3GeceXkkmFTNEOOy2k1K6Tg3InVas/copy)\n\nWe started off thinking, \"Maybe there is no effect of parasites on swimming behavior. Fish are going to swim at the same depth whether they are infected or not.\" We call that the empty model (so $\\beta_1=0$). This is what we simulated when we did all these shuffles.\n\nBut our real sample is an unlikely $b_1$ from the empty model of the DGP.\n\n(Fill in the $\\beta_1$ and $b_1$ values on the diagram and move the distributions around accordingly.)"
    },
    {
      "cell_type": "markdown",
      "metadata": {
        "cell_id": "300caad1-386a-437f-a681-ace33b6a99f5",
        "deepnote_cell_height": 52.359375,
        "deepnote_cell_type": "markdown",
        "tags": []
      },
      "source": "**6.2:** So what do you think about the empty model as a possible model of the DGP?"
    },
    {
      "cell_type": "markdown",
      "metadata": {
        "cell_id": "a654121f-61f0-4277-b6a1-c7566cc90275",
        "deepnote_cell_height": 52.359375,
        "deepnote_cell_type": "markdown",
        "tags": []
      },
      "source": "**6.3:** Going back to the researchers, what does this mean for their hypothesis? "
    }
  ],
  "metadata": {
    "celltoolbar": "nbsimplegrader",
    "deepnote": {},
    "deepnote_execution_queue": [],
    "deepnote_notebook_id": "89e8f75e-3602-4a4a-b12c-3e75deecd8e1",
    "kernelspec": {
      "display_name": "R",
      "language": "R",
      "name": "ir"
    },
    "language_info": {
      "codemirror_mode": "r",
      "file_extension": ".r",
      "mimetype": "text/x-r-source",
      "name": "R",
      "pygments_lexer": "r",
      "version": "4.0.3"
    },
    "nbsimplegrader": {
      "publish_config": {
        "classes": [],
        "options": {},
        "tools": []
      }
    }
  },
  "nbformat": 4,
  "nbformat_minor": 4
}