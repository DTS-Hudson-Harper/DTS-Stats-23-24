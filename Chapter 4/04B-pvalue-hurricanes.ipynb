{
  "cells": [
    {
      "cell_type": "markdown",
      "metadata": {
        "cell_id": "289c2f7c-9d71-4277-be68-522c0397534c",
        "deepnote_cell_height": 69.96875,
        "deepnote_cell_type": "markdown"
      },
      "source": "## 4B: Hurricanes and Veeries"
    },
    {
      "cell_type": "code",
      "execution_count": null,
      "metadata": {
        "cell_id": "2e3ce151-6b94-4f0c-8b81-71dce2da4c95",
        "deepnote_cell_height": 206.953125,
        "deepnote_cell_type": "code",
        "deepnote_to_be_reexecuted": false,
        "execution_millis": 4097,
        "execution_start": 1642805538328,
        "source_hash": "83217f29",
        "trusted": true
      },
      "outputs": [],
      "source": "# This code will load the R packages we will use\n\nsuppressPackageStartupMessages({\n    library(coursekata)\n})\n\nVeery <- read.csv(\"https://docs.google.com/spreadsheets/d/e/2PACX-1vQy-n34dB-oaBStfl8fRT-RXbeVOLtB3TldjOPpXDxCjqdAkhBDrIfJED6lLgrTIpRcIOxk4Xm204qU/pub?gid=1856214631&single=true&output=csv\", header=TRUE)\n"
    },
    {
      "cell_type": "markdown",
      "metadata": {
        "cell_id": "00002-04596f63-8469-4b97-91b1-8fb359d405c9",
        "deepnote_cell_height": 69.96875,
        "deepnote_cell_type": "markdown"
      },
      "source": "## 1.0: The Research Question & Data"
    },
    {
      "cell_type": "markdown",
      "metadata": {
        "cell_id": "8c105247-7685-4704-abf2-3d555c3c638f",
        "deepnote_cell_height": 587.015625,
        "deepnote_cell_type": "markdown"
      },
      "source": "Hurricanes are one of the costliest and most deadly natural weather disasters. It would be helpful to predict which hurricanes are going to be stronger and more destructive.\n\n<img src=\"https://i.postimg.cc/Qs0Hd4Bf/image.png\" width=500 align=\"left\" style=\"float: left; padding: 10px;\" alt=\"veery and map of veery migration\">Not only are humans affected by hurricanes, so are animal species. For example, the veery (a  songbird) breed and nest in North America in the **spring** but migrate to South America for the **winter**. \n\nComplicating their lives, 93% of all major hurricanes in the Atlantic basin are formed during peak southbound songbird migration (August through October).\n\nResearcher Christopher M. Heckscher was interested in whether animal behavior might help us predict hurricane strength. He gathered data from 1998-2016 on the Veery population in Delaware, USA, as well as the annual hurricane strength\n([Heckscher's article](https://www.nature.com/articles/s41598-018-28302-3#Sec5)).\n"
    },
    {
      "cell_type": "markdown",
      "metadata": {
        "cell_id": "00004-2dd9d786-352d-490f-a40e-628f62162286",
        "deepnote_cell_height": 390.046875,
        "deepnote_cell_type": "markdown"
      },
      "source": "\nWe will explore a data frame called `Veery`. \n\nThese are the variables in this data frame:\n\n- `ACE` Accumulated Cyclone Energy (hurricane strength) for the Atlantic region for that year\n- `Year` The year the data were collected (*Note: there are no data for the year 2008)\n- `Mean_CID` The mean clutch initiation date (all in the month of May) that year\n- `Min_CID` The minimum clutch initiation date (all in May)\n- `Max_CID` The maximum clutch initiation date (dates in May or June; June dates are recorded as 31 days in May + days in June; for example June 6 is expressed as 31 + 6 = 37)\n- `SE_CID` The standard error for the clutch initiation date\n- `Mean_clutchsize` The mean clutch size\n- `Min_CS` The minimum clutch size\n- `Max_CS` The maximum clutch size\n- `SE_CS` The standard error for the clutch size"
    },
    {
      "cell_type": "markdown",
      "metadata": {
        "cell_id": "00005-43738ab3-e0f9-46b4-b5c5-f080c9aa900f",
        "deepnote_cell_height": 206.328125,
        "deepnote_cell_type": "markdown"
      },
      "source": "Heckscher hypothesized that years when hurricanes are more severe, these Delaware veeries might need more time and flexibility to cross the Gulf of Mexico. He had two hypotheses:\n\nA. Large Veery clutch size (the number of eggs they laid) would predict a strong hurricane season.\n\nB. Earlier clutch initiation date (the date the birds began laying eggs in their clutch) would also predict strong hurricanes.\n\n**1.1:** Write these hypotheses as word equations (using variables from the `Veery` data frame)."
    },
    {
      "cell_type": "markdown",
      "metadata": {
        "cell_id": "00006-1c5703bc-d0b7-43fb-8254-0a94b927154d",
        "deepnote_cell_height": 88.75,
        "deepnote_cell_type": "markdown",
        "nbsimplegrader": {
          "config_key": "markdown.response",
          "editable": true,
          "label": "Response: Markdown",
          "respondable": true,
          "response": null,
          "runnable": true,
          "type": "markdown"
        }
      },
      "source": "A.\n\nB."
    },
    {
      "cell_type": "markdown",
      "metadata": {
        "cell_id": "00007-2e32b1a1-a04d-48a9-8ced-1ae75b3128e5",
        "deepnote_cell_height": 144.75,
        "deepnote_cell_type": "markdown"
      },
      "source": "## 2.0: Explore Variation & Model Variation\n\nOdd numbered groups, you are assigned to the clutch size hypothesis (A).\n\nEven numbered groups, you are assigned to the clutch initiation date hypothesis (B)."
    },
    {
      "cell_type": "markdown",
      "metadata": {
        "cell_id": "00008-0e3630e3-a42d-4f1e-a88e-84323814b8e6",
        "deepnote_cell_height": 52.359375,
        "deepnote_cell_type": "markdown"
      },
      "source": "**2.1:** Explore your hypothesis with a visualization."
    },
    {
      "cell_type": "code",
      "execution_count": null,
      "metadata": {
        "cell_id": "00009-1bacde34-9fef-4615-9e2e-5977f3ba028c",
        "deepnote_cell_height": 75.953125,
        "deepnote_cell_type": "code",
        "deepnote_to_be_reexecuted": false,
        "execution_millis": 7,
        "execution_start": 1642805542466,
        "nbsimplegrader": {
          "config_key": "code.response",
          "editable": true,
          "label": "Response: Code",
          "respondable": true,
          "response": null,
          "runnable": true,
          "type": "code"
        },
        "source_hash": "b623e53d",
        "trusted": true
      },
      "outputs": [],
      "source": ""
    },
    {
      "cell_type": "markdown",
      "metadata": {
        "cell_id": "00010-d7d0066c-246c-4445-aabc-7045bf017f9f",
        "deepnote_cell_height": 52.359375,
        "deepnote_cell_type": "markdown"
      },
      "source": "**2.2:** Model your hypothesis and write the best fitting model in GLM notation."
    },
    {
      "cell_type": "code",
      "execution_count": null,
      "metadata": {
        "cell_id": "00011-4d0478c2-dfdc-4dbe-b060-4d14ee8fdd72",
        "deepnote_cell_height": 75.953125,
        "deepnote_cell_type": "code",
        "deepnote_to_be_reexecuted": false,
        "execution_millis": 12,
        "execution_start": 1642805542480,
        "nbsimplegrader": {
          "config_key": "code.response",
          "editable": true,
          "label": "Response: Code",
          "respondable": true,
          "response": null,
          "runnable": true,
          "type": "code"
        },
        "source_hash": "b623e53d",
        "trusted": true
      },
      "outputs": [],
      "source": ""
    },
    {
      "cell_type": "markdown",
      "metadata": {
        "cell_id": "00012-9f52c377-1552-4474-aa3d-80dada0dc95d",
        "deepnote_cell_height": 45.96875,
        "deepnote_cell_type": "markdown",
        "nbsimplegrader": {
          "config_key": "markdown.response",
          "editable": true,
          "label": "Response: Markdown",
          "respondable": true,
          "response": null,
          "runnable": true,
          "type": "markdown"
        }
      },
      "source": ""
    },
    {
      "cell_type": "markdown",
      "metadata": {
        "cell_id": "dd44adf7-85d5-4d67-b5bd-7266487cf694",
        "deepnote_cell_height": 52.359375,
        "deepnote_cell_type": "markdown"
      },
      "source": "**2.3:** Interpret the best fitting values of the parameter estimates in this model."
    },
    {
      "cell_type": "markdown",
      "metadata": {
        "cell_id": "00014-1bb40d20-e960-4376-bdcd-00170d976f4a",
        "deepnote_cell_height": 95.15625,
        "deepnote_cell_type": "markdown",
        "nbsimplegrader": {
          "config_key": "markdown.response",
          "editable": true,
          "label": "Response: Markdown",
          "respondable": true,
          "response": null,
          "runnable": true,
          "type": "markdown"
        }
      },
      "source": "- $b_0$:\n- $b_1$:"
    },
    {
      "cell_type": "markdown",
      "metadata": {
        "cell_id": "bd2d76a4-182f-471c-aeab-47b452686d15",
        "deepnote_cell_height": 69.96875,
        "deepnote_cell_type": "markdown"
      },
      "source": "## 3.0: Evaluate Models"
    },
    {
      "cell_type": "markdown",
      "metadata": {
        "cell_id": "00016-72b9d276-19ed-472c-9937-f11fc63e1506",
        "deepnote_cell_height": 97.765625,
        "deepnote_cell_type": "markdown"
      },
      "source": "**3.1:** Is it likely that we could have gotten this sample $b_{1}$ or one that was more extreme if the true $\\beta_{1}$ was 0? (Assume we define likely as *.95 of the most frequent values of $b_1$ generated by a particular $\\beta_1$*.)"
    },
    {
      "cell_type": "code",
      "execution_count": null,
      "metadata": {
        "cell_id": "00017-9eda9ef2-fe65-4840-a78e-0aaf76f938e6",
        "deepnote_cell_height": 93.953125,
        "deepnote_cell_type": "code",
        "deepnote_to_be_reexecuted": false,
        "execution_millis": 0,
        "execution_start": 1642805542509,
        "nbsimplegrader": {
          "config_key": "code.response",
          "editable": true,
          "label": "Response: Code",
          "respondable": true,
          "response": null,
          "runnable": true,
          "type": "code"
        },
        "source_hash": "5908427b",
        "trusted": true
      },
      "outputs": [],
      "source": "# use any code or strategy to answer this question\n"
    },
    {
      "cell_type": "markdown",
      "metadata": {
        "cell_id": "00018-602fac80-8062-4e98-a179-fdf90c0a6ad1",
        "deepnote_cell_height": 52.359375,
        "deepnote_cell_type": "markdown",
        "nbsimplegrader": {
          "config_key": "markdown.response",
          "editable": true,
          "label": "Response: Markdown",
          "respondable": true,
          "response": null,
          "runnable": true,
          "type": "markdown"
        }
      },
      "source": "**3.2:** Explain your strategy and answer."
    },
    {
      "cell_type": "markdown",
      "metadata": {
        "cell_id": "4fdc246b-3e67-4d13-9bd7-c82c46cf562b",
        "deepnote_cell_height": 74.75,
        "deepnote_cell_type": "markdown",
        "tags": []
      },
      "source": "**3.3:** What are some alternate strategies that could have been used (or that other students used)? Is one strategy better than another?"
    },
    {
      "cell_type": "markdown",
      "metadata": {
        "cell_id": "00019-fbcf52a1-f2d9-4853-8f26-27e0d79edd0c",
        "deepnote_cell_height": 69.96875,
        "deepnote_cell_type": "markdown"
      },
      "source": "## 4.0: Conclusions"
    },
    {
      "cell_type": "markdown",
      "metadata": {
        "cell_id": "00020-84063c20-05d3-44fe-ba72-e062af09f1f8",
        "deepnote_cell_height": 52.359375,
        "deepnote_cell_type": "markdown"
      },
      "source": "4.1: So should we use one or both or none of these bird behaviors to predict hurricane strength?"
    },
    {
      "cell_type": "markdown",
      "metadata": {
        "cell_id": "00024-1b16dac9-f8e5-4713-8b63-c234a5257e4c",
        "deepnote_cell_height": 52.359375,
        "deepnote_cell_type": "markdown"
      },
      "source": "4.2: Does this bird behavior CAUSE hurricanes to be stronger? What is going on?"
    },
    {
      "cell_type": "markdown",
      "metadata": {
        "cell_id": "00021-51867591-4955-4c08-a5c6-4e5f4fd1bf9d",
        "deepnote_cell_height": 45.96875,
        "deepnote_cell_type": "markdown",
        "nbsimplegrader": {
          "config_key": "markdown.response",
          "editable": true,
          "label": "Response: Markdown",
          "respondable": true,
          "response": null,
          "runnable": true,
          "type": "markdown"
        }
      },
      "source": ""
    }
  ],
  "metadata": {
    "celltoolbar": "nbsimplegrader",
    "deepnote": {},
    "deepnote_execution_queue": [],
    "deepnote_notebook_id": "924c1fa0-4046-46c2-9b73-2f342a43006e",
    "kernelspec": {
      "display_name": "R",
      "language": "R",
      "name": "ir"
    },
    "language_info": {
      "codemirror_mode": "r",
      "file_extension": ".r",
      "mimetype": "text/x-r-source",
      "name": "R",
      "pygments_lexer": "r",
      "version": "4.0.3"
    },
    "nbsimplegrader": {
      "publish_config": {
        "classes": [],
        "options": {},
        "tools": []
      }
    }
  },
  "nbformat": 4,
  "nbformat_minor": 2
}