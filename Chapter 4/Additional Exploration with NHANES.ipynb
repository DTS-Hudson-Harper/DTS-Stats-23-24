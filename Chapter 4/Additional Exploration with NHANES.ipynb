{
  "cells": [
    {
      "metadata": {},
      "id": "b294f550",
      "cell_type": "markdown",
      "source": "# Examining Differences in Health Outcomes\n\nInformation about the National Health and Nutrition Examination Survey can be found here:\n\nhttps://wwwn.cdc.gov/nchs/nhanes/search/datapage.aspx?Component=Questionnaire&CycleBeginYear=2015\n\nIn this notebook, we have data from the 2016 edition of the NHANES dataset. You can begin exploring differences in health outcomes by first modeling systolic blood pressure in terms of gender. This is a template for other exploration you might be able to do.\\\n\nThe variable/column for systolic blood pressure is BPXSY1."
    },
    {
      "metadata": {
        "trusted": true
      },
      "id": "48222791",
      "cell_type": "code",
      "source": "library(\"coursekata\")\n\nnhanes.2016 <- read.csv(\"https://github.com/DTS-Hudson-Harper/M401-Resources/blob/main/SwR%20Chapter%206/nhanes_2015-2016_ch6.csv?raw=true\")",
      "execution_count": 1,
      "outputs": [
        {
          "output_type": "stream",
          "text": "── \u001b[1mCourseKata packages\u001b[22m ──────────────────────────────────── \u001b[1mcoursekata 0.14.1\u001b[22m ──\n\u001b[32m✔\u001b[39m \u001b[32mdslabs             \u001b[39m 0.7.6       \u001b[32m✔\u001b[39m \u001b[32mMetrics            \u001b[39m 0.1.4\n\u001b[32m✔\u001b[39m \u001b[32mLock5withR         \u001b[39m 1.2.2       \u001b[32m✔\u001b[39m \u001b[32mlsr                \u001b[39m 0.5.2\n\u001b[32m✔\u001b[39m \u001b[32mfivethirtyeightdata\u001b[39m 0.1.0       \u001b[32m✔\u001b[39m \u001b[32mmosaic             \u001b[39m 1.9.0\n\u001b[32m✔\u001b[39m \u001b[32mfivethirtyeight    \u001b[39m 0.6.2       \u001b[32m✔\u001b[39m \u001b[32msupernova          \u001b[39m 2.5.8\n",
          "name": "stderr"
        }
      ]
    },
    {
      "metadata": {
        "trusted": true
      },
      "id": "e48e24a7",
      "cell_type": "code",
      "source": "# add labels to sex and rename variables\nnhanes.2016.cleaned <- nhanes.2016 %>%\n  mutate(RIAGENDR = recode_factor(.x = RIAGENDR,\n                                  `1` = 'Male',\n                                  `2` = 'Female')) %>%\n  rename(sex = RIAGENDR) %>%\n  rename(systolic = BPXSY1)\n\nhead(nhanes.2016.cleaned)",
      "execution_count": 2,
      "outputs": [
        {
          "output_type": "display_data",
          "data": {
            "text/html": "<table class=\"dataframe\">\n<caption>A data.frame: 6 × 71</caption>\n<thead>\n\t<tr><th></th><th scope=col>SEQN</th><th scope=col>cycle</th><th scope=col>SDDSRVYR</th><th scope=col>RIDSTATR</th><th scope=col>sex</th><th scope=col>RIDAGEYR</th><th scope=col>RIDAGEMN</th><th scope=col>RIDRETH1</th><th scope=col>RIDRETH3</th><th scope=col>RIDEXMON</th><th scope=col>⋯</th><th scope=col>BPAEN2</th><th scope=col>BPXSY3</th><th scope=col>BPXDI3</th><th scope=col>BPAEN3</th><th scope=col>BPXSY4</th><th scope=col>BPXDI4</th><th scope=col>BPAEN4</th><th scope=col>file_name</th><th scope=col>begin_year</th><th scope=col>end_year</th></tr>\n\t<tr><th></th><th scope=col>&lt;int&gt;</th><th scope=col>&lt;chr&gt;</th><th scope=col>&lt;int&gt;</th><th scope=col>&lt;int&gt;</th><th scope=col>&lt;fct&gt;</th><th scope=col>&lt;int&gt;</th><th scope=col>&lt;int&gt;</th><th scope=col>&lt;int&gt;</th><th scope=col>&lt;int&gt;</th><th scope=col>&lt;int&gt;</th><th scope=col>⋯</th><th scope=col>&lt;int&gt;</th><th scope=col>&lt;int&gt;</th><th scope=col>&lt;int&gt;</th><th scope=col>&lt;int&gt;</th><th scope=col>&lt;int&gt;</th><th scope=col>&lt;int&gt;</th><th scope=col>&lt;int&gt;</th><th scope=col>&lt;chr&gt;</th><th scope=col>&lt;int&gt;</th><th scope=col>&lt;int&gt;</th></tr>\n</thead>\n<tbody>\n\t<tr><th scope=row>1</th><td>83732</td><td>2015-2016</td><td>9</td><td>2</td><td>Male  </td><td>62</td><td>NA</td><td>3</td><td>3</td><td>1</td><td>⋯</td><td>2</td><td>116</td><td>62</td><td>2</td><td>NA</td><td>NA</td><td>NA</td><td>BPX_I</td><td>2015</td><td>2016</td></tr>\n\t<tr><th scope=row>2</th><td>83733</td><td>2015-2016</td><td>9</td><td>2</td><td>Male  </td><td>53</td><td>NA</td><td>3</td><td>3</td><td>1</td><td>⋯</td><td>2</td><td>134</td><td>82</td><td>2</td><td>NA</td><td>NA</td><td>NA</td><td>BPX_I</td><td>2015</td><td>2016</td></tr>\n\t<tr><th scope=row>3</th><td>83734</td><td>2015-2016</td><td>9</td><td>2</td><td>Male  </td><td>78</td><td>NA</td><td>3</td><td>3</td><td>2</td><td>⋯</td><td>2</td><td>136</td><td>46</td><td>2</td><td>NA</td><td>NA</td><td>NA</td><td>BPX_I</td><td>2015</td><td>2016</td></tr>\n\t<tr><th scope=row>4</th><td>83735</td><td>2015-2016</td><td>9</td><td>2</td><td>Female</td><td>56</td><td>NA</td><td>3</td><td>3</td><td>2</td><td>⋯</td><td>2</td><td>136</td><td>70</td><td>2</td><td>NA</td><td>NA</td><td>NA</td><td>BPX_I</td><td>2015</td><td>2016</td></tr>\n\t<tr><th scope=row>5</th><td>83736</td><td>2015-2016</td><td>9</td><td>2</td><td>Female</td><td>42</td><td>NA</td><td>4</td><td>4</td><td>2</td><td>⋯</td><td>2</td><td> 98</td><td>56</td><td>2</td><td>NA</td><td>NA</td><td>NA</td><td>BPX_I</td><td>2015</td><td>2016</td></tr>\n\t<tr><th scope=row>6</th><td>83737</td><td>2015-2016</td><td>9</td><td>2</td><td>Female</td><td>72</td><td>NA</td><td>1</td><td>1</td><td>1</td><td>⋯</td><td>2</td><td>120</td><td>60</td><td>2</td><td>NA</td><td>NA</td><td>NA</td><td>BPX_I</td><td>2015</td><td>2016</td></tr>\n</tbody>\n</table>\n",
            "text/markdown": "\nA data.frame: 6 × 71\n\n| <!--/--> | SEQN &lt;int&gt; | cycle &lt;chr&gt; | SDDSRVYR &lt;int&gt; | RIDSTATR &lt;int&gt; | sex &lt;fct&gt; | RIDAGEYR &lt;int&gt; | RIDAGEMN &lt;int&gt; | RIDRETH1 &lt;int&gt; | RIDRETH3 &lt;int&gt; | RIDEXMON &lt;int&gt; | ⋯ ⋯ | BPAEN2 &lt;int&gt; | BPXSY3 &lt;int&gt; | BPXDI3 &lt;int&gt; | BPAEN3 &lt;int&gt; | BPXSY4 &lt;int&gt; | BPXDI4 &lt;int&gt; | BPAEN4 &lt;int&gt; | file_name &lt;chr&gt; | begin_year &lt;int&gt; | end_year &lt;int&gt; |\n|---|---|---|---|---|---|---|---|---|---|---|---|---|---|---|---|---|---|---|---|---|---|\n| 1 | 83732 | 2015-2016 | 9 | 2 | Male   | 62 | NA | 3 | 3 | 1 | ⋯ | 2 | 116 | 62 | 2 | NA | NA | NA | BPX_I | 2015 | 2016 |\n| 2 | 83733 | 2015-2016 | 9 | 2 | Male   | 53 | NA | 3 | 3 | 1 | ⋯ | 2 | 134 | 82 | 2 | NA | NA | NA | BPX_I | 2015 | 2016 |\n| 3 | 83734 | 2015-2016 | 9 | 2 | Male   | 78 | NA | 3 | 3 | 2 | ⋯ | 2 | 136 | 46 | 2 | NA | NA | NA | BPX_I | 2015 | 2016 |\n| 4 | 83735 | 2015-2016 | 9 | 2 | Female | 56 | NA | 3 | 3 | 2 | ⋯ | 2 | 136 | 70 | 2 | NA | NA | NA | BPX_I | 2015 | 2016 |\n| 5 | 83736 | 2015-2016 | 9 | 2 | Female | 42 | NA | 4 | 4 | 2 | ⋯ | 2 |  98 | 56 | 2 | NA | NA | NA | BPX_I | 2015 | 2016 |\n| 6 | 83737 | 2015-2016 | 9 | 2 | Female | 72 | NA | 1 | 1 | 1 | ⋯ | 2 | 120 | 60 | 2 | NA | NA | NA | BPX_I | 2015 | 2016 |\n\n",
            "text/latex": "A data.frame: 6 × 71\n\\begin{tabular}{r|lllllllllllllllllllll}\n  & SEQN & cycle & SDDSRVYR & RIDSTATR & sex & RIDAGEYR & RIDAGEMN & RIDRETH1 & RIDRETH3 & RIDEXMON & ⋯ & BPAEN2 & BPXSY3 & BPXDI3 & BPAEN3 & BPXSY4 & BPXDI4 & BPAEN4 & file\\_name & begin\\_year & end\\_year\\\\\n  & <int> & <chr> & <int> & <int> & <fct> & <int> & <int> & <int> & <int> & <int> & ⋯ & <int> & <int> & <int> & <int> & <int> & <int> & <int> & <chr> & <int> & <int>\\\\\n\\hline\n\t1 & 83732 & 2015-2016 & 9 & 2 & Male   & 62 & NA & 3 & 3 & 1 & ⋯ & 2 & 116 & 62 & 2 & NA & NA & NA & BPX\\_I & 2015 & 2016\\\\\n\t2 & 83733 & 2015-2016 & 9 & 2 & Male   & 53 & NA & 3 & 3 & 1 & ⋯ & 2 & 134 & 82 & 2 & NA & NA & NA & BPX\\_I & 2015 & 2016\\\\\n\t3 & 83734 & 2015-2016 & 9 & 2 & Male   & 78 & NA & 3 & 3 & 2 & ⋯ & 2 & 136 & 46 & 2 & NA & NA & NA & BPX\\_I & 2015 & 2016\\\\\n\t4 & 83735 & 2015-2016 & 9 & 2 & Female & 56 & NA & 3 & 3 & 2 & ⋯ & 2 & 136 & 70 & 2 & NA & NA & NA & BPX\\_I & 2015 & 2016\\\\\n\t5 & 83736 & 2015-2016 & 9 & 2 & Female & 42 & NA & 4 & 4 & 2 & ⋯ & 2 &  98 & 56 & 2 & NA & NA & NA & BPX\\_I & 2015 & 2016\\\\\n\t6 & 83737 & 2015-2016 & 9 & 2 & Female & 72 & NA & 1 & 1 & 1 & ⋯ & 2 & 120 & 60 & 2 & NA & NA & NA & BPX\\_I & 2015 & 2016\\\\\n\\end{tabular}\n",
            "text/plain": "  SEQN  cycle     SDDSRVYR RIDSTATR sex    RIDAGEYR RIDAGEMN RIDRETH1 RIDRETH3\n1 83732 2015-2016 9        2        Male   62       NA       3        3       \n2 83733 2015-2016 9        2        Male   53       NA       3        3       \n3 83734 2015-2016 9        2        Male   78       NA       3        3       \n4 83735 2015-2016 9        2        Female 56       NA       3        3       \n5 83736 2015-2016 9        2        Female 42       NA       4        4       \n6 83737 2015-2016 9        2        Female 72       NA       1        1       \n  RIDEXMON ⋯ BPAEN2 BPXSY3 BPXDI3 BPAEN3 BPXSY4 BPXDI4 BPAEN4 file_name\n1 1        ⋯ 2      116    62     2      NA     NA     NA     BPX_I    \n2 1        ⋯ 2      134    82     2      NA     NA     NA     BPX_I    \n3 2        ⋯ 2      136    46     2      NA     NA     NA     BPX_I    \n4 2        ⋯ 2      136    70     2      NA     NA     NA     BPX_I    \n5 2        ⋯ 2       98    56     2      NA     NA     NA     BPX_I    \n6 1        ⋯ 2      120    60     2      NA     NA     NA     BPX_I    \n  begin_year end_year\n1 2015       2016    \n2 2015       2016    \n3 2015       2016    \n4 2015       2016    \n5 2015       2016    \n6 2015       2016    "
          },
          "metadata": {}
        }
      ]
    },
    {
      "metadata": {
        "trusted": true
      },
      "cell_type": "code",
      "source": "",
      "execution_count": null,
      "outputs": []
    }
  ],
  "metadata": {
    "kernelspec": {
      "name": "ir",
      "display_name": "R",
      "language": "R"
    },
    "language_info": {
      "name": "R",
      "codemirror_mode": "r",
      "pygments_lexer": "r",
      "mimetype": "text/x-r-source",
      "file_extension": ".r",
      "version": "4.3.2"
    }
  },
  "nbformat": 4,
  "nbformat_minor": 5
}